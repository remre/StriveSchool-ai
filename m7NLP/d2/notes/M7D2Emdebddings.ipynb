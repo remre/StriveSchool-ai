{
  "nbformat": 4,
  "nbformat_minor": 0,
  "metadata": {
    "colab": {
      "name": "M7D2Emdebddings.ipynb",
      "provenance": [],
      "collapsed_sections": [],
      "authorship_tag": "ABX9TyNMrej8UIHXnr/22IYvLL/H",
      "include_colab_link": true
    },
    "kernelspec": {
      "name": "python3",
      "display_name": "Python 3"
    },
    "language_info": {
      "name": "python"
    }
  },
  "cells": [
    {
      "cell_type": "markdown",
      "metadata": {
        "id": "view-in-github",
        "colab_type": "text"
      },
      "source": [
        "<a href=\"https://colab.research.google.com/github/remre/StriveSchool-ai/blob/main/m7NLP/d2/notes/M7D2Emdebddings.ipynb\" target=\"_parent\"><img src=\"https://colab.research.google.com/assets/colab-badge.svg\" alt=\"Open In Colab\"/></a>"
      ]
    },
    {
      "cell_type": "code",
      "metadata": {
        "id": "TsRhdWqvOYkj"
      },
      "source": [
        "import torch\n",
        "import spacy\n",
        "import pandas as pd \n",
        "import numpy as np\n"
      ],
      "execution_count": 4,
      "outputs": []
    },
    {
      "cell_type": "code",
      "metadata": {
        "id": "VuuuPol8Pgum"
      },
      "source": [
        "from torch import nn"
      ],
      "execution_count": 5,
      "outputs": []
    },
    {
      "cell_type": "code",
      "metadata": {
        "id": "zb7pDfbfPZSF"
      },
      "source": [
        "import gensim"
      ],
      "execution_count": 7,
      "outputs": []
    },
    {
      "cell_type": "code",
      "metadata": {
        "id": "G4CbcC3tws5o"
      },
      "source": [
        "#get rid of punctuations and save another txt with clean text\n",
        "def preprocess(pth):\n",
        "\n",
        "  with open(pth, 'r') as f:\n",
        "    lines = f.readlines()\n",
        "\n",
        "    for i in range(len(lines)):\n",
        "      lines[i] = lines[i].replace('.','').replace('/','').replace(\"'\",'').replace('\"','').replace(';','').replace(':','').replace('!','').replace('?','').replace('-','').replace(',','')\n",
        "    with open('processed1.txt','w') as p:\n",
        "      p.writelines(lines)\n",
        "preprocess('/content/blakepoems.txt')\n",
        "\n"
      ],
      "execution_count": 10,
      "outputs": []
    },
    {
      "cell_type": "code",
      "metadata": {
        "id": "5QLSr12D3idC"
      },
      "source": [
        "def get_sentence(pth):\n",
        "\n",
        "  f = open(pth, 'r')\n",
        "\n",
        "\n",
        "  lines = f.readlines()\n",
        "\n",
        "  sentences = [line.lower().split() for line in lines]\n",
        "\n",
        "  i = 0 \n",
        "\n",
        "  while i < len(sentences):\n",
        "\n",
        "\n",
        "    if sentences[i] == []:\n",
        "      sentences.pop(i)\n",
        "    else:\n",
        "      i +=1\n",
        "\n",
        "\n",
        "  f.close()\n",
        "\n",
        "  return sentences\n",
        "\n",
        "#def clean_sentences(sentences):\n",
        "\n"
      ],
      "execution_count": 22,
      "outputs": []
    },
    {
      "cell_type": "code",
      "metadata": {
        "id": "rfnhHAek5llP"
      },
      "source": [
        "k = get_sentence('/content/blakepoems.txt')\n",
        "k"
      ],
      "execution_count": null,
      "outputs": []
    },
    {
      "cell_type": "code",
      "metadata": {
        "colab": {
          "base_uri": "https://localhost:8080/"
        },
        "id": "bE-kf3So5sqe",
        "outputId": "a259cc5c-4b6b-4d4b-f31a-a95dac8a359c"
      },
      "source": [
        "def get_dicts(sentences):\n",
        "\n",
        "  vocab = []\n",
        "\n",
        "  for sentence in sentences:\n",
        "    for token in sentence:\n",
        "\n",
        "      if token not in vocab:\n",
        "\n",
        "        vocab.append(token)\n",
        "\n",
        "  w2i = { w: i for (i,w) in enumerate(vocab) }\n",
        "  i2w = { i: w for (i,w) in enumerate(vocab) }\n",
        "\n",
        "  return w2i, i2w, len(vocab)\n",
        "\n",
        "w2i, i2w, len_vocab = get_dicts(k)\n",
        "\n",
        "\n",
        "print(w2i['you'])\n",
        "print(i2w[0])\n",
        "print(len_vocab)\n"
      ],
      "execution_count": 25,
      "outputs": [
        {
          "output_type": "stream",
          "name": "stdout",
          "text": [
            "0\n",
            "you\n",
            "2141\n"
          ]
        }
      ]
    },
    {
      "cell_type": "code",
      "metadata": {
        "id": "qT0JQTKF7hCi"
      },
      "source": [
        ""
      ],
      "execution_count": null,
      "outputs": []
    }
  ]
}