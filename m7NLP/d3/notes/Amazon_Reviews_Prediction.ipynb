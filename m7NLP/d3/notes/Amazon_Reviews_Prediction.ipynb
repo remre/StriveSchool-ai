{
  "nbformat": 4,
  "nbformat_minor": 5,
  "metadata": {
    "kernelspec": {
      "display_name": "Python 3",
      "language": "python",
      "name": "python3"
    },
    "language_info": {
      "codemirror_mode": {
        "name": "ipython",
        "version": 3
      },
      "file_extension": ".py",
      "mimetype": "text/x-python",
      "name": "python",
      "nbconvert_exporter": "python",
      "pygments_lexer": "ipython3",
      "version": "3.9.5"
    },
    "varInspector": {
      "cols": {
        "lenName": 16,
        "lenType": 16,
        "lenVar": 40
      },
      "kernels_config": {
        "python": {
          "delete_cmd_postfix": "",
          "delete_cmd_prefix": "del ",
          "library": "var_list.py",
          "varRefreshCmd": "print(var_dic_list())"
        },
        "r": {
          "delete_cmd_postfix": ") ",
          "delete_cmd_prefix": "rm(",
          "library": "var_list.r",
          "varRefreshCmd": "cat(var_dic_list()) "
        }
      },
      "types_to_exclude": [
        "module",
        "function",
        "builtin_function_or_method",
        "instance",
        "_Feature"
      ],
      "window_display": false
    },
    "colab": {
      "name": "Amazon_Reviews_Prediction.ipynb",
      "provenance": [],
      "include_colab_link": true
    }
  },
  "cells": [
    {
      "cell_type": "markdown",
      "metadata": {
        "id": "view-in-github",
        "colab_type": "text"
      },
      "source": [
        "<a href=\"https://colab.research.google.com/github/remre/StriveSchool-ai/blob/main/m7NLP/d3/notes/Amazon_Reviews_Prediction.ipynb\" target=\"_parent\"><img src=\"https://colab.research.google.com/assets/colab-badge.svg\" alt=\"Open In Colab\"/></a>"
      ]
    },
    {
      "cell_type": "markdown",
      "metadata": {
        "id": "infinite-metadata"
      },
      "source": [
        "To perform sentence classification, and many other classification tasks for NLP, we need to do three main steps:\n",
        "\n",
        "- Preprocessing the data\n",
        "- Prepare the dataloader\n",
        "- Build the model\n",
        "\n",
        "Of course, all of these steps requires a lot of other steps, and also they can include many different solutions. \n",
        "\n",
        "To make you to jumpstart on this task, I will provide you a pretty clean dataset, the Amazon Reviews one, that you can extensively find online, and it's also included in the `torxchtext.datasets` module. \n",
        "\n",
        "For this example, I will use just a little part of it, to give some guidance on how to start, without actually training the whole model."
      ],
      "id": "infinite-metadata"
    },
    {
      "cell_type": "markdown",
      "metadata": {
        "id": "quality-copper"
      },
      "source": [
        "### Load the data\n",
        "\n"
      ],
      "id": "quality-copper"
    },
    {
      "cell_type": "code",
      "metadata": {
        "ExecuteTime": {
          "end_time": "2021-09-18T17:53:45.900707Z",
          "start_time": "2021-09-18T17:53:45.431864Z"
        },
        "id": "personalized-access"
      },
      "source": [
        "import pandas as pd\n",
        "import spacy\n",
        "import torch \n",
        "import torchtext  ## for downloading the data from pytorch\n",
        "import torch.nn as nn\n",
        "import torch.nn.functional as F\n",
        "import torch.optim as optim\n",
        "from torch.utils.data import Dataset, DataLoader\n",
        "from torch.utils.data.sampler import SubsetRandomSampler\n",
        "from torch.utils.data.dataloader import default_collate\n",
        "from torch.utils.data.dataset import random_split\n",
        "from torch.utils.data.dataset import ConcatDataset\n",
        "from torch.utils.data.dataset import Subset"
      ],
      "id": "personalized-access",
      "execution_count": 1,
      "outputs": []
    },
    {
      "cell_type": "code",
      "metadata": {
        "colab": {
          "base_uri": "https://localhost:8080/"
        },
        "id": "Vp8s22gzQzLZ",
        "outputId": "7f26afc7-01d2-4b3f-b191-10943faeb05b"
      },
      "source": [
        "torchtext.datasets.AmazonReviewFull(root='./data/' , split= ('train','test'))"
      ],
      "id": "Vp8s22gzQzLZ",
      "execution_count": 2,
      "outputs": [
        {
          "output_type": "execute_result",
          "data": {
            "text/plain": [
              "(<torchtext.data.datasets_utils._RawTextIterableDataset at 0x7f5c752aba10>,\n",
              " <torchtext.data.datasets_utils._RawTextIterableDataset at 0x7f5b82d83fd0>)"
            ]
          },
          "metadata": {},
          "execution_count": 2
        }
      ]
    },
    {
      "cell_type": "code",
      "metadata": {
        "id": "aKf1r-VUQzXO"
      },
      "source": [
        "df = pd.read_csv('/content/data/AmazonReviewFull/amazon_review_full_csv/train.csv', nrows= 4000, header=None)"
      ],
      "id": "aKf1r-VUQzXO",
      "execution_count": 3,
      "outputs": []
    },
    {
      "cell_type": "code",
      "metadata": {
        "id": "K8VaXFn_Qzc1"
      },
      "source": [
        "df.rename({0: 'ratings', 1: 'review_title',2:\"review\"}, axis=1, inplace=True)"
      ],
      "id": "K8VaXFn_Qzc1",
      "execution_count": 4,
      "outputs": []
    },
    {
      "cell_type": "code",
      "metadata": {
        "id": "hGPqBcZGQziV"
      },
      "source": [
        "df[\"reviews\"] = df[\"review_title\"] + \" \" + df[\"review\"]"
      ],
      "id": "hGPqBcZGQziV",
      "execution_count": 5,
      "outputs": []
    },
    {
      "cell_type": "code",
      "metadata": {
        "colab": {
          "base_uri": "https://localhost:8080/",
          "height": 204
        },
        "id": "BV7Rei_uRIUB",
        "outputId": "5489eb54-915b-4cfb-d7ae-f3239dd81555"
      },
      "source": [
        "df.head()"
      ],
      "id": "BV7Rei_uRIUB",
      "execution_count": 6,
      "outputs": [
        {
          "output_type": "execute_result",
          "data": {
            "text/html": [
              "<div>\n",
              "<style scoped>\n",
              "    .dataframe tbody tr th:only-of-type {\n",
              "        vertical-align: middle;\n",
              "    }\n",
              "\n",
              "    .dataframe tbody tr th {\n",
              "        vertical-align: top;\n",
              "    }\n",
              "\n",
              "    .dataframe thead th {\n",
              "        text-align: right;\n",
              "    }\n",
              "</style>\n",
              "<table border=\"1\" class=\"dataframe\">\n",
              "  <thead>\n",
              "    <tr style=\"text-align: right;\">\n",
              "      <th></th>\n",
              "      <th>ratings</th>\n",
              "      <th>review_title</th>\n",
              "      <th>review</th>\n",
              "      <th>reviews</th>\n",
              "    </tr>\n",
              "  </thead>\n",
              "  <tbody>\n",
              "    <tr>\n",
              "      <th>0</th>\n",
              "      <td>3</td>\n",
              "      <td>more like funchuck</td>\n",
              "      <td>Gave this to my dad for a gag gift after direc...</td>\n",
              "      <td>more like funchuck Gave this to my dad for a g...</td>\n",
              "    </tr>\n",
              "    <tr>\n",
              "      <th>1</th>\n",
              "      <td>5</td>\n",
              "      <td>Inspiring</td>\n",
              "      <td>I hope a lot of people hear this cd. We need m...</td>\n",
              "      <td>Inspiring I hope a lot of people hear this cd....</td>\n",
              "    </tr>\n",
              "    <tr>\n",
              "      <th>2</th>\n",
              "      <td>5</td>\n",
              "      <td>The best soundtrack ever to anything.</td>\n",
              "      <td>I'm reading a lot of reviews saying that this ...</td>\n",
              "      <td>The best soundtrack ever to anything. I'm read...</td>\n",
              "    </tr>\n",
              "    <tr>\n",
              "      <th>3</th>\n",
              "      <td>4</td>\n",
              "      <td>Chrono Cross OST</td>\n",
              "      <td>The music of Yasunori Misuda is without questi...</td>\n",
              "      <td>Chrono Cross OST The music of Yasunori Misuda ...</td>\n",
              "    </tr>\n",
              "    <tr>\n",
              "      <th>4</th>\n",
              "      <td>5</td>\n",
              "      <td>Too good to be true</td>\n",
              "      <td>Probably the greatest soundtrack in history! U...</td>\n",
              "      <td>Too good to be true Probably the greatest soun...</td>\n",
              "    </tr>\n",
              "  </tbody>\n",
              "</table>\n",
              "</div>"
            ],
            "text/plain": [
              "   ratings  ...                                            reviews\n",
              "0        3  ...  more like funchuck Gave this to my dad for a g...\n",
              "1        5  ...  Inspiring I hope a lot of people hear this cd....\n",
              "2        5  ...  The best soundtrack ever to anything. I'm read...\n",
              "3        4  ...  Chrono Cross OST The music of Yasunori Misuda ...\n",
              "4        5  ...  Too good to be true Probably the greatest soun...\n",
              "\n",
              "[5 rows x 4 columns]"
            ]
          },
          "metadata": {},
          "execution_count": 6
        }
      ]
    },
    {
      "cell_type": "code",
      "metadata": {
        "id": "xVihx-mRRkwA"
      },
      "source": [
        "df.drop([\"review_title\", \"review\"], axis=1, inplace=True)"
      ],
      "id": "xVihx-mRRkwA",
      "execution_count": 7,
      "outputs": []
    },
    {
      "cell_type": "code",
      "metadata": {
        "id": "j_9ZED49RnBa"
      },
      "source": [
        "df.ratings = df.ratings.apply(lambda x: int(x) - 1)"
      ],
      "id": "j_9ZED49RnBa",
      "execution_count": 8,
      "outputs": []
    },
    {
      "cell_type": "code",
      "metadata": {
        "colab": {
          "base_uri": "https://localhost:8080/"
        },
        "id": "Xg_CUYPKRnEQ",
        "outputId": "6dea4126-83f7-463f-e201-c0c1122347e6"
      },
      "source": [
        "df.ratings.unique()"
      ],
      "id": "Xg_CUYPKRnEQ",
      "execution_count": 9,
      "outputs": [
        {
          "output_type": "execute_result",
          "data": {
            "text/plain": [
              "array([2, 4, 3, 0, 1])"
            ]
          },
          "metadata": {},
          "execution_count": 9
        }
      ]
    },
    {
      "cell_type": "code",
      "metadata": {
        "id": "rssJJpd2RnGr"
      },
      "source": [
        "nlp = spacy.load('en_core_web_sm')"
      ],
      "id": "rssJJpd2RnGr",
      "execution_count": 10,
      "outputs": []
    },
    {
      "cell_type": "markdown",
      "metadata": {
        "id": "TqAlwpx5Slvn"
      },
      "source": [
        "# preprocessing\n"
      ],
      "id": "TqAlwpx5Slvn"
    },
    {
      "cell_type": "code",
      "metadata": {
        "id": "WBL2XekcSlvn"
      },
      "source": [
        "def preprocessing(sentences):\n",
        "    \"\"\" perform : tokenization & lemmatization, removes stopwords & punctuations, lower cases\"\"\"\n",
        "\n",
        "    doc = nlp(sentences)\n",
        "    # tokenization, we return the tokens that aren't stopwords or punctuations\n",
        "    tokens = [token.lemma_.lower() for token in doc if not token.is_stop and not token.is_punct]\n",
        "    return tokens"
      ],
      "id": "WBL2XekcSlvn",
      "execution_count": 11,
      "outputs": []
    },
    {
      "cell_type": "code",
      "metadata": {
        "id": "Gs7M1Us5TYGI"
      },
      "source": [
        "txt = \"This is the day's what i'm looking for actually\""
      ],
      "id": "Gs7M1Us5TYGI",
      "execution_count": 12,
      "outputs": []
    },
    {
      "cell_type": "code",
      "metadata": {
        "id": "6R0JcIcGSlvq",
        "colab": {
          "base_uri": "https://localhost:8080/"
        },
        "outputId": "e0ff9618-c255-4c35-fa57-3026c0b9ec70"
      },
      "source": [
        "preprocessing(txt)"
      ],
      "id": "6R0JcIcGSlvq",
      "execution_count": 13,
      "outputs": [
        {
          "output_type": "execute_result",
          "data": {
            "text/plain": [
              "['day', 'look', 'actually']"
            ]
          },
          "metadata": {},
          "execution_count": 13
        }
      ]
    },
    {
      "cell_type": "markdown",
      "metadata": {
        "id": "nPB29usKSlvr"
      },
      "source": [
        "# Encoder - Fastext "
      ],
      "id": "nPB29usKSlvr"
    },
    {
      "cell_type": "code",
      "metadata": {
        "id": "8yyUalmMSlvs"
      },
      "source": [
        "from torchtext.vocab import FastText  # Glove, FastText, Word2Vec\n"
      ],
      "id": "8yyUalmMSlvs",
      "execution_count": 14,
      "outputs": []
    },
    {
      "cell_type": "code",
      "metadata": {
        "id": "5H4QTnWUSlvs"
      },
      "source": [
        "fasttext = FastText(\"simple\") "
      ],
      "id": "5H4QTnWUSlvs",
      "execution_count": 15,
      "outputs": []
    },
    {
      "cell_type": "code",
      "metadata": {
        "id": "tFved2RlSlvs",
        "colab": {
          "base_uri": "https://localhost:8080/"
        },
        "outputId": "d2aaf7e4-89be-47aa-8fd1-28e09ae8bd27"
      },
      "source": [
        "fasttext.dim"
      ],
      "id": "tFved2RlSlvs",
      "execution_count": 16,
      "outputs": [
        {
          "output_type": "execute_result",
          "data": {
            "text/plain": [
              "300"
            ]
          },
          "metadata": {},
          "execution_count": 16
        }
      ]
    },
    {
      "cell_type": "code",
      "metadata": {
        "id": "8GhFGDbaSlvt"
      },
      "source": [
        "\n",
        "def token_encoder(token, vec):\n",
        "\n",
        "    \"\"\" encodes a single word\"\"\"\n",
        "    if token == \"<pad>\":\n",
        "        return 1\n",
        "    else:\n",
        "        try:\n",
        "            return vec.stoi[token]  # if the token is in the vocabulary, string to index\n",
        "        except:\n",
        "            if type(token) != str:\n",
        "                print(\"Error, we need a word which is in string format\")\n",
        "            else:\n",
        "                return 0  # if the token is not in the vocabulary, return 0\n",
        "                "
      ],
      "id": "8GhFGDbaSlvt",
      "execution_count": 17,
      "outputs": []
    },
    {
      "cell_type": "code",
      "metadata": {
        "id": "4wqVJeCSSlvt",
        "colab": {
          "base_uri": "https://localhost:8080/"
        },
        "outputId": "c3ec3908-ba5d-47e4-fb65-f7ac1b169b2d"
      },
      "source": [
        "token_encoder(\"Paramveer\", fasttext)"
      ],
      "id": "4wqVJeCSSlvt",
      "execution_count": 18,
      "outputs": [
        {
          "output_type": "execute_result",
          "data": {
            "text/plain": [
              "0"
            ]
          },
          "metadata": {},
          "execution_count": 18
        }
      ]
    },
    {
      "cell_type": "code",
      "metadata": {
        "id": "37-4z-JESlvu",
        "colab": {
          "base_uri": "https://localhost:8080/"
        },
        "outputId": "39999b89-116e-4551-a6b8-b103517eebe0"
      },
      "source": [
        "fasttext.itos[2610], fasttext.stoi[\"hello\"]"
      ],
      "id": "37-4z-JESlvu",
      "execution_count": 19,
      "outputs": [
        {
          "output_type": "execute_result",
          "data": {
            "text/plain": [
              "('hello', 2610)"
            ]
          },
          "metadata": {},
          "execution_count": 19
        }
      ]
    },
    {
      "cell_type": "code",
      "metadata": {
        "id": "veF2E9c_Slvu"
      },
      "source": [
        "def encoder(tokens, voc):\n",
        "    \"\"\" encodes a list of tokens\"\"\"\n",
        "    return [token_encoder(token, voc) for token in tokens]\n"
      ],
      "id": "veF2E9c_Slvu",
      "execution_count": 20,
      "outputs": []
    },
    {
      "cell_type": "code",
      "metadata": {
        "id": "VZgaHHnxSlvu",
        "colab": {
          "base_uri": "https://localhost:8080/"
        },
        "outputId": "728932d1-35ea-4e58-f5a3-97b90ff5a9fb"
      },
      "source": [
        "preprocessing(txt)"
      ],
      "id": "VZgaHHnxSlvu",
      "execution_count": 21,
      "outputs": [
        {
          "output_type": "execute_result",
          "data": {
            "text/plain": [
              "['day', 'look', 'actually']"
            ]
          },
          "metadata": {},
          "execution_count": 21
        }
      ]
    },
    {
      "cell_type": "code",
      "metadata": {
        "id": "j_FPzHpcSlvu",
        "colab": {
          "base_uri": "https://localhost:8080/"
        },
        "outputId": "457f4bd7-120e-41e3-ccb5-6d95ef894377"
      },
      "source": [
        "txt = \"Python is kicking me and, so is Paramveer \"\n",
        "encoder(preprocessing(txt),fasttext)"
      ],
      "id": "j_FPzHpcSlvu",
      "execution_count": 22,
      "outputs": [
        {
          "output_type": "execute_result",
          "data": {
            "text/plain": [
              "[7856, 5577, 0]"
            ]
          },
          "metadata": {},
          "execution_count": 22
        }
      ]
    },
    {
      "cell_type": "code",
      "metadata": {
        "id": "OzqJYXJ-Slvv",
        "colab": {
          "base_uri": "https://localhost:8080/",
          "height": 35
        },
        "outputId": "66a9e6f9-6b0a-4117-90a2-7c80b6191b74"
      },
      "source": [
        "fasttext.itos[66032]"
      ],
      "id": "OzqJYXJ-Slvv",
      "execution_count": 23,
      "outputs": [
        {
          "output_type": "execute_result",
          "data": {
            "application/vnd.google.colaboratory.intrinsic+json": {
              "type": "string"
            },
            "text/plain": [
              "'murtaza'"
            ]
          },
          "metadata": {},
          "execution_count": 23
        }
      ]
    },
    {
      "cell_type": "code",
      "metadata": {
        "id": "sut_Az0uSlvv",
        "colab": {
          "base_uri": "https://localhost:8080/"
        },
        "outputId": "90729055-6819-4421-e4d3-86052929e670"
      },
      "source": [
        "fasttext.itos[0], fasttext.itos[1]"
      ],
      "id": "sut_Az0uSlvv",
      "execution_count": 24,
      "outputs": [
        {
          "output_type": "execute_result",
          "data": {
            "text/plain": [
              "('</s>', '.')"
            ]
          },
          "metadata": {},
          "execution_count": 24
        }
      ]
    },
    {
      "cell_type": "code",
      "metadata": {
        "id": "YMHv1fvRSlvv"
      },
      "source": [
        "def padding(list_of_indexes, max_seq_len, padding_index = 1):\n",
        "    output = list_of_indexes + (max_seq_len - len(list_of_indexes)) * [padding_index]\n",
        "    return output[:max_seq_len]"
      ],
      "id": "YMHv1fvRSlvv",
      "execution_count": 25,
      "outputs": []
    },
    {
      "cell_type": "code",
      "metadata": {
        "id": "bJF28JsuSlvv",
        "colab": {
          "base_uri": "https://localhost:8080/"
        },
        "outputId": "f6400232-b201-4d2c-f3c3-73694c700511"
      },
      "source": [
        "list_of_indexes = encoder(preprocessing(txt),fasttext)\n",
        "list_of_indexes"
      ],
      "id": "bJF28JsuSlvv",
      "execution_count": 26,
      "outputs": [
        {
          "output_type": "execute_result",
          "data": {
            "text/plain": [
              "[7856, 5577, 0]"
            ]
          },
          "metadata": {},
          "execution_count": 26
        }
      ]
    },
    {
      "cell_type": "code",
      "metadata": {
        "id": "kSp-g9KFSlvw",
        "colab": {
          "base_uri": "https://localhost:8080/"
        },
        "outputId": "0a996a98-4d28-4910-963f-980e578da440"
      },
      "source": [
        "padding(list_of_indexes, 10)"
      ],
      "id": "kSp-g9KFSlvw",
      "execution_count": 27,
      "outputs": [
        {
          "output_type": "execute_result",
          "data": {
            "text/plain": [
              "[7856, 5577, 0, 1, 1, 1, 1, 1, 1, 1]"
            ]
          },
          "metadata": {},
          "execution_count": 27
        }
      ]
    },
    {
      "cell_type": "code",
      "metadata": {
        "id": "xPrhS8lTSlvw",
        "colab": {
          "base_uri": "https://localhost:8080/"
        },
        "outputId": "e952e931-0b03-46c3-cbf0-6585dabe83fa"
      },
      "source": [
        "ntxt = \"Python is kicking me and, so is Paramveer Python is kicking me and, so is Paramveer  Python is kicking me and, so is Paramveer  Python is kicking me and, so is Paramveer  Python is kicking me and, so is Paramveer  Python is kicking me and, so is Paramveer  Python is kicking me and, so is Paramveer  Python is kicking me and, so is Paramveer  Python is kicking me and, so is Paramveer  Python is kicking me and, so is Paramveer Python is kicking me and, so is Paramveer  \"\n",
        "list_of_indexes = encoder(preprocessing(ntxt),fasttext)\n",
        "len(list_of_indexes)"
      ],
      "id": "xPrhS8lTSlvw",
      "execution_count": 28,
      "outputs": [
        {
          "output_type": "execute_result",
          "data": {
            "text/plain": [
              "42"
            ]
          },
          "metadata": {},
          "execution_count": 28
        }
      ]
    },
    {
      "cell_type": "code",
      "metadata": {
        "id": "X3JikTcvSlvx",
        "colab": {
          "base_uri": "https://localhost:8080/"
        },
        "outputId": "33c2ec4b-a323-47c4-fcac-45c37ce1dab0"
      },
      "source": [
        "padding(list_of_indexes, 10)"
      ],
      "id": "X3JikTcvSlvx",
      "execution_count": 29,
      "outputs": [
        {
          "output_type": "execute_result",
          "data": {
            "text/plain": [
              "[7856, 5577, 0, 7856, 5577, 0, 0, 7856, 5577, 0]"
            ]
          },
          "metadata": {},
          "execution_count": 29
        }
      ]
    },
    {
      "cell_type": "markdown",
      "metadata": {
        "id": "7tHQWOLoSlvx"
      },
      "source": [
        "# Dataloader"
      ],
      "id": "7tHQWOLoSlvx"
    },
    {
      "cell_type": "code",
      "metadata": {
        "id": "rnELXbW0Slvy"
      },
      "source": [
        "class TrainData(Dataset):\n",
        "    def __init__(self, df, max_seq_len =32):\n",
        "        self.max_seq_len = max_seq_len\n",
        "        train_iter =iter(df.reviews.values)\n",
        "        self.vec = FastText(\"simple\")\n",
        "        self.vec.vectors[1] = -torch.ones(self.vec.vectors[1].shape[0])\n",
        "        self.vec.vectors[0] = torch.zeros(self.vec.vectors[0].shape[0])\n",
        "        self.vectorize = lambda x: self.vec.vectors[x]\n",
        "        self.labels = df.ratings.values\n",
        "        self.sequences =[padding(encoder(preprocessing(sequence),fasttext),max_seq_len=32) for sequence in train_iter]\n",
        "\n",
        "    def __len__(self):\n",
        "        return len(self.sequences)\n",
        "           \n",
        "    def __getitem__(self, idx):\n",
        "        assert len(self.sequences[idx]) == self.max_seq_len\n",
        "        return self.sequences[idx], self.labels[idx]  #idx so thatT we dont flood the memory with tensors \n",
        "\n",
        "        \n",
        "   "
      ],
      "id": "rnELXbW0Slvy",
      "execution_count": 30,
      "outputs": []
    },
    {
      "cell_type": "code",
      "metadata": {
        "id": "c3tIz_bJSlvy"
      },
      "source": [
        "#[padding(encoder(preprocessing(sequence),fasttext),max_seq_len=32) for sequence in df.reviews.values[:10]]"
      ],
      "id": "c3tIz_bJSlvy",
      "execution_count": 31,
      "outputs": []
    },
    {
      "cell_type": "code",
      "metadata": {
        "id": "mna2582hSlvy",
        "colab": {
          "base_uri": "https://localhost:8080/"
        },
        "outputId": "7539ffa3-edc5-4826-b60a-4690ae75c604"
      },
      "source": [
        "fasttext.vectors[7856].shape"
      ],
      "id": "mna2582hSlvy",
      "execution_count": 32,
      "outputs": [
        {
          "output_type": "execute_result",
          "data": {
            "text/plain": [
              "torch.Size([300])"
            ]
          },
          "metadata": {},
          "execution_count": 32
        }
      ]
    },
    {
      "cell_type": "code",
      "metadata": {
        "id": "7R_66u5uSlvz"
      },
      "source": [
        "dataset = TrainData(df[:20])"
      ],
      "id": "7R_66u5uSlvz",
      "execution_count": 33,
      "outputs": []
    },
    {
      "cell_type": "code",
      "metadata": {
        "id": "YBAgVdAQUs7Y"
      },
      "source": [
        "dataset[1]"
      ],
      "id": "YBAgVdAQUs7Y",
      "execution_count": null,
      "outputs": []
    },
    {
      "cell_type": "code",
      "metadata": {
        "colab": {
          "base_uri": "https://localhost:8080/",
          "height": 419
        },
        "id": "GG036Dp4Uh6N",
        "outputId": "805aaef7-0314-4172-8af4-430d23d1ee96"
      },
      "source": [
        "df"
      ],
      "id": "GG036Dp4Uh6N",
      "execution_count": 35,
      "outputs": [
        {
          "output_type": "execute_result",
          "data": {
            "text/html": [
              "<div>\n",
              "<style scoped>\n",
              "    .dataframe tbody tr th:only-of-type {\n",
              "        vertical-align: middle;\n",
              "    }\n",
              "\n",
              "    .dataframe tbody tr th {\n",
              "        vertical-align: top;\n",
              "    }\n",
              "\n",
              "    .dataframe thead th {\n",
              "        text-align: right;\n",
              "    }\n",
              "</style>\n",
              "<table border=\"1\" class=\"dataframe\">\n",
              "  <thead>\n",
              "    <tr style=\"text-align: right;\">\n",
              "      <th></th>\n",
              "      <th>ratings</th>\n",
              "      <th>reviews</th>\n",
              "    </tr>\n",
              "  </thead>\n",
              "  <tbody>\n",
              "    <tr>\n",
              "      <th>0</th>\n",
              "      <td>2</td>\n",
              "      <td>more like funchuck Gave this to my dad for a g...</td>\n",
              "    </tr>\n",
              "    <tr>\n",
              "      <th>1</th>\n",
              "      <td>4</td>\n",
              "      <td>Inspiring I hope a lot of people hear this cd....</td>\n",
              "    </tr>\n",
              "    <tr>\n",
              "      <th>2</th>\n",
              "      <td>4</td>\n",
              "      <td>The best soundtrack ever to anything. I'm read...</td>\n",
              "    </tr>\n",
              "    <tr>\n",
              "      <th>3</th>\n",
              "      <td>3</td>\n",
              "      <td>Chrono Cross OST The music of Yasunori Misuda ...</td>\n",
              "    </tr>\n",
              "    <tr>\n",
              "      <th>4</th>\n",
              "      <td>4</td>\n",
              "      <td>Too good to be true Probably the greatest soun...</td>\n",
              "    </tr>\n",
              "    <tr>\n",
              "      <th>...</th>\n",
              "      <td>...</td>\n",
              "      <td>...</td>\n",
              "    </tr>\n",
              "    <tr>\n",
              "      <th>3995</th>\n",
              "      <td>1</td>\n",
              "      <td>Horrible. I have had the first DVD since I bou...</td>\n",
              "    </tr>\n",
              "    <tr>\n",
              "      <th>3996</th>\n",
              "      <td>1</td>\n",
              "      <td>Cheap! I haven't been able to watch this much ...</td>\n",
              "    </tr>\n",
              "    <tr>\n",
              "      <th>3997</th>\n",
              "      <td>4</td>\n",
              "      <td>More Excellent Instruction from the Hoopnotica...</td>\n",
              "    </tr>\n",
              "    <tr>\n",
              "      <th>3998</th>\n",
              "      <td>3</td>\n",
              "      <td>Great book. As a former teenage girl, I decide...</td>\n",
              "    </tr>\n",
              "    <tr>\n",
              "      <th>3999</th>\n",
              "      <td>4</td>\n",
              "      <td>The Island Keeper Out of the hundreds of books...</td>\n",
              "    </tr>\n",
              "  </tbody>\n",
              "</table>\n",
              "<p>4000 rows × 2 columns</p>\n",
              "</div>"
            ],
            "text/plain": [
              "      ratings                                            reviews\n",
              "0           2  more like funchuck Gave this to my dad for a g...\n",
              "1           4  Inspiring I hope a lot of people hear this cd....\n",
              "2           4  The best soundtrack ever to anything. I'm read...\n",
              "3           3  Chrono Cross OST The music of Yasunori Misuda ...\n",
              "4           4  Too good to be true Probably the greatest soun...\n",
              "...       ...                                                ...\n",
              "3995        1  Horrible. I have had the first DVD since I bou...\n",
              "3996        1  Cheap! I haven't been able to watch this much ...\n",
              "3997        4  More Excellent Instruction from the Hoopnotica...\n",
              "3998        3  Great book. As a former teenage girl, I decide...\n",
              "3999        4  The Island Keeper Out of the hundreds of books...\n",
              "\n",
              "[4000 rows x 2 columns]"
            ]
          },
          "metadata": {},
          "execution_count": 35
        }
      ]
    },
    {
      "cell_type": "code",
      "metadata": {
        "id": "pWZJv7qbSlvz",
        "colab": {
          "base_uri": "https://localhost:8080/"
        },
        "outputId": "8783a5cd-0a6c-49dc-983d-21035a5c9ad0"
      },
      "source": [
        "dataset.vectorize(0).shape"
      ],
      "id": "pWZJv7qbSlvz",
      "execution_count": 36,
      "outputs": [
        {
          "output_type": "execute_result",
          "data": {
            "text/plain": [
              "torch.Size([300])"
            ]
          },
          "metadata": {},
          "execution_count": 36
        }
      ]
    },
    {
      "cell_type": "code",
      "metadata": {
        "id": "0ITWlh0hSlv0",
        "colab": {
          "base_uri": "https://localhost:8080/"
        },
        "outputId": "49d3514e-ffb4-4847-804f-39b402e64767"
      },
      "source": [
        "iter(df.reviews.values)"
      ],
      "id": "0ITWlh0hSlv0",
      "execution_count": 37,
      "outputs": [
        {
          "output_type": "execute_result",
          "data": {
            "text/plain": [
              "<iterator at 0x7f5b804e3310>"
            ]
          },
          "metadata": {},
          "execution_count": 37
        }
      ]
    },
    {
      "cell_type": "code",
      "metadata": {
        "id": "EvWIWCwvSlv0"
      },
      "source": [
        "def collate(batch, vectorizer = dataset.vectorize):\n",
        "    # batch of sentence\n",
        "    # from these sentences we want the tokens, for each sentence\n",
        "    # we want to get the tokens, and then we want to get the embeddings\n",
        "    # we need to pass vectorizer\n",
        "    inputs = torch.stack([torch.stack([vectorizer(token) for token in sentence[0]]) for sentence in batch])  \n",
        "    targets = torch.LongTensor([item[1] for item in batch])\n",
        "\n",
        "    return inputs, targets\n",
        "\n"
      ],
      "id": "EvWIWCwvSlv0",
      "execution_count": 38,
      "outputs": []
    },
    {
      "cell_type": "code",
      "metadata": {
        "id": "pKteQaNISlv0",
        "colab": {
          "base_uri": "https://localhost:8080/"
        },
        "outputId": "72a52f2a-554f-478e-f6ed-3e0ba0bdd764"
      },
      "source": [
        "batch_size = 16\n",
        "train_loader = DataLoader(dataset, batch_size=batch_size, shuffle=True, collate_fn=collate)\n",
        "train_iter = iter(train_loader)\n",
        "sentence, target = next(train_iter)\n",
        "sentence.shape"
      ],
      "id": "pKteQaNISlv0",
      "execution_count": 39,
      "outputs": [
        {
          "output_type": "execute_result",
          "data": {
            "text/plain": [
              "torch.Size([16, 32, 300])"
            ]
          },
          "metadata": {},
          "execution_count": 39
        }
      ]
    },
    {
      "cell_type": "markdown",
      "metadata": {
        "id": "9TCo_0A3Slv1"
      },
      "source": [
        "# Model "
      ],
      "id": "9TCo_0A3Slv1"
    },
    {
      "cell_type": "code",
      "metadata": {
        "id": "P_7jEce9Slv1"
      },
      "source": [
        "emb_dim = fasttext.dim \n",
        "\n",
        "from torch import nn\n",
        "import torch.nn.functional as F\n",
        "emb_dim = 300\n",
        "class Classifier(nn.Module):\n",
        "    def __init__(self, max_seq_len, emb_dim, hidden1=16, hidden2=16):\n",
        "        super(Classifier, self).__init__()\n",
        "        self.fc1 = nn.Linear(max_seq_len*emb_dim, hidden1)\n",
        "        self.fc2 = nn.Linear(hidden1, hidden2)\n",
        "        self.fc3 = nn.Linear(hidden2, 5)\n",
        "        self.out = nn.LogSoftmax(dim=1)\n",
        "    \n",
        "    \n",
        "    def forward(self, inputs):\n",
        "        x = F.relu(self.fc1(inputs.squeeze(1).float()))\n",
        "        x = F.relu(self.fc2(x))\n",
        "        x = self.fc3(x)\n",
        "        return self.out(x)\n"
      ],
      "id": "P_7jEce9Slv1",
      "execution_count": 55,
      "outputs": []
    },
    {
      "cell_type": "code",
      "metadata": {
        "id": "eL2CHYTxSlv1",
        "colab": {
          "base_uri": "https://localhost:8080/"
        },
        "outputId": "75eb60f6-c478-45cf-c054-0f9ec512800d"
      },
      "source": [
        "MAX_SEQ_LEN = 32\n",
        "model = Classifier(MAX_SEQ_LEN, 300, 16, 16)\n",
        "model"
      ],
      "id": "eL2CHYTxSlv1",
      "execution_count": 56,
      "outputs": [
        {
          "output_type": "execute_result",
          "data": {
            "text/plain": [
              "Classifier(\n",
              "  (fc1): Linear(in_features=9600, out_features=16, bias=True)\n",
              "  (fc2): Linear(in_features=16, out_features=16, bias=True)\n",
              "  (fc3): Linear(in_features=16, out_features=5, bias=True)\n",
              "  (out): LogSoftmax(dim=1)\n",
              ")"
            ]
          },
          "metadata": {},
          "execution_count": 56
        }
      ]
    },
    {
      "cell_type": "code",
      "metadata": {
        "id": "t_1KG0YlSlv1"
      },
      "source": [
        "criterion = nn.NLLLoss()\n",
        "optimizer = optim.Adagrad(model.parameters(), lr=0.001)\n",
        "scheduler = torch.optim.lr_scheduler.ReduceLROnPlateau(optimizer)"
      ],
      "id": "t_1KG0YlSlv1",
      "execution_count": 59,
      "outputs": []
    },
    {
      "cell_type": "code",
      "metadata": {
        "colab": {
          "base_uri": "https://localhost:8080/"
        },
        "id": "in7vFUXX3HsG",
        "outputId": "07e123a8-065a-47ee-fd45-70d5dcfd91a5"
      },
      "source": [
        "\n",
        "epochs = 15\n",
        "print_every = 40\n",
        "\n",
        "for e in range(epochs):\n",
        "    running_loss = 0\n",
        "    print(f\"Epoch: {e+1}/{epochs}\")\n",
        "\n",
        "    for i, (sentences, labels) in enumerate(iter(train_loader)):\n",
        "\n",
        "        sentences.resize_(sentences.size()[0], 32* emb_dim)\n",
        "        \n",
        "        optimizer.zero_grad()\n",
        "        \n",
        "        output = model.forward(sentences)   # 1) Forward pass\n",
        "        loss = criterion(output, labels) # 2) Compute loss\n",
        "        loss.backward()                  # 3) Backward pass\n",
        "        optimizer.step()                 # 4) Update model\n",
        "        \n",
        "        running_loss += loss.item()\n",
        "        \n",
        "        if i % print_every == 0:\n",
        "            print(f\"\\tIteration: {i}\\t Loss: {running_loss/print_every:.4f}\")\n",
        "            running_loss = 0"
      ],
      "id": "in7vFUXX3HsG",
      "execution_count": 62,
      "outputs": [
        {
          "output_type": "stream",
          "name": "stdout",
          "text": [
            "Epoch: 1/15\n",
            "\tIteration: 0\t Loss: 0.0234\n",
            "Epoch: 2/15\n",
            "\tIteration: 0\t Loss: 0.0255\n",
            "Epoch: 3/15\n",
            "\tIteration: 0\t Loss: 0.0225\n",
            "Epoch: 4/15\n",
            "\tIteration: 0\t Loss: 0.0226\n",
            "Epoch: 5/15\n",
            "\tIteration: 0\t Loss: 0.0203\n",
            "Epoch: 6/15\n",
            "\tIteration: 0\t Loss: 0.0214\n",
            "Epoch: 7/15\n",
            "\tIteration: 0\t Loss: 0.0218\n",
            "Epoch: 8/15\n",
            "\tIteration: 0\t Loss: 0.0231\n",
            "Epoch: 9/15\n",
            "\tIteration: 0\t Loss: 0.0200\n",
            "Epoch: 10/15\n",
            "\tIteration: 0\t Loss: 0.0201\n",
            "Epoch: 11/15\n",
            "\tIteration: 0\t Loss: 0.0189\n",
            "Epoch: 12/15\n",
            "\tIteration: 0\t Loss: 0.0193\n",
            "Epoch: 13/15\n",
            "\tIteration: 0\t Loss: 0.0199\n",
            "Epoch: 14/15\n",
            "\tIteration: 0\t Loss: 0.0198\n",
            "Epoch: 15/15\n",
            "\tIteration: 0\t Loss: 0.0178\n"
          ]
        }
      ]
    },
    {
      "cell_type": "code",
      "metadata": {
        "id": "uo0-M09DSlv2"
      },
      "source": [
        "epochs = 10\n",
        "print_every = 100\n",
        "\n",
        "for e in range(epochs):\n",
        "    running_loss = 0\n",
        "    for i, (sentence, labels) in enumerate(iter(train_loader)): \n",
        "        sentence.resize_(sentence.size()[0], max_seq_len*emb_dim)\n",
        "\n",
        "        optimizer.zero_grad()\n",
        "        \n",
        "        output = model.forward(sentence)\n",
        "\n",
        "        loss = criterion(output, labels)\n",
        "        loss.backward()\n",
        "        optimizer.step()\n",
        "        running_loss += loss.item()\n",
        "\n",
        "        if i % print_every == 0:\n",
        "            print(\"Epoch: {}/{}...\".format(e+1, epochs),\n",
        "                  \"Loss: {:.4f}\".format(running_loss/print_every))\n",
        "            running_loss = 0"
      ],
      "id": "uo0-M09DSlv2",
      "execution_count": null,
      "outputs": []
    },
    {
      "cell_type": "code",
      "metadata": {
        "colab": {
          "base_uri": "https://localhost:8080/"
        },
        "id": "ov0QTkUlujjn",
        "outputId": "7193f431-8efb-40d7-87dd-4b72582b8e57"
      },
      "source": [
        "type(labels)"
      ],
      "id": "ov0QTkUlujjn",
      "execution_count": 59,
      "outputs": [
        {
          "output_type": "execute_result",
          "data": {
            "text/plain": [
              "torch.Tensor"
            ]
          },
          "metadata": {},
          "execution_count": 59
        }
      ]
    },
    {
      "cell_type": "code",
      "metadata": {
        "ExecuteTime": {
          "end_time": "2021-09-18T17:53:46.540051Z",
          "start_time": "2021-09-18T17:53:46.502284Z"
        },
        "scrolled": true,
        "id": "listed-criticism"
      },
      "source": [
        "dff = pd.read_csv(\"/content/data/AmazonReviewFull/amazon_review_full_csv/test.csv\", nrows=3000, header=None)\n",
        "dff"
      ],
      "id": "listed-criticism",
      "execution_count": null,
      "outputs": []
    },
    {
      "cell_type": "code",
      "metadata": {
        "ExecuteTime": {
          "end_time": "2021-09-18T17:53:46.557125Z",
          "start_time": "2021-09-18T17:53:46.553851Z"
        },
        "id": "australian-lesson"
      },
      "source": [
        "dff.rename({0:\"star\", 1:\"rating1\", 2:\"rating2\"}, axis=1, inplace=True)"
      ],
      "id": "australian-lesson",
      "execution_count": 65,
      "outputs": []
    },
    {
      "cell_type": "markdown",
      "metadata": {
        "id": "awful-transportation"
      },
      "source": [
        "Since we are going to predict the number of stars a certain product has got based on the semantics of the text, we could merge the title of the review together with the body of the review, just by concatenating them:"
      ],
      "id": "awful-transportation"
    },
    {
      "cell_type": "code",
      "metadata": {
        "ExecuteTime": {
          "end_time": "2021-09-18T17:53:46.728977Z",
          "start_time": "2021-09-18T17:53:46.709086Z"
        },
        "id": "statutory-dragon"
      },
      "source": [
        "dff[\"review\"] = dff[\"rating1\"] + \" \" +  dff[\"rating2\"]"
      ],
      "id": "statutory-dragon",
      "execution_count": 66,
      "outputs": []
    },
    {
      "cell_type": "code",
      "metadata": {
        "ExecuteTime": {
          "end_time": "2021-09-18T17:53:47.132307Z",
          "start_time": "2021-09-18T17:53:47.105675Z"
        },
        "id": "instant-trick"
      },
      "source": [
        "dff"
      ],
      "id": "instant-trick",
      "execution_count": null,
      "outputs": []
    },
    {
      "cell_type": "markdown",
      "metadata": {
        "id": "auburn-instrumentation"
      },
      "source": [
        "and then of course we can drop the other two columns:"
      ],
      "id": "auburn-instrumentation"
    },
    {
      "cell_type": "code",
      "metadata": {
        "ExecuteTime": {
          "end_time": "2021-09-18T17:53:47.699843Z",
          "start_time": "2021-09-18T17:53:47.685235Z"
        },
        "id": "loose-coordination"
      },
      "source": [
        "dff.drop(columns=[\"rating1\", \"rating2\"], inplace=True)"
      ],
      "id": "loose-coordination",
      "execution_count": 68,
      "outputs": []
    },
    {
      "cell_type": "code",
      "metadata": {
        "ExecuteTime": {
          "end_time": "2021-09-18T17:53:48.152047Z",
          "start_time": "2021-09-18T17:53:48.131870Z"
        },
        "id": "significant-twelve",
        "colab": {
          "base_uri": "https://localhost:8080/",
          "height": 419
        },
        "outputId": "c2d84f7d-af24-4d25-aaf4-220e5e843266"
      },
      "source": [
        "dff"
      ],
      "id": "significant-twelve",
      "execution_count": 69,
      "outputs": [
        {
          "output_type": "execute_result",
          "data": {
            "text/html": [
              "<div>\n",
              "<style scoped>\n",
              "    .dataframe tbody tr th:only-of-type {\n",
              "        vertical-align: middle;\n",
              "    }\n",
              "\n",
              "    .dataframe tbody tr th {\n",
              "        vertical-align: top;\n",
              "    }\n",
              "\n",
              "    .dataframe thead th {\n",
              "        text-align: right;\n",
              "    }\n",
              "</style>\n",
              "<table border=\"1\" class=\"dataframe\">\n",
              "  <thead>\n",
              "    <tr style=\"text-align: right;\">\n",
              "      <th></th>\n",
              "      <th>star</th>\n",
              "      <th>review</th>\n",
              "    </tr>\n",
              "  </thead>\n",
              "  <tbody>\n",
              "    <tr>\n",
              "      <th>0</th>\n",
              "      <td>1</td>\n",
              "      <td>mens ultrasheer This model may be ok for seden...</td>\n",
              "    </tr>\n",
              "    <tr>\n",
              "      <th>1</th>\n",
              "      <td>4</td>\n",
              "      <td>Surprisingly delightful This is a fast read fi...</td>\n",
              "    </tr>\n",
              "    <tr>\n",
              "      <th>2</th>\n",
              "      <td>2</td>\n",
              "      <td>Works, but not as advertised I bought one of t...</td>\n",
              "    </tr>\n",
              "    <tr>\n",
              "      <th>3</th>\n",
              "      <td>2</td>\n",
              "      <td>Oh dear I was excited to find a book ostensibl...</td>\n",
              "    </tr>\n",
              "    <tr>\n",
              "      <th>4</th>\n",
              "      <td>2</td>\n",
              "      <td>Incorrect disc! I am a big JVC fan, but I do n...</td>\n",
              "    </tr>\n",
              "    <tr>\n",
              "      <th>...</th>\n",
              "      <td>...</td>\n",
              "      <td>...</td>\n",
              "    </tr>\n",
              "    <tr>\n",
              "      <th>2995</th>\n",
              "      <td>2</td>\n",
              "      <td>A MAJOR ( PUN INTENDED) DISAPPOINTMENT I was s...</td>\n",
              "    </tr>\n",
              "    <tr>\n",
              "      <th>2996</th>\n",
              "      <td>4</td>\n",
              "      <td>Good Inside look at the U.S. Open The author d...</td>\n",
              "    </tr>\n",
              "    <tr>\n",
              "      <th>2997</th>\n",
              "      <td>1</td>\n",
              "      <td>A Good Open Spoiled The subtitle should be, \"I...</td>\n",
              "    </tr>\n",
              "    <tr>\n",
              "      <th>2998</th>\n",
              "      <td>2</td>\n",
              "      <td>Good ideas, but horrible context I praise Oste...</td>\n",
              "    </tr>\n",
              "    <tr>\n",
              "      <th>2999</th>\n",
              "      <td>3</td>\n",
              "      <td>High Volume of Typos This is not a literary re...</td>\n",
              "    </tr>\n",
              "  </tbody>\n",
              "</table>\n",
              "<p>3000 rows × 2 columns</p>\n",
              "</div>"
            ],
            "text/plain": [
              "      star                                             review\n",
              "0        1  mens ultrasheer This model may be ok for seden...\n",
              "1        4  Surprisingly delightful This is a fast read fi...\n",
              "2        2  Works, but not as advertised I bought one of t...\n",
              "3        2  Oh dear I was excited to find a book ostensibl...\n",
              "4        2  Incorrect disc! I am a big JVC fan, but I do n...\n",
              "...    ...                                                ...\n",
              "2995     2  A MAJOR ( PUN INTENDED) DISAPPOINTMENT I was s...\n",
              "2996     4  Good Inside look at the U.S. Open The author d...\n",
              "2997     1  A Good Open Spoiled The subtitle should be, \"I...\n",
              "2998     2  Good ideas, but horrible context I praise Oste...\n",
              "2999     3  High Volume of Typos This is not a literary re...\n",
              "\n",
              "[3000 rows x 2 columns]"
            ]
          },
          "metadata": {},
          "execution_count": 69
        }
      ]
    },
    {
      "cell_type": "markdown",
      "metadata": {
        "id": "pretty-olive"
      },
      "source": [
        "👏"
      ],
      "id": "pretty-olive"
    },
    {
      "cell_type": "markdown",
      "metadata": {
        "id": "driving-progressive"
      },
      "source": [
        "The `star`column is what we want to predict, given the text of the review. I think we are all Amazon users, and we are all aware of how many stars a rating can have, but let's just double check:"
      ],
      "id": "driving-progressive"
    },
    {
      "cell_type": "code",
      "metadata": {
        "ExecuteTime": {
          "end_time": "2021-09-18T17:53:49.138878Z",
          "start_time": "2021-09-18T17:53:49.129540Z"
        },
        "scrolled": false,
        "id": "dated-password",
        "outputId": "7b9375ca-a20e-4624-8244-790f617ce20e"
      },
      "source": [
        "dff.star.unique()"
      ],
      "id": "dated-password",
      "execution_count": null,
      "outputs": [
        {
          "data": {
            "text/plain": [
              "array([1, 4, 2, 3, 5])"
            ]
          },
          "execution_count": 22,
          "metadata": {},
          "output_type": "execute_result"
        }
      ]
    },
    {
      "cell_type": "code",
      "metadata": {
        "ExecuteTime": {
          "end_time": "2021-09-18T20:18:52.976714Z",
          "start_time": "2021-09-18T20:18:52.951201Z"
        },
        "id": "50d1179d"
      },
      "source": [
        "dff.star = dff.star.apply(lambda x: int(x) -1)"
      ],
      "id": "50d1179d",
      "execution_count": 70,
      "outputs": []
    },
    {
      "cell_type": "markdown",
      "metadata": {
        "id": "considered-labor"
      },
      "source": [
        "Ok, now that our data are in order, we need to preprocess them. We can take advantage of spacy for basically of the steps:"
      ],
      "id": "considered-labor"
    },
    {
      "cell_type": "code",
      "metadata": {
        "ExecuteTime": {
          "end_time": "2021-09-18T20:18:55.628687Z",
          "start_time": "2021-09-18T20:18:54.542813Z"
        },
        "id": "affiliated-concrete"
      },
      "source": [
        "nlp = spacy.load(\"en_core_web_sm\")"
      ],
      "id": "affiliated-concrete",
      "execution_count": 71,
      "outputs": []
    },
    {
      "cell_type": "markdown",
      "metadata": {
        "id": "opening-portal"
      },
      "source": [
        "Let's create a function that, given a sentence, it preprocess it by doing:\n",
        "- tokenization\n",
        "- removing stopwords\n",
        "- remove special characters/punctuation\n",
        "- make everything lower case\n",
        "- lemmatize it\n",
        "\n",
        "With spacy, we can do it in a very compact form:"
      ],
      "id": "opening-portal"
    },
    {
      "cell_type": "code",
      "metadata": {
        "ExecuteTime": {
          "end_time": "2021-09-18T20:18:55.667517Z",
          "start_time": "2021-09-18T20:18:55.661881Z"
        },
        "id": "independent-error"
      },
      "source": [
        "def preprocessing(sentence):\n",
        "    \"\"\"\n",
        "    params sentence: a str containing the sentence we want to preprocess\n",
        "    return the tokens list\n",
        "    \"\"\"\n",
        "    doc = nlp(sentence)\n",
        "    tokens = [token.lemma_ for token in doc if not token.is_punct and not token.is_stop]\n",
        "    return tokens\n",
        "    "
      ],
      "id": "independent-error",
      "execution_count": null,
      "outputs": []
    },
    {
      "cell_type": "code",
      "metadata": {
        "ExecuteTime": {
          "end_time": "2021-09-18T20:18:55.729419Z",
          "start_time": "2021-09-18T20:18:55.716703Z"
        },
        "id": "interior-designation",
        "outputId": "d1c8e295-81ae-4d46-ea27-04079cc4e327"
      },
      "source": [
        "preprocessing(\"This is an example! Hello\")"
      ],
      "id": "interior-designation",
      "execution_count": null,
      "outputs": [
        {
          "data": {
            "text/plain": [
              "['example', 'hello']"
            ]
          },
          "execution_count": 123,
          "metadata": {},
          "output_type": "execute_result"
        }
      ]
    },
    {
      "cell_type": "markdown",
      "metadata": {
        "id": "raising-positive"
      },
      "source": [
        "The preprocessing phase has not finished yet. In fact, we want to create a neural network, and a neural network works with numbers. In general, computers work with numbers...\n",
        "\n",
        "So we need to use embeddings to transform a sentence into a tensor: the embeddings are usually one-dimensional, and in the following example they will have size 300, that means that if you have a sentence of 10 words (after have it preprocessed), the shape of the sentence will be $10\\times 300$. You will notice another dimension, that is the batch size. So you will train and run a model that receive as input a tensor of shape:\n",
        "\n",
        "`batch_size*length_of_the_sentence*embedding_size`.\n",
        "\n",
        "Let's do things in order:"
      ],
      "id": "raising-positive"
    },
    {
      "cell_type": "code",
      "metadata": {
        "ExecuteTime": {
          "end_time": "2021-09-18T20:18:55.785176Z",
          "start_time": "2021-09-18T20:18:55.782315Z"
        },
        "id": "registered-incidence"
      },
      "source": [
        "import torch\n",
        "from collections import Counter\n",
        "from torch.utils.data import DataLoader, Dataset\n",
        "from tqdm import tqdm, tqdm_notebook"
      ],
      "id": "registered-incidence",
      "execution_count": 72,
      "outputs": []
    },
    {
      "cell_type": "markdown",
      "metadata": {
        "id": "ahead-mistress"
      },
      "source": [
        "If you are using the whole dataset, you should not need to split the dataset into train and test 'cause it should be already. If not, and if you are using any other dataset, remember to split into train and test (eventually validation)."
      ],
      "id": "ahead-mistress"
    },
    {
      "cell_type": "code",
      "metadata": {
        "ExecuteTime": {
          "end_time": "2021-09-18T20:18:55.833447Z",
          "start_time": "2021-09-18T20:18:55.828371Z"
        },
        "id": "mental-intellectual"
      },
      "source": [
        "train_dff, test_dff = dff.iloc[:2000], dff.iloc[2000:]"
      ],
      "id": "mental-intellectual",
      "execution_count": 73,
      "outputs": []
    },
    {
      "cell_type": "markdown",
      "metadata": {
        "id": "261dbe23"
      },
      "source": [
        "To get the vectors for each token, we are going to use some pretrained embeddings. Specifically, we are going to use the FastText embeddings that you can find at this link https://pytorch.org/text/stable/vocab.html#fasttext .\n",
        "\n",
        "We need to download and load them by doing:"
      ],
      "id": "261dbe23"
    },
    {
      "cell_type": "code",
      "metadata": {
        "ExecuteTime": {
          "end_time": "2021-09-18T20:18:55.875894Z",
          "start_time": "2021-09-18T20:18:55.872210Z"
        },
        "id": "d8ef0cc3"
      },
      "source": [
        "from torchtext.vocab import FastText"
      ],
      "id": "d8ef0cc3",
      "execution_count": 74,
      "outputs": []
    },
    {
      "cell_type": "code",
      "metadata": {
        "ExecuteTime": {
          "end_time": "2021-09-18T20:18:56.351118Z",
          "start_time": "2021-09-18T20:18:55.911030Z"
        },
        "id": "298a490c"
      },
      "source": [
        "fasttext = FastText(\"simple\")"
      ],
      "id": "298a490c",
      "execution_count": null,
      "outputs": []
    },
    {
      "cell_type": "markdown",
      "metadata": {
        "ExecuteTime": {
          "end_time": "2021-09-18T17:25:25.972108Z",
          "start_time": "2021-09-18T17:25:25.946631Z"
        },
        "id": "d019b59d"
      },
      "source": [
        "You can run `help(fasttext)` and/or `dir(fasttext)` to get more info about the methods and the attributes this object contains."
      ],
      "id": "d019b59d"
    },
    {
      "cell_type": "code",
      "metadata": {
        "ExecuteTime": {
          "end_time": "2021-09-18T20:18:56.378841Z",
          "start_time": "2021-09-18T20:18:56.376087Z"
        },
        "id": "46953124"
      },
      "source": [
        "dir(fasttext)"
      ],
      "id": "46953124",
      "execution_count": null,
      "outputs": []
    },
    {
      "cell_type": "markdown",
      "metadata": {
        "ExecuteTime": {
          "end_time": "2021-09-18T17:26:50.033163Z",
          "start_time": "2021-09-18T17:26:50.028722Z"
        },
        "id": "cad47393"
      },
      "source": [
        "I want to highlight a couple of things:\n",
        "\n",
        "- `dim` is the dimensions of the vectors (in our case it is 300)\n",
        "- `itos` stands for *index to string* and it maps an integer to the corresponding string. The reason for having such a method is that it's much lighter to store integers and use them to index the vectors instead of having a string per word (In addition to that, heuristics can be used so that the most frequent words get lower value for the index, resulting in a better memory management. I know, it sounds like minor things, but the model is going to make billions of operations!)\n",
        "- `stoi` is the opposite: it's a dictionary that given the string returns the index\n",
        "\n"
      ],
      "id": "cad47393"
    },
    {
      "cell_type": "markdown",
      "metadata": {
        "id": "cfda4a6a"
      },
      "source": [
        "Above you can see the embeddings associated with the word \"hello\". Let's inspect the shape:"
      ],
      "id": "cfda4a6a"
    },
    {
      "cell_type": "code",
      "metadata": {
        "ExecuteTime": {
          "end_time": "2021-09-18T20:18:56.412987Z",
          "start_time": "2021-09-18T20:18:56.409755Z"
        },
        "id": "b35e84aa",
        "outputId": "8083f0ec-4a3a-482b-b4c5-20ca343614b2"
      },
      "source": [
        "fasttext[\"hello\"].shape"
      ],
      "id": "b35e84aa",
      "execution_count": null,
      "outputs": [
        {
          "data": {
            "text/plain": [
              "torch.Size([300])"
            ]
          },
          "execution_count": 129,
          "metadata": {},
          "output_type": "execute_result"
        }
      ]
    },
    {
      "cell_type": "markdown",
      "metadata": {
        "id": "c488d90e"
      },
      "source": [
        "300, as anticipated. \n",
        "\n",
        "Let's inspect what's the index associated with \"hello\":"
      ],
      "id": "c488d90e"
    },
    {
      "cell_type": "code",
      "metadata": {
        "ExecuteTime": {
          "end_time": "2021-09-18T20:18:56.417035Z",
          "start_time": "2021-09-18T20:18:56.414691Z"
        },
        "id": "eeebe8e6",
        "outputId": "0ead29fc-3105-4f3f-cc25-aa5d91665d3d"
      },
      "source": [
        "fasttext.stoi[\"hello\"]"
      ],
      "id": "eeebe8e6",
      "execution_count": null,
      "outputs": [
        {
          "data": {
            "text/plain": [
              "2610"
            ]
          },
          "execution_count": 130,
          "metadata": {},
          "output_type": "execute_result"
        }
      ]
    },
    {
      "cell_type": "markdown",
      "metadata": {
        "id": "98a40838"
      },
      "source": [
        "and viceversa:"
      ],
      "id": "98a40838"
    },
    {
      "cell_type": "code",
      "metadata": {
        "ExecuteTime": {
          "end_time": "2021-09-18T20:18:56.461735Z",
          "start_time": "2021-09-18T20:18:56.443512Z"
        },
        "id": "c5dfd40e"
      },
      "source": [
        "fasttext.stoi"
      ],
      "id": "c5dfd40e",
      "execution_count": null,
      "outputs": []
    },
    {
      "cell_type": "markdown",
      "metadata": {
        "id": "b2624b7f"
      },
      "source": [
        "We can create and *encoder* which can transform each word into an integer:"
      ],
      "id": "b2624b7f"
    },
    {
      "cell_type": "code",
      "metadata": {
        "ExecuteTime": {
          "end_time": "2021-09-18T20:18:56.513383Z",
          "start_time": "2021-09-18T20:18:56.510004Z"
        },
        "id": "ae0adb33"
      },
      "source": [
        "def token_encoder(token, vec):\n",
        "    if token == \"<pad>\":\n",
        "        return 1\n",
        "    else:\n",
        "        try:\n",
        "            return vec.stoi[token]\n",
        "        except:\n",
        "            return 0"
      ],
      "id": "ae0adb33",
      "execution_count": null,
      "outputs": []
    },
    {
      "cell_type": "code",
      "metadata": {
        "ExecuteTime": {
          "end_time": "2021-09-18T20:18:56.515942Z",
          "start_time": "2021-09-18T20:18:56.514362Z"
        },
        "id": "0c2c5f7a"
      },
      "source": [
        "def encoder(tokens, vec):\n",
        "    return [token_encoder(token, vec) for token in tokens]"
      ],
      "id": "0c2c5f7a",
      "execution_count": null,
      "outputs": []
    },
    {
      "cell_type": "code",
      "metadata": {
        "ExecuteTime": {
          "end_time": "2021-09-18T20:18:56.569562Z",
          "start_time": "2021-09-18T20:18:56.559325Z"
        },
        "id": "d3c4c5a1",
        "colab": {
          "base_uri": "https://localhost:8080/"
        },
        "outputId": "e625be68-d8cb-41f0-cbe4-6add30d03ff2"
      },
      "source": [
        "text = \"Antonio is learning Python\"\n",
        "encoder(preprocessing(text), fasttext)"
      ],
      "id": "d3c4c5a1",
      "execution_count": 75,
      "outputs": [
        {
          "output_type": "execute_result",
          "data": {
            "text/plain": [
              "[2228, 1660, 7856]"
            ]
          },
          "metadata": {},
          "execution_count": 75
        }
      ]
    },
    {
      "cell_type": "markdown",
      "metadata": {
        "id": "f33edde9"
      },
      "source": [
        "Why all those zeros?\n",
        "Well, in the function that we have defined, we have put a try and except, in which we are basically saying: if the word is not in the vocabulary, return the index 0. Clearly, Antonio and Python weren't in the corpus used by FastText!\n"
      ],
      "id": "f33edde9"
    },
    {
      "cell_type": "markdown",
      "metadata": {
        "id": "7804cb6b"
      },
      "source": [
        "What about the `<pad>` thing? \n",
        "\n",
        "Well, not all the reviews have same length, so we need to find a solution for it. Why? Cause our Neural Network is waiting for input that are all of the same size! It needs to know how many weights it needs to initialize!\n",
        "\n",
        "There are several possibilities, but the easiest is to just set a cap with a `max_seq_len` parameter, so that all the reviews that are shorter than that length will be padded by using a vector associated with the padding index, and all the ones that are longer than `max_seq_len` will be just cut.\n",
        "\n",
        "Do you see problems? I actually don't see that much problems for it. I think that the sentiment of a comment can be seen already from the first words of the review.\n",
        "\n",
        "In the encoder part, the `<pad>` is a made up token that we know is very unlikely to be part of the text. To that, I assigned the index 1. \n",
        "\n",
        "You may ask: what does it happen to things at index 0 and 1? Well, let's inspect them:"
      ],
      "id": "7804cb6b"
    },
    {
      "cell_type": "code",
      "metadata": {
        "ExecuteTime": {
          "end_time": "2021-09-18T20:18:56.598411Z",
          "start_time": "2021-09-18T20:18:56.595358Z"
        },
        "id": "dd332b41",
        "colab": {
          "base_uri": "https://localhost:8080/"
        },
        "outputId": "ef70c4dc-b78f-442a-bf92-aa41be205850"
      },
      "source": [
        "fasttext.itos[0], fasttext.itos[1]"
      ],
      "id": "dd332b41",
      "execution_count": 76,
      "outputs": [
        {
          "output_type": "execute_result",
          "data": {
            "text/plain": [
              "('</s>', '.')"
            ]
          },
          "metadata": {},
          "execution_count": 76
        }
      ]
    },
    {
      "cell_type": "markdown",
      "metadata": {
        "id": "ce9c2e48"
      },
      "source": [
        "and in our preprocessing pipeline they can never appear! So we are fine with that!"
      ],
      "id": "ce9c2e48"
    },
    {
      "cell_type": "markdown",
      "metadata": {
        "id": "b5cb4a8d"
      },
      "source": [
        "Now let's create a function for padding:"
      ],
      "id": "b5cb4a8d"
    },
    {
      "cell_type": "code",
      "metadata": {
        "ExecuteTime": {
          "end_time": "2021-09-18T20:18:56.625917Z",
          "start_time": "2021-09-18T20:18:56.623200Z"
        },
        "id": "opened-calculation"
      },
      "source": [
        "def padding(list_of_indexes, max_seq_len, padding_index=1):\n",
        "    output = list_of_indexes + (max_seq_len - len(list_of_indexes))*[padding_index]\n",
        "    return output[:max_seq_len]"
      ],
      "id": "opened-calculation",
      "execution_count": null,
      "outputs": []
    },
    {
      "cell_type": "code",
      "metadata": {
        "ExecuteTime": {
          "end_time": "2021-09-18T20:18:56.636204Z",
          "start_time": "2021-09-18T20:18:56.627044Z"
        },
        "id": "5ed2b39b",
        "colab": {
          "base_uri": "https://localhost:8080/"
        },
        "outputId": "68f7d328-984c-400e-8f48-16f629a66bbb"
      },
      "source": [
        "text = \"this is a sample review\"\n",
        "list_of_indexes = encoder(preprocessing(text), fasttext)\n",
        "list_of_indexes"
      ],
      "id": "5ed2b39b",
      "execution_count": 77,
      "outputs": [
        {
          "output_type": "execute_result",
          "data": {
            "text/plain": [
              "[3697, 1363]"
            ]
          },
          "metadata": {},
          "execution_count": 77
        }
      ]
    },
    {
      "cell_type": "code",
      "metadata": {
        "ExecuteTime": {
          "end_time": "2021-09-18T20:18:56.688320Z",
          "start_time": "2021-09-18T20:18:56.685453Z"
        },
        "id": "a2a7bb3b",
        "outputId": "3998aa29-056b-4d74-b5c1-3ce0c945d082"
      },
      "source": [
        "padding(list_of_indexes, max_seq_len=10)"
      ],
      "id": "a2a7bb3b",
      "execution_count": null,
      "outputs": [
        {
          "data": {
            "text/plain": [
              "[3697, 1363, 1, 1, 1, 1, 1, 1, 1, 1]"
            ]
          },
          "execution_count": 138,
          "metadata": {},
          "output_type": "execute_result"
        }
      ]
    },
    {
      "cell_type": "markdown",
      "metadata": {
        "id": "9d884789"
      },
      "source": [
        "In this way, any sentence shorter than 10 becomes of length 10 and anything longer..."
      ],
      "id": "9d884789"
    },
    {
      "cell_type": "code",
      "metadata": {
        "ExecuteTime": {
          "end_time": "2021-09-18T20:18:56.703768Z",
          "start_time": "2021-09-18T20:18:56.689402Z"
        },
        "id": "53c461f6",
        "outputId": "45bd5ca5-5bd5-4ba2-97ac-05de69d0788a"
      },
      "source": [
        "text = \"this is a sample review this is a sample review this is a sample review this is a sample review this is a sample review v this is a sample review this is a sample review this is a sample review this is a sample review this is a sample review\"\n",
        "list_of_indexes = encoder(preprocessing(text), fasttext)\n",
        "padding(list_of_indexes, max_seq_len=10)"
      ],
      "id": "53c461f6",
      "execution_count": null,
      "outputs": [
        {
          "data": {
            "text/plain": [
              "[3697, 1363, 3697, 1363, 3697, 1363, 3697, 1363, 3697, 1363]"
            ]
          },
          "execution_count": 139,
          "metadata": {},
          "output_type": "execute_result"
        }
      ]
    },
    {
      "cell_type": "markdown",
      "metadata": {
        "id": "d996b662"
      },
      "source": [
        "...get just cut to ten!"
      ],
      "id": "d996b662"
    },
    {
      "cell_type": "markdown",
      "metadata": {
        "id": "designing-project"
      },
      "source": [
        "All right. I feel confident enough to say that we have all of what we need for the preprocessing part!\n",
        "\n",
        "Now we need to create the:\n"
      ],
      "id": "designing-project"
    },
    {
      "cell_type": "markdown",
      "metadata": {
        "id": "editorial-appointment"
      },
      "source": [
        "### Data Loader\n",
        "\n",
        "Yes, they are back. [Is it a good or a bad memory?](\"https://github.com/Strive-School/ai_mar21/blob/main/M5_Deep_Learning/D7/Custom%20DataLoader%20and%20Dataset.ipynb\")\n",
        "\n",
        "If you take a look at that notebook, you remember that to create a custom data loader you need to override some method of the `Dataset` class from `torch.utils.data`. Before doing so, let's define the steps we need to do while loading the data:\n",
        "\n",
        "- Receive as input a row from the dataframe that we have defined above, that contains two columns: \"star\" and \"review\"\n",
        "- we separate \"star\" from \"review\"\n",
        "- we preprocess the \"review\" columns by doing what we have so far (tokenization etc but excluding the embeddings for now)\n",
        "- Padding \n",
        "- Store a list containing the sequence of indices with the associated labels\n",
        "\n",
        "Then we need to override also the `__len__` and the `__getitem__`methods of the `Dataset` class.\n",
        "\n",
        "Ok, stop talking, more action:"
      ],
      "id": "editorial-appointment"
    },
    {
      "cell_type": "code",
      "metadata": {
        "ExecuteTime": {
          "end_time": "2021-09-18T20:18:56.755477Z",
          "start_time": "2021-09-18T20:18:56.751413Z"
        },
        "id": "2420d3bf"
      },
      "source": [
        "class TrainData(Dataset):\n",
        "    def __init__(self, dff, max_seq_len=32): # dff is the input dff, max_seq_len is the max lenght allowed to a sentence before cutting or padding\n",
        "        self.max_seq_len = max_seq_len\n",
        "        \n",
        "        counter = Counter()\n",
        "        train_iter = iter(dff.review.values)\n",
        "        self.vec = FastText(\"simple\")\n",
        "        self.vec.vectors[1] = -torch.ones(self.vec.vectors[1].shape[0]) # replacing the vector associated with 1 (padded value) to become a vector of -1.\n",
        "        self.vec.vectors[0] = torch.zeros(self.vec.vectors[0].shape[0]) # replacing the vector associated with 0 (unknown) to become zeros\n",
        "        self.vectorizer = lambda x: self.vec.vectors[x]\n",
        "        self.labels = dff.star\n",
        "        sequences = [padding(encoder(preprocessing(sequence), self.vec), max_seq_len) for sequence in dff.review.tolist()]\n",
        "        self.sequences = sequences\n",
        "    \n",
        "    def __len__(self):\n",
        "        return len(self.sequences)\n",
        "    \n",
        "    def __getitem__(self, i):\n",
        "        assert len(self.sequences[i]) == self.max_seq_len\n",
        "        return self.sequences[i], self.labels[i]"
      ],
      "id": "2420d3bf",
      "execution_count": null,
      "outputs": []
    },
    {
      "cell_type": "code",
      "metadata": {
        "ExecuteTime": {
          "end_time": "2021-09-18T20:19:27.328453Z",
          "start_time": "2021-09-18T20:18:56.785701Z"
        },
        "id": "ready-correlation"
      },
      "source": [
        "dataset = TrainData(train_dff, max_seq_len=32)"
      ],
      "id": "ready-correlation",
      "execution_count": null,
      "outputs": []
    },
    {
      "cell_type": "markdown",
      "metadata": {
        "id": "premier-repair"
      },
      "source": [
        "When we index dataset with a `dataset[index]` notation, we get the pair containing the padded sequence of indices with the associated label: "
      ],
      "id": "premier-repair"
    },
    {
      "cell_type": "code",
      "metadata": {
        "ExecuteTime": {
          "end_time": "2021-09-18T20:19:27.353041Z",
          "start_time": "2021-09-18T20:19:27.349795Z"
        },
        "id": "massive-locking",
        "outputId": "96ee6720-8922-4caf-ce3b-f0952e44c904"
      },
      "source": [
        "dataset[0]"
      ],
      "id": "massive-locking",
      "execution_count": null,
      "outputs": [
        {
          "data": {
            "text/plain": [
              "([468,\n",
              "  0,\n",
              "  868,\n",
              "  2613,\n",
              "  58316,\n",
              "  360,\n",
              "  818,\n",
              "  12130,\n",
              "  1044,\n",
              "  13126,\n",
              "  520,\n",
              "  42977,\n",
              "  2996,\n",
              "  14931,\n",
              "  197,\n",
              "  2901,\n",
              "  992,\n",
              "  10051,\n",
              "  42977,\n",
              "  0,\n",
              "  0,\n",
              "  2603,\n",
              "  0,\n",
              "  4085,\n",
              "  454,\n",
              "  1736,\n",
              "  631,\n",
              "  338,\n",
              "  3332,\n",
              "  10770,\n",
              "  5302,\n",
              "  5512],\n",
              " 0)"
            ]
          },
          "execution_count": 142,
          "metadata": {},
          "output_type": "execute_result"
        }
      ]
    },
    {
      "cell_type": "code",
      "metadata": {
        "ExecuteTime": {
          "end_time": "2021-09-18T20:19:27.380289Z",
          "start_time": "2021-09-18T20:19:27.377500Z"
        },
        "id": "international-bangladesh",
        "outputId": "a66bb583-084e-46dd-c496-6573d96d89d0"
      },
      "source": [
        "dataset[1][0]"
      ],
      "id": "international-bangladesh",
      "execution_count": null,
      "outputs": [
        {
          "data": {
            "text/plain": [
              "[15391,\n",
              " 47950,\n",
              " 1508,\n",
              " 934,\n",
              " 4672,\n",
              " 11584,\n",
              " 15402,\n",
              " 24369,\n",
              " 14401,\n",
              " 542,\n",
              " 71101,\n",
              " 1097,\n",
              " 3851,\n",
              " 19201,\n",
              " 0,\n",
              " 5815,\n",
              " 1,\n",
              " 1,\n",
              " 1,\n",
              " 1,\n",
              " 1,\n",
              " 1,\n",
              " 1,\n",
              " 1,\n",
              " 1,\n",
              " 1,\n",
              " 1,\n",
              " 1,\n",
              " 1,\n",
              " 1,\n",
              " 1,\n",
              " 1]"
            ]
          },
          "execution_count": 143,
          "metadata": {},
          "output_type": "execute_result"
        }
      ]
    },
    {
      "cell_type": "markdown",
      "metadata": {
        "id": "manual-sweden"
      },
      "source": [
        "What are the ones there? They are the product of the padding! \n",
        "\n",
        "What is the vector associated with the index 1?"
      ],
      "id": "manual-sweden"
    },
    {
      "cell_type": "code",
      "metadata": {
        "ExecuteTime": {
          "end_time": "2021-09-18T20:19:27.388716Z",
          "start_time": "2021-09-18T20:19:27.381220Z"
        },
        "id": "constitutional-harmony"
      },
      "source": [
        "dataset.vec.vectors[1]"
      ],
      "id": "constitutional-harmony",
      "execution_count": null,
      "outputs": []
    },
    {
      "cell_type": "markdown",
      "metadata": {
        "id": "hairy-gothic"
      },
      "source": [
        "All negative ones! Makes sense! This is what we have defined!"
      ],
      "id": "hairy-gothic"
    },
    {
      "cell_type": "markdown",
      "metadata": {
        "id": "falling-domain"
      },
      "source": [
        "Storing into memory a lot of tensors containing all the embedded vectors, it can be very costly. This is why we load them by indexing with an integer. However, when we train our model, we need the embedded vectors!\n",
        "\n",
        "So let's define the `collate` function that will index our vocabulary only when it needs it!\n",
        "\n",
        "As argument it takes the batch (which will contains a `batch_size*max_seq_len` shape tensor) and the vectorizer. What is the vectorizer in our case? It's the vectorizer we have built in the TrainData class, that assign the vector associated with an index."
      ],
      "id": "falling-domain"
    },
    {
      "cell_type": "code",
      "metadata": {
        "ExecuteTime": {
          "end_time": "2021-09-18T20:19:27.437008Z",
          "start_time": "2021-09-18T20:19:27.434752Z"
        },
        "id": "clean-shelf"
      },
      "source": [
        "def collate(batch, vectorizer=dataset.vectorizer):\n",
        "    inputs = torch.stack([torch.stack([vectorizer(token) for token in sentence[0]]) for sentence in batch])\n",
        "    target = torch.LongTensor([item[1] for item in batch]) # Use long tensor to avoid unwanted rounding\n",
        "    return inputs, target"
      ],
      "id": "clean-shelf",
      "execution_count": null,
      "outputs": []
    },
    {
      "cell_type": "markdown",
      "metadata": {
        "id": "marine-entrance"
      },
      "source": [
        "And now, we can use the `DataLoader` class as we did for images:"
      ],
      "id": "marine-entrance"
    },
    {
      "cell_type": "code",
      "metadata": {
        "ExecuteTime": {
          "end_time": "2021-09-18T20:19:27.465335Z",
          "start_time": "2021-09-18T20:19:27.463197Z"
        },
        "id": "paperback-collaboration"
      },
      "source": [
        "batch_size = 16\n",
        "train_loader = DataLoader(dataset, batch_size=batch_size, collate_fn=collate)\n"
      ],
      "id": "paperback-collaboration",
      "execution_count": null,
      "outputs": []
    },
    {
      "cell_type": "code",
      "metadata": {
        "ExecuteTime": {
          "end_time": "2021-09-18T20:19:27.471533Z",
          "start_time": "2021-09-18T20:19:27.466451Z"
        },
        "id": "incident-soviet",
        "outputId": "558aefd9-7320-427f-c47c-3e54830ce904"
      },
      "source": [
        "next(iter(train_loader))[0].shape"
      ],
      "id": "incident-soviet",
      "execution_count": null,
      "outputs": [
        {
          "data": {
            "text/plain": [
              "torch.Size([16, 32, 300])"
            ]
          },
          "execution_count": 147,
          "metadata": {},
          "output_type": "execute_result"
        }
      ]
    },
    {
      "cell_type": "markdown",
      "metadata": {
        "id": "southwest-sleeping"
      },
      "source": [
        "Ready to train? Following is a small model to *makes things to run on my computer*. You can expect to be kicked out if you come at the debrief with this model! \n",
        "\n"
      ],
      "id": "southwest-sleeping"
    },
    {
      "cell_type": "code",
      "metadata": {
        "ExecuteTime": {
          "end_time": "2021-09-18T20:19:27.497792Z",
          "start_time": "2021-09-18T20:19:27.494432Z"
        },
        "id": "third-priority"
      },
      "source": [
        "from torch import nn\n",
        "import torch.nn.functional as F\n",
        "emb_dim = 300\n",
        "class Classifier(nn.Module):\n",
        "    def __init__(self, max_seq_len, emb_dim, hidden1=16, hidden2=16):\n",
        "        super(Classifier, self).__init__()\n",
        "        self.fc1 = nn.Linear(max_seq_len*emb_dim, hidden1)\n",
        "        self.fc2 = nn.Linear(hidden1, hidden2)\n",
        "        self.fc3 = nn.Linear(hidden2, 5)\n",
        "        self.out = nn.LogSoftmax(dim=1)\n",
        "    \n",
        "    \n",
        "    def forward(self, inputs):\n",
        "        x = F.relu(self.fc1(inputs.squeeze(1).float()))\n",
        "        x = F.relu(self.fc2(x))\n",
        "        x = self.fc3(x)\n",
        "        return self.out(x)"
      ],
      "id": "third-priority",
      "execution_count": null,
      "outputs": []
    },
    {
      "cell_type": "code",
      "metadata": {
        "ExecuteTime": {
          "end_time": "2021-09-18T20:19:27.502957Z",
          "start_time": "2021-09-18T20:19:27.499144Z"
        },
        "id": "bridal-commander",
        "outputId": "adf3a225-8e1c-4b69-ec49-3bd90242a540"
      },
      "source": [
        "MAX_SEQ_LEN = 32\n",
        "model = Classifier(MAX_SEQ_LEN, 300, 16, 16)\n",
        "model"
      ],
      "id": "bridal-commander",
      "execution_count": null,
      "outputs": [
        {
          "data": {
            "text/plain": [
              "Classifier(\n",
              "  (fc1): Linear(in_features=9600, out_features=16, bias=True)\n",
              "  (fc2): Linear(in_features=16, out_features=16, bias=True)\n",
              "  (fc3): Linear(in_features=16, out_features=5, bias=True)\n",
              "  (out): LogSoftmax(dim=1)\n",
              ")"
            ]
          },
          "execution_count": 149,
          "metadata": {},
          "output_type": "execute_result"
        }
      ]
    },
    {
      "cell_type": "code",
      "metadata": {
        "ExecuteTime": {
          "end_time": "2021-09-18T20:19:27.570818Z",
          "start_time": "2021-09-18T20:19:27.568815Z"
        },
        "id": "molecular-seventh"
      },
      "source": [
        "from torch import optim\n",
        "criterion = nn.NLLLoss()\n",
        "\n",
        "# Only train the classifier parameters, feature parameters are frozen\n",
        "optimizer = optim.Adam(model.parameters(), lr=0.003)\n"
      ],
      "id": "molecular-seventh",
      "execution_count": null,
      "outputs": []
    },
    {
      "cell_type": "code",
      "metadata": {
        "ExecuteTime": {
          "end_time": "2021-09-18T20:19:27.597418Z",
          "start_time": "2021-09-18T20:19:27.593108Z"
        },
        "id": "romantic-romance"
      },
      "source": [
        "dataiter = iter(train_loader)\n",
        "sentences, labels = dataiter.next()"
      ],
      "id": "romantic-romance",
      "execution_count": null,
      "outputs": []
    },
    {
      "cell_type": "code",
      "metadata": {
        "ExecuteTime": {
          "end_time": "2021-09-18T20:19:27.602693Z",
          "start_time": "2021-09-18T20:19:27.598474Z"
        },
        "id": "suburban-error",
        "colab": {
          "base_uri": "https://localhost:8080/"
        },
        "outputId": "df5d0b1c-2946-448b-a41d-d333d9468c33"
      },
      "source": [
        "# Forward pass through the network\n",
        "sentence_idx = 0\n",
        "sentences.resize_(16, 1, MAX_SEQ_LEN*emb_dim).shape\n",
        "log_ps = model.forward(sentences[sentence_idx,:])\n",
        "\n",
        "sentence = sentences[sentence_idx]\n",
        "torch.exp(log_ps)"
      ],
      "id": "suburban-error",
      "execution_count": 78,
      "outputs": [
        {
          "output_type": "execute_result",
          "data": {
            "text/plain": [
              "tensor([[0.0398, 0.0718, 0.1070, 0.5720, 0.2095]], grad_fn=<ExpBackward>)"
            ]
          },
          "metadata": {},
          "execution_count": 78
        }
      ]
    },
    {
      "cell_type": "markdown",
      "metadata": {
        "id": "greek-prospect"
      },
      "source": [
        "We got 5 probabilities: one for each of the possible rating star!"
      ],
      "id": "greek-prospect"
    },
    {
      "cell_type": "code",
      "metadata": {
        "ExecuteTime": {
          "end_time": "2021-09-18T20:19:28.590821Z",
          "start_time": "2021-09-18T20:19:27.626081Z"
        },
        "id": "elementary-sharing",
        "outputId": "243af27b-2bdc-490f-d17d-7c11e922ad80"
      },
      "source": [
        "epochs = 3\n",
        "print_every = 40\n",
        "\n",
        "for e in range(epochs):\n",
        "    running_loss = 0\n",
        "    print(f\"Epoch: {e+1}/{epochs}\")\n",
        "\n",
        "    for i, (sentences, labels) in enumerate(iter(train_loader)):\n",
        "\n",
        "        sentences.resize_(sentences.size()[0], 32* emb_dim)\n",
        "        \n",
        "        optimizer.zero_grad()\n",
        "        \n",
        "        output = model.forward(sentences)   # 1) Forward pass\n",
        "        loss = criterion(output, labels) # 2) Compute loss\n",
        "        loss.backward()                  # 3) Backward pass\n",
        "        optimizer.step()                 # 4) Update model\n",
        "        \n",
        "        running_loss += loss.item()\n",
        "        \n",
        "        if i % print_every == 0:\n",
        "            print(f\"\\tIteration: {i}\\t Loss: {running_loss/print_every:.4f}\")\n",
        "            running_loss = 0"
      ],
      "id": "elementary-sharing",
      "execution_count": null,
      "outputs": [
        {
          "name": "stdout",
          "output_type": "stream",
          "text": [
            "Epoch: 1/3\n",
            "\tIteration: 0\t Loss: 0.0412\n",
            "\tIteration: 40\t Loss: 1.6470\n",
            "\tIteration: 80\t Loss: 1.5952\n",
            "\tIteration: 120\t Loss: 1.6148\n",
            "Epoch: 2/3\n",
            "\tIteration: 0\t Loss: 0.0385\n",
            "\tIteration: 40\t Loss: 1.5419\n",
            "\tIteration: 80\t Loss: 1.4906\n",
            "\tIteration: 120\t Loss: 1.6104\n",
            "Epoch: 3/3\n",
            "\tIteration: 0\t Loss: 0.0343\n",
            "\tIteration: 40\t Loss: 1.4839\n",
            "\tIteration: 80\t Loss: 1.3513\n",
            "\tIteration: 120\t Loss: 1.4886\n"
          ]
        }
      ]
    },
    {
      "cell_type": "markdown",
      "metadata": {
        "id": "contrary-palestinian"
      },
      "source": [
        "Eventually:"
      ],
      "id": "contrary-palestinian"
    },
    {
      "cell_type": "code",
      "metadata": {
        "ExecuteTime": {
          "end_time": "2021-09-18T20:19:28.618668Z",
          "start_time": "2021-09-18T20:19:28.616715Z"
        },
        "id": "hungry-garden"
      },
      "source": [
        "from torchtext import datasets"
      ],
      "id": "hungry-garden",
      "execution_count": 79,
      "outputs": []
    },
    {
      "cell_type": "code",
      "metadata": {
        "ExecuteTime": {
          "end_time": "2021-09-18T20:19:46.366793Z",
          "start_time": "2021-09-18T20:19:28.668800Z"
        },
        "id": "likely-bosnia"
      },
      "source": [
        "train, test = datasets.AmazonReviewFull()"
      ],
      "id": "likely-bosnia",
      "execution_count": 82,
      "outputs": []
    },
    {
      "cell_type": "markdown",
      "metadata": {
        "id": "extended-nicholas"
      },
      "source": [
        "### Exercises\n",
        "\n",
        "- Create a real training process: use the train, val, test split for the dataset\n",
        "- Create a training loop that includes validation and test at the end\n",
        "    - You can borrow from your previous work, no need to write it from scratch\n",
        "- If you want to, feel free to change dataset\n"
      ],
      "id": "extended-nicholas"
    },
    {
      "cell_type": "code",
      "metadata": {
        "id": "0TLNNeZ17sBB"
      },
      "source": [
        "dff.rename(columns={'star': 'ratings', 'review': 'reviews'}, inplace=True)"
      ],
      "id": "0TLNNeZ17sBB",
      "execution_count": 94,
      "outputs": []
    },
    {
      "cell_type": "code",
      "metadata": {
        "id": "vxkK43bY67vQ"
      },
      "source": [
        "frames = [df, dff]\n",
        "\n",
        "alldataf = pd.concat(frames)"
      ],
      "id": "vxkK43bY67vQ",
      "execution_count": 229,
      "outputs": []
    },
    {
      "cell_type": "code",
      "metadata": {
        "colab": {
          "base_uri": "https://localhost:8080/",
          "height": 419
        },
        "id": "NQqHm_jW7ltg",
        "outputId": "09dc5a3b-adc5-4acb-c2ff-b48afe517676"
      },
      "source": [
        "alldataf"
      ],
      "id": "NQqHm_jW7ltg",
      "execution_count": 230,
      "outputs": [
        {
          "output_type": "execute_result",
          "data": {
            "text/html": [
              "<div>\n",
              "<style scoped>\n",
              "    .dataframe tbody tr th:only-of-type {\n",
              "        vertical-align: middle;\n",
              "    }\n",
              "\n",
              "    .dataframe tbody tr th {\n",
              "        vertical-align: top;\n",
              "    }\n",
              "\n",
              "    .dataframe thead th {\n",
              "        text-align: right;\n",
              "    }\n",
              "</style>\n",
              "<table border=\"1\" class=\"dataframe\">\n",
              "  <thead>\n",
              "    <tr style=\"text-align: right;\">\n",
              "      <th></th>\n",
              "      <th>ratings</th>\n",
              "      <th>reviews</th>\n",
              "    </tr>\n",
              "  </thead>\n",
              "  <tbody>\n",
              "    <tr>\n",
              "      <th>0</th>\n",
              "      <td>2</td>\n",
              "      <td>more like funchuck Gave this to my dad for a g...</td>\n",
              "    </tr>\n",
              "    <tr>\n",
              "      <th>1</th>\n",
              "      <td>4</td>\n",
              "      <td>Inspiring I hope a lot of people hear this cd....</td>\n",
              "    </tr>\n",
              "    <tr>\n",
              "      <th>2</th>\n",
              "      <td>4</td>\n",
              "      <td>The best soundtrack ever to anything. I'm read...</td>\n",
              "    </tr>\n",
              "    <tr>\n",
              "      <th>3</th>\n",
              "      <td>3</td>\n",
              "      <td>Chrono Cross OST The music of Yasunori Misuda ...</td>\n",
              "    </tr>\n",
              "    <tr>\n",
              "      <th>4</th>\n",
              "      <td>4</td>\n",
              "      <td>Too good to be true Probably the greatest soun...</td>\n",
              "    </tr>\n",
              "    <tr>\n",
              "      <th>...</th>\n",
              "      <td>...</td>\n",
              "      <td>...</td>\n",
              "    </tr>\n",
              "    <tr>\n",
              "      <th>2995</th>\n",
              "      <td>1</td>\n",
              "      <td>A MAJOR ( PUN INTENDED) DISAPPOINTMENT I was s...</td>\n",
              "    </tr>\n",
              "    <tr>\n",
              "      <th>2996</th>\n",
              "      <td>3</td>\n",
              "      <td>Good Inside look at the U.S. Open The author d...</td>\n",
              "    </tr>\n",
              "    <tr>\n",
              "      <th>2997</th>\n",
              "      <td>0</td>\n",
              "      <td>A Good Open Spoiled The subtitle should be, \"I...</td>\n",
              "    </tr>\n",
              "    <tr>\n",
              "      <th>2998</th>\n",
              "      <td>1</td>\n",
              "      <td>Good ideas, but horrible context I praise Oste...</td>\n",
              "    </tr>\n",
              "    <tr>\n",
              "      <th>2999</th>\n",
              "      <td>2</td>\n",
              "      <td>High Volume of Typos This is not a literary re...</td>\n",
              "    </tr>\n",
              "  </tbody>\n",
              "</table>\n",
              "<p>7000 rows × 2 columns</p>\n",
              "</div>"
            ],
            "text/plain": [
              "      ratings                                            reviews\n",
              "0           2  more like funchuck Gave this to my dad for a g...\n",
              "1           4  Inspiring I hope a lot of people hear this cd....\n",
              "2           4  The best soundtrack ever to anything. I'm read...\n",
              "3           3  Chrono Cross OST The music of Yasunori Misuda ...\n",
              "4           4  Too good to be true Probably the greatest soun...\n",
              "...       ...                                                ...\n",
              "2995        1  A MAJOR ( PUN INTENDED) DISAPPOINTMENT I was s...\n",
              "2996        3  Good Inside look at the U.S. Open The author d...\n",
              "2997        0  A Good Open Spoiled The subtitle should be, \"I...\n",
              "2998        1  Good ideas, but horrible context I praise Oste...\n",
              "2999        2  High Volume of Typos This is not a literary re...\n",
              "\n",
              "[7000 rows x 2 columns]"
            ]
          },
          "metadata": {},
          "execution_count": 230
        }
      ]
    },
    {
      "cell_type": "code",
      "metadata": {
        "colab": {
          "base_uri": "https://localhost:8080/"
        },
        "id": "Y-xAGnbpUitq",
        "outputId": "8d61f4d4-c549-4cde-b4aa-88bec3413831"
      },
      "source": [
        "torchtext.datasets.AmazonReviewFull(root='./data/')"
      ],
      "id": "Y-xAGnbpUitq",
      "execution_count": 210,
      "outputs": [
        {
          "output_type": "execute_result",
          "data": {
            "text/plain": [
              "(<torchtext.data.datasets_utils._RawTextIterableDataset at 0x7f5b7857fbd0>,\n",
              " <torchtext.data.datasets_utils._RawTextIterableDataset at 0x7f5b7857fa90>)"
            ]
          },
          "metadata": {},
          "execution_count": 210
        }
      ]
    },
    {
      "cell_type": "code",
      "metadata": {
        "id": "nLm8vzwp69QS"
      },
      "source": [
        "train_df = alldataf.groupby('ratings').apply(lambda x: x.sample(1000)).reset_index(drop=True)\n",
        "x_train, y_train  = train_df.iloc[:, 1:], train_df.iloc[:, 0]\n",
        "\n",
        "valid_df = alldataf.groupby('ratings').apply(lambda x: x.sample(200)).reset_index(drop=True)\n",
        "x_valid, y_valid  = valid_df.iloc[:, :1], valid_df.iloc[:, 0]\n",
        "\n",
        "test_df  = alldataf.groupby('ratings').apply(lambda x: x.sample(200)).reset_index(drop=True)\n",
        "x_test, y_test    = test_df.iloc[:, :1], test_df.iloc[:, 0]"
      ],
      "id": "nLm8vzwp69QS",
      "execution_count": 231,
      "outputs": []
    },
    {
      "cell_type": "code",
      "metadata": {
        "colab": {
          "base_uri": "https://localhost:8080/",
          "height": 419
        },
        "id": "5yLe6kIF7QJs",
        "outputId": "d28e019d-14d5-44a3-af8f-b0dc1f644e3d"
      },
      "source": [
        "x_train"
      ],
      "id": "5yLe6kIF7QJs",
      "execution_count": 232,
      "outputs": [
        {
          "output_type": "execute_result",
          "data": {
            "text/html": [
              "<div>\n",
              "<style scoped>\n",
              "    .dataframe tbody tr th:only-of-type {\n",
              "        vertical-align: middle;\n",
              "    }\n",
              "\n",
              "    .dataframe tbody tr th {\n",
              "        vertical-align: top;\n",
              "    }\n",
              "\n",
              "    .dataframe thead th {\n",
              "        text-align: right;\n",
              "    }\n",
              "</style>\n",
              "<table border=\"1\" class=\"dataframe\">\n",
              "  <thead>\n",
              "    <tr style=\"text-align: right;\">\n",
              "      <th></th>\n",
              "      <th>reviews</th>\n",
              "    </tr>\n",
              "  </thead>\n",
              "  <tbody>\n",
              "    <tr>\n",
              "      <th>0</th>\n",
              "      <td>The Paradise War I wanted to like this book bu...</td>\n",
              "    </tr>\n",
              "    <tr>\n",
              "      <th>1</th>\n",
              "      <td>Buyers Beware!!!!!!!!! This is one of those ch...</td>\n",
              "    </tr>\n",
              "    <tr>\n",
              "      <th>2</th>\n",
              "      <td>Horrible! Only 4 of the Columbia shorts, one w...</td>\n",
              "    </tr>\n",
              "    <tr>\n",
              "      <th>3</th>\n",
              "      <td>that kid wit wickie yell like a woman all movi...</td>\n",
              "    </tr>\n",
              "    <tr>\n",
              "      <th>4</th>\n",
              "      <td>BUYER BEWARE This is the biggest waste of mone...</td>\n",
              "    </tr>\n",
              "    <tr>\n",
              "      <th>...</th>\n",
              "      <td>...</td>\n",
              "    </tr>\n",
              "    <tr>\n",
              "      <th>4995</th>\n",
              "      <td>WOW! My favorite of all time....Giovanni intri...</td>\n",
              "    </tr>\n",
              "    <tr>\n",
              "      <th>4996</th>\n",
              "      <td>Beautiful but unbelievably sad This is a very ...</td>\n",
              "    </tr>\n",
              "    <tr>\n",
              "      <th>4997</th>\n",
              "      <td>A sweeping, epic novel that touches the heart ...</td>\n",
              "    </tr>\n",
              "    <tr>\n",
              "      <th>4998</th>\n",
              "      <td>Classic When I heard they were making a file o...</td>\n",
              "    </tr>\n",
              "    <tr>\n",
              "      <th>4999</th>\n",
              "      <td>It's my favorite CD!!!!!! Wow! This is my favo...</td>\n",
              "    </tr>\n",
              "  </tbody>\n",
              "</table>\n",
              "<p>5000 rows × 1 columns</p>\n",
              "</div>"
            ],
            "text/plain": [
              "                                                reviews\n",
              "0     The Paradise War I wanted to like this book bu...\n",
              "1     Buyers Beware!!!!!!!!! This is one of those ch...\n",
              "2     Horrible! Only 4 of the Columbia shorts, one w...\n",
              "3     that kid wit wickie yell like a woman all movi...\n",
              "4     BUYER BEWARE This is the biggest waste of mone...\n",
              "...                                                 ...\n",
              "4995  WOW! My favorite of all time....Giovanni intri...\n",
              "4996  Beautiful but unbelievably sad This is a very ...\n",
              "4997  A sweeping, epic novel that touches the heart ...\n",
              "4998  Classic When I heard they were making a file o...\n",
              "4999  It's my favorite CD!!!!!! Wow! This is my favo...\n",
              "\n",
              "[5000 rows x 1 columns]"
            ]
          },
          "metadata": {},
          "execution_count": 232
        }
      ]
    },
    {
      "cell_type": "code",
      "metadata": {
        "id": "wgeAURCTHUtC"
      },
      "source": [
        "import numpy as np\n",
        "class GetData(Dataset):\n",
        "\n",
        "\n",
        "  def __init__(self, X,Y,dataframe):\n",
        "    self.dataframe = dataframe\n",
        "\n",
        "    self.X = X\n",
        "    self.Y = Y\n",
        "\n",
        "\n",
        "    self.labels   = np.asarray(self.Y.iloc[0])\n",
        "\n",
        "  def __len__(self):\n",
        "\n",
        "    return len(self.X)\n",
        "\n",
        "  def __getitem(self,idx):\n",
        "\n",
        "    review_label = self.labels[idx]\n",
        "\n",
        "    reviews = self.X.iloc[idx,0]\n",
        "    reviews = np.array(reviews)\n",
        "\n",
        "    return review_label, reviews"
      ],
      "id": "wgeAURCTHUtC",
      "execution_count": 233,
      "outputs": []
    },
    {
      "cell_type": "code",
      "metadata": {
        "id": "AnX0ivKoCRq_"
      },
      "source": [
        "train_ds = GetData(x_train, y_train,alldataf)\n",
        "train_dataloader = torch.utils.data.DataLoader(train_ds, batch_size=16, shuffle=True)\n",
        "\n",
        "valid_ds = GetData(x_valid, y_valid,alldataf)\n",
        "valid_dataloader = torch.utils.data.DataLoader(valid_ds, batch_size=16, shuffle=True)\n",
        "\n",
        "test_ds = GetData(x_test, y_test,alldataf)\n",
        "test_dataloader = torch.utils.data.DataLoader(test_ds, batch_size=16, shuffle=True)"
      ],
      "id": "AnX0ivKoCRq_",
      "execution_count": 234,
      "outputs": []
    },
    {
      "cell_type": "code",
      "metadata": {
        "id": "e4qUd_8LNjjT"
      },
      "source": [
        "i,review,star = enumerate(iter(train_dataloader))\n",
        "print(star,review)"
      ],
      "id": "e4qUd_8LNjjT",
      "execution_count": null,
      "outputs": []
    },
    {
      "cell_type": "code",
      "metadata": {
        "colab": {
          "base_uri": "https://localhost:8080/"
        },
        "id": "YayHwNruNrvb",
        "outputId": "3e6a1df4-91ab-4955-ae31-17327d28264a"
      },
      "source": [
        "train_dataloader"
      ],
      "id": "YayHwNruNrvb",
      "execution_count": 166,
      "outputs": [
        {
          "output_type": "execute_result",
          "data": {
            "text/plain": [
              "<torch.utils.data.dataloader.DataLoader at 0x7f5b785627d0>"
            ]
          },
          "metadata": {},
          "execution_count": 166
        }
      ]
    },
    {
      "cell_type": "code",
      "metadata": {
        "id": "sLa1uHl-CExx"
      },
      "source": [
        "epochs = 10\n",
        "train_size = len(train_ds)\n",
        "valid_size = len(valid_ds)\n",
        "\n",
        "valid_conf_matrixes = []\n",
        "\n",
        "for epoch in range(epochs):\n",
        "    labels = torch.tensor([]).to(device).detach()\n",
        "    preds  = torch.tensor([]).to(device).detach()\n",
        "    \n",
        "    total_preds = 0\n",
        "    correct_preds = 0\n",
        "    \n",
        "    train_running_loss = 0.0\n",
        "    \n",
        "    for index, data in enumerate(train_loader):\n",
        "        model.train()\n",
        "        \n",
        "        batch_inputs, batch_labels = data[0][:].to(device).type(torch.float), data[1][:].to(device)\n",
        "        \n",
        "        outputs = model(batch_inputs)\n",
        "        \n",
        "        loss = criterion(outputs, batch_labels) # expects distribution from model softmax as pred and target_index as target\n",
        "        \n",
        "        optimizer.zero_grad()\n",
        "        loss.backward()\n",
        "        optimizer.step()\n",
        "        train_running_loss += loss.mean()\n",
        "        \n",
        "        labels = torch.cat((labels, batch_labels))\n",
        "        #total_preds += 1\n",
        "        \n",
        "        for index, item in enumerate(outputs):\n",
        "            #if labels[index] == torch.argmax(item):\n",
        "            #    correct_preds += 1\n",
        "                \n",
        "            preds  = torch.cat((preds, torch.argmax(item).unsqueeze(-1)))\n",
        "        \n",
        "        if index+1 == int(train_size / batch_size):\n",
        "            print(f'Training Epoch: {epoch+1}, step: {index+1}, mean training loss: {train_running_loss / int(train_size / batch_size)}')\n",
        "            train_running_loss = 0.0\n",
        "    \n",
        "    print('Calculating conf_matrix')\n",
        "    conf_mat = confusion_matrix(labels.cpu().numpy(), preds.cpu().numpy())\n",
        "    \n",
        "    total = np.sum(conf_mat)\n",
        "    \n",
        "    correct_count = 0\n",
        "    \n",
        "    for i, data in enumerate(conf_mat[0]):\n",
        "        correct_count += conf_mat[i][i]\n",
        "    \n",
        "    \n",
        "    print(f'Training Epoch {epoch+1}:\\n Accuracy: {correct_count/total}\\n{conf_mat}\\n')\n",
        "    print()"
      ],
      "id": "sLa1uHl-CExx",
      "execution_count": null,
      "outputs": []
    },
    {
      "cell_type": "code",
      "metadata": {
        "id": "RA2sfkEG-oEO"
      },
      "source": [
        "\n",
        "    \n",
        "    \n",
        "    total_preds = 0\n",
        "    correct_preds = 0\n",
        "    \n",
        "    valid_running_loss = 0.0\n",
        "    \n",
        "    for index, data in enumerate(valid_dataloader):\n",
        "        model.eval()\n",
        "        \n",
        "        batch_inputs, batch_labels = data[0][:].to(device).type(torch.float), data[1][:].to(device)\n",
        "        \n",
        "        outputs = model(batch_inputs)\n",
        "        \n",
        "        loss = criterion(outputs, batch_labels) # expects distribution from model softmax as pred and target_index as target\n",
        "        \n",
        "        train_running_loss += loss.mean()\n",
        "        \n",
        "        labels = torch.cat((labels, batch_labels))\n",
        "        #total_preds += 1\n",
        "        \n",
        "        for i, item in enumerate(outputs):\n",
        "            #if labels[i] == torch.argmax(item):\n",
        "            #    correct_preds += 1\n",
        "                \n",
        "            preds  = torch.cat((preds, torch.argmax(item).unsqueeze(-1)))\n",
        "        \n",
        "        if index+1 == int(train_size / batch_size):\n",
        "            print(f'Validation Epoch: {epoch+1}, step: {index+1}, mean validation loss: {valid_running_loss / int(valid_size / batch_size)}')\n",
        "            train_running_loss = 0.0\n",
        "        \n",
        "    print('Calculating conf_matrix')\n",
        "    conf_mat = confusion_matrix(labels.cpu().numpy(), preds.cpu().numpy())\n",
        "    \n",
        "    total = np.sum(conf_mat)\n",
        "    \n",
        "    correct_count = 0\n",
        "    \n",
        "    for i, data in enumerate(conf_mat[0]):\n",
        "        correct_count += conf_mat[i][i]\n",
        "    \n",
        "    valid_conf_matrixes.append(conf_mat)   \n",
        "    \n",
        "    print(f'Validation Epoch {epoch+1}:\\n Accuracy: {correct_count/total}\\n{conf_mat}')\n",
        "    print()"
      ],
      "id": "RA2sfkEG-oEO",
      "execution_count": null,
      "outputs": []
    }
  ]
}