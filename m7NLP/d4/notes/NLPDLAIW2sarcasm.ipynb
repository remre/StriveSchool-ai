{
  "nbformat": 4,
  "nbformat_minor": 0,
  "metadata": {
    "colab": {
      "name": "NLPDLAIW2sarcasm.ipynb",
      "provenance": [],
      "authorship_tag": "ABX9TyOTwPv0HQKpP0zc1Z525tZn",
      "include_colab_link": true
    },
    "kernelspec": {
      "name": "python3",
      "display_name": "Python 3"
    },
    "language_info": {
      "name": "python"
    }
  },
  "cells": [
    {
      "cell_type": "markdown",
      "metadata": {
        "id": "view-in-github",
        "colab_type": "text"
      },
      "source": [
        "<a href=\"https://colab.research.google.com/github/remre/StriveSchool-ai/blob/main/m7NLP/d4/notes/NLPDLAIW2sarcasm.ipynb\" target=\"_parent\"><img src=\"https://colab.research.google.com/assets/colab-badge.svg\" alt=\"Open In Colab\"/></a>"
      ]
    },
    {
      "cell_type": "code",
      "metadata": {
        "id": "7bvMxYoiNNsv"
      },
      "source": [
        "import tensorflow as tf\n",
        "import os \n",
        "from tensorflow import keras\n",
        "import zipfile\n",
        "import tensorflow_datasets as tfds\n",
        "from tensorflow.keras.preprocessing.text import Tokenizer\n",
        "import os\n",
        "from datetime import datetime\n",
        "from tensorflow.keras.preprocessing.sequence import pad_sequences"
      ],
      "execution_count": 1,
      "outputs": []
    },
    {
      "cell_type": "code",
      "metadata": {
        "id": "NN4T0DldzdBz"
      },
      "source": [
        "# os.environ[\"KAGGLE_CONFIG_DIR\"] = (\"/content\")\n",
        "# !kaggle datasets download -d rmisra/news-headlines-dataset-for-sarcasm-detection"
      ],
      "execution_count": null,
      "outputs": []
    },
    {
      "cell_type": "code",
      "metadata": {
        "colab": {
          "base_uri": "https://localhost:8080/"
        },
        "id": "-ko-cW7wNj7I",
        "outputId": "8a75fa86-800f-443a-891c-cdaf09b0428f"
      },
      "source": [
        "!gdown --id 1xRU3xY5-tkiPGvlz5xBJ18_pHWSRzI4v #sarcasmdata"
      ],
      "execution_count": 2,
      "outputs": [
        {
          "output_type": "stream",
          "name": "stdout",
          "text": [
            "Downloading...\n",
            "From: https://drive.google.com/uc?id=1xRU3xY5-tkiPGvlz5xBJ18_pHWSRzI4v\n",
            "To: /content/sarcasm.json\n",
            "\r  0% 0.00/5.64M [00:00<?, ?B/s]\r100% 5.64M/5.64M [00:00<00:00, 88.2MB/s]\n"
          ]
        }
      ]
    },
    {
      "cell_type": "code",
      "metadata": {
        "id": "bNxTCY8wO2IE"
      },
      "source": [
        "vocab_size = 10000\n",
        "embedding_dim = 16\n",
        "max_length = 32\n",
        "trunc_type= 'post'\n",
        "padding_type = 'post'\n",
        "oov_tok = '<OOV>'\n",
        "training_size = 20000"
      ],
      "execution_count": 3,
      "outputs": []
    },
    {
      "cell_type": "code",
      "metadata": {
        "id": "jA5p5uFqN81d"
      },
      "source": [
        "import json\n",
        "with open('sarcasm.json', 'r') as f:\n",
        "  datastore = json.load(f)\n",
        "\n",
        "\n",
        "sentences = []\n",
        "labels = []\n",
        "urls  = []\n",
        "\n",
        "\n",
        "for item in datastore:\n",
        "\n",
        "  sentences.append(item['headline'])\n",
        "  labels.append(item['is_sarcastic'])\n",
        "  urls.append(item['article_link'])"
      ],
      "execution_count": 4,
      "outputs": []
    },
    {
      "cell_type": "code",
      "metadata": {
        "id": "xppi8A0LPHTm"
      },
      "source": [
        "\n",
        "training_sentences = sentences[0:training_size]\n",
        "testing_sentences = sentences[training_size:]\n",
        "training_labels = labels[0:training_size]\n",
        "testing_labels = labels[training_size:]"
      ],
      "execution_count": 13,
      "outputs": []
    },
    {
      "cell_type": "code",
      "metadata": {
        "id": "NdmcX6wN8mbA"
      },
      "source": [
        "tokenizer = Tokenizer(num_words=vocab_size,oov_token=oov_tok)\n",
        "tokenizer.fit_on_texts(training_sentences)\n",
        "word_index = tokenizer.word_index\n",
        "sequences = tokenizer.texts_to_sequences(training_sentences)\n",
        "padded = pad_sequences(sequences, maxlen= max_length, truncating=trunc_type)\n",
        "\n",
        "testing_sentences = tokenizer.texts_to_sequences(testing_sentences)\n",
        "testing_padded = pad_sequences(testing_sentences, maxlen= max_length,truncating=trunc_type)"
      ],
      "execution_count": 14,
      "outputs": []
    },
    {
      "cell_type": "code",
      "metadata": {
        "id": "RnHvVP48-HaQ"
      },
      "source": [
        "model = tf.keras.Sequential([\n",
        "                             tf.keras.layers.Embedding(vocab_size, embedding_dim, input_length=max_length),\n",
        "                             tf.keras.layers.GlobalAveragePooling1D(),\n",
        "                             tf.keras.layers.Dense(24,activation='relu'),\n",
        "                             tf.keras.layers.Dense(1,activation='sigmoid')\n",
        "\n",
        "])\n",
        "\n",
        "model.compile(loss='binary_crossentropy', optimizer='adam', metrics= ['accuracy'])\n",
        "model.summary()"
      ],
      "execution_count": null,
      "outputs": []
    },
    {
      "cell_type": "code",
      "metadata": {
        "id": "4j_wf_j6Av0r"
      },
      "source": [
        "import numpy as np"
      ],
      "execution_count": 10,
      "outputs": []
    },
    {
      "cell_type": "code",
      "metadata": {
        "colab": {
          "base_uri": "https://localhost:8080/"
        },
        "id": "2Ty6PDn7_5Lu",
        "outputId": "0decc24b-f074-46f4-afd0-8c2700327a4b"
      },
      "source": [
        "training_labels = np.array(training_labels)\n",
        "testing_labels = np.array(testing_labels)\n",
        "testing_labels"
      ],
      "execution_count": null,
      "outputs": [
        {
          "output_type": "execute_result",
          "data": {
            "text/plain": [
              "array([1, 0, 0, ..., 0, 0, 0])"
            ]
          },
          "metadata": {},
          "execution_count": 32
        },
        {
          "output_type": "stream",
          "name": "stdout",
          "text": [
            "time: 9.32 ms (started: 2021-11-01 05:47:42 +00:00)\n"
          ]
        }
      ]
    },
    {
      "cell_type": "code",
      "metadata": {
        "colab": {
          "base_uri": "https://localhost:8080/"
        },
        "id": "1Sl7B8TL_j3f",
        "outputId": "3fd1f14c-dc93-4d46-a7e4-949edd475c44"
      },
      "source": [
        "num_epochs = 30\n",
        "history = model.fit(padded,\n",
        "          training_labels,\n",
        "          epochs=num_epochs,\n",
        "          validation_data=(testing_padded, testing_labels),\n",
        "          verbose=2\n",
        ")"
      ],
      "execution_count": 17,
      "outputs": [
        {
          "output_type": "stream",
          "name": "stdout",
          "text": [
            "Epoch 1/30\n",
            "625/625 - 3s - loss: 0.5619 - accuracy: 0.7002 - val_loss: 0.4021 - val_accuracy: 0.8237\n",
            "Epoch 2/30\n",
            "625/625 - 2s - loss: 0.3096 - accuracy: 0.8740 - val_loss: 0.3526 - val_accuracy: 0.8405\n",
            "Epoch 3/30\n",
            "625/625 - 2s - loss: 0.2308 - accuracy: 0.9076 - val_loss: 0.3434 - val_accuracy: 0.8551\n",
            "Epoch 4/30\n",
            "625/625 - 2s - loss: 0.1854 - accuracy: 0.9295 - val_loss: 0.3647 - val_accuracy: 0.8533\n",
            "Epoch 5/30\n",
            "625/625 - 2s - loss: 0.1534 - accuracy: 0.9436 - val_loss: 0.4032 - val_accuracy: 0.8501\n",
            "Epoch 6/30\n",
            "625/625 - 2s - loss: 0.1304 - accuracy: 0.9546 - val_loss: 0.4337 - val_accuracy: 0.8438\n",
            "Epoch 7/30\n",
            "625/625 - 2s - loss: 0.1116 - accuracy: 0.9606 - val_loss: 0.4670 - val_accuracy: 0.8422\n",
            "Epoch 8/30\n",
            "625/625 - 2s - loss: 0.0946 - accuracy: 0.9689 - val_loss: 0.5099 - val_accuracy: 0.8384\n",
            "Epoch 9/30\n",
            "625/625 - 2s - loss: 0.0825 - accuracy: 0.9732 - val_loss: 0.5560 - val_accuracy: 0.8337\n",
            "Epoch 10/30\n",
            "625/625 - 2s - loss: 0.0720 - accuracy: 0.9761 - val_loss: 0.6009 - val_accuracy: 0.8319\n",
            "Epoch 11/30\n",
            "625/625 - 2s - loss: 0.0620 - accuracy: 0.9804 - val_loss: 0.6589 - val_accuracy: 0.8268\n",
            "Epoch 12/30\n",
            "625/625 - 2s - loss: 0.0541 - accuracy: 0.9839 - val_loss: 0.7116 - val_accuracy: 0.8238\n",
            "Epoch 13/30\n",
            "625/625 - 2s - loss: 0.0480 - accuracy: 0.9865 - val_loss: 0.7569 - val_accuracy: 0.8223\n",
            "Epoch 14/30\n",
            "625/625 - 2s - loss: 0.0413 - accuracy: 0.9875 - val_loss: 0.8346 - val_accuracy: 0.8189\n",
            "Epoch 15/30\n",
            "625/625 - 2s - loss: 0.0381 - accuracy: 0.9882 - val_loss: 0.8678 - val_accuracy: 0.8199\n",
            "Epoch 16/30\n",
            "625/625 - 2s - loss: 0.0314 - accuracy: 0.9913 - val_loss: 0.9372 - val_accuracy: 0.8126\n",
            "Epoch 17/30\n",
            "625/625 - 2s - loss: 0.0283 - accuracy: 0.9923 - val_loss: 0.9873 - val_accuracy: 0.8153\n",
            "Epoch 18/30\n",
            "625/625 - 2s - loss: 0.0249 - accuracy: 0.9929 - val_loss: 1.0630 - val_accuracy: 0.8129\n",
            "Epoch 19/30\n",
            "625/625 - 2s - loss: 0.0234 - accuracy: 0.9929 - val_loss: 1.1230 - val_accuracy: 0.8107\n",
            "Epoch 20/30\n",
            "625/625 - 2s - loss: 0.0197 - accuracy: 0.9944 - val_loss: 1.1739 - val_accuracy: 0.8094\n",
            "Epoch 21/30\n",
            "625/625 - 2s - loss: 0.0175 - accuracy: 0.9954 - val_loss: 1.2604 - val_accuracy: 0.8064\n",
            "Epoch 22/30\n",
            "625/625 - 2s - loss: 0.0159 - accuracy: 0.9954 - val_loss: 1.3077 - val_accuracy: 0.8053\n",
            "Epoch 23/30\n",
            "625/625 - 2s - loss: 0.0154 - accuracy: 0.9961 - val_loss: 1.3800 - val_accuracy: 0.8073\n",
            "Epoch 24/30\n",
            "625/625 - 2s - loss: 0.0128 - accuracy: 0.9966 - val_loss: 1.4372 - val_accuracy: 0.8049\n",
            "Epoch 25/30\n",
            "625/625 - 2s - loss: 0.0125 - accuracy: 0.9961 - val_loss: 1.4904 - val_accuracy: 0.8038\n",
            "Epoch 26/30\n",
            "625/625 - 2s - loss: 0.0117 - accuracy: 0.9966 - val_loss: 1.5620 - val_accuracy: 0.8035\n",
            "Epoch 27/30\n",
            "625/625 - 2s - loss: 0.0110 - accuracy: 0.9965 - val_loss: 1.5884 - val_accuracy: 0.8065\n",
            "Epoch 28/30\n",
            "625/625 - 2s - loss: 0.0094 - accuracy: 0.9971 - val_loss: 1.6662 - val_accuracy: 0.8047\n",
            "Epoch 29/30\n",
            "625/625 - 2s - loss: 0.0087 - accuracy: 0.9974 - val_loss: 1.7419 - val_accuracy: 0.8018\n",
            "Epoch 30/30\n",
            "625/625 - 2s - loss: 0.0076 - accuracy: 0.9976 - val_loss: 1.8056 - val_accuracy: 0.8032\n"
          ]
        }
      ]
    },
    {
      "cell_type": "code",
      "metadata": {
        "colab": {
          "base_uri": "https://localhost:8080/",
          "height": 330
        },
        "id": "rBxqdNTRC6cp",
        "outputId": "a68a7003-ac24-4567-ad73-ebe5820d7943"
      },
      "source": [
        "import matplotlib.pyplot as plt\n",
        "\n",
        "def plot_g(history, string):\n",
        "  plt.plot(history.history[string])\n",
        "  plt.plot(history.history['val_'+string])\n",
        "  plt.xlabel(\"Epochs\")\n",
        "  plt.ylabel(string)\n",
        "  plt.legend([string,'val_'+string])\n",
        "  plt.show()\n",
        "\n",
        "\n",
        "plot_g(history,\"acc\")\n",
        "plot_g(history,'loss')"
      ],
      "execution_count": 20,
      "outputs": [
        {
          "output_type": "error",
          "ename": "KeyError",
          "evalue": "ignored",
          "traceback": [
            "\u001b[0;31m---------------------------------------------------------------------------\u001b[0m",
            "\u001b[0;31mKeyError\u001b[0m                                  Traceback (most recent call last)",
            "\u001b[0;32m<ipython-input-20-3a03a7f6b322>\u001b[0m in \u001b[0;36m<module>\u001b[0;34m()\u001b[0m\n\u001b[1;32m     10\u001b[0m \u001b[0;34m\u001b[0m\u001b[0m\n\u001b[1;32m     11\u001b[0m \u001b[0;34m\u001b[0m\u001b[0m\n\u001b[0;32m---> 12\u001b[0;31m \u001b[0mplot_g\u001b[0m\u001b[0;34m(\u001b[0m\u001b[0mhistory\u001b[0m\u001b[0;34m,\u001b[0m\u001b[0;34m\"acc\"\u001b[0m\u001b[0;34m)\u001b[0m\u001b[0;34m\u001b[0m\u001b[0;34m\u001b[0m\u001b[0m\n\u001b[0m\u001b[1;32m     13\u001b[0m \u001b[0mplot_g\u001b[0m\u001b[0;34m(\u001b[0m\u001b[0mhistory\u001b[0m\u001b[0;34m,\u001b[0m\u001b[0;34m'loss'\u001b[0m\u001b[0;34m)\u001b[0m\u001b[0;34m\u001b[0m\u001b[0;34m\u001b[0m\u001b[0m\n",
            "\u001b[0;32m<ipython-input-20-3a03a7f6b322>\u001b[0m in \u001b[0;36mplot_g\u001b[0;34m(history, string)\u001b[0m\n\u001b[1;32m      2\u001b[0m \u001b[0;34m\u001b[0m\u001b[0m\n\u001b[1;32m      3\u001b[0m \u001b[0;32mdef\u001b[0m \u001b[0mplot_g\u001b[0m\u001b[0;34m(\u001b[0m\u001b[0mhistory\u001b[0m\u001b[0;34m,\u001b[0m \u001b[0mstring\u001b[0m\u001b[0;34m)\u001b[0m\u001b[0;34m:\u001b[0m\u001b[0;34m\u001b[0m\u001b[0;34m\u001b[0m\u001b[0m\n\u001b[0;32m----> 4\u001b[0;31m   \u001b[0mplt\u001b[0m\u001b[0;34m.\u001b[0m\u001b[0mplot\u001b[0m\u001b[0;34m(\u001b[0m\u001b[0mhistory\u001b[0m\u001b[0;34m.\u001b[0m\u001b[0mhistory\u001b[0m\u001b[0;34m[\u001b[0m\u001b[0mstring\u001b[0m\u001b[0;34m]\u001b[0m\u001b[0;34m)\u001b[0m\u001b[0;34m\u001b[0m\u001b[0;34m\u001b[0m\u001b[0m\n\u001b[0m\u001b[1;32m      5\u001b[0m   \u001b[0mplt\u001b[0m\u001b[0;34m.\u001b[0m\u001b[0mplot\u001b[0m\u001b[0;34m(\u001b[0m\u001b[0mhistory\u001b[0m\u001b[0;34m.\u001b[0m\u001b[0mhistory\u001b[0m\u001b[0;34m[\u001b[0m\u001b[0;34m'val_'\u001b[0m\u001b[0;34m+\u001b[0m\u001b[0mstring\u001b[0m\u001b[0;34m]\u001b[0m\u001b[0;34m)\u001b[0m\u001b[0;34m\u001b[0m\u001b[0;34m\u001b[0m\u001b[0m\n\u001b[1;32m      6\u001b[0m   \u001b[0mplt\u001b[0m\u001b[0;34m.\u001b[0m\u001b[0mxlabel\u001b[0m\u001b[0;34m(\u001b[0m\u001b[0;34m\"Epochs\"\u001b[0m\u001b[0;34m)\u001b[0m\u001b[0;34m\u001b[0m\u001b[0;34m\u001b[0m\u001b[0m\n",
            "\u001b[0;31mKeyError\u001b[0m: 'acc'"
          ]
        }
      ]
    },
    {
      "cell_type": "code",
      "metadata": {
        "id": "4q1ecW-gEsMq"
      },
      "source": [
        ""
      ],
      "execution_count": null,
      "outputs": []
    }
  ]
}