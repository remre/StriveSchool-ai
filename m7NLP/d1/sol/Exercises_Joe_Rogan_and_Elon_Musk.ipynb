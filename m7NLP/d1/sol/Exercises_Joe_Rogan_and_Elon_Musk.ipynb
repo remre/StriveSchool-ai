{
  "nbformat": 4,
  "nbformat_minor": 5,
  "metadata": {
    "kernelspec": {
      "display_name": "Python 3",
      "language": "python",
      "name": "python3"
    },
    "language_info": {
      "codemirror_mode": {
        "name": "ipython",
        "version": 3
      },
      "file_extension": ".py",
      "mimetype": "text/x-python",
      "name": "python",
      "nbconvert_exporter": "python",
      "pygments_lexer": "ipython3",
      "version": "3.9.1"
    },
    "varInspector": {
      "cols": {
        "lenName": 16,
        "lenType": 16,
        "lenVar": 40
      },
      "kernels_config": {
        "python": {
          "delete_cmd_postfix": "",
          "delete_cmd_prefix": "del ",
          "library": "var_list.py",
          "varRefreshCmd": "print(var_dic_list())"
        },
        "r": {
          "delete_cmd_postfix": ") ",
          "delete_cmd_prefix": "rm(",
          "library": "var_list.r",
          "varRefreshCmd": "cat(var_dic_list()) "
        }
      },
      "types_to_exclude": [
        "module",
        "function",
        "builtin_function_or_method",
        "instance",
        "_Feature"
      ],
      "window_display": false
    },
    "colab": {
      "name": "Exercises - Joe_Rogan_and Elon_Musk.ipynb",
      "provenance": [],
      "collapsed_sections": [],
      "include_colab_link": true
    }
  },
  "cells": [
    {
      "cell_type": "markdown",
      "metadata": {
        "id": "view-in-github",
        "colab_type": "text"
      },
      "source": [
        "<a href=\"https://colab.research.google.com/github/remre/StriveSchool-ai/blob/main/m7NLP/d1/sol/Exercises_Joe_Rogan_and_Elon_Musk.ipynb\" target=\"_parent\"><img src=\"https://colab.research.google.com/assets/colab-badge.svg\" alt=\"Open In Colab\"/></a>"
      ]
    },
    {
      "cell_type": "code",
      "metadata": {
        "ExecuteTime": {
          "end_time": "2021-03-29T22:31:33.722276Z",
          "start_time": "2021-03-29T22:31:33.372070Z"
        },
        "id": "broad-working"
      },
      "source": [
        "import pandas as pd"
      ],
      "id": "broad-working",
      "execution_count": null,
      "outputs": []
    },
    {
      "cell_type": "code",
      "metadata": {
        "ExecuteTime": {
          "end_time": "2021-03-29T22:31:33.737038Z",
          "start_time": "2021-03-29T22:31:33.723718Z"
        },
        "id": "accepting-profit",
        "colab": {
          "base_uri": "https://localhost:8080/",
          "height": 204
        },
        "outputId": "0519eea2-d7de-4c25-b960-9097b6090e5b"
      },
      "source": [
        "df = pd.read_csv(\"jre_elon_musk.csv\")\n",
        "df.head()"
      ],
      "id": "accepting-profit",
      "execution_count": 4,
      "outputs": [
        {
          "output_type": "execute_result",
          "data": {
            "text/html": [
              "<div>\n",
              "<style scoped>\n",
              "    .dataframe tbody tr th:only-of-type {\n",
              "        vertical-align: middle;\n",
              "    }\n",
              "\n",
              "    .dataframe tbody tr th {\n",
              "        vertical-align: top;\n",
              "    }\n",
              "\n",
              "    .dataframe thead th {\n",
              "        text-align: right;\n",
              "    }\n",
              "</style>\n",
              "<table border=\"1\" class=\"dataframe\">\n",
              "  <thead>\n",
              "    <tr style=\"text-align: right;\">\n",
              "      <th></th>\n",
              "      <th>Timestamp</th>\n",
              "      <th>Speaker</th>\n",
              "      <th>Text</th>\n",
              "    </tr>\n",
              "  </thead>\n",
              "  <tbody>\n",
              "    <tr>\n",
              "      <th>0</th>\n",
              "      <td>[00:00:00]</td>\n",
              "      <td>Joe Rogan</td>\n",
              "      <td>Ah, ha, ha, ha. Four, three, two, one, boom. T...</td>\n",
              "    </tr>\n",
              "    <tr>\n",
              "      <th>1</th>\n",
              "      <td>[00:00:09]</td>\n",
              "      <td>Elon Musk</td>\n",
              "      <td>You're welcome.</td>\n",
              "    </tr>\n",
              "    <tr>\n",
              "      <th>2</th>\n",
              "      <td>[00:00:10]</td>\n",
              "      <td>Joe Rogan</td>\n",
              "      <td>It's very good to meet you.</td>\n",
              "    </tr>\n",
              "    <tr>\n",
              "      <th>3</th>\n",
              "      <td>[00:00:11]</td>\n",
              "      <td>Elon Musk</td>\n",
              "      <td>Nice to meet you too.</td>\n",
              "    </tr>\n",
              "    <tr>\n",
              "      <th>4</th>\n",
              "      <td>[00:00:12]</td>\n",
              "      <td>Joe Rogan</td>\n",
              "      <td>And thanks for not lighting this place on fire.</td>\n",
              "    </tr>\n",
              "  </tbody>\n",
              "</table>\n",
              "</div>"
            ],
            "text/plain": [
              "    Timestamp    Speaker                                               Text\n",
              "0  [00:00:00]  Joe Rogan  Ah, ha, ha, ha. Four, three, two, one, boom. T...\n",
              "1  [00:00:09]  Elon Musk                                    You're welcome.\n",
              "2  [00:00:10]  Joe Rogan                        It's very good to meet you.\n",
              "3  [00:00:11]  Elon Musk                              Nice to meet you too.\n",
              "4  [00:00:12]  Joe Rogan    And thanks for not lighting this place on fire."
            ]
          },
          "metadata": {},
          "execution_count": 4
        }
      ]
    },
    {
      "cell_type": "code",
      "metadata": {
        "ExecuteTime": {
          "end_time": "2021-03-29T22:31:33.740828Z",
          "start_time": "2021-03-29T22:31:33.738483Z"
        },
        "id": "pacific-proportion",
        "colab": {
          "base_uri": "https://localhost:8080/"
        },
        "outputId": "19ffafff-1629-44d7-a511-6c096d462b0a"
      },
      "source": [
        "# Print the first ten lines of text\n",
        "df['Text'].head(10)"
      ],
      "id": "pacific-proportion",
      "execution_count": 6,
      "outputs": [
        {
          "output_type": "execute_result",
          "data": {
            "text/plain": [
              "0    Ah, ha, ha, ha. Four, three, two, one, boom. T...\n",
              "1                                      You're welcome.\n",
              "2                          It's very good to meet you.\n",
              "3                                Nice to meet you too.\n",
              "4      And thanks for not lighting this place on fire.\n",
              "5                 You're welcome. That's coming later.\n",
              "6    How does one, just in the middle of doing all ...\n",
              "7    Well, the flame, we didn't put a lot of time i...\n",
              "8                                            Now, who-\n",
              "9    And then, we have a merchandise section that o...\n",
              "Name: Text, dtype: object"
            ]
          },
          "metadata": {},
          "execution_count": 6
        }
      ]
    },
    {
      "cell_type": "code",
      "metadata": {
        "colab": {
          "base_uri": "https://localhost:8080/",
          "height": 35
        },
        "id": "r_bUU9_RDVMi",
        "outputId": "226430ca-e7af-4da3-85f0-b25fcc6dea40"
      },
      "source": [
        "df.Timestamp[1].replace('[','').replace(']','')"
      ],
      "id": "r_bUU9_RDVMi",
      "execution_count": 52,
      "outputs": [
        {
          "output_type": "execute_result",
          "data": {
            "application/vnd.google.colaboratory.intrinsic+json": {
              "type": "string"
            },
            "text/plain": [
              "'00:00:09'"
            ]
          },
          "metadata": {},
          "execution_count": 52
        }
      ]
    },
    {
      "cell_type": "code",
      "metadata": {
        "ExecuteTime": {
          "end_time": "2021-03-29T22:31:33.744723Z",
          "start_time": "2021-03-29T22:31:33.742128Z"
        },
        "id": "split-binary"
      },
      "source": [
        "# Create a function to convert timestamp into seconds\n",
        "import re\n",
        "from datetime import datetime"
      ],
      "id": "split-binary",
      "execution_count": 81,
      "outputs": []
    },
    {
      "cell_type": "code",
      "metadata": {
        "id": "8AkK-eg0Gt4C"
      },
      "source": [
        "for i in range(len(df.Timestamp)):\n",
        "    date_time = datetime.strptime( df.Timestamp[i].replace('[','').replace(']',''), \"%H:%M:%S\")\n",
        "    a_timedelta = date_time - datetime(1900, 1, 1)\n",
        "    seconds = a_timedelta.total_seconds()\n",
        "    \n",
        "    df.Timestamp[i] = seconds\n",
        "    print(df.Timestamp[i])"
      ],
      "id": "8AkK-eg0Gt4C",
      "execution_count": null,
      "outputs": []
    },
    {
      "cell_type": "code",
      "metadata": {
        "colab": {
          "base_uri": "https://localhost:8080/"
        },
        "id": "h-UOwKfsHl_f",
        "outputId": "44cfa52c-aa69-4dde-ab4b-b5cfb9529a25"
      },
      "source": [
        "df.isnull().sum()"
      ],
      "id": "h-UOwKfsHl_f",
      "execution_count": 99,
      "outputs": [
        {
          "output_type": "execute_result",
          "data": {
            "text/plain": [
              "Timestamp    0\n",
              "Speaker      0\n",
              "Text         0\n",
              "dtype: int64"
            ]
          },
          "metadata": {},
          "execution_count": 99
        }
      ]
    },
    {
      "cell_type": "code",
      "metadata": {
        "ExecuteTime": {
          "end_time": "2021-03-29T22:31:33.752441Z",
          "start_time": "2021-03-29T22:31:33.745762Z"
        },
        "id": "described-sussex"
      },
      "source": [
        "# Convert the Timestamp column using the function defined above \n",
        "#already did it look up\n",
        "df[\"Timestamp\"] = # your code here"
      ],
      "id": "described-sussex",
      "execution_count": null,
      "outputs": []
    },
    {
      "cell_type": "code",
      "metadata": {
        "ExecuteTime": {
          "end_time": "2021-03-29T22:31:33.761163Z",
          "start_time": "2021-03-29T22:31:33.754043Z"
        },
        "id": "exotic-wireless",
        "colab": {
          "base_uri": "https://localhost:8080/",
          "height": 204
        },
        "outputId": "72a62c8a-c8d1-49a3-bf10-8eab4e67c95e"
      },
      "source": [
        "df[:5]"
      ],
      "id": "exotic-wireless",
      "execution_count": 147,
      "outputs": [
        {
          "output_type": "execute_result",
          "data": {
            "text/html": [
              "<div>\n",
              "<style scoped>\n",
              "    .dataframe tbody tr th:only-of-type {\n",
              "        vertical-align: middle;\n",
              "    }\n",
              "\n",
              "    .dataframe tbody tr th {\n",
              "        vertical-align: top;\n",
              "    }\n",
              "\n",
              "    .dataframe thead th {\n",
              "        text-align: right;\n",
              "    }\n",
              "</style>\n",
              "<table border=\"1\" class=\"dataframe\">\n",
              "  <thead>\n",
              "    <tr style=\"text-align: right;\">\n",
              "      <th></th>\n",
              "      <th>Timestamp</th>\n",
              "      <th>Speaker</th>\n",
              "      <th>Text</th>\n",
              "      <th>Interval</th>\n",
              "    </tr>\n",
              "  </thead>\n",
              "  <tbody>\n",
              "    <tr>\n",
              "      <th>0</th>\n",
              "      <td>0</td>\n",
              "      <td>Joe Rogan</td>\n",
              "      <td>Ah ha ha ha Four three two one boom Thank you ...</td>\n",
              "      <td>9.0</td>\n",
              "    </tr>\n",
              "    <tr>\n",
              "      <th>1</th>\n",
              "      <td>9</td>\n",
              "      <td>Elon Musk</td>\n",
              "      <td>Youre welcome</td>\n",
              "      <td>1.0</td>\n",
              "    </tr>\n",
              "    <tr>\n",
              "      <th>2</th>\n",
              "      <td>10</td>\n",
              "      <td>Joe Rogan</td>\n",
              "      <td>Its very good to meet you</td>\n",
              "      <td>1.0</td>\n",
              "    </tr>\n",
              "    <tr>\n",
              "      <th>3</th>\n",
              "      <td>11</td>\n",
              "      <td>Elon Musk</td>\n",
              "      <td>Nice to meet you too</td>\n",
              "      <td>1.0</td>\n",
              "    </tr>\n",
              "    <tr>\n",
              "      <th>4</th>\n",
              "      <td>12</td>\n",
              "      <td>Joe Rogan</td>\n",
              "      <td>And thanks for not lighting this place on fire</td>\n",
              "      <td>1.0</td>\n",
              "    </tr>\n",
              "  </tbody>\n",
              "</table>\n",
              "</div>"
            ],
            "text/plain": [
              "  Timestamp  ... Interval\n",
              "0         0  ...      9.0\n",
              "1         9  ...      1.0\n",
              "2        10  ...      1.0\n",
              "3        11  ...      1.0\n",
              "4        12  ...      1.0\n",
              "\n",
              "[5 rows x 4 columns]"
            ]
          },
          "metadata": {},
          "execution_count": 147
        }
      ]
    },
    {
      "cell_type": "code",
      "metadata": {
        "id": "JMAhurQgO8C5"
      },
      "source": [
        "list1 = []\n",
        "for  i in range(len(df)-1):\n",
        "  K  = df.Timestamp[i+1]- df.Timestamp[i]\n",
        "  list1.append(K)\n",
        "  list1.append(1) #for the last value consdider as 1 sec"
      ],
      "id": "JMAhurQgO8C5",
      "execution_count": 107,
      "outputs": []
    },
    {
      "cell_type": "code",
      "metadata": {
        "ExecuteTime": {
          "end_time": "2021-03-29T22:31:33.771471Z",
          "start_time": "2021-03-29T22:31:33.764137Z"
        },
        "id": "automated-washington"
      },
      "source": [
        "# Add a column with the seconds lasted by the text in the row\n",
        "# for example: the first row lasts 9 seconds, since Elon Musk\n",
        "# answer at the second 9 (Hint: use shift with period - 1).\n",
        "# In case of negative numbers, just make them 1 (minimum interval lenght is 1 second)\n",
        "import numpy as np\n",
        "'''def max1(x):\n",
        "  for i in range(len(df))\n",
        "    return np.maximum(1,)'''\n",
        "\n",
        "\n",
        "df[\"Interval\"] = list1"
      ],
      "id": "automated-washington",
      "execution_count": 119,
      "outputs": []
    },
    {
      "cell_type": "code",
      "metadata": {
        "ExecuteTime": {
          "end_time": "2021-03-29T22:31:33.779836Z",
          "start_time": "2021-03-29T22:31:33.776781Z"
        },
        "id": "flush-rating",
        "colab": {
          "base_uri": "https://localhost:8080/"
        },
        "outputId": "193b3558-07ef-4630-e9f5-d640779844cf"
      },
      "source": [
        "df.Speaker.unique()"
      ],
      "id": "flush-rating",
      "execution_count": 226,
      "outputs": [
        {
          "output_type": "execute_result",
          "data": {
            "text/plain": [
              "array(['Joe Rogan', 'Elon Musk', 'Jaime'], dtype=object)"
            ]
          },
          "metadata": {},
          "execution_count": 226
        }
      ]
    },
    {
      "cell_type": "code",
      "metadata": {
        "ExecuteTime": {
          "end_time": "2021-03-29T22:31:33.786629Z",
          "start_time": "2021-03-29T22:31:33.781182Z"
        },
        "id": "impressive-montana",
        "colab": {
          "base_uri": "https://localhost:8080/"
        },
        "outputId": "de21a3b8-87e9-4d73-cbf9-7dc2def1ad96"
      },
      "source": [
        "# Total seconds spoken by Joe Rogan\n",
        "df.groupby('Speaker')['Interval'].sum()"
      ],
      "id": "impressive-montana",
      "execution_count": 125,
      "outputs": [
        {
          "output_type": "execute_result",
          "data": {
            "text/plain": [
              "Speaker\n",
              "Elon Musk    4882.0\n",
              "Jaime          40.0\n",
              "Joe Rogan    4489.0\n",
              "Name: Interval, dtype: float64"
            ]
          },
          "metadata": {},
          "execution_count": 125
        }
      ]
    },
    {
      "cell_type": "code",
      "metadata": {
        "ExecuteTime": {
          "end_time": "2021-03-29T22:31:33.792682Z",
          "start_time": "2021-03-29T22:31:33.787665Z"
        },
        "id": "sized-locking",
        "outputId": "eb28004b-d96f-4b80-bd47-433bbefef5b7"
      },
      "source": [
        "# Total seconds spoken by Elon Musk"
      ],
      "id": "sized-locking",
      "execution_count": null,
      "outputs": [
        {
          "data": {
            "text/plain": [
              "5072.0"
            ]
          },
          "execution_count": 11,
          "metadata": {},
          "output_type": "execute_result"
        }
      ]
    },
    {
      "cell_type": "code",
      "metadata": {
        "ExecuteTime": {
          "end_time": "2021-03-29T22:31:33.797733Z",
          "start_time": "2021-03-29T22:31:33.793794Z"
        },
        "id": "regular-lithuania",
        "outputId": "66e068b8-9f1c-4143-e5f8-43ac3e934525"
      },
      "source": [
        "# Total seconds spoken by Jaime"
      ],
      "id": "regular-lithuania",
      "execution_count": null,
      "outputs": [
        {
          "data": {
            "text/plain": [
              "45.0"
            ]
          },
          "execution_count": 12,
          "metadata": {},
          "output_type": "execute_result"
        }
      ]
    },
    {
      "cell_type": "code",
      "metadata": {
        "id": "ndfYmw7EXORF"
      },
      "source": [
        "# Average speaking interval for each person\n",
        "#df.groupby('Speaker')['Interval'].agg(['sum','average'])\n",
        "dff = df.groupby('Speaker').agg({'Interval':'sum',})\n",
        "dff['Average']  = df.groupby('Speaker').agg({'Interval':'mean',})"
      ],
      "id": "ndfYmw7EXORF",
      "execution_count": 137,
      "outputs": []
    },
    {
      "cell_type": "code",
      "metadata": {
        "colab": {
          "base_uri": "https://localhost:8080/",
          "height": 173
        },
        "id": "HrCHS0AKYWJd",
        "outputId": "5d9e69db-7a0d-4bb4-b69b-d68741870f99"
      },
      "source": [
        "dff"
      ],
      "id": "HrCHS0AKYWJd",
      "execution_count": 138,
      "outputs": [
        {
          "output_type": "execute_result",
          "data": {
            "text/html": [
              "<div>\n",
              "<style scoped>\n",
              "    .dataframe tbody tr th:only-of-type {\n",
              "        vertical-align: middle;\n",
              "    }\n",
              "\n",
              "    .dataframe tbody tr th {\n",
              "        vertical-align: top;\n",
              "    }\n",
              "\n",
              "    .dataframe thead th {\n",
              "        text-align: right;\n",
              "    }\n",
              "</style>\n",
              "<table border=\"1\" class=\"dataframe\">\n",
              "  <thead>\n",
              "    <tr style=\"text-align: right;\">\n",
              "      <th></th>\n",
              "      <th>Interval</th>\n",
              "      <th>Average</th>\n",
              "    </tr>\n",
              "    <tr>\n",
              "      <th>Speaker</th>\n",
              "      <th></th>\n",
              "      <th></th>\n",
              "    </tr>\n",
              "  </thead>\n",
              "  <tbody>\n",
              "    <tr>\n",
              "      <th>Elon Musk</th>\n",
              "      <td>4882.0</td>\n",
              "      <td>5.370737</td>\n",
              "    </tr>\n",
              "    <tr>\n",
              "      <th>Jaime</th>\n",
              "      <td>40.0</td>\n",
              "      <td>2.352941</td>\n",
              "    </tr>\n",
              "    <tr>\n",
              "      <th>Joe Rogan</th>\n",
              "      <td>4489.0</td>\n",
              "      <td>4.960221</td>\n",
              "    </tr>\n",
              "  </tbody>\n",
              "</table>\n",
              "</div>"
            ],
            "text/plain": [
              "           Interval   Average\n",
              "Speaker                      \n",
              "Elon Musk    4882.0  5.370737\n",
              "Jaime          40.0  2.352941\n",
              "Joe Rogan    4489.0  4.960221"
            ]
          },
          "metadata": {},
          "execution_count": 138
        }
      ]
    },
    {
      "cell_type": "code",
      "metadata": {
        "ExecuteTime": {
          "end_time": "2021-03-29T22:31:33.804917Z",
          "start_time": "2021-03-29T22:31:33.798845Z"
        },
        "id": "powerful-detail",
        "outputId": "d4637e91-ecf7-4f96-b84e-9f314b7de535"
      },
      "source": [
        "# Average speaking interval for each person"
      ],
      "id": "powerful-detail",
      "execution_count": null,
      "outputs": [
        {
          "data": {
            "text/plain": [
              "Speaker\n",
              "Elon Musk    5.579758\n",
              "Jaime        2.647059\n",
              "Joe Rogan    5.123757\n",
              "Name: Interval, dtype: float64"
            ]
          },
          "execution_count": 13,
          "metadata": {},
          "output_type": "execute_result"
        }
      ]
    },
    {
      "cell_type": "markdown",
      "metadata": {
        "id": "suburban-shipping"
      },
      "source": [
        "Who speaks faster?\n",
        "\n",
        "Tokenize the text, preprocess the tokens so that you have only words (excluding punctuation) and compute the velocity of each speaker as: number of words per interval / length of interval . Store the result in a column named Velocity and compute the average for each speaker."
      ],
      "id": "suburban-shipping"
    },
    {
      "cell_type": "code",
      "metadata": {
        "id": "jTq_uNW3bKAW"
      },
      "source": [
        "import string\n",
        "import re\n",
        "import spacy\n",
        "nlp = spacy.load(\"en_core_web_sm\")"
      ],
      "id": "jTq_uNW3bKAW",
      "execution_count": 145,
      "outputs": []
    },
    {
      "cell_type": "code",
      "metadata": {
        "id": "8u2uXDFXc-aM"
      },
      "source": [
        "def remove_punctuation(text):\n",
        "    return text.str.replace('[^\\w\\s]','')"
      ],
      "id": "8u2uXDFXc-aM",
      "execution_count": 148,
      "outputs": []
    },
    {
      "cell_type": "code",
      "metadata": {
        "id": "ILFMPr6ndiwe"
      },
      "source": [
        "listt = []\n",
        "def count_tokens(text):\n",
        "\n",
        "  for i in range(len(text)):\n",
        "    k  = nlp(str(text[i]))\n",
        "    listt.append(len(k))\n",
        "  return listt\n",
        "df['N_o_Tokes'] = count_tokens(df['Text'])\n"
      ],
      "id": "ILFMPr6ndiwe",
      "execution_count": 181,
      "outputs": []
    },
    {
      "cell_type": "code",
      "metadata": {
        "id": "hdQP8G_Jp2-h"
      },
      "source": [
        "lists = []\n",
        "def remove_stopwords(text):\n",
        "  for i in range(len(text)):\n",
        "    k  = nlp(str(text[i]))\n",
        "    tokens = [token.text for token in k if not token.is_stop]\n",
        "\n",
        "    lists.append(tokens)\n",
        "  return lists  \n",
        "rs = remove_stopwords(df['Text'])\n",
        "\n",
        "df[\"TextNoPunct\"] = rs"
      ],
      "id": "hdQP8G_Jp2-h",
      "execution_count": null,
      "outputs": []
    },
    {
      "cell_type": "code",
      "metadata": {
        "ExecuteTime": {
          "end_time": "2021-03-29T22:31:44.193591Z",
          "start_time": "2021-03-29T22:31:33.806035Z"
        },
        "id": "facial-living"
      },
      "source": [
        "# Preprocess the data\n",
        "import spacy\n",
        "import re\n",
        "nlp = spacy.load(\"en_core_web_sm\")\n",
        "\n",
        "# Create a function to remove punctuation from text\n",
        "\n",
        "def remove_punctuation(text):\n",
        "    return text.str.replace('[^\\w\\s]','')\n",
        "\n",
        "nop = remove_punctuation(df['Text'])\n",
        "# Create a function to count the non punctuation token of a text\n",
        "\n",
        "listt = []\n",
        "def count_tokens(text):\n",
        "\n",
        "  for i in range(len(text)):\n",
        "    k  = nlp(str(text[i]))\n",
        "    listt.append(len(k))\n",
        "  return listt\n",
        "df['N_o_Tokes'] = count_tokens(df['Text'])\n",
        "\n",
        "\n",
        "lists = []\n",
        "def remove_stopwords(text):\n",
        "  for i in range(len(text)):\n",
        "    k  = nlp(str(text[i]))\n",
        "    tokens = [token.text for token in k if not token.is_stop]\n",
        "\n",
        "    lists.append(tokens)\n",
        "  return lists  \n",
        "rs = remove_stopwords(df['Text'])\n",
        "\n",
        "df[\"TextNoPunct\"] = rs"
      ],
      "id": "facial-living",
      "execution_count": null,
      "outputs": []
    },
    {
      "cell_type": "code",
      "metadata": {
        "colab": {
          "base_uri": "https://localhost:8080/",
          "height": 419
        },
        "id": "_mowd6g4i5F-",
        "outputId": "038620fc-abfa-434f-ee11-2d64f3325b9a"
      },
      "source": [
        "df"
      ],
      "id": "_mowd6g4i5F-",
      "execution_count": 189,
      "outputs": [
        {
          "output_type": "execute_result",
          "data": {
            "text/html": [
              "<div>\n",
              "<style scoped>\n",
              "    .dataframe tbody tr th:only-of-type {\n",
              "        vertical-align: middle;\n",
              "    }\n",
              "\n",
              "    .dataframe tbody tr th {\n",
              "        vertical-align: top;\n",
              "    }\n",
              "\n",
              "    .dataframe thead th {\n",
              "        text-align: right;\n",
              "    }\n",
              "</style>\n",
              "<table border=\"1\" class=\"dataframe\">\n",
              "  <thead>\n",
              "    <tr style=\"text-align: right;\">\n",
              "      <th></th>\n",
              "      <th>Timestamp</th>\n",
              "      <th>Speaker</th>\n",
              "      <th>Text</th>\n",
              "      <th>Interval</th>\n",
              "      <th>N_o_Tokes</th>\n",
              "    </tr>\n",
              "  </thead>\n",
              "  <tbody>\n",
              "    <tr>\n",
              "      <th>0</th>\n",
              "      <td>0</td>\n",
              "      <td>Joe Rogan</td>\n",
              "      <td>Ah ha ha ha Four three two one boom Thank you ...</td>\n",
              "      <td>9.0</td>\n",
              "      <td>19</td>\n",
              "    </tr>\n",
              "    <tr>\n",
              "      <th>1</th>\n",
              "      <td>9</td>\n",
              "      <td>Elon Musk</td>\n",
              "      <td>Youre welcome</td>\n",
              "      <td>1.0</td>\n",
              "      <td>3</td>\n",
              "    </tr>\n",
              "    <tr>\n",
              "      <th>2</th>\n",
              "      <td>10</td>\n",
              "      <td>Joe Rogan</td>\n",
              "      <td>Its very good to meet you</td>\n",
              "      <td>1.0</td>\n",
              "      <td>6</td>\n",
              "    </tr>\n",
              "    <tr>\n",
              "      <th>3</th>\n",
              "      <td>11</td>\n",
              "      <td>Elon Musk</td>\n",
              "      <td>Nice to meet you too</td>\n",
              "      <td>1.0</td>\n",
              "      <td>5</td>\n",
              "    </tr>\n",
              "    <tr>\n",
              "      <th>4</th>\n",
              "      <td>12</td>\n",
              "      <td>Joe Rogan</td>\n",
              "      <td>And thanks for not lighting this place on fire</td>\n",
              "      <td>1.0</td>\n",
              "      <td>9</td>\n",
              "    </tr>\n",
              "    <tr>\n",
              "      <th>...</th>\n",
              "      <td>...</td>\n",
              "      <td>...</td>\n",
              "      <td>...</td>\n",
              "      <td>...</td>\n",
              "      <td>...</td>\n",
              "    </tr>\n",
              "    <tr>\n",
              "      <th>1826</th>\n",
              "      <td>9401</td>\n",
              "      <td>Joe Rogan</td>\n",
              "      <td>I believe its true too So thank you</td>\n",
              "      <td>2.0</td>\n",
              "      <td>8</td>\n",
              "    </tr>\n",
              "    <tr>\n",
              "      <th>1827</th>\n",
              "      <td>9403</td>\n",
              "      <td>Elon Musk</td>\n",
              "      <td>Youre welcome</td>\n",
              "      <td>1.0</td>\n",
              "      <td>3</td>\n",
              "    </tr>\n",
              "    <tr>\n",
              "      <th>1828</th>\n",
              "      <td>9404</td>\n",
              "      <td>Joe Rogan</td>\n",
              "      <td>All you assholes out there be nice Be nice bit...</td>\n",
              "      <td>6.0</td>\n",
              "      <td>18</td>\n",
              "    </tr>\n",
              "    <tr>\n",
              "      <th>1829</th>\n",
              "      <td>9410</td>\n",
              "      <td>Elon Musk</td>\n",
              "      <td>All right thank you</td>\n",
              "      <td>0.0</td>\n",
              "      <td>4</td>\n",
              "    </tr>\n",
              "    <tr>\n",
              "      <th>1830</th>\n",
              "      <td>9410</td>\n",
              "      <td>Joe Rogan</td>\n",
              "      <td>Good night everybody END OF TRANSCRIPTAutomate...</td>\n",
              "      <td>1.0</td>\n",
              "      <td>18</td>\n",
              "    </tr>\n",
              "  </tbody>\n",
              "</table>\n",
              "<p>1831 rows × 5 columns</p>\n",
              "</div>"
            ],
            "text/plain": [
              "     Timestamp    Speaker  ... Interval  N_o_Tokes\n",
              "0            0  Joe Rogan  ...      9.0         19\n",
              "1            9  Elon Musk  ...      1.0          3\n",
              "2           10  Joe Rogan  ...      1.0          6\n",
              "3           11  Elon Musk  ...      1.0          5\n",
              "4           12  Joe Rogan  ...      1.0          9\n",
              "...        ...        ...  ...      ...        ...\n",
              "1826      9401  Joe Rogan  ...      2.0          8\n",
              "1827      9403  Elon Musk  ...      1.0          3\n",
              "1828      9404  Joe Rogan  ...      6.0         18\n",
              "1829      9410  Elon Musk  ...      0.0          4\n",
              "1830      9410  Joe Rogan  ...      1.0         18\n",
              "\n",
              "[1831 rows x 5 columns]"
            ]
          },
          "metadata": {},
          "execution_count": 189
        }
      ]
    },
    {
      "cell_type": "code",
      "metadata": {
        "id": "IzOJ0TZziGMO"
      },
      "source": [
        "lists = []\n",
        "def remove_stopwords(text):\n",
        "  for i in range(len(text)):\n",
        "    k  = nlp(str(text[i]))\n",
        "    tokens = [token.text for token in k if not token.is_stop]\n",
        "\n",
        "    lists.append(tokens)\n",
        "  return lists  "
      ],
      "id": "IzOJ0TZziGMO",
      "execution_count": 185,
      "outputs": []
    },
    {
      "cell_type": "code",
      "metadata": {
        "id": "L3p06aFVjePY"
      },
      "source": [
        "l = remove_stopwords(df['Text'])\n",
        "df[\"TextNoPunct\"] = l"
      ],
      "id": "L3p06aFVjePY",
      "execution_count": null,
      "outputs": []
    },
    {
      "cell_type": "code",
      "metadata": {
        "ExecuteTime": {
          "end_time": "2021-03-29T22:31:53.437500Z",
          "start_time": "2021-03-29T22:31:44.194518Z"
        },
        "id": "constant-shakespeare"
      },
      "source": [
        "# Put the number of tokens of each row in a new column\n",
        "df[\"n_tokens\"] = # your code here"
      ],
      "id": "constant-shakespeare",
      "execution_count": null,
      "outputs": []
    },
    {
      "cell_type": "code",
      "metadata": {
        "ExecuteTime": {
          "end_time": "2021-03-29T22:31:53.450694Z",
          "start_time": "2021-03-29T22:31:53.448360Z"
        },
        "id": "daily-newton"
      },
      "source": [
        "# Compute the velocity and store it in a new column\n",
        "\n",
        "df[\"Velocity\"] = # your code here"
      ],
      "id": "daily-newton",
      "execution_count": null,
      "outputs": []
    },
    {
      "cell_type": "code",
      "metadata": {
        "colab": {
          "base_uri": "https://localhost:8080/"
        },
        "id": "A-ERjtajnc4m",
        "outputId": "2978879e-b59a-463d-9969-6336fc39fae7"
      },
      "source": [
        "listv = []\n",
        "for i in range(len(df)):\n",
        "  k =  df['N_o_Tokes'][i]/df['Interval'][i]\n",
        "  listv.append(k)\n",
        "df['Velocity'] = listv"
      ],
      "id": "A-ERjtajnc4m",
      "execution_count": 208,
      "outputs": [
        {
          "output_type": "stream",
          "name": "stderr",
          "text": [
            "/usr/local/lib/python3.7/dist-packages/ipykernel_launcher.py:3: RuntimeWarning: divide by zero encountered in true_divide\n",
            "  This is separate from the ipykernel package so we can avoid doing imports until\n"
          ]
        }
      ]
    },
    {
      "cell_type": "code",
      "metadata": {
        "colab": {
          "base_uri": "https://localhost:8080/",
          "height": 419
        },
        "id": "6QKIyUR5nJhk",
        "outputId": "7f9b0166-e308-49be-e45f-2882393660ec"
      },
      "source": [
        "df"
      ],
      "id": "6QKIyUR5nJhk",
      "execution_count": 195,
      "outputs": [
        {
          "output_type": "execute_result",
          "data": {
            "text/html": [
              "<div>\n",
              "<style scoped>\n",
              "    .dataframe tbody tr th:only-of-type {\n",
              "        vertical-align: middle;\n",
              "    }\n",
              "\n",
              "    .dataframe tbody tr th {\n",
              "        vertical-align: top;\n",
              "    }\n",
              "\n",
              "    .dataframe thead th {\n",
              "        text-align: right;\n",
              "    }\n",
              "</style>\n",
              "<table border=\"1\" class=\"dataframe\">\n",
              "  <thead>\n",
              "    <tr style=\"text-align: right;\">\n",
              "      <th></th>\n",
              "      <th>Timestamp</th>\n",
              "      <th>Speaker</th>\n",
              "      <th>Text</th>\n",
              "      <th>Interval</th>\n",
              "      <th>N_o_Tokes</th>\n",
              "      <th>TextNoPunct</th>\n",
              "    </tr>\n",
              "  </thead>\n",
              "  <tbody>\n",
              "    <tr>\n",
              "      <th>0</th>\n",
              "      <td>0</td>\n",
              "      <td>Joe Rogan</td>\n",
              "      <td>Ah ha ha ha Four three two one boom Thank you ...</td>\n",
              "      <td>9.0</td>\n",
              "      <td>19</td>\n",
              "      <td>[Ah, ha, ha, ha, boom, Thank, Thanks, man, app...</td>\n",
              "    </tr>\n",
              "    <tr>\n",
              "      <th>1</th>\n",
              "      <td>9</td>\n",
              "      <td>Elon Musk</td>\n",
              "      <td>Youre welcome</td>\n",
              "      <td>1.0</td>\n",
              "      <td>3</td>\n",
              "      <td>[welcome]</td>\n",
              "    </tr>\n",
              "    <tr>\n",
              "      <th>2</th>\n",
              "      <td>10</td>\n",
              "      <td>Joe Rogan</td>\n",
              "      <td>Its very good to meet you</td>\n",
              "      <td>1.0</td>\n",
              "      <td>6</td>\n",
              "      <td>[good, meet]</td>\n",
              "    </tr>\n",
              "    <tr>\n",
              "      <th>3</th>\n",
              "      <td>11</td>\n",
              "      <td>Elon Musk</td>\n",
              "      <td>Nice to meet you too</td>\n",
              "      <td>1.0</td>\n",
              "      <td>5</td>\n",
              "      <td>[Nice, meet]</td>\n",
              "    </tr>\n",
              "    <tr>\n",
              "      <th>4</th>\n",
              "      <td>12</td>\n",
              "      <td>Joe Rogan</td>\n",
              "      <td>And thanks for not lighting this place on fire</td>\n",
              "      <td>1.0</td>\n",
              "      <td>9</td>\n",
              "      <td>[thanks, lighting, place, fire]</td>\n",
              "    </tr>\n",
              "    <tr>\n",
              "      <th>...</th>\n",
              "      <td>...</td>\n",
              "      <td>...</td>\n",
              "      <td>...</td>\n",
              "      <td>...</td>\n",
              "      <td>...</td>\n",
              "      <td>...</td>\n",
              "    </tr>\n",
              "    <tr>\n",
              "      <th>1826</th>\n",
              "      <td>9401</td>\n",
              "      <td>Joe Rogan</td>\n",
              "      <td>I believe its true too So thank you</td>\n",
              "      <td>2.0</td>\n",
              "      <td>8</td>\n",
              "      <td>[believe, true, thank]</td>\n",
              "    </tr>\n",
              "    <tr>\n",
              "      <th>1827</th>\n",
              "      <td>9403</td>\n",
              "      <td>Elon Musk</td>\n",
              "      <td>Youre welcome</td>\n",
              "      <td>1.0</td>\n",
              "      <td>3</td>\n",
              "      <td>[welcome]</td>\n",
              "    </tr>\n",
              "    <tr>\n",
              "      <th>1828</th>\n",
              "      <td>9404</td>\n",
              "      <td>Joe Rogan</td>\n",
              "      <td>All you assholes out there be nice Be nice bit...</td>\n",
              "      <td>6.0</td>\n",
              "      <td>18</td>\n",
              "      <td>[assholes, nice, nice, bitch, right, Thank, ev...</td>\n",
              "    </tr>\n",
              "    <tr>\n",
              "      <th>1829</th>\n",
              "      <td>9410</td>\n",
              "      <td>Elon Musk</td>\n",
              "      <td>All right thank you</td>\n",
              "      <td>0.0</td>\n",
              "      <td>4</td>\n",
              "      <td>[right, thank]</td>\n",
              "    </tr>\n",
              "    <tr>\n",
              "      <th>1830</th>\n",
              "      <td>9410</td>\n",
              "      <td>Joe Rogan</td>\n",
              "      <td>Good night everybody END OF TRANSCRIPTAutomate...</td>\n",
              "      <td>1.0</td>\n",
              "      <td>18</td>\n",
              "      <td>[Good, night, everybody, END, TRANSCRIPTAutoma...</td>\n",
              "    </tr>\n",
              "  </tbody>\n",
              "</table>\n",
              "<p>1831 rows × 6 columns</p>\n",
              "</div>"
            ],
            "text/plain": [
              "     Timestamp  ...                                        TextNoPunct\n",
              "0            0  ...  [Ah, ha, ha, ha, boom, Thank, Thanks, man, app...\n",
              "1            9  ...                                          [welcome]\n",
              "2           10  ...                                       [good, meet]\n",
              "3           11  ...                                       [Nice, meet]\n",
              "4           12  ...                    [thanks, lighting, place, fire]\n",
              "...        ...  ...                                                ...\n",
              "1826      9401  ...                             [believe, true, thank]\n",
              "1827      9403  ...                                          [welcome]\n",
              "1828      9404  ...  [assholes, nice, nice, bitch, right, Thank, ev...\n",
              "1829      9410  ...                                     [right, thank]\n",
              "1830      9410  ...  [Good, night, everybody, END, TRANSCRIPTAutoma...\n",
              "\n",
              "[1831 rows x 6 columns]"
            ]
          },
          "metadata": {},
          "execution_count": 195
        }
      ]
    },
    {
      "cell_type": "code",
      "metadata": {
        "ExecuteTime": {
          "end_time": "2021-03-29T22:31:53.461867Z",
          "start_time": "2021-03-29T22:31:53.451650Z"
        },
        "id": "intimate-pottery",
        "outputId": "5256b804-a017-4555-e318-6c349d72ac41"
      },
      "source": [
        "df"
      ],
      "id": "intimate-pottery",
      "execution_count": null,
      "outputs": [
        {
          "data": {
            "text/html": [
              "<div>\n",
              "<style scoped>\n",
              "    .dataframe tbody tr th:only-of-type {\n",
              "        vertical-align: middle;\n",
              "    }\n",
              "\n",
              "    .dataframe tbody tr th {\n",
              "        vertical-align: top;\n",
              "    }\n",
              "\n",
              "    .dataframe thead th {\n",
              "        text-align: right;\n",
              "    }\n",
              "</style>\n",
              "<table border=\"1\" class=\"dataframe\">\n",
              "  <thead>\n",
              "    <tr style=\"text-align: right;\">\n",
              "      <th></th>\n",
              "      <th>Timestamp</th>\n",
              "      <th>Speaker</th>\n",
              "      <th>Text</th>\n",
              "      <th>Interval</th>\n",
              "      <th>TextNoPunct</th>\n",
              "      <th>n_tokens</th>\n",
              "      <th>Velocity</th>\n",
              "    </tr>\n",
              "  </thead>\n",
              "  <tbody>\n",
              "    <tr>\n",
              "      <th>0</th>\n",
              "      <td>0</td>\n",
              "      <td>Joe Rogan</td>\n",
              "      <td>Ah, ha, ha, ha. Four, three, two, one, boom. T...</td>\n",
              "      <td>9.0</td>\n",
              "      <td>Ah ha ha ha Four three two one boom Thank you ...</td>\n",
              "      <td>19</td>\n",
              "      <td>2.111111</td>\n",
              "    </tr>\n",
              "    <tr>\n",
              "      <th>1</th>\n",
              "      <td>9</td>\n",
              "      <td>Elon Musk</td>\n",
              "      <td>You're welcome.</td>\n",
              "      <td>1.0</td>\n",
              "      <td>You 're welcome</td>\n",
              "      <td>3</td>\n",
              "      <td>3.000000</td>\n",
              "    </tr>\n",
              "    <tr>\n",
              "      <th>2</th>\n",
              "      <td>10</td>\n",
              "      <td>Joe Rogan</td>\n",
              "      <td>It's very good to meet you.</td>\n",
              "      <td>1.0</td>\n",
              "      <td>It 's very good to meet you</td>\n",
              "      <td>7</td>\n",
              "      <td>7.000000</td>\n",
              "    </tr>\n",
              "    <tr>\n",
              "      <th>3</th>\n",
              "      <td>11</td>\n",
              "      <td>Elon Musk</td>\n",
              "      <td>Nice to meet you too.</td>\n",
              "      <td>1.0</td>\n",
              "      <td>Nice to meet you too</td>\n",
              "      <td>5</td>\n",
              "      <td>5.000000</td>\n",
              "    </tr>\n",
              "    <tr>\n",
              "      <th>4</th>\n",
              "      <td>12</td>\n",
              "      <td>Joe Rogan</td>\n",
              "      <td>And thanks for not lighting this place on fire.</td>\n",
              "      <td>1.0</td>\n",
              "      <td>And thanks for not lighting this place on fire</td>\n",
              "      <td>9</td>\n",
              "      <td>9.000000</td>\n",
              "    </tr>\n",
              "    <tr>\n",
              "      <th>...</th>\n",
              "      <td>...</td>\n",
              "      <td>...</td>\n",
              "      <td>...</td>\n",
              "      <td>...</td>\n",
              "      <td>...</td>\n",
              "      <td>...</td>\n",
              "      <td>...</td>\n",
              "    </tr>\n",
              "    <tr>\n",
              "      <th>1826</th>\n",
              "      <td>2921</td>\n",
              "      <td>Joe Rogan</td>\n",
              "      <td>I believe it's true too. So, thank you.</td>\n",
              "      <td>2.0</td>\n",
              "      <td>I believe it 's true too So thank you</td>\n",
              "      <td>9</td>\n",
              "      <td>4.500000</td>\n",
              "    </tr>\n",
              "    <tr>\n",
              "      <th>1827</th>\n",
              "      <td>2923</td>\n",
              "      <td>Elon Musk</td>\n",
              "      <td>You're welcome.</td>\n",
              "      <td>1.0</td>\n",
              "      <td>You 're welcome</td>\n",
              "      <td>3</td>\n",
              "      <td>3.000000</td>\n",
              "    </tr>\n",
              "    <tr>\n",
              "      <th>1828</th>\n",
              "      <td>2924</td>\n",
              "      <td>Joe Rogan</td>\n",
              "      <td>All you assholes out there, be nice. Be nice, ...</td>\n",
              "      <td>6.0</td>\n",
              "      <td>All you assholes out there be nice Be nice bit...</td>\n",
              "      <td>18</td>\n",
              "      <td>3.000000</td>\n",
              "    </tr>\n",
              "    <tr>\n",
              "      <th>1829</th>\n",
              "      <td>2930</td>\n",
              "      <td>Elon Musk</td>\n",
              "      <td>All right, thank you.</td>\n",
              "      <td>1.0</td>\n",
              "      <td>All right thank you</td>\n",
              "      <td>4</td>\n",
              "      <td>4.000000</td>\n",
              "    </tr>\n",
              "    <tr>\n",
              "      <th>1830</th>\n",
              "      <td>2930</td>\n",
              "      <td>Joe Rogan</td>\n",
              "      <td>Good night, everybody. END OF TRANSCRIPTAutoma...</td>\n",
              "      <td>1.0</td>\n",
              "      <td>Good night everybody END OF TRANSCRIPTAutomate...</td>\n",
              "      <td>17</td>\n",
              "      <td>17.000000</td>\n",
              "    </tr>\n",
              "  </tbody>\n",
              "</table>\n",
              "<p>1831 rows × 7 columns</p>\n",
              "</div>"
            ],
            "text/plain": [
              "      Timestamp    Speaker                                               Text  \\\n",
              "0             0  Joe Rogan  Ah, ha, ha, ha. Four, three, two, one, boom. T...   \n",
              "1             9  Elon Musk                                    You're welcome.   \n",
              "2            10  Joe Rogan                        It's very good to meet you.   \n",
              "3            11  Elon Musk                              Nice to meet you too.   \n",
              "4            12  Joe Rogan    And thanks for not lighting this place on fire.   \n",
              "...         ...        ...                                                ...   \n",
              "1826       2921  Joe Rogan            I believe it's true too. So, thank you.   \n",
              "1827       2923  Elon Musk                                    You're welcome.   \n",
              "1828       2924  Joe Rogan  All you assholes out there, be nice. Be nice, ...   \n",
              "1829       2930  Elon Musk                              All right, thank you.   \n",
              "1830       2930  Joe Rogan  Good night, everybody. END OF TRANSCRIPTAutoma...   \n",
              "\n",
              "      Interval                                        TextNoPunct  n_tokens  \\\n",
              "0          9.0  Ah ha ha ha Four three two one boom Thank you ...        19   \n",
              "1          1.0                                    You 're welcome         3   \n",
              "2          1.0                        It 's very good to meet you         7   \n",
              "3          1.0                               Nice to meet you too         5   \n",
              "4          1.0     And thanks for not lighting this place on fire         9   \n",
              "...        ...                                                ...       ...   \n",
              "1826       2.0              I believe it 's true too So thank you         9   \n",
              "1827       1.0                                    You 're welcome         3   \n",
              "1828       6.0  All you assholes out there be nice Be nice bit...        18   \n",
              "1829       1.0                                All right thank you         4   \n",
              "1830       1.0  Good night everybody END OF TRANSCRIPTAutomate...        17   \n",
              "\n",
              "       Velocity  \n",
              "0      2.111111  \n",
              "1      3.000000  \n",
              "2      7.000000  \n",
              "3      5.000000  \n",
              "4      9.000000  \n",
              "...         ...  \n",
              "1826   4.500000  \n",
              "1827   3.000000  \n",
              "1828   3.000000  \n",
              "1829   4.000000  \n",
              "1830  17.000000  \n",
              "\n",
              "[1831 rows x 7 columns]"
            ]
          },
          "execution_count": 18,
          "metadata": {},
          "output_type": "execute_result"
        }
      ]
    },
    {
      "cell_type": "code",
      "metadata": {
        "ExecuteTime": {
          "end_time": "2021-03-29T22:31:53.466751Z",
          "start_time": "2021-03-29T22:31:53.462928Z"
        },
        "id": "explicit-climb",
        "outputId": "801612d3-9c8e-4a24-d570-621287221170"
      },
      "source": [
        "# Inspect the avg velocity of each speaker"
      ],
      "id": "explicit-climb",
      "execution_count": null,
      "outputs": [
        {
          "data": {
            "text/plain": [
              "Speaker\n",
              "Elon Musk    2.882109\n",
              "Jaime        3.597523\n",
              "Joe Rogan    3.046772\n",
              "Name: Velocity, dtype: float64"
            ]
          },
          "execution_count": 19,
          "metadata": {},
          "output_type": "execute_result"
        }
      ]
    },
    {
      "cell_type": "code",
      "metadata": {
        "id": "yfzkSC_colAJ"
      },
      "source": [
        "dff['Velocity']= df.groupby('Speaker').agg({'Velocity':'sum'})"
      ],
      "id": "yfzkSC_colAJ",
      "execution_count": 224,
      "outputs": []
    },
    {
      "cell_type": "code",
      "metadata": {
        "colab": {
          "base_uri": "https://localhost:8080/",
          "height": 173
        },
        "id": "Ah0fHdkcpAcb",
        "outputId": "b66d976c-e14d-45bb-ef37-aded7008b883"
      },
      "source": [
        "dff"
      ],
      "id": "Ah0fHdkcpAcb",
      "execution_count": 225,
      "outputs": [
        {
          "output_type": "execute_result",
          "data": {
            "text/html": [
              "<div>\n",
              "<style scoped>\n",
              "    .dataframe tbody tr th:only-of-type {\n",
              "        vertical-align: middle;\n",
              "    }\n",
              "\n",
              "    .dataframe tbody tr th {\n",
              "        vertical-align: top;\n",
              "    }\n",
              "\n",
              "    .dataframe thead th {\n",
              "        text-align: right;\n",
              "    }\n",
              "</style>\n",
              "<table border=\"1\" class=\"dataframe\">\n",
              "  <thead>\n",
              "    <tr style=\"text-align: right;\">\n",
              "      <th></th>\n",
              "      <th>Interval</th>\n",
              "      <th>Average</th>\n",
              "      <th>Velocity</th>\n",
              "      <th>AverageVel</th>\n",
              "    </tr>\n",
              "    <tr>\n",
              "      <th>Speaker</th>\n",
              "      <th></th>\n",
              "      <th></th>\n",
              "      <th></th>\n",
              "      <th></th>\n",
              "    </tr>\n",
              "  </thead>\n",
              "  <tbody>\n",
              "    <tr>\n",
              "      <th>Elon Musk</th>\n",
              "      <td>4882.0</td>\n",
              "      <td>5.370737</td>\n",
              "      <td>inf</td>\n",
              "      <td>inf</td>\n",
              "    </tr>\n",
              "    <tr>\n",
              "      <th>Jaime</th>\n",
              "      <td>40.0</td>\n",
              "      <td>2.352941</td>\n",
              "      <td>inf</td>\n",
              "      <td>inf</td>\n",
              "    </tr>\n",
              "    <tr>\n",
              "      <th>Joe Rogan</th>\n",
              "      <td>4489.0</td>\n",
              "      <td>4.960221</td>\n",
              "      <td>inf</td>\n",
              "      <td>inf</td>\n",
              "    </tr>\n",
              "  </tbody>\n",
              "</table>\n",
              "</div>"
            ],
            "text/plain": [
              "           Interval   Average  Velocity  AverageVel\n",
              "Speaker                                            \n",
              "Elon Musk    4882.0  5.370737       inf         inf\n",
              "Jaime          40.0  2.352941       inf         inf\n",
              "Joe Rogan    4489.0  4.960221       inf         inf"
            ]
          },
          "metadata": {},
          "execution_count": 225
        }
      ]
    },
    {
      "cell_type": "code",
      "metadata": {
        "colab": {
          "base_uri": "https://localhost:8080/",
          "height": 173
        },
        "id": "Pw7tErkToroM",
        "outputId": "bdbad1dd-47cf-4275-bf18-ff79100b7f09"
      },
      "source": [
        "dff"
      ],
      "id": "Pw7tErkToroM",
      "execution_count": 214,
      "outputs": [
        {
          "output_type": "execute_result",
          "data": {
            "text/html": [
              "<div>\n",
              "<style scoped>\n",
              "    .dataframe tbody tr th:only-of-type {\n",
              "        vertical-align: middle;\n",
              "    }\n",
              "\n",
              "    .dataframe tbody tr th {\n",
              "        vertical-align: top;\n",
              "    }\n",
              "\n",
              "    .dataframe thead th {\n",
              "        text-align: right;\n",
              "    }\n",
              "</style>\n",
              "<table border=\"1\" class=\"dataframe\">\n",
              "  <thead>\n",
              "    <tr style=\"text-align: right;\">\n",
              "      <th></th>\n",
              "      <th>Interval</th>\n",
              "      <th>Average</th>\n",
              "      <th>Velocity</th>\n",
              "      <th>AverageVel</th>\n",
              "    </tr>\n",
              "    <tr>\n",
              "      <th>Speaker</th>\n",
              "      <th></th>\n",
              "      <th></th>\n",
              "      <th></th>\n",
              "      <th></th>\n",
              "    </tr>\n",
              "  </thead>\n",
              "  <tbody>\n",
              "    <tr>\n",
              "      <th>Elon Musk</th>\n",
              "      <td>4882.0</td>\n",
              "      <td>5.370737</td>\n",
              "      <td>2.111111</td>\n",
              "      <td>inf</td>\n",
              "    </tr>\n",
              "    <tr>\n",
              "      <th>Jaime</th>\n",
              "      <td>40.0</td>\n",
              "      <td>2.352941</td>\n",
              "      <td>3.000000</td>\n",
              "      <td>inf</td>\n",
              "    </tr>\n",
              "    <tr>\n",
              "      <th>Joe Rogan</th>\n",
              "      <td>4489.0</td>\n",
              "      <td>4.960221</td>\n",
              "      <td>6.000000</td>\n",
              "      <td>inf</td>\n",
              "    </tr>\n",
              "  </tbody>\n",
              "</table>\n",
              "</div>"
            ],
            "text/plain": [
              "           Interval   Average  Velocity  AverageVel\n",
              "Speaker                                            \n",
              "Elon Musk    4882.0  5.370737  2.111111         inf\n",
              "Jaime          40.0  2.352941  3.000000         inf\n",
              "Joe Rogan    4489.0  4.960221  6.000000         inf"
            ]
          },
          "metadata": {},
          "execution_count": 214
        }
      ]
    },
    {
      "cell_type": "markdown",
      "metadata": {
        "id": "structured-asian"
      },
      "source": [
        "After all, Elon was high...\n",
        "\n",
        "![image](https://bsmedia.business-standard.com/_media/bs/img/article/2018-09/09/full/1536463138-6668.jpg)"
      ],
      "id": "structured-asian"
    },
    {
      "cell_type": "code",
      "metadata": {
        "id": "green-samba"
      },
      "source": [
        "# "
      ],
      "id": "green-samba",
      "execution_count": null,
      "outputs": []
    }
  ]
}