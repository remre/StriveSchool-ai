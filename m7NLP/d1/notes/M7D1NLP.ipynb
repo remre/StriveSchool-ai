{
  "nbformat": 4,
  "nbformat_minor": 0,
  "metadata": {
    "colab": {
      "name": "M7D1NLP.ipynb",
      "provenance": [],
      "collapsed_sections": [],
      "authorship_tag": "ABX9TyPYd7ghgsJIilrqTFccBJpr",
      "include_colab_link": true
    },
    "kernelspec": {
      "name": "python3",
      "display_name": "Python 3"
    },
    "language_info": {
      "name": "python"
    }
  },
  "cells": [
    {
      "cell_type": "markdown",
      "metadata": {
        "id": "view-in-github",
        "colab_type": "text"
      },
      "source": [
        "<a href=\"https://colab.research.google.com/github/remre/StriveSchool-ai/blob/main/m7NLP/d1/notes/M7D1NLP.ipynb\" target=\"_parent\"><img src=\"https://colab.research.google.com/assets/colab-badge.svg\" alt=\"Open In Colab\"/></a>"
      ]
    },
    {
      "cell_type": "code",
      "metadata": {
        "id": "w8-837sJR0DY"
      },
      "source": [
        "import spacy"
      ],
      "execution_count": 1,
      "outputs": []
    },
    {
      "cell_type": "code",
      "metadata": {
        "id": "4byTJNZfSl9g"
      },
      "source": [
        "nlp = spacy.load('en_core_web_sm')"
      ],
      "execution_count": 2,
      "outputs": []
    },
    {
      "cell_type": "code",
      "metadata": {
        "colab": {
          "base_uri": "https://localhost:8080/"
        },
        "id": "VLBKO4FLS6Hw",
        "outputId": "11dea351-9edc-4619-d7bb-0880d1647cba"
      },
      "source": [
        "nlp.pipeline"
      ],
      "execution_count": 3,
      "outputs": [
        {
          "output_type": "execute_result",
          "data": {
            "text/plain": [
              "[('tagger', <spacy.pipeline.pipes.Tagger at 0x7f1173ac0dd0>),\n",
              " ('parser', <spacy.pipeline.pipes.DependencyParser at 0x7f1173ad8d00>),\n",
              " ('ner', <spacy.pipeline.pipes.EntityRecognizer at 0x7f1173ad8de0>)]"
            ]
          },
          "metadata": {},
          "execution_count": 3
        }
      ]
    },
    {
      "cell_type": "code",
      "metadata": {
        "id": "f1b-nbtUS7i2"
      },
      "source": [
        "txt = 'I am a university student. and Colege Park blabla something eslse and i don\\'t know what to do'"
      ],
      "execution_count": 14,
      "outputs": []
    },
    {
      "cell_type": "code",
      "metadata": {
        "id": "7LuP0qL8TOez"
      },
      "source": [
        "doc = nlp(txt)"
      ],
      "execution_count": 15,
      "outputs": []
    },
    {
      "cell_type": "code",
      "metadata": {
        "colab": {
          "base_uri": "https://localhost:8080/"
        },
        "id": "bGImGV9jTYiu",
        "outputId": "a76fee7d-7d02-455a-ddd4-9e759664a610"
      },
      "source": [
        "doc"
      ],
      "execution_count": 6,
      "outputs": [
        {
          "output_type": "execute_result",
          "data": {
            "text/plain": [
              "I am a university student and Colege Park blabla something eslse and i don't know what to do"
            ]
          },
          "metadata": {},
          "execution_count": 6
        }
      ]
    },
    {
      "cell_type": "code",
      "metadata": {
        "colab": {
          "base_uri": "https://localhost:8080/"
        },
        "id": "2BZBUWU-TaQW",
        "outputId": "15adb99f-142c-41b7-906f-5f7aa1f4a9bd"
      },
      "source": [
        "#the length of txt and doc is different txt taking each characters. spaces and so on\n",
        "len(doc),len(txt)\n"
      ],
      "execution_count": 12,
      "outputs": [
        {
          "output_type": "execute_result",
          "data": {
            "text/plain": [
              "(19, 92)"
            ]
          },
          "metadata": {},
          "execution_count": 12
        }
      ]
    },
    {
      "cell_type": "code",
      "metadata": {
        "colab": {
          "base_uri": "https://localhost:8080/"
        },
        "id": "sUPOIUIzTpAm",
        "outputId": "95158f90-ab63-4c88-a9fc-794ee44513ea"
      },
      "source": [
        "#tokens for the doc\n",
        "\n",
        "for token in doc:\n",
        "  print(token.text)"
      ],
      "execution_count": 7,
      "outputs": [
        {
          "output_type": "stream",
          "name": "stdout",
          "text": [
            "I\n",
            "am\n",
            "a\n",
            "university\n",
            "student\n",
            "and\n",
            "Colege\n",
            "Park\n",
            "blabla\n",
            "something\n",
            "eslse\n",
            "and\n",
            "i\n",
            "do\n",
            "n't\n",
            "know\n",
            "what\n",
            "to\n",
            "do\n"
          ]
        }
      ]
    },
    {
      "cell_type": "code",
      "metadata": {
        "colab": {
          "base_uri": "https://localhost:8080/"
        },
        "id": "_8WbfdYZTtJV",
        "outputId": "e6cf4362-aff7-4fd9-d69c-73eeff1beb1d"
      },
      "source": [
        "#get the sentences\n",
        "\n",
        "\n",
        "for sentence in doc.sents:#to work with doc.sents u need to iterate \n",
        "  print(sentence)"
      ],
      "execution_count": 16,
      "outputs": [
        {
          "output_type": "stream",
          "name": "stdout",
          "text": [
            "I am a university student.\n",
            "and Colege Park blabla something eslse\n",
            "and i don't know what to do\n"
          ]
        }
      ]
    },
    {
      "cell_type": "code",
      "metadata": {
        "id": "pkglszG2Uq7S"
      },
      "source": [
        "sentence1 = doc.sents[0]#not called like list"
      ],
      "execution_count": null,
      "outputs": []
    },
    {
      "cell_type": "code",
      "metadata": {
        "id": "jzTloapBU--7"
      },
      "source": [
        "a = next(iter(doc.sents))"
      ],
      "execution_count": 20,
      "outputs": []
    },
    {
      "cell_type": "code",
      "metadata": {
        "colab": {
          "base_uri": "https://localhost:8080/"
        },
        "id": "UzB8aKwTVEgV",
        "outputId": "33679c18-4d14-4178-dc8e-e9f980b6938b"
      },
      "source": [
        "a"
      ],
      "execution_count": 21,
      "outputs": [
        {
          "output_type": "execute_result",
          "data": {
            "text/plain": [
              "I am a university student."
            ]
          },
          "metadata": {},
          "execution_count": 21
        }
      ]
    },
    {
      "cell_type": "code",
      "metadata": {
        "colab": {
          "base_uri": "https://localhost:8080/"
        },
        "id": "hJGD-MEfVF_k",
        "outputId": "aea481b2-8c89-421d-eea6-fd6df0868773"
      },
      "source": [
        "[sentence.text for sentence in doc.sents]"
      ],
      "execution_count": 22,
      "outputs": [
        {
          "output_type": "execute_result",
          "data": {
            "text/plain": [
              "['I am a university student.',\n",
              " 'and Colege Park blabla something eslse',\n",
              " \"and i don't know what to do\"]"
            ]
          },
          "metadata": {},
          "execution_count": 22
        }
      ]
    },
    {
      "cell_type": "code",
      "metadata": {
        "colab": {
          "base_uri": "https://localhost:8080/"
        },
        "id": "9tj-w_WnVR8i",
        "outputId": "45ff54de-81b0-451a-8749-f4477cc75816"
      },
      "source": [
        "type(sentence)"
      ],
      "execution_count": 24,
      "outputs": [
        {
          "output_type": "execute_result",
          "data": {
            "text/plain": [
              "spacy.tokens.span.Span"
            ]
          },
          "metadata": {},
          "execution_count": 24
        }
      ]
    },
    {
      "cell_type": "code",
      "metadata": {
        "colab": {
          "base_uri": "https://localhost:8080/",
          "height": 35
        },
        "id": "-Qbz-eqVVWIP",
        "outputId": "8e8f6cca-8e22-420c-b07d-48da883c71f5"
      },
      "source": [
        "#token attributes\n",
        "sentence1 = list(doc.sents)[0]\n",
        "sentence1.text"
      ],
      "execution_count": 27,
      "outputs": [
        {
          "output_type": "execute_result",
          "data": {
            "application/vnd.google.colaboratory.intrinsic+json": {
              "type": "string"
            },
            "text/plain": [
              "'I am a university student.'"
            ]
          },
          "metadata": {},
          "execution_count": 27
        }
      ]
    },
    {
      "cell_type": "code",
      "metadata": {
        "id": "5r48hgU8VmGq"
      },
      "source": [
        "token_2 = sentence1[2]"
      ],
      "execution_count": 40,
      "outputs": []
    },
    {
      "cell_type": "code",
      "metadata": {
        "colab": {
          "base_uri": "https://localhost:8080/"
        },
        "id": "cDgAYeSjWlQo",
        "outputId": "ff475000-aeab-47b2-807b-10f4a431c001"
      },
      "source": [
        "token_2"
      ],
      "execution_count": 42,
      "outputs": [
        {
          "output_type": "execute_result",
          "data": {
            "text/plain": [
              "a"
            ]
          },
          "metadata": {},
          "execution_count": 42
        }
      ]
    },
    {
      "cell_type": "code",
      "metadata": {
        "colab": {
          "base_uri": "https://localhost:8080/"
        },
        "id": "HRdv0knFWnUf",
        "outputId": "1a55d37d-2ef6-43b1-95a0-4691c86e1510"
      },
      "source": [
        "token_2.right_edge"
      ],
      "execution_count": 41,
      "outputs": [
        {
          "output_type": "execute_result",
          "data": {
            "text/plain": [
              "a"
            ]
          },
          "metadata": {},
          "execution_count": 41
        }
      ]
    },
    {
      "cell_type": "code",
      "metadata": {
        "colab": {
          "base_uri": "https://localhost:8080/",
          "height": 167
        },
        "id": "IjhkKxlDXjUo",
        "outputId": "50855d34-b58b-487f-8354-6d79310469fe"
      },
      "source": [
        "help(right_edge)"
      ],
      "execution_count": 45,
      "outputs": [
        {
          "output_type": "error",
          "ename": "NameError",
          "evalue": "ignored",
          "traceback": [
            "\u001b[0;31m---------------------------------------------------------------------------\u001b[0m",
            "\u001b[0;31mNameError\u001b[0m                                 Traceback (most recent call last)",
            "\u001b[0;32m<ipython-input-45-e3cb72dba474>\u001b[0m in \u001b[0;36m<module>\u001b[0;34m()\u001b[0m\n\u001b[0;32m----> 1\u001b[0;31m \u001b[0mhelp\u001b[0m\u001b[0;34m(\u001b[0m\u001b[0mright_edge\u001b[0m\u001b[0;34m)\u001b[0m\u001b[0;34m\u001b[0m\u001b[0;34m\u001b[0m\u001b[0m\n\u001b[0m",
            "\u001b[0;31mNameError\u001b[0m: name 'right_edge' is not defined"
          ]
        }
      ]
    },
    {
      "cell_type": "code",
      "metadata": {
        "id": "tmmuxiN6YQAR"
      },
      "source": [
        "tiexti = 'this is not an eating or swallowing the things.'\n",
        "doct = nlp(tiexti)"
      ],
      "execution_count": 53,
      "outputs": []
    },
    {
      "cell_type": "code",
      "metadata": {
        "id": "fGrQjajnYxVT"
      },
      "source": [
        "token_3 = list(doct.sents)[0]"
      ],
      "execution_count": 58,
      "outputs": []
    },
    {
      "cell_type": "code",
      "metadata": {
        "colab": {
          "base_uri": "https://localhost:8080/",
          "height": 35
        },
        "id": "EQobegw1Y3sj",
        "outputId": "8f731ded-ef1c-43c3-f59d-abfc02c4c694"
      },
      "source": [
        "token_3[4].lemma_ #it should give a eat"
      ],
      "execution_count": 65,
      "outputs": [
        {
          "output_type": "execute_result",
          "data": {
            "application/vnd.google.colaboratory.intrinsic+json": {
              "type": "string"
            },
            "text/plain": [
              "'eating'"
            ]
          },
          "metadata": {},
          "execution_count": 65
        }
      ]
    },
    {
      "cell_type": "code",
      "metadata": {
        "colab": {
          "base_uri": "https://localhost:8080/",
          "height": 440
        },
        "id": "zwT9HDdzZSnT",
        "outputId": "28271d32-b48c-4f1b-fdd0-ec530415ba17"
      },
      "source": [
        "from spacy import displacy\n",
        "displacy.render(sentence1,style='dep', jupyter=True)"
      ],
      "execution_count": 71,
      "outputs": [
        {
          "output_type": "display_data",
          "data": {
            "text/html": [
              "<span class=\"tex2jax_ignore\"><svg xmlns=\"http://www.w3.org/2000/svg\" xmlns:xlink=\"http://www.w3.org/1999/xlink\" xml:lang=\"en\" id=\"61e1340b8f234c829ef48b728bd0117d-0\" class=\"displacy\" width=\"925\" height=\"399.5\" direction=\"ltr\" style=\"max-width: none; height: 399.5px; color: #000000; background: #ffffff; font-family: Arial; direction: ltr\">\n",
              "<text class=\"displacy-token\" fill=\"currentColor\" text-anchor=\"middle\" y=\"309.5\">\n",
              "    <tspan class=\"displacy-word\" fill=\"currentColor\" x=\"50\">I</tspan>\n",
              "    <tspan class=\"displacy-tag\" dy=\"2em\" fill=\"currentColor\" x=\"50\">PRON</tspan>\n",
              "</text>\n",
              "\n",
              "<text class=\"displacy-token\" fill=\"currentColor\" text-anchor=\"middle\" y=\"309.5\">\n",
              "    <tspan class=\"displacy-word\" fill=\"currentColor\" x=\"225\">am</tspan>\n",
              "    <tspan class=\"displacy-tag\" dy=\"2em\" fill=\"currentColor\" x=\"225\">AUX</tspan>\n",
              "</text>\n",
              "\n",
              "<text class=\"displacy-token\" fill=\"currentColor\" text-anchor=\"middle\" y=\"309.5\">\n",
              "    <tspan class=\"displacy-word\" fill=\"currentColor\" x=\"400\">a</tspan>\n",
              "    <tspan class=\"displacy-tag\" dy=\"2em\" fill=\"currentColor\" x=\"400\">DET</tspan>\n",
              "</text>\n",
              "\n",
              "<text class=\"displacy-token\" fill=\"currentColor\" text-anchor=\"middle\" y=\"309.5\">\n",
              "    <tspan class=\"displacy-word\" fill=\"currentColor\" x=\"575\">university</tspan>\n",
              "    <tspan class=\"displacy-tag\" dy=\"2em\" fill=\"currentColor\" x=\"575\">NOUN</tspan>\n",
              "</text>\n",
              "\n",
              "<text class=\"displacy-token\" fill=\"currentColor\" text-anchor=\"middle\" y=\"309.5\">\n",
              "    <tspan class=\"displacy-word\" fill=\"currentColor\" x=\"750\">student.</tspan>\n",
              "    <tspan class=\"displacy-tag\" dy=\"2em\" fill=\"currentColor\" x=\"750\">NOUN</tspan>\n",
              "</text>\n",
              "\n",
              "<g class=\"displacy-arrow\">\n",
              "    <path class=\"displacy-arc\" id=\"arrow-61e1340b8f234c829ef48b728bd0117d-0-0\" stroke-width=\"2px\" d=\"M70,264.5 C70,177.0 215.0,177.0 215.0,264.5\" fill=\"none\" stroke=\"currentColor\"/>\n",
              "    <text dy=\"1.25em\" style=\"font-size: 0.8em; letter-spacing: 1px\">\n",
              "        <textPath xlink:href=\"#arrow-61e1340b8f234c829ef48b728bd0117d-0-0\" class=\"displacy-label\" startOffset=\"50%\" side=\"left\" fill=\"currentColor\" text-anchor=\"middle\">nsubj</textPath>\n",
              "    </text>\n",
              "    <path class=\"displacy-arrowhead\" d=\"M70,266.5 L62,254.5 78,254.5\" fill=\"currentColor\"/>\n",
              "</g>\n",
              "\n",
              "<g class=\"displacy-arrow\">\n",
              "    <path class=\"displacy-arc\" id=\"arrow-61e1340b8f234c829ef48b728bd0117d-0-1\" stroke-width=\"2px\" d=\"M420,264.5 C420,89.5 745.0,89.5 745.0,264.5\" fill=\"none\" stroke=\"currentColor\"/>\n",
              "    <text dy=\"1.25em\" style=\"font-size: 0.8em; letter-spacing: 1px\">\n",
              "        <textPath xlink:href=\"#arrow-61e1340b8f234c829ef48b728bd0117d-0-1\" class=\"displacy-label\" startOffset=\"50%\" side=\"left\" fill=\"currentColor\" text-anchor=\"middle\">det</textPath>\n",
              "    </text>\n",
              "    <path class=\"displacy-arrowhead\" d=\"M420,266.5 L412,254.5 428,254.5\" fill=\"currentColor\"/>\n",
              "</g>\n",
              "\n",
              "<g class=\"displacy-arrow\">\n",
              "    <path class=\"displacy-arc\" id=\"arrow-61e1340b8f234c829ef48b728bd0117d-0-2\" stroke-width=\"2px\" d=\"M595,264.5 C595,177.0 740.0,177.0 740.0,264.5\" fill=\"none\" stroke=\"currentColor\"/>\n",
              "    <text dy=\"1.25em\" style=\"font-size: 0.8em; letter-spacing: 1px\">\n",
              "        <textPath xlink:href=\"#arrow-61e1340b8f234c829ef48b728bd0117d-0-2\" class=\"displacy-label\" startOffset=\"50%\" side=\"left\" fill=\"currentColor\" text-anchor=\"middle\">compound</textPath>\n",
              "    </text>\n",
              "    <path class=\"displacy-arrowhead\" d=\"M595,266.5 L587,254.5 603,254.5\" fill=\"currentColor\"/>\n",
              "</g>\n",
              "\n",
              "<g class=\"displacy-arrow\">\n",
              "    <path class=\"displacy-arc\" id=\"arrow-61e1340b8f234c829ef48b728bd0117d-0-3\" stroke-width=\"2px\" d=\"M245,264.5 C245,2.0 750.0,2.0 750.0,264.5\" fill=\"none\" stroke=\"currentColor\"/>\n",
              "    <text dy=\"1.25em\" style=\"font-size: 0.8em; letter-spacing: 1px\">\n",
              "        <textPath xlink:href=\"#arrow-61e1340b8f234c829ef48b728bd0117d-0-3\" class=\"displacy-label\" startOffset=\"50%\" side=\"left\" fill=\"currentColor\" text-anchor=\"middle\">attr</textPath>\n",
              "    </text>\n",
              "    <path class=\"displacy-arrowhead\" d=\"M750.0,266.5 L758.0,254.5 742.0,254.5\" fill=\"currentColor\"/>\n",
              "</g>\n",
              "</svg></span>"
            ],
            "text/plain": [
              "<IPython.core.display.HTML object>"
            ]
          },
          "metadata": {}
        }
      ]
    },
    {
      "cell_type": "code",
      "metadata": {
        "colab": {
          "base_uri": "https://localhost:8080/"
        },
        "id": "pyh-FOogZ1GN",
        "outputId": "5e88eb4a-37d1-4b03-ac55-d06c416e01b1"
      },
      "source": [
        "for token in doc:\n",
        "  print(spacy.explain(token.tag_))"
      ],
      "execution_count": 72,
      "outputs": [
        {
          "output_type": "stream",
          "name": "stdout",
          "text": [
            "pronoun, personal\n",
            "verb, non-3rd person singular present\n",
            "determiner\n",
            "noun, singular or mass\n",
            "noun, singular or mass\n",
            "punctuation mark, sentence closer\n",
            "conjunction, coordinating\n",
            "noun, proper singular\n",
            "noun, proper singular\n",
            "noun, singular or mass\n",
            "noun, singular or mass\n",
            "adverb\n",
            "conjunction, coordinating\n",
            "pronoun, personal\n",
            "verb, non-3rd person singular present\n",
            "adverb\n",
            "verb, base form\n",
            "wh-pronoun, personal\n",
            "infinitival \"to\"\n",
            "verb, base form\n"
          ]
        }
      ]
    },
    {
      "cell_type": "code",
      "metadata": {
        "id": "ftKqLqL_aHWC"
      },
      "source": [
        "text2 = 'I had fun however others got bored 24 mins  by the way Ali is a guy Russia that eating 6 anything'"
      ],
      "execution_count": 78,
      "outputs": []
    },
    {
      "cell_type": "code",
      "metadata": {
        "id": "rbYvKB5Jalhn"
      },
      "source": [
        "doc2 = nlp(text2)"
      ],
      "execution_count": 79,
      "outputs": []
    },
    {
      "cell_type": "code",
      "metadata": {
        "colab": {
          "base_uri": "https://localhost:8080/"
        },
        "id": "uoUU-RHdapb7",
        "outputId": "1e2dcc15-5659-4721-8aa9-e2ebe9fceb94"
      },
      "source": [
        "for ent in doc2.ents:\n",
        "  print(ent.text, ent.label_)"
      ],
      "execution_count": 81,
      "outputs": [
        {
          "output_type": "stream",
          "name": "stdout",
          "text": [
            "24 CARDINAL\n",
            "Ali PERSON\n",
            "Russia GPE\n",
            "6 CARDINAL\n"
          ]
        }
      ]
    },
    {
      "cell_type": "code",
      "metadata": {
        "colab": {
          "base_uri": "https://localhost:8080/",
          "height": 87
        },
        "id": "hVe8ZI4OazSb",
        "outputId": "80435123-f370-4af5-9b91-26a9a7d6cc8b"
      },
      "source": [
        "displacy.render(doc2, style='ent', jupyter=True)"
      ],
      "execution_count": 83,
      "outputs": [
        {
          "output_type": "display_data",
          "data": {
            "text/html": [
              "<span class=\"tex2jax_ignore\"><div class=\"entities\" style=\"line-height: 2.5; direction: ltr\">I had fun however others got bored \n",
              "<mark class=\"entity\" style=\"background: #e4e7d2; padding: 0.45em 0.6em; margin: 0 0.25em; line-height: 1; border-radius: 0.35em;\">\n",
              "    24\n",
              "    <span style=\"font-size: 0.8em; font-weight: bold; line-height: 1; border-radius: 0.35em; text-transform: uppercase; vertical-align: middle; margin-left: 0.5rem\">CARDINAL</span>\n",
              "</mark>\n",
              " mins  by the way \n",
              "<mark class=\"entity\" style=\"background: #aa9cfc; padding: 0.45em 0.6em; margin: 0 0.25em; line-height: 1; border-radius: 0.35em;\">\n",
              "    Ali\n",
              "    <span style=\"font-size: 0.8em; font-weight: bold; line-height: 1; border-radius: 0.35em; text-transform: uppercase; vertical-align: middle; margin-left: 0.5rem\">PERSON</span>\n",
              "</mark>\n",
              " is a guy \n",
              "<mark class=\"entity\" style=\"background: #feca74; padding: 0.45em 0.6em; margin: 0 0.25em; line-height: 1; border-radius: 0.35em;\">\n",
              "    Russia\n",
              "    <span style=\"font-size: 0.8em; font-weight: bold; line-height: 1; border-radius: 0.35em; text-transform: uppercase; vertical-align: middle; margin-left: 0.5rem\">GPE</span>\n",
              "</mark>\n",
              " that eating \n",
              "<mark class=\"entity\" style=\"background: #e4e7d2; padding: 0.45em 0.6em; margin: 0 0.25em; line-height: 1; border-radius: 0.35em;\">\n",
              "    6\n",
              "    <span style=\"font-size: 0.8em; font-weight: bold; line-height: 1; border-radius: 0.35em; text-transform: uppercase; vertical-align: middle; margin-left: 0.5rem\">CARDINAL</span>\n",
              "</mark>\n",
              " anything</div></span>"
            ],
            "text/plain": [
              "<IPython.core.display.HTML object>"
            ]
          },
          "metadata": {}
        }
      ]
    },
    {
      "cell_type": "code",
      "metadata": {
        "colab": {
          "base_uri": "https://localhost:8080/"
        },
        "id": "UpLbbbMrbOWD",
        "outputId": "3148c233-c6c0-4a50-af54-47d15bd3444d"
      },
      "source": [
        "#preprocessing\n",
        "cc = nlp('compute comput computer computers computing')\n",
        "\n",
        "for token in cc:\n",
        "  print(token.text, token.lemma_,)\n"
      ],
      "execution_count": 88,
      "outputs": [
        {
          "output_type": "stream",
          "name": "stdout",
          "text": [
            "compute compute\n",
            "comput comput\n",
            "computer computer\n",
            "computers computer\n",
            "computing compute\n"
          ]
        }
      ]
    },
    {
      "cell_type": "code",
      "metadata": {
        "id": "t_pnPp5ecii2"
      },
      "source": [
        "text4 = \"This is it eats, I'm  an animal lover loving preprocessing \"\n",
        "doc4 = nlp(text4)"
      ],
      "execution_count": 137,
      "outputs": []
    },
    {
      "cell_type": "code",
      "metadata": {
        "colab": {
          "base_uri": "https://localhost:8080/"
        },
        "id": "bcPkbDm-dXfF",
        "outputId": "17fca453-fa05-4dbe-b754-f255d856a227"
      },
      "source": [
        "[token for token in doc4 if not token.is_stop]"
      ],
      "execution_count": 105,
      "outputs": [
        {
          "output_type": "execute_result",
          "data": {
            "text/plain": [
              "[eats, ,,  , animal, lover]"
            ]
          },
          "metadata": {},
          "execution_count": 105
        }
      ]
    },
    {
      "cell_type": "code",
      "metadata": {
        "id": "qPJNAZVEdc3u"
      },
      "source": [
        "sp_stop = spacy.lang.en.stop_words.STOP_WORDS#sp_stp keep all stopwords"
      ],
      "execution_count": 106,
      "outputs": []
    },
    {
      "cell_type": "code",
      "metadata": {
        "colab": {
          "base_uri": "https://localhost:8080/"
        },
        "id": "nR0USEIUd0N7",
        "outputId": "21a41165-131f-4121-c579-b1cd2432819b"
      },
      "source": [
        "len(sp_stop)"
      ],
      "execution_count": 107,
      "outputs": [
        {
          "output_type": "execute_result",
          "data": {
            "text/plain": [
              "326"
            ]
          },
          "metadata": {},
          "execution_count": 107
        }
      ]
    },
    {
      "cell_type": "code",
      "metadata": {
        "id": "TIl8Y86_d69G"
      },
      "source": [
        "from collections import Counter"
      ],
      "execution_count": 108,
      "outputs": []
    },
    {
      "cell_type": "code",
      "metadata": {
        "id": "eUMcxh0TeOy3"
      },
      "source": [
        "counter = Counter(token.lemma_ for token in doc4)"
      ],
      "execution_count": 138,
      "outputs": []
    },
    {
      "cell_type": "code",
      "metadata": {
        "colab": {
          "base_uri": "https://localhost:8080/"
        },
        "id": "1lr7tFCceTY0",
        "outputId": "87673986-7fe2-4450-8788-ec43fd9dbd4c"
      },
      "source": [
        "counter"
      ],
      "execution_count": 139,
      "outputs": [
        {
          "output_type": "execute_result",
          "data": {
            "text/plain": [
              "Counter({' ': 1,\n",
              "         ',': 1,\n",
              "         '-PRON-': 2,\n",
              "         'an': 1,\n",
              "         'animal': 1,\n",
              "         'be': 2,\n",
              "         'eat': 1,\n",
              "         'love': 1,\n",
              "         'lover': 1,\n",
              "         'preprocesse': 1,\n",
              "         'this': 1})"
            ]
          },
          "metadata": {},
          "execution_count": 139
        }
      ]
    },
    {
      "cell_type": "code",
      "metadata": {
        "colab": {
          "base_uri": "https://localhost:8080/"
        },
        "id": "i5eHhq5AeUqB",
        "outputId": "b8c55ac4-6473-4e96-fc5f-37465babdda0"
      },
      "source": [
        "#if u need to add a stp words\n",
        "nlp.vocab['loves'].is_stop"
      ],
      "execution_count": 116,
      "outputs": [
        {
          "output_type": "execute_result",
          "data": {
            "text/plain": [
              "False"
            ]
          },
          "metadata": {},
          "execution_count": 116
        }
      ]
    },
    {
      "cell_type": "code",
      "metadata": {
        "id": "5wNfuX73erx5"
      },
      "source": [
        "mi_stpwords = ['love']"
      ],
      "execution_count": 143,
      "outputs": []
    },
    {
      "cell_type": "code",
      "metadata": {
        "id": "bxhAhl5beyXK"
      },
      "source": [
        "preprocessed = [token.lemma_ for token in doc4 if token.text not in mi_stpwords]"
      ],
      "execution_count": 144,
      "outputs": []
    },
    {
      "cell_type": "code",
      "metadata": {
        "colab": {
          "base_uri": "https://localhost:8080/"
        },
        "id": "nrzLMUrKfJx1",
        "outputId": "6db9187a-ff90-4dc9-8116-e293a47ecdf9"
      },
      "source": [
        "preprocessed"
      ],
      "execution_count": 145,
      "outputs": [
        {
          "output_type": "execute_result",
          "data": {
            "text/plain": [
              "['this',\n",
              " 'be',\n",
              " '-PRON-',\n",
              " 'eat',\n",
              " ',',\n",
              " '-PRON-',\n",
              " 'be',\n",
              " ' ',\n",
              " 'an',\n",
              " 'animal',\n",
              " 'lover',\n",
              " 'love',\n",
              " 'preprocesse']"
            ]
          },
          "metadata": {},
          "execution_count": 145
        }
      ]
    },
    {
      "cell_type": "code",
      "metadata": {
        "id": "8ayNs5ZafMjn"
      },
      "source": [
        "custom_stop = ['hello', 'world']\n",
        "\n",
        "text1 = 'hello world this is me ananzaa'"
      ],
      "execution_count": 150,
      "outputs": []
    },
    {
      "cell_type": "code",
      "metadata": {
        "id": "AZXZ-2l3fx28"
      },
      "source": [
        "for word in custom_stop:\n",
        "  nlp.vocab[word].is_stop = True"
      ],
      "execution_count": 151,
      "outputs": []
    },
    {
      "cell_type": "code",
      "metadata": {
        "colab": {
          "base_uri": "https://localhost:8080/"
        },
        "id": "34h39K1wf33m",
        "outputId": "bff5a339-991e-4815-922b-4b3ae22cd679"
      },
      "source": [
        "doc6 = nlp(text1)\n",
        "for word in doc6:\n",
        "  if word.is_stop:\n",
        "    continue\n",
        "  else:\n",
        "    print(word)"
      ],
      "execution_count": 152,
      "outputs": [
        {
          "output_type": "stream",
          "name": "stdout",
          "text": [
            "ananzaa\n"
          ]
        }
      ]
    },
    {
      "cell_type": "code",
      "metadata": {
        "id": "1EU5gLLcgSoW"
      },
      "source": [
        "token.is_punct"
      ],
      "execution_count": null,
      "outputs": []
    }
  ]
}