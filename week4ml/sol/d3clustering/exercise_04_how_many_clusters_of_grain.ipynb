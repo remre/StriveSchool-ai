{
  "nbformat": 4,
  "nbformat_minor": 0,
  "metadata": {
    "kernelspec": {
      "display_name": "Python 3",
      "language": "python",
      "name": "python3"
    },
    "language_info": {
      "codemirror_mode": {
        "name": "ipython",
        "version": 3
      },
      "file_extension": ".py",
      "mimetype": "text/x-python",
      "name": "python",
      "nbconvert_exporter": "python",
      "pygments_lexer": "ipython3",
      "version": "3.7.3"
    },
    "colab": {
      "name": "exercise_04_how_many_clusters_of_grain.ipynb",
      "provenance": []
    }
  },
  "cells": [
    {
      "cell_type": "markdown",
      "metadata": {
        "id": "mPf_nuemL21D"
      },
      "source": [
        "# Exercise 4: How many clusters of grain?\n",
        "\n",
        "In the video, you learnt how to choose a good number of clusters for a dataset using the k-means inertia graph.  You are given a dataset of the measurements of samples of grain.  What's a good number of clusters in this case?\n",
        "\n",
        "This dataset was obtained from the [UCI](https://archive.ics.uci.edu/ml/datasets/seeds)."
      ]
    },
    {
      "cell_type": "markdown",
      "metadata": {
        "id": "nAhl7xKcL21E"
      },
      "source": [
        "**Step 1:** Load the dataset _(written for you)_."
      ]
    },
    {
      "cell_type": "code",
      "metadata": {
        "collapsed": true,
        "exercise": false,
        "id": "0az6XtNpL21F",
        "outputId": "113a98e9-f18c-4afe-9893-2c1e2a101efc",
        "colab": {
          "base_uri": "https://localhost:8080/",
          "height": 202
        }
      },
      "source": [
        "import pandas as pd\n",
        "\n",
        "seeds_df = pd.read_csv('seeds.csv')\n",
        "# forget about the grain variety for the moment - we'll use this later\n",
        "del seeds_df['grain_variety']\n",
        "seeds_df.head()"
      ],
      "execution_count": 2,
      "outputs": [
        {
          "output_type": "execute_result",
          "data": {
            "text/html": [
              "<div>\n",
              "<style scoped>\n",
              "    .dataframe tbody tr th:only-of-type {\n",
              "        vertical-align: middle;\n",
              "    }\n",
              "\n",
              "    .dataframe tbody tr th {\n",
              "        vertical-align: top;\n",
              "    }\n",
              "\n",
              "    .dataframe thead th {\n",
              "        text-align: right;\n",
              "    }\n",
              "</style>\n",
              "<table border=\"1\" class=\"dataframe\">\n",
              "  <thead>\n",
              "    <tr style=\"text-align: right;\">\n",
              "      <th></th>\n",
              "      <th>area</th>\n",
              "      <th>perimeter</th>\n",
              "      <th>compactness</th>\n",
              "      <th>length</th>\n",
              "      <th>width</th>\n",
              "      <th>asymmetry_coefficient</th>\n",
              "      <th>groove_length</th>\n",
              "    </tr>\n",
              "  </thead>\n",
              "  <tbody>\n",
              "    <tr>\n",
              "      <th>0</th>\n",
              "      <td>15.26</td>\n",
              "      <td>14.84</td>\n",
              "      <td>0.8710</td>\n",
              "      <td>5.763</td>\n",
              "      <td>3.312</td>\n",
              "      <td>2.221</td>\n",
              "      <td>5.220</td>\n",
              "    </tr>\n",
              "    <tr>\n",
              "      <th>1</th>\n",
              "      <td>14.88</td>\n",
              "      <td>14.57</td>\n",
              "      <td>0.8811</td>\n",
              "      <td>5.554</td>\n",
              "      <td>3.333</td>\n",
              "      <td>1.018</td>\n",
              "      <td>4.956</td>\n",
              "    </tr>\n",
              "    <tr>\n",
              "      <th>2</th>\n",
              "      <td>14.29</td>\n",
              "      <td>14.09</td>\n",
              "      <td>0.9050</td>\n",
              "      <td>5.291</td>\n",
              "      <td>3.337</td>\n",
              "      <td>2.699</td>\n",
              "      <td>4.825</td>\n",
              "    </tr>\n",
              "    <tr>\n",
              "      <th>3</th>\n",
              "      <td>13.84</td>\n",
              "      <td>13.94</td>\n",
              "      <td>0.8955</td>\n",
              "      <td>5.324</td>\n",
              "      <td>3.379</td>\n",
              "      <td>2.259</td>\n",
              "      <td>4.805</td>\n",
              "    </tr>\n",
              "    <tr>\n",
              "      <th>4</th>\n",
              "      <td>16.14</td>\n",
              "      <td>14.99</td>\n",
              "      <td>0.9034</td>\n",
              "      <td>5.658</td>\n",
              "      <td>3.562</td>\n",
              "      <td>1.355</td>\n",
              "      <td>5.175</td>\n",
              "    </tr>\n",
              "  </tbody>\n",
              "</table>\n",
              "</div>"
            ],
            "text/plain": [
              "    area  perimeter  compactness  ...  width  asymmetry_coefficient  groove_length\n",
              "0  15.26      14.84       0.8710  ...  3.312                  2.221          5.220\n",
              "1  14.88      14.57       0.8811  ...  3.333                  1.018          4.956\n",
              "2  14.29      14.09       0.9050  ...  3.337                  2.699          4.825\n",
              "3  13.84      13.94       0.8955  ...  3.379                  2.259          4.805\n",
              "4  16.14      14.99       0.9034  ...  3.562                  1.355          5.175\n",
              "\n",
              "[5 rows x 7 columns]"
            ]
          },
          "metadata": {
            "tags": []
          },
          "execution_count": 2
        }
      ]
    },
    {
      "cell_type": "markdown",
      "metadata": {
        "id": "n84pUe2UL21I"
      },
      "source": [
        "**Step 2:** Display the DataFrame to inspect the data.  Notice that there are 7 columns - so each grain sample (row) is a point in 7D space!  Scatter plots can't help us here."
      ]
    },
    {
      "cell_type": "code",
      "metadata": {
        "id": "AqqOBjU3L21L",
        "outputId": "212ee9f9-66fe-407c-b4a6-2f7171cf3037",
        "colab": {
          "base_uri": "https://localhost:8080/",
          "height": 294
        }
      },
      "source": [
        "seeds_df.describe()"
      ],
      "execution_count": 3,
      "outputs": [
        {
          "output_type": "execute_result",
          "data": {
            "text/html": [
              "<div>\n",
              "<style scoped>\n",
              "    .dataframe tbody tr th:only-of-type {\n",
              "        vertical-align: middle;\n",
              "    }\n",
              "\n",
              "    .dataframe tbody tr th {\n",
              "        vertical-align: top;\n",
              "    }\n",
              "\n",
              "    .dataframe thead th {\n",
              "        text-align: right;\n",
              "    }\n",
              "</style>\n",
              "<table border=\"1\" class=\"dataframe\">\n",
              "  <thead>\n",
              "    <tr style=\"text-align: right;\">\n",
              "      <th></th>\n",
              "      <th>area</th>\n",
              "      <th>perimeter</th>\n",
              "      <th>compactness</th>\n",
              "      <th>length</th>\n",
              "      <th>width</th>\n",
              "      <th>asymmetry_coefficient</th>\n",
              "      <th>groove_length</th>\n",
              "    </tr>\n",
              "  </thead>\n",
              "  <tbody>\n",
              "    <tr>\n",
              "      <th>count</th>\n",
              "      <td>210.000000</td>\n",
              "      <td>210.000000</td>\n",
              "      <td>210.000000</td>\n",
              "      <td>210.000000</td>\n",
              "      <td>210.000000</td>\n",
              "      <td>210.000000</td>\n",
              "      <td>210.000000</td>\n",
              "    </tr>\n",
              "    <tr>\n",
              "      <th>mean</th>\n",
              "      <td>14.847524</td>\n",
              "      <td>14.559286</td>\n",
              "      <td>0.870999</td>\n",
              "      <td>5.628533</td>\n",
              "      <td>3.258605</td>\n",
              "      <td>3.700201</td>\n",
              "      <td>5.408071</td>\n",
              "    </tr>\n",
              "    <tr>\n",
              "      <th>std</th>\n",
              "      <td>2.909699</td>\n",
              "      <td>1.305959</td>\n",
              "      <td>0.023629</td>\n",
              "      <td>0.443063</td>\n",
              "      <td>0.377714</td>\n",
              "      <td>1.503557</td>\n",
              "      <td>0.491480</td>\n",
              "    </tr>\n",
              "    <tr>\n",
              "      <th>min</th>\n",
              "      <td>10.590000</td>\n",
              "      <td>12.410000</td>\n",
              "      <td>0.808100</td>\n",
              "      <td>4.899000</td>\n",
              "      <td>2.630000</td>\n",
              "      <td>0.765100</td>\n",
              "      <td>4.519000</td>\n",
              "    </tr>\n",
              "    <tr>\n",
              "      <th>25%</th>\n",
              "      <td>12.270000</td>\n",
              "      <td>13.450000</td>\n",
              "      <td>0.856900</td>\n",
              "      <td>5.262250</td>\n",
              "      <td>2.944000</td>\n",
              "      <td>2.561500</td>\n",
              "      <td>5.045000</td>\n",
              "    </tr>\n",
              "    <tr>\n",
              "      <th>50%</th>\n",
              "      <td>14.355000</td>\n",
              "      <td>14.320000</td>\n",
              "      <td>0.873450</td>\n",
              "      <td>5.523500</td>\n",
              "      <td>3.237000</td>\n",
              "      <td>3.599000</td>\n",
              "      <td>5.223000</td>\n",
              "    </tr>\n",
              "    <tr>\n",
              "      <th>75%</th>\n",
              "      <td>17.305000</td>\n",
              "      <td>15.715000</td>\n",
              "      <td>0.887775</td>\n",
              "      <td>5.979750</td>\n",
              "      <td>3.561750</td>\n",
              "      <td>4.768750</td>\n",
              "      <td>5.877000</td>\n",
              "    </tr>\n",
              "    <tr>\n",
              "      <th>max</th>\n",
              "      <td>21.180000</td>\n",
              "      <td>17.250000</td>\n",
              "      <td>0.918300</td>\n",
              "      <td>6.675000</td>\n",
              "      <td>4.033000</td>\n",
              "      <td>8.456000</td>\n",
              "      <td>6.550000</td>\n",
              "    </tr>\n",
              "  </tbody>\n",
              "</table>\n",
              "</div>"
            ],
            "text/plain": [
              "             area   perimeter  ...  asymmetry_coefficient  groove_length\n",
              "count  210.000000  210.000000  ...             210.000000     210.000000\n",
              "mean    14.847524   14.559286  ...               3.700201       5.408071\n",
              "std      2.909699    1.305959  ...               1.503557       0.491480\n",
              "min     10.590000   12.410000  ...               0.765100       4.519000\n",
              "25%     12.270000   13.450000  ...               2.561500       5.045000\n",
              "50%     14.355000   14.320000  ...               3.599000       5.223000\n",
              "75%     17.305000   15.715000  ...               4.768750       5.877000\n",
              "max     21.180000   17.250000  ...               8.456000       6.550000\n",
              "\n",
              "[8 rows x 7 columns]"
            ]
          },
          "metadata": {
            "tags": []
          },
          "execution_count": 3
        }
      ]
    },
    {
      "cell_type": "markdown",
      "metadata": {
        "id": "EYml2R-6L21L"
      },
      "source": [
        "**Step 3:** Extract the measurements from the DataFrame using its `.values` attribute:"
      ]
    },
    {
      "cell_type": "code",
      "metadata": {
        "collapsed": true,
        "id": "vtqvEgJFL21N",
        "outputId": "826ea5a6-1d4e-47a1-c622-c740a13ea7b7",
        "colab": {
          "base_uri": "https://localhost:8080/",
          "height": 202
        }
      },
      "source": [
        "samples = seeds_df.values\n",
        "seeds_df.head()"
      ],
      "execution_count": 26,
      "outputs": [
        {
          "output_type": "execute_result",
          "data": {
            "text/html": [
              "<div>\n",
              "<style scoped>\n",
              "    .dataframe tbody tr th:only-of-type {\n",
              "        vertical-align: middle;\n",
              "    }\n",
              "\n",
              "    .dataframe tbody tr th {\n",
              "        vertical-align: top;\n",
              "    }\n",
              "\n",
              "    .dataframe thead th {\n",
              "        text-align: right;\n",
              "    }\n",
              "</style>\n",
              "<table border=\"1\" class=\"dataframe\">\n",
              "  <thead>\n",
              "    <tr style=\"text-align: right;\">\n",
              "      <th></th>\n",
              "      <th>area</th>\n",
              "      <th>perimeter</th>\n",
              "      <th>compactness</th>\n",
              "      <th>length</th>\n",
              "      <th>width</th>\n",
              "      <th>asymmetry_coefficient</th>\n",
              "      <th>groove_length</th>\n",
              "    </tr>\n",
              "  </thead>\n",
              "  <tbody>\n",
              "    <tr>\n",
              "      <th>0</th>\n",
              "      <td>15.26</td>\n",
              "      <td>14.84</td>\n",
              "      <td>0.8710</td>\n",
              "      <td>5.763</td>\n",
              "      <td>3.312</td>\n",
              "      <td>2.221</td>\n",
              "      <td>5.220</td>\n",
              "    </tr>\n",
              "    <tr>\n",
              "      <th>1</th>\n",
              "      <td>14.88</td>\n",
              "      <td>14.57</td>\n",
              "      <td>0.8811</td>\n",
              "      <td>5.554</td>\n",
              "      <td>3.333</td>\n",
              "      <td>1.018</td>\n",
              "      <td>4.956</td>\n",
              "    </tr>\n",
              "    <tr>\n",
              "      <th>2</th>\n",
              "      <td>14.29</td>\n",
              "      <td>14.09</td>\n",
              "      <td>0.9050</td>\n",
              "      <td>5.291</td>\n",
              "      <td>3.337</td>\n",
              "      <td>2.699</td>\n",
              "      <td>4.825</td>\n",
              "    </tr>\n",
              "    <tr>\n",
              "      <th>3</th>\n",
              "      <td>13.84</td>\n",
              "      <td>13.94</td>\n",
              "      <td>0.8955</td>\n",
              "      <td>5.324</td>\n",
              "      <td>3.379</td>\n",
              "      <td>2.259</td>\n",
              "      <td>4.805</td>\n",
              "    </tr>\n",
              "    <tr>\n",
              "      <th>4</th>\n",
              "      <td>16.14</td>\n",
              "      <td>14.99</td>\n",
              "      <td>0.9034</td>\n",
              "      <td>5.658</td>\n",
              "      <td>3.562</td>\n",
              "      <td>1.355</td>\n",
              "      <td>5.175</td>\n",
              "    </tr>\n",
              "  </tbody>\n",
              "</table>\n",
              "</div>"
            ],
            "text/plain": [
              "    area  perimeter  compactness  ...  width  asymmetry_coefficient  groove_length\n",
              "0  15.26      14.84       0.8710  ...  3.312                  2.221          5.220\n",
              "1  14.88      14.57       0.8811  ...  3.333                  1.018          4.956\n",
              "2  14.29      14.09       0.9050  ...  3.337                  2.699          4.825\n",
              "3  13.84      13.94       0.8955  ...  3.379                  2.259          4.805\n",
              "4  16.14      14.99       0.9034  ...  3.562                  1.355          5.175\n",
              "\n",
              "[5 rows x 7 columns]"
            ]
          },
          "metadata": {
            "tags": []
          },
          "execution_count": 26
        }
      ]
    },
    {
      "cell_type": "markdown",
      "metadata": {
        "id": "FaRn9g_pL21P"
      },
      "source": [
        "**Step 4:**  _(Written for you)_. Measure the quality of clusterings with different numbers of clusters using the\n",
        "inertia.  For each of the given values of `k`, perform the following steps:\n",
        "\n",
        "  - Create a `KMeans` instance called `model` with `k` clusters.\n",
        "  - Fit the model to the grain data `samples`.\n",
        "  - Append the value of the `inertia_` attribute of `model` to the list `inertias`."
      ]
    },
    {
      "cell_type": "code",
      "metadata": {
        "collapsed": true,
        "id": "f7NgsQZGL21U",
        "outputId": "38bd5a56-ffa5-4746-fce1-9846e28ee849",
        "colab": {
          "base_uri": "https://localhost:8080/",
          "height": 265
        }
      },
      "source": [
        "from sklearn.cluster import KMeans\n",
        "\n",
        "ks = range(1, 6)\n",
        "inertias = []\n",
        "\n",
        "for k in ks:\n",
        "    # Create a KMeans instance with k clusters: model\n",
        "    model = KMeans(n_clusters=k)\n",
        "\n",
        "    # Fit model to samples\n",
        "    kk = model.fit(samples)\n",
        "    plt.plot(inertias)\n",
        "    # Append the inertia to the list of inertias\n",
        "    inertias.append(model.inertia_)"
      ],
      "execution_count": 33,
      "outputs": [
        {
          "output_type": "display_data",
          "data": {
            "image/png": "[encoded data removed]",
            "text/plain": [
              "<Figure size 432x288 with 1 Axes>"
            ]
          },
          "metadata": {
            "tags": [],
            "needs_background": "light"
          }
        }
      ]
    },
    {
      "cell_type": "markdown",
      "metadata": {
        "id": "3PD2bOqCL21Y"
      },
      "source": [
        "**Step 5:**  Plot the inertia to see which number of clusters is best. Remember: lower numbers are better!"
      ]
    },
    {
      "cell_type": "code",
      "metadata": {
        "id": "QyOCD9MUL21a"
      },
      "source": [
        "import matplotlib.pyplot as plt\n",
        "plt.hist(inertias)"
      ],
      "execution_count": null,
      "outputs": []
    },
    {
      "cell_type": "markdown",
      "metadata": {
        "id": "LhswOkhyL21a"
      },
      "source": [
        "**Excellent work!** You can see from the graph that 3 is a good number of clusters, since these are points where the inertia begins to decrease more slowly."
      ]
    },
    {
      "cell_type": "code",
      "metadata": {
        "collapsed": true,
        "id": "_Q5v0npAL21b"
      },
      "source": [
        ""
      ],
      "execution_count": null,
      "outputs": []
    }
  ]
}
