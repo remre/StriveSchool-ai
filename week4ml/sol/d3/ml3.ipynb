{
  "nbformat": 4,
  "nbformat_minor": 0,
  "metadata": {
    "kernelspec": {
      "display_name": "Python 3",
      "language": "python",
      "name": "python3"
    },
    "language_info": {
      "codemirror_mode": {
        "name": "ipython",
        "version": 3
      },
      "file_extension": ".py",
      "mimetype": "text/x-python",
      "name": "python",
      "nbconvert_exporter": "python",
      "pygments_lexer": "ipython3",
      "version": "3.8.8"
    },
    "colab": {
      "name": "ml3.ipynb",
      "provenance": [],
      "include_colab_link": true
    },
    "accelerator": "GPU"
  },
  "cells": [
    {
      "cell_type": "markdown",
      "metadata": {
        "id": "view-in-github",
        "colab_type": "text"
      },
      "source": [
        "<a href=\"https://colab.research.google.com/github/remre/StriveSchool-ai/blob/main/week4ml/sol/d3/ml3.ipynb\" target=\"_parent\"><img src=\"https://colab.research.google.com/assets/colab-badge.svg\" alt=\"Open In Colab\"/></a>"
      ]
    },
    {
      "cell_type": "markdown",
      "metadata": {
        "deletable": false,
        "editable": false,
        "nbgrader": {
          "cell_type": "markdown",
          "checksum": "89eed0907f0119c6c6f6ef390cc54c08",
          "grade": false,
          "grade_id": "cell-33d26828be6e1038",
          "locked": true,
          "schema_version": 3,
          "solution": false,
          "task": false
        },
        "id": "9MC-QXmgoHyp"
      },
      "source": [
        "# Exercise 10: Hierarchical clustering of the grain data\n",
        "\n",
        "In the video, you learnt that the SciPy `linkage()` function performs hierarchical clustering on an array of samples.  Use the `linkage()` function to obtain a hierarchical clustering of the grain samples, and use `dendrogram()` to visualize the result.  A sample of the grain measurements is provided in the array `samples`, while the variety of each grain sample is given by the list `varieties`.\n"
      ]
    },
    {
      "cell_type": "markdown",
      "metadata": {
        "deletable": false,
        "editable": false,
        "nbgrader": {
          "cell_type": "markdown",
          "checksum": "a6edca00fa71dea4330eb2c2ea98df0c",
          "grade": false,
          "grade_id": "cell-f184e018b98e7d52",
          "locked": true,
          "schema_version": 3,
          "solution": false,
          "task": false
        },
        "id": "N-eJc_hCoHyr"
      },
      "source": [
        "**Step 1:** Import:\n",
        "\n",
        " + `linkage` and `dendrogram` from `scipy.cluster.hierarchy`.\n",
        " + `matplotlib.pyplot` as `plt`.\n",
        " + `pandas`\n",
        " + `load_iris` and `train_test_split`"
      ]
    },
    {
      "cell_type": "code",
      "metadata": {
        "id": "Blyaz-fPoHyt"
      },
      "source": [
        "import pandas as pd\n",
        "import numpy as np\n",
        "\n",
        "from sklearn.datasets import load_iris\n",
        "from sklearn.model_selection import train_test_split\n",
        "from scipy.cluster.hierarchy import linkage, dendrogram\n",
        "\n",
        "import matplotlib.pyplot as plt\n"
      ],
      "execution_count": 64,
      "outputs": []
    },
    {
      "cell_type": "markdown",
      "metadata": {
        "deletable": false,
        "editable": false,
        "nbgrader": {
          "cell_type": "markdown",
          "checksum": "a13bdd9c406d550c5d3a2c33173a71d4",
          "grade": false,
          "grade_id": "cell-5d407d7746dba37b",
          "locked": true,
          "schema_version": 3,
          "solution": false,
          "task": false
        },
        "id": "oCT9QQK4oHyv"
      },
      "source": [
        "**Step 2:** Load the dataset _(done for you)_."
      ]
    },
    {
      "cell_type": "code",
      "metadata": {
        "exercise": false,
        "id": "wGbkE9fmoHyw",
        "outputId": "c3b33262-98c6-40a2-f233-671fb55ef006",
        "colab": {
          "base_uri": "https://localhost:8080/"
        }
      },
      "source": [
        "\n",
        "iris_data = load_iris()\n",
        "iris_data"
      ],
      "execution_count": 65,
      "outputs": [
        {
          "output_type": "execute_result",
          "data": {
            "text/plain": [
              "{'DESCR': '.. _iris_dataset:\\n\\nIris plants dataset\\n--------------------\\n\\n**Data Set Characteristics:**\\n\\n    :Number of Instances: 150 (50 in each of three classes)\\n    :Number of Attributes: 4 numeric, predictive attributes and the class\\n    :Attribute Information:\\n        - sepal length in cm\\n        - sepal width in cm\\n        - petal length in cm\\n        - petal width in cm\\n        - class:\\n                - Iris-Setosa\\n                - Iris-Versicolour\\n                - Iris-Virginica\\n                \\n    :Summary Statistics:\\n\\n    ============== ==== ==== ======= ===== ====================\\n                    Min  Max   Mean    SD   Class Correlation\\n    ============== ==== ==== ======= ===== ====================\\n    sepal length:   4.3  7.9   5.84   0.83    0.7826\\n    sepal width:    2.0  4.4   3.05   0.43   -0.4194\\n    petal length:   1.0  6.9   3.76   1.76    0.9490  (high!)\\n    petal width:    0.1  2.5   1.20   0.76    0.9565  (high!)\\n    ============== ==== ==== ======= ===== ====================\\n\\n    :Missing Attribute Values: None\\n    :Class Distribution: 33.3% for each of 3 classes.\\n    :Creator: R.A. Fisher\\n    :Donor: Michael Marshall (MARSHALL%PLU@io.arc.nasa.gov)\\n    :Date: July, 1988\\n\\nThe famous Iris database, first used by Sir R.A. Fisher. The dataset is taken\\nfrom Fisher\\'s paper. Note that it\\'s the same as in R, but not as in the UCI\\nMachine Learning Repository, which has two wrong data points.\\n\\nThis is perhaps the best known database to be found in the\\npattern recognition literature.  Fisher\\'s paper is a classic in the field and\\nis referenced frequently to this day.  (See Duda & Hart, for example.)  The\\ndata set contains 3 classes of 50 instances each, where each class refers to a\\ntype of iris plant.  One class is linearly separable from the other 2; the\\nlatter are NOT linearly separable from each other.\\n\\n.. topic:: References\\n\\n   - Fisher, R.A. \"The use of multiple measurements in taxonomic problems\"\\n     Annual Eugenics, 7, Part II, 179-188 (1936); also in \"Contributions to\\n     Mathematical Statistics\" (John Wiley, NY, 1950).\\n   - Duda, R.O., & Hart, P.E. (1973) Pattern Classification and Scene Analysis.\\n     (Q327.D83) John Wiley & Sons.  ISBN 0-471-22361-1.  See page 218.\\n   - Dasarathy, B.V. (1980) \"Nosing Around the Neighborhood: A New System\\n     Structure and Classification Rule for Recognition in Partially Exposed\\n     Environments\".  IEEE Transactions on Pattern Analysis and Machine\\n     Intelligence, Vol. PAMI-2, No. 1, 67-71.\\n   - Gates, G.W. (1972) \"The Reduced Nearest Neighbor Rule\".  IEEE Transactions\\n     on Information Theory, May 1972, 431-433.\\n   - See also: 1988 MLC Proceedings, 54-64.  Cheeseman et al\"s AUTOCLASS II\\n     conceptual clustering system finds 3 classes in the data.\\n   - Many, many more ...',\n",
              " 'data': array([[5.1, 3.5, 1.4, 0.2],\n",
              "        [4.9, 3. , 1.4, 0.2],\n",
              "        [4.7, 3.2, 1.3, 0.2],\n",
              "        [4.6, 3.1, 1.5, 0.2],\n",
              "        [5. , 3.6, 1.4, 0.2],\n",
              "        [5.4, 3.9, 1.7, 0.4],\n",
              "        [4.6, 3.4, 1.4, 0.3],\n",
              "        [5. , 3.4, 1.5, 0.2],\n",
              "        [4.4, 2.9, 1.4, 0.2],\n",
              "        [4.9, 3.1, 1.5, 0.1],\n",
              "        [5.4, 3.7, 1.5, 0.2],\n",
              "        [4.8, 3.4, 1.6, 0.2],\n",
              "        [4.8, 3. , 1.4, 0.1],\n",
              "        [4.3, 3. , 1.1, 0.1],\n",
              "        [5.8, 4. , 1.2, 0.2],\n",
              "        [5.7, 4.4, 1.5, 0.4],\n",
              "        [5.4, 3.9, 1.3, 0.4],\n",
              "        [5.1, 3.5, 1.4, 0.3],\n",
              "        [5.7, 3.8, 1.7, 0.3],\n",
              "        [5.1, 3.8, 1.5, 0.3],\n",
              "        [5.4, 3.4, 1.7, 0.2],\n",
              "        [5.1, 3.7, 1.5, 0.4],\n",
              "        [4.6, 3.6, 1. , 0.2],\n",
              "        [5.1, 3.3, 1.7, 0.5],\n",
              "        [4.8, 3.4, 1.9, 0.2],\n",
              "        [5. , 3. , 1.6, 0.2],\n",
              "        [5. , 3.4, 1.6, 0.4],\n",
              "        [5.2, 3.5, 1.5, 0.2],\n",
              "        [5.2, 3.4, 1.4, 0.2],\n",
              "        [4.7, 3.2, 1.6, 0.2],\n",
              "        [4.8, 3.1, 1.6, 0.2],\n",
              "        [5.4, 3.4, 1.5, 0.4],\n",
              "        [5.2, 4.1, 1.5, 0.1],\n",
              "        [5.5, 4.2, 1.4, 0.2],\n",
              "        [4.9, 3.1, 1.5, 0.2],\n",
              "        [5. , 3.2, 1.2, 0.2],\n",
              "        [5.5, 3.5, 1.3, 0.2],\n",
              "        [4.9, 3.6, 1.4, 0.1],\n",
              "        [4.4, 3. , 1.3, 0.2],\n",
              "        [5.1, 3.4, 1.5, 0.2],\n",
              "        [5. , 3.5, 1.3, 0.3],\n",
              "        [4.5, 2.3, 1.3, 0.3],\n",
              "        [4.4, 3.2, 1.3, 0.2],\n",
              "        [5. , 3.5, 1.6, 0.6],\n",
              "        [5.1, 3.8, 1.9, 0.4],\n",
              "        [4.8, 3. , 1.4, 0.3],\n",
              "        [5.1, 3.8, 1.6, 0.2],\n",
              "        [4.6, 3.2, 1.4, 0.2],\n",
              "        [5.3, 3.7, 1.5, 0.2],\n",
              "        [5. , 3.3, 1.4, 0.2],\n",
              "        [7. , 3.2, 4.7, 1.4],\n",
              "        [6.4, 3.2, 4.5, 1.5],\n",
              "        [6.9, 3.1, 4.9, 1.5],\n",
              "        [5.5, 2.3, 4. , 1.3],\n",
              "        [6.5, 2.8, 4.6, 1.5],\n",
              "        [5.7, 2.8, 4.5, 1.3],\n",
              "        [6.3, 3.3, 4.7, 1.6],\n",
              "        [4.9, 2.4, 3.3, 1. ],\n",
              "        [6.6, 2.9, 4.6, 1.3],\n",
              "        [5.2, 2.7, 3.9, 1.4],\n",
              "        [5. , 2. , 3.5, 1. ],\n",
              "        [5.9, 3. , 4.2, 1.5],\n",
              "        [6. , 2.2, 4. , 1. ],\n",
              "        [6.1, 2.9, 4.7, 1.4],\n",
              "        [5.6, 2.9, 3.6, 1.3],\n",
              "        [6.7, 3.1, 4.4, 1.4],\n",
              "        [5.6, 3. , 4.5, 1.5],\n",
              "        [5.8, 2.7, 4.1, 1. ],\n",
              "        [6.2, 2.2, 4.5, 1.5],\n",
              "        [5.6, 2.5, 3.9, 1.1],\n",
              "        [5.9, 3.2, 4.8, 1.8],\n",
              "        [6.1, 2.8, 4. , 1.3],\n",
              "        [6.3, 2.5, 4.9, 1.5],\n",
              "        [6.1, 2.8, 4.7, 1.2],\n",
              "        [6.4, 2.9, 4.3, 1.3],\n",
              "        [6.6, 3. , 4.4, 1.4],\n",
              "        [6.8, 2.8, 4.8, 1.4],\n",
              "        [6.7, 3. , 5. , 1.7],\n",
              "        [6. , 2.9, 4.5, 1.5],\n",
              "        [5.7, 2.6, 3.5, 1. ],\n",
              "        [5.5, 2.4, 3.8, 1.1],\n",
              "        [5.5, 2.4, 3.7, 1. ],\n",
              "        [5.8, 2.7, 3.9, 1.2],\n",
              "        [6. , 2.7, 5.1, 1.6],\n",
              "        [5.4, 3. , 4.5, 1.5],\n",
              "        [6. , 3.4, 4.5, 1.6],\n",
              "        [6.7, 3.1, 4.7, 1.5],\n",
              "        [6.3, 2.3, 4.4, 1.3],\n",
              "        [5.6, 3. , 4.1, 1.3],\n",
              "        [5.5, 2.5, 4. , 1.3],\n",
              "        [5.5, 2.6, 4.4, 1.2],\n",
              "        [6.1, 3. , 4.6, 1.4],\n",
              "        [5.8, 2.6, 4. , 1.2],\n",
              "        [5. , 2.3, 3.3, 1. ],\n",
              "        [5.6, 2.7, 4.2, 1.3],\n",
              "        [5.7, 3. , 4.2, 1.2],\n",
              "        [5.7, 2.9, 4.2, 1.3],\n",
              "        [6.2, 2.9, 4.3, 1.3],\n",
              "        [5.1, 2.5, 3. , 1.1],\n",
              "        [5.7, 2.8, 4.1, 1.3],\n",
              "        [6.3, 3.3, 6. , 2.5],\n",
              "        [5.8, 2.7, 5.1, 1.9],\n",
              "        [7.1, 3. , 5.9, 2.1],\n",
              "        [6.3, 2.9, 5.6, 1.8],\n",
              "        [6.5, 3. , 5.8, 2.2],\n",
              "        [7.6, 3. , 6.6, 2.1],\n",
              "        [4.9, 2.5, 4.5, 1.7],\n",
              "        [7.3, 2.9, 6.3, 1.8],\n",
              "        [6.7, 2.5, 5.8, 1.8],\n",
              "        [7.2, 3.6, 6.1, 2.5],\n",
              "        [6.5, 3.2, 5.1, 2. ],\n",
              "        [6.4, 2.7, 5.3, 1.9],\n",
              "        [6.8, 3. , 5.5, 2.1],\n",
              "        [5.7, 2.5, 5. , 2. ],\n",
              "        [5.8, 2.8, 5.1, 2.4],\n",
              "        [6.4, 3.2, 5.3, 2.3],\n",
              "        [6.5, 3. , 5.5, 1.8],\n",
              "        [7.7, 3.8, 6.7, 2.2],\n",
              "        [7.7, 2.6, 6.9, 2.3],\n",
              "        [6. , 2.2, 5. , 1.5],\n",
              "        [6.9, 3.2, 5.7, 2.3],\n",
              "        [5.6, 2.8, 4.9, 2. ],\n",
              "        [7.7, 2.8, 6.7, 2. ],\n",
              "        [6.3, 2.7, 4.9, 1.8],\n",
              "        [6.7, 3.3, 5.7, 2.1],\n",
              "        [7.2, 3.2, 6. , 1.8],\n",
              "        [6.2, 2.8, 4.8, 1.8],\n",
              "        [6.1, 3. , 4.9, 1.8],\n",
              "        [6.4, 2.8, 5.6, 2.1],\n",
              "        [7.2, 3. , 5.8, 1.6],\n",
              "        [7.4, 2.8, 6.1, 1.9],\n",
              "        [7.9, 3.8, 6.4, 2. ],\n",
              "        [6.4, 2.8, 5.6, 2.2],\n",
              "        [6.3, 2.8, 5.1, 1.5],\n",
              "        [6.1, 2.6, 5.6, 1.4],\n",
              "        [7.7, 3. , 6.1, 2.3],\n",
              "        [6.3, 3.4, 5.6, 2.4],\n",
              "        [6.4, 3.1, 5.5, 1.8],\n",
              "        [6. , 3. , 4.8, 1.8],\n",
              "        [6.9, 3.1, 5.4, 2.1],\n",
              "        [6.7, 3.1, 5.6, 2.4],\n",
              "        [6.9, 3.1, 5.1, 2.3],\n",
              "        [5.8, 2.7, 5.1, 1.9],\n",
              "        [6.8, 3.2, 5.9, 2.3],\n",
              "        [6.7, 3.3, 5.7, 2.5],\n",
              "        [6.7, 3. , 5.2, 2.3],\n",
              "        [6.3, 2.5, 5. , 1.9],\n",
              "        [6.5, 3. , 5.2, 2. ],\n",
              "        [6.2, 3.4, 5.4, 2.3],\n",
              "        [5.9, 3. , 5.1, 1.8]]),\n",
              " 'feature_names': ['sepal length (cm)',\n",
              "  'sepal width (cm)',\n",
              "  'petal length (cm)',\n",
              "  'petal width (cm)'],\n",
              " 'filename': '/usr/local/lib/python3.7/dist-packages/sklearn/datasets/data/iris.csv',\n",
              " 'target': array([0, 0, 0, 0, 0, 0, 0, 0, 0, 0, 0, 0, 0, 0, 0, 0, 0, 0, 0, 0, 0, 0,\n",
              "        0, 0, 0, 0, 0, 0, 0, 0, 0, 0, 0, 0, 0, 0, 0, 0, 0, 0, 0, 0, 0, 0,\n",
              "        0, 0, 0, 0, 0, 0, 1, 1, 1, 1, 1, 1, 1, 1, 1, 1, 1, 1, 1, 1, 1, 1,\n",
              "        1, 1, 1, 1, 1, 1, 1, 1, 1, 1, 1, 1, 1, 1, 1, 1, 1, 1, 1, 1, 1, 1,\n",
              "        1, 1, 1, 1, 1, 1, 1, 1, 1, 1, 1, 1, 2, 2, 2, 2, 2, 2, 2, 2, 2, 2,\n",
              "        2, 2, 2, 2, 2, 2, 2, 2, 2, 2, 2, 2, 2, 2, 2, 2, 2, 2, 2, 2, 2, 2,\n",
              "        2, 2, 2, 2, 2, 2, 2, 2, 2, 2, 2, 2, 2, 2, 2, 2, 2, 2]),\n",
              " 'target_names': array(['setosa', 'versicolor', 'virginica'], dtype='<U10')}"
            ]
          },
          "metadata": {
            "tags": []
          },
          "execution_count": 65
        }
      ]
    },
    {
      "cell_type": "code",
      "metadata": {
        "deletable": false,
        "nbgrader": {
          "cell_type": "code",
          "checksum": "f54a03afd97d0d9a682f62d00c5f8dc2",
          "grade": false,
          "grade_id": "cell-5b5863d4b8ed6db7",
          "locked": false,
          "schema_version": 3,
          "solution": true,
          "task": false
        },
        "id": "hVijUhdQoHyx",
        "outputId": "b0ff749e-d319-4985-b7ad-ee92e0a04490",
        "colab": {
          "base_uri": "https://localhost:8080/",
          "height": 355
        }
      },
      "source": [
        "#Create pd DF the same way you did the first day\n",
        "#Create the class and target columns and remove de cm from the columns names\n",
        "\n",
        "def create_df():\n",
        "  df = pd.DataFrame(iris_data.data, columns=iris_data.feature_names)\n",
        "  df['target'] = iris_data.target\n",
        "  df['class'] = iris_data.target_names[iris_data.target]\n",
        "  df.columns = [col.replace(\"(cm)\", \"\").strip() for col in df.columns]\n",
        "  return df\n",
        "\n",
        "    \n",
        "    \n",
        "df_iris = create_df()\n",
        "df_iris\n",
        "df_iris.sample(n=10)"
      ],
      "execution_count": 66,
      "outputs": [
        {
          "output_type": "execute_result",
          "data": {
            "text/html": [
              "<div>\n",
              "<style scoped>\n",
              "    .dataframe tbody tr th:only-of-type {\n",
              "        vertical-align: middle;\n",
              "    }\n",
              "\n",
              "    .dataframe tbody tr th {\n",
              "        vertical-align: top;\n",
              "    }\n",
              "\n",
              "    .dataframe thead th {\n",
              "        text-align: right;\n",
              "    }\n",
              "</style>\n",
              "<table border=\"1\" class=\"dataframe\">\n",
              "  <thead>\n",
              "    <tr style=\"text-align: right;\">\n",
              "      <th></th>\n",
              "      <th>sepal length</th>\n",
              "      <th>sepal width</th>\n",
              "      <th>petal length</th>\n",
              "      <th>petal width</th>\n",
              "      <th>target</th>\n",
              "      <th>class</th>\n",
              "    </tr>\n",
              "  </thead>\n",
              "  <tbody>\n",
              "    <tr>\n",
              "      <th>59</th>\n",
              "      <td>5.2</td>\n",
              "      <td>2.7</td>\n",
              "      <td>3.9</td>\n",
              "      <td>1.4</td>\n",
              "      <td>1</td>\n",
              "      <td>versicolor</td>\n",
              "    </tr>\n",
              "    <tr>\n",
              "      <th>7</th>\n",
              "      <td>5.0</td>\n",
              "      <td>3.4</td>\n",
              "      <td>1.5</td>\n",
              "      <td>0.2</td>\n",
              "      <td>0</td>\n",
              "      <td>setosa</td>\n",
              "    </tr>\n",
              "    <tr>\n",
              "      <th>76</th>\n",
              "      <td>6.8</td>\n",
              "      <td>2.8</td>\n",
              "      <td>4.8</td>\n",
              "      <td>1.4</td>\n",
              "      <td>1</td>\n",
              "      <td>versicolor</td>\n",
              "    </tr>\n",
              "    <tr>\n",
              "      <th>36</th>\n",
              "      <td>5.5</td>\n",
              "      <td>3.5</td>\n",
              "      <td>1.3</td>\n",
              "      <td>0.2</td>\n",
              "      <td>0</td>\n",
              "      <td>setosa</td>\n",
              "    </tr>\n",
              "    <tr>\n",
              "      <th>15</th>\n",
              "      <td>5.7</td>\n",
              "      <td>4.4</td>\n",
              "      <td>1.5</td>\n",
              "      <td>0.4</td>\n",
              "      <td>0</td>\n",
              "      <td>setosa</td>\n",
              "    </tr>\n",
              "    <tr>\n",
              "      <th>54</th>\n",
              "      <td>6.5</td>\n",
              "      <td>2.8</td>\n",
              "      <td>4.6</td>\n",
              "      <td>1.5</td>\n",
              "      <td>1</td>\n",
              "      <td>versicolor</td>\n",
              "    </tr>\n",
              "    <tr>\n",
              "      <th>37</th>\n",
              "      <td>4.9</td>\n",
              "      <td>3.6</td>\n",
              "      <td>1.4</td>\n",
              "      <td>0.1</td>\n",
              "      <td>0</td>\n",
              "      <td>setosa</td>\n",
              "    </tr>\n",
              "    <tr>\n",
              "      <th>95</th>\n",
              "      <td>5.7</td>\n",
              "      <td>3.0</td>\n",
              "      <td>4.2</td>\n",
              "      <td>1.2</td>\n",
              "      <td>1</td>\n",
              "      <td>versicolor</td>\n",
              "    </tr>\n",
              "    <tr>\n",
              "      <th>30</th>\n",
              "      <td>4.8</td>\n",
              "      <td>3.1</td>\n",
              "      <td>1.6</td>\n",
              "      <td>0.2</td>\n",
              "      <td>0</td>\n",
              "      <td>setosa</td>\n",
              "    </tr>\n",
              "    <tr>\n",
              "      <th>28</th>\n",
              "      <td>5.2</td>\n",
              "      <td>3.4</td>\n",
              "      <td>1.4</td>\n",
              "      <td>0.2</td>\n",
              "      <td>0</td>\n",
              "      <td>setosa</td>\n",
              "    </tr>\n",
              "  </tbody>\n",
              "</table>\n",
              "</div>"
            ],
            "text/plain": [
              "    sepal length  sepal width  petal length  petal width  target       class\n",
              "59           5.2          2.7           3.9          1.4       1  versicolor\n",
              "7            5.0          3.4           1.5          0.2       0      setosa\n",
              "76           6.8          2.8           4.8          1.4       1  versicolor\n",
              "36           5.5          3.5           1.3          0.2       0      setosa\n",
              "15           5.7          4.4           1.5          0.4       0      setosa\n",
              "54           6.5          2.8           4.6          1.5       1  versicolor\n",
              "37           4.9          3.6           1.4          0.1       0      setosa\n",
              "95           5.7          3.0           4.2          1.2       1  versicolor\n",
              "30           4.8          3.1           1.6          0.2       0      setosa\n",
              "28           5.2          3.4           1.4          0.2       0      setosa"
            ]
          },
          "metadata": {
            "tags": []
          },
          "execution_count": 66
        }
      ]
    },
    {
      "cell_type": "code",
      "metadata": {
        "deletable": false,
        "editable": false,
        "nbgrader": {
          "cell_type": "code",
          "checksum": "ae98c53b326da8480b8a565c8014a77c",
          "grade": true,
          "grade_id": "cell-632fd0e11b776633",
          "locked": true,
          "points": 2,
          "schema_version": 3,
          "solution": false,
          "task": false
        },
        "id": "gG9F0NaRoHy0"
      },
      "source": [
        "assert df_iris['sepal length'].shape == (150,)\n",
        "assert df_iris['sepal width'].shape == (150,)\n",
        "assert df_iris['petal length'].shape == (150,)\n",
        "assert df_iris['petal width'].shape == (150,)\n",
        "assert df_iris['target'].shape == (150,)\n",
        "assert df_iris['class'].shape == (150,)"
      ],
      "execution_count": 67,
      "outputs": []
    },
    {
      "cell_type": "code",
      "metadata": {
        "deletable": false,
        "nbgrader": {
          "cell_type": "code",
          "checksum": "18ed50b4c210650755fa99122f5721f4",
          "grade": false,
          "grade_id": "cell-1b1da2fc006dd2f6",
          "locked": false,
          "schema_version": 3,
          "solution": true,
          "task": false
        },
        "id": "7x2VPj-aoHy2",
        "outputId": "d46a4ec0-d395-42d1-cc1c-bfe853951204",
        "colab": {
          "base_uri": "https://localhost:8080/"
        }
      },
      "source": [
        "\n",
        "#From our data we will only get variable columns as np.array\n",
        "x = 0\n",
        "type(df_iris[\"sepal length\"])\n",
        "x = np.array(df_iris.iloc[:,:4])\n",
        "x.shape\n",
        "\n",
        "# YOUR CODE HERE"
      ],
      "execution_count": 68,
      "outputs": [
        {
          "output_type": "execute_result",
          "data": {
            "text/plain": [
              "(150, 4)"
            ]
          },
          "metadata": {
            "tags": []
          },
          "execution_count": 68
        }
      ]
    },
    {
      "cell_type": "code",
      "metadata": {
        "deletable": false,
        "editable": false,
        "nbgrader": {
          "cell_type": "code",
          "checksum": "abfb4df775beb206b668987baad09223",
          "grade": true,
          "grade_id": "cell-81d6796d99e92aa3",
          "locked": true,
          "points": 0,
          "schema_version": 3,
          "solution": false,
          "task": false
        },
        "id": "XV-9tMovoHy3"
      },
      "source": [
        "assert x.shape == (150,4)"
      ],
      "execution_count": 69,
      "outputs": []
    },
    {
      "cell_type": "markdown",
      "metadata": {
        "id": "r5g3SYbcoHy5"
      },
      "source": [
        "**Step 3:** Perform hierarchical clustering on `samples` using the `linkage()` function with the `method='complete'` keyword argument. Assign the result to `mergings`."
      ]
    },
    {
      "cell_type": "code",
      "metadata": {
        "id": "t0pzc4a-ls7z"
      },
      "source": [
        "import scipy.cluster.hierarchy as sch"
      ],
      "execution_count": 70,
      "outputs": []
    },
    {
      "cell_type": "code",
      "metadata": {
        "deletable": false,
        "nbgrader": {
          "cell_type": "code",
          "checksum": "a3c72f8ff20d9c274f3c8d0dfd349181",
          "grade": false,
          "grade_id": "cell-2a4681a4e740a6fe",
          "locked": false,
          "schema_version": 3,
          "solution": true,
          "task": false
        },
        "id": "zzn5radLoHy6"
      },
      "source": [
        "mergings = 0 \n",
        "\n",
        "\n",
        "mergins = sch.linkage(x, 'complete')\n",
        "mergins"
      ],
      "execution_count": null,
      "outputs": []
    },
    {
      "cell_type": "code",
      "metadata": {
        "deletable": false,
        "editable": false,
        "nbgrader": {
          "cell_type": "code",
          "checksum": "311d7567084e2d3fbc957d155aac6957",
          "grade": true,
          "grade_id": "cell-bd07f2be641ae1c5",
          "locked": true,
          "points": 3,
          "schema_version": 3,
          "solution": false,
          "task": false
        },
        "id": "hcKirRKDoHy7"
      },
      "source": [
        "assert mergings.shape == (149,4)"
      ],
      "execution_count": null,
      "outputs": []
    },
    {
      "cell_type": "markdown",
      "metadata": {
        "deletable": false,
        "editable": false,
        "nbgrader": {
          "cell_type": "markdown",
          "checksum": "0655649d31c47a33c2de51b7316e64df",
          "grade": false,
          "grade_id": "cell-e0502f3d32a027c4",
          "locked": true,
          "schema_version": 3,
          "solution": false,
          "task": false
        },
        "id": "BdlFsvcfoHy7"
      },
      "source": [
        "**Step 4:** Plot a dendrogram using the `dendrogram()` function on `mergings`, specifying the keyword arguments `labels=varieties`, `leaf_rotation=90`, and `leaf_font_size=6`.  Remember to call `plt.show()` afterwards, to display your plot."
      ]
    },
    {
      "cell_type": "code",
      "metadata": {
        "deletable": false,
        "nbgrader": {
          "cell_type": "code",
          "checksum": "8c1a8101de48297cde138f126c6c2c63",
          "grade": false,
          "grade_id": "cell-8ba6a5e72836aa92",
          "locked": false,
          "schema_version": 3,
          "solution": true,
          "task": false
        },
        "id": "XtejG2CAoHy8",
        "outputId": "2668409b-3501-471a-ac65-22c481c5a398",
        "colab": {
          "base_uri": "https://localhost:8080/",
          "height": 267
        }
      },
      "source": [
        "dn = 0\n",
        "dn = sch.dendrogram(mergins, leaf_rotation = 90, leaf_font_size=6)\n",
        "plt.show()"
      ],
      "execution_count": 82,
      "outputs": [
        {
          "output_type": "display_data",
          "data": {
            "image/png": "[encoded data removed]",
            "text/plain": [
              "<Figure size 432x288 with 1 Axes>"
            ]
          },
          "metadata": {
            "tags": [],
            "needs_background": "light"
          }
        }
      ]
    },
    {
      "cell_type": "code",
      "metadata": {
        "id": "TbcKj1-fmgMX"
      },
      "source": [
        ""
      ],
      "execution_count": null,
      "outputs": []
    },
    {
      "cell_type": "code",
      "metadata": {
        "deletable": false,
        "editable": false,
        "nbgrader": {
          "cell_type": "code",
          "checksum": "c7cafedfeaabce98514c30d6a2d53331",
          "grade": true,
          "grade_id": "cell-bc0248a8151d10ab",
          "locked": true,
          "points": 3,
          "schema_version": 3,
          "solution": false,
          "task": false
        },
        "id": "_dwKsacRoHy9"
      },
      "source": [
        "assert type(dn) == type(dendrogram(np.random.rand(15, 4)))"
      ],
      "execution_count": null,
      "outputs": []
    },
    {
      "cell_type": "markdown",
      "metadata": {
        "deletable": false,
        "editable": false,
        "nbgrader": {
          "cell_type": "markdown",
          "checksum": "0359d6cc58f0adeea5ab36ea1be31ff4",
          "grade": false,
          "grade_id": "cell-6c3fb83905359f79",
          "locked": true,
          "schema_version": 3,
          "solution": false,
          "task": false
        },
        "id": "HLW_FsX-oHy9"
      },
      "source": [
        "## K-MEANS\n",
        "\n",
        "for this next part we will use the K-Means algorithm in order to cluster your data"
      ]
    },
    {
      "cell_type": "markdown",
      "metadata": {
        "deletable": false,
        "editable": false,
        "nbgrader": {
          "cell_type": "markdown",
          "checksum": "64681468d287f185510e010c9c8f62e2",
          "grade": false,
          "grade_id": "cell-e554a1446ad626ec",
          "locked": true,
          "schema_version": 3,
          "solution": false,
          "task": false
        },
        "id": "EEoGkT0zoHy9"
      },
      "source": [
        "**Step 1:** \n",
        "+ import `KMeans` from `sklearn.cluster`\n",
        "+ loading our new datasets"
      ]
    },
    {
      "cell_type": "code",
      "metadata": {
        "id": "EiF-iCj-oHy-"
      },
      "source": [
        "from sklearn.cluster import KMeans\n",
        "\n",
        "df = pd.read_csv('ch1ex1.csv')\n",
        "points = df.values\n",
        "\n",
        "new_df = pd.read_csv('ch1ex2.csv')\n",
        "new_points = new_df.values\n"
      ],
      "execution_count": 83,
      "outputs": []
    },
    {
      "cell_type": "markdown",
      "metadata": {
        "deletable": false,
        "editable": false,
        "nbgrader": {
          "cell_type": "markdown",
          "checksum": "15993ab96197f3ecead1d8ff5a8830de",
          "grade": false,
          "grade_id": "cell-09b5216391582184",
          "locked": true,
          "schema_version": 3,
          "solution": false,
          "task": false
        },
        "id": "VxxcIyn-oHy_"
      },
      "source": [
        "**Step 2:** Using `KMeans()`, create a `KMeans` instance called `model` to find `3` clusters. To specify the number of clusters, use the `n_clusters` keyword argument\n"
      ]
    },
    {
      "cell_type": "code",
      "metadata": {
        "deletable": false,
        "nbgrader": {
          "cell_type": "code",
          "checksum": "788e3cefa230e6aa2df6843ca341a12a",
          "grade": false,
          "grade_id": "cell-d4136dfc2ba753ba",
          "locked": false,
          "schema_version": 3,
          "solution": true,
          "task": false
        },
        "id": "SAy5pBQmoHy_"
      },
      "source": [
        "model = 0\n",
        "# YOUR CODE HERE\n",
        "model = KMeans(n_clusters = 3)"
      ],
      "execution_count": 84,
      "outputs": []
    },
    {
      "cell_type": "code",
      "metadata": {
        "deletable": false,
        "editable": false,
        "nbgrader": {
          "cell_type": "code",
          "checksum": "299853ae31c16eaa5ad10a3f466137bc",
          "grade": true,
          "grade_id": "cell-a6a59ad2afd63249",
          "locked": true,
          "points": 1,
          "schema_version": 3,
          "solution": false,
          "task": false
        },
        "id": "GaT07ir5oHzA"
      },
      "source": [
        "assert type(model)== type(KMeans())"
      ],
      "execution_count": 85,
      "outputs": []
    },
    {
      "cell_type": "markdown",
      "metadata": {
        "deletable": false,
        "editable": false,
        "nbgrader": {
          "cell_type": "markdown",
          "checksum": "8cbab2680ed21b9c6d8e2eb953f283a4",
          "grade": false,
          "grade_id": "cell-3b83408ca14ce116",
          "locked": true,
          "schema_version": 3,
          "solution": false,
          "task": false
        },
        "id": "slww1iTOoHzA"
      },
      "source": [
        "**Step 4:** Use the `.fit()` method of `model` to fit the model to the array of points `points`."
      ]
    },
    {
      "cell_type": "code",
      "metadata": {
        "deletable": false,
        "nbgrader": {
          "cell_type": "code",
          "checksum": "c534d56e7496f8a3b795591aa651b78f",
          "grade": false,
          "grade_id": "cell-9a699df5bd74992a",
          "locked": false,
          "schema_version": 3,
          "solution": true,
          "task": false
        },
        "id": "B5lrqkH2oHzB"
      },
      "source": [
        "# YOUR CODE HERE\n",
        "labels = model.fit_predict(points)"
      ],
      "execution_count": 86,
      "outputs": []
    },
    {
      "cell_type": "markdown",
      "metadata": {
        "deletable": false,
        "editable": false,
        "nbgrader": {
          "cell_type": "markdown",
          "checksum": "30b03b4a58715fbfbcc458ffff4a9452",
          "grade": false,
          "grade_id": "cell-5f7dc6671c80bcf3",
          "locked": true,
          "schema_version": 3,
          "solution": false,
          "task": false
        },
        "id": "f6M-C9N8oHzB"
      },
      "source": [
        "**Step 5:** Use the `.predict()` method of `model` to predict the cluster labels of `points`, assigning the result to `labels`."
      ]
    },
    {
      "cell_type": "code",
      "metadata": {
        "deletable": false,
        "nbgrader": {
          "cell_type": "code",
          "checksum": "a5651a88814e14bcce46dec2a676e9c4",
          "grade": false,
          "grade_id": "cell-fe0636d9d3113913",
          "locked": false,
          "schema_version": 3,
          "solution": true,
          "task": false
        },
        "id": "iVoDjXREoHzC"
      },
      "source": [
        "# YOUR CODE HERE\n",
        "raise NotImplementedError()"
      ],
      "execution_count": null,
      "outputs": []
    },
    {
      "cell_type": "code",
      "metadata": {
        "deletable": false,
        "editable": false,
        "nbgrader": {
          "cell_type": "code",
          "checksum": "893f043c599b2d2589ffaee908b945e2",
          "grade": true,
          "grade_id": "cell-3e790b82f9bf37fc",
          "locked": true,
          "points": 2,
          "schema_version": 3,
          "solution": false,
          "task": false
        },
        "id": "i42sGlNaoHzC"
      },
      "source": [
        "assert labels[labels.argmax()] == 2\n",
        "assert labels.shape == (300,)"
      ],
      "execution_count": 87,
      "outputs": []
    },
    {
      "cell_type": "code",
      "metadata": {
        "deletable": false,
        "nbgrader": {
          "cell_type": "code",
          "checksum": "f52e0cd3e0456fb6e8309a557b0b5e2a",
          "grade": false,
          "grade_id": "cell-917ce87ba793a518",
          "locked": false,
          "schema_version": 3,
          "solution": true,
          "task": false
        },
        "id": "M2qe00r3oHzC",
        "outputId": "c84f7945-cff3-4768-e4ae-250001161569",
        "colab": {
          "base_uri": "https://localhost:8080/"
        }
      },
      "source": [
        "# Make a function that returns 3 numpy arrays each one with the points associated for each class\n",
        "#If the label is 0 they go into data_0\n",
        "#If the label is 1 they go into data_1\n",
        "#If the label is 2 they go into data_2\n",
        "def separate_labels(labels, points):\n",
        "    data_0 = []\n",
        "    data_1 = []\n",
        "    data_2 = []\n",
        "    for i in labels:\n",
        "        if i==0:\n",
        "            data_0.append(0)\n",
        "        elif i==1:\n",
        "            data_1.append(1)\n",
        "        else:\n",
        "            data_2.append(2)\n",
        "    data_0=np.array(data_0)\n",
        "    data_1=np.array(data_1)\n",
        "    data_2=np.array(data_2)\n",
        "\n",
        "    return data_0,data_1,data_2\n",
        "\n",
        "\n",
        "data_0,data_1,data_2 =separate_labels(labels, points)\n",
        "\n",
        "print(data_0.shape)\n",
        "print(data_1.shape)\n",
        "print(data_2.shape)"
      ],
      "execution_count": 91,
      "outputs": [
        {
          "output_type": "stream",
          "text": [
            "(95,)\n",
            "(94,)\n",
            "(111,)\n"
          ],
          "name": "stdout"
        }
      ]
    },
    {
      "cell_type": "code",
      "metadata": {
        "deletable": false,
        "editable": false,
        "nbgrader": {
          "cell_type": "code",
          "checksum": "3066f6d418963a9e453d348f0b2cf930",
          "grade": true,
          "grade_id": "cell-9d19700f8e07d490",
          "locked": true,
          "points": 2,
          "schema_version": 3,
          "solution": false,
          "task": false
        },
        "id": "Y7zDyZDSoHzD"
      },
      "source": [
        "assert abs(data_0.shape[0] - 94) <= 20\n",
        "assert abs(data_1.shape[0] - 95) <= 20\n",
        "assert abs(data_2.shape[0] - 111) <= 20"
      ],
      "execution_count": null,
      "outputs": []
    },
    {
      "cell_type": "code",
      "metadata": {
        "deletable": false,
        "nbgrader": {
          "cell_type": "code",
          "checksum": "c5f4d0de3ac0acc26863e198506fa8b7",
          "grade": false,
          "grade_id": "cell-6ae9d7e6dfb48eda",
          "locked": false,
          "schema_version": 3,
          "solution": true,
          "task": false
        },
        "id": "P09ldoBZoHzD",
        "outputId": "03334c0c-abe6-4d50-9fc8-083a0c8ecbb5",
        "colab": {
          "base_uri": "https://localhost:8080/",
          "height": 499
        }
      },
      "source": [
        "# plotting the data \n",
        "\n",
        "f, (ax1, ax2) = plt.subplots(1, 2,figsize=(15,8))\n",
        "ax1.set_title('K Means')\n",
        "ax1.scatter(points[:,0],points[:,1],c=labels,cmap='autumn')\n",
        "ax2.set_title(\"Original\")\n",
        "ax2.scatter(points[:,0],points[:,1])\n",
        "ax1.grid()\n",
        "ax2.grid()"
      ],
      "execution_count": 92,
      "outputs": [
        {
          "output_type": "display_data",
          "data": {
            "image/png": "[encoded data removed]",
            "text/plain": [
              "<Figure size 1080x576 with 2 Axes>"
            ]
          },
          "metadata": {
            "tags": [],
            "needs_background": "light"
          }
        }
      ]
    },
    {
      "cell_type": "markdown",
      "metadata": {
        "id": "WN3ndd_GoHzD"
      },
      "source": [
        "**Step 7:** Use the `.predict()` method of `model` to predict the cluster labels of `new_points`, assigning the result to `new_labels`.  Notice that KMeans can assign previously unseen points to the clusters it has already found!"
      ]
    },
    {
      "cell_type": "code",
      "metadata": {
        "deletable": false,
        "nbgrader": {
          "cell_type": "code",
          "checksum": "c95b4da428ab89a5469c7573568e23b7",
          "grade": false,
          "grade_id": "cell-e1c6be8c2b6c48ab",
          "locked": false,
          "schema_version": 3,
          "solution": true,
          "task": false
        },
        "id": "td1XuXOqoHzE"
      },
      "source": [
        "\n",
        "new_labels=model.predict(new_points)"
      ],
      "execution_count": 95,
      "outputs": []
    },
    {
      "cell_type": "code",
      "metadata": {
        "deletable": false,
        "editable": false,
        "nbgrader": {
          "cell_type": "code",
          "checksum": "aa10520a3430ab954c74429812f48ee3",
          "grade": true,
          "grade_id": "cell-33a135652cf843e7",
          "locked": true,
          "points": 2,
          "schema_version": 3,
          "solution": false,
          "task": false
        },
        "id": "waE7XrcMoHzE"
      },
      "source": [
        "assert new_labels[new_labels.argmax()] == 2\n",
        "assert new_labels.shape == (100,)"
      ],
      "execution_count": 96,
      "outputs": []
    },
    {
      "cell_type": "code",
      "metadata": {
        "deletable": false,
        "nbgrader": {
          "cell_type": "code",
          "checksum": "1e8f9bc5a331d2950dc2f9af66927ec1",
          "grade": false,
          "grade_id": "cell-91d525783ae0a408",
          "locked": false,
          "schema_version": 3,
          "solution": true,
          "task": false
        },
        "id": "JOEpSXv-oHzE"
      },
      "source": [
        "#separate the data by labels like we did before\n",
        "\n",
        "new_0 = []\n",
        "new_1 = []\n",
        "new_2 = []\n",
        "\n",
        "new_0,new_1,new_2=separate_labels(new_labels, points)\n"
      ],
      "execution_count": 97,
      "outputs": []
    },
    {
      "cell_type": "code",
      "metadata": {
        "deletable": false,
        "editable": false,
        "nbgrader": {
          "cell_type": "code",
          "checksum": "208a9cb902182bc69798e0bd2a69641c",
          "grade": true,
          "grade_id": "cell-bbb9a9b41cb01987",
          "locked": true,
          "points": 2,
          "schema_version": 3,
          "solution": false,
          "task": false
        },
        "id": "dzA_8Pd7oHzF"
      },
      "source": [
        "assert abs(new_0.shape[0] - 34) <= 5\n",
        "assert abs(new_1.shape[0] - 34) <= 5\n",
        "assert abs(new_2.shape[0] - 34) <= 5"
      ],
      "execution_count": 98,
      "outputs": []
    },
    {
      "cell_type": "code",
      "metadata": {
        "deletable": false,
        "nbgrader": {
          "cell_type": "code",
          "checksum": "6a0410e87bf245f30676043a001b9293",
          "grade": false,
          "grade_id": "cell-f0f51c7f91e8b4df",
          "locked": false,
          "schema_version": 3,
          "solution": true,
          "task": false
        },
        "id": "ChALokkioHzG",
        "outputId": "a74290ca-173a-444b-c447-6ee80ce1fb6a",
        "colab": {
          "base_uri": "https://localhost:8080/",
          "height": 499
        }
      },
      "source": [
        "#plot the new labels\n",
        "\n",
        "\n",
        "f, (ax1, ax2) = plt.subplots(1, 2,figsize=(15,8))\n",
        "ax1.set_title('K Means')\n",
        "ax1.scatter(new_points[:,0],new_points[:,1],c=new_labels,cmap=\"autumn\")\n",
        "ax2.set_title(\"Original\")\n",
        "ax2.scatter(new_points[:,0],new_points[:,1])\n",
        "ax1.grid()\n",
        "ax2.grid()"
      ],
      "execution_count": 99,
      "outputs": [
        {
          "output_type": "display_data",
          "data": {
            "image/png": "[encoded data removed]",
            "text/plain": [
              "<Figure size 1080x576 with 2 Axes>"
            ]
          },
          "metadata": {
            "tags": [],
            "needs_background": "light"
          }
        }
      ]
    },
    {
      "cell_type": "code",
      "metadata": {
        "deletable": false,
        "nbgrader": {
          "cell_type": "code",
          "checksum": "30dd9068ed42010daa03e359cef86058",
          "grade": false,
          "grade_id": "cell-fb66bc887cd85537",
          "locked": false,
          "schema_version": 3,
          "solution": true,
          "task": false
        },
        "id": "TirXOKhXoHzG",
        "outputId": "0c129f88-8eb7-419b-8d96-bc1b1a11d1d9",
        "colab": {
          "base_uri": "https://localhost:8080/",
          "height": 499
        }
      },
      "source": [
        "#plot all the points together\n",
        "\n",
        "last_labels=np.append(labels, new_labels, 0)\n",
        "last_points=np.append(points,new_points,0)\n",
        "\n",
        "f, (ax1, ax2) = plt.subplots(1, 2,figsize=(15,8))\n",
        "ax1.set_title('K Means')\n",
        "ax1.scatter(last_points[:,0],last_points[:,1],c=last_labels,cmap='autumn')\n",
        "ax2.set_title(\"Original\")\n",
        "ax2.scatter(last_points[:,0],last_points[:,1])\n",
        "ax1.grid()\n",
        "ax2.grid()"
      ],
      "execution_count": 100,
      "outputs": [
        {
          "output_type": "display_data",
          "data": {
            "image/png": "[encoded data removed]",
            "text/plain": [
              "<Figure size 1080x576 with 2 Axes>"
            ]
          },
          "metadata": {
            "tags": [],
            "needs_background": "light"
          }
        }
      ]
    },
    {
      "cell_type": "code",
      "metadata": {
        "id": "JjwKeE49xKus"
      },
      "source": [
        ""
      ],
      "execution_count": null,
      "outputs": []
    }
  ]
}