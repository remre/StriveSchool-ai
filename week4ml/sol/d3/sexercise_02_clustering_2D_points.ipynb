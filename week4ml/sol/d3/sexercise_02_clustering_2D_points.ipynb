{
  "nbformat": 4,
  "nbformat_minor": 0,
  "metadata": {
    "kernelspec": {
      "display_name": "Python 3",
      "language": "python",
      "name": "python3"
    },
    "language_info": {
      "codemirror_mode": {
        "name": "ipython",
        "version": 3
      },
      "file_extension": ".py",
      "mimetype": "text/x-python",
      "name": "python",
      "nbconvert_exporter": "python",
      "pygments_lexer": "ipython3",
      "version": "3.7.3"
    },
    "colab": {
      "name": "exercise_02_clustering_2D_points.ipynb",
      "provenance": [],
      "include_colab_link": true
    }
  },
  "cells": [
    {
      "cell_type": "markdown",
      "metadata": {
        "id": "view-in-github",
        "colab_type": "text"
      },
      "source": [
        "<a href=\"https://colab.research.google.com/github/remre/StriveSchool-ai/blob/main/week4ml/sol/exercise_02_clustering_2D_points.ipynb\" target=\"_parent\"><img src=\"https://colab.research.google.com/assets/colab-badge.svg\" alt=\"Open In Colab\"/></a>"
      ]
    },
    {
      "cell_type": "markdown",
      "metadata": {
        "id": "qpauG4nD3R8n"
      },
      "source": [
        "# Exercise 2: Clustering 2D points"
      ]
    },
    {
      "cell_type": "markdown",
      "metadata": {
        "id": "KOzYWBvW3R8o"
      },
      "source": [
        "From the scatter plot of the previous exercise, you saw that the points seem to separate into 3 clusters.  Now create a KMeans model to find 3 clusters, and fit it to the data points from the previous exercise.  After the model has been fit, obtain the cluster labels for points, and also for some new points using the `.predict()` method.\n",
        "\n",
        "You are given the array `points` from the previous exercise, and also an array `new_points`."
      ]
    },
    {
      "cell_type": "markdown",
      "metadata": {
        "id": "nh3IJj803R8q"
      },
      "source": [
        "**Step 1:** Load the dataset _(written for you)_."
      ]
    },
    {
      "cell_type": "code",
      "metadata": {
        "collapsed": true,
        "exercise": false,
        "id": "dMJRdzg83R8r"
      },
      "source": [
        "import pandas as pd\n",
        "\n",
        "df = pd.read_csv('ch1ex1.csv')\n",
        "points = df.values\n",
        "\n",
        "new_df = pd.read_csv('ch1ex2.csv')\n",
        "new_points = new_df.values"
      ],
      "execution_count": 2,
      "outputs": []
    },
    {
      "cell_type": "markdown",
      "metadata": {
        "id": "repzgoRH3R8t"
      },
      "source": [
        "**Step 2:** Import `KMeans` from `sklearn.cluster`"
      ]
    },
    {
      "cell_type": "code",
      "metadata": {
        "collapsed": true,
        "id": "gNsX2alj3R8t"
      },
      "source": [
        "from sklearn.cluster import KMeans"
      ],
      "execution_count": 3,
      "outputs": []
    },
    {
      "cell_type": "markdown",
      "metadata": {
        "id": "KYoSs4h53R8u"
      },
      "source": [
        "**Step 3:** Using `KMeans()`, create a `KMeans` instance called `model` to find `3` clusters. To specify the number of clusters, use the `n_clusters` keyword argument"
      ]
    },
    {
      "cell_type": "code",
      "metadata": {
        "collapsed": true,
        "id": "gLxG9MrP3R8w"
      },
      "source": [
        "kmeans = KMeans(n_clusters = 3,)"
      ],
      "execution_count": 7,
      "outputs": []
    },
    {
      "cell_type": "markdown",
      "metadata": {
        "id": "mruL20yX3R8x"
      },
      "source": [
        "**Step 4:** Use the `.fit()` method of `model` to fit the model to the array of points `points`."
      ]
    },
    {
      "cell_type": "code",
      "metadata": {
        "id": "CRDQ4jTB3R8z",
        "outputId": "94589676-1920-45da-f962-1862b269e534",
        "colab": {
          "base_uri": "https://localhost:8080/"
        }
      },
      "source": [
        "kk  = kmeans.fit_points(points)\n",
        "kk"
      ],
      "execution_count": 10,
      "outputs": [
        {
          "output_type": "execute_result",
          "data": {
            "text/plain": [
              "KMeans(algorithm='auto', copy_x=True, init='k-means++', max_iter=300,\n",
              "       n_clusters=3, n_init=10, n_jobs=None, precompute_distances='auto',\n",
              "       random_state=None, tol=0.0001, verbose=0)"
            ]
          },
          "metadata": {
            "tags": []
          },
          "execution_count": 10
        }
      ]
    },
    {
      "cell_type": "code",
      "metadata": {
        "id": "fKMml-HkLSh8",
        "outputId": "d32437c8-f401-4aa2-c1f8-6d6945f47970",
        "colab": {
          "base_uri": "https://localhost:8080/"
        }
      },
      "source": [
        "kkk  = kmeans.fit_predict(points)\n",
        "kkk"
      ],
      "execution_count": 14,
      "outputs": [
        {
          "output_type": "execute_result",
          "data": {
            "text/plain": [
              "array([1, 0, 2, 2, 0, 0, 2, 1, 0, 0, 2, 1, 0, 2, 0, 1, 2, 2, 1, 2, 0, 1,\n",
              "       0, 1, 1, 0, 1, 1, 1, 0, 2, 2, 2, 0, 1, 0, 1, 1, 0, 1, 1, 2, 0, 0,\n",
              "       0, 1, 1, 2, 1, 2, 2, 2, 1, 1, 1, 0, 1, 1, 0, 2, 0, 1, 1, 2, 2, 0,\n",
              "       2, 0, 0, 1, 2, 0, 2, 1, 2, 0, 1, 1, 1, 2, 1, 0, 2, 0, 0, 0, 0, 1,\n",
              "       1, 2, 0, 2, 0, 1, 1, 1, 2, 0, 0, 2, 0, 1, 0, 2, 1, 2, 2, 2, 0, 0,\n",
              "       1, 0, 2, 0, 0, 0, 1, 0, 2, 2, 1, 1, 1, 1, 1, 0, 2, 1, 0, 0, 2, 2,\n",
              "       0, 1, 0, 1, 2, 0, 2, 1, 2, 2, 1, 2, 2, 1, 2, 0, 1, 1, 1, 2, 2, 0,\n",
              "       2, 0, 1, 1, 2, 0, 2, 2, 2, 0, 1, 1, 0, 2, 2, 1, 1, 2, 1, 1, 0, 1,\n",
              "       2, 2, 2, 1, 1, 2, 1, 2, 2, 1, 0, 2, 1, 1, 1, 1, 0, 2, 1, 0, 0, 0,\n",
              "       1, 0, 1, 1, 0, 2, 2, 1, 2, 1, 1, 0, 0, 1, 2, 0, 2, 1, 2, 0, 1, 0,\n",
              "       0, 0, 0, 2, 2, 2, 1, 1, 0, 1, 2, 0, 1, 1, 0, 1, 2, 2, 2, 2, 2, 0,\n",
              "       1, 1, 2, 2, 1, 0, 2, 0, 0, 1, 1, 0, 0, 0, 1, 2, 1, 0, 1, 2, 2, 2,\n",
              "       2, 2, 1, 1, 0, 1, 1, 0, 2, 2, 0, 1, 2, 2, 0, 0, 1, 1, 1, 0, 0, 1,\n",
              "       2, 0, 0, 2, 1, 1, 1, 0, 1, 1, 1, 0, 0, 0], dtype=int32)"
            ]
          },
          "metadata": {
            "tags": []
          },
          "execution_count": 14
        }
      ]
    },
    {
      "cell_type": "markdown",
      "metadata": {
        "id": "hjZ5nmf73R80"
      },
      "source": [
        "**Step 5:** Use the `.predict()` method of `model` to predict the cluster labels of `points`, assigning the result to `labels`."
      ]
    },
    {
      "cell_type": "code",
      "metadata": {
        "collapsed": true,
        "id": "XjFD9KDJ3R81",
        "outputId": "a172f76b-afdd-4557-dcec-f5ffb238bea5",
        "colab": {
          "base_uri": "https://localhost:8080/"
        }
      },
      "source": [
        "labels = kk.predict(points)\n",
        "labels"
      ],
      "execution_count": 13,
      "outputs": [
        {
          "output_type": "execute_result",
          "data": {
            "text/plain": [
              "array([0, 2, 1, 1, 2, 2, 1, 0, 2, 2, 1, 0, 2, 1, 2, 0, 1, 1, 0, 1, 2, 0,\n",
              "       2, 0, 0, 2, 0, 0, 0, 2, 1, 1, 1, 2, 0, 2, 0, 0, 2, 0, 0, 1, 2, 2,\n",
              "       2, 0, 0, 1, 0, 1, 1, 1, 0, 0, 0, 2, 0, 0, 2, 1, 2, 0, 0, 1, 1, 2,\n",
              "       1, 2, 2, 0, 1, 2, 1, 0, 1, 2, 0, 0, 0, 1, 0, 2, 1, 2, 2, 2, 2, 0,\n",
              "       0, 1, 2, 1, 2, 0, 0, 0, 1, 2, 2, 1, 2, 0, 2, 1, 0, 1, 1, 1, 2, 2,\n",
              "       0, 2, 1, 2, 2, 2, 0, 2, 1, 1, 0, 0, 0, 0, 0, 2, 1, 0, 2, 2, 1, 1,\n",
              "       2, 0, 2, 0, 1, 2, 1, 0, 1, 1, 0, 1, 1, 0, 1, 2, 0, 0, 0, 1, 1, 2,\n",
              "       1, 2, 0, 0, 1, 2, 1, 1, 1, 2, 0, 0, 2, 1, 1, 0, 0, 1, 0, 0, 2, 0,\n",
              "       1, 1, 1, 0, 0, 1, 0, 1, 1, 0, 2, 1, 0, 0, 0, 0, 2, 1, 0, 2, 2, 2,\n",
              "       0, 2, 0, 0, 2, 1, 1, 0, 1, 0, 0, 2, 2, 0, 1, 2, 1, 0, 1, 2, 0, 2,\n",
              "       2, 2, 2, 1, 1, 1, 0, 0, 2, 0, 1, 2, 0, 0, 2, 0, 1, 1, 1, 1, 1, 2,\n",
              "       0, 0, 1, 1, 0, 2, 1, 2, 2, 0, 0, 2, 2, 2, 0, 1, 0, 2, 0, 1, 1, 1,\n",
              "       1, 1, 0, 0, 2, 0, 0, 2, 1, 1, 2, 0, 1, 1, 2, 2, 0, 0, 0, 2, 2, 0,\n",
              "       1, 2, 2, 1, 0, 0, 0, 2, 0, 0, 0, 2, 2, 2], dtype=int32)"
            ]
          },
          "metadata": {
            "tags": []
          },
          "execution_count": 13
        }
      ]
    },
    {
      "cell_type": "markdown",
      "metadata": {
        "id": "FZf5YIKf3R82"
      },
      "source": [
        "**Step 6:** Print out the labels, and have a look at them!  _(In the next exercise, I'll show you how to visualise this clustering better.)_"
      ]
    },
    {
      "cell_type": "code",
      "metadata": {
        "id": "9M3qfquH3R83"
      },
      "source": [
        ""
      ],
      "execution_count": null,
      "outputs": []
    },
    {
      "cell_type": "markdown",
      "metadata": {
        "id": "rAKdxTOv3R83"
      },
      "source": [
        "**Step 7:** Use the `.predict()` method of `model` to predict the cluster labels of `new_points`, assigning the result to `new_labels`.  Notice that KMeans can assign previously unseen points to the clusters it has already found!"
      ]
    },
    {
      "cell_type": "code",
      "metadata": {
        "collapsed": true,
        "id": "oZvG8_7T3R84",
        "outputId": "983a42d2-a662-4fd7-949b-7ab70fbc8b55",
        "colab": {
          "base_uri": "https://localhost:8080/"
        }
      },
      "source": [
        "kkk  = kmeans.fit_predict(new_points)\n",
        "kkk "
      ],
      "execution_count": 16,
      "outputs": [
        {
          "output_type": "execute_result",
          "data": {
            "text/plain": [
              "array([0, 0, 2, 2, 1, 1, 0, 1, 1, 2, 1, 1, 2, 1, 0, 0, 1, 0, 0, 1, 0, 0,\n",
              "       2, 0, 2, 1, 2, 0, 0, 0, 2, 1, 1, 2, 2, 0, 2, 2, 2, 2, 0, 1, 2, 1,\n",
              "       2, 2, 1, 0, 2, 2, 0, 0, 1, 0, 1, 0, 2, 0, 2, 2, 2, 1, 1, 1, 2, 2,\n",
              "       1, 2, 1, 2, 0, 0, 0, 1, 2, 1, 1, 1, 0, 1, 0, 1, 0, 1, 0, 2, 0, 1,\n",
              "       2, 1, 0, 0, 2, 2, 0, 0, 0, 2, 1, 2], dtype=int32)"
            ]
          },
          "metadata": {
            "tags": []
          },
          "execution_count": 16
        }
      ]
    },
    {
      "cell_type": "code",
      "metadata": {
        "id": "4QWFhht9Lfqe"
      },
      "source": [
        ""
      ],
      "execution_count": null,
      "outputs": []
    }
  ]
}
