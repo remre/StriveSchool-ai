{
  "nbformat": 4,
  "nbformat_minor": 0,
  "metadata": {
    "kernelspec": {
      "display_name": "Python 3",
      "language": "python",
      "name": "python3"
    },
    "language_info": {
      "codemirror_mode": {
        "name": "ipython",
        "version": 3
      },
      "file_extension": ".py",
      "mimetype": "text/x-python",
      "name": "python",
      "nbconvert_exporter": "python",
      "pygments_lexer": "ipython3",
      "version": "3.7.10"
    },
    "colab": {
      "name": "ml7breast_cancer.ipynb",
      "provenance": [],
      "include_colab_link": true
    }
  },
  "cells": [
    {
      "cell_type": "markdown",
      "metadata": {
        "id": "view-in-github",
        "colab_type": "text"
      },
      "source": [
        "<a href=\"https://colab.research.google.com/github/remre/StriveSchool-ai/blob/main/week4ml/sol/d10SVM%26NB/ml7breast_cancer.ipynb\" target=\"_parent\"><img src=\"https://colab.research.google.com/assets/colab-badge.svg\" alt=\"Open In Colab\"/></a>"
      ]
    },
    {
      "cell_type": "markdown",
      "metadata": {
        "id": "S1LfNF4F0Aj0"
      },
      "source": [
        "***Support Vector Machines***\n",
        "    Using SVM with Python to predict whether a breast cancer tumor is malignant or benign. Exercise uses numpy, pandas, and scikitlearn and utilizes train test split, SVM, SVC,  and GridSearch to identify the best parameters for prediction."
      ]
    },
    {
      "cell_type": "code",
      "metadata": {
        "id": "hTMtu-Lx0Aj6"
      },
      "source": [
        "import pandas as pd\n",
        "import numpy as np\n",
        "import matplotlib.pyplot as plt\n",
        "import seaborn as sns\n",
        "%matplotlib inline"
      ],
      "execution_count": 1,
      "outputs": []
    },
    {
      "cell_type": "code",
      "metadata": {
        "id": "5Zr9gFog0Aj-"
      },
      "source": [
        ""
      ],
      "execution_count": 1,
      "outputs": []
    },
    {
      "cell_type": "code",
      "metadata": {
        "deletable": false,
        "nbgrader": {
          "cell_type": "code",
          "checksum": "43d70b49ce7fd38caf186bed99a35a33",
          "grade": false,
          "grade_id": "cell-bbc3dc112799b91f",
          "locked": false,
          "schema_version": 3,
          "solution": true,
          "task": false
        },
        "id": "M5URskzY0Aj_"
      },
      "source": [
        "# 1 point\n",
        "\n",
        "# import and load the breast cancer dataset \n",
        "\n",
        "# output a variable where the data is loaded straight from sklearn\n",
        "\n",
        "cancer = 0\n",
        "\n",
        "from sklearn.datasets import load_breast_cancer\n",
        "cancer = load_breast_cancer()\n"
      ],
      "execution_count": 2,
      "outputs": []
    },
    {
      "cell_type": "code",
      "metadata": {
        "deletable": false,
        "editable": false,
        "nbgrader": {
          "cell_type": "code",
          "checksum": "74d141316e1b1469995c19d59690e31f",
          "grade": true,
          "grade_id": "cell-89604aed63202fe9",
          "locked": true,
          "points": 1,
          "schema_version": 3,
          "solution": false,
          "task": false
        },
        "id": "C3IQPhF00AkG"
      },
      "source": [
        "assert cancer.data.shape == (569,30)"
      ],
      "execution_count": 3,
      "outputs": []
    },
    {
      "cell_type": "code",
      "metadata": {
        "id": "Zg1cW_pf0AkH",
        "colab": {
          "base_uri": "https://localhost:8080/"
        },
        "outputId": "05609182-7761-4819-b6c0-4f7657920923"
      },
      "source": [
        "print(cancer['DESCR'])"
      ],
      "execution_count": 4,
      "outputs": [
        {
          "output_type": "stream",
          "text": [
            ".. _breast_cancer_dataset:\n",
            "\n",
            "Breast cancer wisconsin (diagnostic) dataset\n",
            "--------------------------------------------\n",
            "\n",
            "**Data Set Characteristics:**\n",
            "\n",
            "    :Number of Instances: 569\n",
            "\n",
            "    :Number of Attributes: 30 numeric, predictive attributes and the class\n",
            "\n",
            "    :Attribute Information:\n",
            "        - radius (mean of distances from center to points on the perimeter)\n",
            "        - texture (standard deviation of gray-scale values)\n",
            "        - perimeter\n",
            "        - area\n",
            "        - smoothness (local variation in radius lengths)\n",
            "        - compactness (perimeter^2 / area - 1.0)\n",
            "        - concavity (severity of concave portions of the contour)\n",
            "        - concave points (number of concave portions of the contour)\n",
            "        - symmetry \n",
            "        - fractal dimension (\"coastline approximation\" - 1)\n",
            "\n",
            "        The mean, standard error, and \"worst\" or largest (mean of the three\n",
            "        largest values) of these features were computed for each image,\n",
            "        resulting in 30 features.  For instance, field 3 is Mean Radius, field\n",
            "        13 is Radius SE, field 23 is Worst Radius.\n",
            "\n",
            "        - class:\n",
            "                - WDBC-Malignant\n",
            "                - WDBC-Benign\n",
            "\n",
            "    :Summary Statistics:\n",
            "\n",
            "    ===================================== ====== ======\n",
            "                                           Min    Max\n",
            "    ===================================== ====== ======\n",
            "    radius (mean):                        6.981  28.11\n",
            "    texture (mean):                       9.71   39.28\n",
            "    perimeter (mean):                     43.79  188.5\n",
            "    area (mean):                          143.5  2501.0\n",
            "    smoothness (mean):                    0.053  0.163\n",
            "    compactness (mean):                   0.019  0.345\n",
            "    concavity (mean):                     0.0    0.427\n",
            "    concave points (mean):                0.0    0.201\n",
            "    symmetry (mean):                      0.106  0.304\n",
            "    fractal dimension (mean):             0.05   0.097\n",
            "    radius (standard error):              0.112  2.873\n",
            "    texture (standard error):             0.36   4.885\n",
            "    perimeter (standard error):           0.757  21.98\n",
            "    area (standard error):                6.802  542.2\n",
            "    smoothness (standard error):          0.002  0.031\n",
            "    compactness (standard error):         0.002  0.135\n",
            "    concavity (standard error):           0.0    0.396\n",
            "    concave points (standard error):      0.0    0.053\n",
            "    symmetry (standard error):            0.008  0.079\n",
            "    fractal dimension (standard error):   0.001  0.03\n",
            "    radius (worst):                       7.93   36.04\n",
            "    texture (worst):                      12.02  49.54\n",
            "    perimeter (worst):                    50.41  251.2\n",
            "    area (worst):                         185.2  4254.0\n",
            "    smoothness (worst):                   0.071  0.223\n",
            "    compactness (worst):                  0.027  1.058\n",
            "    concavity (worst):                    0.0    1.252\n",
            "    concave points (worst):               0.0    0.291\n",
            "    symmetry (worst):                     0.156  0.664\n",
            "    fractal dimension (worst):            0.055  0.208\n",
            "    ===================================== ====== ======\n",
            "\n",
            "    :Missing Attribute Values: None\n",
            "\n",
            "    :Class Distribution: 212 - Malignant, 357 - Benign\n",
            "\n",
            "    :Creator:  Dr. William H. Wolberg, W. Nick Street, Olvi L. Mangasarian\n",
            "\n",
            "    :Donor: Nick Street\n",
            "\n",
            "    :Date: November, 1995\n",
            "\n",
            "This is a copy of UCI ML Breast Cancer Wisconsin (Diagnostic) datasets.\n",
            "https://goo.gl/U2Uwz2\n",
            "\n",
            "Features are computed from a digitized image of a fine needle\n",
            "aspirate (FNA) of a breast mass.  They describe\n",
            "characteristics of the cell nuclei present in the image.\n",
            "\n",
            "Separating plane described above was obtained using\n",
            "Multisurface Method-Tree (MSM-T) [K. P. Bennett, \"Decision Tree\n",
            "Construction Via Linear Programming.\" Proceedings of the 4th\n",
            "Midwest Artificial Intelligence and Cognitive Science Society,\n",
            "pp. 97-101, 1992], a classification method which uses linear\n",
            "programming to construct a decision tree.  Relevant features\n",
            "were selected using an exhaustive search in the space of 1-4\n",
            "features and 1-3 separating planes.\n",
            "\n",
            "The actual linear program used to obtain the separating plane\n",
            "in the 3-dimensional space is that described in:\n",
            "[K. P. Bennett and O. L. Mangasarian: \"Robust Linear\n",
            "Programming Discrimination of Two Linearly Inseparable Sets\",\n",
            "Optimization Methods and Software 1, 1992, 23-34].\n",
            "\n",
            "This database is also available through the UW CS ftp server:\n",
            "\n",
            "ftp ftp.cs.wisc.edu\n",
            "cd math-prog/cpo-dataset/machine-learn/WDBC/\n",
            "\n",
            ".. topic:: References\n",
            "\n",
            "   - W.N. Street, W.H. Wolberg and O.L. Mangasarian. Nuclear feature extraction \n",
            "     for breast tumor diagnosis. IS&T/SPIE 1993 International Symposium on \n",
            "     Electronic Imaging: Science and Technology, volume 1905, pages 861-870,\n",
            "     San Jose, CA, 1993.\n",
            "   - O.L. Mangasarian, W.N. Street and W.H. Wolberg. Breast cancer diagnosis and \n",
            "     prognosis via linear programming. Operations Research, 43(4), pages 570-577, \n",
            "     July-August 1995.\n",
            "   - W.H. Wolberg, W.N. Street, and O.L. Mangasarian. Machine learning techniques\n",
            "     to diagnose breast cancer from fine-needle aspirates. Cancer Letters 77 (1994) \n",
            "     163-171.\n"
          ],
          "name": "stdout"
        }
      ]
    },
    {
      "cell_type": "code",
      "metadata": {
        "id": "vEHvfQ0m0AkJ",
        "colab": {
          "base_uri": "https://localhost:8080/"
        },
        "outputId": "079202c4-8a76-4ab1-9ad2-ed71dec7a835"
      },
      "source": [
        "cancer['feature_names']"
      ],
      "execution_count": 5,
      "outputs": [
        {
          "output_type": "execute_result",
          "data": {
            "text/plain": [
              "array(['mean radius', 'mean texture', 'mean perimeter', 'mean area',\n",
              "       'mean smoothness', 'mean compactness', 'mean concavity',\n",
              "       'mean concave points', 'mean symmetry', 'mean fractal dimension',\n",
              "       'radius error', 'texture error', 'perimeter error', 'area error',\n",
              "       'smoothness error', 'compactness error', 'concavity error',\n",
              "       'concave points error', 'symmetry error',\n",
              "       'fractal dimension error', 'worst radius', 'worst texture',\n",
              "       'worst perimeter', 'worst area', 'worst smoothness',\n",
              "       'worst compactness', 'worst concavity', 'worst concave points',\n",
              "       'worst symmetry', 'worst fractal dimension'], dtype='<U23')"
            ]
          },
          "metadata": {},
          "execution_count": 5
        }
      ]
    },
    {
      "cell_type": "code",
      "metadata": {
        "deletable": false,
        "nbgrader": {
          "cell_type": "code",
          "checksum": "abd0743c6351cd80c18ffb35bc88f1e8",
          "grade": false,
          "grade_id": "cell-13eab9c14ca47094",
          "locked": false,
          "schema_version": 3,
          "solution": true,
          "task": false
        },
        "id": "mH4GdHSb0AkL"
      },
      "source": [
        "# 1 point\n",
        "\n",
        "#load the data from the dataset into a pd df\n",
        "\n",
        "#output a dataframe with the data of the dataset and the column names as feature names\n",
        "#IT SHOULD NOT INCLUDE THE TARGET \n",
        "\n",
        "df_feat = 0\n",
        "df = pd.DataFrame(cancer.data, columns=cancer.feature_names)\n",
        "df_feat = df"
      ],
      "execution_count": 6,
      "outputs": []
    },
    {
      "cell_type": "code",
      "metadata": {
        "deletable": false,
        "editable": false,
        "nbgrader": {
          "cell_type": "code",
          "checksum": "ba8d30c1430fd36e39f8f32fed6e596e",
          "grade": true,
          "grade_id": "cell-1c2998ddc5440385",
          "locked": true,
          "points": 1,
          "schema_version": 3,
          "solution": false,
          "task": false
        },
        "id": "yj_AaeUW0AkN"
      },
      "source": [
        "b = True\n",
        "for i in cancer['feature_names']:\n",
        "    if df_feat[i].shape != (569,):\n",
        "        b = False\n",
        "        break\n",
        "assert b"
      ],
      "execution_count": 7,
      "outputs": []
    },
    {
      "cell_type": "code",
      "metadata": {
        "deletable": false,
        "nbgrader": {
          "cell_type": "code",
          "checksum": "66a83bf219a03e2efad9225cfdb948b4",
          "grade": false,
          "grade_id": "cell-58bf6e127f5d9c62",
          "locked": false,
          "schema_version": 3,
          "solution": true,
          "task": false
        },
        "id": "5vQPkEKd0AkP",
        "colab": {
          "base_uri": "https://localhost:8080/",
          "height": 414
        },
        "outputId": "f46a8d5b-e111-429b-a70d-75b24bf92870"
      },
      "source": [
        "# 1 point\n",
        "\n",
        "# create a dataframe with all the targets and the column name your be 'Cancer'\n",
        "# output a single column dataframe\n",
        "df_target = 0\n",
        "\n",
        "df_target = pd.DataFrame(cancer.target)\n",
        "df_target.rename( columns={ 0:'Cancer'}, inplace=True )\n",
        "df_target"
      ],
      "execution_count": 11,
      "outputs": [
        {
          "output_type": "execute_result",
          "data": {
            "text/html": [
              "<div>\n",
              "<style scoped>\n",
              "    .dataframe tbody tr th:only-of-type {\n",
              "        vertical-align: middle;\n",
              "    }\n",
              "\n",
              "    .dataframe tbody tr th {\n",
              "        vertical-align: top;\n",
              "    }\n",
              "\n",
              "    .dataframe thead th {\n",
              "        text-align: right;\n",
              "    }\n",
              "</style>\n",
              "<table border=\"1\" class=\"dataframe\">\n",
              "  <thead>\n",
              "    <tr style=\"text-align: right;\">\n",
              "      <th></th>\n",
              "      <th>Cancer</th>\n",
              "    </tr>\n",
              "  </thead>\n",
              "  <tbody>\n",
              "    <tr>\n",
              "      <th>0</th>\n",
              "      <td>0</td>\n",
              "    </tr>\n",
              "    <tr>\n",
              "      <th>1</th>\n",
              "      <td>0</td>\n",
              "    </tr>\n",
              "    <tr>\n",
              "      <th>2</th>\n",
              "      <td>0</td>\n",
              "    </tr>\n",
              "    <tr>\n",
              "      <th>3</th>\n",
              "      <td>0</td>\n",
              "    </tr>\n",
              "    <tr>\n",
              "      <th>4</th>\n",
              "      <td>0</td>\n",
              "    </tr>\n",
              "    <tr>\n",
              "      <th>...</th>\n",
              "      <td>...</td>\n",
              "    </tr>\n",
              "    <tr>\n",
              "      <th>564</th>\n",
              "      <td>0</td>\n",
              "    </tr>\n",
              "    <tr>\n",
              "      <th>565</th>\n",
              "      <td>0</td>\n",
              "    </tr>\n",
              "    <tr>\n",
              "      <th>566</th>\n",
              "      <td>0</td>\n",
              "    </tr>\n",
              "    <tr>\n",
              "      <th>567</th>\n",
              "      <td>0</td>\n",
              "    </tr>\n",
              "    <tr>\n",
              "      <th>568</th>\n",
              "      <td>1</td>\n",
              "    </tr>\n",
              "  </tbody>\n",
              "</table>\n",
              "<p>569 rows × 1 columns</p>\n",
              "</div>"
            ],
            "text/plain": [
              "     Cancer\n",
              "0         0\n",
              "1         0\n",
              "2         0\n",
              "3         0\n",
              "4         0\n",
              "..      ...\n",
              "564       0\n",
              "565       0\n",
              "566       0\n",
              "567       0\n",
              "568       1\n",
              "\n",
              "[569 rows x 1 columns]"
            ]
          },
          "metadata": {},
          "execution_count": 11
        }
      ]
    },
    {
      "cell_type": "code",
      "metadata": {
        "deletable": false,
        "editable": false,
        "nbgrader": {
          "cell_type": "code",
          "checksum": "17c24d99af48f8b9682fd5786429d444",
          "grade": true,
          "grade_id": "cell-c504ee25e1401818",
          "locked": true,
          "points": 1,
          "schema_version": 3,
          "solution": false,
          "task": false
        },
        "id": "yrwp1ib00AkQ"
      },
      "source": [
        "assert df_target['Cancer'].shape == (569,)"
      ],
      "execution_count": 12,
      "outputs": []
    },
    {
      "cell_type": "code",
      "metadata": {
        "deletable": false,
        "nbgrader": {
          "cell_type": "code",
          "checksum": "0106e33d2151de4f0a30ea7b4c03d7fb",
          "grade": false,
          "grade_id": "cell-cea569421704556d",
          "locked": false,
          "schema_version": 3,
          "solution": true,
          "task": false
        },
        "id": "0GTFTzSl0AkR"
      },
      "source": [
        "X,y = df.values,df_target.iloc[:,-1].values\n",
        "from sklearn.model_selection import train_test_split\n",
        "x_train, x_test,  y_train, y_test = train_test_split(X,y, test_size = 0.2  ,random_state = 0)\n",
        "# import if needed\n",
        "# all the subsets should be numpy arrays\n",
        "# TIP carefull with the shape of the Y\n",
        "# YOUR CODE HERE"
      ],
      "execution_count": 23,
      "outputs": []
    },
    {
      "cell_type": "code",
      "metadata": {
        "id": "kU_vKrRp5n38"
      },
      "source": [
        "y_train"
      ],
      "execution_count": null,
      "outputs": []
    },
    {
      "cell_type": "code",
      "metadata": {
        "deletable": false,
        "editable": false,
        "nbgrader": {
          "cell_type": "code",
          "checksum": "fdfbff27aa3ebfceec29cf2e21d05199",
          "grade": true,
          "grade_id": "cell-8557f6d20b5ebd4a",
          "locked": true,
          "points": 1,
          "schema_version": 3,
          "solution": false,
          "task": false
        },
        "id": "-UYqnqax0AkS"
      },
      "source": [
        "assert x_train.shape == (455,30)\n",
        "assert x_test.shape == (114,30)\n",
        "assert y_train.shape == (455,)\n",
        "assert y_test.shape == (114,)"
      ],
      "execution_count": 25,
      "outputs": []
    },
    {
      "cell_type": "code",
      "metadata": {
        "deletable": false,
        "nbgrader": {
          "cell_type": "code",
          "checksum": "ea62971bcbfa5fa154963b73c182afd1",
          "grade": false,
          "grade_id": "cell-d569929ec688ee8f",
          "locked": false,
          "schema_version": 3,
          "solution": true,
          "task": false
        },
        "id": "c-q1HKNX0AkS",
        "colab": {
          "base_uri": "https://localhost:8080/"
        },
        "outputId": "7692dd8c-3c96-4e56-96a6-ae994203c124"
      },
      "source": [
        "# 2 points\n",
        "#Train the support vector classifier\n",
        "# import if needed\n",
        "\n",
        "clf = 0\n",
        "clf = SVC()\n",
        "clf.fit(x_train, y_train)\n",
        "clf.support_vectors_.shape"
      ],
      "execution_count": 50,
      "outputs": [
        {
          "output_type": "execute_result",
          "data": {
            "text/plain": [
              "(123, 30)"
            ]
          },
          "metadata": {},
          "execution_count": 50
        }
      ]
    },
    {
      "cell_type": "code",
      "metadata": {
        "deletable": false,
        "editable": false,
        "nbgrader": {
          "cell_type": "code",
          "checksum": "8f5c6be8a8389b4869599beb3e0979fc",
          "grade": true,
          "grade_id": "cell-741670633ab66a5b",
          "locked": true,
          "points": 2,
          "schema_version": 3,
          "solution": false,
          "task": false
        },
        "id": "ohkR7oEo0AkT"
      },
      "source": [
        "assert clf.support_vectors_.shape == (123,30)"
      ],
      "execution_count": 51,
      "outputs": []
    },
    {
      "cell_type": "code",
      "metadata": {
        "deletable": false,
        "nbgrader": {
          "cell_type": "code",
          "checksum": "4c02a56a8941df35ddf6e1b1e4b04cbb",
          "grade": false,
          "grade_id": "cell-ee4e7bf6bb7b13e9",
          "locked": false,
          "schema_version": 3,
          "solution": true,
          "task": false
        },
        "id": "bk2eg4y60AkU",
        "colab": {
          "base_uri": "https://localhost:8080/"
        },
        "outputId": "fd61dd2b-35c9-45d8-f7b0-4c3fd8e106c2"
      },
      "source": [
        "# 3 points\n",
        "# predict the testing data and get the accuracy\n",
        "# import if needed\n",
        "# output preds is the array with the predictions and acc is a float between 0 and 1\n",
        "preds = 0\n",
        "acc = 0\n",
        "from sklearn.metrics import accuracy_score\n",
        "\n",
        "preds = clf.predict(X_test)\n",
        "\n",
        "acc = accuracy_score(y_test, preds)\n",
        "acc "
      ],
      "execution_count": 56,
      "outputs": [
        {
          "output_type": "execute_result",
          "data": {
            "text/plain": [
              "0.9298245614035088"
            ]
          },
          "metadata": {},
          "execution_count": 56
        }
      ]
    },
    {
      "cell_type": "code",
      "metadata": {
        "deletable": false,
        "editable": false,
        "nbgrader": {
          "cell_type": "code",
          "checksum": "0d913ef1f9e2c478a729aec9ec9c99d4",
          "grade": true,
          "grade_id": "cell-a8b6a273210f6822",
          "locked": true,
          "points": 2,
          "schema_version": 3,
          "solution": false,
          "task": false
        },
        "id": "iocdI55k0AkU"
      },
      "source": [
        "assert acc > 0.85\n",
        "assert preds.shape == (114,)"
      ],
      "execution_count": 55,
      "outputs": []
    },
    {
      "cell_type": "markdown",
      "metadata": {
        "id": "l8p_2Lwb0AkV"
      },
      "source": [
        "***Everything is being classified into a single class! Use Grid Search to search for the best parameters! (Scikitlearn GridSearchCV)***\n"
      ]
    },
    {
      "cell_type": "code",
      "metadata": {
        "deletable": false,
        "nbgrader": {
          "cell_type": "code",
          "checksum": "7dd11b913a692b6e6624cec433f96ddd",
          "grade": false,
          "grade_id": "cell-43d48d4bf75c556e",
          "locked": false,
          "schema_version": 3,
          "solution": true,
          "task": false
        },
        "id": "ofEke7BC0AkV"
      },
      "source": [
        "# 2 points\n",
        "#Set parameters\n",
        "# the parameters should be in a dict format\n",
        "params = {}\n",
        "params = {}\n",
        "params = {'kernel':('linear', 'rbf'), 'C':[1,2,3,4,5,7,8,9,10]}"
      ],
      "execution_count": 57,
      "outputs": []
    },
    {
      "cell_type": "code",
      "metadata": {
        "deletable": false,
        "editable": false,
        "nbgrader": {
          "cell_type": "code",
          "checksum": "b48b4a40a1b6ee6a26ddfb8dae8ddbc2",
          "grade": true,
          "grade_id": "cell-28a594d468d2e212",
          "locked": true,
          "points": 2,
          "schema_version": 3,
          "solution": false,
          "task": false
        },
        "id": "5qFo4wbp0AkW"
      },
      "source": [
        "assert len(params) == 2\n",
        "assert len(params['kernel']) == 2"
      ],
      "execution_count": 58,
      "outputs": []
    },
    {
      "cell_type": "code",
      "metadata": {
        "deletable": false,
        "nbgrader": {
          "cell_type": "code",
          "checksum": "b34bcd4223abf7d6e1b5ddf816870fad",
          "grade": false,
          "grade_id": "cell-8ac1a0df91772743",
          "locked": false,
          "schema_version": 3,
          "solution": true,
          "task": false
        },
        "id": "VoEmCQII0AkW"
      },
      "source": [
        "#Fit grid (Note to self: first it runs the same loop with cross-validation to find the best parameter combination. Once it has the best combination, it runs fit again on all data passed to fit (without cross-validation), to built a single new model using the best parameter setting.)\n",
        "# 4 points\n",
        "# add an svm to the grid and train it\n",
        "# the SVM should be an untrained one\n",
        "# import if needed \n",
        "svc = 0\n",
        "grid_clf = 0\n",
        "# YOUR CODE HERE\n",
        "raise NotImplementedError()\n"
      ],
      "execution_count": null,
      "outputs": []
    },
    {
      "cell_type": "code",
      "metadata": {
        "deletable": false,
        "editable": false,
        "nbgrader": {
          "cell_type": "code",
          "checksum": "c355b61da5807573939dde9898177432",
          "grade": true,
          "grade_id": "cell-085b7fafdce47092",
          "locked": true,
          "points": 4,
          "schema_version": 3,
          "solution": false,
          "task": false
        },
        "id": "6P88wZuM0AkX"
      },
      "source": [
        "dic = grid_clf.get_params(deep=False)\n",
        "assert type(dic['estimator']) == type(svm.SVC()) \n",
        "assert dic['pre_dispatch'] == '2*n_jobs'"
      ],
      "execution_count": null,
      "outputs": []
    },
    {
      "cell_type": "code",
      "metadata": {
        "deletable": false,
        "nbgrader": {
          "cell_type": "code",
          "checksum": "6a0e3bb3286e365f506de53466056669",
          "grade": false,
          "grade_id": "cell-7901a09d1a9092ac",
          "locked": false,
          "schema_version": 3,
          "solution": true,
          "task": false
        },
        "id": "NxIjd-i10AkX"
      },
      "source": [
        "# 2 point\n",
        "#Get in a list the best parameters of the grid\n",
        "#output python list with the best parameters sorted\n",
        "best_params = []\n",
        "# YOUR CODE HERE\n",
        "raise NotImplementedError()\n"
      ],
      "execution_count": null,
      "outputs": []
    },
    {
      "cell_type": "code",
      "metadata": {
        "deletable": false,
        "editable": false,
        "nbgrader": {
          "cell_type": "code",
          "checksum": "6b15f373798ee92b146a793df76afc20",
          "grade": true,
          "grade_id": "cell-99bb42084e0ae89b",
          "locked": true,
          "points": 2,
          "schema_version": 3,
          "solution": false,
          "task": false
        },
        "id": "2JhZcXhu0AkY"
      },
      "source": [
        "assert best_params[0] == 'mean_fit_time'\n",
        "assert best_params[1] == 'mean_score_time'\n",
        "assert best_params[2] == 'mean_test_score'\n",
        "assert best_params[3] == 'param_C'"
      ],
      "execution_count": null,
      "outputs": []
    },
    {
      "cell_type": "code",
      "metadata": {
        "deletable": false,
        "nbgrader": {
          "cell_type": "code",
          "checksum": "f5f35e8e0e3b90b78340b70c06f0e22c",
          "grade": false,
          "grade_id": "cell-4eb30db85584892f",
          "locked": false,
          "schema_version": 3,
          "solution": true,
          "task": false
        },
        "id": "VY8QpuzT0AkY"
      },
      "source": [
        "# 5 points\n",
        "# predict the testing set and get the accuracy\n",
        "# accuracy as always will be between 0 and 1\n",
        "preds = 0\n",
        "acc = 0\n",
        "# YOUR CODE HERE\n",
        "raise NotImplementedError()"
      ],
      "execution_count": null,
      "outputs": []
    },
    {
      "cell_type": "code",
      "metadata": {
        "deletable": false,
        "editable": false,
        "nbgrader": {
          "cell_type": "code",
          "checksum": "9870d53db4a71a0a69320553c7214f90",
          "grade": true,
          "grade_id": "cell-67663369ff5f55b0",
          "locked": true,
          "points": 5,
          "schema_version": 3,
          "solution": false,
          "task": false
        },
        "id": "xu5a-ZaN0AkY"
      },
      "source": [
        "\n",
        "assert acc > 0.92\n",
        "assert preds[preds.argmax()] == 1\n",
        "assert preds.shape == (114,)"
      ],
      "execution_count": null,
      "outputs": []
    },
    {
      "cell_type": "code",
      "metadata": {
        "deletable": false,
        "nbgrader": {
          "cell_type": "code",
          "checksum": "cf88a2c6b956eb7d60df33fd6b851528",
          "grade": false,
          "grade_id": "cell-b467b5e84dfff2d3",
          "locked": false,
          "schema_version": 3,
          "solution": true,
          "task": false
        },
        "id": "SD95RhMu0AkZ"
      },
      "source": [
        "# 3 points\n",
        "# get the confusion matrix\n",
        "#import if needed\n",
        "conf_mat = []\n",
        "\n",
        "# YOUR CODE HERE\n",
        "raise NotImplementedError()\n",
        "\n"
      ],
      "execution_count": null,
      "outputs": []
    },
    {
      "cell_type": "code",
      "metadata": {
        "deletable": false,
        "editable": false,
        "nbgrader": {
          "cell_type": "code",
          "checksum": "6d7ae4ae61f3f14f88e216eb4666e4df",
          "grade": true,
          "grade_id": "cell-fd7017a6eb94325a",
          "locked": true,
          "points": 3,
          "schema_version": 3,
          "solution": false,
          "task": false
        },
        "id": "lGHp4BW40AkZ"
      },
      "source": [
        "assert conf_mat.shape == (2,2)\n",
        "assert conf_mat[0][1] < 7\n",
        "assert conf_mat[1][0] < 3\n"
      ],
      "execution_count": null,
      "outputs": []
    },
    {
      "cell_type": "markdown",
      "metadata": {
        "id": "iogV6kBd0Aka"
      },
      "source": [
        "# Discussion of results"
      ]
    },
    {
      "cell_type": "code",
      "metadata": {
        "id": "QOmo1rHK0Aka"
      },
      "source": [
        ""
      ],
      "execution_count": null,
      "outputs": []
    }
  ]
}