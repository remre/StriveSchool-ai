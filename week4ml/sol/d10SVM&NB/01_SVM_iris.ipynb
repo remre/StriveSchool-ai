{
  "nbformat": 4,
  "nbformat_minor": 0,
  "metadata": {
    "kernelspec": {
      "display_name": "Python 3",
      "language": "python",
      "name": "python3"
    },
    "language_info": {
      "codemirror_mode": {
        "name": "ipython",
        "version": 3
      },
      "file_extension": ".py",
      "mimetype": "text/x-python",
      "name": "python",
      "nbconvert_exporter": "python",
      "pygments_lexer": "ipython3",
      "version": "3.8.5"
    },
    "toc": {
      "base_numbering": 1,
      "nav_menu": {},
      "number_sections": true,
      "sideBar": true,
      "skip_h1_title": false,
      "title_cell": "Table of Contents",
      "title_sidebar": "Contents",
      "toc_cell": false,
      "toc_position": {},
      "toc_section_display": true,
      "toc_window_display": false
    },
    "varInspector": {
      "cols": {
        "lenName": 16,
        "lenType": 16,
        "lenVar": 40
      },
      "kernels_config": {
        "python": {
          "delete_cmd_postfix": "",
          "delete_cmd_prefix": "del ",
          "library": "var_list.py",
          "varRefreshCmd": "print(var_dic_list())"
        },
        "r": {
          "delete_cmd_postfix": ") ",
          "delete_cmd_prefix": "rm(",
          "library": "var_list.r",
          "varRefreshCmd": "cat(var_dic_list()) "
        }
      },
      "types_to_exclude": [
        "module",
        "function",
        "builtin_function_or_method",
        "instance",
        "_Feature"
      ],
      "window_display": false
    },
    "colab": {
      "name": "01_SVM_iris.ipynb",
      "provenance": [],
      "include_colab_link": true
    }
  },
  "cells": [
    {
      "cell_type": "markdown",
      "metadata": {
        "id": "view-in-github",
        "colab_type": "text"
      },
      "source": [
        "<a href=\"https://colab.research.google.com/github/remre/StriveSchool-ai/blob/main/week4ml/sol/d10/01_SVM_iris.ipynb\" target=\"_parent\"><img src=\"https://colab.research.google.com/assets/colab-badge.svg\" alt=\"Open In Colab\"/></a>"
      ]
    },
    {
      "cell_type": "markdown",
      "metadata": {
        "id": "9Sevjcbcsb8w"
      },
      "source": [
        "## SVM Exercise"
      ]
    },
    {
      "cell_type": "code",
      "metadata": {
        "ExecuteTime": {
          "end_time": "2020-04-27T09:27:19.691870Z",
          "start_time": "2020-04-27T09:27:19.241518Z"
        },
        "id": "JcZ7ND_Wsb82"
      },
      "source": [
        "# import pandas\n",
        "import pandas as pd"
      ],
      "execution_count": 1,
      "outputs": []
    },
    {
      "cell_type": "code",
      "metadata": {
        "ExecuteTime": {
          "end_time": "2020-04-27T09:27:21.126537Z",
          "start_time": "2020-04-27T09:27:19.714713Z"
        },
        "id": "_elEzt95sb85"
      },
      "source": [
        "url = \"https://archive.ics.uci.edu/ml/machine-learning-databases/iris/iris.data\"\n",
        "\n",
        "# Assign colum names to the dataset\n",
        "colnames = ['sepal-length', 'sepal-width', 'petal-length', 'petal-width', 'Class']\n",
        "\n",
        "# Read dataset to pandas dataframe\n",
        "df = pd.read_csv(url, names=colnames)"
      ],
      "execution_count": 3,
      "outputs": []
    },
    {
      "cell_type": "markdown",
      "metadata": {
        "id": "XdVK-WHrsb86"
      },
      "source": [
        "* create X, y"
      ]
    },
    {
      "cell_type": "code",
      "metadata": {
        "ExecuteTime": {
          "end_time": "2020-04-27T09:28:02.750871Z",
          "start_time": "2020-04-27T09:28:02.745616Z"
        },
        "id": "nzuPuw4Ysb87"
      },
      "source": [
        "X, y = df.iloc[:,:-1].values , df.iloc[:,-1].values"
      ],
      "execution_count": 4,
      "outputs": []
    },
    {
      "cell_type": "markdown",
      "metadata": {
        "id": "awHU4w_Xsb88"
      },
      "source": [
        "* import train_test_split and split data"
      ]
    },
    {
      "cell_type": "code",
      "metadata": {
        "ExecuteTime": {
          "end_time": "2020-04-27T09:28:26.157114Z",
          "start_time": "2020-04-27T09:28:25.427105Z"
        },
        "id": "kU9WZa6Qsb89"
      },
      "source": [
        "from sklearn.model_selection import train_test_split\n",
        "X_train, X_test,  y_train, y_test = train_test_split(X,y,test_size = 0.2, random_state = 0 )"
      ],
      "execution_count": 10,
      "outputs": []
    },
    {
      "cell_type": "markdown",
      "metadata": {
        "id": "MKR6es-fsb8-"
      },
      "source": [
        "* import SVC from sklearn and use Polynomial kernel"
      ]
    },
    {
      "cell_type": "code",
      "metadata": {
        "ExecuteTime": {
          "end_time": "2020-04-27T09:28:58.913444Z",
          "start_time": "2020-04-27T09:28:58.869304Z"
        },
        "id": "bSGKOVTXsb8_"
      },
      "source": [
        "from sklearn.svm import SVC\n",
        "classifier = SVC(kernel = 'poly', random_state = 0)"
      ],
      "execution_count": 14,
      "outputs": []
    },
    {
      "cell_type": "markdown",
      "metadata": {
        "id": "1oqYNjfisb9B"
      },
      "source": [
        "* fit training data"
      ]
    },
    {
      "cell_type": "code",
      "metadata": {
        "ExecuteTime": {
          "end_time": "2020-04-27T09:29:58.750887Z",
          "start_time": "2020-04-27T09:29:58.741017Z"
        },
        "id": "k10XJ-5Osb9C"
      },
      "source": [
        "X_train = fit(X_train)                  "
      ],
      "execution_count": null,
      "outputs": []
    },
    {
      "cell_type": "markdown",
      "metadata": {
        "id": "ILhrm-6isb9D"
      },
      "source": [
        "* predict X_test"
      ]
    },
    {
      "cell_type": "code",
      "metadata": {
        "ExecuteTime": {
          "end_time": "2020-04-27T09:30:33.661258Z",
          "start_time": "2020-04-27T09:30:33.651322Z"
        },
        "id": "7a2kfufjsb9E"
      },
      "source": [
        "s1 = classifier.fit(X_train, y_train).predict(X_test)"
      ],
      "execution_count": 15,
      "outputs": []
    },
    {
      "cell_type": "markdown",
      "metadata": {
        "id": "sQl9cJ7Esb9F"
      },
      "source": [
        "* import confusion matrix from sklearn and print values"
      ]
    },
    {
      "cell_type": "code",
      "metadata": {
        "ExecuteTime": {
          "end_time": "2020-04-27T09:32:07.979859Z",
          "start_time": "2020-04-27T09:32:07.969243Z"
        },
        "id": "chp2iK66sb9G",
        "colab": {
          "base_uri": "https://localhost:8080/"
        },
        "outputId": "26045d1c-208e-499d-cd60-8ac60879d60f"
      },
      "source": [
        "from sklearn.metrics import confusion_matrix\n",
        "from sklearn.metrics import accuracy_score\n",
        "accuracy_score(y_test, s1)\n",
        "confusion_matrix(y_test,s1)"
      ],
      "execution_count": 17,
      "outputs": [
        {
          "output_type": "execute_result",
          "data": {
            "text/plain": [
              "array([[11,  0,  0],\n",
              "       [ 0, 13,  0],\n",
              "       [ 0,  0,  6]])"
            ]
          },
          "metadata": {},
          "execution_count": 17
        }
      ]
    },
    {
      "cell_type": "markdown",
      "metadata": {
        "id": "qCZWrb-Qsb9G"
      },
      "source": [
        "* create SVC with rbf kernel"
      ]
    },
    {
      "cell_type": "code",
      "metadata": {
        "ExecuteTime": {
          "end_time": "2020-04-27T09:32:08.480695Z",
          "start_time": "2020-04-27T09:32:08.474690Z"
        },
        "id": "NHFSWOFUsb9H"
      },
      "source": [
        "classifier1 = SVC()"
      ],
      "execution_count": 19,
      "outputs": []
    },
    {
      "cell_type": "markdown",
      "metadata": {
        "id": "pxJrMUHcsb9H"
      },
      "source": [
        "* fit training data"
      ]
    },
    {
      "cell_type": "code",
      "metadata": {
        "ExecuteTime": {
          "end_time": "2020-04-27T09:32:08.873120Z",
          "start_time": "2020-04-27T09:32:08.857780Z"
        },
        "id": "Jm7Cd4iDsb9H"
      },
      "source": [
        "s2 = classifier1.fit(X_train, y_train).predict(X_test)"
      ],
      "execution_count": 20,
      "outputs": []
    },
    {
      "cell_type": "markdown",
      "metadata": {
        "id": "vD1JMLcPsb9I"
      },
      "source": [
        "* predict X_test"
      ]
    },
    {
      "cell_type": "code",
      "metadata": {
        "ExecuteTime": {
          "end_time": "2020-04-27T09:32:09.574932Z",
          "start_time": "2020-04-27T09:32:09.545521Z"
        },
        "id": "x-rdECQQsb9I",
        "colab": {
          "base_uri": "https://localhost:8080/"
        },
        "outputId": "7f7ff156-a6c7-4d48-be47-cf85ca43f854"
      },
      "source": [
        "confusion_matrix(y_test,s2)"
      ],
      "execution_count": 21,
      "outputs": [
        {
          "output_type": "execute_result",
          "data": {
            "text/plain": [
              "array([[11,  0,  0],\n",
              "       [ 0, 13,  0],\n",
              "       [ 0,  0,  6]])"
            ]
          },
          "metadata": {},
          "execution_count": 21
        }
      ]
    },
    {
      "cell_type": "markdown",
      "metadata": {
        "id": "NA1gyObdsb9J"
      },
      "source": [
        "* print confusion matrix"
      ]
    },
    {
      "cell_type": "code",
      "metadata": {
        "ExecuteTime": {
          "end_time": "2020-04-27T09:32:10.698459Z",
          "start_time": "2020-04-27T09:32:10.689702Z"
        },
        "id": "02UTiDgTsb9J"
      },
      "source": [
        ""
      ],
      "execution_count": null,
      "outputs": []
    },
    {
      "cell_type": "markdown",
      "metadata": {
        "id": "S61DyHpVsb9K"
      },
      "source": [
        "* create SVC with sigmoid kernel"
      ]
    },
    {
      "cell_type": "code",
      "metadata": {
        "ExecuteTime": {
          "end_time": "2020-04-27T09:32:25.827586Z",
          "start_time": "2020-04-27T09:32:25.823745Z"
        },
        "id": "5dl91pVksb9K"
      },
      "source": [
        "classifier2 = SVC(kernel = 'sigmoid')"
      ],
      "execution_count": 22,
      "outputs": []
    },
    {
      "cell_type": "markdown",
      "metadata": {
        "id": "kKMYWmnSsb9K"
      },
      "source": [
        "* fit training data"
      ]
    },
    {
      "cell_type": "code",
      "metadata": {
        "ExecuteTime": {
          "end_time": "2020-04-27T09:32:40.192785Z",
          "start_time": "2020-04-27T09:32:40.181753Z"
        },
        "id": "efF6HGAdsb9L"
      },
      "source": [
        "s3 = classifier2.fit(X_train, y_train).predict(X_test)"
      ],
      "execution_count": 23,
      "outputs": []
    },
    {
      "cell_type": "markdown",
      "metadata": {
        "id": "i-4FsaO-sb9L"
      },
      "source": [
        "* predict X_test"
      ]
    },
    {
      "cell_type": "code",
      "metadata": {
        "ExecuteTime": {
          "end_time": "2020-04-27T09:32:54.838932Z",
          "start_time": "2020-04-27T09:32:54.834142Z"
        },
        "id": "6YR4V4SOsb9L"
      },
      "source": [
        ""
      ],
      "execution_count": null,
      "outputs": []
    },
    {
      "cell_type": "markdown",
      "metadata": {
        "id": "E5V-kN0tsb9M"
      },
      "source": [
        "#### Q: Which kernel was the most accurate on the testing set?"
      ]
    },
    {
      "cell_type": "code",
      "metadata": {
        "ExecuteTime": {
          "end_time": "2020-04-27T09:33:08.961919Z",
          "start_time": "2020-04-27T09:33:08.954758Z"
        },
        "id": "M5sN3D29sb9M",
        "colab": {
          "base_uri": "https://localhost:8080/"
        },
        "outputId": "5562866c-2bc3-4a4a-9a19-83de0fc192eb"
      },
      "source": [
        "confusion_matrix(y_test,s3)"
      ],
      "execution_count": 24,
      "outputs": [
        {
          "output_type": "execute_result",
          "data": {
            "text/plain": [
              "array([[ 0,  0, 11],\n",
              "       [ 0,  0, 13],\n",
              "       [ 0,  0,  6]])"
            ]
          },
          "metadata": {},
          "execution_count": 24
        }
      ]
    },
    {
      "cell_type": "code",
      "metadata": {
        "id": "zrBoGGnAvbFw"
      },
      "source": [
        ""
      ],
      "execution_count": null,
      "outputs": []
    }
  ]
}
