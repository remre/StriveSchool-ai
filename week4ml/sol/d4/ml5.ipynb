{
  "nbformat": 4,
  "nbformat_minor": 0,
  "metadata": {
    "kernelspec": {
      "display_name": "Python 3",
      "language": "python",
      "name": "python3"
    },
    "language_info": {
      "codemirror_mode": {
        "name": "ipython",
        "version": 3
      },
      "file_extension": ".py",
      "mimetype": "text/x-python",
      "name": "python",
      "nbconvert_exporter": "python",
      "pygments_lexer": "ipython3",
      "version": "3.7.10"
    },
    "colab": {
      "name": "ml5.ipynb",
      "provenance": [],
      "collapsed_sections": [],
      "include_colab_link": true
    }
  },
  "cells": [
    {
      "cell_type": "markdown",
      "metadata": {
        "id": "view-in-github",
        "colab_type": "text"
      },
      "source": [
        "<a href=\"https://colab.research.google.com/github/remre/StriveSchool-ai/blob/main/week4ml/sol/d4/ml5.ipynb\" target=\"_parent\"><img src=\"https://colab.research.google.com/assets/colab-badge.svg\" alt=\"Open In Colab\"/></a>"
      ]
    },
    {
      "cell_type": "markdown",
      "metadata": {
        "deletable": false,
        "editable": false,
        "nbgrader": {
          "cell_type": "markdown",
          "checksum": "63d6f1804f81de692ce7ad039671b3ea",
          "grade": false,
          "grade_id": "cell-ac6032ac1aac5b30",
          "locked": true,
          "schema_version": 3,
          "solution": false,
          "task": false
        },
        "id": "tjFCXe3gOFQx"
      },
      "source": [
        "# KNN From Sratch\n",
        "\n",
        "In this workbook we will guide you through the steps to implement KNN from scratch. Once this is done you'll implement you solution in a class that is tested with the knn_class_tester notebook.\n",
        "\n",
        "1. Use the ```make_blobs``` function from SKLearn to make a dataset to test your KNN functions.\n",
        "2. Create helper functions. These will be useful when you go to implement your class.\n",
        "    - Squaring the difference of two vectors.\n",
        "    - Summing the square differences and returning the square root.\n",
        "    - Calculating the euclidian distances\n",
        "    - An evaluation function to evalaute predictions\n",
        "3. Create the KNN predcit function"
      ]
    },
    {
      "cell_type": "code",
      "metadata": {
        "id": "t57guZB5OFQ2"
      },
      "source": [
        "#import libraries\n",
        "import numpy as np\n",
        "import pandas as pd\n",
        "from collections import Counter\n",
        "import matplotlib.pyplot as plt\n",
        "from sklearn.datasets import make_blobs"
      ],
      "execution_count": 62,
      "outputs": []
    },
    {
      "cell_type": "markdown",
      "metadata": {
        "deletable": false,
        "editable": false,
        "nbgrader": {
          "cell_type": "markdown",
          "checksum": "d878eb4763d446c22a765184b5eac96f",
          "grade": false,
          "grade_id": "cell-b45a16c602b95cf4",
          "locked": true,
          "schema_version": 3,
          "solution": false,
          "task": false
        },
        "id": "hCBa6V2fOFQ4"
      },
      "source": [
        "### Step 1: Create a sample dataset\n",
        "1. Use ```make_blobs``` to create a sample set\n",
        "2. Start with 300 samples, 4 centres, 0.6 standard deviation, and random state 0\n",
        "3. Plot the samples"
      ]
    },
    {
      "cell_type": "code",
      "metadata": {
        "deletable": false,
        "nbgrader": {
          "cell_type": "code",
          "checksum": "b02a8eb9d62a2c70cb5d650e31541966",
          "grade": false,
          "grade_id": "cell-ebf1859d2b03e66e",
          "locked": false,
          "schema_version": 3,
          "solution": true,
          "task": false
        },
        "id": "asbMVQVuOFQ5",
        "colab": {
          "base_uri": "https://localhost:8080/",
          "height": 282
        },
        "outputId": "5f007a6c-3927-426e-e345-41018971e2f0"
      },
      "source": [
        "# 3 points\n",
        "\n",
        "#make the dataset with make_blobs use random state 0 use 300 samples\n",
        "#And plot it\n",
        "X = 0\n",
        "Y = 0\n",
        "# YOUR CODE HERE\n",
        "X,y = make_blobs(n_samples=300,centers=4,cluster_std=0.6,random_state=0)\n",
        "X = np.array(X)\n",
        "y = np.array(y)\n",
        "plt.scatter(X[:,0],X[:,1])"
      ],
      "execution_count": 136,
      "outputs": [
        {
          "output_type": "execute_result",
          "data": {
            "text/plain": [
              "<matplotlib.collections.PathCollection at 0x7f49cb398250>"
            ]
          },
          "metadata": {},
          "execution_count": 136
        },
        {
          "output_type": "display_data",
          "data": {
            "image/png": "[encoded data removed]",
            "text/plain": [
              "<Figure size 432x288 with 1 Axes>"
            ]
          },
          "metadata": {
            "needs_background": "light"
          }
        }
      ]
    },
    {
      "cell_type": "code",
      "metadata": {
        "colab": {
          "base_uri": "https://localhost:8080/"
        },
        "id": "dOpUC_RZ4Jl2",
        "outputId": "dc42216a-e707-4c8c-eb8f-d5dbba55a8ab"
      },
      "source": [
        "y"
      ],
      "execution_count": 137,
      "outputs": [
        {
          "output_type": "execute_result",
          "data": {
            "text/plain": [
              "array([1, 3, 0, 3, 1, 1, 2, 0, 3, 3, 2, 3, 0, 3, 1, 0, 0, 1, 2, 2, 1, 1,\n",
              "       0, 2, 2, 0, 1, 0, 2, 0, 3, 3, 0, 3, 3, 3, 3, 3, 2, 1, 0, 2, 0, 0,\n",
              "       2, 2, 3, 2, 3, 1, 2, 1, 3, 1, 1, 2, 3, 2, 3, 1, 3, 0, 3, 2, 2, 2,\n",
              "       3, 1, 3, 2, 0, 2, 3, 2, 2, 3, 2, 0, 1, 3, 1, 0, 1, 1, 3, 0, 1, 0,\n",
              "       3, 3, 0, 1, 3, 2, 2, 0, 1, 1, 0, 2, 3, 1, 3, 1, 0, 1, 1, 0, 3, 0,\n",
              "       2, 2, 1, 3, 1, 0, 3, 1, 1, 0, 2, 1, 2, 1, 1, 1, 1, 2, 1, 2, 3, 2,\n",
              "       2, 1, 3, 2, 2, 3, 0, 3, 3, 2, 0, 2, 0, 2, 3, 0, 3, 3, 3, 0, 3, 0,\n",
              "       1, 2, 3, 2, 1, 0, 3, 0, 0, 1, 0, 2, 2, 0, 1, 0, 0, 3, 1, 0, 2, 3,\n",
              "       1, 1, 0, 2, 1, 0, 2, 2, 0, 0, 0, 0, 1, 3, 0, 2, 0, 0, 2, 2, 2, 0,\n",
              "       2, 3, 0, 2, 1, 2, 0, 3, 2, 3, 0, 3, 0, 2, 0, 0, 3, 2, 2, 1, 1, 0,\n",
              "       3, 1, 1, 2, 1, 2, 0, 3, 3, 0, 0, 3, 0, 1, 2, 0, 1, 2, 3, 2, 1, 0,\n",
              "       1, 3, 3, 3, 3, 2, 2, 3, 0, 2, 1, 0, 2, 2, 2, 1, 1, 3, 0, 0, 2, 1,\n",
              "       3, 2, 0, 3, 0, 1, 1, 2, 2, 0, 1, 1, 1, 0, 3, 3, 1, 1, 0, 1, 1, 1,\n",
              "       3, 2, 3, 0, 1, 1, 3, 3, 3, 1, 1, 0, 3, 2])"
            ]
          },
          "metadata": {},
          "execution_count": 137
        }
      ]
    },
    {
      "cell_type": "code",
      "metadata": {
        "deletable": false,
        "editable": false,
        "nbgrader": {
          "cell_type": "code",
          "checksum": "3865a0d991000b519e3f641de5691091",
          "grade": true,
          "grade_id": "cell-a87f746c4fdd507e",
          "locked": true,
          "points": 3,
          "schema_version": 3,
          "solution": false,
          "task": false
        },
        "id": "CX2O-AB6OFQ7",
        "colab": {
          "base_uri": "https://localhost:8080/",
          "height": 178
        },
        "outputId": "d68a2ec0-72de-4309-d193-118866b08461"
      },
      "source": [
        "assert X.shape== (300,2)\n",
        "assert Y.shape== (300,)"
      ],
      "execution_count": 64,
      "outputs": [
        {
          "output_type": "error",
          "ename": "AttributeError",
          "evalue": "ignored",
          "traceback": [
            "\u001b[0;31m---------------------------------------------------------------------------\u001b[0m",
            "\u001b[0;31mAttributeError\u001b[0m                            Traceback (most recent call last)",
            "\u001b[0;32m<ipython-input-64-4073a629affa>\u001b[0m in \u001b[0;36m<module>\u001b[0;34m()\u001b[0m\n\u001b[1;32m      1\u001b[0m \u001b[0;32massert\u001b[0m \u001b[0mX\u001b[0m\u001b[0;34m.\u001b[0m\u001b[0mshape\u001b[0m\u001b[0;34m==\u001b[0m \u001b[0;34m(\u001b[0m\u001b[0;36m300\u001b[0m\u001b[0;34m,\u001b[0m\u001b[0;36m2\u001b[0m\u001b[0;34m)\u001b[0m\u001b[0;34m\u001b[0m\u001b[0;34m\u001b[0m\u001b[0m\n\u001b[0;32m----> 2\u001b[0;31m \u001b[0;32massert\u001b[0m \u001b[0mY\u001b[0m\u001b[0;34m.\u001b[0m\u001b[0mshape\u001b[0m\u001b[0;34m==\u001b[0m \u001b[0;34m(\u001b[0m\u001b[0;36m300\u001b[0m\u001b[0;34m,\u001b[0m\u001b[0;34m)\u001b[0m\u001b[0;34m\u001b[0m\u001b[0;34m\u001b[0m\u001b[0m\n\u001b[0m",
            "\u001b[0;31mAttributeError\u001b[0m: 'int' object has no attribute 'shape'"
          ]
        }
      ]
    },
    {
      "cell_type": "markdown",
      "metadata": {
        "id": "J4mm3_3dOFQ7"
      },
      "source": [
        "### Step 2: Create the helper functions\n",
        "1. Implement ```square_diff``` that takes in two vectors ```x1``` and ```x2``` and returns their squared difference. Hint: Use ```assert``` to check their lenghts match.\n",
        "2. Implement ```root_sum_squared``` that takes in a vector of squaerd differences and returns the square root of the summed elements.\n",
        "3. Implement ```euclidean_distances``` that takes in feature and prediction vectors and computes the distances. *Hint:* ```np.linalg.norm```, it should give the same result as the previous 2 combined.\n",
        "4. Implement ```evaluate``` that takes in ```y_hat``` and ```y_true``` (classifications of the blobs)and returns the accruacy of the KNN predict function."
      ]
    },
    {
      "cell_type": "code",
      "metadata": {
        "deletable": false,
        "nbgrader": {
          "cell_type": "code",
          "checksum": "e6eba58814ca969acded4c8e864a1a31",
          "grade": false,
          "grade_id": "cell-27e834b5fd98d317",
          "locked": false,
          "schema_version": 3,
          "solution": true,
          "task": false
        },
        "id": "G3cZrX37OFQ8",
        "colab": {
          "base_uri": "https://localhost:8080/"
        },
        "outputId": "94aaf154-4caf-4862-b56e-758cf25e6d8e"
      },
      "source": [
        "# 3 points\n",
        "\n",
        "#implement square diff\n",
        "# your code here\n",
        "\n",
        "def square_diff(v1, v2):\n",
        "    v1 = np.array(v1)\n",
        "    v2 = np.array(v2)\n",
        "\n",
        "    return np.square(v1-v2)\n",
        "\n",
        "square_diff(X[0],X[100])"
      ],
      "execution_count": 96,
      "outputs": [
        {
          "output_type": "execute_result",
          "data": {
            "text/plain": [
              "array([ 2.03045974, 41.96336749])"
            ]
          },
          "metadata": {},
          "execution_count": 96
        }
      ]
    },
    {
      "cell_type": "code",
      "metadata": {
        "deletable": false,
        "editable": false,
        "nbgrader": {
          "cell_type": "code",
          "checksum": "c03c598b4ea1e01a4fcd6f65b64d443b",
          "grade": true,
          "grade_id": "cell-92c19fb2ba085e9b",
          "locked": true,
          "points": 2,
          "schema_version": 3,
          "solution": false,
          "task": false
        },
        "id": "8J79uqOiOFQ-"
      },
      "source": [
        "\n",
        "assert square_diff(X[0],X[1]).shape==(2,) \n",
        "\n",
        "\n",
        "assert square_diff(X[0],X[0])[0]== 0\n",
        "assert square_diff(X[0],X[0])[1]== 0 \n",
        "\n",
        "assert abs(square_diff(X[0],X[1])[0] - 5.06) < 0.05\n",
        "assert abs(square_diff(X[0],X[1])[1]-  27.80) < 0.05\n",
        "\n",
        "\n",
        "assert abs(square_diff(X[0],X[100])[0] - 2.03) < 0.05\n",
        "assert abs(square_diff(X[0],X[100])[1]-  41.96) < 0.05\n",
        "\n",
        "\n",
        "\n",
        "assert abs(square_diff(X[200],X[256])[0]- 3.30 ) < 0.05\n",
        "assert abs(square_diff(X[200],X[256])[1]- 0.09 ) < 0.05"
      ],
      "execution_count": 97,
      "outputs": []
    },
    {
      "cell_type": "code",
      "metadata": {
        "deletable": false,
        "nbgrader": {
          "cell_type": "code",
          "checksum": "1ad69ff850a7e52cc598244c95c8058b",
          "grade": false,
          "grade_id": "cell-cbf4f1427fcd1d26",
          "locked": false,
          "schema_version": 3,
          "solution": true,
          "task": false
        },
        "id": "R4PmOyp8OFQ_",
        "colab": {
          "base_uri": "https://localhost:8080/"
        },
        "outputId": "f6e2471d-ec25-4c5c-b6f8-727de73a0aac"
      },
      "source": [
        "# 2 points\n",
        "#implement root sum squares\n",
        "#your code here\n",
        "def root_sum_squared(v1):\n",
        "    v1 = np.array(v1)\n",
        "    return np.sqrt(sum(v1))\n",
        "root_sum_squared(square_diff(X[0],X[1]))"
      ],
      "execution_count": 120,
      "outputs": [
        {
          "output_type": "execute_result",
          "data": {
            "text/plain": [
              "5.733422120244678"
            ]
          },
          "metadata": {},
          "execution_count": 120
        }
      ]
    },
    {
      "cell_type": "code",
      "metadata": {
        "colab": {
          "base_uri": "https://localhost:8080/"
        },
        "id": "s3iPGeeFxl47",
        "outputId": "c1a148e2-4afb-4f34-fb90-a7809d9002ec"
      },
      "source": [
        "v2.ndim"
      ],
      "execution_count": 123,
      "outputs": [
        {
          "output_type": "execute_result",
          "data": {
            "text/plain": [
              "0"
            ]
          },
          "metadata": {},
          "execution_count": 123
        }
      ]
    },
    {
      "cell_type": "code",
      "metadata": {
        "deletable": false,
        "editable": false,
        "nbgrader": {
          "cell_type": "code",
          "checksum": "c2d640f95ee4aac77d38404414a2d30d",
          "grade": true,
          "grade_id": "cell-01a7f48a8b161c27",
          "locked": true,
          "points": 2,
          "schema_version": 3,
          "solution": false,
          "task": false
        },
        "id": "02vBq6QaOFRB"
      },
      "source": [
        "v1 = root_sum_squared(square_diff(X[0],X[0]))\n",
        "v2 = root_sum_squared(square_diff(X[0],X[1]))\n",
        "v3 = root_sum_squared(square_diff(X[0],X[100]))\n",
        "v4 = root_sum_squared(square_diff(X[200],X[256]))\n",
        "\n",
        "\n",
        "assert v1 == 0\n",
        "assert abs( v2 - 5.73) < 0.05\n",
        "assert abs( v3 - 6.63) < 0.05\n",
        "assert abs( v4 - 1.84) < 0.05"
      ],
      "execution_count": 122,
      "outputs": []
    },
    {
      "cell_type": "code",
      "metadata": {
        "deletable": false,
        "nbgrader": {
          "cell_type": "code",
          "checksum": "6e215912d25af7afeaddb9acc3ba55ff",
          "grade": false,
          "grade_id": "cell-2131fe84f821d418",
          "locked": false,
          "schema_version": 3,
          "solution": true,
          "task": false
        },
        "id": "9SgUi9OOOFRB",
        "colab": {
          "base_uri": "https://localhost:8080/"
        },
        "outputId": "5dc01123-6aaa-4597-c689-74570a65f657"
      },
      "source": [
        "def euclidean_distances(v1,v2):\n",
        "    return np.linalg.norm(v1-v2)\n",
        "euclidean_distances(X[0],X[1])"
      ],
      "execution_count": 131,
      "outputs": [
        {
          "output_type": "execute_result",
          "data": {
            "text/plain": [
              "5.733422120244678"
            ]
          },
          "metadata": {},
          "execution_count": 131
        }
      ]
    },
    {
      "cell_type": "code",
      "metadata": {
        "deletable": false,
        "editable": false,
        "nbgrader": {
          "cell_type": "code",
          "checksum": "ebf63729157400ae7a26c7ded48a3969",
          "grade": true,
          "grade_id": "cell-f7fd592ea2ab1636",
          "locked": true,
          "points": 1,
          "schema_version": 3,
          "solution": false,
          "task": false
        },
        "id": "Bd92e_GDOFRC"
      },
      "source": [
        "v1 = euclidean_distances(X[0],X[0])\n",
        "v2 = euclidean_distances(X[0],X[1])\n",
        "v3 = euclidean_distances(X[0],X[100])\n",
        "v4 = euclidean_distances(X[200],X[256])\n",
        "\n",
        "\n",
        "assert v1 == 0\n",
        "assert abs( v2 - 5.73) < 0.05\n",
        "assert abs( v3 - 6.63) < 0.05\n",
        "assert abs( v4 - 1.84) < 0.05"
      ],
      "execution_count": 125,
      "outputs": []
    },
    {
      "cell_type": "code",
      "metadata": {
        "deletable": false,
        "nbgrader": {
          "cell_type": "code",
          "checksum": "45a9daafc6149b7bbfbee2d14d5197b8",
          "grade": false,
          "grade_id": "cell-bc494e2f78037311",
          "locked": false,
          "schema_version": 3,
          "solution": true,
          "task": false
        },
        "id": "mW6nYmwmOFRD",
        "colab": {
          "base_uri": "https://localhost:8080/"
        },
        "outputId": "4d582ead-212c-49a3-a952-3d5f9b8c094e"
      },
      "source": [
        "# 3 points\n",
        "\n",
        "#implement the evaluate function RETURN THE A VALUE BETWEEN 0 AND 1\n",
        "\n",
        "#This cell will be evaluated later on\n",
        "def evaluate(y, y_p):\n",
        "  res = 0\n",
        "  for i in range(len(y)):\n",
        "    if y[i]==y_p[i]:\n",
        "      res += 1\n",
        "  return (res/len(y))\n",
        "evaluate(a,b)"
      ],
      "execution_count": 164,
      "outputs": [
        {
          "output_type": "execute_result",
          "data": {
            "text/plain": [
              "1.0"
            ]
          },
          "metadata": {},
          "execution_count": 164
        }
      ]
    },
    {
      "cell_type": "code",
      "metadata": {
        "deletable": false,
        "editable": false,
        "nbgrader": {
          "cell_type": "code",
          "checksum": "54139e567c40bfba6f52f91a27f1017e",
          "grade": true,
          "grade_id": "cell-3a26a89ec63b9f03",
          "locked": true,
          "points": 3,
          "schema_version": 3,
          "solution": false,
          "task": false
        },
        "id": "SVkMpWbIOFRD"
      },
      "source": [
        "a = np.array([1,2,3])\n",
        "b = np.array([1,2,3])\n",
        "c = np.array([1,2,2])\n",
        "d = np.array([2,2,2])\n",
        "\n",
        "assert evaluate(a,b) == 1\n",
        "assert 0.66 <= evaluate(a,c) <= 0.667\n",
        "assert 0.33 <= evaluate(a,d) <= 0.34"
      ],
      "execution_count": 165,
      "outputs": []
    },
    {
      "cell_type": "markdown",
      "metadata": {
        "deletable": false,
        "editable": false,
        "nbgrader": {
          "cell_type": "markdown",
          "checksum": "0c7b921f900acb9e13981541b544616f",
          "grade": false,
          "grade_id": "cell-fb8ff2ee616969be",
          "locked": true,
          "schema_version": 3,
          "solution": false,
          "task": false
        },
        "id": "xDNxjAjYOFRE"
      },
      "source": [
        "### Step 3: Create the KNN prediction function\n",
        "The KNN prediction function as the following steps\n",
        "1. For each row in ```X``` calcuate the euclidian distance of each row to the target vector.\n",
        "2. Combine the distances array with the target classifers array y.\n",
        "3. Sort the array and select the k lowest pairs and get the categorical values of the k nearest and put in a list\n",
        "4. Count the highest votes and update the highest voted class to y_hat"
      ]
    },
    {
      "cell_type": "code",
      "metadata": {
        "deletable": false,
        "nbgrader": {
          "cell_type": "code",
          "checksum": "383730d5a3683d9597e56b7502aca3b7",
          "grade": false,
          "grade_id": "cell-7ba0bb14b977e199",
          "locked": false,
          "schema_version": 3,
          "solution": true,
          "task": false
        },
        "id": "paOL7rRKOFRF"
      },
      "source": [
        "# 10 points\n",
        "#Implement the KNN function that predicts the class for the test values using the train values\n",
        "#your code here\n",
        "#OUTPUT MUST BE A NP ARRAY\n",
        "\n",
        "\n",
        "def predict(x_test, x_true, y_true, k= 5):\n",
        "    # YOUR CODE HERE\n",
        "    raise NotImplementedError()\n"
      ],
      "execution_count": null,
      "outputs": []
    },
    {
      "cell_type": "code",
      "metadata": {
        "deletable": false,
        "nbgrader": {
          "cell_type": "code",
          "checksum": "e0bc1e588197bcba74522596620eb3d8",
          "grade": false,
          "grade_id": "cell-a1e79c56a53904bb",
          "locked": false,
          "schema_version": 3,
          "solution": true,
          "task": false
        },
        "id": "llixRnDYOFRF"
      },
      "source": [
        "#1 point\n",
        "from sklearn.model_selection import train_test_split\n",
        "#tested with random state 0\n",
        "#create the train test split test_size 0.2\n",
        "x_train, x_test, y_train, y_test = 0,0,0,0\n",
        "# YOUR CODE HERE\n",
        "x_train, x_test, y_train, y_test = train_test_split(X,y, test_size = 0.2,random_state = 0)"
      ],
      "execution_count": 127,
      "outputs": []
    },
    {
      "cell_type": "code",
      "metadata": {
        "deletable": false,
        "editable": false,
        "nbgrader": {
          "cell_type": "code",
          "checksum": "2366e72e477e0b2192eb055b8d29183c",
          "grade": true,
          "grade_id": "cell-5dfe5f051e3312b3",
          "locked": true,
          "points": 1,
          "schema_version": 3,
          "solution": false,
          "task": false
        },
        "id": "0QuDWZaMOFRG"
      },
      "source": [
        "assert x_train.shape == (240,2)\n",
        "assert x_test.shape == (60,2)\n",
        "assert y_train.shape == (240,)\n",
        "assert y_test.shape == (60,)"
      ],
      "execution_count": null,
      "outputs": []
    },
    {
      "cell_type": "code",
      "metadata": {
        "deletable": false,
        "editable": false,
        "nbgrader": {
          "cell_type": "code",
          "checksum": "d709e28a5459a0a1f24d3772e2b4a44f",
          "grade": true,
          "grade_id": "cell-5b526707d4daab2c",
          "locked": true,
          "points": 10,
          "schema_version": 3,
          "solution": false,
          "task": false
        },
        "tags": [],
        "id": "nvp5ZWb1OFRH"
      },
      "source": [
        "predictions = predict(x_test,x_train, y_train, k=3)\n",
        "assert predictions.shape == (60,)\n",
        "assert evaluate(predictions, y_test) >= 0.95\n"
      ],
      "execution_count": null,
      "outputs": []
    },
    {
      "cell_type": "code",
      "metadata": {
        "deletable": false,
        "editable": false,
        "nbgrader": {
          "cell_type": "code",
          "checksum": "39a7ef4238c63c31b6d185bcc0b678bb",
          "grade": true,
          "grade_id": "cell-3339f6c2bcee7370",
          "locked": true,
          "points": 1,
          "schema_version": 3,
          "solution": false,
          "task": false
        },
        "id": "gQTSSu3kOFRH"
      },
      "source": [
        "# Extra point\n",
        "predictions = predict(x_test,x_train, y_train, k=2)\n",
        "assert predictions.shape == (60,)\n",
        "assert evaluate(predictions, y_test) >= 0.95\n"
      ],
      "execution_count": null,
      "outputs": []
    },
    {
      "cell_type": "code",
      "metadata": {
        "id": "BUsu50ybOFRI"
      },
      "source": [
        "print('Accuracy {:0.2f}%'.format( evaluate(predictions, y_test)*100 ))"
      ],
      "execution_count": null,
      "outputs": []
    },
    {
      "cell_type": "code",
      "metadata": {
        "id": "Dis75iffOFRI"
      },
      "source": [
        ""
      ],
      "execution_count": null,
      "outputs": []
    }
  ]
}