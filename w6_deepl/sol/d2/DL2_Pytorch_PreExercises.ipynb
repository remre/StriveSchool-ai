{
  "nbformat": 4,
  "nbformat_minor": 5,
  "metadata": {
    "kernelspec": {
      "display_name": "Python 3",
      "language": "python",
      "name": "python3"
    },
    "language_info": {
      "codemirror_mode": {
        "name": "ipython",
        "version": 3
      },
      "file_extension": ".py",
      "mimetype": "text/x-python",
      "name": "python",
      "nbconvert_exporter": "python",
      "pygments_lexer": "ipython3",
      "version": "3.9.1"
    },
    "varInspector": {
      "cols": {
        "lenName": 16,
        "lenType": 16,
        "lenVar": 40
      },
      "kernels_config": {
        "python": {
          "delete_cmd_postfix": "",
          "delete_cmd_prefix": "del ",
          "library": "var_list.py",
          "varRefreshCmd": "print(var_dic_list())"
        },
        "r": {
          "delete_cmd_postfix": ") ",
          "delete_cmd_prefix": "rm(",
          "library": "var_list.r",
          "varRefreshCmd": "cat(var_dic_list()) "
        }
      },
      "types_to_exclude": [
        "module",
        "function",
        "builtin_function_or_method",
        "instance",
        "_Feature"
      ],
      "window_display": false
    },
    "colab": {
      "name": "DL2_Pytorch_PreExercises.ipynb",
      "provenance": [],
      "collapsed_sections": [],
      "include_colab_link": true
    }
  },
  "cells": [
    {
      "cell_type": "markdown",
      "metadata": {
        "id": "view-in-github",
        "colab_type": "text"
      },
      "source": [
        "<a href=\"https://colab.research.google.com/github/remre/StriveSchool-ai/blob/main/w6_deepl/sol/d2/DL2_Pytorch_PreExercises.ipynb\" target=\"_parent\"><img src=\"https://colab.research.google.com/assets/colab-badge.svg\" alt=\"Open In Colab\"/></a>"
      ]
    },
    {
      "cell_type": "code",
      "metadata": {
        "id": "common-daisy",
        "colab": {
          "base_uri": "https://localhost:8080/"
        },
        "outputId": "1c38275e-7965-4aed-8636-db0c0276814d"
      },
      "source": [
        "!pip install -q torch==1.9.0 torchvision\n",
        "\n",
        "# Install torch and torchvision on your computer\n",
        "# It's convenient to create a virtual env for that"
      ],
      "id": "common-daisy",
      "execution_count": 3,
      "outputs": [
        {
          "output_type": "stream",
          "name": "stdout",
          "text": [
            "\u001b[K     |████████████████████████████████| 831.4 MB 2.3 kB/s \n",
            "\u001b[?25h"
          ]
        }
      ]
    },
    {
      "cell_type": "code",
      "metadata": {
        "colab": {
          "base_uri": "https://localhost:8080/"
        },
        "id": "O_DxAqcZh6_O",
        "outputId": "1928fed4-4c19-482f-d8ba-30deb2929ecb"
      },
      "source": [
        "!pip install torch"
      ],
      "id": "O_DxAqcZh6_O",
      "execution_count": 4,
      "outputs": [
        {
          "output_type": "stream",
          "name": "stdout",
          "text": [
            "Requirement already satisfied: torch in /usr/local/lib/python3.7/dist-packages (1.9.0)\n",
            "Requirement already satisfied: typing-extensions in /usr/local/lib/python3.7/dist-packages (from torch) (3.7.4.3)\n"
          ]
        }
      ]
    },
    {
      "cell_type": "code",
      "metadata": {
        "ExecuteTime": {
          "end_time": "2021-05-26T05:44:46.718547Z",
          "start_time": "2021-05-26T05:44:44.015035Z"
        },
        "id": "romance-document"
      },
      "source": [
        "import torch\n",
        "import torch.nn as nn\n",
        "import numpy as np"
      ],
      "id": "romance-document",
      "execution_count": 6,
      "outputs": []
    },
    {
      "cell_type": "code",
      "metadata": {
        "ExecuteTime": {
          "end_time": "2021-05-26T05:55:09.345568Z",
          "start_time": "2021-05-26T05:55:09.326608Z"
        },
        "id": "younger-champagne",
        "colab": {
          "base_uri": "https://localhost:8080/"
        },
        "outputId": "72c2ccea-7c0f-4103-f60f-cdc67277730f"
      },
      "source": [
        "# set the torch manual seed to 42\n",
        "torch.manual_seed(42)"
      ],
      "id": "younger-champagne",
      "execution_count": 7,
      "outputs": [
        {
          "output_type": "execute_result",
          "data": {
            "text/plain": [
              "<torch._C.Generator at 0x7fd6c28e3530>"
            ]
          },
          "metadata": {},
          "execution_count": 7
        }
      ]
    },
    {
      "cell_type": "code",
      "metadata": {
        "ExecuteTime": {
          "end_time": "2021-05-26T05:53:21.990528Z",
          "start_time": "2021-05-26T05:53:21.982001Z"
        },
        "id": "informative-hammer"
      },
      "source": [
        "# Create a tensor of shape (5,) and store in the features variable\n",
        "features = torch.tensor(np.random.randn(5,))\n",
        "X = features\n"
      ],
      "id": "informative-hammer",
      "execution_count": 24,
      "outputs": []
    },
    {
      "cell_type": "code",
      "metadata": {
        "ExecuteTime": {
          "end_time": "2021-05-26T05:53:21.843474Z",
          "start_time": "2021-05-26T05:53:21.840266Z"
        },
        "id": "piano-breach"
      },
      "source": [
        "# Generate a tensor called weights with the same shape of features\n",
        "# Hint: search torch.rand_like\n",
        "weights = torch.rand_like(features)"
      ],
      "id": "piano-breach",
      "execution_count": 19,
      "outputs": []
    },
    {
      "cell_type": "code",
      "metadata": {
        "ExecuteTime": {
          "end_time": "2021-05-26T06:03:23.249934Z",
          "start_time": "2021-05-26T06:03:23.232413Z"
        },
        "id": "offensive-interpretation"
      },
      "source": [
        "assert weights.shape == features.shape"
      ],
      "id": "offensive-interpretation",
      "execution_count": 17,
      "outputs": []
    },
    {
      "cell_type": "code",
      "metadata": {
        "ExecuteTime": {
          "end_time": "2021-05-26T05:53:22.262490Z",
          "start_time": "2021-05-26T05:53:22.256392Z"
        },
        "id": "neither-sample"
      },
      "source": [
        "weights\n",
        "W = weights"
      ],
      "id": "neither-sample",
      "execution_count": 22,
      "outputs": []
    },
    {
      "cell_type": "code",
      "metadata": {
        "ExecuteTime": {
          "end_time": "2021-05-26T05:53:22.688098Z",
          "start_time": "2021-05-26T05:53:22.685070Z"
        },
        "id": "collected-measure"
      },
      "source": [
        "bias = torch.randn((1,1))"
      ],
      "id": "collected-measure",
      "execution_count": 20,
      "outputs": []
    },
    {
      "cell_type": "code",
      "metadata": {
        "ExecuteTime": {
          "end_time": "2021-05-26T05:53:22.837840Z",
          "start_time": "2021-05-26T05:53:22.832752Z"
        },
        "id": "informal-enclosure"
      },
      "source": [
        "bias\n",
        "b= bias"
      ],
      "id": "informal-enclosure",
      "execution_count": 23,
      "outputs": []
    },
    {
      "cell_type": "code",
      "metadata": {
        "ExecuteTime": {
          "end_time": "2021-05-26T05:53:22.958309Z",
          "start_time": "2021-05-26T05:53:22.953589Z"
        },
        "id": "cultural-freeze",
        "colab": {
          "base_uri": "https://localhost:8080/"
        },
        "outputId": "d7275ae2-3aeb-4a14-d9fd-f061b7e1d255"
      },
      "source": [
        "# Implement the sigmoid function by using torch\n",
        "v = [1, 2, -1]\n",
        "def sigmoid(x):\n",
        "    return torch.sigmoid(x)\n",
        "sigmoid(X)"
      ],
      "id": "cultural-freeze",
      "execution_count": 35,
      "outputs": [
        {
          "output_type": "execute_result",
          "data": {
            "text/plain": [
              "tensor([0.1451, 0.9190, 0.4817, 0.5795, 0.6907], dtype=torch.float64)"
            ]
          },
          "metadata": {},
          "execution_count": 35
        }
      ]
    },
    {
      "cell_type": "code",
      "metadata": {
        "ExecuteTime": {
          "end_time": "2021-05-26T06:07:15.298988Z",
          "start_time": "2021-05-26T06:07:15.293636Z"
        },
        "id": "caroline-assignment",
        "colab": {
          "base_uri": "https://localhost:8080/"
        },
        "outputId": "6e30b030-63b8-4104-a672-257d5500efc2"
      },
      "source": [
        "# Use torch.dot function for multiplying weights and features and\n",
        "# add the bias to the result. Store the result into the score variable\n",
        "\n",
        "score = 0\n",
        "score = torch.dot(X,W) + b\n",
        "X,W,b,score"
      ],
      "id": "caroline-assignment",
      "execution_count": 28,
      "outputs": [
        {
          "output_type": "execute_result",
          "data": {
            "text/plain": [
              "(tensor([-1.7736,  2.4292, -0.0734,  0.3208,  0.8034], dtype=torch.float64),\n",
              " tensor([0.1571, 0.3754, 0.8425, 0.8705, 0.3775], dtype=torch.float64),\n",
              " tensor([[-0.3267]]),\n",
              " tensor([[0.8274]]))"
            ]
          },
          "metadata": {},
          "execution_count": 28
        }
      ]
    },
    {
      "cell_type": "code",
      "metadata": {
        "ExecuteTime": {
          "end_time": "2021-05-26T06:07:54.742774Z",
          "start_time": "2021-05-26T06:07:54.738740Z"
        },
        "id": "complicated-radar"
      },
      "source": [
        "assert score.shape == (1,1)"
      ],
      "id": "complicated-radar",
      "execution_count": 26,
      "outputs": []
    },
    {
      "cell_type": "code",
      "metadata": {
        "ExecuteTime": {
          "end_time": "2021-05-26T06:09:09.770708Z",
          "start_time": "2021-05-26T06:09:09.764317Z"
        },
        "id": "saved-martin"
      },
      "source": [
        "# Use the defined sigmoid function to activate the score.\n",
        "# Store the result in the prob variable\n",
        "\n",
        "prob = 0\n",
        "prob = sigmoid(score)"
      ],
      "id": "saved-martin",
      "execution_count": 36,
      "outputs": []
    },
    {
      "cell_type": "code",
      "metadata": {
        "ExecuteTime": {
          "end_time": "2021-05-26T06:09:20.343108Z",
          "start_time": "2021-05-26T06:09:20.339958Z"
        },
        "id": "portuguese-nursery"
      },
      "source": [
        "assert prob.shape == (1,1)"
      ],
      "id": "portuguese-nursery",
      "execution_count": 37,
      "outputs": []
    },
    {
      "cell_type": "code",
      "metadata": {
        "ExecuteTime": {
          "end_time": "2021-05-26T06:11:19.575519Z",
          "start_time": "2021-05-26T06:11:19.568376Z"
        },
        "id": "latter-firewall",
        "colab": {
          "base_uri": "https://localhost:8080/"
        },
        "outputId": "adccf638-cefb-4180-b669-64122651d463"
      },
      "source": [
        "# Convert the a numpy array into a torch tensor\n",
        "# Store it in the b variable\n",
        "a = np.random.rand(4, 3)\n",
        "a = torch.from_numpy(a)\n",
        "u = torch.as_tensor(a)\n",
        "b = a\n",
        "u, b"
      ],
      "id": "latter-firewall",
      "execution_count": 42,
      "outputs": [
        {
          "output_type": "execute_result",
          "data": {
            "text/plain": [
              "(tensor([[0.2201, 0.2763, 0.5253],\n",
              "         [0.4818, 0.0607, 0.4481],\n",
              "         [0.7616, 0.9876, 0.1559],\n",
              "         [0.1143, 0.9406, 0.4933]], dtype=torch.float64),\n",
              " tensor([[0.2201, 0.2763, 0.5253],\n",
              "         [0.4818, 0.0607, 0.4481],\n",
              "         [0.7616, 0.9876, 0.1559],\n",
              "         [0.1143, 0.9406, 0.4933]], dtype=torch.float64))"
            ]
          },
          "metadata": {},
          "execution_count": 42
        }
      ]
    },
    {
      "cell_type": "code",
      "metadata": {
        "ExecuteTime": {
          "end_time": "2021-05-26T06:12:33.848173Z",
          "start_time": "2021-05-26T06:12:33.845007Z"
        },
        "id": "historical-passenger"
      },
      "source": [
        "assert b.shape == (4,3) "
      ],
      "id": "historical-passenger",
      "execution_count": 40,
      "outputs": []
    },
    {
      "cell_type": "code",
      "metadata": {
        "ExecuteTime": {
          "end_time": "2021-05-26T06:15:11.278855Z",
          "start_time": "2021-05-26T06:15:11.274384Z"
        },
        "id": "medieval-cabin",
        "colab": {
          "base_uri": "https://localhost:8080/"
        },
        "outputId": "6b11e0d6-13bb-43f6-edaf-c2bd1216a9b3"
      },
      "source": [
        "# Do the opposite now. From the given tensor a convert it a numpy array\n",
        "# Store the result in b\n",
        "a = torch.tensor([1,2])\n",
        "b = a.numpy()\n",
        "b"
      ],
      "id": "medieval-cabin",
      "execution_count": 43,
      "outputs": [
        {
          "output_type": "execute_result",
          "data": {
            "text/plain": [
              "array([1, 2])"
            ]
          },
          "metadata": {},
          "execution_count": 43
        }
      ]
    },
    {
      "cell_type": "code",
      "metadata": {
        "ExecuteTime": {
          "end_time": "2021-05-26T06:15:23.003363Z",
          "start_time": "2021-05-26T06:15:22.999824Z"
        },
        "id": "solar-conspiracy"
      },
      "source": [
        "assert type(b) == np.ndarray"
      ],
      "id": "solar-conspiracy",
      "execution_count": 44,
      "outputs": []
    },
    {
      "cell_type": "code",
      "metadata": {
        "ExecuteTime": {
          "end_time": "2021-05-26T06:38:16.934705Z",
          "start_time": "2021-05-26T06:38:16.929106Z"
        },
        "id": "unsigned-defeat",
        "colab": {
          "base_uri": "https://localhost:8080/"
        },
        "outputId": "1d1a9357-5939-4be1-d949-f1089b5204d5"
      },
      "source": [
        "# Reshape the given v tensor in a 10x10 tensor.\n",
        "# Store the result in v_reshaped\n",
        "# You can use various methods: reshape, view, resize... Check all of them\n",
        "\n",
        "v = torch.randn((100,1))\n",
        "v_reshaped = v.reshape(10,10)\n",
        "v_shaped = v.resize(10,10)\n",
        "v_reshaped,v_shaped\n"
      ],
      "id": "unsigned-defeat",
      "execution_count": 49,
      "outputs": [
        {
          "output_type": "stream",
          "name": "stderr",
          "text": [
            "/usr/local/lib/python3.7/dist-packages/torch/_tensor.py:490: UserWarning: non-inplace resize is deprecated\n",
            "  warnings.warn(\"non-inplace resize is deprecated\")\n"
          ]
        },
        {
          "output_type": "execute_result",
          "data": {
            "text/plain": [
              "(tensor([[ 0.6495,  0.0950, -0.7526, -0.6472, -1.2823,  1.9653, -1.1766,  1.1889,\n",
              "           0.7096,  0.8198],\n",
              "         [ 0.6214,  0.4232, -0.3389,  0.5180, -1.7459,  1.0964, -0.6103,  0.1632,\n",
              "           1.5102,  0.2123],\n",
              "         [-0.7252, -0.9528, -0.8428, -1.6413,  0.1824, -0.3867, -1.7907,  0.0933,\n",
              "          -1.9153, -0.6422],\n",
              "         [-0.6753, -0.8104,  0.7662,  0.6454,  0.3533, -2.6475, -1.4575, -0.9712,\n",
              "           0.2415, -1.1612],\n",
              "         [ 1.1993, -0.4292,  1.0103,  0.6110,  1.2208, -0.6076, -0.0453, -0.3573,\n",
              "          -1.3658,  1.1117],\n",
              "         [-0.6228, -0.7892, -0.1678,  1.6433,  0.5163,  1.6060,  1.1189,  1.7733,\n",
              "          -2.0717, -0.4125],\n",
              "         [-0.9770, -0.0336, -0.7983, -0.2648,  0.3691,  0.3803,  0.1990, -0.2361,\n",
              "           0.3034, -0.4501],\n",
              "         [-0.1739,  0.0299,  1.1662,  0.0169,  0.5326, -0.6035, -0.1743,  0.6092,\n",
              "           0.2254, -0.2793],\n",
              "         [ 0.1956, -0.7815, -1.7899, -0.2616,  0.8050, -1.1134,  0.5258,  1.6828,\n",
              "           0.0967,  0.2571],\n",
              "         [ 0.4728,  0.3640,  1.7698,  0.6268, -0.4976, -0.1823, -0.2120,  0.8162,\n",
              "           0.8982, -0.1539]]),\n",
              " tensor([[ 0.6495,  0.0950, -0.7526, -0.6472, -1.2823,  1.9653, -1.1766,  1.1889,\n",
              "           0.7096,  0.8198],\n",
              "         [ 0.6214,  0.4232, -0.3389,  0.5180, -1.7459,  1.0964, -0.6103,  0.1632,\n",
              "           1.5102,  0.2123],\n",
              "         [-0.7252, -0.9528, -0.8428, -1.6413,  0.1824, -0.3867, -1.7907,  0.0933,\n",
              "          -1.9153, -0.6422],\n",
              "         [-0.6753, -0.8104,  0.7662,  0.6454,  0.3533, -2.6475, -1.4575, -0.9712,\n",
              "           0.2415, -1.1612],\n",
              "         [ 1.1993, -0.4292,  1.0103,  0.6110,  1.2208, -0.6076, -0.0453, -0.3573,\n",
              "          -1.3658,  1.1117],\n",
              "         [-0.6228, -0.7892, -0.1678,  1.6433,  0.5163,  1.6060,  1.1189,  1.7733,\n",
              "          -2.0717, -0.4125],\n",
              "         [-0.9770, -0.0336, -0.7983, -0.2648,  0.3691,  0.3803,  0.1990, -0.2361,\n",
              "           0.3034, -0.4501],\n",
              "         [-0.1739,  0.0299,  1.1662,  0.0169,  0.5326, -0.6035, -0.1743,  0.6092,\n",
              "           0.2254, -0.2793],\n",
              "         [ 0.1956, -0.7815, -1.7899, -0.2616,  0.8050, -1.1134,  0.5258,  1.6828,\n",
              "           0.0967,  0.2571],\n",
              "         [ 0.4728,  0.3640,  1.7698,  0.6268, -0.4976, -0.1823, -0.2120,  0.8162,\n",
              "           0.8982, -0.1539]]))"
            ]
          },
          "metadata": {},
          "execution_count": 49
        }
      ]
    },
    {
      "cell_type": "code",
      "metadata": {
        "id": "violent-kuwait"
      },
      "source": [
        "# create a tensor with shape (16, 32, 32, 3) containing only ones\n",
        "# Store it in the ones variable\n",
        "ones = torch.ones(16,32,32,3)\n",
        "ones"
      ],
      "id": "violent-kuwait",
      "execution_count": null,
      "outputs": []
    },
    {
      "cell_type": "code",
      "metadata": {
        "id": "otherwise-tourism"
      },
      "source": [
        "assert ones.shape == (16, 32, 32, 3)"
      ],
      "id": "otherwise-tourism",
      "execution_count": 52,
      "outputs": []
    },
    {
      "cell_type": "code",
      "metadata": {
        "ExecuteTime": {
          "end_time": "2021-05-26T06:50:29.092598Z",
          "start_time": "2021-05-26T06:50:29.067520Z"
        },
        "id": "united-nebraska",
        "colab": {
          "base_uri": "https://localhost:8080/",
          "height": 283
        },
        "outputId": "9c41964b-44cd-4a13-e4d9-369761d7b4a5"
      },
      "source": [
        "import pandas as pd\n",
        "import matplotlib.pyplot as plt\n",
        "# load and plot the data using scatterplot with different colors for labels\n",
        "data = pd.read_csv('data.csv', header=None)\n",
        "data\n",
        "plt.scatter(x=data[:][0], y=data[:][1], c=data[:][2])"
      ],
      "id": "united-nebraska",
      "execution_count": 60,
      "outputs": [
        {
          "output_type": "execute_result",
          "data": {
            "text/plain": [
              "<matplotlib.collections.PathCollection at 0x7fd6bcbdf690>"
            ]
          },
          "metadata": {},
          "execution_count": 60
        },
        {
          "output_type": "display_data",
          "data": {
            "image/png": "[encoded data removed]",
            "text/plain": [
              "<Figure size 432x288 with 1 Axes>"
            ]
          },
          "metadata": {
            "needs_background": "light"
          }
        }
      ]
    },
    {
      "cell_type": "code",
      "metadata": {
        "ExecuteTime": {
          "end_time": "2021-05-26T06:52:46.863528Z",
          "start_time": "2021-05-26T06:52:46.755851Z"
        },
        "id": "increased-schedule",
        "outputId": "56d510f8-d2f8-49a3-81b5-14b561717dca"
      },
      "source": [
        ""
      ],
      "id": "increased-schedule",
      "execution_count": null,
      "outputs": [
        {
          "data": {
            "image/png": "[encoded data removed]",
            "text/plain": [
              "<Figure size 432x288 with 1 Axes>"
            ]
          },
          "metadata": {
            "needs_background": "light"
          },
          "output_type": "display_data"
        }
      ]
    },
    {
      "cell_type": "code",
      "metadata": {
        "id": "circular-surgery"
      },
      "source": [
        ""
      ],
      "id": "circular-surgery",
      "execution_count": null,
      "outputs": []
    }
  ]
}