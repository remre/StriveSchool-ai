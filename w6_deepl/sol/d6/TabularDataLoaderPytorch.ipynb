{
  "nbformat": 4,
  "nbformat_minor": 0,
  "metadata": {
    "colab": {
      "name": "TabularDataLoaderPytorch.ipynb",
      "provenance": [],
      "authorship_tag": "ABX9TyNcO9WR070G3H3/zA/upVi3",
      "include_colab_link": true
    },
    "kernelspec": {
      "name": "python3",
      "display_name": "Python 3"
    },
    "language_info": {
      "name": "python"
    }
  },
  "cells": [
    {
      "cell_type": "markdown",
      "metadata": {
        "id": "view-in-github",
        "colab_type": "text"
      },
      "source": [
        "<a href=\"https://colab.research.google.com/github/remre/StriveSchool-ai/blob/main/w6_deepl/sol/d6/TabularDataLoaderPytorch.ipynb\" target=\"_parent\"><img src=\"https://colab.research.google.com/assets/colab-badge.svg\" alt=\"Open In Colab\"/></a>"
      ]
    },
    {
      "cell_type": "markdown",
      "metadata": {
        "id": "9fFcInTVfuHK"
      },
      "source": [
        "This notebook created for load data compatible with Neural Network class by dataloader"
      ]
    },
    {
      "cell_type": "code",
      "metadata": {
        "id": "BOLR4puhcMSO"
      },
      "source": [
        "\n",
        "#first starts with importing libraries\n",
        "import torch # IN somehow kind of a numpy \n",
        "from torch import nn\n",
        "from torch import optim\n",
        "\n",
        "import torchvision # package consists of popular datasets, model architectures, and common image transformations for computer vision\n",
        "from torch.utils.data import Dataset, DataLoader, random_split #At the heart of PyTorch data loading utility is the torch.utils.data.DataLoader class.\n",
        "                                                # It represents a Python iterable over a dataset, with support for\n",
        "import torch.nn.functional as F\n",
        "import numpy as np \n",
        "import math\n",
        "import pandas as pd\n"
      ],
      "execution_count": 86,
      "outputs": []
    },
    {
      "cell_type": "markdown",
      "metadata": {
        "id": "VnmsnfogfjR3"
      },
      "source": [
        "To create this class we need two key method\n",
        "\n",
        "\n",
        "\n",
        "*  __len__: it has to return the number of rows of the input table.\n",
        "*  __getitem__: it has to return a single observation, including both the independent variables and the dependent variable. \n",
        "\n"
      ]
    },
    {
      "cell_type": "markdown",
      "metadata": {
        "id": "JzPCohnPf9dY"
      },
      "source": [
        "For the case our csv file is audi.csv we will investigate it closely in below"
      ]
    },
    {
      "cell_type": "code",
      "metadata": {
        "id": "YfggyWjUe8IL"
      },
      "source": [
        "class CustomDataset(Dataset):\n",
        "    def __init__(self, csv_file ='audi.csv' ):\n",
        "       df = pd.read_csv(csv_file)\n",
        "       self.categorical = ['transmission','fuelType','model']\n",
        "       self.target = ['price']\n",
        "\n",
        "       self.car_frame = pd.get_dummies(df, prefix=self.categorical)\n",
        "       self.X = self.car_frame.drop(self.target, axis=1)\n",
        "       \n",
        "       \n",
        "       self.y = (df.price.values <= 15000).astype(\"int\") #here we change the price value and keep it as 1 or 0\n",
        "        \n",
        "    def __getitem__(self, idx):\n",
        "        # we want to be index like dataset[index]\n",
        "        # to get the index-th batch\n",
        "        if isinstance(idx, torch.Tensor):\n",
        "            idx = idx.tolist()\n",
        "\n",
        "        return [self.X.iloc[idx].values, self.y[idx]]\n",
        "    def __len__(self):\n",
        "        # to retrieve the total samples by doing len(dataset)\n",
        "        return len(self.car_frame)"
      ],
      "execution_count": 66,
      "outputs": []
    },
    {
      "cell_type": "code",
      "metadata": {
        "id": "2B_ZH0v3-8kq"
      },
      "source": [
        "class CustomDatasett(Dataset):\n",
        "    def __init__(self, csv_file ='audi.csv' ):\n",
        "       df = pd.read_csv(csv_file)\n",
        "       self.categorical = ['transmission','fuelType','model']\n",
        "       self.target = 'price'\n",
        "\n",
        "       self.car_frame = pd.get_dummies(df, prefix=self.categorical)\n",
        "       self.X = self.car_frame.drop(self.target, axis=1)\n",
        "       # the target or y  is price but we will change it little bit and the rest of the columns will represent features 'X'\n",
        "       \n",
        "       \n",
        "       self.y = self.car_frame[self.target]#here we keep price as continuous value \n",
        "        \n",
        "    def __getitem__(self, idx):\n",
        "        # we want to be index like dataset[index]\n",
        "        # to get the index-th batch\n",
        "        # Convert idx from tensor to list due to pandas bug (that arises when usingp pytorch's random_slit)\n",
        "        if isinstance(idx, torch.Tensor):\n",
        "            idx = idx.tolist()\n",
        "\n",
        "        return [self.X.iloc[idx].values, self.y[idx]]\n",
        "    def __len__(self):\n",
        "        # to retrieve the total samples by doing len(dataset)\n",
        "        return len(self.car_frame)"
      ],
      "execution_count": 31,
      "outputs": []
    },
    {
      "cell_type": "code",
      "metadata": {
        "id": "boYiPvGH586-"
      },
      "source": [
        "dataset = CustomDataset()\n",
        "dataloader = DataLoader(dataset=dataset, batch_size=4, shuffle=True)\n",
        "##DataLoader(dataset, batch_size=1, shuffle=False, sampler=None,\n",
        "           #batch_sampler=None, num_workers=0, collate_fn=None,\n",
        "           #pin_memory=False, drop_last=False, timeout=0,\n",
        "          # worker_init_fn=None, *, prefetch_factor=2,\n",
        "          # persistent_workers=False)"
      ],
      "execution_count": 67,
      "outputs": []
    },
    {
      "cell_type": "code",
      "metadata": {
        "colab": {
          "base_uri": "https://localhost:8080/"
        },
        "id": "I4piaS_H589g",
        "outputId": "758fd533-0f65-4c75-ef91-d8bd5ec397b9"
      },
      "source": [
        "dataiter = iter(dataloader)\n",
        "data = dataiter.next()\n",
        "data\n"
      ],
      "execution_count": 81,
      "outputs": [
        {
          "output_type": "execute_result",
          "data": {
            "text/plain": [
              "[tensor([[2.0170e+03, 4.9221e+04, 1.4500e+02, 5.5400e+01, 1.4000e+00, 1.0000e+00, 0.0000e+00, 0.0000e+00, 0.0000e+00,\n",
              "          0.0000e+00, 0.0000e+00, 0.0000e+00, 0.0000e+00, 0.0000e+00, 0.0000e+00, 0.0000e+00, 0.0000e+00, 0.0000e+00,\n",
              "          0.0000e+00, 0.0000e+00, 0.0000e+00, 0.0000e+00, 0.0000e+00, 0.0000e+00, 0.0000e+00, 0.0000e+00, 0.0000e+00,\n",
              "          0.0000e+00, 0.0000e+00, 0.0000e+00, 0.0000e+00, 0.0000e+00, 1.0000e+00, 0.0000e+00, 0.0000e+00, 0.0000e+00,\n",
              "          1.0000e+00],\n",
              "         [2.0190e+03, 1.0000e+03, 1.4500e+02, 3.8200e+01, 2.0000e+00, 0.0000e+00, 0.0000e+00, 0.0000e+00, 0.0000e+00,\n",
              "          0.0000e+00, 0.0000e+00, 0.0000e+00, 0.0000e+00, 0.0000e+00, 0.0000e+00, 1.0000e+00, 0.0000e+00, 0.0000e+00,\n",
              "          0.0000e+00, 0.0000e+00, 0.0000e+00, 0.0000e+00, 0.0000e+00, 0.0000e+00, 0.0000e+00, 0.0000e+00, 0.0000e+00,\n",
              "          0.0000e+00, 0.0000e+00, 0.0000e+00, 0.0000e+00, 1.0000e+00, 0.0000e+00, 0.0000e+00, 1.0000e+00, 0.0000e+00,\n",
              "          0.0000e+00],\n",
              "         [2.0150e+03, 3.7759e+04, 0.0000e+00, 8.0700e+01, 1.6000e+00, 1.0000e+00, 0.0000e+00, 0.0000e+00, 0.0000e+00,\n",
              "          0.0000e+00, 0.0000e+00, 0.0000e+00, 0.0000e+00, 0.0000e+00, 0.0000e+00, 0.0000e+00, 0.0000e+00, 0.0000e+00,\n",
              "          0.0000e+00, 0.0000e+00, 0.0000e+00, 0.0000e+00, 0.0000e+00, 0.0000e+00, 0.0000e+00, 0.0000e+00, 0.0000e+00,\n",
              "          0.0000e+00, 0.0000e+00, 0.0000e+00, 0.0000e+00, 0.0000e+00, 1.0000e+00, 0.0000e+00, 1.0000e+00, 0.0000e+00,\n",
              "          0.0000e+00],\n",
              "         [2.0130e+03, 5.5000e+04, 3.0000e+01, 6.1400e+01, 2.0000e+00, 0.0000e+00, 0.0000e+00, 0.0000e+00, 1.0000e+00,\n",
              "          0.0000e+00, 0.0000e+00, 0.0000e+00, 0.0000e+00, 0.0000e+00, 0.0000e+00, 0.0000e+00, 0.0000e+00, 0.0000e+00,\n",
              "          0.0000e+00, 0.0000e+00, 0.0000e+00, 0.0000e+00, 0.0000e+00, 0.0000e+00, 0.0000e+00, 0.0000e+00, 0.0000e+00,\n",
              "          0.0000e+00, 0.0000e+00, 0.0000e+00, 0.0000e+00, 0.0000e+00, 1.0000e+00, 0.0000e+00, 1.0000e+00, 0.0000e+00,\n",
              "          0.0000e+00]], dtype=torch.float64), tensor([1, 0, 1, 1])]"
            ]
          },
          "metadata": {},
          "execution_count": 81
        }
      ]
    },
    {
      "cell_type": "code",
      "metadata": {
        "ExecuteTime": {
          "end_time": "2021-06-02T05:35:23.163211Z",
          "start_time": "2021-06-02T05:35:22.683242Z"
        },
        "id": "choice-method"
      },
      "source": [
        "\n",
        "df = pd.read_csv('audi.csv')"
      ],
      "execution_count": 95,
      "outputs": []
    },
    {
      "cell_type": "code",
      "metadata": {
        "colab": {
          "base_uri": "https://localhost:8080/",
          "height": 419
        },
        "id": "_iabjN7FyD4i",
        "outputId": "fb9b9eed-a210-4c49-bfba-ce69e9e1a4ad"
      },
      "source": [
        "df"
      ],
      "execution_count": 96,
      "outputs": [
        {
          "output_type": "execute_result",
          "data": {
            "text/html": [
              "<div>\n",
              "<style scoped>\n",
              "    .dataframe tbody tr th:only-of-type {\n",
              "        vertical-align: middle;\n",
              "    }\n",
              "\n",
              "    .dataframe tbody tr th {\n",
              "        vertical-align: top;\n",
              "    }\n",
              "\n",
              "    .dataframe thead th {\n",
              "        text-align: right;\n",
              "    }\n",
              "</style>\n",
              "<table border=\"1\" class=\"dataframe\">\n",
              "  <thead>\n",
              "    <tr style=\"text-align: right;\">\n",
              "      <th></th>\n",
              "      <th>model</th>\n",
              "      <th>year</th>\n",
              "      <th>price</th>\n",
              "      <th>transmission</th>\n",
              "      <th>mileage</th>\n",
              "      <th>fuelType</th>\n",
              "      <th>tax</th>\n",
              "      <th>mpg</th>\n",
              "      <th>engineSize</th>\n",
              "    </tr>\n",
              "  </thead>\n",
              "  <tbody>\n",
              "    <tr>\n",
              "      <th>0</th>\n",
              "      <td>A1</td>\n",
              "      <td>2017</td>\n",
              "      <td>12500</td>\n",
              "      <td>Manual</td>\n",
              "      <td>15735</td>\n",
              "      <td>Petrol</td>\n",
              "      <td>150</td>\n",
              "      <td>55.4</td>\n",
              "      <td>1.4</td>\n",
              "    </tr>\n",
              "    <tr>\n",
              "      <th>1</th>\n",
              "      <td>A6</td>\n",
              "      <td>2016</td>\n",
              "      <td>16500</td>\n",
              "      <td>Automatic</td>\n",
              "      <td>36203</td>\n",
              "      <td>Diesel</td>\n",
              "      <td>20</td>\n",
              "      <td>64.2</td>\n",
              "      <td>2.0</td>\n",
              "    </tr>\n",
              "    <tr>\n",
              "      <th>2</th>\n",
              "      <td>A1</td>\n",
              "      <td>2016</td>\n",
              "      <td>11000</td>\n",
              "      <td>Manual</td>\n",
              "      <td>29946</td>\n",
              "      <td>Petrol</td>\n",
              "      <td>30</td>\n",
              "      <td>55.4</td>\n",
              "      <td>1.4</td>\n",
              "    </tr>\n",
              "    <tr>\n",
              "      <th>3</th>\n",
              "      <td>A4</td>\n",
              "      <td>2017</td>\n",
              "      <td>16800</td>\n",
              "      <td>Automatic</td>\n",
              "      <td>25952</td>\n",
              "      <td>Diesel</td>\n",
              "      <td>145</td>\n",
              "      <td>67.3</td>\n",
              "      <td>2.0</td>\n",
              "    </tr>\n",
              "    <tr>\n",
              "      <th>4</th>\n",
              "      <td>A3</td>\n",
              "      <td>2019</td>\n",
              "      <td>17300</td>\n",
              "      <td>Manual</td>\n",
              "      <td>1998</td>\n",
              "      <td>Petrol</td>\n",
              "      <td>145</td>\n",
              "      <td>49.6</td>\n",
              "      <td>1.0</td>\n",
              "    </tr>\n",
              "    <tr>\n",
              "      <th>...</th>\n",
              "      <td>...</td>\n",
              "      <td>...</td>\n",
              "      <td>...</td>\n",
              "      <td>...</td>\n",
              "      <td>...</td>\n",
              "      <td>...</td>\n",
              "      <td>...</td>\n",
              "      <td>...</td>\n",
              "      <td>...</td>\n",
              "    </tr>\n",
              "    <tr>\n",
              "      <th>10663</th>\n",
              "      <td>A3</td>\n",
              "      <td>2020</td>\n",
              "      <td>16999</td>\n",
              "      <td>Manual</td>\n",
              "      <td>4018</td>\n",
              "      <td>Petrol</td>\n",
              "      <td>145</td>\n",
              "      <td>49.6</td>\n",
              "      <td>1.0</td>\n",
              "    </tr>\n",
              "    <tr>\n",
              "      <th>10664</th>\n",
              "      <td>A3</td>\n",
              "      <td>2020</td>\n",
              "      <td>16999</td>\n",
              "      <td>Manual</td>\n",
              "      <td>1978</td>\n",
              "      <td>Petrol</td>\n",
              "      <td>150</td>\n",
              "      <td>49.6</td>\n",
              "      <td>1.0</td>\n",
              "    </tr>\n",
              "    <tr>\n",
              "      <th>10665</th>\n",
              "      <td>A3</td>\n",
              "      <td>2020</td>\n",
              "      <td>17199</td>\n",
              "      <td>Manual</td>\n",
              "      <td>609</td>\n",
              "      <td>Petrol</td>\n",
              "      <td>150</td>\n",
              "      <td>49.6</td>\n",
              "      <td>1.0</td>\n",
              "    </tr>\n",
              "    <tr>\n",
              "      <th>10666</th>\n",
              "      <td>Q3</td>\n",
              "      <td>2017</td>\n",
              "      <td>19499</td>\n",
              "      <td>Automatic</td>\n",
              "      <td>8646</td>\n",
              "      <td>Petrol</td>\n",
              "      <td>150</td>\n",
              "      <td>47.9</td>\n",
              "      <td>1.4</td>\n",
              "    </tr>\n",
              "    <tr>\n",
              "      <th>10667</th>\n",
              "      <td>Q3</td>\n",
              "      <td>2016</td>\n",
              "      <td>15999</td>\n",
              "      <td>Manual</td>\n",
              "      <td>11855</td>\n",
              "      <td>Petrol</td>\n",
              "      <td>150</td>\n",
              "      <td>47.9</td>\n",
              "      <td>1.4</td>\n",
              "    </tr>\n",
              "  </tbody>\n",
              "</table>\n",
              "<p>10668 rows × 9 columns</p>\n",
              "</div>"
            ],
            "text/plain": [
              "      model  year  price transmission  mileage fuelType  tax   mpg  engineSize\n",
              "0        A1  2017  12500       Manual    15735   Petrol  150  55.4         1.4\n",
              "1        A6  2016  16500    Automatic    36203   Diesel   20  64.2         2.0\n",
              "2        A1  2016  11000       Manual    29946   Petrol   30  55.4         1.4\n",
              "3        A4  2017  16800    Automatic    25952   Diesel  145  67.3         2.0\n",
              "4        A3  2019  17300       Manual     1998   Petrol  145  49.6         1.0\n",
              "...     ...   ...    ...          ...      ...      ...  ...   ...         ...\n",
              "10663    A3  2020  16999       Manual     4018   Petrol  145  49.6         1.0\n",
              "10664    A3  2020  16999       Manual     1978   Petrol  150  49.6         1.0\n",
              "10665    A3  2020  17199       Manual      609   Petrol  150  49.6         1.0\n",
              "10666    Q3  2017  19499    Automatic     8646   Petrol  150  47.9         1.4\n",
              "10667    Q3  2016  15999       Manual    11855   Petrol  150  47.9         1.4\n",
              "\n",
              "[10668 rows x 9 columns]"
            ]
          },
          "metadata": {},
          "execution_count": 96
        }
      ]
    },
    {
      "cell_type": "code",
      "metadata": {
        "id": "Sw4NzISbfxj2"
      },
      "source": [
        "# Split into training and test\n",
        "train_size = int(0.8 * len(dataset))\n",
        "test_size = len(dataset) - train_size\n",
        "trainset, testset = random_split(dataset, [train_size, test_size])\n",
        "\n",
        "# Dataloaders\n",
        "trainloader = DataLoader(trainset, batch_size=200, shuffle=True)\n",
        "testloader = DataLoader(testset, batch_size=200, shuffle=False)\n"
      ],
      "execution_count": 87,
      "outputs": []
    },
    {
      "cell_type": "markdown",
      "metadata": {
        "id": "gNR6J2legWEK"
      },
      "source": [
        "As "
      ]
    },
    {
      "cell_type": "code",
      "metadata": {
        "id": "14jJDZv6wlcr"
      },
      "source": [
        "class NeuralNetworkk(nn.Module):\n",
        "    def __init__(self, input_dim, num_hidden1, num_hidden2):\n",
        "        super().__init__() \n",
        "        #self.conv1 = nn.Conv2d(input_dim,num_hidden1,kernel_size = 2)\n",
        "        self.fc1 = nn.Linear(input_dim, num_hidden1)\n",
        "        self.drop = nn.Dropout(p = 0.25)\n",
        "        self.fc2 = nn.Linear(num_hidden1, num_hidden2)\n",
        "        self.fc3 = nn.Linear(num_hidden2, 2)\n",
        "        \n",
        "    def forward(self,x):\n",
        "      #for layer 1 \n",
        "      #x = x.flatten()\n",
        "      #x = self.conv1(x)\n",
        "      x = self.fc1(x)\n",
        "      x = F.relu(x)\n",
        "      x = self.fc2(x)\n",
        "      x = F.relu(x)\n",
        "      x = self.drop(x)\n",
        "      x = self.fc3(x)\n",
        "      #output = F.softmax(x, dim=1)\n",
        "      return x\n",
        "model = NeuralNetworkk(37, 100,640)"
      ],
      "execution_count": 73,
      "outputs": []
    },
    {
      "cell_type": "code",
      "metadata": {
        "id": "3x3xURlSLNgY"
      },
      "source": [
        "def get_num_correct(preds,labels):\n",
        "  return preds.argmax(dim=1).eq(labels).sum().item()"
      ],
      "execution_count": 74,
      "outputs": []
    },
    {
      "cell_type": "code",
      "metadata": {
        "id": "fgikEguIK94X"
      },
      "source": [
        "torch.set_grad_enabled(True)\n",
        "torch.set_printoptions(linewidth=120)\n",
        "optimizer = optim.Adam(model.parameters(),lr = 0.01)"
      ],
      "execution_count": 75,
      "outputs": []
    },
    {
      "cell_type": "code",
      "metadata": {
        "colab": {
          "base_uri": "https://localhost:8080/"
        },
        "id": "xmhFhu5eGndA",
        "outputId": "704f50c8-cafd-45a6-ce57-239e66c02f75"
      },
      "source": [
        "\n",
        "\n",
        "for epoch in range(10):\n",
        "  total_loss = 0 \n",
        "  total_correct = 0 \n",
        "  for batch in dataloader:\n",
        "    images, labels = batch \n",
        "    images  = images.type(torch.float32)\n",
        "\n",
        "\n",
        "    preds = model(images)\n",
        "    \n",
        "    loss = F.cross_entropy(preds,labels)\n",
        "\n",
        "    optimizer.zero_grad()\n",
        "    loss.backward()\n",
        "    optimizer.step()\n",
        "\n",
        "    total_loss += loss.item()\n",
        "    total_correct += get_num_correct(preds,labels)\n",
        "\n",
        "print('epoch: ',epoch, 'total_correct: ', total_correct/len(dataloader), 'loss: ' , total_loss)"
      ],
      "execution_count": 94,
      "outputs": [
        {
          "output_type": "stream",
          "name": "stdout",
          "text": [
            "epoch:  9 total_correct:  2.9996250468691414 loss:  1317.1692179241759\n"
          ]
        }
      ]
    },
    {
      "cell_type": "code",
      "metadata": {
        "id": "UsrEOXdzdtgc"
      },
      "source": [
        ""
      ],
      "execution_count": 79,
      "outputs": []
    },
    {
      "cell_type": "markdown",
      "metadata": {
        "id": "verified-ghost"
      },
      "source": [
        "### Exercise\n",
        "\n",
        "Create a dataset with three classes of images (choose the classes and download your own images. You don't need to train, so around 10 images per class will be enough).\n",
        "\n",
        "Then visualize the images with the help of the `imshow` helper function provided below:"
      ]
    },
    {
      "cell_type": "code",
      "metadata": {
        "ExecuteTime": {
          "end_time": "2021-06-02T06:45:25.609577Z",
          "start_time": "2021-06-02T06:45:25.548882Z"
        },
        "id": "convertible-western"
      },
      "source": [
        "train = pd.DataFrame({\"path\": [\"/content/drive/MyDrive/dataAI/pytorchdataloadjpg/0805personali01.jpg\", \"/content/drive/MyDrive/dataAI/pytorchdataloadjpg/10comm-decarlo.jpg\", \"/content/drive/MyDrive/dataAI/pytorchdataloadjpg/1198_0_861.jpg\"], \"label\": [0, 1, 2] })"
      ],
      "execution_count": null,
      "outputs": []
    },
    {
      "cell_type": "code",
      "metadata": {
        "ExecuteTime": {
          "end_time": "2021-06-02T06:45:29.569167Z",
          "start_time": "2021-06-02T06:45:29.550927Z"
        },
        "id": "efficient-criminal",
        "colab": {
          "base_uri": "https://localhost:8080/",
          "height": 142
        },
        "outputId": "8831fc4a-66aa-41ea-dac9-ad05e139d10c"
      },
      "source": [
        "train"
      ],
      "execution_count": null,
      "outputs": [
        {
          "output_type": "execute_result",
          "data": {
            "text/html": [
              "<div>\n",
              "<style scoped>\n",
              "    .dataframe tbody tr th:only-of-type {\n",
              "        vertical-align: middle;\n",
              "    }\n",
              "\n",
              "    .dataframe tbody tr th {\n",
              "        vertical-align: top;\n",
              "    }\n",
              "\n",
              "    .dataframe thead th {\n",
              "        text-align: right;\n",
              "    }\n",
              "</style>\n",
              "<table border=\"1\" class=\"dataframe\">\n",
              "  <thead>\n",
              "    <tr style=\"text-align: right;\">\n",
              "      <th></th>\n",
              "      <th>path</th>\n",
              "      <th>label</th>\n",
              "    </tr>\n",
              "  </thead>\n",
              "  <tbody>\n",
              "    <tr>\n",
              "      <th>0</th>\n",
              "      <td>/content/drive/MyDrive/dataAI/pytorchdataloadj...</td>\n",
              "      <td>0</td>\n",
              "    </tr>\n",
              "    <tr>\n",
              "      <th>1</th>\n",
              "      <td>/content/drive/MyDrive/dataAI/pytorchdataloadj...</td>\n",
              "      <td>1</td>\n",
              "    </tr>\n",
              "    <tr>\n",
              "      <th>2</th>\n",
              "      <td>/content/drive/MyDrive/dataAI/pytorchdataloadj...</td>\n",
              "      <td>2</td>\n",
              "    </tr>\n",
              "  </tbody>\n",
              "</table>\n",
              "</div>"
            ],
            "text/plain": [
              "                                                path  label\n",
              "0  /content/drive/MyDrive/dataAI/pytorchdataloadj...      0\n",
              "1  /content/drive/MyDrive/dataAI/pytorchdataloadj...      1\n",
              "2  /content/drive/MyDrive/dataAI/pytorchdataloadj...      2"
            ]
          },
          "metadata": {},
          "execution_count": 15
        }
      ]
    },
    {
      "cell_type": "code",
      "metadata": {
        "ExecuteTime": {
          "end_time": "2021-06-02T06:46:11.305110Z",
          "start_time": "2021-06-02T06:46:11.217543Z"
        },
        "id": "joint-raleigh"
      },
      "source": [
        "train.to_csv(\"/content/drive/MyDrive/dataAI/train.csv\")"
      ],
      "execution_count": null,
      "outputs": []
    },
    {
      "cell_type": "code",
      "metadata": {
        "id": "HmoohUQAnsHz"
      },
      "source": [
        "from PIL import Image\n",
        "class CustomDataset(Dataset):\n",
        "    def __init__(self, csv_file, transform=None):\n",
        "        super().__init__()\n",
        "        df = pd.read_csv(csv_file)\n",
        "        self.paths = df.path.values\n",
        "        self.labels = df.label.values\n",
        "    def __getitem__(self, index):\n",
        "        # we want to be index like dataset[index]\n",
        "        # to get the index-th batch\n",
        "        img = Image.open(self.paths[index]).convert(\"RGB\")\n",
        "        if self.transform is not None:\n",
        "            img = self.transform(img)\n",
        "        return img, self.labels[index]\n",
        "    \n",
        "    def __len__(self):\n",
        "        # to retrieve the total samples by doing len(dataset)\n",
        "        return len(self.paths)"
      ],
      "execution_count": null,
      "outputs": []
    },
    {
      "cell_type": "code",
      "metadata": {
        "id": "sBFYjS4UmpsR"
      },
      "source": [
        "def imshow(image, ax=None, title=None, normalize=False):\n",
        "    \"\"\"Imshow for Tensor.\"\"\"\n",
        "    if ax is None:\n",
        "        fig, ax = plt.subplots()\n",
        "    image = image.numpy().transpose((1, 2, 0))\n",
        "\n",
        "    if normalize:\n",
        "        mean = np.array([0.485, 0.456, 0.406])\n",
        "        std = np.array([0.229, 0.224, 0.225])\n",
        "        image = std * image + mean\n",
        "        image = np.clip(image, 0, 1)\n",
        "\n",
        "    ax.imshow(image)\n",
        "    ax.spines['top'].set_visible(False)\n",
        "    ax.spines['right'].set_visible(False)\n",
        "    ax.spines['left'].set_visible(False)\n",
        "    ax.spines['bottom'].set_visible(False)\n",
        "    ax.tick_params(axis='both', length=0)\n",
        "    ax.set_xticklabels('')\n",
        "    ax.set_yticklabels('')\n",
        "\n",
        "    return ax\n",
        "\n",
        "\n",
        "# Run this to test your data loaders\n",
        "images, labels = next(iter(trainloader))\n",
        "imshow(images[0], normalize=False)"
      ],
      "execution_count": null,
      "outputs": []
    }
  ]
}