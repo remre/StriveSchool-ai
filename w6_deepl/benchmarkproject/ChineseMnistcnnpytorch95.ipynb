{
 "cells": [
  {
   "cell_type": "code",
   "execution_count": 1,
   "id": "e916e9ad",
   "metadata": {
    "execution": {
     "iopub.execute_input": "2021-11-07T10:29:49.026764Z",
     "iopub.status.busy": "2021-11-07T10:29:49.025986Z",
     "iopub.status.idle": "2021-11-07T10:29:57.919696Z",
     "shell.execute_reply": "2021-11-07T10:29:57.920303Z"
    },
    "papermill": {
     "duration": 8.918077,
     "end_time": "2021-11-07T10:29:57.920650",
     "exception": false,
     "start_time": "2021-11-07T10:29:49.002573",
     "status": "completed"
    },
    "tags": []
   },
   "outputs": [
    {
     "name": "stdout",
     "output_type": "stream",
     "text": [
      "Collecting torchsummary\r\n",
      "  Downloading torchsummary-1.5.1-py3-none-any.whl (2.8 kB)\r\n",
      "Installing collected packages: torchsummary\r\n",
      "Successfully installed torchsummary-1.5.1\r\n",
      "\u001b[33mWARNING: Running pip as the 'root' user can result in broken permissions and conflicting behaviour with the system package manager. It is recommended to use a virtual environment instead: https://pip.pypa.io/warnings/venv\u001b[0m\r\n",
      "Note: you may need to restart the kernel to use updated packages.\n"
     ]
    }
   ],
   "source": [
    "pip install torchsummary"
   ]
  },
  {
   "cell_type": "code",
   "execution_count": 2,
   "id": "2b8fef70",
   "metadata": {
    "execution": {
     "iopub.execute_input": "2021-11-07T10:29:57.951953Z",
     "iopub.status.busy": "2021-11-07T10:29:57.951177Z",
     "iopub.status.idle": "2021-11-07T10:30:00.374283Z",
     "shell.execute_reply": "2021-11-07T10:30:00.373780Z"
    },
    "papermill": {
     "duration": 2.440621,
     "end_time": "2021-11-07T10:30:00.374419",
     "exception": false,
     "start_time": "2021-11-07T10:29:57.933798",
     "status": "completed"
    },
    "tags": []
   },
   "outputs": [],
   "source": [
    "#importing necessary libraries\n",
    "import numpy as np\n",
    "import pandas as pd \n",
    "import torch\n",
    "from torch import optim\n",
    "import torch.nn as nn\n",
    "\n",
    "import cv2\n",
    "from torchvision import datasets, transforms\n",
    "from torch.utils.data import Dataset, DataLoader\n",
    "import torch.nn.functional as F\n",
    "from PIL import Image\n",
    "import matplotlib.pyplot as plt\n",
    "from sklearn.metrics import confusion_matrix\n",
    "from sklearn.metrics import accuracy_score as a_s\n",
    "import os \n",
    "from torchsummary import summary\n",
    "import zipfile"
   ]
  },
  {
   "cell_type": "code",
   "execution_count": 3,
   "id": "625ca6aa",
   "metadata": {
    "execution": {
     "iopub.execute_input": "2021-11-07T10:30:00.402869Z",
     "iopub.status.busy": "2021-11-07T10:30:00.402323Z",
     "iopub.status.idle": "2021-11-07T10:30:00.431727Z",
     "shell.execute_reply": "2021-11-07T10:30:00.431263Z",
     "shell.execute_reply.started": "2021-11-07T10:06:57.621920Z"
    },
    "papermill": {
     "duration": 0.045384,
     "end_time": "2021-11-07T10:30:00.431846",
     "exception": false,
     "start_time": "2021-11-07T10:30:00.386462",
     "status": "completed"
    },
    "tags": []
   },
   "outputs": [],
   "source": [
    "df = pd.read_csv('../input/chinese-mnist/chinese_mnist.csv',sep=',')"
   ]
  },
  {
   "cell_type": "code",
   "execution_count": 4,
   "id": "967bfae9",
   "metadata": {
    "execution": {
     "iopub.execute_input": "2021-11-07T10:30:00.460321Z",
     "iopub.status.busy": "2021-11-07T10:30:00.459471Z",
     "iopub.status.idle": "2021-11-07T10:30:00.485004Z",
     "shell.execute_reply": "2021-11-07T10:30:00.485455Z",
     "shell.execute_reply.started": "2021-11-07T10:07:01.431761Z"
    },
    "papermill": {
     "duration": 0.041617,
     "end_time": "2021-11-07T10:30:00.485624",
     "exception": false,
     "start_time": "2021-11-07T10:30:00.444007",
     "status": "completed"
    },
    "tags": []
   },
   "outputs": [
    {
     "name": "stdout",
     "output_type": "stream",
     "text": [
      "<class 'pandas.core.frame.DataFrame'>\n",
      "RangeIndex: 15000 entries, 0 to 14999\n",
      "Data columns (total 5 columns):\n",
      " #   Column     Non-Null Count  Dtype \n",
      "---  ------     --------------  ----- \n",
      " 0   suite_id   15000 non-null  int64 \n",
      " 1   sample_id  15000 non-null  int64 \n",
      " 2   code       15000 non-null  int64 \n",
      " 3   value      15000 non-null  int64 \n",
      " 4   character  15000 non-null  object\n",
      "dtypes: int64(4), object(1)\n",
      "memory usage: 586.1+ KB\n"
     ]
    }
   ],
   "source": [
    "#take a look at it\n",
    "df# image file names include some info about the image like suite_id sample id and code.\n",
    "#if we can add value as a label for our custom dataset that will be good.\n",
    "\n",
    "df.isnull().sum(),df.shape #there is no missing vals and number of data and number of images are match up\n",
    "\n",
    "df.info()#we need to encode df character. we can use get dummies \n",
    "\n",
    "X = df.drop('character', axis=1)"
   ]
  },
  {
   "cell_type": "code",
   "execution_count": 5,
   "id": "fe1e2600",
   "metadata": {
    "execution": {
     "iopub.execute_input": "2021-11-07T10:30:00.520758Z",
     "iopub.status.busy": "2021-11-07T10:30:00.518637Z",
     "iopub.status.idle": "2021-11-07T10:30:00.523496Z",
     "shell.execute_reply": "2021-11-07T10:30:00.523015Z",
     "shell.execute_reply.started": "2021-11-07T10:08:21.148426Z"
    },
    "papermill": {
     "duration": 0.025076,
     "end_time": "2021-11-07T10:30:00.523641",
     "exception": false,
     "start_time": "2021-11-07T10:30:00.498565",
     "status": "completed"
    },
    "tags": []
   },
   "outputs": [],
   "source": [
    "class CustomDataset(Dataset):\n",
    "  def __init__(self, k,l, csv_file ='../input/chinese-mnist/chinese_mnist.csv'):\n",
    "\n",
    "\n",
    "    self.df = pd.read_csv(csv_file)\n",
    "    \n",
    "\n",
    "    self.k= {'九':int(9),'十':int(10),'百':int(11),'千':int(12),'万':int(13),'亿':int(14),'零':int(0),'一':int(1),'二':int(2),'三':int(3),'四':int(4),'五':int(5),'六':int(6),'七':int(7),'八':int(8)}\n",
    "\n",
    "    \n",
    "\n",
    "\n",
    "    self.target = 'character'\n",
    "    self.features = ['suite_id','sample_id','code',]\n",
    "\n",
    "    #self.categorical = 'value'\n",
    "\n",
    "    #self.cat = pd.get_dummies(df, prefix=self.categorical)\n",
    "\n",
    "    self.labels   = np.asarray(self.df.iloc[:, 4])\n",
    "    \n",
    "    self.y = df[self.target]\n",
    "    self.X = df.drop(self.target, axis =1 )\n",
    "\n",
    "  def __getitem__(self,idx):\n",
    "\n",
    "    single_image_label = self.labels[idx]\n",
    "\n",
    "    class_id = self.k[single_image_label]\n",
    "    \n",
    "    img = Image.open(f\"../input/chinese-mnist/data/data/input_{self.X.iloc[idx, 0]}_{self.X.iloc[idx, 1]}_{self.X.iloc[idx, 2]}.jpg\")\n",
    "    img = np.array(img) # convert to np.array\n",
    "       \n",
    "\n",
    "    return img, class_id\n",
    "\n",
    "  def __len__(self):\n",
    "\n",
    "    return len(self.X)\n"
   ]
  },
  {
   "cell_type": "code",
   "execution_count": 6,
   "id": "c1cf822b",
   "metadata": {
    "execution": {
     "iopub.execute_input": "2021-11-07T10:30:00.555638Z",
     "iopub.status.busy": "2021-11-07T10:30:00.553499Z",
     "iopub.status.idle": "2021-11-07T10:30:00.614160Z",
     "shell.execute_reply": "2021-11-07T10:30:00.613700Z",
     "shell.execute_reply.started": "2021-11-07T10:08:23.564078Z"
    },
    "papermill": {
     "duration": 0.078702,
     "end_time": "2021-11-07T10:30:00.614269",
     "exception": false,
     "start_time": "2021-11-07T10:30:00.535567",
     "status": "completed"
    },
    "tags": []
   },
   "outputs": [],
   "source": [
    "train_df = df.groupby('value').apply(lambda x: x.sample(700, random_state=42)).reset_index(drop=True)\n",
    "x_train, y_train  = train_df.iloc[:, :-2], train_df.iloc[:, -2]\n",
    "\n",
    "test_df  = df.groupby('value').apply(lambda x: x.sample(300, random_state=42)).reset_index(drop=True)\n",
    "x_test, y_test    = test_df.iloc[:, :-2], test_df.iloc[:, -2]\n",
    "\n",
    "#create train dataset and test dataset \n",
    "train_ds = CustomDataset(x_train, y_train)\n",
    "trainloader = DataLoader(dataset=train_ds,batch_size=32, shuffle=True)\n",
    "\n",
    "test_ds = CustomDataset(x_test, y_test)\n",
    "testloader = DataLoader(test_ds, batch_size=32, shuffle=True)"
   ]
  },
  {
   "cell_type": "code",
   "execution_count": 7,
   "id": "f087bc12",
   "metadata": {
    "execution": {
     "iopub.execute_input": "2021-11-07T10:30:00.646198Z",
     "iopub.status.busy": "2021-11-07T10:30:00.645671Z",
     "iopub.status.idle": "2021-11-07T10:30:01.063804Z",
     "shell.execute_reply": "2021-11-07T10:30:01.063286Z",
     "shell.execute_reply.started": "2021-11-07T10:26:58.527945Z"
    },
    "papermill": {
     "duration": 0.437499,
     "end_time": "2021-11-07T10:30:01.063931",
     "exception": false,
     "start_time": "2021-11-07T10:30:00.626432",
     "status": "completed"
    },
    "tags": []
   },
   "outputs": [
    {
     "data": {
      "text/plain": [
       "'八'"
      ]
     },
     "execution_count": 7,
     "metadata": {},
     "output_type": "execute_result"
    },
    {
     "data": {
      "image/png": "[encoded data removed]",
      "text/plain": [
       "<Figure size 432x288 with 1 Axes>"
      ]
     },
     "metadata": {
      "needs_background": "light"
     },
     "output_type": "display_data"
    }
   ],
   "source": [
    "dictt = {int(9):'九',int(10):'十',int(11):'百',\n",
    "  int(12):'千',int(13):'万',int(14):'亿',\n",
    "  int(0):'零',int(1):'一',int(2):'二',\n",
    "  int(3):'三',int(4):'四',int(5):'五',\n",
    "  int(6):'六',int(7):'七',int(8):'八'}\n",
    "\n",
    "dataiter = iter(testloader)\n",
    "images,labels = dataiter.next()\n",
    "plt.imshow(images[0], cmap='gray')#\n",
    "dictt[int(labels[0])]"
   ]
  },
  {
   "cell_type": "code",
   "execution_count": 8,
   "id": "a9e88a96",
   "metadata": {
    "execution": {
     "iopub.execute_input": "2021-11-07T10:30:01.098912Z",
     "iopub.status.busy": "2021-11-07T10:30:01.097484Z",
     "iopub.status.idle": "2021-11-07T10:30:01.147189Z",
     "shell.execute_reply": "2021-11-07T10:30:01.146763Z",
     "shell.execute_reply.started": "2021-11-07T10:08:31.299965Z"
    },
    "papermill": {
     "duration": 0.070299,
     "end_time": "2021-11-07T10:30:01.147299",
     "exception": false,
     "start_time": "2021-11-07T10:30:01.077000",
     "status": "completed"
    },
    "tags": []
   },
   "outputs": [],
   "source": [
    "class Net(nn.Module):\n",
    "    def __init__(self):\n",
    "        super(Net, self).__init__()\n",
    "        self.conv1 = nn.Conv2d(1, 32, kernel_size=5)\n",
    "        self.conv2 = nn.Conv2d(32, 64, kernel_size=5)\n",
    "        \n",
    "        self.fc1 = nn.Linear(64*13*13, 500)\n",
    "        self.fc2 = nn.Linear(500, 15)\n",
    "\n",
    "        self.log_softmax = nn.LogSoftmax(dim=0)\n",
    "        self.conv2_drop = nn.Dropout2d()\n",
    "\n",
    "    def forward(self, x):\n",
    "        x = x.unsqueeze(1)\n",
    "        x = F.relu(F.max_pool2d(self.conv1(x), 2))\n",
    "        x = F.relu(F.max_pool2d(self.conv2_drop(self.conv2(x)), 2))\n",
    "        x = torch.flatten(x, start_dim=1)\n",
    "        x = F.relu(self.fc1(x))\n",
    "        #x = F.dropout(x, training=self.training)\n",
    "        x = self.fc2(x)\n",
    "        \n",
    "        output = self.log_softmax(x)\n",
    "        return output\n",
    "\n",
    "model = Net()"
   ]
  },
  {
   "cell_type": "code",
   "execution_count": 9,
   "id": "26702731",
   "metadata": {
    "execution": {
     "iopub.execute_input": "2021-11-07T10:30:01.178943Z",
     "iopub.status.busy": "2021-11-07T10:30:01.178210Z",
     "iopub.status.idle": "2021-11-07T10:30:01.180303Z",
     "shell.execute_reply": "2021-11-07T10:30:01.180758Z",
     "shell.execute_reply.started": "2021-11-07T10:08:34.300648Z"
    },
    "papermill": {
     "duration": 0.020119,
     "end_time": "2021-11-07T10:30:01.180882",
     "exception": false,
     "start_time": "2021-11-07T10:30:01.160763",
     "status": "completed"
    },
    "tags": []
   },
   "outputs": [],
   "source": [
    "\n",
    "#summary(model,(64,64))\n",
    "\n",
    "los = nn.CrossEntropyLoss()\n",
    "\n",
    "optimizer = optim.Adam(model.parameters(), lr=0.001,)\n",
    "scheduler = torch.optim.lr_scheduler.ReduceLROnPlateau(optimizer)\n",
    "#optimizer = optim.SGD(model.parameters(),lr = 0.001,momentum=1)"
   ]
  },
  {
   "cell_type": "code",
   "execution_count": 10,
   "id": "8dbe6a66",
   "metadata": {
    "execution": {
     "iopub.execute_input": "2021-11-07T10:30:01.210310Z",
     "iopub.status.busy": "2021-11-07T10:30:01.209487Z",
     "iopub.status.idle": "2021-11-07T10:38:38.683144Z",
     "shell.execute_reply": "2021-11-07T10:38:38.682553Z",
     "shell.execute_reply.started": "2021-11-07T10:08:36.538900Z"
    },
    "papermill": {
     "duration": 517.488859,
     "end_time": "2021-11-07T10:38:38.683291",
     "exception": false,
     "start_time": "2021-11-07T10:30:01.194432",
     "status": "completed"
    },
    "tags": []
   },
   "outputs": [
    {
     "name": "stdout",
     "output_type": "stream",
     "text": [
      "Epoch: 1/5\n",
      "\tIteration: 0\t Loss: 0.008\n",
      "\tIteration: 96\t Loss: 0.438\n",
      "\tIteration: 192\t Loss: 0.259\n",
      "\tIteration: 288\t Loss: 0.195\n",
      "\tIteration: 384\t Loss: 0.165\n",
      "Epoch: 2/5\n",
      "\tIteration: 0\t Loss: 0.001\n",
      "\tIteration: 96\t Loss: 0.125\n",
      "\tIteration: 192\t Loss: 0.113\n",
      "\tIteration: 288\t Loss: 0.109\n",
      "\tIteration: 384\t Loss: 0.107\n",
      "Epoch: 3/5\n",
      "\tIteration: 0\t Loss: 0.001\n",
      "\tIteration: 96\t Loss: 0.079\n",
      "\tIteration: 192\t Loss: 0.087\n",
      "\tIteration: 288\t Loss: 0.078\n",
      "\tIteration: 384\t Loss: 0.074\n",
      "Epoch: 4/5\n",
      "\tIteration: 0\t Loss: 0.001\n",
      "\tIteration: 96\t Loss: 0.068\n",
      "\tIteration: 192\t Loss: 0.074\n",
      "\tIteration: 288\t Loss: 0.071\n",
      "\tIteration: 384\t Loss: 0.073\n",
      "Epoch: 5/5\n",
      "\tIteration: 0\t Loss: 0.001\n",
      "\tIteration: 96\t Loss: 0.059\n",
      "\tIteration: 192\t Loss: 0.062\n",
      "\tIteration: 288\t Loss: 0.058\n",
      "\tIteration: 384\t Loss: 0.060\n"
     ]
    }
   ],
   "source": [
    "epochs = 5\n",
    "#learning_rate = 0.001\n",
    "#decay_rate = learning_rate / epochs\n",
    "#optimizer = optim.Adagrad(model.parameters(),lr = learning_rate)\n",
    "print_every = 96\n",
    "\n",
    "for e in range(epochs):\n",
    "    running_loss = 0\n",
    "    print(f\"Epoch: {e+1}/{epochs}\")\n",
    "\n",
    "    for i, (images, labels) in enumerate(iter(trainloader)):\n",
    "\n",
    "        # turn it to float and resize\n",
    "        \n",
    "        images = images.resize_(images.size()[0], 64,64).float()\n",
    "        optimizer.zero_grad()\n",
    "        \n",
    "        output = model.forward(images)   # 1) Forward pass\n",
    "        losss = los(output, labels)     # 2) Compute loss\n",
    "        losss.backward()                  # 3) Backward pass\n",
    "        optimizer.step()                 # 4) Update model\n",
    "        \n",
    "        running_loss += losss.item()\n",
    "        \n",
    "        if i % print_every == 0:\n",
    "            print(f\"\\tIteration: {i}\\t Loss: {running_loss/len(trainloader):.3f}\")\n",
    "            running_loss = 0"
   ]
  },
  {
   "cell_type": "code",
   "execution_count": 11,
   "id": "ac24a2ad",
   "metadata": {
    "execution": {
     "iopub.execute_input": "2021-11-07T10:38:38.735466Z",
     "iopub.status.busy": "2021-11-07T10:38:38.734613Z",
     "iopub.status.idle": "2021-11-07T10:39:16.821626Z",
     "shell.execute_reply": "2021-11-07T10:39:16.822267Z",
     "shell.execute_reply.started": "2021-11-07T10:19:26.506824Z"
    },
    "papermill": {
     "duration": 38.116751,
     "end_time": "2021-11-07T10:39:16.822473",
     "exception": false,
     "start_time": "2021-11-07T10:38:38.705722",
     "status": "completed"
    },
    "tags": []
   },
   "outputs": [
    {
     "name": "stdout",
     "output_type": "stream",
     "text": [
      "Test results with respect to confusion matrix: \n",
      "[[972   1   0   1   2   1   2   0   1   4   1   5   3   5   2]\n",
      " [  0 977  17   0   0   0   0   1   0   0   2   0   0   3   0]\n",
      " [  0  12 942  41   0   1   0   2   0   1   0   0   0   1   0]\n",
      " [  1   3  42 946   0   4   0   2   0   0   2   0   0   0   0]\n",
      " [  2   2   1   1 945   5   2   2   3   2   3  22   0   6   4]\n",
      " [  2   0   7  22   2 952   2   1   1   1   2   5   0   0   3]\n",
      " [  6   7   7  11   2   0 919   2   9   2   9   2   5  18   1]\n",
      " [  2   1   8   3   3   1   2 951   0   8   6   3   3   1   8]\n",
      " [  0   1   1   0   1   0   1   0 982   2   5   1   2   1   3]\n",
      " [  0   1   0   3   2   8   7  19  18 902   8   2   2   6  22]\n",
      " [  2   2   3   0   2   0   5   2   2   3 925   1  47   6   0]\n",
      " [  4   1   2   1  15   9   2   3   7   1   5 933   2  14   1]\n",
      " [  0   1   4   3   1   3   7   5   1   0  20   3 945   6   1]\n",
      " [  5   3   0   1   1   1   4   1   1   2   3  30   1 944   3]\n",
      " [  2   3   2   1   2   3   2   3   7  16   3   1   1   4 950]] \n",
      "and the accuracy score is : \n",
      " 0.9456666666666667\n"
     ]
    }
   ],
   "source": [
    "test_size = len(test_ds)\n",
    "train_size = len(train_ds)\n",
    "r_labels = np.array([])\n",
    "preds  = np.array([])\n",
    "\n",
    "correct_preds = np.array([])\n",
    "\n",
    "\n",
    "for i, (images, labels) in enumerate(iter(testloader)):\n",
    "  model.eval()\n",
    "\n",
    "  # turn it to float and resize\n",
    "    \n",
    "  images = images.resize_(images.size()[0], 64,64).float()\n",
    "\n",
    "  outputs = model(images)\n",
    "\n",
    "  loss = los(outputs, labels)\n",
    "\n",
    "\n",
    "\n",
    "  r_labels = np.concatenate((r_labels, labels.numpy()))\n",
    "\n",
    "\n",
    "  for index, item in enumerate(outputs):\n",
    "      if r_labels[index] == torch.argmax(item):\n",
    "          correct_preds += 1\n",
    "\n",
    "      preds  = np.concatenate((preds, torch.argmax(item).unsqueeze(-1).detach().numpy()))\n",
    "\n",
    "\n",
    "conf_mat = confusion_matrix(r_labels, preds)\n",
    "\n",
    "\n",
    "accuracy_scores= a_s(r_labels, preds)\n",
    "\n",
    "print(f'Test results with respect to confusion matrix: \\n{conf_mat} \\nand the accuracy score is : \\n {accuracy_scores}')\n",
    "# it 92% so far"
   ]
  },
  {
   "cell_type": "code",
   "execution_count": 12,
   "id": "c25119d1",
   "metadata": {
    "execution": {
     "iopub.execute_input": "2021-11-07T10:39:16.870880Z",
     "iopub.status.busy": "2021-11-07T10:39:16.870114Z",
     "iopub.status.idle": "2021-11-07T10:39:16.872824Z",
     "shell.execute_reply": "2021-11-07T10:39:16.872355Z",
     "shell.execute_reply.started": "2021-11-07T10:22:13.209740Z"
    },
    "papermill": {
     "duration": 0.028941,
     "end_time": "2021-11-07T10:39:16.872933",
     "exception": false,
     "start_time": "2021-11-07T10:39:16.843992",
     "status": "completed"
    },
    "tags": []
   },
   "outputs": [],
   "source": [
    "dictt = {int(9):'九',int(10):'十',int(11):'百',\n",
    "  int(12):'千',int(13):'万',int(14):'亿',\n",
    "  int(0):'零',int(1):'一',int(2):'二',\n",
    "  int(3):'三',int(4):'四',int(5):'五',\n",
    "  int(6):'六',int(7):'七',int(8):'八'}"
   ]
  },
  {
   "cell_type": "code",
   "execution_count": 13,
   "id": "52b9a6d7",
   "metadata": {
    "execution": {
     "iopub.execute_input": "2021-11-07T10:39:16.920068Z",
     "iopub.status.busy": "2021-11-07T10:39:16.919254Z",
     "iopub.status.idle": "2021-11-07T10:39:53.322958Z",
     "shell.execute_reply": "2021-11-07T10:39:53.322427Z",
     "shell.execute_reply.started": "2021-11-07T10:22:15.019530Z"
    },
    "papermill": {
     "duration": 36.429292,
     "end_time": "2021-11-07T10:39:53.323102",
     "exception": false,
     "start_time": "2021-11-07T10:39:16.893810",
     "status": "completed"
    },
    "tags": []
   },
   "outputs": [],
   "source": [
    "for i,(images,labels) in enumerate(iter(testloader)):\n",
    "    \n",
    "  with torch.no_grad():\n",
    "\n",
    "    images = images.resize_(images.size()[0], 64,64).float()\n",
    "    output = model(images)"
   ]
  },
  {
   "cell_type": "code",
   "execution_count": 14,
   "id": "13adf829",
   "metadata": {
    "execution": {
     "iopub.execute_input": "2021-11-07T10:39:53.382384Z",
     "iopub.status.busy": "2021-11-07T10:39:53.368384Z",
     "iopub.status.idle": "2021-11-07T10:39:53.570646Z",
     "shell.execute_reply": "2021-11-07T10:39:53.571115Z",
     "shell.execute_reply.started": "2021-11-07T10:25:09.020102Z"
    },
    "papermill": {
     "duration": 0.227373,
     "end_time": "2021-11-07T10:39:53.571262",
     "exception": false,
     "start_time": "2021-11-07T10:39:53.343889",
     "status": "completed"
    },
    "tags": []
   },
   "outputs": [
    {
     "name": "stdout",
     "output_type": "stream",
     "text": [
      "五\n"
     ]
    },
    {
     "data": {
      "image/png": "[encoded data removed]",
      "text/plain": [
       "<Figure size 432x288 with 1 Axes>"
      ]
     },
     "metadata": {
      "needs_background": "light"
     },
     "output_type": "display_data"
    }
   ],
   "source": [
    "plt.imshow(images[7,:,:])\n",
    "print(dictt[output[7,:].argmax().item()])"
   ]
  }
 ],
 "metadata": {
  "kernelspec": {
   "display_name": "Python 3",
   "language": "python",
   "name": "python3"
  },
  "language_info": {
   "codemirror_mode": {
    "name": "ipython",
    "version": 3
   },
   "file_extension": ".py",
   "mimetype": "text/x-python",
   "name": "python",
   "nbconvert_exporter": "python",
   "pygments_lexer": "ipython3",
   "version": "3.7.10"
  },
  "papermill": {
   "default_parameters": {},
   "duration": 612.866795,
   "end_time": "2021-11-07T10:39:54.603115",
   "environment_variables": {},
   "exception": null,
   "input_path": "__notebook__.ipynb",
   "output_path": "__notebook__.ipynb",
   "parameters": {},
   "start_time": "2021-11-07T10:29:41.736320",
   "version": "2.3.3"
  }
 },
 "nbformat": 4,
 "nbformat_minor": 5
}
