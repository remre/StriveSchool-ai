{
  "nbformat": 4,
  "nbformat_minor": 0,
  "metadata": {
    "colab": {
      "name": "ChineseMnistCNN.ipynb",
      "provenance": [],
      "collapsed_sections": [],
      "authorship_tag": "ABX9TyMo2gIZ8CrYLedi1etT4i/T",
      "include_colab_link": true
    },
    "kernelspec": {
      "name": "python3",
      "display_name": "Python 3"
    },
    "language_info": {
      "name": "python"
    }
  },
  "cells": [
    {
      "cell_type": "markdown",
      "metadata": {
        "id": "view-in-github",
        "colab_type": "text"
      },
      "source": [
        "<a href=\"https://colab.research.google.com/github/remre/StriveSchool-ai/blob/main/w6_deepl/benchmarkproject/ChineseMnistCNN.ipynb\" target=\"_parent\"><img src=\"https://colab.research.google.com/assets/colab-badge.svg\" alt=\"Open In Colab\"/></a>"
      ]
    },
    {
      "cell_type": "code",
      "metadata": {
        "id": "od064xDbMYwh"
      },
      "source": [
        "#importing necessary libraries\n",
        "import numpy as np\n",
        "import pandas as pd \n",
        "import torch\n",
        "from torch import optim\n",
        "import torch.nn as nn\n",
        "\n",
        "import cv2\n",
        "from torchvision import datasets, transforms\n",
        "from torch.utils.data import Dataset, DataLoader\n",
        "import torch.nn.functional as F\n",
        "from PIL import Image\n",
        "import matplotlib.pyplot as plt\n",
        "from sklearn.metrics import confusion_matrix\n",
        "from sklearn.metrics import accuracy_score as a_s\n",
        "import os \n",
        "from torchsummary import summary\n",
        "import zipfile"
      ],
      "execution_count": 4,
      "outputs": []
    },
    {
      "cell_type": "code",
      "metadata": {
        "id": "WX4RXKfuNm4X"
      },
      "source": [
        "#get kaggle.json \n",
        "\n",
        "os.environ[\"KAGGLE_CONFIG_DIR\"] = (\"/content\")"
      ],
      "execution_count": null,
      "outputs": []
    },
    {
      "cell_type": "code",
      "metadata": {
        "id": "imiVlPimNaKx"
      },
      "source": [
        "#than download the dataset\n",
        "!kaggle datasets download -d gpreda/chinese-mnist"
      ],
      "execution_count": null,
      "outputs": []
    },
    {
      "cell_type": "code",
      "metadata": {
        "id": "aJTyH6e1PQQR"
      },
      "source": [
        "#unzip the dataset\n",
        "\n",
        "with zipfile.ZipFile('/content/chinese-mnist.zip', 'r') as zip_ref:\n",
        "    zip_ref.extractall('/content/')"
      ],
      "execution_count": null,
      "outputs": []
    },
    {
      "cell_type": "code",
      "metadata": {
        "id": "p47-dhCbPopS"
      },
      "source": [
        "#crate the dataframe\n",
        "df = pd.read_csv('chinese_mnist.csv',sep=',')"
      ],
      "execution_count": null,
      "outputs": []
    },
    {
      "cell_type": "code",
      "metadata": {
        "id": "Wm1kkBB7LkMG"
      },
      "source": [
        "#y = df['character']"
      ],
      "execution_count": null,
      "outputs": []
    },
    {
      "cell_type": "code",
      "metadata": {
        "colab": {
          "base_uri": "https://localhost:8080/",
          "height": 1000
        },
        "id": "FBHkDGNu1ZLM",
        "outputId": "7bcfad41-9f1e-4a13-9b3b-f0912109906b"
      },
      "source": [
        "#take a look at it\n",
        "df.sample(n=50)# image file names include some info about the image like suite_id sample id and code.\n",
        "#if we can add value as a label for our custom dataset that will be good."
      ],
      "execution_count": null,
      "outputs": [
        {
          "output_type": "execute_result",
          "data": {
            "text/html": [
              "<div>\n",
              "<style scoped>\n",
              "    .dataframe tbody tr th:only-of-type {\n",
              "        vertical-align: middle;\n",
              "    }\n",
              "\n",
              "    .dataframe tbody tr th {\n",
              "        vertical-align: top;\n",
              "    }\n",
              "\n",
              "    .dataframe thead th {\n",
              "        text-align: right;\n",
              "    }\n",
              "</style>\n",
              "<table border=\"1\" class=\"dataframe\">\n",
              "  <thead>\n",
              "    <tr style=\"text-align: right;\">\n",
              "      <th></th>\n",
              "      <th>suite_id</th>\n",
              "      <th>sample_id</th>\n",
              "      <th>code</th>\n",
              "      <th>value</th>\n",
              "      <th>character</th>\n",
              "    </tr>\n",
              "  </thead>\n",
              "  <tbody>\n",
              "    <tr>\n",
              "      <th>2544</th>\n",
              "      <td>58</td>\n",
              "      <td>4</td>\n",
              "      <td>12</td>\n",
              "      <td>100</td>\n",
              "      <td>百</td>\n",
              "    </tr>\n",
              "    <tr>\n",
              "      <th>14638</th>\n",
              "      <td>66</td>\n",
              "      <td>8</td>\n",
              "      <td>9</td>\n",
              "      <td>8</td>\n",
              "      <td>八</td>\n",
              "    </tr>\n",
              "    <tr>\n",
              "      <th>11539</th>\n",
              "      <td>57</td>\n",
              "      <td>9</td>\n",
              "      <td>6</td>\n",
              "      <td>5</td>\n",
              "      <td>五</td>\n",
              "    </tr>\n",
              "    <tr>\n",
              "      <th>7086</th>\n",
              "      <td>16</td>\n",
              "      <td>6</td>\n",
              "      <td>2</td>\n",
              "      <td>1</td>\n",
              "      <td>一</td>\n",
              "    </tr>\n",
              "    <tr>\n",
              "      <th>7357</th>\n",
              "      <td>40</td>\n",
              "      <td>7</td>\n",
              "      <td>2</td>\n",
              "      <td>1</td>\n",
              "      <td>一</td>\n",
              "    </tr>\n",
              "    <tr>\n",
              "      <th>7234</th>\n",
              "      <td>3</td>\n",
              "      <td>4</td>\n",
              "      <td>2</td>\n",
              "      <td>1</td>\n",
              "      <td>一</td>\n",
              "    </tr>\n",
              "    <tr>\n",
              "      <th>2278</th>\n",
              "      <td>33</td>\n",
              "      <td>8</td>\n",
              "      <td>12</td>\n",
              "      <td>100</td>\n",
              "      <td>百</td>\n",
              "    </tr>\n",
              "    <tr>\n",
              "      <th>10162</th>\n",
              "      <td>23</td>\n",
              "      <td>2</td>\n",
              "      <td>5</td>\n",
              "      <td>4</td>\n",
              "      <td>四</td>\n",
              "    </tr>\n",
              "    <tr>\n",
              "      <th>541</th>\n",
              "      <td>58</td>\n",
              "      <td>10</td>\n",
              "      <td>10</td>\n",
              "      <td>9</td>\n",
              "      <td>九</td>\n",
              "    </tr>\n",
              "    <tr>\n",
              "      <th>14404</th>\n",
              "      <td>45</td>\n",
              "      <td>4</td>\n",
              "      <td>9</td>\n",
              "      <td>8</td>\n",
              "      <td>八</td>\n",
              "    </tr>\n",
              "    <tr>\n",
              "      <th>6014</th>\n",
              "      <td>10</td>\n",
              "      <td>4</td>\n",
              "      <td>1</td>\n",
              "      <td>0</td>\n",
              "      <td>零</td>\n",
              "    </tr>\n",
              "    <tr>\n",
              "      <th>7462</th>\n",
              "      <td>50</td>\n",
              "      <td>2</td>\n",
              "      <td>2</td>\n",
              "      <td>1</td>\n",
              "      <td>一</td>\n",
              "    </tr>\n",
              "    <tr>\n",
              "      <th>4501</th>\n",
              "      <td>54</td>\n",
              "      <td>10</td>\n",
              "      <td>14</td>\n",
              "      <td>10000</td>\n",
              "      <td>万</td>\n",
              "    </tr>\n",
              "    <tr>\n",
              "      <th>11281</th>\n",
              "      <td>34</td>\n",
              "      <td>10</td>\n",
              "      <td>6</td>\n",
              "      <td>5</td>\n",
              "      <td>五</td>\n",
              "    </tr>\n",
              "    <tr>\n",
              "      <th>403</th>\n",
              "      <td>45</td>\n",
              "      <td>3</td>\n",
              "      <td>10</td>\n",
              "      <td>9</td>\n",
              "      <td>九</td>\n",
              "    </tr>\n",
              "    <tr>\n",
              "      <th>9595</th>\n",
              "      <td>62</td>\n",
              "      <td>5</td>\n",
              "      <td>4</td>\n",
              "      <td>3</td>\n",
              "      <td>三</td>\n",
              "    </tr>\n",
              "    <tr>\n",
              "      <th>913</th>\n",
              "      <td>91</td>\n",
              "      <td>3</td>\n",
              "      <td>10</td>\n",
              "      <td>9</td>\n",
              "      <td>九</td>\n",
              "    </tr>\n",
              "    <tr>\n",
              "      <th>13867</th>\n",
              "      <td>87</td>\n",
              "      <td>7</td>\n",
              "      <td>8</td>\n",
              "      <td>7</td>\n",
              "      <td>七</td>\n",
              "    </tr>\n",
              "    <tr>\n",
              "      <th>13600</th>\n",
              "      <td>63</td>\n",
              "      <td>1</td>\n",
              "      <td>8</td>\n",
              "      <td>7</td>\n",
              "      <td>七</td>\n",
              "    </tr>\n",
              "    <tr>\n",
              "      <th>11118</th>\n",
              "      <td>19</td>\n",
              "      <td>8</td>\n",
              "      <td>6</td>\n",
              "      <td>5</td>\n",
              "      <td>五</td>\n",
              "    </tr>\n",
              "    <tr>\n",
              "      <th>9943</th>\n",
              "      <td>94</td>\n",
              "      <td>3</td>\n",
              "      <td>4</td>\n",
              "      <td>3</td>\n",
              "      <td>三</td>\n",
              "    </tr>\n",
              "    <tr>\n",
              "      <th>7617</th>\n",
              "      <td>64</td>\n",
              "      <td>7</td>\n",
              "      <td>2</td>\n",
              "      <td>1</td>\n",
              "      <td>一</td>\n",
              "    </tr>\n",
              "    <tr>\n",
              "      <th>9103</th>\n",
              "      <td>18</td>\n",
              "      <td>3</td>\n",
              "      <td>4</td>\n",
              "      <td>3</td>\n",
              "      <td>三</td>\n",
              "    </tr>\n",
              "    <tr>\n",
              "      <th>2084</th>\n",
              "      <td>16</td>\n",
              "      <td>4</td>\n",
              "      <td>12</td>\n",
              "      <td>100</td>\n",
              "      <td>百</td>\n",
              "    </tr>\n",
              "    <tr>\n",
              "      <th>3010</th>\n",
              "      <td>10</td>\n",
              "      <td>1</td>\n",
              "      <td>13</td>\n",
              "      <td>1000</td>\n",
              "      <td>千</td>\n",
              "    </tr>\n",
              "    <tr>\n",
              "      <th>4715</th>\n",
              "      <td>73</td>\n",
              "      <td>5</td>\n",
              "      <td>14</td>\n",
              "      <td>10000</td>\n",
              "      <td>万</td>\n",
              "    </tr>\n",
              "    <tr>\n",
              "      <th>10765</th>\n",
              "      <td>78</td>\n",
              "      <td>5</td>\n",
              "      <td>5</td>\n",
              "      <td>4</td>\n",
              "      <td>四</td>\n",
              "    </tr>\n",
              "    <tr>\n",
              "      <th>1788</th>\n",
              "      <td>8</td>\n",
              "      <td>8</td>\n",
              "      <td>11</td>\n",
              "      <td>10</td>\n",
              "      <td>十</td>\n",
              "    </tr>\n",
              "    <tr>\n",
              "      <th>14044</th>\n",
              "      <td>12</td>\n",
              "      <td>4</td>\n",
              "      <td>9</td>\n",
              "      <td>8</td>\n",
              "      <td>八</td>\n",
              "    </tr>\n",
              "    <tr>\n",
              "      <th>9366</th>\n",
              "      <td>41</td>\n",
              "      <td>6</td>\n",
              "      <td>4</td>\n",
              "      <td>3</td>\n",
              "      <td>三</td>\n",
              "    </tr>\n",
              "    <tr>\n",
              "      <th>4824</th>\n",
              "      <td>83</td>\n",
              "      <td>4</td>\n",
              "      <td>14</td>\n",
              "      <td>10000</td>\n",
              "      <td>万</td>\n",
              "    </tr>\n",
              "    <tr>\n",
              "      <th>4332</th>\n",
              "      <td>39</td>\n",
              "      <td>2</td>\n",
              "      <td>14</td>\n",
              "      <td>10000</td>\n",
              "      <td>万</td>\n",
              "    </tr>\n",
              "    <tr>\n",
              "      <th>13172</th>\n",
              "      <td>24</td>\n",
              "      <td>2</td>\n",
              "      <td>8</td>\n",
              "      <td>7</td>\n",
              "      <td>七</td>\n",
              "    </tr>\n",
              "    <tr>\n",
              "      <th>2829</th>\n",
              "      <td>83</td>\n",
              "      <td>9</td>\n",
              "      <td>12</td>\n",
              "      <td>100</td>\n",
              "      <td>百</td>\n",
              "    </tr>\n",
              "    <tr>\n",
              "      <th>615</th>\n",
              "      <td>64</td>\n",
              "      <td>5</td>\n",
              "      <td>10</td>\n",
              "      <td>9</td>\n",
              "      <td>九</td>\n",
              "    </tr>\n",
              "    <tr>\n",
              "      <th>14471</th>\n",
              "      <td>51</td>\n",
              "      <td>10</td>\n",
              "      <td>9</td>\n",
              "      <td>8</td>\n",
              "      <td>八</td>\n",
              "    </tr>\n",
              "    <tr>\n",
              "      <th>9923</th>\n",
              "      <td>92</td>\n",
              "      <td>3</td>\n",
              "      <td>4</td>\n",
              "      <td>3</td>\n",
              "      <td>三</td>\n",
              "    </tr>\n",
              "    <tr>\n",
              "      <th>8315</th>\n",
              "      <td>37</td>\n",
              "      <td>5</td>\n",
              "      <td>3</td>\n",
              "      <td>2</td>\n",
              "      <td>二</td>\n",
              "    </tr>\n",
              "    <tr>\n",
              "      <th>14942</th>\n",
              "      <td>94</td>\n",
              "      <td>2</td>\n",
              "      <td>9</td>\n",
              "      <td>8</td>\n",
              "      <td>八</td>\n",
              "    </tr>\n",
              "    <tr>\n",
              "      <th>14436</th>\n",
              "      <td>48</td>\n",
              "      <td>6</td>\n",
              "      <td>9</td>\n",
              "      <td>8</td>\n",
              "      <td>八</td>\n",
              "    </tr>\n",
              "    <tr>\n",
              "      <th>11753</th>\n",
              "      <td>77</td>\n",
              "      <td>3</td>\n",
              "      <td>6</td>\n",
              "      <td>5</td>\n",
              "      <td>五</td>\n",
              "    </tr>\n",
              "    <tr>\n",
              "      <th>6111</th>\n",
              "      <td>19</td>\n",
              "      <td>10</td>\n",
              "      <td>1</td>\n",
              "      <td>0</td>\n",
              "      <td>零</td>\n",
              "    </tr>\n",
              "    <tr>\n",
              "      <th>5558</th>\n",
              "      <td>59</td>\n",
              "      <td>8</td>\n",
              "      <td>15</td>\n",
              "      <td>100000000</td>\n",
              "      <td>亿</td>\n",
              "    </tr>\n",
              "    <tr>\n",
              "      <th>1970</th>\n",
              "      <td>97</td>\n",
              "      <td>1</td>\n",
              "      <td>11</td>\n",
              "      <td>10</td>\n",
              "      <td>十</td>\n",
              "    </tr>\n",
              "    <tr>\n",
              "      <th>6222</th>\n",
              "      <td>29</td>\n",
              "      <td>2</td>\n",
              "      <td>1</td>\n",
              "      <td>0</td>\n",
              "      <td>零</td>\n",
              "    </tr>\n",
              "    <tr>\n",
              "      <th>1224</th>\n",
              "      <td>29</td>\n",
              "      <td>4</td>\n",
              "      <td>11</td>\n",
              "      <td>10</td>\n",
              "      <td>十</td>\n",
              "    </tr>\n",
              "    <tr>\n",
              "      <th>144</th>\n",
              "      <td>21</td>\n",
              "      <td>4</td>\n",
              "      <td>10</td>\n",
              "      <td>9</td>\n",
              "      <td>九</td>\n",
              "    </tr>\n",
              "    <tr>\n",
              "      <th>4952</th>\n",
              "      <td>95</td>\n",
              "      <td>2</td>\n",
              "      <td>14</td>\n",
              "      <td>10000</td>\n",
              "      <td>万</td>\n",
              "    </tr>\n",
              "    <tr>\n",
              "      <th>12584</th>\n",
              "      <td>61</td>\n",
              "      <td>4</td>\n",
              "      <td>7</td>\n",
              "      <td>6</td>\n",
              "      <td>六</td>\n",
              "    </tr>\n",
              "    <tr>\n",
              "      <th>6941</th>\n",
              "      <td>94</td>\n",
              "      <td>10</td>\n",
              "      <td>1</td>\n",
              "      <td>0</td>\n",
              "      <td>零</td>\n",
              "    </tr>\n",
              "  </tbody>\n",
              "</table>\n",
              "</div>"
            ],
            "text/plain": [
              "       suite_id  sample_id  code      value character\n",
              "2544         58          4    12        100         百\n",
              "14638        66          8     9          8         八\n",
              "11539        57          9     6          5         五\n",
              "7086         16          6     2          1         一\n",
              "7357         40          7     2          1         一\n",
              "7234          3          4     2          1         一\n",
              "2278         33          8    12        100         百\n",
              "10162        23          2     5          4         四\n",
              "541          58         10    10          9         九\n",
              "14404        45          4     9          8         八\n",
              "6014         10          4     1          0         零\n",
              "7462         50          2     2          1         一\n",
              "4501         54         10    14      10000         万\n",
              "11281        34         10     6          5         五\n",
              "403          45          3    10          9         九\n",
              "9595         62          5     4          3         三\n",
              "913          91          3    10          9         九\n",
              "13867        87          7     8          7         七\n",
              "13600        63          1     8          7         七\n",
              "11118        19          8     6          5         五\n",
              "9943         94          3     4          3         三\n",
              "7617         64          7     2          1         一\n",
              "9103         18          3     4          3         三\n",
              "2084         16          4    12        100         百\n",
              "3010         10          1    13       1000         千\n",
              "4715         73          5    14      10000         万\n",
              "10765        78          5     5          4         四\n",
              "1788          8          8    11         10         十\n",
              "14044        12          4     9          8         八\n",
              "9366         41          6     4          3         三\n",
              "4824         83          4    14      10000         万\n",
              "4332         39          2    14      10000         万\n",
              "13172        24          2     8          7         七\n",
              "2829         83          9    12        100         百\n",
              "615          64          5    10          9         九\n",
              "14471        51         10     9          8         八\n",
              "9923         92          3     4          3         三\n",
              "8315         37          5     3          2         二\n",
              "14942        94          2     9          8         八\n",
              "14436        48          6     9          8         八\n",
              "11753        77          3     6          5         五\n",
              "6111         19         10     1          0         零\n",
              "5558         59          8    15  100000000         亿\n",
              "1970         97          1    11         10         十\n",
              "6222         29          2     1          0         零\n",
              "1224         29          4    11         10         十\n",
              "144          21          4    10          9         九\n",
              "4952         95          2    14      10000         万\n",
              "12584        61          4     7          6         六\n",
              "6941         94         10     1          0         零"
            ]
          },
          "metadata": {},
          "execution_count": 67
        }
      ]
    },
    {
      "cell_type": "code",
      "metadata": {
        "colab": {
          "base_uri": "https://localhost:8080/"
        },
        "id": "2AqlA2aRmpaV",
        "outputId": "4d447e30-4f20-40a4-91ab-e1cc534f124b"
      },
      "source": [
        "df.isnull().sum(),df.shape #there is no missing vals and number of data and number of images are match up"
      ],
      "execution_count": null,
      "outputs": [
        {
          "output_type": "execute_result",
          "data": {
            "text/plain": [
              "(suite_id     0\n",
              " sample_id    0\n",
              " code         0\n",
              " value        0\n",
              " character    0\n",
              " dtype: int64, (15000, 5))"
            ]
          },
          "metadata": {},
          "execution_count": 4
        }
      ]
    },
    {
      "cell_type": "code",
      "metadata": {
        "colab": {
          "base_uri": "https://localhost:8080/"
        },
        "id": "sawJg827h4Tt",
        "outputId": "4f4be688-b023-49cc-9830-64d8deacb745"
      },
      "source": [
        "df.info()#we need to encode df character. we can use get dummies "
      ],
      "execution_count": null,
      "outputs": [
        {
          "output_type": "stream",
          "name": "stdout",
          "text": [
            "<class 'pandas.core.frame.DataFrame'>\n",
            "RangeIndex: 15000 entries, 0 to 14999\n",
            "Data columns (total 5 columns):\n",
            " #   Column     Non-Null Count  Dtype \n",
            "---  ------     --------------  ----- \n",
            " 0   suite_id   15000 non-null  int64 \n",
            " 1   sample_id  15000 non-null  int64 \n",
            " 2   code       15000 non-null  int64 \n",
            " 3   value      15000 non-null  int64 \n",
            " 4   character  15000 non-null  object\n",
            "dtypes: int64(4), object(1)\n",
            "memory usage: 586.1+ KB\n"
          ]
        }
      ]
    },
    {
      "cell_type": "code",
      "metadata": {
        "id": "wR-qhMdy09xD"
      },
      "source": [
        "X = df.drop('character', axis=1)"
      ],
      "execution_count": null,
      "outputs": []
    },
    {
      "cell_type": "code",
      "metadata": {
        "id": "jm23DkNZ1bIU"
      },
      "source": [
        "#X"
      ],
      "execution_count": null,
      "outputs": []
    },
    {
      "cell_type": "code",
      "metadata": {
        "id": "HFqzPCD7QSFD"
      },
      "source": [
        "class CustomDataset(Dataset):\n",
        "  def __init__(self, k,l, csv_file ='chinese_mnist.csv'):\n",
        "\n",
        "    self.k = k\n",
        "    self.l = l\n",
        "    self.df = pd.read_csv(csv_file)\n",
        "\n",
        "    self.target = 'character'\n",
        "    self.features = ['suite_id','sample_id','code',]\n",
        "\n",
        "    #self.categorical = 'value'\n",
        "\n",
        "    #self.cat = pd.get_dummies(df, prefix=self.categorical)\n",
        "\n",
        "    self.labels   = np.asarray(self.df.iloc[:, 3])\n",
        "    \n",
        "    self.y = df[self.target]\n",
        "    self.X = df.drop(self.target, axis =1 )\n",
        "\n",
        "  def __getitem__(self,idx):\n",
        "\n",
        "    single_image_label = self.labels[idx]\n",
        "    \n",
        "    img = Image.open(f\"/content/data/data/input_{self.X.iloc[idx, 0]}_{self.X.iloc[idx, 1]}_{self.X.iloc[idx, 2]}.jpg\")\n",
        "    img = np.array(img) # convert to np.array\n",
        "       \n",
        "\n",
        "    return img, single_image_label\n",
        "\n",
        "  def __len__(self):\n",
        "\n",
        "    return len(self.X)\n",
        "\n"
      ],
      "execution_count": null,
      "outputs": []
    },
    {
      "cell_type": "code",
      "metadata": {
        "id": "RfS7GFZiSlFO"
      },
      "source": [
        "#create train dataset and test dataset \n",
        "train_ds = CustomDataset(x_train, y_train)\n",
        "trainloader = DataLoader(dataset=train_ds,batch_size=32, shuffle=True)"
      ],
      "execution_count": null,
      "outputs": []
    },
    {
      "cell_type": "code",
      "metadata": {
        "id": "ceh3H2LXS-A8"
      },
      "source": [
        "test_ds = CustomDataset(x_test, y_test)\n",
        "testloader = torch.utils.data.DataLoader(test_ds, batch_size=32, shuffle=True)"
      ],
      "execution_count": null,
      "outputs": []
    },
    {
      "cell_type": "code",
      "metadata": {
        "colab": {
          "base_uri": "https://localhost:8080/",
          "height": 392
        },
        "id": "L_6JULh429t0",
        "outputId": "6d769d7c-4497-4f45-f812-af562ccbf432"
      },
      "source": [
        "#take a look at the images and its labels\n",
        "dataiter = iter(testloader)\n",
        "images,labels = dataiter.next()\n",
        "plt.imshow(images[0], cmap='gray')#channels of image are lost\n",
        "images[0], labels[0]\n",
        "#it works"
      ],
      "execution_count": null,
      "outputs": [
        {
          "output_type": "execute_result",
          "data": {
            "text/plain": [
              "(tensor([[0, 0, 0,  ..., 0, 0, 0],\n",
              "         [0, 0, 0,  ..., 0, 0, 0],\n",
              "         [0, 0, 0,  ..., 0, 0, 0],\n",
              "         ...,\n",
              "         [0, 0, 0,  ..., 0, 0, 0],\n",
              "         [0, 0, 0,  ..., 0, 0, 0],\n",
              "         [0, 0, 0,  ..., 0, 0, 0]], dtype=torch.uint8), tensor(5))"
            ]
          },
          "metadata": {},
          "execution_count": 120
        },
        {
          "output_type": "display_data",
          "data": {
            "image/png": "[encoded data removed]",
            "text/plain": [
              "<Figure size 432x288 with 1 Axes>"
            ]
          },
          "metadata": {
            "needs_background": "light"
          }
        }
      ]
    },
    {
      "cell_type": "code",
      "metadata": {
        "id": "3pvUxeI_Qz2s"
      },
      "source": [
        "#images[0].shape"
      ],
      "execution_count": null,
      "outputs": []
    },
    {
      "cell_type": "code",
      "metadata": {
        "id": "5SsiXbLem3BH"
      },
      "source": [
        "class Net(nn.Module):\n",
        "    def __init__(self):\n",
        "        super(Net, self).__init__()\n",
        "        self.conv1 = nn.Conv2d(1, 32, kernel_size=5)\n",
        "        self.conv2 = nn.Conv2d(32, 64, kernel_size=5)\n",
        "        self.conv2_drop = nn.Dropout2d()\n",
        "        self.fc1 = nn.Linear(64*13*13, 500)\n",
        "        self.fc2 = nn.Linear(500, 15)\n",
        "\n",
        "        self.log_softmax = nn.LogSoftmax(dim=0)\n",
        "\n",
        "    def forward(self, x):\n",
        "        x = x.unsqueeze(1)\n",
        "        x = F.relu(F.max_pool2d(self.conv1(x), 2))\n",
        "        x = F.relu(F.max_pool2d(self.conv2_drop(self.conv2(x)), 2))\n",
        "        x = torch.flatten(x, start_dim=1)\n",
        "        x = F.relu(self.fc1(x))\n",
        "        x = F.dropout(x, training=self.training)\n",
        "        x = self.fc2(x)\n",
        "        \n",
        "        output = self.log_softmax(x)\n",
        "        return output\n",
        "\n",
        "model = Net()\n",
        "            "
      ],
      "execution_count": null,
      "outputs": []
    },
    {
      "cell_type": "code",
      "metadata": {
        "id": "Iv73cCuGrViK"
      },
      "source": [
        "#summary(model,(64,64))"
      ],
      "execution_count": null,
      "outputs": []
    },
    {
      "cell_type": "code",
      "metadata": {
        "id": "by-2Mm0iV8Rz"
      },
      "source": [
        "los = nn.CrossEntropyLoss()"
      ],
      "execution_count": null,
      "outputs": []
    },
    {
      "cell_type": "code",
      "metadata": {
        "id": "DShesmNgV8R0"
      },
      "source": [
        "optimizer = optim.Adam(model.parameters(), lr=0.001,)\n",
        "scheduler = torch.optim.lr_scheduler.ReduceLROnPlateau(optimizer)\n",
        "#optimizer = optim.SGD(model.parameters(),lr = 0.001,momentum=1)"
      ],
      "execution_count": null,
      "outputs": []
    },
    {
      "cell_type": "code",
      "metadata": {
        "colab": {
          "base_uri": "https://localhost:8080/"
        },
        "id": "UlIB6CsXaHE6",
        "outputId": "5f4fd156-6839-4509-dd7f-011aad6b97c5"
      },
      "source": [
        "epochs = 5\n",
        "learning_rate = 0.001\n",
        "decay_rate = learning_rate / epochs\n",
        "#optimizer = optim.Adagrad(model.parameters(),lr = learning_rate)\n",
        "print_every = 184\n",
        "\n",
        "for e in range(epochs):\n",
        "    running_loss = 0\n",
        "    print(f\"Epoch: {e+1}/{epochs}\")\n",
        "\n",
        "    for i, (images, labels) in enumerate(iter(trainloader)):\n",
        "\n",
        "        # turn it to float and resize\n",
        "        \n",
        "        images = images.resize_(images.size()[0], 64,64).float()\n",
        "        optimizer.zero_grad()\n",
        "        \n",
        "        output = model.forward(images)   # 1) Forward pass\n",
        "        losss = los(output, labels) # 2) Compute loss\n",
        "        losss.backward()                  # 3) Backward pass\n",
        "        optimizer.step()                 # 4) Update model\n",
        "        \n",
        "        running_loss += losss.item()\n",
        "        \n",
        "        if i % print_every == 0:\n",
        "            print(f\"\\tIteration: {i}\\t Loss: {running_loss/len(trainloader):.3f}\")\n",
        "            running_loss = 0"
      ],
      "execution_count": null,
      "outputs": [
        {
          "output_type": "stream",
          "name": "stdout",
          "text": [
            "Epoch: 1/5\n",
            "\tIteration: 0\t Loss: 0.001\n",
            "\tIteration: 184\t Loss: 0.208\n",
            "\tIteration: 368\t Loss: 0.205\n",
            "\tIteration: 552\t Loss: 0.200\n",
            "Epoch: 2/5\n",
            "\tIteration: 0\t Loss: 0.002\n",
            "\tIteration: 184\t Loss: 0.198\n",
            "\tIteration: 368\t Loss: 0.190\n",
            "\tIteration: 552\t Loss: 0.199\n",
            "Epoch: 3/5\n",
            "\tIteration: 0\t Loss: 0.001\n",
            "\tIteration: 184\t Loss: 0.172\n",
            "\tIteration: 368\t Loss: 0.181\n",
            "\tIteration: 552\t Loss: 0.169\n",
            "Epoch: 4/5\n",
            "\tIteration: 0\t Loss: 0.001\n",
            "\tIteration: 184\t Loss: 0.162\n",
            "\tIteration: 368\t Loss: 0.167\n",
            "\tIteration: 552\t Loss: 0.169\n",
            "Epoch: 5/5\n",
            "\tIteration: 0\t Loss: 0.001\n",
            "\tIteration: 184\t Loss: 0.153\n",
            "\tIteration: 368\t Loss: 0.154\n",
            "\tIteration: 552\t Loss: 0.159\n"
          ]
        }
      ]
    },
    {
      "cell_type": "code",
      "metadata": {
        "colab": {
          "base_uri": "https://localhost:8080/"
        },
        "id": "K1C0unbh0vuN",
        "outputId": "cf084ff9-4014-461e-8b67-7090c99cad17"
      },
      "source": [
        "test_size = len(test_ds)\n",
        "train_size = len(train_ds)\n",
        "r_labels = np.array([])\n",
        "preds  = np.array([])\n",
        "\n",
        "total_preds = 0\n",
        "correct_preds = 0\n",
        "\n",
        "test_running_loss = 0.0\n",
        "\n",
        "for i, (images, labels) in enumerate(iter(testloader)):\n",
        "  model.eval()\n",
        "\n",
        "  # turn it to float and resize\n",
        "    \n",
        "  images = images.resize_(images.size()[0], 64,64).float()\n",
        "\n",
        "  outputs = model(images)\n",
        "\n",
        "  loss = los(outputs, labels)\n",
        "\n",
        "\n",
        "\n",
        "  r_labels = np.concatenate((r_labels, labels.numpy()))\n",
        "\n",
        "\n",
        "  for index, item in enumerate(outputs):\n",
        "      if r_labels[index] == torch.argmax(item):\n",
        "          correct_preds += 1\n",
        "\n",
        "      preds  = np.concatenate((preds, torch.argmax(item).unsqueeze(-1).detach().numpy()))\n",
        "\n",
        "\n",
        "conf_mat = confusion_matrix(r_labels, preds)\n",
        "\n",
        "\n",
        "accuracy_scores= a_s(r_labels, preds)\n",
        "\n",
        "print(f'Test results with respect to confusion matrix: \\n{conf_mat} \\nand the accuracy score is : \\n {accuracy_scores}')\n",
        "# it 92% so far\n"
      ],
      "execution_count": null,
      "outputs": [
        {
          "output_type": "stream",
          "name": "stdout",
          "text": [
            "Test results with respect to confusion matrix: \n",
            "[[291   1   1   0   0   0   1   1   1   1   0   0   0   0   3]\n",
            " [  0 283   1   0   1   1   1   1   2   1   3   1   1   3   1]\n",
            " [  1  10 263  10   1   2   1   1   3   2   2   1   1   1   1]\n",
            " [  4   0  24 248   3  10   1   3   2   0   1   0   3   0   1]\n",
            " [  2   2   0   0 286   0   0   0   1   1   0   5   0   2   1]\n",
            " [  2   2   5  15   4 266   0   0   0   0   0   0   2   1   3]\n",
            " [  4   2   5   0   0   3 259   2   5   2   7   3   2   3   3]\n",
            " [  5   1   3   1   2   0   1 272   2   7   3   0   1   0   2]\n",
            " [  0   0   0   0   0   0   1   0 297   2   0   0   0   0   0]\n",
            " [  0   1   0   0   0   0   1   5   1 279   3   1   0   0   9]\n",
            " [  0   2   0   0   1   0   1   2   1   1 285   1   5   0   1]\n",
            " [  1   2   3   1  10   3   1   1   1   0   1 268   1   7   0]\n",
            " [  0   1   0   0   1   0   2   0   0   0  17   1 275   0   3]\n",
            " [  0   3   0   0   2   1   2   1   0   0   3   5   1 276   6]\n",
            " [  0   0   0   0   4   1   0   0   0   5   0   0   0   3 287]] \n",
            "and the accuracy score is : \n",
            " 0.9188888888888889\n"
          ]
        }
      ]
    },
    {
      "cell_type": "code",
      "metadata": {
        "id": "goAqELZ2wbKR"
      },
      "source": [
        ""
      ],
      "execution_count": null,
      "outputs": []
    }
  ]
}