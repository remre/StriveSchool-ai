{
  "nbformat": 4,
  "nbformat_minor": 0,
  "metadata": {
    "colab": {
      "name": "ChineseMnistCNN.ipynb",
      "provenance": [],
      "collapsed_sections": [],
      "authorship_tag": "ABX9TyOpwl9DQObUvTYHJ74cprQl",
      "include_colab_link": true
    },
    "kernelspec": {
      "name": "python3",
      "display_name": "Python 3"
    },
    "language_info": {
      "name": "python"
    }
  },
  "cells": [
    {
      "cell_type": "markdown",
      "metadata": {
        "id": "view-in-github",
        "colab_type": "text"
      },
      "source": [
        "<a href=\"https://colab.research.google.com/github/remre/StriveSchool-ai/blob/main/w6_deepl/benchmarkproject/ChineseMnistCNN.ipynb\" target=\"_parent\"><img src=\"https://colab.research.google.com/assets/colab-badge.svg\" alt=\"Open In Colab\"/></a>"
      ]
    },
    {
      "cell_type": "code",
      "metadata": {
        "id": "od064xDbMYwh"
      },
      "source": [
        "#importing necessary libraries\n",
        "import numpy as np\n",
        "import pandas as pd \n",
        "import torch\n",
        "from torch import optim\n",
        "import torch.nn as nn\n",
        "\n",
        "import cv2\n",
        "from torchvision import datasets, transforms\n",
        "from torch.utils.data import Dataset, DataLoader\n",
        "import torch.nn.functional as F\n",
        "from PIL import Image\n",
        "import matplotlib.pyplot as plt\n",
        "from sklearn.metrics import confusion_matrix\n",
        "from sklearn.metrics import accuracy_score as a_s\n",
        "import os \n",
        "from torchsummary import summary\n",
        "import zipfile"
      ],
      "execution_count": null,
      "outputs": []
    },
    {
      "cell_type": "code",
      "metadata": {
        "id": "WX4RXKfuNm4X"
      },
      "source": [
        "#get kaggle.json \n",
        "\n",
        "os.environ[\"KAGGLE_CONFIG_DIR\"] = (\"/content\")"
      ],
      "execution_count": null,
      "outputs": []
    },
    {
      "cell_type": "code",
      "metadata": {
        "id": "imiVlPimNaKx"
      },
      "source": [
        "#than download the dataset\n",
        "!kaggle datasets download -d gpreda/chinese-mnist"
      ],
      "execution_count": null,
      "outputs": []
    },
    {
      "cell_type": "code",
      "metadata": {
        "id": "aJTyH6e1PQQR"
      },
      "source": [
        "#unzip the dataset\n",
        "\n",
        "with zipfile.ZipFile('/content/chinese-mnist.zip', 'r') as zip_ref:\n",
        "    zip_ref.extractall('/content/')"
      ],
      "execution_count": null,
      "outputs": []
    },
    {
      "cell_type": "code",
      "metadata": {
        "id": "p47-dhCbPopS"
      },
      "source": [
        "#crate the dataframe\n",
        "df = pd.read_csv('chinese_mnist.csv',sep=',')"
      ],
      "execution_count": null,
      "outputs": []
    },
    {
      "cell_type": "code",
      "metadata": {
        "id": "Wm1kkBB7LkMG"
      },
      "source": [
        "#y = df['character']"
      ],
      "execution_count": null,
      "outputs": []
    },
    {
      "cell_type": "code",
      "metadata": {
        "id": "A50KRdLyrJ61"
      },
      "source": [
        "X = df.drop('character', axis=1)"
      ],
      "execution_count": null,
      "outputs": []
    },
    {
      "cell_type": "code",
      "metadata": {
        "colab": {
          "base_uri": "https://localhost:8080/",
          "height": 414
        },
        "id": "FBHkDGNu1ZLM",
        "outputId": "f013b2a1-79fa-45a1-f937-90d74316056e"
      },
      "source": [
        "#take a look at it\n",
        "df# image file names include some info about the image like suite_id sample id and code.\n",
        "#if we can add value as a label for our custom dataset that will be good."
      ],
      "execution_count": null,
      "outputs": [
        {
          "output_type": "execute_result",
          "data": {
            "text/html": [
              "<div>\n",
              "<style scoped>\n",
              "    .dataframe tbody tr th:only-of-type {\n",
              "        vertical-align: middle;\n",
              "    }\n",
              "\n",
              "    .dataframe tbody tr th {\n",
              "        vertical-align: top;\n",
              "    }\n",
              "\n",
              "    .dataframe thead th {\n",
              "        text-align: right;\n",
              "    }\n",
              "</style>\n",
              "<table border=\"1\" class=\"dataframe\">\n",
              "  <thead>\n",
              "    <tr style=\"text-align: right;\">\n",
              "      <th></th>\n",
              "      <th>suite_id</th>\n",
              "      <th>sample_id</th>\n",
              "      <th>code</th>\n",
              "      <th>value</th>\n",
              "      <th>character</th>\n",
              "    </tr>\n",
              "  </thead>\n",
              "  <tbody>\n",
              "    <tr>\n",
              "      <th>0</th>\n",
              "      <td>1</td>\n",
              "      <td>1</td>\n",
              "      <td>10</td>\n",
              "      <td>9</td>\n",
              "      <td>九</td>\n",
              "    </tr>\n",
              "    <tr>\n",
              "      <th>1</th>\n",
              "      <td>1</td>\n",
              "      <td>10</td>\n",
              "      <td>10</td>\n",
              "      <td>9</td>\n",
              "      <td>九</td>\n",
              "    </tr>\n",
              "    <tr>\n",
              "      <th>2</th>\n",
              "      <td>1</td>\n",
              "      <td>2</td>\n",
              "      <td>10</td>\n",
              "      <td>9</td>\n",
              "      <td>九</td>\n",
              "    </tr>\n",
              "    <tr>\n",
              "      <th>3</th>\n",
              "      <td>1</td>\n",
              "      <td>3</td>\n",
              "      <td>10</td>\n",
              "      <td>9</td>\n",
              "      <td>九</td>\n",
              "    </tr>\n",
              "    <tr>\n",
              "      <th>4</th>\n",
              "      <td>1</td>\n",
              "      <td>4</td>\n",
              "      <td>10</td>\n",
              "      <td>9</td>\n",
              "      <td>九</td>\n",
              "    </tr>\n",
              "    <tr>\n",
              "      <th>...</th>\n",
              "      <td>...</td>\n",
              "      <td>...</td>\n",
              "      <td>...</td>\n",
              "      <td>...</td>\n",
              "      <td>...</td>\n",
              "    </tr>\n",
              "    <tr>\n",
              "      <th>14995</th>\n",
              "      <td>99</td>\n",
              "      <td>5</td>\n",
              "      <td>9</td>\n",
              "      <td>8</td>\n",
              "      <td>八</td>\n",
              "    </tr>\n",
              "    <tr>\n",
              "      <th>14996</th>\n",
              "      <td>99</td>\n",
              "      <td>6</td>\n",
              "      <td>9</td>\n",
              "      <td>8</td>\n",
              "      <td>八</td>\n",
              "    </tr>\n",
              "    <tr>\n",
              "      <th>14997</th>\n",
              "      <td>99</td>\n",
              "      <td>7</td>\n",
              "      <td>9</td>\n",
              "      <td>8</td>\n",
              "      <td>八</td>\n",
              "    </tr>\n",
              "    <tr>\n",
              "      <th>14998</th>\n",
              "      <td>99</td>\n",
              "      <td>8</td>\n",
              "      <td>9</td>\n",
              "      <td>8</td>\n",
              "      <td>八</td>\n",
              "    </tr>\n",
              "    <tr>\n",
              "      <th>14999</th>\n",
              "      <td>99</td>\n",
              "      <td>9</td>\n",
              "      <td>9</td>\n",
              "      <td>8</td>\n",
              "      <td>八</td>\n",
              "    </tr>\n",
              "  </tbody>\n",
              "</table>\n",
              "<p>15000 rows × 5 columns</p>\n",
              "</div>"
            ],
            "text/plain": [
              "       suite_id  sample_id  code  value character\n",
              "0             1          1    10      9         九\n",
              "1             1         10    10      9         九\n",
              "2             1          2    10      9         九\n",
              "3             1          3    10      9         九\n",
              "4             1          4    10      9         九\n",
              "...         ...        ...   ...    ...       ...\n",
              "14995        99          5     9      8         八\n",
              "14996        99          6     9      8         八\n",
              "14997        99          7     9      8         八\n",
              "14998        99          8     9      8         八\n",
              "14999        99          9     9      8         八\n",
              "\n",
              "[15000 rows x 5 columns]"
            ]
          },
          "metadata": {},
          "execution_count": 57
        }
      ]
    },
    {
      "cell_type": "code",
      "metadata": {
        "colab": {
          "base_uri": "https://localhost:8080/"
        },
        "id": "2AqlA2aRmpaV",
        "outputId": "9ad4f6c1-7d29-4a6e-9794-1126e9506c92"
      },
      "source": [
        "df.isnull().sum(),df.shape #there is no missing vals and number of data and number of images are match up"
      ],
      "execution_count": null,
      "outputs": [
        {
          "output_type": "execute_result",
          "data": {
            "text/plain": [
              "(suite_id     0\n",
              " sample_id    0\n",
              " code         0\n",
              " value        0\n",
              " character    0\n",
              " dtype: int64, (15000, 5))"
            ]
          },
          "metadata": {},
          "execution_count": 27
        }
      ]
    },
    {
      "cell_type": "code",
      "metadata": {
        "colab": {
          "base_uri": "https://localhost:8080/"
        },
        "id": "sawJg827h4Tt",
        "outputId": "bdf95ef7-ccc1-4452-f349-905722add7a0"
      },
      "source": [
        "df.info()#we need to encode df character. we can use get dummies "
      ],
      "execution_count": null,
      "outputs": [
        {
          "output_type": "stream",
          "name": "stdout",
          "text": [
            "<class 'pandas.core.frame.DataFrame'>\n",
            "RangeIndex: 15000 entries, 0 to 14999\n",
            "Data columns (total 5 columns):\n",
            " #   Column     Non-Null Count  Dtype \n",
            "---  ------     --------------  ----- \n",
            " 0   suite_id   15000 non-null  int64 \n",
            " 1   sample_id  15000 non-null  int64 \n",
            " 2   code       15000 non-null  int64 \n",
            " 3   value      15000 non-null  int64 \n",
            " 4   character  15000 non-null  object\n",
            "dtypes: int64(4), object(1)\n",
            "memory usage: 586.1+ KB\n"
          ]
        }
      ]
    },
    {
      "cell_type": "code",
      "metadata": {
        "id": "wR-qhMdy09xD"
      },
      "source": [
        "X = df.drop('character', axis=1)"
      ],
      "execution_count": null,
      "outputs": []
    },
    {
      "cell_type": "code",
      "metadata": {
        "id": "HFqzPCD7QSFD"
      },
      "source": [
        "class CustomDataset(Dataset):\n",
        "  def __init__(self, k,l, csv_file ='chinese_mnist.csv'):\n",
        "\n",
        "\n",
        "    self.df = pd.read_csv(csv_file)\n",
        "    \n",
        "\n",
        "    self.k= {'九':int(9),'十':int(10),'百':int(11),'千':int(12),'万':int(13),'亿':int(14),'零':int(0),'一':int(1),'二':int(2),'三':int(3),'四':int(4),'五':int(5),'六':int(6),'七':int(7),'八':int(8)}\n",
        "\n",
        "    \n",
        "\n",
        "\n",
        "    self.target = 'character'\n",
        "    self.features = ['suite_id','sample_id','code',]\n",
        "\n",
        "    #self.categorical = 'value'\n",
        "\n",
        "    #self.cat = pd.get_dummies(df, prefix=self.categorical)\n",
        "\n",
        "    self.labels   = np.asarray(self.df.iloc[:, 4])\n",
        "    \n",
        "    self.y = df[self.target]\n",
        "    self.X = df.drop(self.target, axis =1 )\n",
        "\n",
        "  def __getitem__(self,idx):\n",
        "\n",
        "    single_image_label = self.labels[idx]\n",
        "\n",
        "    class_id = self.k[single_image_label]\n",
        "    \n",
        "    img = Image.open(f\"/content/data/data/input_{self.X.iloc[idx, 0]}_{self.X.iloc[idx, 1]}_{self.X.iloc[idx, 2]}.jpg\")\n",
        "    img = np.array(img) # convert to np.array\n",
        "       \n",
        "\n",
        "    return img, class_id\n",
        "\n",
        "  def __len__(self):\n",
        "\n",
        "    return len(self.X)\n",
        "\n"
      ],
      "execution_count": null,
      "outputs": []
    },
    {
      "cell_type": "code",
      "metadata": {
        "id": "0tusiIH8we9T"
      },
      "source": [
        "train_df = df.groupby('value').apply(lambda x: x.sample(700, random_state=42)).reset_index(drop=True)\n",
        "x_train, y_train  = train_df.iloc[:, :-2], train_df.iloc[:, -2]\n",
        "\n",
        "test_df  = df.groupby('value').apply(lambda x: x.sample(300, random_state=42)).reset_index(drop=True)\n",
        "x_test, y_test    = test_df.iloc[:, :-2], test_df.iloc[:, -2]"
      ],
      "execution_count": null,
      "outputs": []
    },
    {
      "cell_type": "code",
      "metadata": {
        "id": "RfS7GFZiSlFO"
      },
      "source": [
        "#create train dataset and test dataset \n",
        "train_ds = CustomDataset(x_train, y_train)\n",
        "trainloader = DataLoader(dataset=train_ds,batch_size=32, shuffle=True)"
      ],
      "execution_count": null,
      "outputs": []
    },
    {
      "cell_type": "code",
      "metadata": {
        "id": "ceh3H2LXS-A8"
      },
      "source": [
        "test_ds = CustomDataset(x_test, y_test)\n",
        "testloader = DataLoader(test_ds, batch_size=32, shuffle=True)"
      ],
      "execution_count": null,
      "outputs": []
    },
    {
      "cell_type": "code",
      "metadata": {
        "id": "qXYp63jJ_Cci"
      },
      "source": [
        "dictt = {int(9):'九',int(10):'十',int(11):'百',\n",
        "  int(12):'千',int(13):'万',int(14):'亿',\n",
        "  int(0):'零',int(1):'一',int(2):'二',\n",
        "  int(3):'三',int(4):'四',int(5):'五',\n",
        "  int(6):'六',int(7):'七',int(8):'八'}"
      ],
      "execution_count": null,
      "outputs": []
    },
    {
      "cell_type": "code",
      "metadata": {
        "colab": {
          "base_uri": "https://localhost:8080/",
          "height": 286
        },
        "id": "hIR9N_D-87g6",
        "outputId": "6f48d42f-6495-4888-e917-a7f321ab6157"
      },
      "source": [
        "dataiter = iter(testloader)\n",
        "images,labels = dataiter.next()\n",
        "plt.imshow(images[0], cmap='gray')#\n",
        "dictt[int(labels[0])]"
      ],
      "execution_count": null,
      "outputs": [
        {
          "output_type": "execute_result",
          "data": {
            "application/vnd.google.colaboratory.intrinsic+json": {
              "type": "string"
            },
            "text/plain": [
              "'八'"
            ]
          },
          "metadata": {},
          "execution_count": 218
        },
        {
          "output_type": "display_data",
          "data": {
            "image/png": "[encoded data removed]",
            "text/plain": [
              "<Figure size 432x288 with 1 Axes>"
            ]
          },
          "metadata": {
            "needs_background": "light"
          }
        }
      ]
    },
    {
      "cell_type": "code",
      "metadata": {
        "id": "3pvUxeI_Qz2s"
      },
      "source": [
        "#images[0].shape"
      ],
      "execution_count": null,
      "outputs": []
    },
    {
      "cell_type": "code",
      "metadata": {
        "id": "5SsiXbLem3BH"
      },
      "source": [
        "class Net(nn.Module):\n",
        "    def __init__(self):\n",
        "        super(Net, self).__init__()\n",
        "        self.conv1 = nn.Conv2d(1, 32, kernel_size=5)\n",
        "        self.conv2 = nn.Conv2d(32, 64, kernel_size=5)\n",
        "        \n",
        "        self.fc1 = nn.Linear(64*13*13, 500)\n",
        "        self.fc2 = nn.Linear(500, 15)\n",
        "\n",
        "        self.log_softmax = nn.LogSoftmax(dim=0)\n",
        "        self.conv2_drop = nn.Dropout2d()\n",
        "\n",
        "    def forward(self, x):\n",
        "        x = x.unsqueeze(1)\n",
        "        x = F.relu(F.max_pool2d(self.conv1(x), 2))\n",
        "        x = F.relu(F.max_pool2d(self.conv2_drop(self.conv2(x)), 2))\n",
        "        x = torch.flatten(x, start_dim=1)\n",
        "        x = F.relu(self.fc1(x))\n",
        "        #x = F.dropout(x, training=self.training)\n",
        "        x = self.fc2(x)\n",
        "        \n",
        "        output = self.log_softmax(x)\n",
        "        return output\n",
        "\n",
        "model = Net()\n",
        "            "
      ],
      "execution_count": null,
      "outputs": []
    },
    {
      "cell_type": "code",
      "metadata": {
        "id": "Iv73cCuGrViK"
      },
      "source": [
        "#summary(model,(64,64))"
      ],
      "execution_count": null,
      "outputs": []
    },
    {
      "cell_type": "code",
      "metadata": {
        "id": "by-2Mm0iV8Rz"
      },
      "source": [
        "los = nn.CrossEntropyLoss()"
      ],
      "execution_count": null,
      "outputs": []
    },
    {
      "cell_type": "code",
      "metadata": {
        "id": "DShesmNgV8R0"
      },
      "source": [
        "optimizer = optim.Adam(model.parameters(), lr=0.001,)\n",
        "scheduler = torch.optim.lr_scheduler.ReduceLROnPlateau(optimizer)\n",
        "#optimizer = optim.SGD(model.parameters(),lr = 0.001,momentum=1)"
      ],
      "execution_count": null,
      "outputs": []
    },
    {
      "cell_type": "code",
      "metadata": {
        "colab": {
          "base_uri": "https://localhost:8080/"
        },
        "id": "UlIB6CsXaHE6",
        "outputId": "15592102-8b09-44a4-c6ce-957abdcc7d66"
      },
      "source": [
        "epochs = 5\n",
        "#learning_rate = 0.001\n",
        "#decay_rate = learning_rate / epochs\n",
        "#optimizer = optim.Adagrad(model.parameters(),lr = learning_rate)\n",
        "print_every = 96\n",
        "\n",
        "for e in range(epochs):\n",
        "    running_loss = 0\n",
        "    print(f\"Epoch: {e+1}/{epochs}\")\n",
        "\n",
        "    for i, (images, labels) in enumerate(iter(trainloader)):\n",
        "\n",
        "        # turn it to float and resize\n",
        "        \n",
        "        images = images.resize_(images.size()[0], 64,64).float()\n",
        "        optimizer.zero_grad()\n",
        "        \n",
        "        output = model.forward(images)   # 1) Forward pass\n",
        "        losss = los(output, labels)     # 2) Compute loss\n",
        "        losss.backward()                  # 3) Backward pass\n",
        "        optimizer.step()                 # 4) Update model\n",
        "        \n",
        "        running_loss += losss.item()\n",
        "        \n",
        "        if i % print_every == 0:\n",
        "            print(f\"\\tIteration: {i}\\t Loss: {running_loss/len(trainloader):.3f}\")\n",
        "            running_loss = 0"
      ],
      "execution_count": null,
      "outputs": [
        {
          "output_type": "stream",
          "name": "stdout",
          "text": [
            "Epoch: 1/5\n",
            "\tIteration: 0\t Loss: 0.008\n",
            "\tIteration: 184\t Loss: 0.684\n",
            "\tIteration: 368\t Loss: 0.379\n",
            "Epoch: 2/5\n",
            "\tIteration: 0\t Loss: 0.001\n",
            "\tIteration: 184\t Loss: 0.226\n",
            "\tIteration: 368\t Loss: 0.208\n",
            "Epoch: 3/5\n",
            "\tIteration: 0\t Loss: 0.001\n",
            "\tIteration: 184\t Loss: 0.160\n",
            "\tIteration: 368\t Loss: 0.162\n",
            "Epoch: 4/5\n",
            "\tIteration: 0\t Loss: 0.001\n",
            "\tIteration: 184\t Loss: 0.129\n",
            "\tIteration: 368\t Loss: 0.133\n",
            "Epoch: 5/5\n",
            "\tIteration: 0\t Loss: 0.001\n",
            "\tIteration: 184\t Loss: 0.126\n",
            "\tIteration: 368\t Loss: 0.119\n"
          ]
        }
      ]
    },
    {
      "cell_type": "code",
      "metadata": {
        "colab": {
          "base_uri": "https://localhost:8080/"
        },
        "id": "K1C0unbh0vuN",
        "outputId": "48d0040d-8c69-4e58-e2a0-742f2da3d7ae"
      },
      "source": [
        "test_size = len(test_ds)\n",
        "train_size = len(train_ds)\n",
        "r_labels = np.array([])\n",
        "preds  = np.array([])\n",
        "\n",
        "correct_preds = np.array([])\n",
        "\n",
        "\n",
        "for i, (images, labels) in enumerate(iter(testloader)):\n",
        "  model.eval()\n",
        "\n",
        "  # turn it to float and resize\n",
        "    \n",
        "  images = images.resize_(images.size()[0], 64,64).float()\n",
        "\n",
        "  outputs = model(images)\n",
        "\n",
        "  loss = los(outputs, labels)\n",
        "\n",
        "\n",
        "\n",
        "  r_labels = np.concatenate((r_labels, labels.numpy()))\n",
        "\n",
        "\n",
        "  for index, item in enumerate(outputs):\n",
        "      if r_labels[index] == torch.argmax(item):\n",
        "          correct_preds += 1\n",
        "\n",
        "      preds  = np.concatenate((preds, torch.argmax(item).unsqueeze(-1).detach().numpy()))\n",
        "\n",
        "\n",
        "conf_mat = confusion_matrix(r_labels, preds)\n",
        "\n",
        "\n",
        "accuracy_scores= a_s(r_labels, preds)\n",
        "\n",
        "print(f'Test results with respect to confusion matrix: \\n{conf_mat} \\nand the accuracy score is : \\n {accuracy_scores}')\n",
        "# it 92% so far\n"
      ],
      "execution_count": null,
      "outputs": [
        {
          "output_type": "stream",
          "name": "stdout",
          "text": [
            "Test results with respect to confusion matrix: \n",
            "[[982   1   0   2   1   1   0   1   0   1   1   2   4   3   1]\n",
            " [  0 986   6   0   2   0   2   0   1   0   1   0   0   2   0]\n",
            " [  1  17 952  21   0   4   1   0   1   0   0   0   2   0   1]\n",
            " [  3   5 154 822   0   3   4   1   2   0   0   1   3   0   2]\n",
            " [  3   1   1   0 955   4   1   2   2   4   2  23   0   0   2]\n",
            " [  1   2   5  28   1 953   0   0   1   2   1   4   1   1   0]\n",
            " [  8   2   4   8   1   2 942   1   6   9   6   1   4   5   1]\n",
            " [  6   1   1   1   1   3   2 954   3  17   4   1   4   0   2]\n",
            " [  1   1   0   0   2   0   4   0 982   6   1   2   1   0   0]\n",
            " [  2   1   0   1   0   4   4  19   4 942   3   2   1   1  16]\n",
            " [  2   1   0   0   2   2   5   3   1   3 939   1  37   3   1]\n",
            " [  3   0   2   2  15  13   1   3   2   2   2 933   3  18   1]\n",
            " [  2   1   5   2   2   7   2   2   2   1  35   3 929   2   5]\n",
            " [  8   9   1   0   1   2  10   1   1   7   1  15   5 937   2]\n",
            " [  3   1   1   1   5   7   3   5  11  33   0   3   3   1 923]] \n",
            "and the accuracy score is : \n",
            " 0.9420666666666667\n"
          ]
        }
      ]
    },
    {
      "cell_type": "code",
      "metadata": {
        "id": "ja_LTtpiA1f9"
      },
      "source": [
        "dict = {'九':9,'十 ':10,'百':100,'千':1000,'万':10000,'亿':100000000,'零':0,'一':1,'二':2,'三':3,'四':4,'五':5,'六':6,'七':100,'八':8}"
      ],
      "execution_count": null,
      "outputs": []
    },
    {
      "cell_type": "code",
      "metadata": {
        "id": "L_6JULh429t0"
      },
      "source": [
        "\n",
        "for i,(images,labels) in enumerate(iter(testloader)):\n",
        "    \n",
        "  with torch.no_grad():\n",
        "\n",
        "    images = images.resize_(images.size()[0], 64,64).float()\n",
        "    output = model(images)\n",
        "\n",
        "\n",
        "\n",
        "#dict[int(output[0])]\n",
        "#it works"
      ],
      "execution_count": null,
      "outputs": []
    },
    {
      "cell_type": "code",
      "metadata": {
        "colab": {
          "base_uri": "https://localhost:8080/",
          "height": 285
        },
        "id": "1HbnjBgk90Xg",
        "outputId": "bfe90f1f-f199-47b9-c616-6d613943a292"
      },
      "source": [
        "plt.imshow(images[9,:,:])"
      ],
      "execution_count": null,
      "outputs": [
        {
          "output_type": "execute_result",
          "data": {
            "text/plain": [
              "<matplotlib.image.AxesImage at 0x7f91b4da7bd0>"
            ]
          },
          "metadata": {},
          "execution_count": 278
        },
        {
          "output_type": "display_data",
          "data": {
            "image/png": "[encoded data removed]",
            "text/plain": [
              "<Figure size 432x288 with 1 Axes>"
            ]
          },
          "metadata": {
            "needs_background": "light"
          }
        }
      ]
    },
    {
      "cell_type": "code",
      "metadata": {
        "colab": {
          "base_uri": "https://localhost:8080/"
        },
        "id": "2cUSr77u9v9y",
        "outputId": "31ec7f89-ed7a-47c8-d1f0-b9545303accf"
      },
      "source": [
        "print(dict[output[9,:].argmax().item()])\n"
      ],
      "execution_count": null,
      "outputs": [
        {
          "output_type": "stream",
          "name": "stdout",
          "text": [
            "五\n"
          ]
        }
      ]
    }
  ]
}