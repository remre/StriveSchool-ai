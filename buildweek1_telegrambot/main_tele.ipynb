{
  "nbformat": 4,
  "nbformat_minor": 0,
  "metadata": {
    "colab": {
      "name": "main_tele.ipynb",
      "provenance": [],
      "mount_file_id": "1eJjy90_d_boBbh7HFNIybA7xjLkMWSh2",
      "authorship_tag": "ABX9TyMHsJiEG4eliJ6LPhdE3awC",
      "include_colab_link": true
    },
    "kernelspec": {
      "name": "python3",
      "display_name": "Python 3"
    },
    "language_info": {
      "name": "python"
    }
  },
  "cells": [
    {
      "cell_type": "markdown",
      "metadata": {
        "id": "view-in-github",
        "colab_type": "text"
      },
      "source": [
        "<a href=\"https://colab.research.google.com/github/remre/StriveSchool-ai/blob/main/buildweek1_telegrambot/main_tele.ipynb\" target=\"_parent\"><img src=\"https://colab.research.google.com/assets/colab-badge.svg\" alt=\"Open In Colab\"/></a>"
      ]
    },
    {
      "cell_type": "code",
      "metadata": {
        "id": "DisSyIWR3a86"
      },
      "source": [
        "import constants_tele as keys\n",
        "import logging\n",
        "from telegram.ext import *\n",
        "import responses_tele as rt"
      ],
      "execution_count": 32,
      "outputs": []
    },
    {
      "cell_type": "code",
      "metadata": {
        "colab": {
          "base_uri": "https://localhost:8080/"
        },
        "id": "TABIeZfQ4nYK",
        "outputId": "f80a5f02-7ee8-486d-d36c-b6256a115148"
      },
      "source": [
        "print(\"Bot started\")\n",
        "API_KEY = \"1925711648:AAGQfHTwstC1kdxfEO6aogm6U7t_oxU6SMI\""
      ],
      "execution_count": 25,
      "outputs": [
        {
          "output_type": "stream",
          "text": [
            "Bot started\n"
          ],
          "name": "stdout"
        }
      ]
    },
    {
      "cell_type": "code",
      "metadata": {
        "colab": {
          "base_uri": "https://localhost:8080/"
        },
        "id": "xRzvQ-Hz4nan",
        "outputId": "0166cc56-c8b4-437c-ff1e-a972e962b317"
      },
      "source": [
        "logging.basicConfig(format='%(asctime)s - %(name)s - %(levelname)s - %(message)s', level=logging.INFO)\n",
        "logging.info('Starting Bot...')\n",
        "\n",
        "\n",
        "def start_command(update, context):\n",
        "  update.message.reply_text(\"Type something random like hi to get started!\")\n",
        "\n",
        "def help_command(update, context):\n",
        "  update.message.reply_text(\"IF u need help just Google it\")\n",
        "def handle_command(update, context):\n",
        "  text = str(update.message.text).lower()\n",
        "  logging.info(f'User ({update.message.chat.id}) says: {text}')\n",
        "  response = rt.get_response(text)\n",
        "  update.message.reply_text(response)\n",
        "\n",
        "def error(update,context):\n",
        "  print(f\"Update{update} caused a error {context.error}\")\n",
        "\n",
        "def main():\n",
        "  updater  = Updater(API_KEY, use_context = True)\n",
        "  dp = updater.dispatcher\n",
        "\n",
        "  dp.add_handler(CommandHandler(\"start\", start_command))\n",
        "  dp.add_handler(CommandHandler(\"help\", help_command))\n",
        "\n",
        "  dp.add_handler(MessageHandler(Filters.text, handle_command))\n",
        "\n",
        "  dp.add_error_handler(error)\n",
        "\n",
        "  updater.start_polling()\n",
        "\n",
        "  updater.idle()\n",
        "\n",
        "main()\n"
      ],
      "execution_count": 26,
      "outputs": [
        {
          "output_type": "stream",
          "text": [
            "2021-08-10 12:26:24,476 - root - INFO - Starting Bot...\n",
            "2021-08-10 12:26:24,484 - apscheduler.scheduler - INFO - Scheduler started\n",
            "2021-08-10 12:26:27,898 - root - INFO - User (734080841) says: hi\n"
          ],
          "name": "stderr"
        },
        {
          "output_type": "stream",
          "text": [
            "Update{'message': {'channel_chat_created': False, 'caption_entities': [], 'delete_chat_photo': False, 'text': 'hi', 'message_id': 21, 'new_chat_members': [], 'photo': [], 'supergroup_chat_created': False, 'chat': {'type': 'private', 'first_name': 'Emre', 'id': 734080841}, 'new_chat_photo': [], 'entities': [], 'date': 1628598387, 'group_chat_created': False, 'from': {'is_bot': False, 'first_name': 'Emre', 'id': 734080841, 'language_code': 'en'}}, 'update_id': 774559711} caused a error module 'responses_tele' has no attribute 'get_response'\n"
          ],
          "name": "stdout"
        },
        {
          "output_type": "stream",
          "text": [
            "2021-08-10 12:28:00,744 - telegram.ext.updater - INFO - Received signal 2 (SIGINT), stopping...\n",
            "2021-08-10 12:28:00,748 - apscheduler.scheduler - INFO - Scheduler has been shut down\n"
          ],
          "name": "stderr"
        }
      ]
    },
    {
      "cell_type": "code",
      "metadata": {
        "colab": {
          "base_uri": "https://localhost:8080/",
          "height": 162
        },
        "id": "0qAFouC29qHi",
        "outputId": "03a452c5-477f-4580-d9c9-22acd10def20"
      },
      "source": [
        "response = responses_tele.get_response(text)"
      ],
      "execution_count": 31,
      "outputs": [
        {
          "output_type": "error",
          "ename": "AttributeError",
          "evalue": "ignored",
          "traceback": [
            "\u001b[0;31m---------------------------------------------------------------------------\u001b[0m",
            "\u001b[0;31mAttributeError\u001b[0m                            Traceback (most recent call last)",
            "\u001b[0;32m<ipython-input-31-c8762d72a33b>\u001b[0m in \u001b[0;36m<module>\u001b[0;34m()\u001b[0m\n\u001b[0;32m----> 1\u001b[0;31m \u001b[0mresponse\u001b[0m \u001b[0;34m=\u001b[0m \u001b[0mresponses_tele\u001b[0m\u001b[0;34m.\u001b[0m\u001b[0mget_response\u001b[0m\u001b[0;34m(\u001b[0m\u001b[0mtext\u001b[0m\u001b[0;34m)\u001b[0m\u001b[0;34m\u001b[0m\u001b[0;34m\u001b[0m\u001b[0m\n\u001b[0m",
            "\u001b[0;31mAttributeError\u001b[0m: module 'responses_tele' has no attribute 'get_response'"
          ]
        }
      ]
    },
    {
      "cell_type": "code",
      "metadata": {
        "id": "ieUBTbaTCPY0"
      },
      "source": [
        ""
      ],
      "execution_count": null,
      "outputs": []
    }
  ]
}