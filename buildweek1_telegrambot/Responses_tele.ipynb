{
  "nbformat": 4,
  "nbformat_minor": 0,
  "metadata": {
    "colab": {
      "name": "Responses_tele.ipynb",
      "provenance": [],
      "collapsed_sections": [],
      "authorship_tag": "ABX9TyNgkcuCJrMdaYMSgcAHNZl5"
    },
    "kernelspec": {
      "name": "python3",
      "display_name": "Python 3"
    },
    "language_info": {
      "name": "python"
    }
  },
  "cells": [
    {
      "cell_type": "code",
      "metadata": {
        "id": "vXplz0Vq1md9"
      },
      "source": [
        "#import datetime\n",
        "#def s_responses(input_text):\n",
        "#  user_message =  str(input_text).lower\n",
        "#  if user_message in (\"hello\", \"hi\", \"sup\",\"naber kimsin\"):\n",
        "#    return \"Hey! Thats great pleasure to meet u\"\n",
        "#  if  user_message in (\"Who are u\",\"Where are u coming from?\"):\n",
        "#    return \"Im a a hasshhhhh bot\"\n",
        "#  if user_message in (\"time\", \"time?\"):\n",
        "#    now  = datetime.now()\n",
        "#    datetime = now.strftime(\"%d/%m/%y\", \"%H:%M:%S\")\n",
        "#    return str(datetime)\n",
        "#  return \"hey hey hey\""
      ],
      "execution_count": null,
      "outputs": []
    },
    {
      "cell_type": "code",
      "metadata": {
        "id": "oQq4mIic9umV"
      },
      "source": [
        "import re\n",
        "\n",
        "\n",
        "def process_message(message, response_array, response):\n",
        "    # Splits the message and the punctuation into an array\n",
        "    list_message = re.findall(r\"[\\w']+|[.,!?;]\", message.lower())\n",
        "\n",
        "    # Scores the amount of words in the message\n",
        "    score = 0\n",
        "    for word in list_message:\n",
        "        if word in response_array:\n",
        "            score = score + 1\n",
        "\n",
        "    # Returns the response and the score of the response\n",
        "    # print(score, response)\n",
        "    return [score, response]\n",
        "\n",
        "\n",
        "def get_response(message):\n",
        "    # Add your custom responses here\n",
        "    response_list = [\n",
        "        process_message(message, ['hello', 'hi', 'hey'], 'Hey there!'),\n",
        "        process_message(message, ['bye', 'goodbye'], 'Goodbye!'),\n",
        "        process_message(message, ['how', 'are', 'you'], 'I\\'m doing fine thanks!'),\n",
        "        process_message(message, ['your', 'name'], 'My name is Mario, nice to meet you!'),\n",
        "        process_message(message, ['help', 'me'], 'I will do my best to assist you!')\n",
        "        # Add more responses here\n",
        "    ]\n",
        "\n",
        "    # Checks all of the response scores and returns the best matching response\n",
        "    response_scores = []\n",
        "    for response in response_list:\n",
        "        response_scores.append(response[0])\n",
        "\n",
        "    # Get the max value for the best response and store it into a variable\n",
        "    winning_response = max(response_scores)\n",
        "    matching_response = response_list[response_scores.index(winning_response)]\n",
        "\n",
        "    # Return the matching response to the user\n",
        "    if winning_response == 0:\n",
        "        bot_response = 'Duzgun konus amcik.'\n",
        "    else:\n",
        "        bot_response = matching_response[1]\n",
        "\n",
        "    print('Bot response:', bot_response)\n",
        "    return bot_response\n",
        "\n",
        "# Test your system\n",
        "# get_response('What is your name bruv?')\n",
        "# get_response('Can you help me with something please?')"
      ],
      "execution_count": 5,
      "outputs": []
    },
    {
      "cell_type": "code",
      "metadata": {
        "id": "QVkEo6EgBfkN"
      },
      "source": [
        ""
      ],
      "execution_count": null,
      "outputs": []
    }
  ]
}