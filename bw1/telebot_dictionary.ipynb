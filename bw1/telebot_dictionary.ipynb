{
  "nbformat": 4,
  "nbformat_minor": 0,
  "metadata": {
    "colab": {
      "name": "telebot_dictionary.ipynb",
      "provenance": [],
      "collapsed_sections": [],
      "authorship_tag": "ABX9TyP429vlYKCSdMR0P51NzPyS",
      "include_colab_link": true
    },
    "kernelspec": {
      "name": "python3",
      "display_name": "Python 3"
    },
    "language_info": {
      "name": "python"
    },
    "accelerator": "GPU"
  },
  "cells": [
    {
      "cell_type": "markdown",
      "metadata": {
        "id": "view-in-github",
        "colab_type": "text"
      },
      "source": [
        "<a href=\"https://colab.research.google.com/github/remre/StriveSchool-ai/blob/main/bw1/telebot_dictionary.ipynb\" target=\"_parent\"><img src=\"https://colab.research.google.com/assets/colab-badge.svg\" alt=\"Open In Colab\"/></a>"
      ]
    },
    {
      "cell_type": "code",
      "metadata": {
        "id": "ZPE1_caFM1NQ"
      },
      "source": [
        "import asyncio\n",
        "import telepot\n",
        "import telepot.aio\n",
        "from telepot.aio.loop import MessageLoop\n",
        "from pprint import pprint\n",
        "from bs4 import BeautifulSoup\n",
        "import requests\n",
        "\t\n",
        "async def handle(msg):\n",
        "\t  global chat_id\n",
        "\t    # These are some useful variables\n",
        "\t  content_type, chat_type, chat_id = telepot.glance(msg)\n",
        "\t    # Log variables\n",
        "          #print(content_type, chat_type, chat_id)\n",
        "\t  pprint(msg)\n",
        "\t  username = msg['chat']['first_name']\n",
        "\t    # Check that the content type is text and not the starting\n",
        "\t  if content_type == 'text':\n",
        "\t      if msg['text'] != '/start':\n",
        "\t          text = msg['text']\n",
        "\t            # it's better to strip and lower the input\n",
        "\t          text = text.strip()\n",
        "\t          await getMeaning(text.lower())\n",
        "\n",
        "async def getMeaning(text):\n",
        "\t    # create url\n",
        "\t  url = 'https://www.oxfordlearnersdictionaries.com/definition/english/' + text\n",
        "\t    # get page\n",
        "\t  page = requests.get(url)\n",
        "\t    # let's soup the page\n",
        "\t  soup = BeautifulSoup(page.text, 'html.parser')\n",
        "\t  pprint(soup)\n",
        "\t  try:\n",
        "\t        # get MP3 and definition\n",
        "\t      try:\n",
        "\t            # get MP3\n",
        "\t          mp3link = soup.find('div', {'class': 'sound audio_play_button pron-uk icon-audio'}).get('data-src-mp3')\n",
        "\t          await bot.sendAudio(chat_id=chat_id, audio=mp3link)\n",
        "\t      except:\n",
        "\t          await bot.sendMessage(chat_id, 'Pronunciation not found!')\n",
        "\t      try:\n",
        "\t            # get definition\n",
        "\t          definition = soup.find('span', {'class': 'def'}).text\n",
        "\t          await bot.sendMessage(chat_id, definition)\n",
        "\t      except:\n",
        "\t          await bot.sendMessage(chat_id, 'Meaning not found!')\n",
        "\t  except:\n",
        "\t      await bot.sendMessage(chat_id, 'Something went wrong...')\n",
        "\n",
        "\t# Program startup\n",
        "TOKEN = 'paste here your token!'\n",
        "bot = telepot.aio.Bot(TOKEN)\n",
        "loop = asyncio.get_event_loop()\n",
        "loop.create_task(MessageLoop(bot, handle).run_forever())\n",
        "print('Listening ...')\n",
        "\n",
        "# Keep the program running\n",
        "loop.run_forever()"
      ],
      "execution_count": null,
      "outputs": []
    },
    {
      "cell_type": "code",
      "metadata": {
        "id": "tTvdG3ZsMhOa"
      },
      "source": [
        "import asyncio\n",
        "import telepot\n",
        "import telepot.aio\n",
        "from telepot.aio.loop import MessageLoop"
      ],
      "execution_count": 1,
      "outputs": []
    },
    {
      "cell_type": "code",
      "metadata": {
        "id": "nn6tMpT6LclK"
      },
      "source": [
        "logging.basicConfig(format='%(asctime)s - %(name)s - %(levelname)s - %(message)s', level=logging.INFO)\n",
        "logging.info('Starting Bot...')\n",
        "Token = \"1947545048:AAGTx9Uix-McN_QaDEGbPRcw_KVE8_laqSc\""
      ],
      "execution_count": null,
      "outputs": []
    },
    {
      "cell_type": "code",
      "metadata": {
        "id": "jO3uYBJlJhTe"
      },
      "source": [
        "async def handle(msg):\n",
        "  global chat_id\n",
        "  content_type, chat_type, chat_id = telepot.glance(msg)\n",
        "\n",
        "\n",
        "    #print(content_type, chat_type, chat_id)\n",
        "  pprint(msg)\n",
        "  username = msg['chat']['first_name']\n",
        "  if content_type == 'text':\n",
        "    if msg['text'] != '/start':\n",
        "      text = msg['text']\n",
        "      text = text.strip()\n",
        "      await getMeaning(text.lower())\n",
        "async def getMeaning(text):\n",
        "\n",
        "  url = \"https://www.merriam-webster.com/dictionary/\"+text\n",
        "\n",
        "  page = requests.get(url)\n",
        "\n",
        "  soup = BeautifulSoup(page.text, 'html.parser')\n",
        "  #pprint(soup)\n",
        "\n",
        "  try:\n",
        "    meaning = soup.find(\"span\" , class_ = \"dtText\").text\n",
        "    await bot.sendMessage(chat_id, definition)\n",
        "   \n",
        "  except:\n",
        "    await bot.sendMessage(chat_id, 'Meaning not found!')\n",
        "\n",
        "\n",
        "\n",
        "Token = \"1947545048:AAGTx9Uix-McN_QaDEGbPRcw_KVE8_laqSc\"\n",
        "bot = telepot.aio.Bot(Token)\n",
        "loop = asyncio.get_event_loop()\n",
        "loop.create_task(MessageLoop(bot, handle).run_forever())\n",
        "print('Listening ...')\n",
        "await coro()\n",
        "asyncio.create_task(coro())\n",
        "loop.run_forever()\n"
      ],
      "execution_count": null,
      "outputs": []
    }
  ]
}