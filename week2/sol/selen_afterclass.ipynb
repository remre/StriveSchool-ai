{
  "nbformat": 4,
  "nbformat_minor": 0,
  "metadata": {
    "colab": {
      "name": "selen_afterclass.ipynb",
      "provenance": [],
      "collapsed_sections": [],
      "authorship_tag": "ABX9TyM6CG9SLRd8n0tIQ4Q+A5my",
      "include_colab_link": true
    },
    "kernelspec": {
      "name": "python3",
      "display_name": "Python 3"
    },
    "language_info": {
      "name": "python"
    }
  },
  "cells": [
    {
      "cell_type": "markdown",
      "metadata": {
        "id": "view-in-github",
        "colab_type": "text"
      },
      "source": [
        "<a href=\"https://colab.research.google.com/github/remre/StriveSchool-ai/blob/main/week2/sol/selen_afterclass.ipynb\" target=\"_parent\"><img src=\"https://colab.research.google.com/assets/colab-badge.svg\" alt=\"Open In Colab\"/></a>"
      ]
    },
    {
      "cell_type": "code",
      "metadata": {
        "id": "_kKtdktSuZRW"
      },
      "source": [
        "'''from selenium import webdriver\n",
        "from time import sleep\n",
        "url = \"https://www.ebay.com/\"\n",
        "ssl = driver.get(url)\n",
        "search_bar = driver.find_element_by_xpath(\"/html/body/header/table/tbody/tr/td[3]/form/table/tbody/tr/td[1]/div[1]/div/input[1]\")\n",
        "search_bar.send_keys(\"laptop\")\n",
        "search_click = driver.find_element_by_xpath(\"/html/body/header/table/tbody/tr/td[3]/form/table/tbody/tr/td[1]/div[1]/div/input[1]\")\n",
        "search_button.click()'''\n",
        "\n",
        "from selenium import webdriver\n",
        "import selenium\n",
        "from selenium.webdriver.common.keys import Keys\n",
        "from time import sleep\n",
        "\n",
        "\n",
        "url = 'https://www.ebay.com/'\n",
        "my_driver = \"chromedriver.exe\"\n",
        "\n",
        "driver = webdriver.Chrome(my_driver)\n",
        "\n",
        "driver.get(url)\n",
        "\n",
        "sleep(1)\n",
        "\n",
        "search_bar = driver.find_element_by_xpath('/html/body/header/table/tbody/tr/td[5]/form/table/tbody/tr/td[1]/div[1]/div/input[1]')\n",
        "\n",
        "search_bar.send_keys(\"laptop\")\n",
        "\n",
        "#                               tag   @ atribute\n",
        "search_button =  driver.find_element_by_xpath('//input[@class=\"btn btn-prim gh-spr\"]')\n",
        "\n",
        "search_button.click()\n",
        "\n",
        "sleep(3)\n",
        "\n",
        "\n",
        "\n",
        "\n",
        "\n",
        "screen_size =  driver.find_element_by_xpath('/html/body/div[4]/div[3]/ul/li[1]/ul/li[2]/ul/li[1]/div[2]/div/div/button')\n",
        "screen_size.click()\n",
        "\n",
        "\n",
        "sleep(3)\n",
        "\n",
        "\n",
        "\n",
        "os =  driver.find_element_by_xpath('/html/body/div[13]/div[2]/div/form/div[1]/div[2]/div[1]/div/fieldset/div[1]/div[5]/label/div/span/input')\n",
        "os.click()\n",
        "\n",
        "sleep(1)\n",
        "\n",
        "\n",
        "\n",
        "screen =  driver.find_element_by_xpath('/html/body/div[13]/div[2]/div/form/div[1]/div[1]/div/div[3]')\n",
        "screen .click()\n",
        "\n",
        "sleep(2)\n",
        "\n",
        "\n",
        "\n",
        "screen_size =  driver.find_element_by_xpath('/html/body/div[13]/div[2]/div/form/div[1]/div[2]/div[1]/div/fieldset/div[1]/div[2]/label/div/span/input')\n",
        "screen_size.click()\n",
        "\n",
        "sleep(1)\n",
        "\n",
        "\n",
        "\n",
        "apply =  driver.find_element_by_xpath('/html/body/div[13]/div[2]/div/form/div[3]/div[2]/button')\n",
        "apply.click()"
      ],
      "execution_count": null,
      "outputs": []
    },
    {
      "cell_type": "code",
      "metadata": {
        "id": "n-UjWkGVvX4t"
      },
      "source": [
        ""
      ],
      "execution_count": null,
      "outputs": []
    }
  ]
}