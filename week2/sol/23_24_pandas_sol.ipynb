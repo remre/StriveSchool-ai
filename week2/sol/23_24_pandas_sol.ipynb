{
  "nbformat": 4,
  "nbformat_minor": 0,
  "metadata": {
    "colab": {
      "name": "23_24_pandas_sol.ipynb",
      "provenance": [],
      "authorship_tag": "ABX9TyOQd4L2YbWmORRYrE+bHHKa",
      "include_colab_link": true
    },
    "kernelspec": {
      "name": "python3",
      "display_name": "Python 3"
    },
    "language_info": {
      "name": "python"
    }
  },
  "cells": [
    {
      "cell_type": "markdown",
      "metadata": {
        "id": "view-in-github",
        "colab_type": "text"
      },
      "source": [
        "<a href=\"https://colab.research.google.com/github/remre/StriveSchool-ai/blob/main/week2/sol/23_24_pandas_sol.ipynb\" target=\"_parent\"><img src=\"https://colab.research.google.com/assets/colab-badge.svg\" alt=\"Open In Colab\"/></a>"
      ]
    },
    {
      "cell_type": "markdown",
      "metadata": {
        "id": "QVzFCfeIyZqR"
      },
      "source": [
        "23. Given a DataFrame of numeric values, say\n",
        "\n",
        "df = pd.DataFrame(np.random.random(size=(5, 3))) # a 5x3 frame of float values\n",
        "\n",
        "how do you subtract the row mean from each element in the row?"
      ]
    },
    {
      "cell_type": "code",
      "metadata": {
        "colab": {
          "base_uri": "https://localhost:8080/"
        },
        "id": "Hi1YZroZvRpX",
        "outputId": "32124a63-de3f-442a-c90b-1a927c090652"
      },
      "source": [
        "#importing necessary libraries\n",
        "import pandas as pd\n",
        "import numpy as np\n",
        "\n",
        "#creating dataset\n",
        "df = pd.DataFrame(np.random.random(size=(5, 3)))\n",
        "\n",
        "\n",
        "df[\"mean\"]=df.mean(axis=1)#to check mean values are there\n",
        "print(df)\n",
        "xy = df.apply(lambda x: x.mean()-x, axis=1)#not changing df just \"apply\" axis 1 stands for indexes|\n",
        "print(xy)"
      ],
      "execution_count": 1,
      "outputs": [
        {
          "output_type": "stream",
          "text": [
            "          0         1         2      mean\n",
            "0  0.521661  0.450286  0.104277  0.358741\n",
            "1  0.199574  0.496226  0.538955  0.411585\n",
            "2  0.659599  0.096105  0.407336  0.387680\n",
            "3  0.947670  0.496436  0.153799  0.532635\n",
            "4  0.246109  0.767131  0.628026  0.547089\n",
            "          0         1         2  mean\n",
            "0 -0.162920 -0.091544  0.254464   0.0\n",
            "1  0.212011 -0.084641 -0.127370   0.0\n",
            "2 -0.271919  0.291575 -0.019656   0.0\n",
            "3 -0.415035  0.036199  0.378836   0.0\n",
            "4  0.300979 -0.220042 -0.080937   0.0\n"
          ],
          "name": "stdout"
        }
      ]
    },
    {
      "cell_type": "markdown",
      "metadata": {
        "id": "irFnd7wZyodv"
      },
      "source": [
        "**24.** Suppose you have DataFrame with 10 columns of real numbers, for example:\n",
        "\n",
        "```python\n",
        "df = pd.DataFrame(np.random.random(size=(5, 10)), columns=list('abcdefghij'))\n",
        "```\n",
        "Which column of numbers has the smallest sum? (Find that column's label.)"
      ]
    },
    {
      "cell_type": "code",
      "metadata": {
        "colab": {
          "base_uri": "https://localhost:8080/",
          "height": 35
        },
        "id": "cR1WRro3yhwV",
        "outputId": "8417651b-6bfb-494b-c59a-716fd7d88b70"
      },
      "source": [
        "dff = pd.DataFrame(np.random.random(size=(5, 10)), columns=list('abcdefghij'))\n",
        "#xx =dff.sum(axis =0).min() Im working on it\n",
        "dff.sum().idxmin(axis =1 ) # actually idxmin stands for index of first occurrence of minimum over requested axis"
      ],
      "execution_count": 2,
      "outputs": [
        {
          "output_type": "execute_result",
          "data": {
            "application/vnd.google.colaboratory.intrinsic+json": {
              "type": "string"
            },
            "text/plain": [
              "'e'"
            ]
          },
          "metadata": {
            "tags": []
          },
          "execution_count": 2
        }
      ]
    },
    {
      "cell_type": "code",
      "metadata": {
        "id": "KWpOdueEyrzi"
      },
      "source": [
        ""
      ],
      "execution_count": null,
      "outputs": []
    }
  ]
}