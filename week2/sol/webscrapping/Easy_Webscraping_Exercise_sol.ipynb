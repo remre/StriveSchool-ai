{
  "nbformat": 4,
  "nbformat_minor": 0,
  "metadata": {
    "colab": {
      "name": "Easy_Webscraping_Exercise_sol.ipynb",
      "provenance": [],
      "collapsed_sections": [],
      "authorship_tag": "ABX9TyNWWc/1TCmrd2P77uBrSZ36",
      "include_colab_link": true
    },
    "kernelspec": {
      "name": "python3",
      "display_name": "Python 3"
    },
    "language_info": {
      "name": "python"
    }
  },
  "cells": [
    {
      "cell_type": "markdown",
      "metadata": {
        "id": "view-in-github",
        "colab_type": "text"
      },
      "source": [
        "<a href=\"https://colab.research.google.com/github/remre/StriveSchool-ai/blob/main/week2/sol/webscrapping/Easy_Webscraping_Exercise_sol.ipynb\" target=\"_parent\"><img src=\"https://colab.research.google.com/assets/colab-badge.svg\" alt=\"Open In Colab\"/></a>"
      ]
    },
    {
      "cell_type": "code",
      "metadata": {
        "id": "CBMNXDptBrdF"
      },
      "source": [
        "import pandas as pd\n",
        "import requests\n",
        "from bs4 import BeautifulSoup as bs\n",
        "import datetime \n",
        "from dateutil.parser import parse\n",
        "from datetime import timedelta"
      ],
      "execution_count": 1,
      "outputs": []
    },
    {
      "cell_type": "code",
      "metadata": {
        "colab": {
          "base_uri": "https://localhost:8080/"
        },
        "id": "HJelAWZEBr_w",
        "outputId": "11bbdc55-6819-40c0-91d0-6c4067c760d0"
      },
      "source": [
        "#getting url and making request\n",
        "url = \"https://forecast.weather.gov/MapClick.php?lat=37.777120000000025&lon=-122.41963999999996#.YOWZbJgzbX6\"\n",
        "page = requests.get(url)\n",
        "print(page)#checking for Response 200\n",
        "\n",
        "soup = bs(page.content , \"html.parser\")#content is html thing"
      ],
      "execution_count": 2,
      "outputs": [
        {
          "output_type": "stream",
          "text": [
            "<Response [200]>\n"
          ],
          "name": "stdout"
        }
      ]
    },
    {
      "cell_type": "code",
      "metadata": {
        "colab": {
          "base_uri": "https://localhost:8080/"
        },
        "id": "Snp7O1TsBsDv",
        "outputId": "d6f3e993-01e0-4fc0-8e89-62c5a76a165b"
      },
      "source": [
        "# getting dayszzz\n",
        "times =soup.find_all(\"div\", class_=\"col-sm-2 forecast-label\")\n",
        "list_of_times = []\n",
        "for t in times:\n",
        "  list_of_times.append(t.text)\n",
        "list_of_times\n",
        "len(list_of_times)"
      ],
      "execution_count": 3,
      "outputs": [
        {
          "output_type": "execute_result",
          "data": {
            "text/plain": [
              "13"
            ]
          },
          "metadata": {
            "tags": []
          },
          "execution_count": 3
        }
      ]
    },
    {
      "cell_type": "code",
      "metadata": {
        "colab": {
          "base_uri": "https://localhost:8080/",
          "height": 272
        },
        "id": "aFdH6QkrBsIB",
        "outputId": "b1975373-bec1-4a9a-9856-c55a4833972d"
      },
      "source": [
        "#to get dates\n",
        "divs = soup.find_all(\"div\", {\"id\": \"seven-day-forecast-container\"})[0]\n",
        "pp = divs.find_all(\"p\")\n",
        "\n",
        "#save into a list\n",
        "p_list=[]\n",
        "for el in pp:\n",
        "    p_list.append(el.get_text())\n",
        "p_list\n",
        "p_list = [p_list[i:i+8] for i in range(0,len(p_list),8)]\n",
        "today = soup.find_all(\"div\", {\"id\":\"current_conditions_detail\"})[0].find_all(\"td\")[-1].get_text().strip()\n",
        "i = 1\n",
        "dict = {}\n",
        "for ele in p_list:\n",
        "\n",
        "    date = parse(today).date()+timedelta(days=i)  #Extracting days\n",
        "    \n",
        "    dict[f\"Day{i}\"] = [date, ele[0],f\"{ele[2]} and later {ele[-2]}\",\n",
        "    str(round((float(ele[-1][-5:-3])-32)*5/9,2))+\"C\",#converting F to Celcius\n",
        "    str(round((float(ele[3][-5:-3])-32)*5/9,2))+\"C\"]  ##converting F to Celcius\n",
        "    \n",
        "    i += 1\n",
        "\n",
        "\n",
        "\n",
        "#load dict into pandas\n",
        "df = pd.DataFrame(dict, index=[\"Date\", \"Days\", \"Short Description\",\"Low in °C\",\"High in °C\"])\n",
        "df"
      ],
      "execution_count": 8,
      "outputs": [
        {
          "output_type": "stream",
          "text": [
            "/usr/local/lib/python3.7/dist-packages/dateutil/parser/_parser.py:1218: UnknownTimezoneWarning: tzname PDT identified but not understood.  Pass `tzinfos` argument in order to correctly return a timezone-aware datetime.  In a future version, this will raise an exception.\n",
            "  category=UnknownTimezoneWarning)\n"
          ],
          "name": "stderr"
        },
        {
          "output_type": "execute_result",
          "data": {
            "text/html": [
              "<div>\n",
              "<style scoped>\n",
              "    .dataframe tbody tr th:only-of-type {\n",
              "        vertical-align: middle;\n",
              "    }\n",
              "\n",
              "    .dataframe tbody tr th {\n",
              "        vertical-align: top;\n",
              "    }\n",
              "\n",
              "    .dataframe thead th {\n",
              "        text-align: right;\n",
              "    }\n",
              "</style>\n",
              "<table border=\"1\" class=\"dataframe\">\n",
              "  <thead>\n",
              "    <tr style=\"text-align: right;\">\n",
              "      <th></th>\n",
              "      <th>Day1</th>\n",
              "      <th>Day2</th>\n",
              "      <th>Day3</th>\n",
              "      <th>Day4</th>\n",
              "      <th>Day5</th>\n",
              "    </tr>\n",
              "  </thead>\n",
              "  <tbody>\n",
              "    <tr>\n",
              "      <th>Date</th>\n",
              "      <td>2021-07-08</td>\n",
              "      <td>2021-07-09</td>\n",
              "      <td>2021-07-10</td>\n",
              "      <td>2021-07-11</td>\n",
              "      <td>2021-07-12</td>\n",
              "    </tr>\n",
              "    <tr>\n",
              "      <th>Days</th>\n",
              "      <td>Today</td>\n",
              "      <td>Thursday</td>\n",
              "      <td>Friday</td>\n",
              "      <td>Saturday</td>\n",
              "      <td>Sunday</td>\n",
              "    </tr>\n",
              "    <tr>\n",
              "      <th>Short Description</th>\n",
              "      <td>Partly Sunnythen Sunnyand Breezy and later Par...</td>\n",
              "      <td>BecomingSunny and later Mostly Clearand Breezy...</td>\n",
              "      <td>Sunny thenSunny andBreezy and later Mostly Cle...</td>\n",
              "      <td>Sunny and later Mostly Clear</td>\n",
              "      <td>Sunny and later Sunny</td>\n",
              "    </tr>\n",
              "    <tr>\n",
              "      <th>Low in °C</th>\n",
              "      <td>12.78C</td>\n",
              "      <td>13.89C</td>\n",
              "      <td>13.33C</td>\n",
              "      <td>13.33C</td>\n",
              "      <td>23.33C</td>\n",
              "    </tr>\n",
              "    <tr>\n",
              "      <th>High in °C</th>\n",
              "      <td>18.89C</td>\n",
              "      <td>23.33C</td>\n",
              "      <td>23.33C</td>\n",
              "      <td>23.89C</td>\n",
              "      <td>23.33C</td>\n",
              "    </tr>\n",
              "  </tbody>\n",
              "</table>\n",
              "</div>"
            ],
            "text/plain": [
              "                                                                Day1  ...                   Day5\n",
              "Date                                                      2021-07-08  ...             2021-07-12\n",
              "Days                                                           Today  ...                 Sunday\n",
              "Short Description  Partly Sunnythen Sunnyand Breezy and later Par...  ...  Sunny and later Sunny\n",
              "Low in °C                                                     12.78C  ...                 23.33C\n",
              "High in °C                                                    18.89C  ...                 23.33C\n",
              "\n",
              "[5 rows x 5 columns]"
            ]
          },
          "metadata": {
            "tags": []
          },
          "execution_count": 8
        }
      ]
    },
    {
      "cell_type": "code",
      "metadata": {
        "id": "DbeuONnhBsKQ"
      },
      "source": [
        "|type(ele)"
      ],
      "execution_count": null,
      "outputs": []
    },
    {
      "cell_type": "code",
      "metadata": {
        "id": "3saV91YFBsMS"
      },
      "source": [
        ""
      ],
      "execution_count": null,
      "outputs": []
    }
  ]
}