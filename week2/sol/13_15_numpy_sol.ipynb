{
  "nbformat": 4,
  "nbformat_minor": 0,
  "metadata": {
    "colab": {
      "name": "13/15_numpy_sol.ipynb",
      "provenance": [],
      "authorship_tag": "ABX9TyMC17CF4RuzCSM4WbXCGgna",
      "include_colab_link": true
    },
    "kernelspec": {
      "name": "python3",
      "display_name": "Python 3"
    },
    "language_info": {
      "name": "python"
    }
  },
  "cells": [
    {
      "cell_type": "markdown",
      "metadata": {
        "id": "view-in-github",
        "colab_type": "text"
      },
      "source": [
        "<a href=\"https://colab.research.google.com/github/remre/StriveSchool-ai/blob/main/week2/sol/13_15_numpy_sol.ipynb\" target=\"_parent\"><img src=\"https://colab.research.google.com/assets/colab-badge.svg\" alt=\"Open In Colab\"/></a>"
      ]
    },
    {
      "cell_type": "markdown",
      "metadata": {
        "id": "DkFd4pwX83f5"
      },
      "source": [
        "## #### 13. Create a 10x10 array with random values and find the minimum and maximum values (★☆☆)"
      ]
    },
    {
      "cell_type": "code",
      "metadata": {
        "id": "sRlVh5K584dZ"
      },
      "source": [
        "import numpy as np\n",
        "x= np.random.randint(10, size=(10,10))\n",
        "maxElement = np.amax(x)\n",
        "minElement = np.amin(x)\n",
        "print(\"Max element in rand array :\", maxElement ,\"minimum  :\",minElement)"
      ],
      "execution_count": null,
      "outputs": []
    },
    {
      "cell_type": "markdown",
      "metadata": {
        "id": "0F7BM87C8-_v"
      },
      "source": [
        "# #### 15. Create a 2d array with 1 on the border and 0 inside (★☆☆)"
      ]
    },
    {
      "cell_type": "code",
      "metadata": {
        "id": "UcBiwG9S8_KZ"
      },
      "source": [
        "x = np.random.randint(7, size=(5,5))\n",
        "x = np.pad(x, pad_width=1, constant_values=1)#pad_with is for how many lines it should add to an array and constant_Values is actually what value u want to add\n",
        "x"
      ],
      "execution_count": null,
      "outputs": []
    }
  ]
}