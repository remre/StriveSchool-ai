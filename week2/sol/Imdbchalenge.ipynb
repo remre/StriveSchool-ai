{
  "nbformat": 4,
  "nbformat_minor": 0,
  "metadata": {
    "colab": {
      "name": "Imdbchalenge.ipynb",
      "provenance": [],
      "collapsed_sections": [],
      "authorship_tag": "ABX9TyPrAl5bg4ES2tMHwlU7iJO2",
      "include_colab_link": true
    },
    "kernelspec": {
      "display_name": "Python 3",
      "name": "python3"
    },
    "language_info": {
      "name": "python"
    }
  },
  "cells": [
    {
      "cell_type": "markdown",
      "metadata": {
        "id": "view-in-github",
        "colab_type": "text"
      },
      "source": [
        "<a href=\"https://colab.research.google.com/github/remre/StriveSchool-ai/blob/main/week2/sol/Imdbchalenge.ipynb\" target=\"_parent\"><img src=\"https://colab.research.google.com/assets/colab-badge.svg\" alt=\"Open In Colab\"/></a>"
      ]
    },
    {
      "cell_type": "code",
      "metadata": {
        "id": "UX78-QdOP0tT",
        "colab": {
          "base_uri": "https://localhost:8080/"
        },
        "outputId": "4bcd97c0-6bbc-445f-8117-dc7ff4d8c524"
      },
      "source": [
        "import pandas as pd\n",
        "import time\n",
        "import numpy as np\n",
        "from bs4 import BeautifulSoup as bs\n",
        "import requests\n",
        "import seaborn as sns\n",
        "import matplotlib.pyplot as plt\n",
        "\n",
        "url = \"https://www.imdb.com/list/ls009668579/\"\n",
        "page = requests.get(url)\n",
        "print(page)#checking for Response 200\n"
      ],
      "execution_count": 2,
      "outputs": [
        {
          "output_type": "stream",
          "text": [
            "<Response [200]>\n"
          ],
          "name": "stdout"
        }
      ]
    },
    {
      "cell_type": "code",
      "metadata": {
        "id": "0HajhWm1Q2RD",
        "colab": {
          "base_uri": "https://localhost:8080/"
        },
        "outputId": "6e9658a8-30d8-44bc-b8b6-05ad5aca37c7"
      },
      "source": [
        "soup = bs(page.content , \"html.parser\")\n",
        "# need a list of names release dates +, duration+, rating, stars and directors, number of votes, box office, desc+, genre+ metascore+)\n",
        "#to list of names and the release date\n",
        "\n",
        "m_frame = soup.find(\"div\" , class_ = \"lister-list\")\n",
        "m_name = m_frame.findAll(\"h3\", class_=\"lister-item-header\")\n",
        "\n",
        "m_name_list =[name.text.strip().split(\"\\n\") for name in m_name] \n",
        "m_name_list_t = np.array(m_name_list).T.tolist()\n",
        "m_names = m_name_list_t[:][1]\n",
        "m_r_date = m_name_list_t[:][2]\n",
        "m_r_dates = [int(i.replace(\"(\",\" \").replace(\")\",\"\").replace(\"I\",\"\").strip()) for i in m_r_date]\n",
        "m_r_dates\n",
        "len(m_r_dates)\n",
        "len(m_names)"
      ],
      "execution_count": 96,
      "outputs": [
        {
          "output_type": "execute_result",
          "data": {
            "text/plain": [
              "100"
            ]
          },
          "metadata": {
            "tags": []
          },
          "execution_count": 96
        }
      ]
    },
    {
      "cell_type": "code",
      "metadata": {
        "id": "ySP2F5yMTb84",
        "colab": {
          "base_uri": "https://localhost:8080/"
        },
        "outputId": "fde2940e-6386-4522-d752-aaea857cd048"
      },
      "source": [
        "\n",
        "#create descripton list \n",
        "m_desc = m_frame.findAll(\"p\",class_ =\"\" )\n",
        "m_desc_list = [d.text.strip().replace(\"[\",\"\").split(\"\\n\") for d in m_desc]\n",
        "m_desc_list\n",
        "len(m_desc_list)"
      ],
      "execution_count": 94,
      "outputs": [
        {
          "output_type": "execute_result",
          "data": {
            "text/plain": [
              "100"
            ]
          },
          "metadata": {
            "tags": []
          },
          "execution_count": 94
        }
      ]
    },
    {
      "cell_type": "code",
      "metadata": {
        "id": "hh8M380oFrEX",
        "colab": {
          "base_uri": "https://localhost:8080/"
        },
        "outputId": "16f2b102-e534-4f15-81d9-4e0c7f612c0c"
      },
      "source": [
        "#list of genres\n",
        "m_genre = m_frame.findAll(\"span\", class_ = \"genre\")\n",
        "m_genre_list =[genre.text.strip().split(\"\\n\")[0].strip().split(\",\")[1:] for genre in m_genre]\n",
        "m_genre_list\n",
        "len(m_genre_list)"
      ],
      "execution_count": 93,
      "outputs": [
        {
          "output_type": "execute_result",
          "data": {
            "text/plain": [
              "100"
            ]
          },
          "metadata": {
            "tags": []
          },
          "execution_count": 93
        }
      ]
    },
    {
      "cell_type": "code",
      "metadata": {
        "colab": {
          "base_uri": "https://localhost:8080/"
        },
        "id": "DbdiIV0YVl0F",
        "outputId": "edf06a63-61d4-4cc7-c0c6-900797fda6b0"
      },
      "source": [
        "# list of ratings\n",
        "m_framee = soup.find(\"div\" , class_ = \"article listo\")\n",
        "m_rating = m_framee.findAll(\"div\", class_ = \"ipl-rating-widget\")\n",
        "m_rating_list = [float(rating.text.strip().split(\"\\n\")[0]) for rating in m_rating]\n",
        "#m_rating_listt = [i.replace(\"]\",\" \").strip() for i in m_rating_list]\n",
        "dff = pd.DataFrame(m_rating_list)\n",
        "#dff[0] =np.where(dff[0].str.startswith(\"Rate\")|dff[0].str.startswith(\"0\"),np.nan,dff[0])\n",
        "len(m_rating_list)"
      ],
      "execution_count": 91,
      "outputs": [
        {
          "output_type": "execute_result",
          "data": {
            "text/plain": [
              "100"
            ]
          },
          "metadata": {
            "tags": []
          },
          "execution_count": 91
        }
      ]
    },
    {
      "cell_type": "code",
      "metadata": {
        "id": "ws2es0irjxzh",
        "colab": {
          "base_uri": "https://localhost:8080/"
        },
        "outputId": "8ca66ac4-4456-4deb-d0f9-f33533ba9326"
      },
      "source": [
        "#Listing metascore\n",
        "\n",
        "m_meta = m_frame.findAll(\"span\", class_= \"metascore favorable\")\n",
        "m_met = m_frame.findAll(\"span\", class_= \"metascore unfavorable\")\n",
        "m_me = m_frame.findAll(\"span\", class_= \"metascore mixed\")\n",
        "m_met.extend(m_me)\n",
        "m_meta.extend(m_met)\n",
        "m_meta_l = [int(meta.text.strip()) for meta in m_meta]\n",
        "len(m_meta_l)"
      ],
      "execution_count": 92,
      "outputs": [
        {
          "output_type": "execute_result",
          "data": {
            "text/plain": [
              "100"
            ]
          },
          "metadata": {
            "tags": []
          },
          "execution_count": 92
        }
      ]
    },
    {
      "cell_type": "code",
      "metadata": {
        "id": "jV7i0SA_ZJGO",
        "colab": {
          "base_uri": "https://localhost:8080/",
          "height": 35
        },
        "outputId": "0edbfc9a-f066-4fce-d211-170601a356c4"
      },
      "source": [
        "#List of Numer of Votes and Box Office\n",
        "m_gross = m_frame.find_all(\"span\", attrs = {\"name\" : \"nv\"})\n",
        "m_gross_list = [gross.text.strip() for gross in m_gross]\n",
        "mm_gross = m_gross_list[0:199:2]\n",
        "#map(lambda x: x if x != 4 else 'sss', a)\n",
        "xx = filter(\"$\", m_gross_list)\n",
        "#m_nov = m_gross_list[1:-1:2]\n",
        "#for s in np.array(xx):\n",
        " # print(s)\\\n",
        "m_votes = []\n",
        "dfff = pd.DataFrame(m_gross_list)\n",
        "dfff[0] =np.where(dfff[0].str.startswith(\"$\"),np.nan,dfff[0])\n",
        "dfffk = dfff.dropna()\n",
        "nov = dfffk[0].tolist()\n",
        "nov[0]"
      ],
      "execution_count": 164,
      "outputs": [
        {
          "output_type": "execute_result",
          "data": {
            "application/vnd.google.colaboratory.intrinsic+json": {
              "type": "string"
            },
            "text/plain": [
              "'2,378,112'"
            ]
          },
          "metadata": {
            "tags": []
          },
          "execution_count": 164
        }
      ]
    },
    {
      "cell_type": "code",
      "metadata": {
        "id": "EFBxUhcPLF3c"
      },
      "source": [
        "dof = pd.DataFrame(m_gross_list)\n",
        "dof[0] =np.where(dof[0].str.startswith((\"2\",\"1\",\"3\",\"4\",\"5\",\"6\",\"8\",\"9\",\"7\")),np.nan,dof[0])\n",
        "dof = dof.dropna()\n",
        "dov = dof[0].tolist()\n",
        "len(dov)\n",
        "dov.append(\"$47.21M\")\n",
        "len(dof)\n",
        "dof[0] =np.where(dfff[0].str.startswith(\"$\"),dof[0].split(\"$\"),dof[0])"
      ],
      "execution_count": null,
      "outputs": []
    },
    {
      "cell_type": "code",
      "metadata": {
        "id": "tmp3IYbnBGam"
      },
      "source": [
        "''''m_votes = [1]\n",
        "dfff = [[\"asdasd\",\"asdasd\",\"3$\",\"$4\", \"ad\" ,\"asd\",\"asd\"],[\"2\"],[2,3,4,5,]]\n",
        "#dfff[0] =np.where(dfff[0].str.startswith(\"$\"),dfff[0].split(\"$),dfff[0])\n",
        "#dfff\n",
        "for i in range(4):\n",
        "  if dfff[0][i][0] == \"3\":\n",
        "      m_votes = m_votes.append(dfff[0][i][0])\n",
        "  else:\n",
        "    kk=4\n",
        "m_votes''''"
      ],
      "execution_count": 89,
      "outputs": []
    },
    {
      "cell_type": "code",
      "metadata": {
        "id": "7Isedk714_So"
      },
      "source": [
        "''''m_votes = []\n",
        "kk  = [lambda x: m_votes.append(i) if m_gross_list[i][0] == \"$\" else None  for i in range(len(m_gross_list)) ,m_votes]\n",
        "\n",
        "m_votes = []\n",
        "for i in range(len(m_gross_list)):\n",
        "  if m_gross_list\n",
        "\n",
        "\n",
        "m_votes''''"
      ],
      "execution_count": null,
      "outputs": []
    },
    {
      "cell_type": "code",
      "metadata": {
        "id": "eaToS0SWYa_A"
      },
      "source": [
        "'''def erase(x):\n",
        "  for i in m_rating_list:\n",
        "    if m_rating_list[i] == \"Rate\":\n",
        "      m_rating_list = m_rating_list.pop(i)\n",
        "      return m_rating_list\n",
        "erase(5)'''"
      ],
      "execution_count": null,
      "outputs": []
    },
    {
      "cell_type": "code",
      "metadata": {
        "id": "EBJOyMC4Gobo",
        "colab": {
          "base_uri": "https://localhost:8080/"
        },
        "outputId": "463083f7-25e4-481b-8e0d-771edf9a4008"
      },
      "source": [
        "#list of duration\n",
        "m_duration = m_frame.findAll(\"span\", class_ = \"runtime\")\n",
        "m_duration_list = [int(dur.text.strip().replace(\"min\",\" \")) for dur in m_duration]\n",
        "m_duration_list\n",
        "len(m_duration_list)"
      ],
      "execution_count": 97,
      "outputs": [
        {
          "output_type": "execute_result",
          "data": {
            "text/plain": [
              "100"
            ]
          },
          "metadata": {
            "tags": []
          },
          "execution_count": 97
        }
      ]
    },
    {
      "cell_type": "code",
      "metadata": {
        "id": "tYA3wwUVTcgA",
        "colab": {
          "base_uri": "https://localhost:8080/",
          "height": 419
        },
        "outputId": "1c06b12f-9b1c-4ff2-9ed4-9232f926ad22"
      },
      "source": [
        "#df \n",
        "df_dict={\"Names\":m_names,\"ReleaseDates\":m_r_dates,\"Rating\":m_rating_list, \"Metascore\" : m_meta_l,\"Box Office\":dov,\"Desc\":m_desc_list ,\"Duration Time\":m_duration_list , \"Genre\":m_genre_list, \"N.o. Votes\":nov}\n",
        "df_dict\n",
        "df = pd.DataFrame(data = df_dict)\n",
        "#df.index = ['Row_1', 'Row_2', 'Row_3', 'Row_4']\n",
        "#df = df.rename(index = lambda x: x + 10)\n",
        "df"
      ],
      "execution_count": 201,
      "outputs": [
        {
          "output_type": "execute_result",
          "data": {
            "text/html": [
              "<div>\n",
              "<style scoped>\n",
              "    .dataframe tbody tr th:only-of-type {\n",
              "        vertical-align: middle;\n",
              "    }\n",
              "\n",
              "    .dataframe tbody tr th {\n",
              "        vertical-align: top;\n",
              "    }\n",
              "\n",
              "    .dataframe thead th {\n",
              "        text-align: right;\n",
              "    }\n",
              "</style>\n",
              "<table border=\"1\" class=\"dataframe\">\n",
              "  <thead>\n",
              "    <tr style=\"text-align: right;\">\n",
              "      <th></th>\n",
              "      <th>Names</th>\n",
              "      <th>ReleaseDates</th>\n",
              "      <th>Rating</th>\n",
              "      <th>Metascore</th>\n",
              "      <th>Box Office</th>\n",
              "      <th>Desc</th>\n",
              "      <th>Duration Time</th>\n",
              "      <th>Genre</th>\n",
              "      <th>N.o. Votes</th>\n",
              "    </tr>\n",
              "  </thead>\n",
              "  <tbody>\n",
              "    <tr>\n",
              "      <th>0</th>\n",
              "      <td>The Dark Knight</td>\n",
              "      <td>2008</td>\n",
              "      <td>9.0</td>\n",
              "      <td>84</td>\n",
              "      <td>$534.86M</td>\n",
              "      <td>[When the menace known as the Joker wreaks hav...</td>\n",
              "      <td>152</td>\n",
              "      <td>[ Crime,  Drama]</td>\n",
              "      <td>2,378,112</td>\n",
              "    </tr>\n",
              "    <tr>\n",
              "      <th>1</th>\n",
              "      <td>Inception</td>\n",
              "      <td>2010</td>\n",
              "      <td>8.8</td>\n",
              "      <td>74</td>\n",
              "      <td>$292.58M</td>\n",
              "      <td>[A thief who steals corporate secrets through ...</td>\n",
              "      <td>148</td>\n",
              "      <td>[ Adventure,  Sci-Fi]</td>\n",
              "      <td>2,134,499</td>\n",
              "    </tr>\n",
              "    <tr>\n",
              "      <th>2</th>\n",
              "      <td>Kill Bill: Vol. 1</td>\n",
              "      <td>2003</td>\n",
              "      <td>8.1</td>\n",
              "      <td>69</td>\n",
              "      <td>$70.10M</td>\n",
              "      <td>[After awakening from a four-year coma, a form...</td>\n",
              "      <td>111</td>\n",
              "      <td>[ Crime,  Drama]</td>\n",
              "      <td>1,028,611</td>\n",
              "    </tr>\n",
              "    <tr>\n",
              "      <th>3</th>\n",
              "      <td>Gladiator</td>\n",
              "      <td>2000</td>\n",
              "      <td>8.5</td>\n",
              "      <td>67</td>\n",
              "      <td>$187.71M</td>\n",
              "      <td>[A former Roman General sets out to exact veng...</td>\n",
              "      <td>155</td>\n",
              "      <td>[ Adventure,  Drama]</td>\n",
              "      <td>1,378,057</td>\n",
              "    </tr>\n",
              "    <tr>\n",
              "      <th>4</th>\n",
              "      <td>Terminator 2: Judgment Day</td>\n",
              "      <td>1991</td>\n",
              "      <td>8.5</td>\n",
              "      <td>75</td>\n",
              "      <td>$204.84M</td>\n",
              "      <td>[A cyborg, identical to the one who failed to ...</td>\n",
              "      <td>137</td>\n",
              "      <td>[ Sci-Fi]</td>\n",
              "      <td>1,018,837</td>\n",
              "    </tr>\n",
              "    <tr>\n",
              "      <th>...</th>\n",
              "      <td>...</td>\n",
              "      <td>...</td>\n",
              "      <td>...</td>\n",
              "      <td>...</td>\n",
              "      <td>...</td>\n",
              "      <td>...</td>\n",
              "      <td>...</td>\n",
              "      <td>...</td>\n",
              "      <td>...</td>\n",
              "    </tr>\n",
              "    <tr>\n",
              "      <th>95</th>\n",
              "      <td>Speed</td>\n",
              "      <td>1994</td>\n",
              "      <td>7.2</td>\n",
              "      <td>59</td>\n",
              "      <td>$134.07M</td>\n",
              "      <td>[A young police officer must prevent a bomb ex...</td>\n",
              "      <td>116</td>\n",
              "      <td>[ Adventure,  Thriller]</td>\n",
              "      <td>338,703</td>\n",
              "    </tr>\n",
              "    <tr>\n",
              "      <th>96</th>\n",
              "      <td>The Rock</td>\n",
              "      <td>1996</td>\n",
              "      <td>7.4</td>\n",
              "      <td>45</td>\n",
              "      <td>$408.01M</td>\n",
              "      <td>[A mild-mannered chemist and an ex-con must le...</td>\n",
              "      <td>136</td>\n",
              "      <td>[ Adventure,  Thriller]</td>\n",
              "      <td>319,329</td>\n",
              "    </tr>\n",
              "    <tr>\n",
              "      <th>97</th>\n",
              "      <td>The Hunger Games</td>\n",
              "      <td>2012</td>\n",
              "      <td>7.2</td>\n",
              "      <td>58</td>\n",
              "      <td>$144.80M</td>\n",
              "      <td>[Katniss Everdeen voluntarily takes her younge...</td>\n",
              "      <td>142</td>\n",
              "      <td>[ Adventure,  Sci-Fi]</td>\n",
              "      <td>861,651</td>\n",
              "    </tr>\n",
              "    <tr>\n",
              "      <th>98</th>\n",
              "      <td>I, Robot</td>\n",
              "      <td>2004</td>\n",
              "      <td>7.1</td>\n",
              "      <td>59</td>\n",
              "      <td>$90.76M</td>\n",
              "      <td>[In 2035, a technophobic cop investigates a cr...</td>\n",
              "      <td>115</td>\n",
              "      <td>[ Drama,  Sci-Fi]</td>\n",
              "      <td>508,461</td>\n",
              "    </tr>\n",
              "    <tr>\n",
              "      <th>99</th>\n",
              "      <td>Prince of Persia: the Sands of Time</td>\n",
              "      <td>2010</td>\n",
              "      <td>6.6</td>\n",
              "      <td>50</td>\n",
              "      <td>$47.21M</td>\n",
              "      <td>[A young fugitive prince and princess must sto...</td>\n",
              "      <td>116</td>\n",
              "      <td>[ Adventure,  Fantasy]</td>\n",
              "      <td>276,437</td>\n",
              "    </tr>\n",
              "  </tbody>\n",
              "</table>\n",
              "<p>100 rows × 9 columns</p>\n",
              "</div>"
            ],
            "text/plain": [
              "                                  Names  ...  N.o. Votes\n",
              "0                       The Dark Knight  ...   2,378,112\n",
              "1                             Inception  ...   2,134,499\n",
              "2                     Kill Bill: Vol. 1  ...   1,028,611\n",
              "3                             Gladiator  ...   1,378,057\n",
              "4            Terminator 2: Judgment Day  ...   1,018,837\n",
              "..                                  ...  ...         ...\n",
              "95                                Speed  ...     338,703\n",
              "96                             The Rock  ...     319,329\n",
              "97                     The Hunger Games  ...     861,651\n",
              "98                             I, Robot  ...     508,461\n",
              "99  Prince of Persia: the Sands of Time  ...     276,437\n",
              "\n",
              "[100 rows x 9 columns]"
            ]
          },
          "metadata": {
            "tags": []
          },
          "execution_count": 201
        }
      ]
    },
    {
      "cell_type": "code",
      "metadata": {
        "id": "P2AlI9Gc07g8"
      },
      "source": [
        "df.Genre=np.where(df.Genre.str.startswith(\"Crime\"),\"5\",df.Genre)\n",
        "df.Genre"
      ],
      "execution_count": null,
      "outputs": []
    },
    {
      "cell_type": "code",
      "metadata": {
        "id": "aM3ejy9ESzZW"
      },
      "source": [
        "grouped = df.groupby(df.Genre)\n",
        "df_new = grouped.get\n",
        "df_new"
      ],
      "execution_count": null,
      "outputs": []
    },
    {
      "cell_type": "code",
      "metadata": {
        "id": "mgJ0eO5J1kOi"
      },
      "source": [
        "np.where()"
      ],
      "execution_count": null,
      "outputs": []
    },
    {
      "cell_type": "code",
      "metadata": {
        "id": "BNGzX_SUDaRV"
      },
      "source": [
        "sns.boxplot(x=\"Duration Time\", y=\"Release Dates\", data=df_metabest,\n",
        "            whis=[1, 100], width=.6, palette=\"vlag\")\n",
        "help(sns.boxplot())"
      ],
      "execution_count": null,
      "outputs": []
    },
    {
      "cell_type": "code",
      "metadata": {
        "id": "gXJ0P4_C_YXH"
      },
      "source": [
        ""
      ],
      "execution_count": null,
      "outputs": []
    },
    {
      "cell_type": "code",
      "metadata": {
        "id": "WeSHmDR6GzVI"
      },
      "source": [
        "plt.scatter('Names', 'Duration Time', data=df)\n",
        "plt.xlabel('entry a')\n",
        "plt.ylabel('entry b')\n",
        "plt.show()"
      ],
      "execution_count": null,
      "outputs": []
    },
    {
      "cell_type": "code",
      "metadata": {
        "id": "ctgg_xV4QR1f"
      },
      "source": [
        "ax, fig = plt.subplots(figsize=(10,8))\n",
        "labels = df[\"Metascore\"]\n",
        "salesData   = [df['Release Dates'], df['Duration Time']]\n",
        "plt.axis(\"equal\")\n",
        "plt.pie(df[\"Metascore\"], labels=labels ,autopct='%1.1f%%')\n",
        "plt.legend(loc='lower right')\n",
        "plt.title('Names')\n",
        "plt.show()\n"
      ],
      "execution_count": null,
      "outputs": []
    },
    {
      "cell_type": "code",
      "metadata": {
        "id": "q798E5tvArFF"
      },
      "source": [
        "import matplotlib.cm as cm\n",
        "df[\"x_mean\"] = df.groupby(\"Release Dates\").apply(\"Metascore\", lambda x:x if x>80  else 0)\n",
        "df[\"y_mean\"] = df.groupby(\"Release Dates\")\n",
        "fig, ax = plt.subplots()\n",
        "#u can change the name of scatter as fig\n",
        "scatter = plt.scatter(df.x_mean[:10],df.y_mean[:10], cmap=cm.jet,s = 100)\n",
        "df[\"x_mean\"]\n"
      ],
      "execution_count": null,
      "outputs": []
    },
    {
      "cell_type": "code",
      "metadata": {
        "id": "iEEPJQCkf3Bj"
      },
      "source": [
        ""
      ],
      "execution_count": null,
      "outputs": []
    },
    {
      "cell_type": "code",
      "metadata": {
        "id": "Z1k2wtAug4aY"
      },
      "source": [
        "df_metabest = df.loc[df[\"Metascore\"]>= 85]\n",
        "df_metabest\n"
      ],
      "execution_count": null,
      "outputs": []
    },
    {
      "cell_type": "code",
      "metadata": {
        "id": "vEfV1QslbwER"
      },
      "source": [
        "''''data = {\n",
        "    'Movie':m_names,\n",
        "    'Year of release': m_r_dates,\n",
        "    'Genre': m_genre_list,\n",
        "    'Directed by': directors,\n",
        "    'Starring': stars,\n",
        "    'Synopsis': m_desc_list,\n",
        "    #'Box Office Gross in Million Dollars': gross,\n",
        "    'Duration in minutes':duration_list,\n",
        "    'IMDB User Rating': ratings,\n",
        "    'Metascore from Metacritic': metascores\n",
        "}   '''''\n"
      ],
      "execution_count": null,
      "outputs": []
    },
    {
      "cell_type": "code",
      "metadata": {
        "id": "OKVUijO7ZidI"
      },
      "source": [
        "plt.bar(df_metabest[\"Release Dates\"],df_metabest[\"Duration Time\"], linewidth = 2)\n",
        "plt.show()"
      ],
      "execution_count": null,
      "outputs": []
    },
    {
      "cell_type": "code",
      "metadata": {
        "id": "DrtSFRkVZjJS"
      },
      "source": [
        ""
      ],
      "execution_count": null,
      "outputs": []
    }
  ]
}