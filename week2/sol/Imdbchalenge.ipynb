{
  "nbformat": 4,
  "nbformat_minor": 0,
  "metadata": {
    "colab": {
      "name": "Imdbchalenge.ipynb",
      "provenance": [],
      "collapsed_sections": [],
      "authorship_tag": "ABX9TyPRzqsUYNdzZZCkjdYu/TGw",
      "include_colab_link": true
    },
    "kernelspec": {
      "name": "python3",
      "display_name": "Python 3"
    },
    "language_info": {
      "name": "python"
    }
  },
  "cells": [
    {
      "cell_type": "markdown",
      "metadata": {
        "id": "view-in-github",
        "colab_type": "text"
      },
      "source": [
        "<a href=\"https://colab.research.google.com/github/remre/StriveSchool-ai/blob/main/week2/sol/Imdbchalenge.ipynb\" target=\"_parent\"><img src=\"https://colab.research.google.com/assets/colab-badge.svg\" alt=\"Open In Colab\"/></a>"
      ]
    },
    {
      "cell_type": "code",
      "metadata": {
        "colab": {
          "base_uri": "https://localhost:8080/"
        },
        "id": "UX78-QdOP0tT",
        "outputId": "dedc6392-dcc9-40e5-b682-c1a9309e66a9"
      },
      "source": [
        "import pandas as pd\n",
        "import time\n",
        "import numpy as np\n",
        "from bs4 import BeautifulSoup as bs\n",
        "import requests\n",
        "import seaborn as sns\n",
        "import matplotlib.pyplot as plt\n",
        "\n",
        "url = \"https://www.imdb.com/list/ls009668579/\"\n",
        "page = requests.get(url)\n",
        "print(page)#checking for Response 200\n"
      ],
      "execution_count": 128,
      "outputs": [
        {
          "output_type": "stream",
          "text": [
            "<Response [200]>\n"
          ],
          "name": "stdout"
        }
      ]
    },
    {
      "cell_type": "code",
      "metadata": {
        "id": "0HajhWm1Q2RD"
      },
      "source": [
        "soup = bs(page.content , \"html.parser\")\n",
        "\n",
        "#to list of names and the release date\n",
        "\n",
        "m_frame = soup.find(\"div\" , class_ = \"lister-list\")\n",
        "m_name = m_frame.findAll(\"h3\", class_=\"lister-item-header\")\n",
        "\n",
        "m_name_list =[name.text.strip().split(\"\\n\") for name in m_name] \n",
        "m_name_list_t = np.array(m_name_list).T.tolist()\n",
        "m_names = m_name_list_t[:][1]\n",
        "m_r_date = m_name_list_t[:][2]\n",
        "m_r_dates = [i.replace(\"(\",\" \").replace(\")\",\"\").replace(\"I\",\"\").strip() for i in m_r_date]\n"
      ],
      "execution_count": 183,
      "outputs": []
    },
    {
      "cell_type": "code",
      "metadata": {
        "id": "hMzFTexh2KJ4"
      },
      "source": [
        "m_names"
      ],
      "execution_count": null,
      "outputs": []
    },
    {
      "cell_type": "code",
      "metadata": {
        "id": "LCYS7V15RpPR"
      },
      "source": [
        ""
      ],
      "execution_count": 79,
      "outputs": []
    },
    {
      "cell_type": "code",
      "metadata": {
        "id": "4MV9Aq9sR1uu"
      },
      "source": [
        "m_r_dates"
      ],
      "execution_count": null,
      "outputs": []
    },
    {
      "cell_type": "code",
      "metadata": {
        "id": "ySP2F5yMTb84"
      },
      "source": [
        "\n",
        "#create descripton list \n",
        "m_desc = m_frame.findAll(\"p\",class_ =\"\" )\n",
        "m_desc_list = [d.text.strip().split(\"\\n\") for d in m_desc]\n",
        "m_desc_list\n"
      ],
      "execution_count": null,
      "outputs": []
    },
    {
      "cell_type": "code",
      "metadata": {
        "id": "hh8M380oFrEX"
      },
      "source": [
        "#list of genres\n",
        "m_genre = m_frame.findAll(\"span\", class_ = \"genre\")\n",
        "m_genre_list =[genre.text.strip().split(\"\\n\") for genre in m_genre]\n",
        "m_genre_list"
      ],
      "execution_count": null,
      "outputs": []
    },
    {
      "cell_type": "code",
      "metadata": {
        "id": "EBJOyMC4Gobo"
      },
      "source": [
        "#list of duration\n",
        "m_duration = m_frame.findAll(\"span\", class_ = \"runtime\")\n",
        "m_duration_list = [dur.text.strip() for dur in m_duration]\n",
        "m_duration_list"
      ],
      "execution_count": null,
      "outputs": []
    },
    {
      "cell_type": "code",
      "metadata": {
        "id": "tYA3wwUVTcgA"
      },
      "source": [
        "#df \n",
        "df_dict={\"Names\":m_names,\"Release Dates\":m_r_dates, \"Desc\":m_desc_list ,\"Duration Time\":m_duration_list , \"Genre\":m_genre_list}\n",
        "df_dict\n",
        "df = pd.DataFrame(data = df_dict)\n",
        "df"
      ],
      "execution_count": null,
      "outputs": []
    },
    {
      "cell_type": "code",
      "metadata": {
        "id": "BNGzX_SUDaRV"
      },
      "source": [
        "sns.boxplot(x=\"Duration Time\", y=\"Release Dates\", data=df,\n",
        "            whis=[0, 100], width=.6, palette=\"vlag\")"
      ],
      "execution_count": null,
      "outputs": []
    },
    {
      "cell_type": "code",
      "metadata": {
        "colab": {
          "base_uri": "https://localhost:8080/",
          "height": 279
        },
        "id": "WeSHmDR6GzVI",
        "outputId": "04cb859f-a6b6-4ced-a934-86c37ba781aa"
      },
      "source": [
        "plt.scatter('Names', 'Duration Time', data=df)\n",
        "plt.xlabel('entry a')\n",
        "plt.ylabel('entry b')\n",
        "plt.show()"
      ],
      "execution_count": 166,
      "outputs": [
        {
          "output_type": "display_data",
          "data": {
            "image/png": "[encoded data removed]",
            "text/plain": [
              "<Figure size 432x288 with 1 Axes>"
            ]
          },
          "metadata": {
            "tags": [],
            "needs_background": "light"
          }
        }
      ]
    },
    {
      "cell_type": "code",
      "metadata": {
        "id": "ctgg_xV4QR1f"
      },
      "source": [
        "plt.subplots(figsize=(10,8))\n",
        "labels = data[\"Genre\"]\n",
        "salesData   = [data['Year of release'], data['Starring']]\n",
        "plt.axis(\"equal\")\n",
        "plt.pie(salesData, labels=labels ,autopct='%1.1f%%')\n",
        "plt.legend(loc='lower right')\n",
        "plt.title('Names')\n",
        "plt.show()\n"
      ],
      "execution_count": null,
      "outputs": []
    },
    {
      "cell_type": "code",
      "metadata": {
        "id": "vEfV1QslbwER"
      },
      "source": [
        "''''data = {\n",
        "    'Movie':m_names,\n",
        "    'Year of release': m_r_dates,\n",
        "    'Genre': m_genre_list,\n",
        "    'Directed by': directors,\n",
        "    'Starring': stars,\n",
        "    'Synopsis': m_desc_list,\n",
        "    #'Box Office Gross in Million Dollars': gross,\n",
        "    'Duration in minutes':duration_list,\n",
        "    'IMDB User Rating': ratings,\n",
        "    'Metascore from Metacritic': metascores\n",
        "}   '''''\n"
      ],
      "execution_count": null,
      "outputs": []
    },
    {
      "cell_type": "code",
      "metadata": {
        "colab": {
          "base_uri": "https://localhost:8080/"
        },
        "id": "OKVUijO7ZidI",
        "outputId": "b1fda597-97b7-42ad-be4a-2c59d4aa8c87"
      },
      "source": [
        "df[\"Genre\"]"
      ],
      "execution_count": 195,
      "outputs": [
        {
          "output_type": "execute_result",
          "data": {
            "text/plain": [
              "0            [Action, Crime, Drama]\n",
              "1       [Action, Adventure, Sci-Fi]\n",
              "2            [Action, Crime, Drama]\n",
              "3        [Action, Adventure, Drama]\n",
              "4                  [Action, Sci-Fi]\n",
              "                  ...              \n",
              "95    [Action, Adventure, Thriller]\n",
              "96    [Action, Adventure, Thriller]\n",
              "97      [Action, Adventure, Sci-Fi]\n",
              "98          [Action, Drama, Sci-Fi]\n",
              "99     [Action, Adventure, Fantasy]\n",
              "Name: Genre, Length: 100, dtype: object"
            ]
          },
          "metadata": {
            "tags": []
          },
          "execution_count": 195
        }
      ]
    },
    {
      "cell_type": "code",
      "metadata": {
        "id": "DrtSFRkVZjJS"
      },
      "source": [
        ""
      ],
      "execution_count": null,
      "outputs": []
    }
  ]
}