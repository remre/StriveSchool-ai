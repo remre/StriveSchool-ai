{
  "nbformat": 4,
  "nbformat_minor": 0,
  "metadata": {
    "colab": {
      "name": "72_75_numpy_sol.ipynb",
      "provenance": [],
      "collapsed_sections": [],
      "authorship_tag": "ABX9TyM4E4HMsHepFhnqpn5dPGbi",
      "include_colab_link": true
    },
    "kernelspec": {
      "display_name": "Python 3",
      "name": "python3"
    },
    "language_info": {
      "name": "python"
    }
  },
  "cells": [
    {
      "cell_type": "markdown",
      "metadata": {
        "id": "view-in-github",
        "colab_type": "text"
      },
      "source": [
        "<a href=\"https://colab.research.google.com/github/remre/StriveSchool-ai/blob/main/week2/sol/72_75_numpy_sol.ipynb\" target=\"_parent\"><img src=\"https://colab.research.google.com/assets/colab-badge.svg\" alt=\"Open In Colab\"/></a>"
      ]
    },
    {
      "cell_type": "markdown",
      "metadata": {
        "id": "N7lCnSwY_Dc_"
      },
      "source": [
        "#### 72. How to swap two rows of an array? (★★★)"
      ]
    },
    {
      "cell_type": "code",
      "metadata": {
        "colab": {
          "base_uri": "https://localhost:8080/"
        },
        "id": "12oT1LLf-j43",
        "outputId": "d374b31e-e402-454b-d9a4-bccfa2c2bca6"
      },
      "source": [
        "import numpy as np\n",
        "def swap(x,y):\n",
        "  a= np.random.randint(20,size=(5,5))\n",
        "  print(a)\n",
        "  if x or y > 6 :\n",
        "    print(\"give me something between 0,5 \")\n",
        "  elif x==y:\n",
        "    print(\"the value of x and y must be different\")\n",
        "  else:\n",
        "      a[[x,y]]=a[[y,x]]\n",
        "      return a\n",
        "swap(4,3)"
      ],
      "execution_count": null,
      "outputs": [
        {
          "output_type": "stream",
          "text": [
            "[[ 7  5  7  4 19]\n",
            " [ 0  8 18  5  2]\n",
            " [ 1  8 14 14 19]\n",
            " [ 1 15 16 12 18]\n",
            " [10 15 14  7  4]]\n",
            "give me something between 0,5 \n"
          ],
          "name": "stdout"
        }
      ]
    },
    {
      "cell_type": "markdown",
      "metadata": {
        "id": "mHShUAz5_KMv"
      },
      "source": [
        "#### 75. How to compute averages using a sliding window over an array? (★★★)"
      ]
    },
    {
      "cell_type": "code",
      "metadata": {
        "id": "5aOECJt1_KkB",
        "colab": {
          "base_uri": "https://localhost:8080/"
        },
        "outputId": "6f4a0ddf-24e6-4041-ac87-947b058f0c18"
      },
      "source": [
        "arr = np.array([1,2,3,3,4,56,7])\n",
        "arr = np.cumsum(arr)/(arr.size)\n",
        "arr"
      ],
      "execution_count": 29,
      "outputs": [
        {
          "output_type": "execute_result",
          "data": {
            "text/plain": [
              "array([ 0.14285714,  0.42857143,  0.85714286,  1.28571429,  1.85714286,\n",
              "        9.85714286, 10.85714286])"
            ]
          },
          "metadata": {
            "tags": []
          },
          "execution_count": 29
        }
      ]
    },
    {
      "cell_type": "code",
      "metadata": {
        "id": "l7dQpsO3GrII"
      },
      "source": [
        ""
      ],
      "execution_count": null,
      "outputs": []
    }
  ]
}