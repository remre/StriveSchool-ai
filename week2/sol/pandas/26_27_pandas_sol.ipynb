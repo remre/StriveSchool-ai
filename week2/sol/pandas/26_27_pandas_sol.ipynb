{
  "nbformat": 4,
  "nbformat_minor": 0,
  "metadata": {
    "colab": {
      "name": "26_27_pandas_sol.ipynb",
      "provenance": [],
      "authorship_tag": "ABX9TyPE8HZvYJ8YRlKINsSsH5C4",
      "include_colab_link": true
    },
    "kernelspec": {
      "name": "python3",
      "display_name": "Python 3"
    },
    "language_info": {
      "name": "python"
    }
  },
  "cells": [
    {
      "cell_type": "markdown",
      "metadata": {
        "id": "view-in-github",
        "colab_type": "text"
      },
      "source": [
        "<a href=\"https://colab.research.google.com/github/remre/StriveSchool-ai/blob/main/week2/sol/pandas/26_27_pandas_sol.ipynb\" target=\"_parent\"><img src=\"https://colab.research.google.com/assets/colab-badge.svg\" alt=\"Open In Colab\"/></a>"
      ]
    },
    {
      "cell_type": "markdown",
      "metadata": {
        "id": "BHv7X9ZKNwQ6"
      },
      "source": [
        "**26.** You have a DataFrame that consists of 10 columns of floating--point numbers. Suppose that exactly 5 entries in each row are NaN values. For each row of the DataFrame, find the *column* which contains the *third* NaN value.\n",
        "\n",
        "(You should return a Series of column labels. Try not to use `.iterrows()`)"
      ]
    },
    {
      "cell_type": "code",
      "metadata": {
        "id": "doA5oBvbNJRa"
      },
      "source": [
        "data = {\n",
        "1:[np.nan,2,np.nan,4,5],\n",
        "2:[np.nan,2,3,np.nan,5],\n",
        "3:[np.nan,2,np.nan,4,5],\n",
        "4:[1,np.nan,3,np.nan,np.nan],\n",
        "5:[1,2,np.nan,4,5],\n",
        "6:[1,np.nan,3,np.nan,np.nan],\n",
        "7:[1,2,3,4,5],\n",
        "8:[1,np.nan,3,np.nan,np.nan],\n",
        "9:[1,2,3,4,np.nan],\n",
        "10:[1,np.nan,3,4,5]}\n",
        "dff = pd.DataFrame(data)\n",
        "third_nan_val=(dff.isnull().cumsum(axis=1) == 3).idxmax(axis=1)"
      ],
      "execution_count": null,
      "outputs": []
    },
    {
      "cell_type": "markdown",
      "metadata": {
        "id": "fNFD5FWeOMlr"
      },
      "source": [
        "**27.** A DataFrame has a column of groups 'grps' and and column of numbers 'vals'. For example: \n",
        "\n",
        "```python\n",
        "df = pd.DataFrame({'grps': list('aaabbcaabcccbbc'), \n",
        "                   'vals': [12,345,3,1,45,14,4,52,54,23,235,21,57,3,87]})\n",
        "```\n",
        "For each *group*, find the sum of the three greatest values."
      ]
    },
    {
      "cell_type": "code",
      "metadata": {
        "id": "uUiODBgiONJ6"
      },
      "source": [
        "dfg = pd.DataFrame({'grps': list('aaabbcaabcccbbc'), 'vals': [12,345,3,1,45,14,4,52,54,23,235,21,57,3,87]})\n",
        "dfg = dfg.groupby('grps')['vals'].apply(lambda x: x.nlargest(3).sum())\n",
        "dfg"
      ],
      "execution_count": null,
      "outputs": []
    }
  ]
}