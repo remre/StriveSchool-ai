{
  "nbformat": 4,
  "nbformat_minor": 0,
  "metadata": {
    "orig_nbformat": 2,
    "deepnote": {
      "is_reactive": false
    },
    "deepnote_notebook_id": "cfc03840-fc41-4cee-8ac9-b691f18be271",
    "deepnote_execution_queue": [],
    "colab": {
      "name": "imdbteam_whtplot.ipynb",
      "provenance": [],
      "include_colab_link": true
    }
  },
  "cells": [
    {
      "cell_type": "markdown",
      "metadata": {
        "id": "view-in-github",
        "colab_type": "text"
      },
      "source": [
        "<a href=\"https://colab.research.google.com/github/remre/StriveSchool-ai/blob/main/week2/webscrapping/imdbteam_whtplot.ipynb\" target=\"_parent\"><img src=\"https://colab.research.google.com/assets/colab-badge.svg\" alt=\"Open In Colab\"/></a>"
      ]
    },
    {
      "cell_type": "code",
      "metadata": {
        "tags": [],
        "cell_id": "00000-df7b085c-9ed6-4fe6-b5d7-007d7564a41d",
        "deepnote_to_be_reexecuted": false,
        "source_hash": "769a9595",
        "execution_start": 1625915355402,
        "execution_millis": 0,
        "deepnote_cell_type": "code",
        "id": "H320s7-Dolo_"
      },
      "source": [
        "import selenium\n",
        "from selenium import webdriver\n",
        "import pandas as pd \n",
        "import matplotlib.pyplot as plt\n",
        "from time import sleep\n",
        "import requests\n",
        "import numpy as np\n",
        "\n",
        "from bs4 import BeautifulSoup as bs\n",
        "\n"
      ],
      "execution_count": null,
      "outputs": []
    },
    {
      "cell_type": "code",
      "metadata": {
        "tags": [],
        "cell_id": "00001-b37c3516-eed3-4b97-9603-b88294e4f116",
        "deepnote_to_be_reexecuted": false,
        "source_hash": "bb79018",
        "execution_start": 1625916431894,
        "execution_millis": 7,
        "deepnote_cell_type": "code",
        "id": "a6L32jqbolpI",
        "outputId": "f74662bf-9b2d-4cb1-a724-809a28e973dc"
      },
      "source": [
        "# selenium broswer \n",
        "url = \"https://www.imdb.com/list/ls009668579/\"\n",
        "#replace with your driver path  below\n",
        "#my_driver = r\"C:\\Users\\afrah\\OneDrive\\Documents\\01 STRIVE\\chromedriver.exe\" \n",
        "driver = webdriver.Chrome(#r\"C:\\Users\\afrah\\OneDrive\\Documents\\01 STRIVE\\chromedriver.exe\")\n",
        "driver.get(url)\n",
        "sleep(1)\n",
        "\n",
        "#soup \n",
        "page = requests.get(url)\n",
        "\n",
        "soup = bs(page.content , \"html.parser\")\n",
        "url = \"https://www.imdb.com/list/ls009668579/\"\n",
        "\n",
        "#list of names and the release dates\n",
        "m_frame = soup.find(\"div\" , class_ = \"lister-list\")\n",
        "m_name = m_frame.findAll(\"h3\", class_=\"lister-item-header\")\n",
        "m_name_list =[name.text.strip().split(\"\\n\") for name in m_name] \n",
        "m_name_list_t = np.array(m_name_list).T.tolist()\n",
        "m_names = m_name_list_t[:][1]\n",
        "m_r_date = m_name_list_t[:][2]\n",
        "#m_r_dates stands for movie dates but it is little bit dirty  this is why im going to replace and strip and split\n",
        "m_r_dates = [i.replace(\"(\",\" \").replace(\")\",\"\").replace(\"I\",\"\").strip() for i in m_r_date]\n",
        "\n",
        "#movie description\n",
        "m_desc = m_frame.findAll(\"p\",class_ =\"\" )\n",
        "m_desc_list = [d.text.strip().split(\"\\n\") for d in m_desc]\n",
        "\n",
        "directors = []\n",
        "stars = []\n",
        "for i in range(1, 101):\n",
        "    dirstars = driver.find_element_by_xpath( '//*[@id=\"main\"]/div/div[3]/div[3]/div[' + str(i) + ']/div[2]/p[3]')\n",
        "    dirs = dirstars.text.split('|')[0]\n",
        "    dirs = dirs.split(sep=None, maxsplit=1)[1]\n",
        "    directors.append(dirs)\n",
        "    strs = dirstars.text.split('|')[1]\n",
        "    strs = strs.split(sep=None, maxsplit=1)[1]\n",
        "    stars.append(strs)\n",
        "\n",
        "    \n",
        "metascores = []\n",
        "metascore = driver.find_elements_by_class_name('metascore')\n",
        "for meta in metascore:\n",
        "    metascores.append(meta.text)\n",
        "\n",
        "#genre\n",
        "m_genre = m_frame.findAll(\"span\", class_ = \"genre\")\n",
        "m_genre_list =[genre.text.strip().split(\"\\n\") for genre in m_genre]\n",
        "\n",
        "#duration\n",
        "m_duration = m_frame.findAll(\"span\", class_ = \"runtime\")\n",
        "m_duration_list = [dur.text.strip() for dur in m_duration]\n",
        "duration_list = []\n",
        "for dur in m_duration_list:\n",
        "    m = dur.split()\n",
        "    duration_list.append(m[0])\n",
        "\n",
        "#box office gross\n",
        "gross = []\n",
        "for i in range (1, 101):\n",
        "    try:\n",
        "        bogross = driver.find_element_by_xpath( '//*[@id=\"main\"]/div/div[3]/div[3]/div[' + str(i) + ']/div[2]/p[4]/span[5]')\n",
        "        bogross = bogross.text.replace('$', '').replace('M','')\n",
        "        gross.append(bogross.text)\n",
        "    except:\n",
        "        gross.append('Unavailable')\n",
        "\n",
        "ratings =[]\n",
        "for i in range (1, 101):\n",
        "    rating = driver.find_element_by_xpath( '//*[@id=\"main\"]/div/div[3]/div[3]/div[' + str(i) + ']/div[2]/div[1]/div[1]/span[2]')\n",
        "    ratings.append(rating.text)\n",
        "\n",
        "data = {\n",
        "    'Movie':m_names,\n",
        "    'Year of release': m_r_dates,\n",
        "    'Genre': m_genre_list,\n",
        "    'Directed by': directors,\n",
        "    'Starring': stars,\n",
        "    'Synopsis': m_desc_list,\n",
        "    #'Box Office Gross in Million Dollars': gross,\n",
        "    'Duration in minutes':duration_list,\n",
        "    'IMDB User Rating': ratings,\n",
        "    'Metascore from Metacritic': metascores\n",
        "}   \n",
        "\n",
        "df = pd.DataFrame(data)\n"
      ],
      "execution_count": null,
      "outputs": [
        {
          "output_type": "error",
          "ename": "SyntaxError",
          "evalue": "invalid syntax (2107476454.py, line 7)",
          "traceback": [
            "\u001b[0;36m  File \u001b[0;32m\"/tmp/ipykernel_208/2107476454.py\"\u001b[0;36m, line \u001b[0;32m7\u001b[0m\n\u001b[0;31m    sleep(1)\u001b[0m\n\u001b[0m        ^\u001b[0m\n\u001b[0;31mSyntaxError\u001b[0m\u001b[0;31m:\u001b[0m invalid syntax\n"
          ]
        }
      ]
    },
    {
      "cell_type": "code",
      "metadata": {
        "tags": [],
        "cell_id": "00002-359b379a-7b06-415e-8de3-0f151b29410c",
        "deepnote_cell_type": "code",
        "id": "pES2Cgd5olpM"
      },
      "source": [
        ""
      ],
      "execution_count": null,
      "outputs": []
    },
    {
      "cell_type": "markdown",
      "metadata": {
        "tags": [],
        "created_in_deepnote_cell": true,
        "deepnote_cell_type": "markdown",
        "id": "Nn3CwxHKolpN"
      },
      "source": [
        "<a style='text-decoration:none;line-height:16px;display:flex;color:#5B5B62;padding:10px;justify-content:end;' href='https://deepnote.com?utm_source=created-in-deepnote-cell&projectId=005176ac-f03a-499f-95fa-c10c42f2c1b2' target=\"_blank\">\n",
        "<img alt='Created in deepnote.com' style='display:inline;max-height:16px;margin:0px;margin-right:7.5px;' src='data:image/svg+xml;base64,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' > </img>\n",
        "Created in <span style='font-weight:600;margin-left:4px;'>Deepnote</span></a>"
      ]
    }
  ]
}