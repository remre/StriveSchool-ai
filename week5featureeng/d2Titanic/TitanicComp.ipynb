{
  "nbformat": 4,
  "nbformat_minor": 0,
  "metadata": {
    "colab": {
      "name": "TitanicComp.ipynb",
      "provenance": [],
      "collapsed_sections": [],
      "authorship_tag": "ABX9TyMPF3o9UAuRGiWPxnjsIjkj",
      "include_colab_link": true
    },
    "kernelspec": {
      "name": "python3",
      "display_name": "Python 3"
    },
    "language_info": {
      "name": "python"
    },
    "accelerator": "GPU"
  },
  "cells": [
    {
      "cell_type": "markdown",
      "metadata": {
        "id": "view-in-github",
        "colab_type": "text"
      },
      "source": [
        "<a href=\"https://colab.research.google.com/github/remre/StriveSchool-ai/blob/main/week5featureeng/d2Titanic/TitanicComp.ipynb\" target=\"_parent\"><img src=\"https://colab.research.google.com/assets/colab-badge.svg\" alt=\"Open In Colab\"/></a>"
      ]
    },
    {
      "cell_type": "code",
      "metadata": {
        "colab": {
          "base_uri": "https://localhost:8080/"
        },
        "id": "B8EEXhi2FyTk",
        "outputId": "9b9aa76e-dc68-412b-a8d9-8af8d10e4d9a"
      },
      "source": [
        "import time\n",
        "from IPython.display import clear_output\n",
        "import numpy    as np\n",
        "import pandas   as pd\n",
        "import seaborn  as sb\n",
        "import matplotlib.pyplot as plt\n",
        "import sklearn  as skl\n",
        "import missingno as m\n",
        "\n",
        "from sklearn import pipeline      # Pipeline\n",
        "from sklearn import preprocessing # OrdinalEncoder, LabelEncoder\n",
        "from sklearn import impute\n",
        "from sklearn import compose\n",
        "from sklearn import model_selection # train_test_split\n",
        "from sklearn import metrics         # accuracy_score, balanced_accuracy_score, plot_confusion_matrix\n",
        "from sklearn import set_config \n",
        "\n",
        "set_config(display='diagram') # Useful for display the pipeline !pip install --upgrade scikit-learn\n",
        "\n",
        "print(\"Pandas  \", pd.__version__)\n",
        "print(\"Sklearn \", skl.__version__)"
      ],
      "execution_count": 3,
      "outputs": [
        {
          "output_type": "stream",
          "name": "stdout",
          "text": [
            "Pandas   1.1.5\n",
            "Sklearn  0.24.2\n"
          ]
        }
      ]
    },
    {
      "cell_type": "code",
      "metadata": {
        "id": "4ztpgcT0JKhK"
      },
      "source": [
        "import os\n",
        "os.environ[\"KAGGLE_CONFIG_DIR\"] = (\"/content\")"
      ],
      "execution_count": 4,
      "outputs": []
    },
    {
      "cell_type": "code",
      "metadata": {
        "colab": {
          "base_uri": "https://localhost:8080/"
        },
        "id": "hZJUulcGRkDN",
        "outputId": "6dfe79db-f7f5-41bc-e147-d1247fea4cfc"
      },
      "source": [
        "!kaggle competitions download -c titanic"
      ],
      "execution_count": 5,
      "outputs": [
        {
          "output_type": "stream",
          "name": "stdout",
          "text": [
            "Warning: Your Kaggle API key is readable by other users on this system! To fix this, you can run 'chmod 600 /content/kaggle.json'\n",
            "Warning: Looks like you're using an outdated API Version, please consider updating (server 1.5.12 / client 1.5.4)\n",
            "Downloading train.csv to /content\n",
            "  0% 0.00/59.8k [00:00<?, ?B/s]\n",
            "100% 59.8k/59.8k [00:00<00:00, 20.5MB/s]\n",
            "Downloading gender_submission.csv to /content\n",
            "  0% 0.00/3.18k [00:00<?, ?B/s]\n",
            "100% 3.18k/3.18k [00:00<00:00, 6.73MB/s]\n",
            "Downloading test.csv to /content\n",
            "  0% 0.00/28.0k [00:00<?, ?B/s]\n",
            "100% 28.0k/28.0k [00:00<00:00, 29.9MB/s]\n"
          ]
        }
      ]
    },
    {
      "cell_type": "code",
      "metadata": {
        "colab": {
          "base_uri": "https://localhost:8080/"
        },
        "id": "fhQqrDdKUdtz",
        "outputId": "6c6c19ed-952e-4ad4-be9b-b78c9f98d77d"
      },
      "source": [
        "df = pd.read_csv(\"train.csv\",index_col='PassengerId')\n",
        "df_test = pd.read_csv(\"test.csv\",  index_col='PassengerId')\n",
        "df_genders = pd.read_csv(\"gender_submission.csv\")\n",
        "print(\"Train DataFrame:\", df.shape)\n",
        "print(\"Test DataFrame: \", df_test.shape)\n"
      ],
      "execution_count": 96,
      "outputs": [
        {
          "output_type": "stream",
          "name": "stdout",
          "text": [
            "Train DataFrame: (891, 11)\n",
            "Test DataFrame:  (418, 10)\n"
          ]
        }
      ]
    },
    {
      "cell_type": "code",
      "metadata": {
        "colab": {
          "base_uri": "https://localhost:8080/"
        },
        "id": "rJFdU_frcsHF",
        "outputId": "bdad67d6-e630-45e9-cea2-4be7dd7b14c9"
      },
      "source": [
        "df_genders.iloc[:,1] # i think this is y(target variable for the test dataframe) no!! it is gender discrimination"
      ],
      "execution_count": 97,
      "outputs": [
        {
          "output_type": "execute_result",
          "data": {
            "text/plain": [
              "0      0\n",
              "1      1\n",
              "2      0\n",
              "3      0\n",
              "4      1\n",
              "      ..\n",
              "413    0\n",
              "414    1\n",
              "415    0\n",
              "416    0\n",
              "417    0\n",
              "Name: Survived, Length: 418, dtype: int64"
            ]
          },
          "metadata": {},
          "execution_count": 97
        }
      ]
    },
    {
      "cell_type": "code",
      "metadata": {
        "colab": {
          "base_uri": "https://localhost:8080/",
          "height": 235
        },
        "id": "ED08iC9KUp0a",
        "outputId": "718b3c24-b57f-413d-da07-23f65bd6c2b4"
      },
      "source": [
        "df_test.head()"
      ],
      "execution_count": 98,
      "outputs": [
        {
          "output_type": "execute_result",
          "data": {
            "text/html": [
              "<div>\n",
              "<style scoped>\n",
              "    .dataframe tbody tr th:only-of-type {\n",
              "        vertical-align: middle;\n",
              "    }\n",
              "\n",
              "    .dataframe tbody tr th {\n",
              "        vertical-align: top;\n",
              "    }\n",
              "\n",
              "    .dataframe thead th {\n",
              "        text-align: right;\n",
              "    }\n",
              "</style>\n",
              "<table border=\"1\" class=\"dataframe\">\n",
              "  <thead>\n",
              "    <tr style=\"text-align: right;\">\n",
              "      <th></th>\n",
              "      <th>Pclass</th>\n",
              "      <th>Name</th>\n",
              "      <th>Sex</th>\n",
              "      <th>Age</th>\n",
              "      <th>SibSp</th>\n",
              "      <th>Parch</th>\n",
              "      <th>Ticket</th>\n",
              "      <th>Fare</th>\n",
              "      <th>Cabin</th>\n",
              "      <th>Embarked</th>\n",
              "    </tr>\n",
              "    <tr>\n",
              "      <th>PassengerId</th>\n",
              "      <th></th>\n",
              "      <th></th>\n",
              "      <th></th>\n",
              "      <th></th>\n",
              "      <th></th>\n",
              "      <th></th>\n",
              "      <th></th>\n",
              "      <th></th>\n",
              "      <th></th>\n",
              "      <th></th>\n",
              "    </tr>\n",
              "  </thead>\n",
              "  <tbody>\n",
              "    <tr>\n",
              "      <th>892</th>\n",
              "      <td>3</td>\n",
              "      <td>Kelly, Mr. James</td>\n",
              "      <td>male</td>\n",
              "      <td>34.5</td>\n",
              "      <td>0</td>\n",
              "      <td>0</td>\n",
              "      <td>330911</td>\n",
              "      <td>7.8292</td>\n",
              "      <td>NaN</td>\n",
              "      <td>Q</td>\n",
              "    </tr>\n",
              "    <tr>\n",
              "      <th>893</th>\n",
              "      <td>3</td>\n",
              "      <td>Wilkes, Mrs. James (Ellen Needs)</td>\n",
              "      <td>female</td>\n",
              "      <td>47.0</td>\n",
              "      <td>1</td>\n",
              "      <td>0</td>\n",
              "      <td>363272</td>\n",
              "      <td>7.0000</td>\n",
              "      <td>NaN</td>\n",
              "      <td>S</td>\n",
              "    </tr>\n",
              "    <tr>\n",
              "      <th>894</th>\n",
              "      <td>2</td>\n",
              "      <td>Myles, Mr. Thomas Francis</td>\n",
              "      <td>male</td>\n",
              "      <td>62.0</td>\n",
              "      <td>0</td>\n",
              "      <td>0</td>\n",
              "      <td>240276</td>\n",
              "      <td>9.6875</td>\n",
              "      <td>NaN</td>\n",
              "      <td>Q</td>\n",
              "    </tr>\n",
              "    <tr>\n",
              "      <th>895</th>\n",
              "      <td>3</td>\n",
              "      <td>Wirz, Mr. Albert</td>\n",
              "      <td>male</td>\n",
              "      <td>27.0</td>\n",
              "      <td>0</td>\n",
              "      <td>0</td>\n",
              "      <td>315154</td>\n",
              "      <td>8.6625</td>\n",
              "      <td>NaN</td>\n",
              "      <td>S</td>\n",
              "    </tr>\n",
              "    <tr>\n",
              "      <th>896</th>\n",
              "      <td>3</td>\n",
              "      <td>Hirvonen, Mrs. Alexander (Helga E Lindqvist)</td>\n",
              "      <td>female</td>\n",
              "      <td>22.0</td>\n",
              "      <td>1</td>\n",
              "      <td>1</td>\n",
              "      <td>3101298</td>\n",
              "      <td>12.2875</td>\n",
              "      <td>NaN</td>\n",
              "      <td>S</td>\n",
              "    </tr>\n",
              "  </tbody>\n",
              "</table>\n",
              "</div>"
            ],
            "text/plain": [
              "             Pclass  ... Embarked\n",
              "PassengerId          ...         \n",
              "892               3  ...        Q\n",
              "893               3  ...        S\n",
              "894               2  ...        Q\n",
              "895               3  ...        S\n",
              "896               3  ...        S\n",
              "\n",
              "[5 rows x 10 columns]"
            ]
          },
          "metadata": {},
          "execution_count": 98
        }
      ]
    },
    {
      "cell_type": "code",
      "metadata": {
        "colab": {
          "base_uri": "https://localhost:8080/"
        },
        "id": "To2XxFpXBWTE",
        "outputId": "04218173-0b63-4726-b69a-66ef408c8d75"
      },
      "source": [
        "df[\"Embarked\"].unique()"
      ],
      "execution_count": 99,
      "outputs": [
        {
          "output_type": "execute_result",
          "data": {
            "text/plain": [
              "array(['S', 'C', 'Q', nan], dtype=object)"
            ]
          },
          "metadata": {},
          "execution_count": 99
        }
      ]
    },
    {
      "cell_type": "code",
      "metadata": {
        "colab": {
          "base_uri": "https://localhost:8080/"
        },
        "id": "VzQzQNEOU_6w",
        "outputId": "a8cb8324-963e-4172-acd9-d50694e0c49d"
      },
      "source": [
        "df.isnull().sum()"
      ],
      "execution_count": 100,
      "outputs": [
        {
          "output_type": "execute_result",
          "data": {
            "text/plain": [
              "Survived      0\n",
              "Pclass        0\n",
              "Name          0\n",
              "Sex           0\n",
              "Age         177\n",
              "SibSp         0\n",
              "Parch         0\n",
              "Ticket        0\n",
              "Fare          0\n",
              "Cabin       687\n",
              "Embarked      2\n",
              "dtype: int64"
            ]
          },
          "metadata": {},
          "execution_count": 100
        }
      ]
    },
    {
      "cell_type": "code",
      "metadata": {
        "colab": {
          "base_uri": "https://localhost:8080/"
        },
        "id": "VK-SSnKgVOOX",
        "outputId": "832731cc-0502-4ed2-e72e-f189f9e87d11"
      },
      "source": [
        "df_test.isnull().sum()"
      ],
      "execution_count": 101,
      "outputs": [
        {
          "output_type": "execute_result",
          "data": {
            "text/plain": [
              "Pclass        0\n",
              "Name          0\n",
              "Sex           0\n",
              "Age          86\n",
              "SibSp         0\n",
              "Parch         0\n",
              "Ticket        0\n",
              "Fare          1\n",
              "Cabin       327\n",
              "Embarked      0\n",
              "dtype: int64"
            ]
          },
          "metadata": {},
          "execution_count": 101
        }
      ]
    },
    {
      "cell_type": "code",
      "metadata": {
        "colab": {
          "base_uri": "https://localhost:8080/",
          "height": 604
        },
        "id": "_xJCP97Gi64s",
        "outputId": "ddd36f53-7028-4a73-da91-6e805695533b"
      },
      "source": [
        "m.matrix(df)"
      ],
      "execution_count": 102,
      "outputs": [
        {
          "output_type": "execute_result",
          "data": {
            "text/plain": [
              "<matplotlib.axes._subplots.AxesSubplot at 0x7ff28beba750>"
            ]
          },
          "metadata": {},
          "execution_count": 102
        },
        {
          "output_type": "display_data",
          "data": {
            "image/png": "[encoded data removed]",
            "text/plain": [
              "<Figure size 1800x720 with 2 Axes>"
            ]
          },
          "metadata": {
            "needs_background": "light"
          }
        }
      ]
    },
    {
      "cell_type": "code",
      "metadata": {
        "id": "2-S10eQVjOQP"
      },
      "source": [
        "m.heatmap(df)"
      ],
      "execution_count": null,
      "outputs": []
    },
    {
      "cell_type": "code",
      "metadata": {
        "id": "Xlhq5sF0jR98"
      },
      "source": [
        "m.bar(df_test)"
      ],
      "execution_count": null,
      "outputs": []
    },
    {
      "cell_type": "code",
      "metadata": {
        "id": "W31N6a-OVgz8"
      },
      "source": [
        "get_title = (lambda x: x.split(\",\")[1].strip().split(\".\")[0].strip())\n",
        "df[\"Title\"] = df[\"Name\"].map(get_title)\n",
        "df_test[\"Title\"] = df_test[\"Name\"].map(get_title)"
      ],
      "execution_count": 103,
      "outputs": []
    },
    {
      "cell_type": "code",
      "metadata": {
        "colab": {
          "base_uri": "https://localhost:8080/"
        },
        "id": "bLDH0_2SYT1_",
        "outputId": "f2440c70-c022-4760-841f-50e1d1c45b57"
      },
      "source": [
        "df[\"Title\"]"
      ],
      "execution_count": 104,
      "outputs": [
        {
          "output_type": "execute_result",
          "data": {
            "text/plain": [
              "PassengerId\n",
              "1        Mr\n",
              "2       Mrs\n",
              "3      Miss\n",
              "4       Mrs\n",
              "5        Mr\n",
              "       ... \n",
              "887     Rev\n",
              "888    Miss\n",
              "889    Miss\n",
              "890      Mr\n",
              "891      Mr\n",
              "Name: Title, Length: 891, dtype: object"
            ]
          },
          "metadata": {},
          "execution_count": 104
        }
      ]
    },
    {
      "cell_type": "code",
      "metadata": {
        "id": "Vet-s4OZX35t"
      },
      "source": [
        "title_dictionary = {\n",
        "    \"Capt\": \"Officer\",\n",
        "    \"Col\": \"Officer\",\n",
        "    \"Major\": \"Officer\",\n",
        "    \"Jonkheer\": \"Royalty\",\n",
        "    \"Don\": \"Royalty\",\n",
        "    \"Sir\" : \"Royalty\",\n",
        "    \"Dr\": \"Officer\",\n",
        "    \"Rev\": \"Officer\",\n",
        "    \"the Countess\":\"Royalty\",\n",
        "    \"Mme\": \"Mrs\",\n",
        "    \"Mlle\": \"Miss\",\n",
        "    \"Ms\": \"Mrs\",\n",
        "    \"Mr\" : \"Mr\",\n",
        "    \"Mrs\" : \"Mrs\",\n",
        "    \"Miss\" : \"Miss\",\n",
        "    \"Master\" : \"Master\",\n",
        "    \"Lady\" : \"Royalty\"\n",
        "}"
      ],
      "execution_count": 105,
      "outputs": []
    },
    {
      "cell_type": "code",
      "metadata": {
        "id": "0_7GEoiYX3rx"
      },
      "source": [
        "df[\"Title\"] = df[\"Title\"].map(title_dictionary)\n",
        "df_test[\"Title\"] = df_test[\"Title\"].map(title_dictionary)"
      ],
      "execution_count": 106,
      "outputs": []
    },
    {
      "cell_type": "code",
      "metadata": {
        "colab": {
          "base_uri": "https://localhost:8080/"
        },
        "id": "MD0gQbiUYb5r",
        "outputId": "88bf91e8-e475-4ca9-e6e1-8ba47850e18e"
      },
      "source": [
        "df_test[\"Title\"].sample(n=15)"
      ],
      "execution_count": 78,
      "outputs": [
        {
          "output_type": "execute_result",
          "data": {
            "text/plain": [
              "PassengerId\n",
              "1032    Miss\n",
              "1215      Mr\n",
              "963       Mr\n",
              "1142    Miss\n",
              "912       Mr\n",
              "1169      Mr\n",
              "1277    Miss\n",
              "1017    Miss\n",
              "945     Miss\n",
              "1272      Mr\n",
              "928     Miss\n",
              "1122      Mr\n",
              "1068    Miss\n",
              "931       Mr\n",
              "1007      Mr\n",
              "Name: Title, dtype: object"
            ]
          },
          "metadata": {},
          "execution_count": 78
        }
      ]
    },
    {
      "cell_type": "code",
      "metadata": {
        "id": "NPw05IjEYc4G"
      },
      "source": [
        "df_test['Ticket']#worthless dont waste yoru time"
      ],
      "execution_count": null,
      "outputs": []
    },
    {
      "cell_type": "code",
      "metadata": {
        "id": "Or6Wqe1wbJNy"
      },
      "source": [
        "df_test[\"Cabin\"].sample(n=20) #most of them are missing"
      ],
      "execution_count": null,
      "outputs": []
    },
    {
      "cell_type": "code",
      "metadata": {
        "colab": {
          "base_uri": "https://localhost:8080/",
          "height": 297
        },
        "id": "AyS7TwBSjWCg",
        "outputId": "455c451c-8a44-463e-d1bc-56d021819a17"
      },
      "source": [
        "import seaborn as sns\n",
        "sns.barplot(x='Cabin', y='Pclass', data=df)#it is obvious that Pclass 1 has most of cabins"
      ],
      "execution_count": 87,
      "outputs": [
        {
          "output_type": "execute_result",
          "data": {
            "text/plain": [
              "<matplotlib.axes._subplots.AxesSubplot at 0x7ff28c47b290>"
            ]
          },
          "metadata": {},
          "execution_count": 87
        },
        {
          "output_type": "display_data",
          "data": {
            "image/png": "[encoded data removed]",
            "text/plain": [
              "<Figure size 432x288 with 1 Axes>"
            ]
          },
          "metadata": {
            "needs_background": "light"
          }
        }
      ]
    },
    {
      "cell_type": "code",
      "metadata": {
        "colab": {
          "base_uri": "https://localhost:8080/",
          "height": 450
        },
        "id": "BtBrEQ_fl4e9",
        "outputId": "044827fe-1858-4f77-a155-945a62452eee"
      },
      "source": [
        "df[\"Cabin\"] = df[\"Cabin\"].apply(lambda x: 1 if x is True else 0)\n",
        "df"
      ],
      "execution_count": 107,
      "outputs": [
        {
          "output_type": "execute_result",
          "data": {
            "text/html": [
              "<div>\n",
              "<style scoped>\n",
              "    .dataframe tbody tr th:only-of-type {\n",
              "        vertical-align: middle;\n",
              "    }\n",
              "\n",
              "    .dataframe tbody tr th {\n",
              "        vertical-align: top;\n",
              "    }\n",
              "\n",
              "    .dataframe thead th {\n",
              "        text-align: right;\n",
              "    }\n",
              "</style>\n",
              "<table border=\"1\" class=\"dataframe\">\n",
              "  <thead>\n",
              "    <tr style=\"text-align: right;\">\n",
              "      <th></th>\n",
              "      <th>Survived</th>\n",
              "      <th>Pclass</th>\n",
              "      <th>Name</th>\n",
              "      <th>Sex</th>\n",
              "      <th>Age</th>\n",
              "      <th>SibSp</th>\n",
              "      <th>Parch</th>\n",
              "      <th>Ticket</th>\n",
              "      <th>Fare</th>\n",
              "      <th>Cabin</th>\n",
              "      <th>Embarked</th>\n",
              "      <th>Title</th>\n",
              "    </tr>\n",
              "    <tr>\n",
              "      <th>PassengerId</th>\n",
              "      <th></th>\n",
              "      <th></th>\n",
              "      <th></th>\n",
              "      <th></th>\n",
              "      <th></th>\n",
              "      <th></th>\n",
              "      <th></th>\n",
              "      <th></th>\n",
              "      <th></th>\n",
              "      <th></th>\n",
              "      <th></th>\n",
              "      <th></th>\n",
              "    </tr>\n",
              "  </thead>\n",
              "  <tbody>\n",
              "    <tr>\n",
              "      <th>1</th>\n",
              "      <td>0</td>\n",
              "      <td>3</td>\n",
              "      <td>Braund, Mr. Owen Harris</td>\n",
              "      <td>male</td>\n",
              "      <td>22.0</td>\n",
              "      <td>1</td>\n",
              "      <td>0</td>\n",
              "      <td>A/5 21171</td>\n",
              "      <td>7.2500</td>\n",
              "      <td>0</td>\n",
              "      <td>S</td>\n",
              "      <td>Mr</td>\n",
              "    </tr>\n",
              "    <tr>\n",
              "      <th>2</th>\n",
              "      <td>1</td>\n",
              "      <td>1</td>\n",
              "      <td>Cumings, Mrs. John Bradley (Florence Briggs Th...</td>\n",
              "      <td>female</td>\n",
              "      <td>38.0</td>\n",
              "      <td>1</td>\n",
              "      <td>0</td>\n",
              "      <td>PC 17599</td>\n",
              "      <td>71.2833</td>\n",
              "      <td>0</td>\n",
              "      <td>C</td>\n",
              "      <td>Mrs</td>\n",
              "    </tr>\n",
              "    <tr>\n",
              "      <th>3</th>\n",
              "      <td>1</td>\n",
              "      <td>3</td>\n",
              "      <td>Heikkinen, Miss. Laina</td>\n",
              "      <td>female</td>\n",
              "      <td>26.0</td>\n",
              "      <td>0</td>\n",
              "      <td>0</td>\n",
              "      <td>STON/O2. 3101282</td>\n",
              "      <td>7.9250</td>\n",
              "      <td>0</td>\n",
              "      <td>S</td>\n",
              "      <td>Miss</td>\n",
              "    </tr>\n",
              "    <tr>\n",
              "      <th>4</th>\n",
              "      <td>1</td>\n",
              "      <td>1</td>\n",
              "      <td>Futrelle, Mrs. Jacques Heath (Lily May Peel)</td>\n",
              "      <td>female</td>\n",
              "      <td>35.0</td>\n",
              "      <td>1</td>\n",
              "      <td>0</td>\n",
              "      <td>113803</td>\n",
              "      <td>53.1000</td>\n",
              "      <td>0</td>\n",
              "      <td>S</td>\n",
              "      <td>Mrs</td>\n",
              "    </tr>\n",
              "    <tr>\n",
              "      <th>5</th>\n",
              "      <td>0</td>\n",
              "      <td>3</td>\n",
              "      <td>Allen, Mr. William Henry</td>\n",
              "      <td>male</td>\n",
              "      <td>35.0</td>\n",
              "      <td>0</td>\n",
              "      <td>0</td>\n",
              "      <td>373450</td>\n",
              "      <td>8.0500</td>\n",
              "      <td>0</td>\n",
              "      <td>S</td>\n",
              "      <td>Mr</td>\n",
              "    </tr>\n",
              "    <tr>\n",
              "      <th>...</th>\n",
              "      <td>...</td>\n",
              "      <td>...</td>\n",
              "      <td>...</td>\n",
              "      <td>...</td>\n",
              "      <td>...</td>\n",
              "      <td>...</td>\n",
              "      <td>...</td>\n",
              "      <td>...</td>\n",
              "      <td>...</td>\n",
              "      <td>...</td>\n",
              "      <td>...</td>\n",
              "      <td>...</td>\n",
              "    </tr>\n",
              "    <tr>\n",
              "      <th>887</th>\n",
              "      <td>0</td>\n",
              "      <td>2</td>\n",
              "      <td>Montvila, Rev. Juozas</td>\n",
              "      <td>male</td>\n",
              "      <td>27.0</td>\n",
              "      <td>0</td>\n",
              "      <td>0</td>\n",
              "      <td>211536</td>\n",
              "      <td>13.0000</td>\n",
              "      <td>0</td>\n",
              "      <td>S</td>\n",
              "      <td>Officer</td>\n",
              "    </tr>\n",
              "    <tr>\n",
              "      <th>888</th>\n",
              "      <td>1</td>\n",
              "      <td>1</td>\n",
              "      <td>Graham, Miss. Margaret Edith</td>\n",
              "      <td>female</td>\n",
              "      <td>19.0</td>\n",
              "      <td>0</td>\n",
              "      <td>0</td>\n",
              "      <td>112053</td>\n",
              "      <td>30.0000</td>\n",
              "      <td>0</td>\n",
              "      <td>S</td>\n",
              "      <td>Miss</td>\n",
              "    </tr>\n",
              "    <tr>\n",
              "      <th>889</th>\n",
              "      <td>0</td>\n",
              "      <td>3</td>\n",
              "      <td>Johnston, Miss. Catherine Helen \"Carrie\"</td>\n",
              "      <td>female</td>\n",
              "      <td>NaN</td>\n",
              "      <td>1</td>\n",
              "      <td>2</td>\n",
              "      <td>W./C. 6607</td>\n",
              "      <td>23.4500</td>\n",
              "      <td>0</td>\n",
              "      <td>S</td>\n",
              "      <td>Miss</td>\n",
              "    </tr>\n",
              "    <tr>\n",
              "      <th>890</th>\n",
              "      <td>1</td>\n",
              "      <td>1</td>\n",
              "      <td>Behr, Mr. Karl Howell</td>\n",
              "      <td>male</td>\n",
              "      <td>26.0</td>\n",
              "      <td>0</td>\n",
              "      <td>0</td>\n",
              "      <td>111369</td>\n",
              "      <td>30.0000</td>\n",
              "      <td>0</td>\n",
              "      <td>C</td>\n",
              "      <td>Mr</td>\n",
              "    </tr>\n",
              "    <tr>\n",
              "      <th>891</th>\n",
              "      <td>0</td>\n",
              "      <td>3</td>\n",
              "      <td>Dooley, Mr. Patrick</td>\n",
              "      <td>male</td>\n",
              "      <td>32.0</td>\n",
              "      <td>0</td>\n",
              "      <td>0</td>\n",
              "      <td>370376</td>\n",
              "      <td>7.7500</td>\n",
              "      <td>0</td>\n",
              "      <td>Q</td>\n",
              "      <td>Mr</td>\n",
              "    </tr>\n",
              "  </tbody>\n",
              "</table>\n",
              "<p>891 rows × 12 columns</p>\n",
              "</div>"
            ],
            "text/plain": [
              "             Survived  Pclass  ... Embarked    Title\n",
              "PassengerId                    ...                  \n",
              "1                   0       3  ...        S       Mr\n",
              "2                   1       1  ...        C      Mrs\n",
              "3                   1       3  ...        S     Miss\n",
              "4                   1       1  ...        S      Mrs\n",
              "5                   0       3  ...        S       Mr\n",
              "...               ...     ...  ...      ...      ...\n",
              "887                 0       2  ...        S  Officer\n",
              "888                 1       1  ...        S     Miss\n",
              "889                 0       3  ...        S     Miss\n",
              "890                 1       1  ...        C       Mr\n",
              "891                 0       3  ...        Q       Mr\n",
              "\n",
              "[891 rows x 12 columns]"
            ]
          },
          "metadata": {},
          "execution_count": 107
        }
      ]
    },
    {
      "cell_type": "code",
      "metadata": {
        "colab": {
          "base_uri": "https://localhost:8080/"
        },
        "id": "p15hKw55Ru8d",
        "outputId": "6e80cc1f-86c5-469e-ecc4-e69f6aabef7b"
      },
      "source": [
        "df[\"AloneOrNot\"] = (df[\"SibSp\"] + df[\"Parch\"]).apply(lambda x: 1 if x>0 else 0)\n",
        "df[\"AloneOrNot\"].unique()"
      ],
      "execution_count": 108,
      "outputs": [
        {
          "output_type": "execute_result",
          "data": {
            "text/plain": [
              "array([1, 0])"
            ]
          },
          "metadata": {},
          "execution_count": 108
        }
      ]
    },
    {
      "cell_type": "code",
      "metadata": {
        "colab": {
          "base_uri": "https://localhost:8080/",
          "height": 297
        },
        "id": "dSlVlje3Y5Au",
        "outputId": "64e4bb2c-48c4-4a75-ee23-8cadcf9656a5"
      },
      "source": [
        "sns.barplot(x='AloneOrNot', y='Survived', data=df)#it can be clearly seen that if u came Titanic Alone u will Die Alone"
      ],
      "execution_count": 109,
      "outputs": [
        {
          "output_type": "execute_result",
          "data": {
            "text/plain": [
              "<matplotlib.axes._subplots.AxesSubplot at 0x7ff28bd2e3d0>"
            ]
          },
          "metadata": {},
          "execution_count": 109
        },
        {
          "output_type": "display_data",
          "data": {
            "image/png": "[encoded data removed]",
            "text/plain": [
              "<Figure size 432x288 with 1 Axes>"
            ]
          },
          "metadata": {
            "needs_background": "light"
          }
        }
      ]
    },
    {
      "cell_type": "code",
      "metadata": {
        "colab": {
          "base_uri": "https://localhost:8080/",
          "height": 297
        },
        "id": "HKdmLN8UBspm",
        "outputId": "33a6621f-cedc-4d7a-8e39-ca4291eb98f6"
      },
      "source": [
        "sns.barplot(x='Embarked', y='Survived', data=df) # it is hard to interfere atm maybe should consider with combination of class fare or age"
      ],
      "execution_count": 26,
      "outputs": [
        {
          "output_type": "execute_result",
          "data": {
            "text/plain": [
              "<matplotlib.axes._subplots.AxesSubplot at 0x7ff29198ed10>"
            ]
          },
          "metadata": {},
          "execution_count": 26
        },
        {
          "output_type": "display_data",
          "data": {
            "image/png": "[encoded data removed]",
            "text/plain": [
              "<Figure size 432x288 with 1 Axes>"
            ]
          },
          "metadata": {
            "needs_background": "light"
          }
        }
      ]
    },
    {
      "cell_type": "code",
      "metadata": {
        "colab": {
          "base_uri": "https://localhost:8080/",
          "height": 297
        },
        "id": "sTqWzpgjCztL",
        "outputId": "ef32031b-5d5d-4b46-9131-0f6991380e94"
      },
      "source": [
        "\n",
        "sns.barplot(x='Sex', y='Survived', data=df)#looks like a benevolent sexism"
      ],
      "execution_count": 28,
      "outputs": [
        {
          "output_type": "execute_result",
          "data": {
            "text/plain": [
              "<matplotlib.axes._subplots.AxesSubplot at 0x7ff2918ca250>"
            ]
          },
          "metadata": {},
          "execution_count": 28
        },
        {
          "output_type": "display_data",
          "data": {
            "image/png": "[encoded data removed]",
            "text/plain": [
              "<Figure size 432x288 with 1 Axes>"
            ]
          },
          "metadata": {
            "needs_background": "light"
          }
        }
      ]
    },
    {
      "cell_type": "code",
      "metadata": {
        "colab": {
          "base_uri": "https://localhost:8080/",
          "height": 297
        },
        "id": "qXZAuuROEIQh",
        "outputId": "863d2811-d752-48df-bdb6-7c5131b3dc62"
      },
      "source": [
        "sns.barplot(x='Pclass', y='Survived', data=df)#money talks"
      ],
      "execution_count": 20,
      "outputs": [
        {
          "output_type": "execute_result",
          "data": {
            "text/plain": [
              "<matplotlib.axes._subplots.AxesSubplot at 0x7f994e6735d0>"
            ]
          },
          "metadata": {},
          "execution_count": 20
        },
        {
          "output_type": "display_data",
          "data": {
            "image/png": "[encoded data removed]",
            "text/plain": [
              "<Figure size 432x288 with 1 Axes>"
            ]
          },
          "metadata": {
            "needs_background": "light"
          }
        }
      ]
    },
    {
      "cell_type": "code",
      "metadata": {
        "colab": {
          "base_uri": "https://localhost:8080/",
          "height": 298
        },
        "id": "YdsjZb5_COPA",
        "outputId": "f1224e87-0a5b-492c-921f-c628cb3632e9"
      },
      "source": [
        "sns.barplot(x='Pclass', y='Fare', data=df)#money talks here"
      ],
      "execution_count": 30,
      "outputs": [
        {
          "output_type": "execute_result",
          "data": {
            "text/plain": [
              "<matplotlib.axes._subplots.AxesSubplot at 0x7ff291b01550>"
            ]
          },
          "metadata": {},
          "execution_count": 30
        },
        {
          "output_type": "display_data",
          "data": {
            "image/png": "[encoded data removed]",
            "text/plain": [
              "<Figure size 432x288 with 1 Axes>"
            ]
          },
          "metadata": {
            "needs_background": "light"
          }
        }
      ]
    },
    {
      "cell_type": "code",
      "metadata": {
        "colab": {
          "base_uri": "https://localhost:8080/",
          "height": 297
        },
        "id": "GrzPgB8moWFb",
        "outputId": "ca806bf8-92a6-4ec0-8656-4b40aa5b657b"
      },
      "source": [
        "sns.barplot(x='Pclass', y='Age', data=df)"
      ],
      "execution_count": 19,
      "outputs": [
        {
          "output_type": "execute_result",
          "data": {
            "text/plain": [
              "<matplotlib.axes._subplots.AxesSubplot at 0x7f9af496ec10>"
            ]
          },
          "metadata": {},
          "execution_count": 19
        },
        {
          "output_type": "display_data",
          "data": {
            "image/png": "[encoded data removed]",
            "text/plain": [
              "<Figure size 432x288 with 1 Axes>"
            ]
          },
          "metadata": {
            "needs_background": "light"
          }
        }
      ]
    },
    {
      "cell_type": "markdown",
      "metadata": {
        "id": "J2ucIvVpMILc"
      },
      "source": [
        "For X data, notice that...\n",
        "\n",
        "We drop Survived because is the target variable \n",
        "\n",
        "We drop Name because we have extracted the Title: Mr, Mrs, ...\n",
        "\n",
        "We drop Ticket because it has no information -> see df.Ticket.nunique()\n",
        "\n",
        "We drop Cabin because it has a lot of missings (77% are missings)\n",
        "\n",
        "Then, we identify numerical variables and categorical variables,\n"
      ]
    },
    {
      "cell_type": "code",
      "metadata": {
        "id": "MRcd0YISbJKW"
      },
      "source": [
        "#Preprocessing (drop unnecessary parts)\n",
        "x = df.drop([\"Name\",\"Ticket\",\"Survived\",\"SibSp\",\"Parch\"], 1)\n",
        "y = df[\"Survived\"]\n",
        "x_test = df_test.drop([\"Name\", \"Ticket\",\"SibSp\",\"Parch\"],1)"
      ],
      "execution_count": 110,
      "outputs": []
    },
    {
      "cell_type": "code",
      "metadata": {
        "colab": {
          "base_uri": "https://localhost:8080/"
        },
        "id": "PvQbRJnPcmml",
        "outputId": "567ce2eb-425b-4dd1-a92c-d400ba3678dc"
      },
      "source": [
        "x.isnull().sum()"
      ],
      "execution_count": 116,
      "outputs": [
        {
          "output_type": "execute_result",
          "data": {
            "text/plain": [
              "Pclass          0\n",
              "Sex             0\n",
              "Age           177\n",
              "Fare            0\n",
              "Cabin           0\n",
              "Embarked        2\n",
              "Title           0\n",
              "AloneOrNot      0\n",
              "dtype: int64"
            ]
          },
          "metadata": {},
          "execution_count": 116
        }
      ]
    },
    {
      "cell_type": "code",
      "metadata": {
        "colab": {
          "base_uri": "https://localhost:8080/"
        },
        "id": "YHVlOkdJbJIC",
        "outputId": "d8820785-e11d-42d1-fca4-103641760a4e"
      },
      "source": [
        "cat_vars  = ['Sex', 'Embarked', 'Title']         # x.select_dtypes(include=[object]).columns.values.tolist()\n",
        "num_vars  = ['Pclass', 'AloneOrNot', 'Cabin', 'Fare', 'Age'] # x.select_dtypes(exclude=[object]).columns.values.tolist()#Pclass needs to be treated as ordinal\n",
        "# for fare it is needed to scale #for age im not sure frm bar plot we can understand there is some relationship btween age  however im not sure that i know the convenient approach\n",
        "print(\"\\nNumerical features:\\n\", num_vars)\n",
        "print(\"\\nCategorical features:\\n\", cat_vars)"
      ],
      "execution_count": 112,
      "outputs": [
        {
          "output_type": "stream",
          "name": "stdout",
          "text": [
            "\n",
            "Numerical features:\n",
            " ['Pclass', 'AloneOrNot', 'Cabin', 'Fare', 'Age']\n",
            "\n",
            "Categorical features:\n",
            " ['Sex', 'Embarked', 'Title']\n"
          ]
        }
      ]
    },
    {
      "cell_type": "code",
      "metadata": {
        "id": "ZEbrSO_taPfJ"
      },
      "source": [
        "x_test"
      ],
      "execution_count": null,
      "outputs": []
    },
    {
      "cell_type": "code",
      "metadata": {
        "id": "R0BEYAGcNoJY"
      },
      "source": [
        "#use label encoder or ordinal encoder for cabin which will goes like A-T(descending order) and nan values will take lets say -1 (couldnt make it happen atm)\n",
        "#use KNNimputer for the Age and groupby lets say Pclass and sex then give the age make these two steps for one pipeline\n",
        "#sibsb and parch should be merged and considers as a one column which will provide info is passenger alone or not\n",
        "#Dont run this cell before make it above comments happen\n",
        "oneh_preporcessin = pipeline.Pipeline(steps=[\n",
        "    ('imputer', impute.SimpleImputer(strategy=\"constant\", fill_value='missing')),\n",
        "    ('oh_enc', preprocessing.OneHotEncoder())\n",
        "])\n",
        "num_preprocessing = pipeline.Pipeline(steps=[\n",
        "  (\"imputer\" impute.IterativeImputer(max_iter=50, random_state=0)),\n",
        "  ()\n",
        "\n",
        "])\n",
        "cat_preporcessing = pipeline.Pipeline(steps=[\n",
        "  CategoricalImputer(variables=['grade'], imputation_method='frequent')\n",
        "  # Some Encoder here. Remember to handle_unknown\n",
        "])\n"
      ],
      "execution_count": 34,
      "outputs": []
    },
    {
      "cell_type": "code",
      "metadata": {
        "id": "9iNZSiYRn2WJ"
      },
      "source": [
        "#pipe = make_pipeline(step1,step2,step3....)"
      ],
      "execution_count": 46,
      "outputs": []
    },
    {
      "cell_type": "code",
      "metadata": {
        "colab": {
          "base_uri": "https://localhost:8080/",
          "height": 134
        },
        "id": "46gMMWM_OBnC",
        "outputId": "a56babab-7bb3-4916-aa9a-39e86d796f4e"
      },
      "source": [
        "\n",
        "cat_4_multModels = pipeline.Pipeline(steps=[\n",
        "    ('imputer', impute.SimpleImputer(strategy='constant', fill_value='missing')),\n",
        "    ('one hot', preprocessing.OneHotEncoder(\n",
        "))\n",
        "])\n",
        "\n",
        "\n",
        "num_4_multmodels=pipeline.Pipeline(steps=[\n",
        "    (\"imputer\",impute.KNNImputer(n_neighbors=5)),\n",
        "    (\"quantile transformer\",preprocessing.QuantileTransformer(n_quantiles=100, random_state=0))\n",
        "    ])\n",
        "\n",
        "tree_prepro = compose.ColumnTransformer(transformers=[\n",
        "    (\"cat mult\",cat_4_multModels,cat_vars),\n",
        "    (\"num mult\",num_4_multmodels,num_vars)\n",
        "], remainder='drop') # Drop other vars not specified in num_vars or cat_vars\n",
        "\n",
        "tree_prepro"
      ],
      "execution_count": 118,
      "outputs": [
        {
          "output_type": "execute_result",
          "data": {
            "text/html": [
              "<style>#sk-9d6f3d50-b5e9-4f63-aaa5-53c83797329e {color: black;background-color: white;}#sk-9d6f3d50-b5e9-4f63-aaa5-53c83797329e pre{padding: 0;}#sk-9d6f3d50-b5e9-4f63-aaa5-53c83797329e div.sk-toggleable {background-color: white;}#sk-9d6f3d50-b5e9-4f63-aaa5-53c83797329e label.sk-toggleable__label {cursor: pointer;display: block;width: 100%;margin-bottom: 0;padding: 0.2em 0.3em;box-sizing: border-box;text-align: center;}#sk-9d6f3d50-b5e9-4f63-aaa5-53c83797329e div.sk-toggleable__content {max-height: 0;max-width: 0;overflow: hidden;text-align: left;background-color: #f0f8ff;}#sk-9d6f3d50-b5e9-4f63-aaa5-53c83797329e div.sk-toggleable__content pre {margin: 0.2em;color: black;border-radius: 0.25em;background-color: #f0f8ff;}#sk-9d6f3d50-b5e9-4f63-aaa5-53c83797329e input.sk-toggleable__control:checked~div.sk-toggleable__content {max-height: 200px;max-width: 100%;overflow: auto;}#sk-9d6f3d50-b5e9-4f63-aaa5-53c83797329e div.sk-estimator input.sk-toggleable__control:checked~label.sk-toggleable__label {background-color: #d4ebff;}#sk-9d6f3d50-b5e9-4f63-aaa5-53c83797329e div.sk-label input.sk-toggleable__control:checked~label.sk-toggleable__label {background-color: #d4ebff;}#sk-9d6f3d50-b5e9-4f63-aaa5-53c83797329e input.sk-hidden--visually {border: 0;clip: rect(1px 1px 1px 1px);clip: rect(1px, 1px, 1px, 1px);height: 1px;margin: -1px;overflow: hidden;padding: 0;position: absolute;width: 1px;}#sk-9d6f3d50-b5e9-4f63-aaa5-53c83797329e div.sk-estimator {font-family: monospace;background-color: #f0f8ff;margin: 0.25em 0.25em;border: 1px dotted black;border-radius: 0.25em;box-sizing: border-box;}#sk-9d6f3d50-b5e9-4f63-aaa5-53c83797329e div.sk-estimator:hover {background-color: #d4ebff;}#sk-9d6f3d50-b5e9-4f63-aaa5-53c83797329e div.sk-parallel-item::after {content: \"\";width: 100%;border-bottom: 1px solid gray;flex-grow: 1;}#sk-9d6f3d50-b5e9-4f63-aaa5-53c83797329e div.sk-label:hover label.sk-toggleable__label {background-color: #d4ebff;}#sk-9d6f3d50-b5e9-4f63-aaa5-53c83797329e div.sk-serial::before {content: \"\";position: absolute;border-left: 1px solid gray;box-sizing: border-box;top: 2em;bottom: 0;left: 50%;}#sk-9d6f3d50-b5e9-4f63-aaa5-53c83797329e div.sk-serial {display: flex;flex-direction: column;align-items: center;background-color: white;}#sk-9d6f3d50-b5e9-4f63-aaa5-53c83797329e div.sk-item {z-index: 1;}#sk-9d6f3d50-b5e9-4f63-aaa5-53c83797329e div.sk-parallel {display: flex;align-items: stretch;justify-content: center;background-color: white;}#sk-9d6f3d50-b5e9-4f63-aaa5-53c83797329e div.sk-parallel-item {display: flex;flex-direction: column;position: relative;background-color: white;}#sk-9d6f3d50-b5e9-4f63-aaa5-53c83797329e div.sk-parallel-item:first-child::after {align-self: flex-end;width: 50%;}#sk-9d6f3d50-b5e9-4f63-aaa5-53c83797329e div.sk-parallel-item:last-child::after {align-self: flex-start;width: 50%;}#sk-9d6f3d50-b5e9-4f63-aaa5-53c83797329e div.sk-parallel-item:only-child::after {width: 0;}#sk-9d6f3d50-b5e9-4f63-aaa5-53c83797329e div.sk-dashed-wrapped {border: 1px dashed gray;margin: 0.2em;box-sizing: border-box;padding-bottom: 0.1em;background-color: white;position: relative;}#sk-9d6f3d50-b5e9-4f63-aaa5-53c83797329e div.sk-label label {font-family: monospace;font-weight: bold;background-color: white;display: inline-block;line-height: 1.2em;}#sk-9d6f3d50-b5e9-4f63-aaa5-53c83797329e div.sk-label-container {position: relative;z-index: 2;text-align: center;}#sk-9d6f3d50-b5e9-4f63-aaa5-53c83797329e div.sk-container {display: inline-block;position: relative;}</style><div id=\"sk-9d6f3d50-b5e9-4f63-aaa5-53c83797329e\" class\"sk-top-container\"><div class=\"sk-container\"><div class=\"sk-item sk-dashed-wrapped\"><div class=\"sk-label-container\"><div class=\"sk-label sk-toggleable\"><input class=\"sk-toggleable__control sk-hidden--visually\" id=\"000aed56-71bc-4c7b-9fb8-28ff01fb7635\" type=\"checkbox\" ><label class=\"sk-toggleable__label\" for=\"000aed56-71bc-4c7b-9fb8-28ff01fb7635\">ColumnTransformer</label><div class=\"sk-toggleable__content\"><pre>ColumnTransformer(transformers=[('cat mult',\n",
              "                                 Pipeline(steps=[('imputer',\n",
              "                                                  SimpleImputer(fill_value='missing',\n",
              "                                                                strategy='constant')),\n",
              "                                                 ('one hot', OneHotEncoder())]),\n",
              "                                 ['Sex', 'Embarked', 'Title']),\n",
              "                                ('num mult',\n",
              "                                 Pipeline(steps=[('imputer', KNNImputer()),\n",
              "                                                 ('quantile transformer',\n",
              "                                                  QuantileTransformer(n_quantiles=100,\n",
              "                                                                      random_state=0))]),\n",
              "                                 ['Pclass', 'AloneOrNot', 'Cabin', 'Fare',\n",
              "                                  'Age'])])</pre></div></div></div><div class=\"sk-parallel\"><div class=\"sk-parallel-item\"><div class=\"sk-item\"><div class=\"sk-label-container\"><div class=\"sk-label sk-toggleable\"><input class=\"sk-toggleable__control sk-hidden--visually\" id=\"6f0e64fd-1d27-4254-ae28-1c4147d03a8e\" type=\"checkbox\" ><label class=\"sk-toggleable__label\" for=\"6f0e64fd-1d27-4254-ae28-1c4147d03a8e\">cat mult</label><div class=\"sk-toggleable__content\"><pre>['Sex', 'Embarked', 'Title']</pre></div></div></div><div class=\"sk-serial\"><div class=\"sk-item\"><div class=\"sk-serial\"><div class=\"sk-item\"><div class=\"sk-estimator sk-toggleable\"><input class=\"sk-toggleable__control sk-hidden--visually\" id=\"f672afdf-8860-472b-af21-edbb8b1e822f\" type=\"checkbox\" ><label class=\"sk-toggleable__label\" for=\"f672afdf-8860-472b-af21-edbb8b1e822f\">SimpleImputer</label><div class=\"sk-toggleable__content\"><pre>SimpleImputer(fill_value='missing', strategy='constant')</pre></div></div></div><div class=\"sk-item\"><div class=\"sk-estimator sk-toggleable\"><input class=\"sk-toggleable__control sk-hidden--visually\" id=\"1a29e5c4-47ef-4f21-8e5b-b01950149a61\" type=\"checkbox\" ><label class=\"sk-toggleable__label\" for=\"1a29e5c4-47ef-4f21-8e5b-b01950149a61\">OneHotEncoder</label><div class=\"sk-toggleable__content\"><pre>OneHotEncoder()</pre></div></div></div></div></div></div></div></div><div class=\"sk-parallel-item\"><div class=\"sk-item\"><div class=\"sk-label-container\"><div class=\"sk-label sk-toggleable\"><input class=\"sk-toggleable__control sk-hidden--visually\" id=\"bc2fc9c8-7091-4452-a422-d11c10d23552\" type=\"checkbox\" ><label class=\"sk-toggleable__label\" for=\"bc2fc9c8-7091-4452-a422-d11c10d23552\">num mult</label><div class=\"sk-toggleable__content\"><pre>['Pclass', 'AloneOrNot', 'Cabin', 'Fare', 'Age']</pre></div></div></div><div class=\"sk-serial\"><div class=\"sk-item\"><div class=\"sk-serial\"><div class=\"sk-item\"><div class=\"sk-estimator sk-toggleable\"><input class=\"sk-toggleable__control sk-hidden--visually\" id=\"c81bb162-4507-4151-b7ab-5c88af28d5c3\" type=\"checkbox\" ><label class=\"sk-toggleable__label\" for=\"c81bb162-4507-4151-b7ab-5c88af28d5c3\">KNNImputer</label><div class=\"sk-toggleable__content\"><pre>KNNImputer()</pre></div></div></div><div class=\"sk-item\"><div class=\"sk-estimator sk-toggleable\"><input class=\"sk-toggleable__control sk-hidden--visually\" id=\"745d28a0-f41f-4224-910e-d48d2523a737\" type=\"checkbox\" ><label class=\"sk-toggleable__label\" for=\"745d28a0-f41f-4224-910e-d48d2523a737\">QuantileTransformer</label><div class=\"sk-toggleable__content\"><pre>QuantileTransformer(n_quantiles=100, random_state=0)</pre></div></div></div></div></div></div></div></div></div></div></div></div>"
            ],
            "text/plain": [
              "ColumnTransformer(transformers=[('cat mult',\n",
              "                                 Pipeline(steps=[('imputer',\n",
              "                                                  SimpleImputer(fill_value='missing',\n",
              "                                                                strategy='constant')),\n",
              "                                                 ('one hot', OneHotEncoder())]),\n",
              "                                 ['Sex', 'Embarked', 'Title']),\n",
              "                                ('num mult',\n",
              "                                 Pipeline(steps=[('imputer', KNNImputer()),\n",
              "                                                 ('quantile transformer',\n",
              "                                                  QuantileTransformer(n_quantiles=100,\n",
              "                                                                      random_state=0))]),\n",
              "                                 ['Pclass', 'AloneOrNot', 'Cabin', 'Fare',\n",
              "                                  'Age'])])"
            ]
          },
          "metadata": {},
          "execution_count": 118
        }
      ]
    },
    {
      "cell_type": "code",
      "metadata": {
        "id": "vliKT9MbOBh9"
      },
      "source": [
        "from sklearn.tree          import DecisionTreeClassifier\n",
        "from sklearn.ensemble      import RandomForestClassifier\n",
        "from sklearn.ensemble      import ExtraTreesClassifier\n",
        "from sklearn.ensemble      import AdaBoostClassifier\n",
        "from sklearn.ensemble      import GradientBoostingClassifier\n",
        "from sklearn.experimental  import e nable_hist_gradient_boosting # Necesary for HistGradientBoostingClassifier\n",
        "from sklearn.ensemble      import HistGradientBoostingClassifier\n",
        "from xgboost               import XGBClassifier\n",
        "from lightgbm              import LGBMClassifier\n",
        "from catboost              import CatBoostClassifier"
      ],
      "execution_count": 121,
      "outputs": []
    },
    {
      "cell_type": "code",
      "metadata": {
        "id": "Xyt8u3W-OBfX"
      },
      "source": [
        "from sklearn import svm\n",
        "from sklearn.linear_model import LogisticRegression\n",
        "from sklearn.neighbors import KNeighborsClassifier\n",
        "from sklearn.neural_network import MLPClassifier"
      ],
      "execution_count": 122,
      "outputs": []
    },
    {
      "cell_type": "code",
      "metadata": {
        "colab": {
          "base_uri": "https://localhost:8080/",
          "height": 196
        },
        "id": "DrjVTpBedDqr",
        "outputId": "74908aa2-07df-42e5-e286-7ee882add7fb"
      },
      "source": [
        "mult_classifiers={\n",
        "    \"SVM\": svm.SVC(),\n",
        "    \"Logistic\": LogisticRegression(),\n",
        "    \"KNN\":KNeighborsClassifier(n_neighbors=3),\n",
        "    \"MLP\":MLPClassifier(solver='lbfgs', alpha=1e-5,hidden_layer_sizes=(5, 2), random_state=1),\n",
        "    \"RDF\":RandomForestClassifier(random_state=42),\n",
        "    \"CLF\": GradientBoostingClassifier(n_estimators=100, learning_rate=1.0,max_depth=1, random_state=0),\n",
        "    \"LGBM\":LGBMClassifier(boosting_type='gbdt', num_leaves=31, max_depth=-1, learning_rate=0.1, n_estimators=100)\n",
        "    \"CatBoost\":CatBoostClassifier()\n",
        "    }\n",
        "\n",
        "mult_classifiers = {name: pipeline.make_pipeline(tree_prepro, model) for name, model in mult_classifiers.items()}\n",
        "\n",
        "mult_classifiers[\"SVM\"]"
      ],
      "execution_count": 135,
      "outputs": [
        {
          "output_type": "execute_result",
          "data": {
            "text/html": [
              "<style>#sk-449fff29-0b57-462a-a716-b78775b01259 {color: black;background-color: white;}#sk-449fff29-0b57-462a-a716-b78775b01259 pre{padding: 0;}#sk-449fff29-0b57-462a-a716-b78775b01259 div.sk-toggleable {background-color: white;}#sk-449fff29-0b57-462a-a716-b78775b01259 label.sk-toggleable__label {cursor: pointer;display: block;width: 100%;margin-bottom: 0;padding: 0.2em 0.3em;box-sizing: border-box;text-align: center;}#sk-449fff29-0b57-462a-a716-b78775b01259 div.sk-toggleable__content {max-height: 0;max-width: 0;overflow: hidden;text-align: left;background-color: #f0f8ff;}#sk-449fff29-0b57-462a-a716-b78775b01259 div.sk-toggleable__content pre {margin: 0.2em;color: black;border-radius: 0.25em;background-color: #f0f8ff;}#sk-449fff29-0b57-462a-a716-b78775b01259 input.sk-toggleable__control:checked~div.sk-toggleable__content {max-height: 200px;max-width: 100%;overflow: auto;}#sk-449fff29-0b57-462a-a716-b78775b01259 div.sk-estimator input.sk-toggleable__control:checked~label.sk-toggleable__label {background-color: #d4ebff;}#sk-449fff29-0b57-462a-a716-b78775b01259 div.sk-label input.sk-toggleable__control:checked~label.sk-toggleable__label {background-color: #d4ebff;}#sk-449fff29-0b57-462a-a716-b78775b01259 input.sk-hidden--visually {border: 0;clip: rect(1px 1px 1px 1px);clip: rect(1px, 1px, 1px, 1px);height: 1px;margin: -1px;overflow: hidden;padding: 0;position: absolute;width: 1px;}#sk-449fff29-0b57-462a-a716-b78775b01259 div.sk-estimator {font-family: monospace;background-color: #f0f8ff;margin: 0.25em 0.25em;border: 1px dotted black;border-radius: 0.25em;box-sizing: border-box;}#sk-449fff29-0b57-462a-a716-b78775b01259 div.sk-estimator:hover {background-color: #d4ebff;}#sk-449fff29-0b57-462a-a716-b78775b01259 div.sk-parallel-item::after {content: \"\";width: 100%;border-bottom: 1px solid gray;flex-grow: 1;}#sk-449fff29-0b57-462a-a716-b78775b01259 div.sk-label:hover label.sk-toggleable__label {background-color: #d4ebff;}#sk-449fff29-0b57-462a-a716-b78775b01259 div.sk-serial::before {content: \"\";position: absolute;border-left: 1px solid gray;box-sizing: border-box;top: 2em;bottom: 0;left: 50%;}#sk-449fff29-0b57-462a-a716-b78775b01259 div.sk-serial {display: flex;flex-direction: column;align-items: center;background-color: white;}#sk-449fff29-0b57-462a-a716-b78775b01259 div.sk-item {z-index: 1;}#sk-449fff29-0b57-462a-a716-b78775b01259 div.sk-parallel {display: flex;align-items: stretch;justify-content: center;background-color: white;}#sk-449fff29-0b57-462a-a716-b78775b01259 div.sk-parallel-item {display: flex;flex-direction: column;position: relative;background-color: white;}#sk-449fff29-0b57-462a-a716-b78775b01259 div.sk-parallel-item:first-child::after {align-self: flex-end;width: 50%;}#sk-449fff29-0b57-462a-a716-b78775b01259 div.sk-parallel-item:last-child::after {align-self: flex-start;width: 50%;}#sk-449fff29-0b57-462a-a716-b78775b01259 div.sk-parallel-item:only-child::after {width: 0;}#sk-449fff29-0b57-462a-a716-b78775b01259 div.sk-dashed-wrapped {border: 1px dashed gray;margin: 0.2em;box-sizing: border-box;padding-bottom: 0.1em;background-color: white;position: relative;}#sk-449fff29-0b57-462a-a716-b78775b01259 div.sk-label label {font-family: monospace;font-weight: bold;background-color: white;display: inline-block;line-height: 1.2em;}#sk-449fff29-0b57-462a-a716-b78775b01259 div.sk-label-container {position: relative;z-index: 2;text-align: center;}#sk-449fff29-0b57-462a-a716-b78775b01259 div.sk-container {display: inline-block;position: relative;}</style><div id=\"sk-449fff29-0b57-462a-a716-b78775b01259\" class\"sk-top-container\"><div class=\"sk-container\"><div class=\"sk-item sk-dashed-wrapped\"><div class=\"sk-label-container\"><div class=\"sk-label sk-toggleable\"><input class=\"sk-toggleable__control sk-hidden--visually\" id=\"04770e70-1777-4383-a909-590d93b586cc\" type=\"checkbox\" ><label class=\"sk-toggleable__label\" for=\"04770e70-1777-4383-a909-590d93b586cc\">Pipeline</label><div class=\"sk-toggleable__content\"><pre>Pipeline(steps=[('columntransformer',\n",
              "                 ColumnTransformer(transformers=[('cat mult',\n",
              "                                                  Pipeline(steps=[('imputer',\n",
              "                                                                   SimpleImputer(fill_value='missing',\n",
              "                                                                                 strategy='constant')),\n",
              "                                                                  ('one hot',\n",
              "                                                                   OneHotEncoder())]),\n",
              "                                                  ['Sex', 'Embarked', 'Title']),\n",
              "                                                 ('num mult',\n",
              "                                                  Pipeline(steps=[('imputer',\n",
              "                                                                   KNNImputer()),\n",
              "                                                                  ('quantile '\n",
              "                                                                   'transformer',\n",
              "                                                                   QuantileTransformer(n_quantiles=100,\n",
              "                                                                                       random_state=0))]),\n",
              "                                                  ['Pclass', 'AloneOrNot',\n",
              "                                                   'Cabin', 'Fare', 'Age'])])),\n",
              "                ('svc', SVC())])</pre></div></div></div><div class=\"sk-serial\"><div class=\"sk-item sk-dashed-wrapped\"><div class=\"sk-label-container\"><div class=\"sk-label sk-toggleable\"><input class=\"sk-toggleable__control sk-hidden--visually\" id=\"12ccde45-c032-48bf-ad1b-2162edc929c9\" type=\"checkbox\" ><label class=\"sk-toggleable__label\" for=\"12ccde45-c032-48bf-ad1b-2162edc929c9\">columntransformer: ColumnTransformer</label><div class=\"sk-toggleable__content\"><pre>ColumnTransformer(transformers=[('cat mult',\n",
              "                                 Pipeline(steps=[('imputer',\n",
              "                                                  SimpleImputer(fill_value='missing',\n",
              "                                                                strategy='constant')),\n",
              "                                                 ('one hot', OneHotEncoder())]),\n",
              "                                 ['Sex', 'Embarked', 'Title']),\n",
              "                                ('num mult',\n",
              "                                 Pipeline(steps=[('imputer', KNNImputer()),\n",
              "                                                 ('quantile transformer',\n",
              "                                                  QuantileTransformer(n_quantiles=100,\n",
              "                                                                      random_state=0))]),\n",
              "                                 ['Pclass', 'AloneOrNot', 'Cabin', 'Fare',\n",
              "                                  'Age'])])</pre></div></div></div><div class=\"sk-parallel\"><div class=\"sk-parallel-item\"><div class=\"sk-item\"><div class=\"sk-label-container\"><div class=\"sk-label sk-toggleable\"><input class=\"sk-toggleable__control sk-hidden--visually\" id=\"a62bcbe7-2e28-4511-8f12-762f3278c745\" type=\"checkbox\" ><label class=\"sk-toggleable__label\" for=\"a62bcbe7-2e28-4511-8f12-762f3278c745\">cat mult</label><div class=\"sk-toggleable__content\"><pre>['Sex', 'Embarked', 'Title']</pre></div></div></div><div class=\"sk-serial\"><div class=\"sk-item\"><div class=\"sk-serial\"><div class=\"sk-item\"><div class=\"sk-estimator sk-toggleable\"><input class=\"sk-toggleable__control sk-hidden--visually\" id=\"78d28085-3d7d-48c8-ab41-5909b4d1bc05\" type=\"checkbox\" ><label class=\"sk-toggleable__label\" for=\"78d28085-3d7d-48c8-ab41-5909b4d1bc05\">SimpleImputer</label><div class=\"sk-toggleable__content\"><pre>SimpleImputer(fill_value='missing', strategy='constant')</pre></div></div></div><div class=\"sk-item\"><div class=\"sk-estimator sk-toggleable\"><input class=\"sk-toggleable__control sk-hidden--visually\" id=\"63cdfbde-5fef-4a32-b084-3168a0864d7c\" type=\"checkbox\" ><label class=\"sk-toggleable__label\" for=\"63cdfbde-5fef-4a32-b084-3168a0864d7c\">OneHotEncoder</label><div class=\"sk-toggleable__content\"><pre>OneHotEncoder()</pre></div></div></div></div></div></div></div></div><div class=\"sk-parallel-item\"><div class=\"sk-item\"><div class=\"sk-label-container\"><div class=\"sk-label sk-toggleable\"><input class=\"sk-toggleable__control sk-hidden--visually\" id=\"b271e438-3151-4762-a219-c289b18f1847\" type=\"checkbox\" ><label class=\"sk-toggleable__label\" for=\"b271e438-3151-4762-a219-c289b18f1847\">num mult</label><div class=\"sk-toggleable__content\"><pre>['Pclass', 'AloneOrNot', 'Cabin', 'Fare', 'Age']</pre></div></div></div><div class=\"sk-serial\"><div class=\"sk-item\"><div class=\"sk-serial\"><div class=\"sk-item\"><div class=\"sk-estimator sk-toggleable\"><input class=\"sk-toggleable__control sk-hidden--visually\" id=\"54413354-770f-4141-b1b0-b4381b9e6770\" type=\"checkbox\" ><label class=\"sk-toggleable__label\" for=\"54413354-770f-4141-b1b0-b4381b9e6770\">KNNImputer</label><div class=\"sk-toggleable__content\"><pre>KNNImputer()</pre></div></div></div><div class=\"sk-item\"><div class=\"sk-estimator sk-toggleable\"><input class=\"sk-toggleable__control sk-hidden--visually\" id=\"1655d546-3e74-4725-a1f6-663c7cbe5d92\" type=\"checkbox\" ><label class=\"sk-toggleable__label\" for=\"1655d546-3e74-4725-a1f6-663c7cbe5d92\">QuantileTransformer</label><div class=\"sk-toggleable__content\"><pre>QuantileTransformer(n_quantiles=100, random_state=0)</pre></div></div></div></div></div></div></div></div></div></div><div class=\"sk-item\"><div class=\"sk-estimator sk-toggleable\"><input class=\"sk-toggleable__control sk-hidden--visually\" id=\"7ad86cc5-d387-474c-bedf-7ec2f1374d3b\" type=\"checkbox\" ><label class=\"sk-toggleable__label\" for=\"7ad86cc5-d387-474c-bedf-7ec2f1374d3b\">SVC</label><div class=\"sk-toggleable__content\"><pre>SVC()</pre></div></div></div></div></div></div></div>"
            ],
            "text/plain": [
              "Pipeline(steps=[('columntransformer',\n",
              "                 ColumnTransformer(transformers=[('cat mult',\n",
              "                                                  Pipeline(steps=[('imputer',\n",
              "                                                                   SimpleImputer(fill_value='missing',\n",
              "                                                                                 strategy='constant')),\n",
              "                                                                  ('one hot',\n",
              "                                                                   OneHotEncoder())]),\n",
              "                                                  ['Sex', 'Embarked', 'Title']),\n",
              "                                                 ('num mult',\n",
              "                                                  Pipeline(steps=[('imputer',\n",
              "                                                                   KNNImputer()),\n",
              "                                                                  ('quantile '\n",
              "                                                                   'transformer',\n",
              "                                                                   QuantileTransformer(n_quantiles=100,\n",
              "                                                                                       random_state=0))]),\n",
              "                                                  ['Pclass', 'AloneOrNot',\n",
              "                                                   'Cabin', 'Fare', 'Age'])])),\n",
              "                ('svc', SVC())])"
            ]
          },
          "metadata": {},
          "execution_count": 135
        }
      ]
    },
    {
      "cell_type": "code",
      "metadata": {
        "colab": {
          "base_uri": "https://localhost:8080/",
          "height": 289
        },
        "id": "e1bDehDtdDtu",
        "outputId": "c9872f93-5ad9-4cf6-e7fa-6182a9fed5f4"
      },
      "source": [
        "\n",
        "x_train, x_val, y_train, y_val = model_selection.train_test_split(x,y, test_size=0.2,stratify = y, random_state=4)\n",
        "\n",
        "\n",
        "\n",
        "results = pd.DataFrame({'Model': [], 'Accuracy': [], 'Bal Acc.': [], 'Time': []})\n",
        "\n",
        "for model_name, model in mult_classifiers.items():\n",
        "    start_time = time.time()\n",
        "    \n",
        "    # FOR EVERY PIPELINE (PREPRO + MODEL) -> TRAIN WITH TRAIN DATA (x_train)\n",
        "    model.fit(x_train,y_train)\n",
        "    # GET PREDICTIONS USING x_val\n",
        "    pred = model.predict(x_val)\n",
        "\n",
        "    total_time = time.time() - start_time\n",
        "\n",
        "    results = results.append({\"Model\":    model_name,\n",
        "                              \"Accuracy\": metrics.accuracy_score(y_val, pred)*100,\n",
        "                              \"Bal Acc.\": metrics.balanced_accuracy_score(y_val, pred)*100,\n",
        "                              \"Time\":     total_time},\n",
        "                              ignore_index=True)\n",
        "                              \n",
        "                              \n",
        "\n",
        "\n",
        "\n",
        "\n",
        "\n",
        "results_ord = results.sort_values(by=['Accuracy'], ascending=False, ignore_index=True)\n",
        "results_ord.index += 1 \n",
        "results_ord.style.bar(subset=['Accuracy', 'Bal Acc.'], vmin=0, vmax=100, color='#5fba7d')"
      ],
      "execution_count": 136,
      "outputs": [
        {
          "output_type": "stream",
          "name": "stderr",
          "text": [
            "/usr/local/lib/python3.7/dist-packages/sklearn/neural_network/_multilayer_perceptron.py:500: ConvergenceWarning: lbfgs failed to converge (status=1):\n",
            "STOP: TOTAL NO. of ITERATIONS REACHED LIMIT.\n",
            "\n",
            "Increase the number of iterations (max_iter) or scale the data as shown in:\n",
            "    https://scikit-learn.org/stable/modules/preprocessing.html\n",
            "  self.n_iter_ = _check_optimize_result(\"lbfgs\", opt_res, self.max_iter)\n"
          ]
        },
        {
          "output_type": "execute_result",
          "data": {
            "text/html": [
              "<style  type=\"text/css\" >\n",
              "#T_441f0584_0ab1_11ec_a1e5_0242ac1c0002row0_col1{\n",
              "            width:  10em;\n",
              "             height:  80%;\n",
              "            background:  linear-gradient(90deg,#5fba7d 86.0%, transparent 86.0%);\n",
              "        }#T_441f0584_0ab1_11ec_a1e5_0242ac1c0002row0_col2{\n",
              "            width:  10em;\n",
              "             height:  80%;\n",
              "            background:  linear-gradient(90deg,#5fba7d 85.7%, transparent 85.7%);\n",
              "        }#T_441f0584_0ab1_11ec_a1e5_0242ac1c0002row1_col1{\n",
              "            width:  10em;\n",
              "             height:  80%;\n",
              "            background:  linear-gradient(90deg,#5fba7d 84.9%, transparent 84.9%);\n",
              "        }#T_441f0584_0ab1_11ec_a1e5_0242ac1c0002row1_col2{\n",
              "            width:  10em;\n",
              "             height:  80%;\n",
              "            background:  linear-gradient(90deg,#5fba7d 82.9%, transparent 82.9%);\n",
              "        }#T_441f0584_0ab1_11ec_a1e5_0242ac1c0002row2_col1{\n",
              "            width:  10em;\n",
              "             height:  80%;\n",
              "            background:  linear-gradient(90deg,#5fba7d 83.8%, transparent 83.8%);\n",
              "        }#T_441f0584_0ab1_11ec_a1e5_0242ac1c0002row2_col2{\n",
              "            width:  10em;\n",
              "             height:  80%;\n",
              "            background:  linear-gradient(90deg,#5fba7d 80.6%, transparent 80.6%);\n",
              "        }#T_441f0584_0ab1_11ec_a1e5_0242ac1c0002row3_col1,#T_441f0584_0ab1_11ec_a1e5_0242ac1c0002row4_col1{\n",
              "            width:  10em;\n",
              "             height:  80%;\n",
              "            background:  linear-gradient(90deg,#5fba7d 83.2%, transparent 83.2%);\n",
              "        }#T_441f0584_0ab1_11ec_a1e5_0242ac1c0002row3_col2{\n",
              "            width:  10em;\n",
              "             height:  80%;\n",
              "            background:  linear-gradient(90deg,#5fba7d 80.2%, transparent 80.2%);\n",
              "        }#T_441f0584_0ab1_11ec_a1e5_0242ac1c0002row4_col2{\n",
              "            width:  10em;\n",
              "             height:  80%;\n",
              "            background:  linear-gradient(90deg,#5fba7d 82.3%, transparent 82.3%);\n",
              "        }#T_441f0584_0ab1_11ec_a1e5_0242ac1c0002row5_col1{\n",
              "            width:  10em;\n",
              "             height:  80%;\n",
              "            background:  linear-gradient(90deg,#5fba7d 82.7%, transparent 82.7%);\n",
              "        }#T_441f0584_0ab1_11ec_a1e5_0242ac1c0002row5_col2{\n",
              "            width:  10em;\n",
              "             height:  80%;\n",
              "            background:  linear-gradient(90deg,#5fba7d 81.3%, transparent 81.3%);\n",
              "        }#T_441f0584_0ab1_11ec_a1e5_0242ac1c0002row6_col1{\n",
              "            width:  10em;\n",
              "             height:  80%;\n",
              "            background:  linear-gradient(90deg,#5fba7d 79.9%, transparent 79.9%);\n",
              "        }#T_441f0584_0ab1_11ec_a1e5_0242ac1c0002row6_col2{\n",
              "            width:  10em;\n",
              "             height:  80%;\n",
              "            background:  linear-gradient(90deg,#5fba7d 78.2%, transparent 78.2%);\n",
              "        }</style><table id=\"T_441f0584_0ab1_11ec_a1e5_0242ac1c0002\" ><thead>    <tr>        <th class=\"blank level0\" ></th>        <th class=\"col_heading level0 col0\" >Model</th>        <th class=\"col_heading level0 col1\" >Accuracy</th>        <th class=\"col_heading level0 col2\" >Bal Acc.</th>        <th class=\"col_heading level0 col3\" >Time</th>    </tr></thead><tbody>\n",
              "                <tr>\n",
              "                        <th id=\"T_441f0584_0ab1_11ec_a1e5_0242ac1c0002level0_row0\" class=\"row_heading level0 row0\" >1</th>\n",
              "                        <td id=\"T_441f0584_0ab1_11ec_a1e5_0242ac1c0002row0_col0\" class=\"data row0 col0\" >CLF</td>\n",
              "                        <td id=\"T_441f0584_0ab1_11ec_a1e5_0242ac1c0002row0_col1\" class=\"data row0 col1\" >86.033520</td>\n",
              "                        <td id=\"T_441f0584_0ab1_11ec_a1e5_0242ac1c0002row0_col2\" class=\"data row0 col2\" >85.665349</td>\n",
              "                        <td id=\"T_441f0584_0ab1_11ec_a1e5_0242ac1c0002row0_col3\" class=\"data row0 col3\" >0.127196</td>\n",
              "            </tr>\n",
              "            <tr>\n",
              "                        <th id=\"T_441f0584_0ab1_11ec_a1e5_0242ac1c0002level0_row1\" class=\"row_heading level0 row1\" >2</th>\n",
              "                        <td id=\"T_441f0584_0ab1_11ec_a1e5_0242ac1c0002row1_col0\" class=\"data row1 col0\" >RDF</td>\n",
              "                        <td id=\"T_441f0584_0ab1_11ec_a1e5_0242ac1c0002row1_col1\" class=\"data row1 col1\" >84.916201</td>\n",
              "                        <td id=\"T_441f0584_0ab1_11ec_a1e5_0242ac1c0002row1_col2\" class=\"data row1 col2\" >82.865613</td>\n",
              "                        <td id=\"T_441f0584_0ab1_11ec_a1e5_0242ac1c0002row1_col3\" class=\"data row1 col3\" >0.281428</td>\n",
              "            </tr>\n",
              "            <tr>\n",
              "                        <th id=\"T_441f0584_0ab1_11ec_a1e5_0242ac1c0002level0_row2\" class=\"row_heading level0 row2\" >3</th>\n",
              "                        <td id=\"T_441f0584_0ab1_11ec_a1e5_0242ac1c0002row2_col0\" class=\"data row2 col0\" >MLP</td>\n",
              "                        <td id=\"T_441f0584_0ab1_11ec_a1e5_0242ac1c0002row2_col1\" class=\"data row2 col1\" >83.798883</td>\n",
              "                        <td id=\"T_441f0584_0ab1_11ec_a1e5_0242ac1c0002row2_col2\" class=\"data row2 col2\" >80.606061</td>\n",
              "                        <td id=\"T_441f0584_0ab1_11ec_a1e5_0242ac1c0002row2_col3\" class=\"data row2 col3\" >0.222923</td>\n",
              "            </tr>\n",
              "            <tr>\n",
              "                        <th id=\"T_441f0584_0ab1_11ec_a1e5_0242ac1c0002level0_row3\" class=\"row_heading level0 row3\" >4</th>\n",
              "                        <td id=\"T_441f0584_0ab1_11ec_a1e5_0242ac1c0002row3_col0\" class=\"data row3 col0\" >SVM</td>\n",
              "                        <td id=\"T_441f0584_0ab1_11ec_a1e5_0242ac1c0002row3_col1\" class=\"data row3 col1\" >83.240223</td>\n",
              "                        <td id=\"T_441f0584_0ab1_11ec_a1e5_0242ac1c0002row3_col2\" class=\"data row3 col2\" >80.151515</td>\n",
              "                        <td id=\"T_441f0584_0ab1_11ec_a1e5_0242ac1c0002row3_col3\" class=\"data row3 col3\" >0.077860</td>\n",
              "            </tr>\n",
              "            <tr>\n",
              "                        <th id=\"T_441f0584_0ab1_11ec_a1e5_0242ac1c0002level0_row4\" class=\"row_heading level0 row4\" >5</th>\n",
              "                        <td id=\"T_441f0584_0ab1_11ec_a1e5_0242ac1c0002row4_col0\" class=\"data row4 col0\" >LGBM</td>\n",
              "                        <td id=\"T_441f0584_0ab1_11ec_a1e5_0242ac1c0002row4_col1\" class=\"data row4 col1\" >83.240223</td>\n",
              "                        <td id=\"T_441f0584_0ab1_11ec_a1e5_0242ac1c0002row4_col2\" class=\"data row4 col2\" >82.312253</td>\n",
              "                        <td id=\"T_441f0584_0ab1_11ec_a1e5_0242ac1c0002row4_col3\" class=\"data row4 col3\" >0.141483</td>\n",
              "            </tr>\n",
              "            <tr>\n",
              "                        <th id=\"T_441f0584_0ab1_11ec_a1e5_0242ac1c0002level0_row5\" class=\"row_heading level0 row5\" >6</th>\n",
              "                        <td id=\"T_441f0584_0ab1_11ec_a1e5_0242ac1c0002row5_col0\" class=\"data row5 col0\" >Logistic</td>\n",
              "                        <td id=\"T_441f0584_0ab1_11ec_a1e5_0242ac1c0002row5_col1\" class=\"data row5 col1\" >82.681564</td>\n",
              "                        <td id=\"T_441f0584_0ab1_11ec_a1e5_0242ac1c0002row5_col2\" class=\"data row5 col2\" >81.317523</td>\n",
              "                        <td id=\"T_441f0584_0ab1_11ec_a1e5_0242ac1c0002row5_col3\" class=\"data row5 col3\" >0.065092</td>\n",
              "            </tr>\n",
              "            <tr>\n",
              "                        <th id=\"T_441f0584_0ab1_11ec_a1e5_0242ac1c0002level0_row6\" class=\"row_heading level0 row6\" >7</th>\n",
              "                        <td id=\"T_441f0584_0ab1_11ec_a1e5_0242ac1c0002row6_col0\" class=\"data row6 col0\" >KNN</td>\n",
              "                        <td id=\"T_441f0584_0ab1_11ec_a1e5_0242ac1c0002row6_col1\" class=\"data row6 col1\" >79.888268</td>\n",
              "                        <td id=\"T_441f0584_0ab1_11ec_a1e5_0242ac1c0002row6_col2\" class=\"data row6 col2\" >78.234519</td>\n",
              "                        <td id=\"T_441f0584_0ab1_11ec_a1e5_0242ac1c0002row6_col3\" class=\"data row6 col3\" >0.059244</td>\n",
              "            </tr>\n",
              "    </tbody></table>"
            ],
            "text/plain": [
              "<pandas.io.formats.style.Styler at 0x7ff2740f1690>"
            ]
          },
          "metadata": {},
          "execution_count": 136
        }
      ]
    },
    {
      "cell_type": "code",
      "metadata": {
        "id": "B2bYTvrYsAEw"
      },
      "source": [
        "svc=SVC(random_state=42)\n",
        "rdf=RandomForestClassifier(random_state=42)\n",
        "ada=AdaBoostClassifier(random_state=42)\n",
        "log=LogisticRegression(random_state=42)\n",
        "grb=GradientBoostingClassifier(random_state=42)\n",
        "dct=DecisionTreeClassifier(random_state=42)\n",
        "ext=ExtraTreesClassifier(random_state=42)\n",
        "xgb=XGBRFClassifier(random_state=42)\n",
        "xgbc=XGBClassifier(random_state=42)\n",
        "\n",
        "models=[svc,rdf,ada,log,grb,dct,ext,xgb,xgbc]\n",
        "\n",
        "for model in models:\n",
        "    scores.append(cross_val_score(model,train,target,cv=kfolds,n_jobs=-1))\n",
        "    scores_mean=np.mean(scores,axis=1)"
      ],
      "execution_count": null,
      "outputs": []
    }
  ]
}