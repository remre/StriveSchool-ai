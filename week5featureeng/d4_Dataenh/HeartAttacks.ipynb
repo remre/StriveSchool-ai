{
  "nbformat": 4,
  "nbformat_minor": 0,
  "metadata": {
    "colab": {
      "name": "HeartAttacks.ipynb",
      "provenance": [],
      "collapsed_sections": [],
      "authorship_tag": "ABX9TyOcGf4IKa5frCVxtWdLEntN",
      "include_colab_link": true
    },
    "kernelspec": {
      "name": "python3",
      "display_name": "Python 3"
    },
    "language_info": {
      "name": "python"
    }
  },
  "cells": [
    {
      "cell_type": "markdown",
      "metadata": {
        "id": "view-in-github",
        "colab_type": "text"
      },
      "source": [
        "<a href=\"https://colab.research.google.com/github/remre/StriveSchool-ai/blob/main/week5featureeng/d4_Dataenh/HeartAttacks.ipynb\" target=\"_parent\"><img src=\"https://colab.research.google.com/assets/colab-badge.svg\" alt=\"Open In Colab\"/></a>"
      ]
    },
    {
      "cell_type": "code",
      "metadata": {
        "id": "A_IgsunOVxWQ"
      },
      "source": [
        "from sklearn.pipeline import Pipeline    # Pipeline\n",
        "from sklearn import preprocessing # OrdinalEncoder, LabelEncoder\n",
        "from sklearn import impute\n",
        "from sklearn import compose\n",
        "from sklearn import model_selection # train_test_split\n",
        "from sklearn.metrics import accuracy_score,confusion_matrix,classification_report        # accuracy_score, balanced_accuracy_score, plot_confusion_matrix\n",
        "from sklearn import set_config \n",
        "from sklearn.model_selection import train_test_split\n",
        "from sklearn.preprocessing import StandardScaler\n",
        "import seaborn as sns\n",
        "from sklearn.feature_selection import SelectKBest\n",
        "from sklearn.feature_selection import chi2\n",
        "import time\n",
        "from IPython.display import clear_output\n",
        "import numpy    as np\n",
        "import pandas   as pd\n",
        "import seaborn  as sb\n",
        "import matplotlib.pyplot as plt\n",
        "import sklearn  as skl\n",
        "import missingno as m\n",
        "from sklearn.tree          import DecisionTreeClassifier\n",
        "from sklearn.ensemble      import RandomForestClassifier\n",
        "from sklearn.ensemble      import ExtraTreesClassifier\n",
        "from sklearn.ensemble      import AdaBoostClassifier\n",
        "from sklearn.ensemble      import GradientBoostingClassifier\n",
        "from sklearn.experimental  import enable_hist_gradient_boosting # Necesary for HistGradientBoostingClassifier\n",
        "from sklearn.ensemble      import HistGradientBoostingClassifier\n",
        "from xgboost               import XGBClassifier\n",
        "from lightgbm              import LGBMClassifier\n",
        "#from catboost              import CatBoostClassifier\n",
        "from sklearn import svm\n",
        "from sklearn.linear_model import LogisticRegression\n",
        "from sklearn.neighbors import KNeighborsClassifier\n",
        "from sklearn.neural_network import MLPClassifier"
      ],
      "execution_count": 33,
      "outputs": []
    },
    {
      "cell_type": "code",
      "metadata": {
        "id": "AZX37tFAXc_2"
      },
      "source": [
        "import os\n",
        "os.environ[\"KAGGLE_CONFIG_DIR\"] = (\"/content\")"
      ],
      "execution_count": 2,
      "outputs": []
    },
    {
      "cell_type": "code",
      "metadata": {
        "colab": {
          "base_uri": "https://localhost:8080/"
        },
        "id": "3OuEmVHmXZ_f",
        "outputId": "c884ad37-f92a-46c6-e6ee-7ee3f7a0b071"
      },
      "source": [
        "!kaggle datasets download -d rashikrahmanpritom/heart-attack-analysis-prediction-dataset"
      ],
      "execution_count": 3,
      "outputs": [
        {
          "output_type": "stream",
          "name": "stdout",
          "text": [
            "Traceback (most recent call last):\n",
            "  File \"/usr/local/bin/kaggle\", line 5, in <module>\n",
            "    from kaggle.cli import main\n",
            "  File \"/usr/local/lib/python2.7/dist-packages/kaggle/__init__.py\", line 23, in <module>\n",
            "    api.authenticate()\n",
            "  File \"/usr/local/lib/python2.7/dist-packages/kaggle/api/kaggle_api_extended.py\", line 146, in authenticate\n",
            "    self.config_file, self.config_dir))\n",
            "IOError: Could not find kaggle.json. Make sure it's located in /content. Or use the environment method.\n"
          ]
        }
      ]
    },
    {
      "cell_type": "code",
      "metadata": {
        "colab": {
          "base_uri": "https://localhost:8080/",
          "height": 204
        },
        "id": "lnUfEqCFXo2L",
        "outputId": "ef5ba96f-9579-4c83-fa05-6ae01e0bba39"
      },
      "source": [
        "df = pd.read_csv(\"heart.csv\")\n",
        "#df_sat = pd.read_csv(\"o2Saturation.csv\")\n",
        "df.head()#output is the target value"
      ],
      "execution_count": 4,
      "outputs": [
        {
          "output_type": "execute_result",
          "data": {
            "text/html": [
              "<div>\n",
              "<style scoped>\n",
              "    .dataframe tbody tr th:only-of-type {\n",
              "        vertical-align: middle;\n",
              "    }\n",
              "\n",
              "    .dataframe tbody tr th {\n",
              "        vertical-align: top;\n",
              "    }\n",
              "\n",
              "    .dataframe thead th {\n",
              "        text-align: right;\n",
              "    }\n",
              "</style>\n",
              "<table border=\"1\" class=\"dataframe\">\n",
              "  <thead>\n",
              "    <tr style=\"text-align: right;\">\n",
              "      <th></th>\n",
              "      <th>age</th>\n",
              "      <th>sex</th>\n",
              "      <th>cp</th>\n",
              "      <th>trtbps</th>\n",
              "      <th>chol</th>\n",
              "      <th>fbs</th>\n",
              "      <th>restecg</th>\n",
              "      <th>thalachh</th>\n",
              "      <th>exng</th>\n",
              "      <th>oldpeak</th>\n",
              "      <th>slp</th>\n",
              "      <th>caa</th>\n",
              "      <th>thall</th>\n",
              "      <th>output</th>\n",
              "    </tr>\n",
              "  </thead>\n",
              "  <tbody>\n",
              "    <tr>\n",
              "      <th>0</th>\n",
              "      <td>63</td>\n",
              "      <td>1</td>\n",
              "      <td>3</td>\n",
              "      <td>145</td>\n",
              "      <td>233</td>\n",
              "      <td>1</td>\n",
              "      <td>0</td>\n",
              "      <td>150</td>\n",
              "      <td>0</td>\n",
              "      <td>2.3</td>\n",
              "      <td>0</td>\n",
              "      <td>0</td>\n",
              "      <td>1</td>\n",
              "      <td>1</td>\n",
              "    </tr>\n",
              "    <tr>\n",
              "      <th>1</th>\n",
              "      <td>37</td>\n",
              "      <td>1</td>\n",
              "      <td>2</td>\n",
              "      <td>130</td>\n",
              "      <td>250</td>\n",
              "      <td>0</td>\n",
              "      <td>1</td>\n",
              "      <td>187</td>\n",
              "      <td>0</td>\n",
              "      <td>3.5</td>\n",
              "      <td>0</td>\n",
              "      <td>0</td>\n",
              "      <td>2</td>\n",
              "      <td>1</td>\n",
              "    </tr>\n",
              "    <tr>\n",
              "      <th>2</th>\n",
              "      <td>41</td>\n",
              "      <td>0</td>\n",
              "      <td>1</td>\n",
              "      <td>130</td>\n",
              "      <td>204</td>\n",
              "      <td>0</td>\n",
              "      <td>0</td>\n",
              "      <td>172</td>\n",
              "      <td>0</td>\n",
              "      <td>1.4</td>\n",
              "      <td>2</td>\n",
              "      <td>0</td>\n",
              "      <td>2</td>\n",
              "      <td>1</td>\n",
              "    </tr>\n",
              "    <tr>\n",
              "      <th>3</th>\n",
              "      <td>56</td>\n",
              "      <td>1</td>\n",
              "      <td>1</td>\n",
              "      <td>120</td>\n",
              "      <td>236</td>\n",
              "      <td>0</td>\n",
              "      <td>1</td>\n",
              "      <td>178</td>\n",
              "      <td>0</td>\n",
              "      <td>0.8</td>\n",
              "      <td>2</td>\n",
              "      <td>0</td>\n",
              "      <td>2</td>\n",
              "      <td>1</td>\n",
              "    </tr>\n",
              "    <tr>\n",
              "      <th>4</th>\n",
              "      <td>57</td>\n",
              "      <td>0</td>\n",
              "      <td>0</td>\n",
              "      <td>120</td>\n",
              "      <td>354</td>\n",
              "      <td>0</td>\n",
              "      <td>1</td>\n",
              "      <td>163</td>\n",
              "      <td>1</td>\n",
              "      <td>0.6</td>\n",
              "      <td>2</td>\n",
              "      <td>0</td>\n",
              "      <td>2</td>\n",
              "      <td>1</td>\n",
              "    </tr>\n",
              "  </tbody>\n",
              "</table>\n",
              "</div>"
            ],
            "text/plain": [
              "   age  sex  cp  trtbps  chol  fbs  ...  exng  oldpeak  slp  caa  thall  output\n",
              "0   63    1   3     145   233    1  ...     0      2.3    0    0      1       1\n",
              "1   37    1   2     130   250    0  ...     0      3.5    0    0      2       1\n",
              "2   41    0   1     130   204    0  ...     0      1.4    2    0      2       1\n",
              "3   56    1   1     120   236    0  ...     0      0.8    2    0      2       1\n",
              "4   57    0   0     120   354    0  ...     1      0.6    2    0      2       1\n",
              "\n",
              "[5 rows x 14 columns]"
            ]
          },
          "metadata": {},
          "execution_count": 4
        }
      ]
    },
    {
      "cell_type": "code",
      "metadata": {
        "id": "9ushZOPdfWJN"
      },
      "source": [
        "df_sp = df.copy()"
      ],
      "execution_count": 5,
      "outputs": []
    },
    {
      "cell_type": "code",
      "metadata": {
        "colab": {
          "base_uri": "https://localhost:8080/"
        },
        "id": "ECl49w0hYLZi",
        "outputId": "a843f79c-5a4a-4716-9279-e20cee6f7edf"
      },
      "source": [
        "df.shape"
      ],
      "execution_count": 85,
      "outputs": [
        {
          "output_type": "execute_result",
          "data": {
            "text/plain": [
              "(303, 14)"
            ]
          },
          "metadata": {},
          "execution_count": 85
        }
      ]
    },
    {
      "cell_type": "code",
      "metadata": {
        "id": "0fFSogVgefR3",
        "colab": {
          "base_uri": "https://localhost:8080/"
        },
        "outputId": "86dd5b9c-410f-405b-9292-142c4e505df3"
      },
      "source": [
        "df.isnull().sum()"
      ],
      "execution_count": 7,
      "outputs": [
        {
          "output_type": "execute_result",
          "data": {
            "text/plain": [
              "age         0\n",
              "sex         0\n",
              "cp          0\n",
              "trtbps      0\n",
              "chol        0\n",
              "fbs         0\n",
              "restecg     0\n",
              "thalachh    0\n",
              "exng        0\n",
              "oldpeak     0\n",
              "slp         0\n",
              "caa         0\n",
              "thall       0\n",
              "output      0\n",
              "dtype: int64"
            ]
          },
          "metadata": {},
          "execution_count": 7
        }
      ]
    },
    {
      "cell_type": "code",
      "metadata": {
        "id": "JzJZj2kOeh1w",
        "colab": {
          "base_uri": "https://localhost:8080/",
          "height": 867
        },
        "outputId": "04f4f74f-3c5b-47c7-c8a7-c08922c218f4"
      },
      "source": [
        "corr = df_sp.corr().sort_values(ascending = False, by = \"output\")\n",
        "plt.figure(figsize=(15, 15))\n",
        "sns.heatmap(corr,annot=True,fmt=\".2\",cmap= 'coolwarm',linewidths=2,square = True)#it is hard to say that some data correlated with each.\n",
        "#output has weak corr withchol trtbps and fbs maybe we can cncat or combine them to get stronger something"
      ],
      "execution_count": 8,
      "outputs": [
        {
          "output_type": "execute_result",
          "data": {
            "text/plain": [
              "<matplotlib.axes._subplots.AxesSubplot at 0x7fc1cefb7410>"
            ]
          },
          "metadata": {},
          "execution_count": 8
        },
        {
          "output_type": "display_data",
          "data": {
            "image/png": "[encoded data removed]",
            "text/plain": [
              "<Figure size 1080x1080 with 2 Axes>"
            ]
          },
          "metadata": {
            "needs_background": "light"
          }
        }
      ]
    },
    {
      "cell_type": "code",
      "metadata": {
        "id": "7zPuPjgFepJz"
      },
      "source": [
        "#sns.barplot(x='AloneOrNot', y='output', data=df)#it can be clearly seen that if u came Titanic Alone u will Die Alone"
      ],
      "execution_count": null,
      "outputs": []
    },
    {
      "cell_type": "code",
      "metadata": {
        "id": "A6vgx30LfSq2"
      },
      "source": [
        "#sns.pairplot(df_sp, hue=\"output\")# we should normalize some of the numerical variables it should give us better results"
      ],
      "execution_count": null,
      "outputs": []
    },
    {
      "cell_type": "code",
      "metadata": {
        "id": "hdjUSuL3gL0r"
      },
      "source": [
        "X = df_sp.iloc[:,:-1]  \n",
        "y = df_sp.iloc[:,-1]"
      ],
      "execution_count": 77,
      "outputs": []
    },
    {
      "cell_type": "code",
      "metadata": {
        "colab": {
          "base_uri": "https://localhost:8080/",
          "height": 496
        },
        "id": "mTgx4WSlLjBo",
        "outputId": "d9e9894f-45fd-40f9-86b5-39c29000b011"
      },
      "source": [
        "# decision tree for feature importance on a regression problem\n",
        "from sklearn.datasets import make_regression\n",
        "from sklearn.tree import DecisionTreeRegressor\n",
        "from matplotlib import pyplot\n",
        "# define dataset\n",
        "# define the model\n",
        "model = DecisionTreeRegressor()\n",
        "# fit the model\n",
        "model.fit(X, y)\n",
        "# get importance\n",
        "importance = model.feature_importances_\n",
        "# summarize feature importance\n",
        "for i,v in enumerate(importance):\n",
        "\tprint('Feature: %0d, Score: %.3f' % (i,v))\n",
        "# plot feature importance\n",
        "pyplot.bar([x for x in range(len(importance))], importance)\n",
        "pyplot.show()"
      ],
      "execution_count": 81,
      "outputs": [
        {
          "output_type": "stream",
          "name": "stdout",
          "text": [
            "Feature: 0, Score: 0.063\n",
            "Feature: 1, Score: 0.022\n",
            "Feature: 2, Score: 0.266\n",
            "Feature: 3, Score: 0.053\n",
            "Feature: 4, Score: 0.113\n",
            "Feature: 5, Score: 0.000\n",
            "Feature: 6, Score: 0.025\n",
            "Feature: 7, Score: 0.043\n",
            "Feature: 8, Score: 0.020\n",
            "Feature: 9, Score: 0.105\n",
            "Feature: 10, Score: 0.037\n",
            "Feature: 11, Score: 0.139\n",
            "Feature: 12, Score: 0.113\n"
          ]
        },
        {
          "output_type": "display_data",
          "data": {
            "image/png": "[encoded data removed]",
            "text/plain": [
              "<Figure size 432x288 with 1 Axes>"
            ]
          },
          "metadata": {
            "needs_background": "light"
          }
        }
      ]
    },
    {
      "cell_type": "code",
      "metadata": {
        "colab": {
          "base_uri": "https://localhost:8080/",
          "height": 514
        },
        "id": "P46KGZLcMZOT",
        "outputId": "08a65a00-5750-4268-820a-3bb472301bbd"
      },
      "source": [
        "# xgboost for feature importance on a regression problem\n",
        "from xgboost import XGBRegressor\n",
        "# define the model\n",
        "model = XGBRegressor()\n",
        "# fit the model\n",
        "model.fit(X, y)\n",
        "# get importance\n",
        "importance = model.feature_importances_\n",
        "# summarize feature importance\n",
        "for i,v in enumerate(importance):\n",
        "\tprint('Feature: %0d, Score: %.5f' % (i,v))\n",
        "# plot feature importance\n",
        "pyplot.bar([x for x in range(len(importance))], importance)\n",
        "pyplot.show()"
      ],
      "execution_count": 82,
      "outputs": [
        {
          "output_type": "stream",
          "name": "stdout",
          "text": [
            "[08:20:37] WARNING: /workspace/src/objective/regression_obj.cu:152: reg:linear is now deprecated in favor of reg:squarederror.\n",
            "Feature: 0, Score: 0.02519\n",
            "Feature: 1, Score: 0.06522\n",
            "Feature: 2, Score: 0.29600\n",
            "Feature: 3, Score: 0.02474\n",
            "Feature: 4, Score: 0.02107\n",
            "Feature: 5, Score: 0.00732\n",
            "Feature: 6, Score: 0.02885\n",
            "Feature: 7, Score: 0.02367\n",
            "Feature: 8, Score: 0.08122\n",
            "Feature: 9, Score: 0.05342\n",
            "Feature: 10, Score: 0.10411\n",
            "Feature: 11, Score: 0.11999\n",
            "Feature: 12, Score: 0.14919\n"
          ]
        },
        {
          "output_type": "display_data",
          "data": {
            "image/png": "[encoded data removed]",
            "text/plain": [
              "<Figure size 432x288 with 1 Axes>"
            ]
          },
          "metadata": {
            "needs_background": "light"
          }
        }
      ]
    },
    {
      "cell_type": "code",
      "metadata": {
        "colab": {
          "base_uri": "https://localhost:8080/"
        },
        "id": "viKfVcs5fdIn",
        "outputId": "5c937527-a55e-4773-a949-1bc970500c51"
      },
      "source": [
        "bestf = SelectKBest(score_func=chi2, k=10)\n",
        "fit = bestf.fit(X,y)\n",
        "dfscores = pd.DataFrame(fit.scores_)\n",
        "dfcolumns = pd.DataFrame(X.columns)\n",
        "#concat two dataframes for better visualization \n",
        "featureScores = pd.concat([dfcolumns,dfscores],axis=1)\n",
        "featureScores.columns = ['Specs','Score']  \n",
        "print(featureScores.nlargest(12,'Score')) "
      ],
      "execution_count": 79,
      "outputs": [
        {
          "output_type": "stream",
          "name": "stdout",
          "text": [
            "       Specs       Score\n",
            "7   thalachh  188.320472\n",
            "9    oldpeak   72.644253\n",
            "11       caa   66.440765\n",
            "2         cp   62.598098\n",
            "8       exng   38.914377\n",
            "4       chol   23.936394\n",
            "0        age   23.286624\n",
            "3     trtbps   14.823925\n",
            "10       slp    9.804095\n",
            "1        sex    7.576835\n",
            "12     thall    5.791853\n",
            "6    restecg    2.978271\n"
          ]
        }
      ]
    },
    {
      "cell_type": "code",
      "metadata": {
        "colab": {
          "base_uri": "https://localhost:8080/",
          "height": 265
        },
        "id": "10ygjQjAhj_n",
        "outputId": "1bd7af60-1889-4194-c4d3-3c000e5a56a2"
      },
      "source": [
        "from sklearn.ensemble import ExtraTreesClassifier\n",
        "modell = ExtraTreesClassifier()\n",
        "modell.fit(X,y)\n",
        "\n",
        "feat_importances = pd.Series(model.feature_importances_, index=X.columns)\n",
        "feat_importances.nlargest(13).plot(kind='barh')\n",
        "plt.show()"
      ],
      "execution_count": 75,
      "outputs": [
        {
          "output_type": "display_data",
          "data": {
            "image/png": "[encoded data removed]",
            "text/plain": [
              "<Figure size 432x288 with 1 Axes>"
            ]
          },
          "metadata": {
            "needs_background": "light"
          }
        }
      ]
    },
    {
      "cell_type": "code",
      "metadata": {
        "colab": {
          "base_uri": "https://localhost:8080/",
          "height": 297
        },
        "id": "LxAQ6gS9TpKM",
        "outputId": "4651fa16-94a4-4092-d022-0793a2cc3984"
      },
      "source": [
        "sns.countplot(data= df_sp, x='thall',hue='output')#thall 2 means high chance of heart attack"
      ],
      "execution_count": 83,
      "outputs": [
        {
          "output_type": "execute_result",
          "data": {
            "text/plain": [
              "<matplotlib.axes._subplots.AxesSubplot at 0x7fc1c2aa0cd0>"
            ]
          },
          "metadata": {},
          "execution_count": 83
        },
        {
          "output_type": "display_data",
          "data": {
            "image/png": "[encoded data removed]",
            "text/plain": [
              "<Figure size 432x288 with 1 Axes>"
            ]
          },
          "metadata": {
            "needs_background": "light"
          }
        }
      ]
    },
    {
      "cell_type": "code",
      "metadata": {
        "colab": {
          "base_uri": "https://localhost:8080/",
          "height": 297
        },
        "id": "V3SFbNxwWMrv",
        "outputId": "5eb5e851-fc6f-4fb0-f52f-213db4c37dec"
      },
      "source": [
        "sns.countplot(data= df_sp, x='cp',hue='output')"
      ],
      "execution_count": 86,
      "outputs": [
        {
          "output_type": "execute_result",
          "data": {
            "text/plain": [
              "<matplotlib.axes._subplots.AxesSubplot at 0x7fc1c2ad40d0>"
            ]
          },
          "metadata": {},
          "execution_count": 86
        },
        {
          "output_type": "display_data",
          "data": {
            "image/png": "[encoded data removed]",
            "text/plain": [
              "<Figure size 432x288 with 1 Axes>"
            ]
          },
          "metadata": {
            "needs_background": "light"
          }
        }
      ]
    },
    {
      "cell_type": "code",
      "metadata": {
        "colab": {
          "base_uri": "https://localhost:8080/",
          "height": 297
        },
        "id": "3xnMuLAQh4TR",
        "outputId": "208da034-d34a-4431-e34f-2f4f24cad93c"
      },
      "source": [
        "sns.countplot(data= df_sp, x='slp',hue='output')#slp 2 also hihgh chane of heart attack"
      ],
      "execution_count": 13,
      "outputs": [
        {
          "output_type": "execute_result",
          "data": {
            "text/plain": [
              "<matplotlib.axes._subplots.AxesSubplot at 0x7fc1c5ab7e50>"
            ]
          },
          "metadata": {},
          "execution_count": 13
        },
        {
          "output_type": "display_data",
          "data": {
            "image/png": "[encoded data removed]",
            "text/plain": [
              "<Figure size 432x288 with 1 Axes>"
            ]
          },
          "metadata": {
            "needs_background": "light"
          }
        }
      ]
    },
    {
      "cell_type": "code",
      "metadata": {
        "colab": {
          "base_uri": "https://localhost:8080/",
          "height": 297
        },
        "id": "Y4gTuEIliQbc",
        "outputId": "82b24001-3658-47c3-f91a-2b38acd1bf52"
      },
      "source": [
        "sns.countplot(data= df_sp, x='sex',hue='output')#interesting for 0 sex chol trigger heart attack but we can not say that for sex 1"
      ],
      "execution_count": 14,
      "outputs": [
        {
          "output_type": "execute_result",
          "data": {
            "text/plain": [
              "<matplotlib.axes._subplots.AxesSubplot at 0x7fc1cf006910>"
            ]
          },
          "metadata": {},
          "execution_count": 14
        },
        {
          "output_type": "display_data",
          "data": {
            "image/png": "[encoded data removed]",
            "text/plain": [
              "<Figure size 432x288 with 1 Axes>"
            ]
          },
          "metadata": {
            "needs_background": "light"
          }
        }
      ]
    },
    {
      "cell_type": "code",
      "metadata": {
        "id": "WgMrWtSdiSpS"
      },
      "source": [
        "cat_vars  = ['Sex', 'cp', 'fbs','restecg','slp','caa','exng','thall']         # x.select_dtypes(include=[object]).columns.values.tolist()\n",
        "num_vars  = ['age', 'trtbps', 'chol', 'thalachh', 'oldpeak'] "
      ],
      "execution_count": 68,
      "outputs": []
    },
    {
      "cell_type": "code",
      "metadata": {
        "id": "xWG6xCRSluym"
      },
      "source": [
        "X_train, X_test, y_train, y_test = train_test_split(X, y, test_size=0.2, random_state=2)"
      ],
      "execution_count": 69,
      "outputs": []
    },
    {
      "cell_type": "code",
      "metadata": {
        "id": "oZkZeoyNlqHL"
      },
      "source": [
        "\"\"\"#cat_4_multModels = pipeline.Pipeline(steps=[('onehotencoder' , OneHotEncoder())\n",
        "#])\n",
        "\n",
        "\n",
        "num_4_multmodels=Pipeline(steps=[('scaler',StandardScaler())\n",
        "\n",
        "    ])\n",
        "tree_prepro = compose.ColumnTransformer(transformers=[\n",
        "     (\"num mult\",num_4_multmodels,num_vars)\n",
        "], remainder='drop') # Drop other vars not specified in num_vars or cat_vars\n",
        "\n",
        "tree_prepro\"\"\""
      ],
      "execution_count": null,
      "outputs": []
    },
    {
      "cell_type": "code",
      "metadata": {
        "id": "xQ5ePC99LDb7"
      },
      "source": [
        "\"\"\"from sklearn.pipeline import *\n",
        "mult_classifiers={\n",
        "    \"SVM\": svm.SVC(),\n",
        "    \"Logistic\": LogisticRegression(),\n",
        "    \"KNN\":KNeighborsClassifier(n_neighbors=3),\n",
        "    \"MLP\":MLPClassifier(solver='lbfgs', alpha=1e-5,hidden_layer_sizes=(5, 2), random_state=1),\n",
        "    \"RDF\":RandomForestClassifier(random_state=42),\n",
        "    \"GBM\": GradientBoostingClassifier(n_estimators=100, learning_rate=1.0,max_depth=1, random_state=0),\n",
        "    \"LGBM\":LGBMClassifier(boosting_type='gbdt', num_leaves=31, max_depth=-1, learning_rate=0.1, n_estimators=100),\n",
        "    \"XGBoost\": XGBClassifier(),\n",
        "    }\n",
        "\n",
        "mult_classifiers = {name: make_pipeline(tree_prepro, model) for name, model in mult_classifiers.items()}\n",
        "\n",
        "mult_classifiers[\"SVM\"]\"\"\""
      ],
      "execution_count": null,
      "outputs": []
    },
    {
      "cell_type": "code",
      "metadata": {
        "colab": {
          "base_uri": "https://localhost:8080/",
          "height": 203
        },
        "id": "CoQZRMXiLMT8",
        "outputId": "3e03ae98-b073-4793-fab5-106dbb572999"
      },
      "source": [
        "\"\"\"from sklearn import metrics \n",
        "results = pd.DataFrame({'Model': [], 'Accuracy': [], 'Bal Acc.': [], 'Time': []})\n",
        "x_train, x_val, y_train, y_val = model_selection.train_test_split(X,y, test_size=0.2,stratify = y, random_state=4)\n",
        "for model_name, model in mult_classifiers.items():\n",
        "    start_time = time.time()\n",
        "    \n",
        "    # FOR EVERY PIPELINE (PREPRO + MODEL) -> TRAIN WITH TRAIN DATA (x_train)\n",
        "    model.fit(x_train,y_train)\n",
        "    # GET PREDICTIONS USING x_val\n",
        "    pred = model.predict(x_val)\n",
        "\n",
        "    total_time = time.time() - start_time\n",
        "\n",
        "    results = results.append({\"Model\":    model_name,\n",
        "                              \"Accuracy\": metrics.accuracy_score(y_val, pred)*100,\n",
        "                              \"Bal Acc.\": metrics.balanced_accuracy_score(y_val, pred)*100,\n",
        "                              \"Time\":     total_time},\n",
        "                              ignore_index=True)\n",
        "results_ord = results.sort_values(by=['Accuracy'], ascending=False, ignore_index=True)\n",
        "results_ord.index += 1 \n",
        "results_ord.style.bar(subset=['Accuracy', 'Bal Acc.'], vmin=0, vmax=100, color='#5fba7d')\"\"\""
      ],
      "execution_count": 60,
      "outputs": [
        {
          "output_type": "execute_result",
          "data": {
            "text/html": [
              "<style  type=\"text/css\" >\n",
              "#T_5766f220_0ee7_11ec_8ae2_0242ac1c0002row0_col1,#T_5766f220_0ee7_11ec_8ae2_0242ac1c0002row1_col1{\n",
              "            width:  10em;\n",
              "             height:  80%;\n",
              "            background:  linear-gradient(90deg,#5fba7d 80.3%, transparent 80.3%);\n",
              "        }#T_5766f220_0ee7_11ec_8ae2_0242ac1c0002row0_col2{\n",
              "            width:  10em;\n",
              "             height:  80%;\n",
              "            background:  linear-gradient(90deg,#5fba7d 79.7%, transparent 79.7%);\n",
              "        }#T_5766f220_0ee7_11ec_8ae2_0242ac1c0002row1_col2{\n",
              "            width:  10em;\n",
              "             height:  80%;\n",
              "            background:  linear-gradient(90deg,#5fba7d 80.7%, transparent 80.7%);\n",
              "        }#T_5766f220_0ee7_11ec_8ae2_0242ac1c0002row2_col1,#T_5766f220_0ee7_11ec_8ae2_0242ac1c0002row3_col1{\n",
              "            width:  10em;\n",
              "             height:  80%;\n",
              "            background:  linear-gradient(90deg,#5fba7d 78.7%, transparent 78.7%);\n",
              "        }#T_5766f220_0ee7_11ec_8ae2_0242ac1c0002row2_col2{\n",
              "            width:  10em;\n",
              "             height:  80%;\n",
              "            background:  linear-gradient(90deg,#5fba7d 78.4%, transparent 78.4%);\n",
              "        }#T_5766f220_0ee7_11ec_8ae2_0242ac1c0002row3_col2{\n",
              "            width:  10em;\n",
              "             height:  80%;\n",
              "            background:  linear-gradient(90deg,#5fba7d 77.9%, transparent 77.9%);\n",
              "        }#T_5766f220_0ee7_11ec_8ae2_0242ac1c0002row4_col1{\n",
              "            width:  10em;\n",
              "             height:  80%;\n",
              "            background:  linear-gradient(90deg,#5fba7d 77.0%, transparent 77.0%);\n",
              "        }#T_5766f220_0ee7_11ec_8ae2_0242ac1c0002row4_col2{\n",
              "            width:  10em;\n",
              "             height:  80%;\n",
              "            background:  linear-gradient(90deg,#5fba7d 76.4%, transparent 76.4%);\n",
              "        }#T_5766f220_0ee7_11ec_8ae2_0242ac1c0002row5_col1,#T_5766f220_0ee7_11ec_8ae2_0242ac1c0002row6_col1{\n",
              "            width:  10em;\n",
              "             height:  80%;\n",
              "            background:  linear-gradient(90deg,#5fba7d 73.8%, transparent 73.8%);\n",
              "        }#T_5766f220_0ee7_11ec_8ae2_0242ac1c0002row5_col2{\n",
              "            width:  10em;\n",
              "             height:  80%;\n",
              "            background:  linear-gradient(90deg,#5fba7d 73.6%, transparent 73.6%);\n",
              "        }#T_5766f220_0ee7_11ec_8ae2_0242ac1c0002row6_col2{\n",
              "            width:  10em;\n",
              "             height:  80%;\n",
              "            background:  linear-gradient(90deg,#5fba7d 73.3%, transparent 73.3%);\n",
              "        }#T_5766f220_0ee7_11ec_8ae2_0242ac1c0002row7_col1{\n",
              "            width:  10em;\n",
              "             height:  80%;\n",
              "            background:  linear-gradient(90deg,#5fba7d 65.6%, transparent 65.6%);\n",
              "        }#T_5766f220_0ee7_11ec_8ae2_0242ac1c0002row7_col2{\n",
              "            width:  10em;\n",
              "             height:  80%;\n",
              "            background:  linear-gradient(90deg,#5fba7d 65.2%, transparent 65.2%);\n",
              "        }</style><table id=\"T_5766f220_0ee7_11ec_8ae2_0242ac1c0002\" ><thead>    <tr>        <th class=\"blank level0\" ></th>        <th class=\"col_heading level0 col0\" >Model</th>        <th class=\"col_heading level0 col1\" >Accuracy</th>        <th class=\"col_heading level0 col2\" >Bal Acc.</th>        <th class=\"col_heading level0 col3\" >Time</th>    </tr></thead><tbody>\n",
              "                <tr>\n",
              "                        <th id=\"T_5766f220_0ee7_11ec_8ae2_0242ac1c0002level0_row0\" class=\"row_heading level0 row0\" >1</th>\n",
              "                        <td id=\"T_5766f220_0ee7_11ec_8ae2_0242ac1c0002row0_col0\" class=\"data row0 col0\" >SVM</td>\n",
              "                        <td id=\"T_5766f220_0ee7_11ec_8ae2_0242ac1c0002row0_col1\" class=\"data row0 col1\" >80.327869</td>\n",
              "                        <td id=\"T_5766f220_0ee7_11ec_8ae2_0242ac1c0002row0_col2\" class=\"data row0 col2\" >79.653680</td>\n",
              "                        <td id=\"T_5766f220_0ee7_11ec_8ae2_0242ac1c0002row0_col3\" class=\"data row0 col3\" >0.017215</td>\n",
              "            </tr>\n",
              "            <tr>\n",
              "                        <th id=\"T_5766f220_0ee7_11ec_8ae2_0242ac1c0002level0_row1\" class=\"row_heading level0 row1\" >2</th>\n",
              "                        <td id=\"T_5766f220_0ee7_11ec_8ae2_0242ac1c0002row1_col0\" class=\"data row1 col0\" >MLP</td>\n",
              "                        <td id=\"T_5766f220_0ee7_11ec_8ae2_0242ac1c0002row1_col1\" class=\"data row1 col1\" >80.327869</td>\n",
              "                        <td id=\"T_5766f220_0ee7_11ec_8ae2_0242ac1c0002row1_col2\" class=\"data row1 col2\" >80.735931</td>\n",
              "                        <td id=\"T_5766f220_0ee7_11ec_8ae2_0242ac1c0002row1_col3\" class=\"data row1 col3\" >0.131189</td>\n",
              "            </tr>\n",
              "            <tr>\n",
              "                        <th id=\"T_5766f220_0ee7_11ec_8ae2_0242ac1c0002level0_row2\" class=\"row_heading level0 row2\" >3</th>\n",
              "                        <td id=\"T_5766f220_0ee7_11ec_8ae2_0242ac1c0002row2_col0\" class=\"data row2 col0\" >Logistic</td>\n",
              "                        <td id=\"T_5766f220_0ee7_11ec_8ae2_0242ac1c0002row2_col1\" class=\"data row2 col1\" >78.688525</td>\n",
              "                        <td id=\"T_5766f220_0ee7_11ec_8ae2_0242ac1c0002row2_col2\" class=\"data row2 col2\" >78.409091</td>\n",
              "                        <td id=\"T_5766f220_0ee7_11ec_8ae2_0242ac1c0002row2_col3\" class=\"data row2 col3\" >0.011431</td>\n",
              "            </tr>\n",
              "            <tr>\n",
              "                        <th id=\"T_5766f220_0ee7_11ec_8ae2_0242ac1c0002level0_row3\" class=\"row_heading level0 row3\" >4</th>\n",
              "                        <td id=\"T_5766f220_0ee7_11ec_8ae2_0242ac1c0002row3_col0\" class=\"data row3 col0\" >GBM</td>\n",
              "                        <td id=\"T_5766f220_0ee7_11ec_8ae2_0242ac1c0002row3_col1\" class=\"data row3 col1\" >78.688525</td>\n",
              "                        <td id=\"T_5766f220_0ee7_11ec_8ae2_0242ac1c0002row3_col2\" class=\"data row3 col2\" >77.867965</td>\n",
              "                        <td id=\"T_5766f220_0ee7_11ec_8ae2_0242ac1c0002row3_col3\" class=\"data row3 col3\" >0.070539</td>\n",
              "            </tr>\n",
              "            <tr>\n",
              "                        <th id=\"T_5766f220_0ee7_11ec_8ae2_0242ac1c0002level0_row4\" class=\"row_heading level0 row4\" >5</th>\n",
              "                        <td id=\"T_5766f220_0ee7_11ec_8ae2_0242ac1c0002row4_col0\" class=\"data row4 col0\" >XGBoost</td>\n",
              "                        <td id=\"T_5766f220_0ee7_11ec_8ae2_0242ac1c0002row4_col1\" class=\"data row4 col1\" >77.049180</td>\n",
              "                        <td id=\"T_5766f220_0ee7_11ec_8ae2_0242ac1c0002row4_col2\" class=\"data row4 col2\" >76.352814</td>\n",
              "                        <td id=\"T_5766f220_0ee7_11ec_8ae2_0242ac1c0002row4_col3\" class=\"data row4 col3\" >0.031766</td>\n",
              "            </tr>\n",
              "            <tr>\n",
              "                        <th id=\"T_5766f220_0ee7_11ec_8ae2_0242ac1c0002level0_row5\" class=\"row_heading level0 row5\" >6</th>\n",
              "                        <td id=\"T_5766f220_0ee7_11ec_8ae2_0242ac1c0002row5_col0\" class=\"data row5 col0\" >RDF</td>\n",
              "                        <td id=\"T_5766f220_0ee7_11ec_8ae2_0242ac1c0002row5_col1\" class=\"data row5 col1\" >73.770492</td>\n",
              "                        <td id=\"T_5766f220_0ee7_11ec_8ae2_0242ac1c0002row5_col2\" class=\"data row5 col2\" >73.593074</td>\n",
              "                        <td id=\"T_5766f220_0ee7_11ec_8ae2_0242ac1c0002row5_col3\" class=\"data row5 col3\" >0.210736</td>\n",
              "            </tr>\n",
              "            <tr>\n",
              "                        <th id=\"T_5766f220_0ee7_11ec_8ae2_0242ac1c0002level0_row6\" class=\"row_heading level0 row6\" >7</th>\n",
              "                        <td id=\"T_5766f220_0ee7_11ec_8ae2_0242ac1c0002row6_col0\" class=\"data row6 col0\" >LGBM</td>\n",
              "                        <td id=\"T_5766f220_0ee7_11ec_8ae2_0242ac1c0002row6_col1\" class=\"data row6 col1\" >73.770492</td>\n",
              "                        <td id=\"T_5766f220_0ee7_11ec_8ae2_0242ac1c0002row6_col2\" class=\"data row6 col2\" >73.322511</td>\n",
              "                        <td id=\"T_5766f220_0ee7_11ec_8ae2_0242ac1c0002row6_col3\" class=\"data row6 col3\" >0.029492</td>\n",
              "            </tr>\n",
              "            <tr>\n",
              "                        <th id=\"T_5766f220_0ee7_11ec_8ae2_0242ac1c0002level0_row7\" class=\"row_heading level0 row7\" >8</th>\n",
              "                        <td id=\"T_5766f220_0ee7_11ec_8ae2_0242ac1c0002row7_col0\" class=\"data row7 col0\" >KNN</td>\n",
              "                        <td id=\"T_5766f220_0ee7_11ec_8ae2_0242ac1c0002row7_col1\" class=\"data row7 col1\" >65.573770</td>\n",
              "                        <td id=\"T_5766f220_0ee7_11ec_8ae2_0242ac1c0002row7_col2\" class=\"data row7 col2\" >65.205628</td>\n",
              "                        <td id=\"T_5766f220_0ee7_11ec_8ae2_0242ac1c0002row7_col3\" class=\"data row7 col3\" >0.012011</td>\n",
              "            </tr>\n",
              "    </tbody></table>"
            ],
            "text/plain": [
              "<pandas.io.formats.style.Styler at 0x7fc1c4854050>"
            ]
          },
          "metadata": {},
          "execution_count": 60
        }
      ]
    },
    {
      "cell_type": "code",
      "metadata": {
        "id": "A1Lvc9ic2uMq"
      },
      "source": [
        "pipe_LogReg = Pipeline([('scaler',StandardScaler()),\n",
        "                        ('LogisticRegression',LogisticRegression())])\n",
        "\n",
        "pipe_knn = Pipeline([('scaler',StandardScaler()),\n",
        "                        ('KNeighborsClassifier',KNeighborsClassifier())])\n",
        "\n",
        "pipe_GBM = Pipeline([('scaler',StandardScaler()),\n",
        "                        (\"GBM\", GradientBoostingClassifier(n_estimators=100, learning_rate=1.0,max_depth=1, random_state=0),)])\n",
        "\n",
        "pipe_RForest = Pipeline([('scaler',StandardScaler()),\n",
        "                  ('RandomForestClassifier',RandomForestClassifier())])\n",
        "\n",
        "\n",
        "pipe_Ada = Pipeline([('scaler',StandardScaler()),\n",
        "                  ('AdaBoostClassifier',AdaBoostClassifier())])"
      ],
      "execution_count": 70,
      "outputs": []
    },
    {
      "cell_type": "code",
      "metadata": {
        "id": "D7TSK9pW23Mx"
      },
      "source": [
        "pipelines = [pipe_LogReg ,pipe_knn,pipe_GBM,pipe_RForest,pipe_Ada]"
      ],
      "execution_count": 71,
      "outputs": []
    },
    {
      "cell_type": "code",
      "metadata": {
        "id": "VNSxZTbB4EyE"
      },
      "source": [
        "for pipe in pipelines:\n",
        "    pipe.fit(X_train,y_train)"
      ],
      "execution_count": 72,
      "outputs": []
    },
    {
      "cell_type": "code",
      "metadata": {
        "colab": {
          "base_uri": "https://localhost:8080/"
        },
        "id": "CUJJ8KkZ4FVl",
        "outputId": "074716a6-dc73-4cf3-ce29-1fd409eacc29"
      },
      "source": [
        "model_name =[]\n",
        "scores=[]\n",
        "\n",
        "for i,model in enumerate(pipelines):\n",
        "    pred = model.predict(X_test)\n",
        "    score = accuracy_score(y_test,pred)\n",
        "    model_name.append(model.steps[1][0])\n",
        "    scores.append(score)\n",
        "    print(i,model.steps[1][0].upper(),':',score)\n",
        "    print('\\n')"
      ],
      "execution_count": 73,
      "outputs": [
        {
          "output_type": "stream",
          "name": "stdout",
          "text": [
            "0 LOGISTICREGRESSION : 0.8688524590163934\n",
            "\n",
            "\n",
            "1 KNEIGHBORSCLASSIFIER : 0.819672131147541\n",
            "\n",
            "\n",
            "2 GBM : 0.8524590163934426\n",
            "\n",
            "\n",
            "3 RANDOMFORESTCLASSIFIER : 0.8852459016393442\n",
            "\n",
            "\n",
            "4 ADABOOSTCLASSIFIER : 0.8852459016393442\n",
            "\n",
            "\n"
          ]
        }
      ]
    },
    {
      "cell_type": "code",
      "metadata": {
        "id": "By5cQy8m4Hxp",
        "colab": {
          "base_uri": "https://localhost:8080/"
        },
        "outputId": "10a40206-a49e-44eb-8b05-2cedb60e5e1f"
      },
      "source": [
        "confusion_matrix(y_test, pred2)"
      ],
      "execution_count": 74,
      "outputs": [
        {
          "output_type": "execute_result",
          "data": {
            "text/plain": [
              "array([[25,  7],\n",
              "       [ 0, 29]])"
            ]
          },
          "metadata": {},
          "execution_count": 74
        }
      ]
    },
    {
      "cell_type": "code",
      "metadata": {
        "id": "pG9VEV2hH4mZ"
      },
      "source": [
        "#add CLI\n",
        "import argparse\n"
      ],
      "execution_count": 95,
      "outputs": []
    },
    {
      "cell_type": "code",
      "metadata": {
        "colab": {
          "base_uri": "https://localhost:8080/",
          "height": 185
        },
        "id": "XPkpoyrgcQQD",
        "outputId": "7a8ed159-041a-4d0d-fa39-79ed35482d2a"
      },
      "source": [
        "parser = argparse.ArgumentParser()\n",
        "parser.add_argument('--op', help='Provide the operation to perform')\n",
        "parser.add_argument('--v', help='Input the values')\n",
        "args = parser.parse_args()\n",
        "a = 4\n",
        "b = int(args.b)\n",
        "\n",
        "# Parse the argument and perform the operation:\n",
        "if args.op == 'add':\n",
        "\tprint(f\"{a} + {b} is {a+b}\")\n",
        "elif args.op == 'sub':\n",
        "\tprint(f\"{a} - {b} is {a-b}\")\n",
        "else:\n",
        "  print(\"Invalid operation\")"
      ],
      "execution_count": 96,
      "outputs": [
        {
          "output_type": "stream",
          "name": "stderr",
          "text": [
            "usage: ipykernel_launcher.py [-h] [--op OP] [--v V]\n",
            "ipykernel_launcher.py: error: unrecognized arguments: -f /root/.local/share/jupyter/runtime/kernel-b738f96c-da56-4827-afd4-fed0f1bafb6c.json\n"
          ]
        },
        {
          "output_type": "error",
          "ename": "SystemExit",
          "evalue": "ignored",
          "traceback": [
            "An exception has occurred, use %tb to see the full traceback.\n",
            "\u001b[0;31mSystemExit\u001b[0m\u001b[0;31m:\u001b[0m 2\n"
          ]
        },
        {
          "output_type": "stream",
          "name": "stderr",
          "text": [
            "/usr/local/lib/python3.7/dist-packages/IPython/core/interactiveshell.py:2890: UserWarning: To exit: use 'exit', 'quit', or Ctrl-D.\n",
            "  warn(\"To exit: use 'exit', 'quit', or Ctrl-D.\", stacklevel=1)\n"
          ]
        }
      ]
    },
    {
      "cell_type": "code",
      "metadata": {
        "id": "0Ad-nxDcguax"
      },
      "source": [
        ""
      ],
      "execution_count": null,
      "outputs": []
    }
  ]
}