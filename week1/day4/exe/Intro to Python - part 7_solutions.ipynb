{
  "nbformat": 4,
  "nbformat_minor": 0,
  "metadata": {
    "kernelspec": {
      "display_name": "Python 3",
      "language": "python",
      "name": "python3"
    },
    "language_info": {
      "codemirror_mode": {
        "name": "ipython",
        "version": 3
      },
      "file_extension": ".py",
      "mimetype": "text/x-python",
      "name": "python",
      "nbconvert_exporter": "python",
      "pygments_lexer": "ipython3",
      "version": "3.7.4"
    },
    "colab": {
      "name": "Intro to Python - part 7.ipynb",
      "provenance": []
    }
  },
  "cells": [
    {
      "cell_type": "markdown",
      "metadata": {
        "id": "If0LyjIeBbyl"
      },
      "source": [
        "# Chapter 11 - Text Files"
      ]
    },
    {
      "cell_type": "markdown",
      "metadata": {
        "id": "o5gZEpOpBbyp"
      },
      "source": [
        "---"
      ]
    },
    {
      "cell_type": "markdown",
      "metadata": {
        "id": "WdRH9IaUBbyq"
      },
      "source": [
        "One of the most important uses of Python for data processing is the reading, changing, and writing of text files. Data is often stored in text files, because text files can be easily transferred between different programs. There are multiple standardized formats for text files, such as \"comma-separated values\" (CSV) files. Python supports particular text file formats through modules, some of which will be discussed later. This chapter focusses on opening, reading, writing, and closing of any text file, regardless of format. "
      ]
    },
    {
      "cell_type": "markdown",
      "metadata": {
        "id": "4wsrabLxBbyr"
      },
      "source": [
        "---"
      ]
    },
    {
      "cell_type": "markdown",
      "metadata": {
        "id": "i95kd4XmBbys"
      },
      "source": [
        "## Flat text files"
      ]
    },
    {
      "cell_type": "markdown",
      "metadata": {
        "id": "NC6MmTB9Bbyt"
      },
      "source": [
        "When programmers refer to \"text files\" or \"flat text files\", they mean files in which all characters are meant to be read as regular characters, like you would type on a keyboard. For instance, Python program files are flat text files, as are HTML files. Word processor documents, however, are not flat text files, and neither are images. If you want to know whether a file is a text file or not, you can try to open it in a text editor (such as the editor for the IDLE environment, which comes with Python). If you see only readable text, the file is likely to be a text file. Otherwise, it is a so-called \"binary file\".\n",
        "\n",
        "Text files consist of lines of text. At the end of a line, there is a \"newline\" symbol, which in Python is the character \"`\\n`\". Different operating systems use slightly different ways of storing this character in a text file: some Windows programs store it as \"carriage return\", as well as \"line feed\" (\"`\\r\\n`\", sometimes thought as a leftover from old typewriters), while on Linux it is always stored as a single \"`\\n`\". As long as you access a file from Python as a regular text file, Python will convert the characters that it reads to the standard \"`\\n`\", and vice versa when it writes. So you do not usually need to worry about such differences (except when you need to transfer text files between operating systems).\n",
        "\n",
        "However; if you open a file in other editors, such as notepad, sometimes it does not properly understand the end-of-line characters, and shows everything on one line."
      ]
    },
    {
      "cell_type": "markdown",
      "metadata": {
        "id": "myZWGWwWBbyu"
      },
      "source": [
        "### File handles and pointers"
      ]
    },
    {
      "cell_type": "markdown",
      "metadata": {
        "id": "GG0AKbCABbyu"
      },
      "source": [
        "When you work with a file in a program, you have to open the file. Opening a file provides a so-called \"file handle\". A file handle can be seen as an access point to the file. It contains a \"pointer\" that indicates a particular place in the file. That pointer is used when you read from or write to the file. For instance, when you read from the file, it starts reading at the pointer, and moves the pointer forward in the file.\n",
        "\n",
        "When you open a file, the pointer is placed at a particular spot in the file, depending on how you opened the file. If you opened the file for reading only, the pointer is placed at the start of the file. The same is true when you open the file for both reading and writing. If you open the file for \"appending\" (i.e., to place new data at the file's end), the file pointer is positioned at the end of the file. Lastly, if you open a file for writing only, actually the file is completely emptied and the file pointer is placed at the start of the, now empty, file. To create a new file (i.e., a file with a name that does not exist yet), you open it for \"writing only\".\n",
        "\n",
        "After opening the file, the file handle is the only access point for the file. All actions you perform on the file, you perform as methods for the file handle.\n",
        "\n",
        "Note that any operating system only allows a limited number of files to be open simultaneously. Therefore you should close files that you no longer need to work with."
      ]
    },
    {
      "cell_type": "markdown",
      "metadata": {
        "id": "WsKARqKUBbyv"
      },
      "source": [
        "### Moving the file pointer"
      ]
    },
    {
      "cell_type": "markdown",
      "metadata": {
        "id": "aocNw0VkBbyw"
      },
      "source": [
        "The file pointer, that indicates where in a file you are working, is moved automatically. For instance, when you read 10 characters from a file, the file pointer indicates which is the first of those 10 characters, and, while reading, moves up 10 characters, so that its new position is 10 characters further in the file than before. When you deal with text files, the automatic movements of the file pointer are exactly what you want. You *can* position the file pointer manually using specific methods, but such methods are, in general, only used when dealing with binary files. "
      ]
    },
    {
      "cell_type": "markdown",
      "metadata": {
        "id": "TLLgEr3IBbyx"
      },
      "source": [
        "### Buffering"
      ]
    },
    {
      "cell_type": "markdown",
      "metadata": {
        "id": "2AZoO-PwBbyx"
      },
      "source": [
        "When you make changes to files, these often are not stored in the files immediately. Instead, the operating system \"buffers\" the changes in memory, and \"flushes\" the buffers to the actual files when it sees a need for that. You can force the flushing of the buffers by closing a file. Buffers are also flushed when your program ends normally.\n",
        "\n",
        "However, when your program crashes (for instance because of a runtime error), buffers might not be flushed, and your files will not be updated to the point where the crash took place. So you cannot take the file contents into account when trying to debug a program."
      ]
    },
    {
      "cell_type": "markdown",
      "metadata": {
        "id": "61EgwpScBbyy"
      },
      "source": [
        "### File processing programs"
      ]
    },
    {
      "cell_type": "markdown",
      "metadata": {
        "id": "4FiwRboABbyy"
      },
      "source": [
        "Most programs that deal with text files follow a process that, in a loop, reads contents of a file, processes those contents in some way, then writes the contents to another file. For instance, a program might read lines from a text file, and for each line sort the words, then write the sorted words to another text file. This is hardly any different from a program that asks the user the provide, in a loop, a line of text, then sorts the words in the line, and displays them using the `print()` function. \n",
        "\n",
        "However, it tends to be experienced as more complicated.\n",
        "\n",
        "When you provide input to a program manually, and see it displaying outputs, you always know more or less what lines of your code Python is processing, and you can make up tests on the fly. If you work with files, you have to prepare your files beforehand, then run the program and wait until it finishes before you can examine the contents of the output files. \n",
        "\n",
        "While working with files might give a sense of lack of control, during development of the program you can always include `print()` statements to get an insight in what the program is doing. For instance, when it reads a line, you can print that line, and when it writes a line, you can also print that line. That way, your insight in the inner workings of the program is no different regardless whether you use manual inputs and screen outputs, or file inputs and outputs."
      ]
    },
    {
      "cell_type": "markdown",
      "metadata": {
        "id": "upNb5stQBby0"
      },
      "source": [
        "---"
      ]
    },
    {
      "cell_type": "markdown",
      "metadata": {
        "id": "kN-Tw3y3Bby0"
      },
      "source": [
        "## Reading text files"
      ]
    },
    {
      "cell_type": "markdown",
      "metadata": {
        "id": "3hg71JDwBby1"
      },
      "source": [
        "To read the contents of a file, you must first open it, then read the contents, then close it."
      ]
    },
    {
      "cell_type": "markdown",
      "metadata": {
        "id": "ARShkTDaBby1"
      },
      "source": [
        "### Opening a file using `open()`"
      ]
    },
    {
      "cell_type": "markdown",
      "metadata": {
        "id": "fUyzWVpcBby1"
      },
      "source": [
        "To open a file, you use the `open()` function. \n",
        "\n",
        "The `open()` function gets two arguments, of which the second one is optional. The first argument is the name of the file. If the file is not in the current directory, you have to include the complete path to the file so that Python can find it. The second argument is the \"mode\". The mode indicates how you want to treat the file. The default mode (which is picked when you do not supply the second argument) is opening the file as a text file for reading only. How you set other modes is discussed later.\n",
        "\n",
        "The `open()` function returns a file handle, which you use for all the remaining functionalities.\n",
        "\n",
        "Rather than writing \"`<handle> = open( <filename> )`\", you will often see Python programs that write this as \"`open( <filename> ) as <handle>`\". These two ways of writing code are equivalent. I myself prefer the first, as that is the way it is done in most programming languages. However, the second method has an advantage that I discuss below, when talking about closing a file."
      ]
    },
    {
      "cell_type": "markdown",
      "metadata": {
        "id": "6gU6JeP9Bby1"
      },
      "source": [
        "### Reading a file using `read()`"
      ]
    },
    {
      "cell_type": "markdown",
      "metadata": {
        "id": "U-i_akIzBby2"
      },
      "source": [
        "The simplest way to read the contents of a file is using the `read()` method, without arguments, on the file handle. This returns a string that contains the complete contents of the file. `read()` can get an argument, but that's only used for binary files.\n",
        "\n",
        "Reading from a file moves the file pointer to right after the part of the file that was read. This means that if you use the `read()` method without arguments, the file pointer is moved to the end of the file. This entails that if you would try to `read()` from it a second time, nothing would be read, as there is nothing to be read after the spot where the file pointer is."
      ]
    },
    {
      "cell_type": "markdown",
      "metadata": {
        "id": "lgEjeuJ1Bby2"
      },
      "source": [
        "### Closing a file using `close()`"
      ]
    },
    {
      "cell_type": "markdown",
      "metadata": {
        "id": "2DQrbMFqBby2"
      },
      "source": [
        "To close a file, you use the `close()` method on the file handle. Every file that you open, you should close at some point in your program. This is especially true in these notebooks, as each notebook page is considered to be one complete program; this means that if you do not close a file, it remains open even after the bit of code that you executed ends.\n",
        "\n",
        "If everything that you need to do with a file is done in a single block, you can write this block as follows:\n",
        "\n",
        "    with open( <filename> ) as <handle>:\n",
        "        <statements>\n",
        "        \n",
        "This syntactic construction has the advantage that the file will be closed automatically after the block `<statements>` ends, so you do not need to include an explicit `close()` call. This construction is typically Python; you do not see it in many other programming languages."
      ]
    },
    {
      "cell_type": "markdown",
      "metadata": {
        "id": "d66KIayEBby3"
      },
      "source": [
        "### Displaying the contents of a file"
      ]
    },
    {
      "cell_type": "markdown",
      "metadata": {
        "id": "eAvoyW6UBby3"
      },
      "source": [
        "Now the first few functions and methods for dealing with text files have been introduced, I can show some code that reads the contents of a file."
      ]
    },
    {
      "cell_type": "code",
      "metadata": {
        "id": "p70e9rWJBby4",
        "outputId": "65607abe-60b9-4d5f-fa26-a9da1e92aa93"
      },
      "source": [
        "\n",
        "def display_contents_file(file_name):\n",
        "    #fp = open(file_name, \"r\")\n",
        "    with open( file_name ) as fp:\n",
        "        buffer = fp.read()\n",
        "    print( buffer )\n",
        "    \n",
        "display_contents_file(\"Shakespeare.txt\")"
      ],
      "execution_count": null,
      "outputs": [
        {
          "output_type": "stream",
          "text": [
            "1609\n",
            "\n",
            "THE SONNETS\n",
            "\n",
            "by William Shakespeare\n",
            "\n",
            "\n",
            "\n",
            "                     1\n",
            "  From fairest creatures we desire increase,\n",
            "  That thereby beauty's rose might never die,\n",
            "  But as the riper should by time decease,\n",
            "  His tender heir might bear his memory:\n",
            "  But thou contracted to thine own bright eyes,\n",
            "  Feed'st thy light's flame with self-substantial fuel,\n",
            "  Making a famine where abundance lies,\n",
            "  Thy self thy foe, to thy sweet self too cruel:\n",
            "  Thou that art now the world's fresh ornament,\n",
            "  And only herald to the gaudy spring,\n",
            "  Within thine own bud buriest thy content,\n",
            "  And tender churl mak'st waste in niggarding:\n",
            "    Pity the world, or else this glutton be,\n",
            "    To eat the world's due, by the grave and thee.\n",
            "\n",
            "\n",
            "                     2\n",
            "  When forty winters shall besiege thy brow,\n",
            "  And dig deep trenches in thy beauty's field,\n",
            "  Thy youth's proud livery so gazed on now,\n",
            "  Will be a tattered weed of small worth held:\n",
            "  Then being asked, where all thy beauty lies,\n",
            "  Where all the treasure of thy lusty days;\n",
            "  To say within thine own deep sunken eyes,\n",
            "  Were an all-eating shame, and thriftless praise.\n",
            "  How much more praise deserved thy beauty's use,\n",
            "  If thou couldst answer 'This fair child of mine\n",
            "  Shall sum my count, and make my old excuse'\n",
            "  Proving his beauty by succession thine.\n",
            "    This were to be new made when thou art old,\n",
            "    And see thy blood warm when thou feel'st it cold.\n",
            "\n",
            "\n",
            "                     3\n",
            "  Look in thy glass and tell the face thou viewest,\n",
            "  Now is the time that face should form another,\n",
            "  Whose fresh repair if now thou not renewest,\n",
            "  Thou dost beguile the world, unbless some mother.\n",
            "  For where is she so fair whose uneared womb\n",
            "  Disdains the tillage of thy husbandry?\n",
            "  Or who is he so fond will be the tomb,\n",
            "  Of his self-love to stop posterity?\n",
            "  Thou art thy mother's glass and she in thee\n",
            "  Calls back the lovely April of her prime,\n",
            "  So thou through windows of thine age shalt see,\n",
            "  Despite of wrinkles this thy golden time.\n",
            "    But if thou live remembered not to be,\n",
            "    Die single and thine image dies with thee.\n",
            "\n",
            "\n",
            "                     4\n",
            "  Unthrifty loveliness why dost thou spend,\n",
            "  Upon thy self thy beauty's legacy?\n",
            "  Nature's bequest gives nothing but doth lend,\n",
            "  And being frank she lends to those are free:\n",
            "  Then beauteous niggard why dost thou abuse,\n",
            "  The bounteous largess given thee to give?\n",
            "  Profitless usurer why dost thou use\n",
            "  So great a sum of sums yet canst not live?\n",
            "  For having traffic with thy self alone,\n",
            "  Thou of thy self thy sweet self dost deceive,\n",
            "  Then how when nature calls thee to be gone,\n",
            "  What acceptable audit canst thou leave?\n",
            "    Thy unused beauty must be tombed with thee,\n",
            "    Which used lives th' executor to be.\n",
            "\n",
            "\n",
            "                     5\n",
            "  Those hours that with gentle work did frame\n",
            "  The lovely gaze where every eye doth dwell\n",
            "  Will play the tyrants to the very same,\n",
            "  And that unfair which fairly doth excel:\n",
            "  For never-resting time leads summer on\n",
            "  To hideous winter and confounds him there,\n",
            "  Sap checked with frost and lusty leaves quite gone,\n",
            "  Beauty o'er-snowed and bareness every where:\n",
            "  Then were not summer's distillation left\n",
            "  A liquid prisoner pent in walls of glass,\n",
            "  Beauty's effect with beauty were bereft,\n",
            "  Nor it nor no remembrance what it was.\n",
            "    But flowers distilled though they with winter meet,\n",
            "    Leese but their show, their substance still lives sweet.\n",
            "\n",
            "\n",
            "                     6\n",
            "  Then let not winter's ragged hand deface,\n",
            "  In thee thy summer ere thou be distilled:\n",
            "  Make sweet some vial; treasure thou some place,\n",
            "  With beauty's treasure ere it be self-killed:\n",
            "  That use is not forbidden usury,\n",
            "  Which happies those that pay the willing loan;\n",
            "  That's for thy self to breed another thee,\n",
            "  Or ten times happier be it ten for one,\n",
            "  Ten times thy self were happier than thou art,\n",
            "  If ten of thine ten times refigured thee:\n",
            "  Then what could death do if thou shouldst depart,\n",
            "  Leaving thee living in posterity?\n",
            "    Be not self-willed for thou art much too fair,\n",
            "    To be death's conquest and make worms thine heir.\n",
            "\n",
            "\n",
            "                     7\n",
            "  Lo in the orient when the gracious light\n",
            "  Lifts up his burning head, each under eye\n",
            "  Doth homage to his new-appearing sight,\n",
            "  Serving with looks his sacred majesty,\n",
            "  And having climbed the steep-up heavenly hill,\n",
            "  Resembling strong youth in his middle age,\n",
            "  Yet mortal looks adore his beauty still,\n",
            "  Attending on his golden pilgrimage:\n",
            "  But when from highmost pitch with weary car,\n",
            "  Like feeble age he reeleth from the day,\n",
            "  The eyes (fore duteous) now converted are\n",
            "  From his low tract and look another way:\n",
            "    So thou, thy self out-going in thy noon:\n",
            "    Unlooked on diest unless thou get a son.\n",
            "\n",
            "\n",
            "                     8\n",
            "  Music to hear, why hear'st thou music sadly?\n",
            "  Sweets with sweets war not, joy delights in joy:\n",
            "  Why lov'st thou that which thou receiv'st not gladly,\n",
            "  Or else receiv'st with pleasure thine annoy?\n",
            "  If the true concord of well-tuned sounds,\n",
            "  By unions married do offend thine ear,\n",
            "  They do but sweetly chide thee, who confounds\n",
            "  In singleness the parts that thou shouldst bear:\n",
            "  Mark how one string sweet husband to another,\n",
            "  Strikes each in each by mutual ordering;\n",
            "  Resembling sire, and child, and happy mother,\n",
            "  Who all in one, one pleasing note do sing:\n",
            "    Whose speechless song being many, seeming one,\n",
            "    Sings this to thee, 'Thou single wilt prove none'.\n",
            "\n",
            "\n",
            "                     9\n",
            "  Is it for fear to wet a widow's eye,\n",
            "  That thou consum'st thy self in single life?\n",
            "  Ah, if thou issueless shalt hap to die,\n",
            "  The world will wail thee like a makeless wife,\n",
            "  The world will be thy widow and still weep,\n",
            "  That thou no form of thee hast left behind,\n",
            "  When every private widow well may keep,\n",
            "  By children's eyes, her husband's shape in mind:\n",
            "  Look what an unthrift in the world doth spend\n",
            "  Shifts but his place, for still the world enjoys it;\n",
            "  But beauty's waste hath in the world an end,\n",
            "  And kept unused the user so destroys it:\n",
            "    No love toward others in that bosom sits\n",
            "    That on himself such murd'rous shame commits.\n",
            "\n",
            "\n",
            "                     10\n",
            "  For shame deny that thou bear'st love to any\n",
            "  Who for thy self art so unprovident.\n",
            "  Grant if thou wilt, thou art beloved of many,\n",
            "  But that thou none lov'st is most evident:\n",
            "  For thou art so possessed with murd'rous hate,\n",
            "  That 'gainst thy self thou stick'st not to conspire,\n",
            "  Seeking that beauteous roof to ruinate\n",
            "  Which to repair should be thy chief desire:\n",
            "  O change thy thought, that I may change my mind,\n",
            "  Shall hate be fairer lodged than gentle love?\n",
            "  Be as thy presence is gracious and kind,\n",
            "  Or to thy self at least kind-hearted prove,\n",
            "    Make thee another self for love of me,\n",
            "    That beauty still may live in thine or thee.\n",
            "\n"
          ],
          "name": "stdout"
        }
      ]
    },
    {
      "cell_type": "code",
      "metadata": {
        "id": "7qeW0ityBby6",
        "outputId": "d203b8bd-258e-4a30-9dec-3ac3a5e6f72e"
      },
      "source": [
        "\n",
        "def display_contents_file(file_name):\n",
        "    fp = open(file_name, \"r\")\n",
        "    #with open( file_name ) as fp:\n",
        "    buffer = fp.read()\n",
        "    print( buffer )\n",
        "    fp.close()\n",
        "display_contents_file(\"Shakespeare.txt\")"
      ],
      "execution_count": null,
      "outputs": [
        {
          "output_type": "stream",
          "text": [
            "1609\n",
            "\n",
            "THE SONNETS\n",
            "\n",
            "by William Shakespeare\n",
            "\n",
            "\n",
            "\n",
            "                     1\n",
            "  From fairest creatures we desire increase,\n",
            "  That thereby beauty's rose might never die,\n",
            "  But as the riper should by time decease,\n",
            "  His tender heir might bear his memory:\n",
            "  But thou contracted to thine own bright eyes,\n",
            "  Feed'st thy light's flame with self-substantial fuel,\n",
            "  Making a famine where abundance lies,\n",
            "  Thy self thy foe, to thy sweet self too cruel:\n",
            "  Thou that art now the world's fresh ornament,\n",
            "  And only herald to the gaudy spring,\n",
            "  Within thine own bud buriest thy content,\n",
            "  And tender churl mak'st waste in niggarding:\n",
            "    Pity the world, or else this glutton be,\n",
            "    To eat the world's due, by the grave and thee.\n",
            "\n",
            "\n",
            "                     2\n",
            "  When forty winters shall besiege thy brow,\n",
            "  And dig deep trenches in thy beauty's field,\n",
            "  Thy youth's proud livery so gazed on now,\n",
            "  Will be a tattered weed of small worth held:\n",
            "  Then being asked, where all thy beauty lies,\n",
            "  Where all the treasure of thy lusty days;\n",
            "  To say within thine own deep sunken eyes,\n",
            "  Were an all-eating shame, and thriftless praise.\n",
            "  How much more praise deserved thy beauty's use,\n",
            "  If thou couldst answer 'This fair child of mine\n",
            "  Shall sum my count, and make my old excuse'\n",
            "  Proving his beauty by succession thine.\n",
            "    This were to be new made when thou art old,\n",
            "    And see thy blood warm when thou feel'st it cold.\n",
            "\n",
            "\n",
            "                     3\n",
            "  Look in thy glass and tell the face thou viewest,\n",
            "  Now is the time that face should form another,\n",
            "  Whose fresh repair if now thou not renewest,\n",
            "  Thou dost beguile the world, unbless some mother.\n",
            "  For where is she so fair whose uneared womb\n",
            "  Disdains the tillage of thy husbandry?\n",
            "  Or who is he so fond will be the tomb,\n",
            "  Of his self-love to stop posterity?\n",
            "  Thou art thy mother's glass and she in thee\n",
            "  Calls back the lovely April of her prime,\n",
            "  So thou through windows of thine age shalt see,\n",
            "  Despite of wrinkles this thy golden time.\n",
            "    But if thou live remembered not to be,\n",
            "    Die single and thine image dies with thee.\n",
            "\n",
            "\n",
            "                     4\n",
            "  Unthrifty loveliness why dost thou spend,\n",
            "  Upon thy self thy beauty's legacy?\n",
            "  Nature's bequest gives nothing but doth lend,\n",
            "  And being frank she lends to those are free:\n",
            "  Then beauteous niggard why dost thou abuse,\n",
            "  The bounteous largess given thee to give?\n",
            "  Profitless usurer why dost thou use\n",
            "  So great a sum of sums yet canst not live?\n",
            "  For having traffic with thy self alone,\n",
            "  Thou of thy self thy sweet self dost deceive,\n",
            "  Then how when nature calls thee to be gone,\n",
            "  What acceptable audit canst thou leave?\n",
            "    Thy unused beauty must be tombed with thee,\n",
            "    Which used lives th' executor to be.\n",
            "\n",
            "\n",
            "                     5\n",
            "  Those hours that with gentle work did frame\n",
            "  The lovely gaze where every eye doth dwell\n",
            "  Will play the tyrants to the very same,\n",
            "  And that unfair which fairly doth excel:\n",
            "  For never-resting time leads summer on\n",
            "  To hideous winter and confounds him there,\n",
            "  Sap checked with frost and lusty leaves quite gone,\n",
            "  Beauty o'er-snowed and bareness every where:\n",
            "  Then were not summer's distillation left\n",
            "  A liquid prisoner pent in walls of glass,\n",
            "  Beauty's effect with beauty were bereft,\n",
            "  Nor it nor no remembrance what it was.\n",
            "    But flowers distilled though they with winter meet,\n",
            "    Leese but their show, their substance still lives sweet.\n",
            "\n",
            "\n",
            "                     6\n",
            "  Then let not winter's ragged hand deface,\n",
            "  In thee thy summer ere thou be distilled:\n",
            "  Make sweet some vial; treasure thou some place,\n",
            "  With beauty's treasure ere it be self-killed:\n",
            "  That use is not forbidden usury,\n",
            "  Which happies those that pay the willing loan;\n",
            "  That's for thy self to breed another thee,\n",
            "  Or ten times happier be it ten for one,\n",
            "  Ten times thy self were happier than thou art,\n",
            "  If ten of thine ten times refigured thee:\n",
            "  Then what could death do if thou shouldst depart,\n",
            "  Leaving thee living in posterity?\n",
            "    Be not self-willed for thou art much too fair,\n",
            "    To be death's conquest and make worms thine heir.\n",
            "\n",
            "\n",
            "                     7\n",
            "  Lo in the orient when the gracious light\n",
            "  Lifts up his burning head, each under eye\n",
            "  Doth homage to his new-appearing sight,\n",
            "  Serving with looks his sacred majesty,\n",
            "  And having climbed the steep-up heavenly hill,\n",
            "  Resembling strong youth in his middle age,\n",
            "  Yet mortal looks adore his beauty still,\n",
            "  Attending on his golden pilgrimage:\n",
            "  But when from highmost pitch with weary car,\n",
            "  Like feeble age he reeleth from the day,\n",
            "  The eyes (fore duteous) now converted are\n",
            "  From his low tract and look another way:\n",
            "    So thou, thy self out-going in thy noon:\n",
            "    Unlooked on diest unless thou get a son.\n",
            "\n",
            "\n",
            "                     8\n",
            "  Music to hear, why hear'st thou music sadly?\n",
            "  Sweets with sweets war not, joy delights in joy:\n",
            "  Why lov'st thou that which thou receiv'st not gladly,\n",
            "  Or else receiv'st with pleasure thine annoy?\n",
            "  If the true concord of well-tuned sounds,\n",
            "  By unions married do offend thine ear,\n",
            "  They do but sweetly chide thee, who confounds\n",
            "  In singleness the parts that thou shouldst bear:\n",
            "  Mark how one string sweet husband to another,\n",
            "  Strikes each in each by mutual ordering;\n",
            "  Resembling sire, and child, and happy mother,\n",
            "  Who all in one, one pleasing note do sing:\n",
            "    Whose speechless song being many, seeming one,\n",
            "    Sings this to thee, 'Thou single wilt prove none'.\n",
            "\n",
            "\n",
            "                     9\n",
            "  Is it for fear to wet a widow's eye,\n",
            "  That thou consum'st thy self in single life?\n",
            "  Ah, if thou issueless shalt hap to die,\n",
            "  The world will wail thee like a makeless wife,\n",
            "  The world will be thy widow and still weep,\n",
            "  That thou no form of thee hast left behind,\n",
            "  When every private widow well may keep,\n",
            "  By children's eyes, her husband's shape in mind:\n",
            "  Look what an unthrift in the world doth spend\n",
            "  Shifts but his place, for still the world enjoys it;\n",
            "  But beauty's waste hath in the world an end,\n",
            "  And kept unused the user so destroys it:\n",
            "    No love toward others in that bosom sits\n",
            "    That on himself such murd'rous shame commits.\n",
            "\n",
            "\n",
            "                     10\n",
            "  For shame deny that thou bear'st love to any\n",
            "  Who for thy self art so unprovident.\n",
            "  Grant if thou wilt, thou art beloved of many,\n",
            "  But that thou none lov'st is most evident:\n",
            "  For thou art so possessed with murd'rous hate,\n",
            "  That 'gainst thy self thou stick'st not to conspire,\n",
            "  Seeking that beauteous roof to ruinate\n",
            "  Which to repair should be thy chief desire:\n",
            "  O change thy thought, that I may change my mind,\n",
            "  Shall hate be fairer lodged than gentle love?\n",
            "  Be as thy presence is gracious and kind,\n",
            "  Or to thy self at least kind-hearted prove,\n",
            "    Make thee another self for love of me,\n",
            "    That beauty still may live in thine or thee.\n",
            "\n"
          ],
          "name": "stdout"
        }
      ]
    },
    {
      "cell_type": "code",
      "metadata": {
        "id": "d-8lUEkMBby7",
        "outputId": "58df3c87-83d8-4757-9838-34d253d8b15e"
      },
      "source": [
        "def display_contents_file(file_name):\n",
        "    #with open( file_name ) as fp:\n",
        "    fp = open(file_name, \"r\")\n",
        "    buffer = fp.readlines()\n",
        "    for line in buffer:\n",
        "        print(line)\n",
        "    print(buffer)\n",
        "    fp.close()\n",
        "    \n",
        "display_contents_file(\"Shakespeare.txt\")"
      ],
      "execution_count": null,
      "outputs": [
        {
          "output_type": "stream",
          "text": [
            "1609\n",
            "\n",
            "\n",
            "\n",
            "THE SONNETS\n",
            "\n",
            "\n",
            "\n",
            "by William Shakespeare\n",
            "\n",
            "\n",
            "\n",
            "\n",
            "\n",
            "\n",
            "\n",
            "                     1\n",
            "\n",
            "  From fairest creatures we desire increase,\n",
            "\n",
            "  That thereby beauty's rose might never die,\n",
            "\n",
            "  But as the riper should by time decease,\n",
            "\n",
            "  His tender heir might bear his memory:\n",
            "\n",
            "  But thou contracted to thine own bright eyes,\n",
            "\n",
            "  Feed'st thy light's flame with self-substantial fuel,\n",
            "\n",
            "  Making a famine where abundance lies,\n",
            "\n",
            "  Thy self thy foe, to thy sweet self too cruel:\n",
            "\n",
            "  Thou that art now the world's fresh ornament,\n",
            "\n",
            "  And only herald to the gaudy spring,\n",
            "\n",
            "  Within thine own bud buriest thy content,\n",
            "\n",
            "  And tender churl mak'st waste in niggarding:\n",
            "\n",
            "    Pity the world, or else this glutton be,\n",
            "\n",
            "    To eat the world's due, by the grave and thee.\n",
            "\n",
            "\n",
            "\n",
            "\n",
            "\n",
            "                     2\n",
            "\n",
            "  When forty winters shall besiege thy brow,\n",
            "\n",
            "  And dig deep trenches in thy beauty's field,\n",
            "\n",
            "  Thy youth's proud livery so gazed on now,\n",
            "\n",
            "  Will be a tattered weed of small worth held:\n",
            "\n",
            "  Then being asked, where all thy beauty lies,\n",
            "\n",
            "  Where all the treasure of thy lusty days;\n",
            "\n",
            "  To say within thine own deep sunken eyes,\n",
            "\n",
            "  Were an all-eating shame, and thriftless praise.\n",
            "\n",
            "  How much more praise deserved thy beauty's use,\n",
            "\n",
            "  If thou couldst answer 'This fair child of mine\n",
            "\n",
            "  Shall sum my count, and make my old excuse'\n",
            "\n",
            "  Proving his beauty by succession thine.\n",
            "\n",
            "    This were to be new made when thou art old,\n",
            "\n",
            "    And see thy blood warm when thou feel'st it cold.\n",
            "\n",
            "\n",
            "\n",
            "\n",
            "\n",
            "                     3\n",
            "\n",
            "  Look in thy glass and tell the face thou viewest,\n",
            "\n",
            "  Now is the time that face should form another,\n",
            "\n",
            "  Whose fresh repair if now thou not renewest,\n",
            "\n",
            "  Thou dost beguile the world, unbless some mother.\n",
            "\n",
            "  For where is she so fair whose uneared womb\n",
            "\n",
            "  Disdains the tillage of thy husbandry?\n",
            "\n",
            "  Or who is he so fond will be the tomb,\n",
            "\n",
            "  Of his self-love to stop posterity?\n",
            "\n",
            "  Thou art thy mother's glass and she in thee\n",
            "\n",
            "  Calls back the lovely April of her prime,\n",
            "\n",
            "  So thou through windows of thine age shalt see,\n",
            "\n",
            "  Despite of wrinkles this thy golden time.\n",
            "\n",
            "    But if thou live remembered not to be,\n",
            "\n",
            "    Die single and thine image dies with thee.\n",
            "\n",
            "\n",
            "\n",
            "\n",
            "\n",
            "                     4\n",
            "\n",
            "  Unthrifty loveliness why dost thou spend,\n",
            "\n",
            "  Upon thy self thy beauty's legacy?\n",
            "\n",
            "  Nature's bequest gives nothing but doth lend,\n",
            "\n",
            "  And being frank she lends to those are free:\n",
            "\n",
            "  Then beauteous niggard why dost thou abuse,\n",
            "\n",
            "  The bounteous largess given thee to give?\n",
            "\n",
            "  Profitless usurer why dost thou use\n",
            "\n",
            "  So great a sum of sums yet canst not live?\n",
            "\n",
            "  For having traffic with thy self alone,\n",
            "\n",
            "  Thou of thy self thy sweet self dost deceive,\n",
            "\n",
            "  Then how when nature calls thee to be gone,\n",
            "\n",
            "  What acceptable audit canst thou leave?\n",
            "\n",
            "    Thy unused beauty must be tombed with thee,\n",
            "\n",
            "    Which used lives th' executor to be.\n",
            "\n",
            "\n",
            "\n",
            "\n",
            "\n",
            "                     5\n",
            "\n",
            "  Those hours that with gentle work did frame\n",
            "\n",
            "  The lovely gaze where every eye doth dwell\n",
            "\n",
            "  Will play the tyrants to the very same,\n",
            "\n",
            "  And that unfair which fairly doth excel:\n",
            "\n",
            "  For never-resting time leads summer on\n",
            "\n",
            "  To hideous winter and confounds him there,\n",
            "\n",
            "  Sap checked with frost and lusty leaves quite gone,\n",
            "\n",
            "  Beauty o'er-snowed and bareness every where:\n",
            "\n",
            "  Then were not summer's distillation left\n",
            "\n",
            "  A liquid prisoner pent in walls of glass,\n",
            "\n",
            "  Beauty's effect with beauty were bereft,\n",
            "\n",
            "  Nor it nor no remembrance what it was.\n",
            "\n",
            "    But flowers distilled though they with winter meet,\n",
            "\n",
            "    Leese but their show, their substance still lives sweet.\n",
            "\n",
            "\n",
            "\n",
            "\n",
            "\n",
            "                     6\n",
            "\n",
            "  Then let not winter's ragged hand deface,\n",
            "\n",
            "  In thee thy summer ere thou be distilled:\n",
            "\n",
            "  Make sweet some vial; treasure thou some place,\n",
            "\n",
            "  With beauty's treasure ere it be self-killed:\n",
            "\n",
            "  That use is not forbidden usury,\n",
            "\n",
            "  Which happies those that pay the willing loan;\n",
            "\n",
            "  That's for thy self to breed another thee,\n",
            "\n",
            "  Or ten times happier be it ten for one,\n",
            "\n",
            "  Ten times thy self were happier than thou art,\n",
            "\n",
            "  If ten of thine ten times refigured thee:\n",
            "\n",
            "  Then what could death do if thou shouldst depart,\n",
            "\n",
            "  Leaving thee living in posterity?\n",
            "\n",
            "    Be not self-willed for thou art much too fair,\n",
            "\n",
            "    To be death's conquest and make worms thine heir.\n",
            "\n",
            "\n",
            "\n",
            "\n",
            "\n",
            "                     7\n",
            "\n",
            "  Lo in the orient when the gracious light\n",
            "\n",
            "  Lifts up his burning head, each under eye\n",
            "\n",
            "  Doth homage to his new-appearing sight,\n",
            "\n",
            "  Serving with looks his sacred majesty,\n",
            "\n",
            "  And having climbed the steep-up heavenly hill,\n",
            "\n",
            "  Resembling strong youth in his middle age,\n",
            "\n",
            "  Yet mortal looks adore his beauty still,\n",
            "\n",
            "  Attending on his golden pilgrimage:\n",
            "\n",
            "  But when from highmost pitch with weary car,\n",
            "\n",
            "  Like feeble age he reeleth from the day,\n",
            "\n",
            "  The eyes (fore duteous) now converted are\n",
            "\n",
            "  From his low tract and look another way:\n",
            "\n",
            "    So thou, thy self out-going in thy noon:\n",
            "\n",
            "    Unlooked on diest unless thou get a son.\n",
            "\n",
            "\n",
            "\n",
            "\n",
            "\n",
            "                     8\n",
            "\n",
            "  Music to hear, why hear'st thou music sadly?\n",
            "\n",
            "  Sweets with sweets war not, joy delights in joy:\n",
            "\n",
            "  Why lov'st thou that which thou receiv'st not gladly,\n",
            "\n",
            "  Or else receiv'st with pleasure thine annoy?\n",
            "\n",
            "  If the true concord of well-tuned sounds,\n",
            "\n",
            "  By unions married do offend thine ear,\n",
            "\n",
            "  They do but sweetly chide thee, who confounds\n",
            "\n",
            "  In singleness the parts that thou shouldst bear:\n",
            "\n",
            "  Mark how one string sweet husband to another,\n",
            "\n",
            "  Strikes each in each by mutual ordering;\n",
            "\n",
            "  Resembling sire, and child, and happy mother,\n",
            "\n",
            "  Who all in one, one pleasing note do sing:\n",
            "\n",
            "    Whose speechless song being many, seeming one,\n",
            "\n",
            "    Sings this to thee, 'Thou single wilt prove none'.\n",
            "\n",
            "\n",
            "\n",
            "\n",
            "\n",
            "                     9\n",
            "\n",
            "  Is it for fear to wet a widow's eye,\n",
            "\n",
            "  That thou consum'st thy self in single life?\n",
            "\n",
            "  Ah, if thou issueless shalt hap to die,\n",
            "\n",
            "  The world will wail thee like a makeless wife,\n",
            "\n",
            "  The world will be thy widow and still weep,\n",
            "\n",
            "  That thou no form of thee hast left behind,\n",
            "\n",
            "  When every private widow well may keep,\n",
            "\n",
            "  By children's eyes, her husband's shape in mind:\n",
            "\n",
            "  Look what an unthrift in the world doth spend\n",
            "\n",
            "  Shifts but his place, for still the world enjoys it;\n",
            "\n",
            "  But beauty's waste hath in the world an end,\n",
            "\n",
            "  And kept unused the user so destroys it:\n",
            "\n",
            "    No love toward others in that bosom sits\n",
            "\n",
            "    That on himself such murd'rous shame commits.\n",
            "\n",
            "\n",
            "\n",
            "\n",
            "\n",
            "                     10\n",
            "\n",
            "  For shame deny that thou bear'st love to any\n",
            "\n",
            "  Who for thy self art so unprovident.\n",
            "\n",
            "  Grant if thou wilt, thou art beloved of many,\n",
            "\n",
            "  But that thou none lov'st is most evident:\n",
            "\n",
            "  For thou art so possessed with murd'rous hate,\n",
            "\n",
            "  That 'gainst thy self thou stick'st not to conspire,\n",
            "\n",
            "  Seeking that beauteous roof to ruinate\n",
            "\n",
            "  Which to repair should be thy chief desire:\n",
            "\n",
            "  O change thy thought, that I may change my mind,\n",
            "\n",
            "  Shall hate be fairer lodged than gentle love?\n",
            "\n",
            "  Be as thy presence is gracious and kind,\n",
            "\n",
            "  Or to thy self at least kind-hearted prove,\n",
            "\n",
            "    Make thee another self for love of me,\n",
            "\n",
            "    That beauty still may live in thine or thee.\n",
            "\n",
            "['1609\\n', '\\n', 'THE SONNETS\\n', '\\n', 'by William Shakespeare\\n', '\\n', '\\n', '\\n', '                     1\\n', '  From fairest creatures we desire increase,\\n', \"  That thereby beauty's rose might never die,\\n\", '  But as the riper should by time decease,\\n', '  His tender heir might bear his memory:\\n', '  But thou contracted to thine own bright eyes,\\n', \"  Feed'st thy light's flame with self-substantial fuel,\\n\", '  Making a famine where abundance lies,\\n', '  Thy self thy foe, to thy sweet self too cruel:\\n', \"  Thou that art now the world's fresh ornament,\\n\", '  And only herald to the gaudy spring,\\n', '  Within thine own bud buriest thy content,\\n', \"  And tender churl mak'st waste in niggarding:\\n\", '    Pity the world, or else this glutton be,\\n', \"    To eat the world's due, by the grave and thee.\\n\", '\\n', '\\n', '                     2\\n', '  When forty winters shall besiege thy brow,\\n', \"  And dig deep trenches in thy beauty's field,\\n\", \"  Thy youth's proud livery so gazed on now,\\n\", '  Will be a tattered weed of small worth held:\\n', '  Then being asked, where all thy beauty lies,\\n', '  Where all the treasure of thy lusty days;\\n', '  To say within thine own deep sunken eyes,\\n', '  Were an all-eating shame, and thriftless praise.\\n', \"  How much more praise deserved thy beauty's use,\\n\", \"  If thou couldst answer 'This fair child of mine\\n\", \"  Shall sum my count, and make my old excuse'\\n\", '  Proving his beauty by succession thine.\\n', '    This were to be new made when thou art old,\\n', \"    And see thy blood warm when thou feel'st it cold.\\n\", '\\n', '\\n', '                     3\\n', '  Look in thy glass and tell the face thou viewest,\\n', '  Now is the time that face should form another,\\n', '  Whose fresh repair if now thou not renewest,\\n', '  Thou dost beguile the world, unbless some mother.\\n', '  For where is she so fair whose uneared womb\\n', '  Disdains the tillage of thy husbandry?\\n', '  Or who is he so fond will be the tomb,\\n', '  Of his self-love to stop posterity?\\n', \"  Thou art thy mother's glass and she in thee\\n\", '  Calls back the lovely April of her prime,\\n', '  So thou through windows of thine age shalt see,\\n', '  Despite of wrinkles this thy golden time.\\n', '    But if thou live remembered not to be,\\n', '    Die single and thine image dies with thee.\\n', '\\n', '\\n', '                     4\\n', '  Unthrifty loveliness why dost thou spend,\\n', \"  Upon thy self thy beauty's legacy?\\n\", \"  Nature's bequest gives nothing but doth lend,\\n\", '  And being frank she lends to those are free:\\n', '  Then beauteous niggard why dost thou abuse,\\n', '  The bounteous largess given thee to give?\\n', '  Profitless usurer why dost thou use\\n', '  So great a sum of sums yet canst not live?\\n', '  For having traffic with thy self alone,\\n', '  Thou of thy self thy sweet self dost deceive,\\n', '  Then how when nature calls thee to be gone,\\n', '  What acceptable audit canst thou leave?\\n', '    Thy unused beauty must be tombed with thee,\\n', \"    Which used lives th' executor to be.\\n\", '\\n', '\\n', '                     5\\n', '  Those hours that with gentle work did frame\\n', '  The lovely gaze where every eye doth dwell\\n', '  Will play the tyrants to the very same,\\n', '  And that unfair which fairly doth excel:\\n', '  For never-resting time leads summer on\\n', '  To hideous winter and confounds him there,\\n', '  Sap checked with frost and lusty leaves quite gone,\\n', \"  Beauty o'er-snowed and bareness every where:\\n\", \"  Then were not summer's distillation left\\n\", '  A liquid prisoner pent in walls of glass,\\n', \"  Beauty's effect with beauty were bereft,\\n\", '  Nor it nor no remembrance what it was.\\n', '    But flowers distilled though they with winter meet,\\n', '    Leese but their show, their substance still lives sweet.\\n', '\\n', '\\n', '                     6\\n', \"  Then let not winter's ragged hand deface,\\n\", '  In thee thy summer ere thou be distilled:\\n', '  Make sweet some vial; treasure thou some place,\\n', \"  With beauty's treasure ere it be self-killed:\\n\", '  That use is not forbidden usury,\\n', '  Which happies those that pay the willing loan;\\n', \"  That's for thy self to breed another thee,\\n\", '  Or ten times happier be it ten for one,\\n', '  Ten times thy self were happier than thou art,\\n', '  If ten of thine ten times refigured thee:\\n', '  Then what could death do if thou shouldst depart,\\n', '  Leaving thee living in posterity?\\n', '    Be not self-willed for thou art much too fair,\\n', \"    To be death's conquest and make worms thine heir.\\n\", '\\n', '\\n', '                     7\\n', '  Lo in the orient when the gracious light\\n', '  Lifts up his burning head, each under eye\\n', '  Doth homage to his new-appearing sight,\\n', '  Serving with looks his sacred majesty,\\n', '  And having climbed the steep-up heavenly hill,\\n', '  Resembling strong youth in his middle age,\\n', '  Yet mortal looks adore his beauty still,\\n', '  Attending on his golden pilgrimage:\\n', '  But when from highmost pitch with weary car,\\n', '  Like feeble age he reeleth from the day,\\n', '  The eyes (fore duteous) now converted are\\n', '  From his low tract and look another way:\\n', '    So thou, thy self out-going in thy noon:\\n', '    Unlooked on diest unless thou get a son.\\n', '\\n', '\\n', '                     8\\n', \"  Music to hear, why hear'st thou music sadly?\\n\", '  Sweets with sweets war not, joy delights in joy:\\n', \"  Why lov'st thou that which thou receiv'st not gladly,\\n\", \"  Or else receiv'st with pleasure thine annoy?\\n\", '  If the true concord of well-tuned sounds,\\n', '  By unions married do offend thine ear,\\n', '  They do but sweetly chide thee, who confounds\\n', '  In singleness the parts that thou shouldst bear:\\n', '  Mark how one string sweet husband to another,\\n', '  Strikes each in each by mutual ordering;\\n', '  Resembling sire, and child, and happy mother,\\n', '  Who all in one, one pleasing note do sing:\\n', '    Whose speechless song being many, seeming one,\\n', \"    Sings this to thee, 'Thou single wilt prove none'.\\n\", '\\n', '\\n', '                     9\\n', \"  Is it for fear to wet a widow's eye,\\n\", \"  That thou consum'st thy self in single life?\\n\", '  Ah, if thou issueless shalt hap to die,\\n', '  The world will wail thee like a makeless wife,\\n', '  The world will be thy widow and still weep,\\n', '  That thou no form of thee hast left behind,\\n', '  When every private widow well may keep,\\n', \"  By children's eyes, her husband's shape in mind:\\n\", '  Look what an unthrift in the world doth spend\\n', '  Shifts but his place, for still the world enjoys it;\\n', \"  But beauty's waste hath in the world an end,\\n\", '  And kept unused the user so destroys it:\\n', '    No love toward others in that bosom sits\\n', \"    That on himself such murd'rous shame commits.\\n\", '\\n', '\\n', '                     10\\n', \"  For shame deny that thou bear'st love to any\\n\", '  Who for thy self art so unprovident.\\n', '  Grant if thou wilt, thou art beloved of many,\\n', \"  But that thou none lov'st is most evident:\\n\", \"  For thou art so possessed with murd'rous hate,\\n\", \"  That 'gainst thy self thou stick'st not to conspire,\\n\", '  Seeking that beauteous roof to ruinate\\n', '  Which to repair should be thy chief desire:\\n', '  O change thy thought, that I may change my mind,\\n', '  Shall hate be fairer lodged than gentle love?\\n', '  Be as thy presence is gracious and kind,\\n', '  Or to thy self at least kind-hearted prove,\\n', '    Make thee another self for love of me,\\n', '    That beauty still may live in thine or thee.\\n']\n"
          ],
          "name": "stdout"
        }
      ]
    },
    {
      "cell_type": "markdown",
      "metadata": {
        "id": "SSIxdT2lBby7"
      },
      "source": [
        "### Reading lines using `readline()`"
      ]
    },
    {
      "cell_type": "markdown",
      "metadata": {
        "id": "UCVoagjsBby8"
      },
      "source": [
        "To read a text file line by line, you can use the `readline()` method. The `readline()` method reads characters starting at the file pointer up to and including the next newline character, and returns them as a string. You can recognize that you have reached the end of the file by the fact that no characters are read anymore, i.e., the string that is returned is empty."
      ]
    },
    {
      "cell_type": "code",
      "metadata": {
        "id": "ay7VGa-eBby8",
        "outputId": "e1466306-96c7-4865-decd-370cfb9d0845"
      },
      "source": [
        "def display_contents_file2(file_name):\n",
        "    fp = open( file_name , \"r\")\n",
        "    buffer = fp.readlines()\n",
        "    print(buffer)\n",
        "   # for line in buffer:\n",
        "    #    print (line)\n",
        "    #fp.close()\n",
        "    \n",
        "display_contents_file2(\"Shakespeare.txt\")"
      ],
      "execution_count": null,
      "outputs": [
        {
          "output_type": "stream",
          "text": [
            "['1609\\n', '\\n', 'THE SONNETS\\n', '\\n', 'by William Shakespeare\\n', '\\n', '\\n', '\\n', '                     1\\n', '  From fairest creatures we desire increase,\\n', \"  That thereby beauty's rose might never die,\\n\", '  But as the riper should by time decease,\\n', '  His tender heir might bear his memory:\\n', '  But thou contracted to thine own bright eyes,\\n', \"  Feed'st thy light's flame with self-substantial fuel,\\n\", '  Making a famine where abundance lies,\\n', '  Thy self thy foe, to thy sweet self too cruel:\\n', \"  Thou that art now the world's fresh ornament,\\n\", '  And only herald to the gaudy spring,\\n', '  Within thine own bud buriest thy content,\\n', \"  And tender churl mak'st waste in niggarding:\\n\", '    Pity the world, or else this glutton be,\\n', \"    To eat the world's due, by the grave and thee.\\n\", '\\n', '\\n', '                     2\\n', '  When forty winters shall besiege thy brow,\\n', \"  And dig deep trenches in thy beauty's field,\\n\", \"  Thy youth's proud livery so gazed on now,\\n\", '  Will be a tattered weed of small worth held:\\n', '  Then being asked, where all thy beauty lies,\\n', '  Where all the treasure of thy lusty days;\\n', '  To say within thine own deep sunken eyes,\\n', '  Were an all-eating shame, and thriftless praise.\\n', \"  How much more praise deserved thy beauty's use,\\n\", \"  If thou couldst answer 'This fair child of mine\\n\", \"  Shall sum my count, and make my old excuse'\\n\", '  Proving his beauty by succession thine.\\n', '    This were to be new made when thou art old,\\n', \"    And see thy blood warm when thou feel'st it cold.\\n\", '\\n', '\\n', '                     3\\n', '  Look in thy glass and tell the face thou viewest,\\n', '  Now is the time that face should form another,\\n', '  Whose fresh repair if now thou not renewest,\\n', '  Thou dost beguile the world, unbless some mother.\\n', '  For where is she so fair whose uneared womb\\n', '  Disdains the tillage of thy husbandry?\\n', '  Or who is he so fond will be the tomb,\\n', '  Of his self-love to stop posterity?\\n', \"  Thou art thy mother's glass and she in thee\\n\", '  Calls back the lovely April of her prime,\\n', '  So thou through windows of thine age shalt see,\\n', '  Despite of wrinkles this thy golden time.\\n', '    But if thou live remembered not to be,\\n', '    Die single and thine image dies with thee.\\n', '\\n', '\\n', '                     4\\n', '  Unthrifty loveliness why dost thou spend,\\n', \"  Upon thy self thy beauty's legacy?\\n\", \"  Nature's bequest gives nothing but doth lend,\\n\", '  And being frank she lends to those are free:\\n', '  Then beauteous niggard why dost thou abuse,\\n', '  The bounteous largess given thee to give?\\n', '  Profitless usurer why dost thou use\\n', '  So great a sum of sums yet canst not live?\\n', '  For having traffic with thy self alone,\\n', '  Thou of thy self thy sweet self dost deceive,\\n', '  Then how when nature calls thee to be gone,\\n', '  What acceptable audit canst thou leave?\\n', '    Thy unused beauty must be tombed with thee,\\n', \"    Which used lives th' executor to be.\\n\", '\\n', '\\n', '                     5\\n', '  Those hours that with gentle work did frame\\n', '  The lovely gaze where every eye doth dwell\\n', '  Will play the tyrants to the very same,\\n', '  And that unfair which fairly doth excel:\\n', '  For never-resting time leads summer on\\n', '  To hideous winter and confounds him there,\\n', '  Sap checked with frost and lusty leaves quite gone,\\n', \"  Beauty o'er-snowed and bareness every where:\\n\", \"  Then were not summer's distillation left\\n\", '  A liquid prisoner pent in walls of glass,\\n', \"  Beauty's effect with beauty were bereft,\\n\", '  Nor it nor no remembrance what it was.\\n', '    But flowers distilled though they with winter meet,\\n', '    Leese but their show, their substance still lives sweet.\\n', '\\n', '\\n', '                     6\\n', \"  Then let not winter's ragged hand deface,\\n\", '  In thee thy summer ere thou be distilled:\\n', '  Make sweet some vial; treasure thou some place,\\n', \"  With beauty's treasure ere it be self-killed:\\n\", '  That use is not forbidden usury,\\n', '  Which happies those that pay the willing loan;\\n', \"  That's for thy self to breed another thee,\\n\", '  Or ten times happier be it ten for one,\\n', '  Ten times thy self were happier than thou art,\\n', '  If ten of thine ten times refigured thee:\\n', '  Then what could death do if thou shouldst depart,\\n', '  Leaving thee living in posterity?\\n', '    Be not self-willed for thou art much too fair,\\n', \"    To be death's conquest and make worms thine heir.\\n\", '\\n', '\\n', '                     7\\n', '  Lo in the orient when the gracious light\\n', '  Lifts up his burning head, each under eye\\n', '  Doth homage to his new-appearing sight,\\n', '  Serving with looks his sacred majesty,\\n', '  And having climbed the steep-up heavenly hill,\\n', '  Resembling strong youth in his middle age,\\n', '  Yet mortal looks adore his beauty still,\\n', '  Attending on his golden pilgrimage:\\n', '  But when from highmost pitch with weary car,\\n', '  Like feeble age he reeleth from the day,\\n', '  The eyes (fore duteous) now converted are\\n', '  From his low tract and look another way:\\n', '    So thou, thy self out-going in thy noon:\\n', '    Unlooked on diest unless thou get a son.\\n', '\\n', '\\n', '                     8\\n', \"  Music to hear, why hear'st thou music sadly?\\n\", '  Sweets with sweets war not, joy delights in joy:\\n', \"  Why lov'st thou that which thou receiv'st not gladly,\\n\", \"  Or else receiv'st with pleasure thine annoy?\\n\", '  If the true concord of well-tuned sounds,\\n', '  By unions married do offend thine ear,\\n', '  They do but sweetly chide thee, who confounds\\n', '  In singleness the parts that thou shouldst bear:\\n', '  Mark how one string sweet husband to another,\\n', '  Strikes each in each by mutual ordering;\\n', '  Resembling sire, and child, and happy mother,\\n', '  Who all in one, one pleasing note do sing:\\n', '    Whose speechless song being many, seeming one,\\n', \"    Sings this to thee, 'Thou single wilt prove none'.\\n\", '\\n', '\\n', '                     9\\n', \"  Is it for fear to wet a widow's eye,\\n\", \"  That thou consum'st thy self in single life?\\n\", '  Ah, if thou issueless shalt hap to die,\\n', '  The world will wail thee like a makeless wife,\\n', '  The world will be thy widow and still weep,\\n', '  That thou no form of thee hast left behind,\\n', '  When every private widow well may keep,\\n', \"  By children's eyes, her husband's shape in mind:\\n\", '  Look what an unthrift in the world doth spend\\n', '  Shifts but his place, for still the world enjoys it;\\n', \"  But beauty's waste hath in the world an end,\\n\", '  And kept unused the user so destroys it:\\n', '    No love toward others in that bosom sits\\n', \"    That on himself such murd'rous shame commits.\\n\", '\\n', '\\n', '                     10\\n', \"  For shame deny that thou bear'st love to any\\n\", '  Who for thy self art so unprovident.\\n', '  Grant if thou wilt, thou art beloved of many,\\n', \"  But that thou none lov'st is most evident:\\n\", \"  For thou art so possessed with murd'rous hate,\\n\", \"  That 'gainst thy self thou stick'st not to conspire,\\n\", '  Seeking that beauteous roof to ruinate\\n', '  Which to repair should be thy chief desire:\\n', '  O change thy thought, that I may change my mind,\\n', '  Shall hate be fairer lodged than gentle love?\\n', '  Be as thy presence is gracious and kind,\\n', '  Or to thy self at least kind-hearted prove,\\n', '    Make thee another self for love of me,\\n', '    That beauty still may live in thine or thee.\\n']\n"
          ],
          "name": "stdout"
        }
      ]
    },
    {
      "cell_type": "code",
      "metadata": {
        "id": "i-wOsISeBby_",
        "outputId": "3cc93cd9-5a24-4159-a9a5-f5f97f894cf6"
      },
      "source": [
        "def display_contents_file2(file_name):\n",
        "    fp = open( file_name )\n",
        "    while True:\n",
        "        buffer = fp.readline()             \n",
        "        if buffer == \"\":\n",
        "            break     \n",
        "        print( buffer )\n",
        "    fp.close()\n",
        "display_contents_file2(\"Shakespeare.txt\")"
      ],
      "execution_count": null,
      "outputs": [
        {
          "output_type": "stream",
          "text": [
            "1609\n",
            "\n",
            "\n",
            "\n",
            "THE SONNETS\n",
            "\n",
            "\n",
            "\n",
            "by William Shakespeare\n",
            "\n",
            "\n",
            "\n",
            "\n",
            "\n",
            "\n",
            "\n",
            "                     1\n",
            "\n",
            "  From fairest creatures we desire increase,\n",
            "\n",
            "  That thereby beauty's rose might never die,\n",
            "\n",
            "  But as the riper should by time decease,\n",
            "\n",
            "  His tender heir might bear his memory:\n",
            "\n",
            "  But thou contracted to thine own bright eyes,\n",
            "\n",
            "  Feed'st thy light's flame with self-substantial fuel,\n",
            "\n",
            "  Making a famine where abundance lies,\n",
            "\n",
            "  Thy self thy foe, to thy sweet self too cruel:\n",
            "\n",
            "  Thou that art now the world's fresh ornament,\n",
            "\n",
            "  And only herald to the gaudy spring,\n",
            "\n",
            "  Within thine own bud buriest thy content,\n",
            "\n",
            "  And tender churl mak'st waste in niggarding:\n",
            "\n",
            "    Pity the world, or else this glutton be,\n",
            "\n",
            "    To eat the world's due, by the grave and thee.\n",
            "\n",
            "\n",
            "\n",
            "\n",
            "\n",
            "                     2\n",
            "\n",
            "  When forty winters shall besiege thy brow,\n",
            "\n",
            "  And dig deep trenches in thy beauty's field,\n",
            "\n",
            "  Thy youth's proud livery so gazed on now,\n",
            "\n",
            "  Will be a tattered weed of small worth held:\n",
            "\n",
            "  Then being asked, where all thy beauty lies,\n",
            "\n",
            "  Where all the treasure of thy lusty days;\n",
            "\n",
            "  To say within thine own deep sunken eyes,\n",
            "\n",
            "  Were an all-eating shame, and thriftless praise.\n",
            "\n",
            "  How much more praise deserved thy beauty's use,\n",
            "\n",
            "  If thou couldst answer 'This fair child of mine\n",
            "\n",
            "  Shall sum my count, and make my old excuse'\n",
            "\n",
            "  Proving his beauty by succession thine.\n",
            "\n",
            "    This were to be new made when thou art old,\n",
            "\n",
            "    And see thy blood warm when thou feel'st it cold.\n",
            "\n",
            "\n",
            "\n",
            "\n",
            "\n",
            "                     3\n",
            "\n",
            "  Look in thy glass and tell the face thou viewest,\n",
            "\n",
            "  Now is the time that face should form another,\n",
            "\n",
            "  Whose fresh repair if now thou not renewest,\n",
            "\n",
            "  Thou dost beguile the world, unbless some mother.\n",
            "\n",
            "  For where is she so fair whose uneared womb\n",
            "\n",
            "  Disdains the tillage of thy husbandry?\n",
            "\n",
            "  Or who is he so fond will be the tomb,\n",
            "\n",
            "  Of his self-love to stop posterity?\n",
            "\n",
            "  Thou art thy mother's glass and she in thee\n",
            "\n",
            "  Calls back the lovely April of her prime,\n",
            "\n",
            "  So thou through windows of thine age shalt see,\n",
            "\n",
            "  Despite of wrinkles this thy golden time.\n",
            "\n",
            "    But if thou live remembered not to be,\n",
            "\n",
            "    Die single and thine image dies with thee.\n",
            "\n",
            "\n",
            "\n",
            "\n",
            "\n",
            "                     4\n",
            "\n",
            "  Unthrifty loveliness why dost thou spend,\n",
            "\n",
            "  Upon thy self thy beauty's legacy?\n",
            "\n",
            "  Nature's bequest gives nothing but doth lend,\n",
            "\n",
            "  And being frank she lends to those are free:\n",
            "\n",
            "  Then beauteous niggard why dost thou abuse,\n",
            "\n",
            "  The bounteous largess given thee to give?\n",
            "\n",
            "  Profitless usurer why dost thou use\n",
            "\n",
            "  So great a sum of sums yet canst not live?\n",
            "\n",
            "  For having traffic with thy self alone,\n",
            "\n",
            "  Thou of thy self thy sweet self dost deceive,\n",
            "\n",
            "  Then how when nature calls thee to be gone,\n",
            "\n",
            "  What acceptable audit canst thou leave?\n",
            "\n",
            "    Thy unused beauty must be tombed with thee,\n",
            "\n",
            "    Which used lives th' executor to be.\n",
            "\n",
            "\n",
            "\n",
            "\n",
            "\n",
            "                     5\n",
            "\n",
            "  Those hours that with gentle work did frame\n",
            "\n",
            "  The lovely gaze where every eye doth dwell\n",
            "\n",
            "  Will play the tyrants to the very same,\n",
            "\n",
            "  And that unfair which fairly doth excel:\n",
            "\n",
            "  For never-resting time leads summer on\n",
            "\n",
            "  To hideous winter and confounds him there,\n",
            "\n",
            "  Sap checked with frost and lusty leaves quite gone,\n",
            "\n",
            "  Beauty o'er-snowed and bareness every where:\n",
            "\n",
            "  Then were not summer's distillation left\n",
            "\n",
            "  A liquid prisoner pent in walls of glass,\n",
            "\n",
            "  Beauty's effect with beauty were bereft,\n",
            "\n",
            "  Nor it nor no remembrance what it was.\n",
            "\n",
            "    But flowers distilled though they with winter meet,\n",
            "\n",
            "    Leese but their show, their substance still lives sweet.\n",
            "\n",
            "\n",
            "\n",
            "\n",
            "\n",
            "                     6\n",
            "\n",
            "  Then let not winter's ragged hand deface,\n",
            "\n",
            "  In thee thy summer ere thou be distilled:\n",
            "\n",
            "  Make sweet some vial; treasure thou some place,\n",
            "\n",
            "  With beauty's treasure ere it be self-killed:\n",
            "\n",
            "  That use is not forbidden usury,\n",
            "\n",
            "  Which happies those that pay the willing loan;\n",
            "\n",
            "  That's for thy self to breed another thee,\n",
            "\n",
            "  Or ten times happier be it ten for one,\n",
            "\n",
            "  Ten times thy self were happier than thou art,\n",
            "\n",
            "  If ten of thine ten times refigured thee:\n",
            "\n",
            "  Then what could death do if thou shouldst depart,\n",
            "\n",
            "  Leaving thee living in posterity?\n",
            "\n",
            "    Be not self-willed for thou art much too fair,\n",
            "\n",
            "    To be death's conquest and make worms thine heir.\n",
            "\n",
            "\n",
            "\n",
            "\n",
            "\n",
            "                     7\n",
            "\n",
            "  Lo in the orient when the gracious light\n",
            "\n",
            "  Lifts up his burning head, each under eye\n",
            "\n",
            "  Doth homage to his new-appearing sight,\n",
            "\n",
            "  Serving with looks his sacred majesty,\n",
            "\n",
            "  And having climbed the steep-up heavenly hill,\n",
            "\n",
            "  Resembling strong youth in his middle age,\n",
            "\n",
            "  Yet mortal looks adore his beauty still,\n",
            "\n",
            "  Attending on his golden pilgrimage:\n",
            "\n",
            "  But when from highmost pitch with weary car,\n",
            "\n",
            "  Like feeble age he reeleth from the day,\n",
            "\n",
            "  The eyes (fore duteous) now converted are\n",
            "\n",
            "  From his low tract and look another way:\n",
            "\n",
            "    So thou, thy self out-going in thy noon:\n",
            "\n",
            "    Unlooked on diest unless thou get a son.\n",
            "\n",
            "\n",
            "\n",
            "\n",
            "\n",
            "                     8\n",
            "\n",
            "  Music to hear, why hear'st thou music sadly?\n",
            "\n",
            "  Sweets with sweets war not, joy delights in joy:\n",
            "\n",
            "  Why lov'st thou that which thou receiv'st not gladly,\n",
            "\n",
            "  Or else receiv'st with pleasure thine annoy?\n",
            "\n",
            "  If the true concord of well-tuned sounds,\n",
            "\n",
            "  By unions married do offend thine ear,\n",
            "\n",
            "  They do but sweetly chide thee, who confounds\n",
            "\n",
            "  In singleness the parts that thou shouldst bear:\n",
            "\n",
            "  Mark how one string sweet husband to another,\n",
            "\n",
            "  Strikes each in each by mutual ordering;\n",
            "\n",
            "  Resembling sire, and child, and happy mother,\n",
            "\n",
            "  Who all in one, one pleasing note do sing:\n",
            "\n",
            "    Whose speechless song being many, seeming one,\n",
            "\n",
            "    Sings this to thee, 'Thou single wilt prove none'.\n",
            "\n",
            "\n",
            "\n",
            "\n",
            "\n",
            "                     9\n",
            "\n",
            "  Is it for fear to wet a widow's eye,\n",
            "\n",
            "  That thou consum'st thy self in single life?\n",
            "\n",
            "  Ah, if thou issueless shalt hap to die,\n",
            "\n",
            "  The world will wail thee like a makeless wife,\n",
            "\n",
            "  The world will be thy widow and still weep,\n",
            "\n",
            "  That thou no form of thee hast left behind,\n",
            "\n",
            "  When every private widow well may keep,\n",
            "\n",
            "  By children's eyes, her husband's shape in mind:\n",
            "\n",
            "  Look what an unthrift in the world doth spend\n",
            "\n",
            "  Shifts but his place, for still the world enjoys it;\n",
            "\n",
            "  But beauty's waste hath in the world an end,\n",
            "\n",
            "  And kept unused the user so destroys it:\n",
            "\n",
            "    No love toward others in that bosom sits\n",
            "\n",
            "    That on himself such murd'rous shame commits.\n",
            "\n",
            "\n",
            "\n",
            "\n",
            "\n",
            "                     10\n",
            "\n",
            "  For shame deny that thou bear'st love to any\n",
            "\n",
            "  Who for thy self art so unprovident.\n",
            "\n",
            "  Grant if thou wilt, thou art beloved of many,\n",
            "\n",
            "  But that thou none lov'st is most evident:\n",
            "\n",
            "  For thou art so possessed with murd'rous hate,\n",
            "\n",
            "  That 'gainst thy self thou stick'st not to conspire,\n",
            "\n",
            "  Seeking that beauteous roof to ruinate\n",
            "\n",
            "  Which to repair should be thy chief desire:\n",
            "\n",
            "  O change thy thought, that I may change my mind,\n",
            "\n",
            "  Shall hate be fairer lodged than gentle love?\n",
            "\n",
            "  Be as thy presence is gracious and kind,\n",
            "\n",
            "  Or to thy self at least kind-hearted prove,\n",
            "\n",
            "    Make thee another self for love of me,\n",
            "\n",
            "    That beauty still may live in thine or thee.\n",
            "\n"
          ],
          "name": "stdout"
        }
      ]
    },
    {
      "cell_type": "code",
      "metadata": {
        "id": "KAZvo585BbzA",
        "outputId": "8fd1e5ed-2445-419e-f11f-c0e024ef0bc8"
      },
      "source": [
        "fp = open(\"Shakespeare.txt\", \"r\")                                       \n",
        "list_ = fp.readline()\n",
        "print (list_)\n",
        "#for line in line:\n",
        " #   print(line)\n",
        "\n",
        "#print(fp.readline())\n",
        "fp.close ()"
      ],
      "execution_count": null,
      "outputs": [
        {
          "output_type": "stream",
          "text": [
            "1609\n",
            "\n"
          ],
          "name": "stdout"
        }
      ]
    },
    {
      "cell_type": "markdown",
      "metadata": {
        "id": "nQa28MQcBbzA"
      },
      "source": [
        "Notice that the output of the code above has an empty line between each of the lines displayed. Where is that extra line coming from? Think about it.\n",
        "\n",
        "The extra line is there because the `readline()` method returns a string of the characters read, up to and *including* the newline character. So when the `buffer` is printed, it prints a newline character too. And since the `print()` function *also* moves to a new line after it is executed, there is an empty line printed after each line of text."
      ]
    },
    {
      "cell_type": "markdown",
      "metadata": {
        "id": "Mn4jkZ0zBbzB"
      },
      "source": [
        "A collary to the `readline()` method is the `readlines()` method. `readlines()` reads all the lines in the file, and returns them as a list of strings. The strings include the newline characters."
      ]
    },
    {
      "cell_type": "markdown",
      "metadata": {
        "id": "QEj8DXssBbzB"
      },
      "source": [
        "### When to use which file-reading method"
      ]
    },
    {
      "cell_type": "markdown",
      "metadata": {
        "id": "s04U_oKYBbzB"
      },
      "source": [
        "Both the `read()` and `readlines()` method read a whole file at once. Obviously, for small files this is acceptable, but for long files you might not have enough memory to store the file contents efficiently. In such circumstances (or when you do not know the file size), you should read a file line by line with the `readline()` method.\n",
        "\n",
        "It is often a good idea, during code development, to process only the first few lines of a file. That way you limit the amount of time that the program needs to process a file, and limit its output, which makes debugging easier. For instance, the code below process the first 10 lines of one of the longer files."
      ]
    },
    {
      "cell_type": "code",
      "metadata": {
        "id": "iHzrxXN7BbzB",
        "outputId": "b630ec94-8bc8-4a58-aea6-9a53d9e52dea"
      },
      "source": [
        "def display_contents_file4(file_name):\n",
        "    fp = open(file_name)\n",
        "    count = 0\n",
        "    while count < 10:\n",
        "        buffer = fp.readline()\n",
        "        if buffer == \"\":\n",
        "            break\n",
        "        print( buffer, end=\"\" )\n",
        "        count += 1\n",
        "    fp.close()\n",
        "    \n",
        "display_contents_file4( \"Shakespeare.txt\")"
      ],
      "execution_count": null,
      "outputs": [
        {
          "output_type": "stream",
          "text": [
            "1609\n",
            "\n",
            "THE SONNETS\n",
            "\n",
            "by William Shakespeare\n",
            "\n",
            "\n",
            "\n",
            "                     1\n",
            "  From fairest creatures we desire increase,\n"
          ],
          "name": "stdout"
        }
      ]
    },
    {
      "cell_type": "markdown",
      "metadata": {
        "id": "YFVxKPhHBbzC"
      },
      "source": [
        "Once the program is finished and debugged, I can remove the references to `count` and change the loop to `while True`, to process the whole file.\n",
        "\n",
        "**Exercise**: Start by copying the code above in the code block below. Then adapt it to count how often the word \"from\" (with any capitalization) occurs in the text as a whole. Print only the number of occurrences of that word. If you do it correctly, you find the answer is 14 (it occurs 3 times in the first 20 lines)."
      ]
    },
    {
      "cell_type": "code",
      "metadata": {
        "id": "YNXW4x-TBbzC",
        "outputId": "7519106d-6eac-4e32-b775-1c1259cad09d"
      },
      "source": [
        "def display_contents_file4(file_name):\n",
        "    #Your Code Here\n",
        "    \n",
        "display_contents_file4( \"Shakespeare.txt\")"
      ],
      "execution_count": null,
      "outputs": [
        {
          "output_type": "stream",
          "text": [
            "2\n"
          ],
          "name": "stdout"
        }
      ]
    },
    {
      "cell_type": "markdown",
      "metadata": {
        "id": "-zHQ8f0EBbzD"
      },
      "source": [
        ""
      ]
    },
    {
      "cell_type": "markdown",
      "metadata": {
        "id": "uOAG29hWBbzD"
      },
      "source": [
        "## `os.path` methods"
      ]
    },
    {
      "cell_type": "markdown",
      "metadata": {
        "id": "UNkMAy6tBbzD"
      },
      "source": [
        "At this point you know everything you need to handle text files in Python. However, there are several handy functions that make your life easier when dealing with files. These are collected in the `os.path` module. As per usual, I am not going to list all of them, but I will list the ones that you will use the most.\n",
        "\n",
        "In these functions, the term \"path\" refers to a filename or a directory name, complete with parent directories (and drive letter). The parent directories (and drive letter) do not *need* to be there explicitly, but even if they are not, implicitly they still are as each file and each directory is located in a particular place in the file system."
      ]
    },
    {
      "cell_type": "markdown",
      "metadata": {
        "id": "ozVh_3avBbzE"
      },
      "source": [
        "### `exists()`"
      ]
    },
    {
      "cell_type": "markdown",
      "metadata": {
        "id": "mVwenTT6BbzE"
      },
      "source": [
        "The function `exists()` gets a path as argument, and returns `True` if that path exists, and `False` if it does not."
      ]
    },
    {
      "cell_type": "code",
      "metadata": {
        "id": "gcoulRU4BbzE",
        "outputId": "caf20236-9d74-45a8-9092-7c8c47347e4d"
      },
      "source": [
        "from os.path import exists\n",
        "\n",
        "def check_if_path_exists(file_name):\n",
        "    if exists(file_name ):\n",
        "        return( file_name + \" exists\" )\n",
        "    else:\n",
        "        return( file_name + \" does not exist\" )\n",
        "\n",
        "print(check_if_path_exists(\"Shakespeare.txt\"))\n",
        "print(check_if_path_exists(\"TorresMapfre.txt\"))\n",
        "\n",
        "exists(\"Shakespeare.txt\")"
      ],
      "execution_count": null,
      "outputs": [
        {
          "output_type": "stream",
          "text": [
            "Shakespeare.txt exists\n",
            "TorresMapfre.txt does not exist\n"
          ],
          "name": "stdout"
        },
        {
          "output_type": "execute_result",
          "data": {
            "text/plain": [
              "True"
            ]
          },
          "metadata": {
            "tags": []
          },
          "execution_count": 21
        }
      ]
    },
    {
      "cell_type": "markdown",
      "metadata": {
        "id": "5VCO3XXvBbzE"
      },
      "source": [
        "### `isfile()`"
      ]
    },
    {
      "cell_type": "markdown",
      "metadata": {
        "id": "arNJ5_I0BbzF"
      },
      "source": [
        "`isfile()` tests if the path that is supplied as argument is a file. If it is, it returns `True`. If it is not, it returns `False`. If the path does not exist, the function also returns `False`."
      ]
    },
    {
      "cell_type": "code",
      "metadata": {
        "id": "N9xAuKsQBbzF",
        "outputId": "5aa9c927-9316-46f7-bf0c-5c3bf5ee9f55"
      },
      "source": [
        "from os.path import isfile\n",
        "\n",
        "def check_if_file_exists(file_name):\n",
        "    if isfile( file_name ):\n",
        "        return( file_name + \" is a file\" )\n",
        "    else:\n",
        "        return( file_name + \" is not a file\" )\n",
        "    \n",
        "print(check_if_file_exists(\"Shakespeare.txt\"))"
      ],
      "execution_count": null,
      "outputs": [
        {
          "output_type": "stream",
          "text": [
            "Shakespeare.txt is a file\n"
          ],
          "name": "stdout"
        }
      ]
    },
    {
      "cell_type": "markdown",
      "metadata": {
        "id": "UupaOS4tBbzF"
      },
      "source": [
        "### `isdir()`"
      ]
    },
    {
      "cell_type": "markdown",
      "metadata": {
        "id": "XwLQZbbVBbzG"
      },
      "source": [
        "`isdir()` tests if the path that is supplied as argument is a directory. If it is, it returns `True`. If it is not, it returns `False`. If the path does not exist, the function also returns `False`."
      ]
    },
    {
      "cell_type": "code",
      "metadata": {
        "id": "tgHGxze5BbzG",
        "outputId": "3f75a11d-f812-4ed6-bb4a-7ef545580dff"
      },
      "source": [
        "from os.path import isdir\n",
        "\n",
        "def check_if_path_is_dir(file_name):\n",
        "    if isdir( file_name):\n",
        "        print( file_name + \" Sheakspeare is a directory\" )\n",
        "    else:\n",
        "        print(file_name + \" is not a directory\" )\n",
        "check_if_path_is_dir(\"Shakespeare.txt\")"
      ],
      "execution_count": null,
      "outputs": [
        {
          "output_type": "stream",
          "text": [
            "Shakespeare.txt is not a directory\n"
          ],
          "name": "stdout"
        }
      ]
    },
    {
      "cell_type": "markdown",
      "metadata": {
        "id": "dLlhpQFuBbzG"
      },
      "source": [
        "### `basename()`"
      ]
    },
    {
      "cell_type": "markdown",
      "metadata": {
        "id": "riI-Y2kUBbzG"
      },
      "source": [
        "`basename()` extracts the filename from a path, and returns it. "
      ]
    },
    {
      "cell_type": "code",
      "metadata": {
        "id": "M9C1Az9fBbzH",
        "outputId": "6846c356-d0ff-44c4-8395-ff11c7335105"
      },
      "source": [
        "from os.path import basename\n",
        "\n",
        "print( basename( \"/System/Home/readme.txt\" ) )"
      ],
      "execution_count": null,
      "outputs": [
        {
          "output_type": "stream",
          "text": [
            "readme.txt\n"
          ],
          "name": "stdout"
        }
      ]
    },
    {
      "cell_type": "markdown",
      "metadata": {
        "id": "QE1LzJVGBbzH"
      },
      "source": [
        "### `dirname()`"
      ]
    },
    {
      "cell_type": "markdown",
      "metadata": {
        "id": "GOPZvyRvBbzH"
      },
      "source": [
        "`dirname()` extracts the directory name from a path, and returns it."
      ]
    },
    {
      "cell_type": "code",
      "metadata": {
        "id": "zIYMjjIyBbzH",
        "outputId": "b45cf7c7-8c77-4fd5-a420-dc1f4f03d56d"
      },
      "source": [
        "from os.path import dirname\n",
        "\n",
        "print( dirname( \"/System/Home/readme.txt\" ) )"
      ],
      "execution_count": null,
      "outputs": [
        {
          "output_type": "stream",
          "text": [
            "/System/Home\n"
          ],
          "name": "stdout"
        }
      ]
    },
    {
      "cell_type": "markdown",
      "metadata": {
        "id": "8hw_fXo0BbzI"
      },
      "source": [
        "### `getsize()`"
      ]
    },
    {
      "cell_type": "markdown",
      "metadata": {
        "id": "xw0iHnnnBbzI"
      },
      "source": [
        "`getsize()` gets the size of the file that is supplied as argument, and returns it as an integer. The file must exist, otherwise you get a runtime error."
      ]
    },
    {
      "cell_type": "code",
      "metadata": {
        "id": "pcofiQ7wBbzI",
        "outputId": "f0806880-847e-4f08-dd52-461979d2912e"
      },
      "source": [
        "from os.path import getsize\n",
        "\n",
        "numbytes = getsize( \"Shakespeare.txt\" )\n",
        "print( numbytes )"
      ],
      "execution_count": null,
      "outputs": [
        {
          "output_type": "stream",
          "text": [
            "29\n"
          ],
          "name": "stdout"
        }
      ]
    },
    {
      "cell_type": "markdown",
      "metadata": {
        "id": "5d3cFFC0BbzJ"
      },
      "source": [
        "---"
      ]
    },
    {
      "cell_type": "markdown",
      "metadata": {
        "id": "YPJWzcEPBbzJ"
      },
      "source": [
        "## File encoding"
      ]
    },
    {
      "cell_type": "markdown",
      "metadata": {
        "id": "r8ZwZuBwBbzJ"
      },
      "source": [
        "Text files use an \"encoding\", i.e., a system that prescribes how characters in the files are supposed to be interpreted. This encoding may differ between operating systems. You can see the preferred encoding that your system uses with a call to `sys.getfilesystemencoding()`."
      ]
    },
    {
      "cell_type": "code",
      "metadata": {
        "id": "l1a9Gd-gBbzJ",
        "outputId": "5eeddb97-6918-4518-88d0-c7bcba451756"
      },
      "source": [
        "from sys import getfilesystemencoding\n",
        "\n",
        "print( getfilesystemencoding() )"
      ],
      "execution_count": null,
      "outputs": [
        {
          "output_type": "stream",
          "text": [
            "ascii\n"
          ],
          "name": "stdout"
        }
      ]
    },
    {
      "cell_type": "markdown",
      "metadata": {
        "id": "3vp1afzMBbzK"
      },
      "source": [
        "If you read a text file which uses a different encoding than your file system prefers, you may get a `UnicodeDecodeError`. Whether or not you get this error for a particular file, is related to your operating system. An annoying consequence of that is that when you port Python code that reads a file to another system, a file that could be read by your code previously may cause your code to crash after the port.\n",
        "\n",
        "An easy way to get around this problem is by adding an extra parameter when opening a file, which indicates the encoding mechanism that you want to use when reading the file. You do this by adding a parameter \"`encoding=<encodingname>`\", where `<encodingname>` is a string that can have a variety of values, for which some typical ones are:\n",
        "\n",
        "    ascii       7-bits encoding, supports characters with values in the range 00-7F\n",
        "    latin-1     8-bits encoding, supports characters with values in the range 00-FF\n",
        "    mbcs        2-byte encoding, that is currently getting replaced by UTF-8\n",
        "    utf-8       variable bytes encoding\n",
        "\n",
        "Typically, text files are created with `ascii` or `latin-1` encoding. Since `ascii` is incorporated in `latin-1`, you can safely open any text file by specifying `latin-1` as encoding. It is possible that for the characters beyond the `ascii` range, you get different characters than the person who created the file wanted you to see -- that depends on the encoding mechanism that your file system uses. But at least the `UnicodeDecodeError` is avoided.\n",
        "\n",
        "Note that while `utf-8` supports a much wider range of characters than `latin-1`, you may still get the `UnicodeDecodeError` when you read a text file that uses `latin-1` encoding on a system that uses `utf-8` encoding, as `utf-8` has no corresponding characters with values in the range 80-FF.\n"
      ]
    },
    {
      "cell_type": "markdown",
      "metadata": {
        "id": "a22y4oQ2BbzK"
      },
      "source": [
        "**Exercise**: If you change the encoding mechanism for this file to `utf-8`, it will enforce the `UnicodeDecodeError` as it contains characters with numbers in the range 80-FF. Try this.\n",
        "\n",
        "If you want to see which special characters are supported with values in the range 80-FF on your system, run the code below. The numerical value of a character in the table can be derived by calculating `16*row+col`, whereby `row` and `col` are the hexadecimal row and column number, respectively. I do not display the characters in the range 80-9F, as these are normally not filled in."
      ]
    },
    {
      "cell_type": "code",
      "metadata": {
        "id": "0Hl5DYlyBbzK",
        "outputId": "8710ce04-9f1f-4ed1-8d93-5530022e88dd"
      },
      "source": [
        "#Your Code Here"
      ],
      "execution_count": null,
      "outputs": [
        {
          "output_type": "stream",
          "text": [
            " 0 1 2 3 4 5 6 7 8 9 A B C D E F\n",
            "A   ¡ ¢ £ ¤ ¥ ¦ § ¨ © ª « ¬ ­ ® ¯\n",
            "B ° ± ² ³ ´ µ ¶ · ¸ ¹ º » ¼ ½ ¾ ¿\n",
            "C À Á Â Ã Ä Å Æ Ç È É Ê Ë Ì Í Î Ï\n",
            "D Ð Ñ Ò Ó Ô Õ Ö × Ø Ù Ú Û Ü Ý Þ ß\n",
            "E à á â ã ä å æ ç è é ê ë ì í î ï\n",
            "F ð ñ ò ó ô õ ö ÷ ø ù ú û ü ý þ ÿ\n"
          ],
          "name": "stdout"
        }
      ]
    },
    {
      "cell_type": "markdown",
      "metadata": {
        "id": "hhgv3Z15BbzL"
      },
      "source": [
        "---"
      ]
    },
    {
      "cell_type": "markdown",
      "metadata": {
        "id": "XID5LR6ABbzL"
      },
      "source": [
        "## What you learned"
      ]
    },
    {
      "cell_type": "markdown",
      "metadata": {
        "id": "p7cCCMC8BbzL"
      },
      "source": [
        "In this chapter, you learned about:\n",
        "\n",
        "- Text files\n",
        "- File pointers\n",
        "- Opening and closing files with `open()` and `close()`\n",
        "- Reading files with `read()`, `readline()`, and `readlines()`\n",
        "- Writing files with `write()` and `writelines()`\n",
        "- Appending to files\n",
        "- `os.path` methods `exists()`, `isfile()`, `isdir()`, `join()`, `basename()`, `dirname()`, and `getsize()`\n",
        "- Dealing with text files with different encoding mechanisms"
      ]
    },
    {
      "cell_type": "markdown",
      "metadata": {
        "id": "_cuIKahGBbzL"
      },
      "source": [
        "---"
      ]
    },
    {
      "cell_type": "markdown",
      "metadata": {
        "id": "Ev6NnJsSBbzM"
      },
      "source": [
        "## Exercises"
      ]
    },
    {
      "cell_type": "markdown",
      "metadata": {
        "id": "99GzsdZ8BbzM"
      },
      "source": [
        "### Exercise 11.1"
      ]
    },
    {
      "cell_type": "markdown",
      "metadata": {
        "id": "T_IYdX-gBbzM"
      },
      "source": [
        "Write a program that reads the contents of the file \"`blakepoems.txt`\", splits it into words (where everything that is not a letter is considered a word boundary), and case-insensitively builds a dictionary that stores for every word how often it occurs in the text. Then print all the words with their quantities in alphabetical order."
      ]
    },
    {
      "cell_type": "code",
      "metadata": {
        "id": "bvVutceYBbzM"
      },
      "source": [
        "# Counting words in blakepoems.txt.\n",
        "fp = open( \"blakepoems.txt\")\n",
        "import string\n",
        "def count_wordss():\n",
        "    file = \"blakepoems.txt\"\n",
        "    with open(file, 'r') as ff:\n",
        "        \n",
        "        data = ff.read()\n",
        "        t_test = [word.strip(string.punctuation) for word in data.split()]\n",
        "        number_o_words =  dict()\n",
        "        lines = data.splitlines()\n",
        "#         words = (data.split())\n",
        "        \n",
        "        for i in t_test:\n",
        "            number_o_words[i] = number_o_words.get(i , 0) + 1\n",
        "#             count = words.count(i)\n",
        "#             if(i in number_o_words):\n",
        "#                 number_o_words[i] += 1\n",
        "#             else:\n",
        "#                 number_o_words[i] = 1\n",
        "        xx = (sorted(number_o_words.items(), key=lambda item: item[1], reverse= True)) #work with dictionary is easier\n",
        "        print('\\n number of line ::', len(lines), '\\n Words number ::', len(t_test))\n",
        "        print(xx)\n"
      ],
      "execution_count": 5,
      "outputs": []
    },
    {
      "cell_type": "markdown",
      "metadata": {
        "id": "igFTji8kvMJN"
      },
      "source": [
        ""
      ]
    },
    {
      "cell_type": "code",
      "metadata": {
        "id": "kXKHWVLpaHvU"
      },
      "source": [
        "\n",
        "#something wrong with that code\n",
        "def count_wordss():\n",
        "    file = \"blakepoems.txt\"\n",
        "    with open(file, 'r') as ff:\n",
        "        \n",
        "        data = ff.read()\n",
        "        t_test = [word.strip(string.punctuation) for word in data.split()]\n",
        "        number_o_words =  dict()\n",
        "        lines = data.splitlines()\n",
        "#         words = (data.split())\n",
        "        \n",
        "        for i in t_test:\n",
        "            number_o_words[i] = number_o_words.get(i , 0) + 1\n",
        "#             count = words.count(i)\n",
        "#             if(i in number_o_words):\n",
        "#                 number_o_words[i] += 1\n",
        "#             else:\n",
        "#                 number_o_words[i] = 1\n",
        "        xx = (sorted(number_o_words.items(), key=lambda item: item[1], reverse= True)) #work with dictionary is easier\n",
        "        print('\\n number of line ::', len(lines), '\\n Words number ::', len(t_test))\n",
        "        print(xx)\n"
      ],
      "execution_count": 1,
      "outputs": []
    },
    {
      "cell_type": "code",
      "metadata": {
        "id": "YoU3P9aAaARj",
        "outputId": "8b3114b2-b0c7-4dc4-e23a-31125d5c7fdc",
        "colab": {
          "base_uri": "https://localhost:8080/"
        }
      },
      "source": [
        "count_wordss()"
      ],
      "execution_count": 6,
      "outputs": [
        {
          "output_type": "stream",
          "text": [
            "\n",
            " number of line :: 1441 \n",
            " Words number :: 6849\n",
            "[('the', 351), ('And', 176), ('and', 169), ('of', 131), ('I', 125), ('in', 116), ('a', 107), ('to', 92), ('my', 72), ('The', 61), ('with', 59), ('his', 49), ('is', 45), ('thee', 42), ('not', 37), ('he', 34), ('me', 34), ('their', 34), ('on', 34), ('her', 32), ('all', 31), ('they', 30), ('was', 30), ('like', 29), ('thy', 28), ('from', 28), ('thou', 28), ('THE', 27), ('', 26), ('little', 26), ('In', 25), ('be', 25), ('it', 25), ('night', 25), ('away', 24), ('But', 24), ('Then', 23), ('joy', 22), ('our', 22), ('by', 21), ('that', 21), ('are', 21), ('weep', 21), ('He', 20), ('an', 20), ('for', 20), ('A', 20), ('can', 19), ('down', 19), ('happy', 19), ('Where', 19), ('child', 18), ('day', 18), ('To', 18), ('When', 18), ('That', 18), ('father', 18), ('have', 17), ('mother', 17), ('sleep', 17), ('what', 17), ('this', 16), ('Sweet', 16), ('see', 16), ('shall', 15), ('no', 15), ('bright', 15), ('voice', 15), ('am', 15), ('love', 15), ('Or', 15), ('human', 15), ('every', 15), ('They', 14), ('delight', 14), ('but', 14), ('as', 14), ('upon', 14), ('never', 14), ('its', 14), ('does', 13), ('we', 13), ('green', 13), ('head', 13), ('Love', 13), ('O', 13), ('hear', 12), ('sweet', 12), ('For', 12), ('who', 12), ('face', 12), ('tears', 12), ('heard', 12), ('So', 11), ('sit', 11), ('sun', 11), ('birds', 11), ('white', 11), ('care', 11), ('Till', 11), ('Little', 11), ('God', 11), ('light', 11), ('fear', 11), ('weeping', 11), ('children', 11), ('Why', 11), ('Thel', 11), ('cloud', 10), ('While', 10), ('when', 10), ('My', 10), ('morning', 10), ('did', 10), ('him', 10), ('so', 10), ('Oh', 10), ('smiles', 10), ('lay', 10), ('Nor', 10), ('wild', 9), ('On', 9), ('How', 9), ('tender', 9), ('know', 9), ('play', 9), ('were', 9), ('more', 9), ('vales', 9), ('if', 9), ('there', 9), ('flowers', 9), ('deep', 9), ('hand', 9), ('sing', 9), ('eyes', 9), ('heart', 9), ('What', 9), ('OF', 8), ('said', 8), ('Lamb', 8), ('wept', 8), ('morn', 8), (\"o'er\", 8), ('His', 8), ('LITTLE', 8), ('tree', 8), ('She', 8), ('golden', 8), ('you', 8), ('your', 8), ('them', 8), ('form', 8), ('silent', 8), ('infant', 8), ('smile', 8), ('All', 8), ('If', 8), ('bed', 8), ('go', 8), ('Can', 8), ('woe', 8), ('holy', 8), ('Lyca', 8), ('virgin', 8), ('do', 7), ('saw', 7), ('merry', 7), ('arise', 7), ('at', 7), ('life', 7), ('mild', 7), ('black', 7), ('before', 7), ('Is', 7), ('round', 7), ('boy', 7), ('then', 7), ('cry', 7), ('came', 7), ('sorrow', 7), ('through', 7), ('With', 7), ('doth', 7), ('small', 7), ('Thou', 7), ('Mercy', 7), ('Pity', 7), ('grass', 7), ('itself', 7), ('maid', 7), ('she', 7), ('Of', 7), ('song', 6), ('made', 6), ('seen', 6), ('hair', 6), ('laugh', 6), ('say', 6), ('Like', 6), ('tell', 6), ('bore', 6), ('live', 6), ('earth', 6), ('these', 6), ('Come', 6), ('shade', 6), ('Tom', 6), ('cannot', 6), ('had', 6), ('up', 6), ('shine', 6), ('rose', 6), ('cold', 6), ('where', 6), ('Who', 6), ('air', 6), ('over', 6), ('Peace', 6), ('man', 6), ('or', 6), ('heaven', 6), ('should', 6), ('gold', 6), ('many', 6), ('tear', 6), ('both', 6), ('spring', 6), ('vain', 6), ('trembling', 6), ('death', 6), ('pleasant', 5), ('may', 5), ('evening', 5), ('lambs', 5), ('make', 5), ('around', 5), ('Does', 5), ('old', 5), ('weary', 5), ('name', 5), ('lamb', 5), ('heat', 5), ('bear', 5), ('out', 5), ('free', 5), ('told', 5), ('dark', 5), ('led', 5), ('soft', 5), ('among', 5), ('seek', 5), ('flower', 5), ('feet', 5), ('each', 5), ('sleeping', 5), ('year', 5), ('breast', 5), ('come', 5), ('gone', 5), ('us', 5), ('fly', 5), ('sigh', 5), ('ground', 5), ('nor', 5), ('fled', 5), ('dread', 5), ('thing', 5), ('land', 5), ('desert', 5), ('fears', 5), ('art', 5), ('thought', 5), ('Ah', 5), ('beauty', 5), ('how', 5), ('fade', 5), ('gentle', 5), ('Cloud', 5), ('Worm', 5), ('SONGS', 4), ('THEL', 4), ('valleys', 4), ('laughing', 4), ('From', 4), ('sheep', 4), ('filled', 4), ('innocent', 4), ('call', 4), ('while', 4), ('skies', 4), ('welcome', 4), ('such', 4), ('nest', 4), ('Are', 4), (\"I'll\", 4), ('BOY', 4), ('angel', 4), ('gives', 4), ('men', 4), ('till', 4), ('bosom', 4), ('pretty', 4), ('yet', 4), ('mind', 4), ('let', 4), ('naked', 4), ('rise', 4), ('LOST', 4), ('dew', 4), ('ever', 4), ('pale', 4), ('SONG', 4), (\"O'er\", 4), (\"infant's\", 4), ('Sleep', 4), ('image', 4), ('Maker', 4), ('own', 4), ('dress', 4), ('two', 4), ('snow', 4), ('into', 4), ('Now', 4), ('poor', 4), ('look', 4), ('pitying', 4), ('Shall', 4), ('beside', 4), ('Merrily', 4), ('home', 4), ('days', 4), ('grief', 4), ('Hear', 4), ('youth', 4), ('another', 4), ('ways', 4), ('garden', 4), ('weak', 4), ('armed', 4), ('because', 4), ('worm', 4), ('drink', 4), ('maiden', 4), ('Queen', 4), ('time', 4), ('went', 4), ('modest', 4), ('humble', 4), ('youthful', 4), ('find', 4), ('knew', 4), ('sat', 4), ('summer', 4), ('mortal', 4), ('why', 4), ('valley', 4), ('Har', 4), ('food', 4), ('Blake', 3), ('INNOCENCE', 3), ('AND', 3), ('EXPERIENCE', 3), ('BOOK', 3), ('songs', 3), ('pipe', 3), ('again', 3), ('book', 3), ('hollow', 3), ('water', 3), ('tongue', 3), ('hears', 3), ('peace', 3), ('Among', 3), ('ones', 3), ('No', 3), ('rest', 3), ('Dost', 3), ('Gave', 3), ('feed', 3), ('By', 3), ('rejoice', 3), ('bless', 3), ('kissed', 3), ('rising', 3), ('beams', 3), ('grove', 3), ('will', 3), ('vanish', 3), ('Saying', 3), ('tent', 3), ('thus', 3), ('silver', 3), ('Under', 3), ('blossom', 3), ('Near', 3), ('Pretty', 3), ('very', 3), ('Could', 3), ('Weep', 3), ('back', 3), ('river', 3), ('clouds', 3), ('wind', 3), ('Angel', 3), ('work', 3), ('warm', 3), ('walk', 3), ('speak', 3), ('lost', 3), ('lonely', 3), ('dale', 3), ('dreams', 3), ('crown', 3), ('moans', 3), ('moan', 3), ('Holy', 3), ('Thy', 3), ('DIVINE', 3), ('IMAGE', 3), ('pray', 3), ('has', 3), ('divine', 3), ('clime', 3), ('dwell', 3), ('too', 3), ('walking', 3), ('high', 3), ('flow', 3), ('hands', 3), ('door', 3), (\"heaven's\", 3), ('covered', 3), ('keep', 3), ('any', 3), ('tigers', 3), ('prey', 3), ('most', 3), ('immortal', 3), ('now', 3), ('mane', 3), ('sky', 3), ('merrily', 3), ('Let', 3), ('Your', 3), ('voices', 3), ('fades', 3), ('dream', 3), ('return', 3), ('near', 3), (\"another's\", 3), ('feel', 3), ('Never', 3), ('infants', 3), ('Weeping', 3), ('give', 3), ('destroy', 3), ('fallen', 3), ('Earth', 3), ('dewy', 3), ('shore', 3), ('given', 3), ('blossoms', 3), ('chain', 3), ('meet', 3), ('only', 3), ('It', 3), ('thorns', 3), ('eternal', 3), ('winter', 3), ('GIRL', 3), ('wandered', 3), ('lion', 3), ('parents', 3), ('could', 3), ('Soon', 3), ('church', 3), ('done', 3), ('wings', 3), ('burning', 3), ('eye', 3), ('fire', 3), ('Youth', 3), ('Lily', 3), ('Church', 3), ('would', 3), ('new-born', 3), ('loves', 3), ('spreads', 3), ('one', 3), ('wrath', 3), ('foe', 3), ('take', 3), ('born', 3), ('lowly', 3), ('springs', 3), ('shining', 3), ('helpless', 3), ('none', 3), ('enter', 3), ('William', 2), ('You', 2), ('INTRODUCTION', 2), ('Piping', 2), ('piped', 2), ('cheer', 2), ('Piper', 2), ('Sing', 2), ('sang', 2), ('read', 2), ('sight', 2), ('Every', 2), ('lot', 2), ('praise', 2), ('nigh', 2), ('bells', 2), ('skylark', 2), ('sports', 2), ('echoing', 2), ('Green', 2), ('soon', 2), ('Such', 2), ('joys', 2), ('girls', 2), ('boys', 2), ('end', 2), ('Round', 2), ('mothers', 2), ('brothers', 2), ('ready', 2), ('sport', 2), ('stream', 2), ('clothing', 2), ('called', 2), ('meek', 2), ('became', 2), ('southern', 2), ('soul', 2), ('English', 2), ('taught', 2), ('took', 2), ('began', 2), ('beasts', 2), ('put', 2), ('souls', 2), ('stand', 2), ('Merry', 2), ('leaves', 2), ('cradle', 2), ('robin', 2), ('sobbing', 2), ('died', 2), ('soot', 2), ('bare', 2), ('As', 2), ('coffins', 2), ('bags', 2), ('want', 2), ('Though', 2), ('harm', 2), ('Father', 2), ('else', 2), ('flew', 2), ('FOUND', 2), ('sought', 2), ('hill', 2), ('laughs', 2), ('noise', 2), ('Ha', 2), ('ha', 2), ('lovely', 2), ('Hover', 2), (\"mother's\", 2), ('livelong', 2), ('beguile', 2), ('dovelike', 2), ('sighs', 2), ('thine', 2), ('smiled', 2), ('babe', 2), ('once', 2), ('Infant', 2), ('distress', 2), ('dear', 2), ('must', 2), ('There', 2), ('HOLY', 2), ('THURSDAY', 2), ('Came', 2), ('walked', 2), ('Thames', 2), ('waters', 2), ('hum', 2), ('multitudes', 2), ('cherish', 2), ('pity', 2), ('drive', 2), ('descending', 2), ('mine', 2), ('moon', 2), ('bower', 2), ('fields', 2), ('flocks', 2), ('angels', 2), ('Unseen', 2), ('pour', 2), ('blessing', 2), ('without', 2), ('thoughtless', 2), ('caves', 2), ('been', 2), ('howl', 2), ('Seeking', 2), ('spirit', 2), (\"lion's\", 2), ('fold', 2), ('lie', 2), ('think', 2), ('after', 2), ('lick', 2), ('neck', 2), ('kiss', 2), (\"NURSE'S\", 2), ('dews', 2), ('leave', 2), ('Besides', 2), ('hills', 2), ('well', 2), ('INFANT', 2), ('Joy', 2), ('befall', 2), ('dost', 2), ('Once', 2), ('way', 2), ('Dark', 2), ('Over', 2), ('Do', 2), ('set', 2), ('Follow', 2), ('SORROW', 2), ('sorrows', 2), ('Wiping', 2), ('becomes', 2), ('Think', 2), ('canst', 2), ('future', 2), ('ears', 2), ('ancient', 2), ('might', 2), ('starry', 2), ('pole', 2), ('renew', 2), ('Arise', 2), ('Night', 2), ('wilt', 2), ('watery', 2), ('darkness', 2), ('Her', 2), ('grey', 2), ('despair', 2), ('jealousy', 2), ('Selfish', 2), ('selfish', 2), ('buds', 2), ('grow', 2), ('heavy', 2), ('bones', 2), ('bound', 2), ('seeketh', 2), ('please', 2), ('ease', 2), ('builds', 2), ('clay', 2), ('bind', 2), ('Babes', 2), ('misery', 2), ('poverty', 2), (\"where'er\", 2), ('fall', 2), (\"summer's\", 2), ('Lovely', 2), ('Seven', 2), ('summers', 2), ('Underneath', 2), ('close', 2), ('asleep', 2), ('stood', 2), ('Tired', 2), ('shadows', 2), ('shriek', 2), ('Filled', 2), ('notes', 2), ('heath', 2), (\"winter's\", 2), ('clothed', 2), ('dance', 2), ('ROSE', 2), ('Has', 2), ('secret', 2), ('some', 2), ('wing', 2), ('breath', 2), ('beguiled', 2), ('hid', 2), ('spears', 2), ('Tiger', 2), ('tiger', 2), ('fearful', 2), ('symmetry', 2), ('distant', 2), ('dare', 2), ('aspire', 2), ('furnace', 2), ('Dare', 2), ('watered', 2), ('Did', 2), ('TREE', 2), ('turned', 2), ('Sunflower', 2), ('desire', 2), ('graves', 2), ('forth', 2), ('thorn', 2), ('horn', 2), ('Garden', 2), ('Chapel', 2), ('used', 2), ('gates', 2), ('shalt', 2), ('blown', 2), (\"we'd\", 2), ('wish', 2), ('Would', 2), ('chartered', 2), ('weakness', 2), ('Cruelty', 2), ('foot', 2), ('dismal', 2), ('Mystery', 2), ('fiend', 2), ('angry', 2), ('bird', 2), ('reason', 2), ('stripped', 2), ('iron', 2), ('burned', 2), ('place', 2), ('age', 2), ('sunny', 2), ('kisses', 2), ('tired', 2), ('terror', 2), ('spend', 2), ('dismay', 2), ('hour', 2), ('fruits', 2), ('appear', 2), ('sexes', 2), ('part', 2), ('Didst', 2), ('roots', 2), ('dead', 2), ('pit', 2), ('ask', 2), ('watry', 2), ('complain', 2), ('answerd', 2), ('milky', 2), ('honey', 2), ('throne', 2), ('answered', 2), ('thro', 2), ('bowd', 2), ('charge', 2), ('pass', 2), ('warbling', 2), ('use', 2), ('worms', 2), ('great', 2), ('Lillys', 2), ('leaf', 2), (\"can'st\", 2), ('Clay', 2), ('oil', 2), ('ponder', 2), ('therefore', 2), ('listning', 2), ('grave', 2), ('Ear', 2), ('Eye', 2), ('Poems', 1), ('1789', 1), ('glee', 1), ('Pipe', 1), ('about', 1), ('Drop', 1), ('same', 1), ('write', 1), (\"vanish'd\", 1), (\"pluck'd\", 1), ('reed', 1), ('rural', 1), ('pen', 1), (\"stain'd\", 1), ('clear', 1), ('wrote', 1), ('SHEPHERD', 1), (\"Shepherd's\", 1), ('stays', 1), ('follow', 1), ('ewes', 1), ('reply', 1), ('watching', 1), ('Shepherd', 1), ('ECHOING', 1), ('GREEN', 1), ('ring', 1), ('Spring', 1), ('thrush', 1), ('bush', 1), ('louder', 1), ('cheerful', 1), ('sound', 1), ('Old', 1), ('John', 1), ('Sitting', 1), ('under', 1), ('oak', 1), ('folk', 1), ('youth-time', 1), ('descend', 1), ('laps', 1), ('Many', 1), ('sisters', 1), ('darkening', 1), ('LAMB', 1), ('bid', 1), ('mead', 1), ('Softest', 1), ('wolly', 1), ('Making', 1), ('calls', 1), ('Himself', 1), ('We', 1), ('BLACK', 1), ('oh', 1), ('White', 1), ('bereaved', 1), ('underneath', 1), ('sitting', 1), ('lap', 1), ('pointed', 1), ('east', 1), ('Look', 1), ('trees', 1), ('receive', 1), ('Comfort', 1), ('noonday', 1), ('space', 1), ('learn', 1), ('bodies', 1), ('sunburnt', 1), ('shady', 1), (\"learn'd\", 1), ('Thus', 1), ('lean', 1), (\"Father's\", 1), ('knee', 1), ('stroke', 1), ('BLOSSOM', 1), ('sparrow', 1), ('Sees', 1), ('swift', 1), ('arrow', 1), ('Seek', 1), ('narrow', 1), ('Hears', 1), ('CHIMNEY-SWEEPER', 1), ('young', 1), ('sold', 1), ('scarcely', 1), ('chimneys', 1), ('sweep', 1), (\"There's\", 1), ('Dacre', 1), ('cried', 1), ('curled', 1), (\"lamb's\", 1), ('shaved', 1), ('Hush', 1), (\"head's\", 1), ('spoil', 1), ('quiet', 1), ('a-sleeping', 1), ('thousands', 1), ('sweepers', 1), ('Dick', 1), ('Joe', 1), ('Ned', 1), ('Jack', 1), ('Were', 1), ('locked', 1), ('key', 1), ('opened', 1), ('plain', 1), ('leaping', 1), ('run', 1), ('wash', 1), ('left', 1), ('behind', 1), (\"he'd\", 1), ('good', 1), (\"He'd\", 1), ('awoke', 1), ('got', 1), ('brushes', 1), ('duty', 1), ('need', 1), ('going', 1), ('fast', 1), ('Speak', 1), ('wet', 1), ('mire', 1), ('vapour', 1), ('fen', 1), ('Led', 1), ('wandering', 1), ('Began', 1), ('Appeared', 1), ('brought', 1), ('LAUGHING', 1), ('woods', 1), ('dimpling', 1), ('runs', 1), ('wit', 1), ('meadows', 1), ('lively', 1), ('grasshopper', 1), ('scene', 1), ('Mary', 1), ('Susan', 1), ('Emily', 1), ('mouths', 1), ('painted', 1), ('table', 1), ('cherries', 1), ('nuts', 1), ('spread', 1), ('join', 1), ('chorus', 1), ('streams', 1), ('moony', 1), ('Weave', 1), ('brows', 1), ('Chase', 1), ('slumber', 1), ('sweeter', 1), ('creation', 1), ('slept', 1), ('trace', 1), ('Wept', 1), ('Heavenly', 1), ('Smiles', 1), ('Heaven', 1), ('beguiles', 1), ('virtues', 1), ('Return', 1), ('thankfulness', 1), ('prays', 1), ('Prays', 1), ('heathen', 1), ('Turk', 1), ('Jew', 1), ('dwelling', 1), ('Twas', 1), ('Thursday', 1), ('faces', 1), ('clean', 1), ('blue', 1), ('Grey-headed', 1), ('beadles', 1), ('wands', 1), ('dome', 1), (\"Paul's\", 1), ('multitude', 1), ('seemed', 1), ('London', 1), ('town', 1), ('Seated', 1), ('companies', 1), ('radiance', 1), ('Thousands', 1), ('raising', 1), ('mighty', 1), ('raise', 1), ('harmonious', 1), ('thunderings', 1), ('seats', 1), ('Beneath', 1), ('aged', 1), ('wise', 1), ('guardians', 1), ('lest', 1), ('NIGHT', 1), ('west', 1), ('star', 1), ('Sits', 1), ('Farewell', 1), (\"ta'en\", 1), ('nibbled', 1), ('move', 1), ('ceasing', 1), ('bud', 1), ('visit', 1), ('beast', 1), ('wolves', 1), ('thirst', 1), ('rush', 1), ('dreadful', 1), ('heedful', 1), ('Receive', 1), ('New', 1), ('worlds', 1), ('inherit', 1), ('ruddy', 1), ('cries', 1), ('Wrath', 1), ('meekness', 1), ('health', 1), ('sickness', 1), ('driven', 1), ('bleating', 1), ('Him', 1), ('Graze', 1), ('washed', 1), (\"life's\", 1), ('guard', 1), ('SPRING', 1), ('Sound', 1), ('flute', 1), (\"it's\", 1), ('mute', 1), (\"Bird's\", 1), ('Day', 1), ('Nightingale', 1), ('Lark', 1), ('Full', 1), ('girl', 1), ('Cock', 1), ('crow', 1), ('Here', 1), ('pull', 1), ('wool', 1), ('within', 1), ('everything', 1), ('still', 1), ('off', 1), ('appears', 1), ('Well', 1), ('leaped', 1), ('shouted', 1), ('laughed', 1), ('echoed', 1), ('JOY', 1), ('DREAM', 1), ('weave', 1), ('angel-guarded', 1), ('emmet', 1), ('methought', 1), ('Troubled', 1), ('wildered', 1), ('forlorn', 1), ('benighted', 1), ('travel-worn', 1), ('tangle', 1), ('spray', 1), ('heart-broke', 1), ('abroad', 1), ('Pitying', 1), ('dropped', 1), ('glow-worm', 1), ('replied', 1), ('wailing', 1), ('wight', 1), ('Calls', 1), ('watchman', 1), ('beetle', 1), ('goes', 1), (\"beetle's\", 1), ('wanderer', 1), ('hie', 1), ('ON', 1), (\"ANOTHER'S\", 1), ('kind', 1), ('relief', 1), ('falling', 1), (\"sorrow's\", 1), ('share', 1), ('An', 1), ('groan', 1), ('wren', 1), (\"bird's\", 1), ('woes', 1), ('next', 1), ('Pouring', 1), ('Bard', 1), ('present', 1), ('past', 1), ('sees', 1), ('Whose', 1), ('Word', 1), ('Calling', 1), ('lapsed', 1), ('control', 1), ('worn', 1), ('Rises', 1), ('slumbrous', 1), ('mass', 1), ('Turn', 1), ('turn', 1), ('floor', 1), ('break', 1), (\"EARTH'S\", 1), ('ANSWER', 1), ('raised', 1), ('drear', 1), ('Stony', 1), ('locks', 1), ('Prisoned', 1), ('Starry', 1), ('den', 1), ('Cold', 1), ('hoar', 1), (\"o're\", 1), ('Cruel', 1), ('jealous', 1), ('Chained', 1), ('virgins', 1), ('hide', 1), ('sower', 1), ('Sow', 1), ('plowman', 1), ('plough', 1), ('Break', 1), ('freeze', 1), ('Eternal', 1), ('bane', 1), ('bondage', 1), ('CLOD', 1), ('PEBBLE', 1), ('hath', 1), (\"hell's\", 1), ('clod', 1), ('Trodden', 1), (\"cattle's\", 1), ('pebble', 1), ('brook', 1), ('Warbled', 1), ('metres', 1), ('Self', 1), ('Joys', 1), ('loss', 1), ('hell', 1), ('despite', 1), ('rich', 1), ('fruitful', 1), ('reduced', 1), ('Fed', 1), ('usurous', 1), ('son', 1), ('bleak', 1), ('rain', 1), ('hunger', 1), ('appall', 1), ('futurity', 1), ('prophetic', 1), ('Grave', 1), ('sentence', 1), ('Become', 1), ('prime', 1), ('long', 1), ('Hearing', 1), ('Lost', 1), ('ache', 1), ('wake', 1), ('Frowning', 1), ('frowning', 1), ('Sleeping', 1), ('caverns', 1), ('Viewed', 1), ('kingly', 1), ('viewed', 1), ('gambolled', 1), ('hallowed', 1), ('Leopards', 1), ('Bowed', 1), ('flame', 1), ('Ruby', 1), ('lioness', 1), ('Loosed', 1), ('slender', 1), ('conveyed', 1), (\"Lyca's\", 1), ('deserts', 1), ('woe-begone', 1), ('Hoarse', 1), ('making', 1), ('Arm', 1), ('arm', 1), ('seven', 1), ('traced', 1), ('nights', 1), ('Starved', 1), ('Pale', 1), ('pathless', 1), ('fancied', 1), ('strays', 1), ('Famished', 1), ('piteous', 1), ('Rising', 1), ('unrest', 1), ('woman', 1), ('presse', 1), ('further', 1), ('arms', 1), ('sore', 1), ('couching', 1), ('Turning', 1), ('Bore', 1), ('stalked', 1), ('Smelling', 1), ('allay', 1), ('licks', 1), ('stands', 1), ('surprise', 1), ('wondering', 1), ('behold', 1), ('shoulders', 1), ('Flowed', 1), ('Gone', 1), ('palace', 1), ('lies', 1), ('followed', 1), ('vision', 1), ('dell', 1), ('wolvish', 1), ('growl', 1), ('CHIMNEY', 1), ('SWEEPER', 1), ('Crying', 1), ('Say', 1), ('Because', 1), ('clothes', 1), ('injury', 1), ('priest', 1), ('king', 1), ('whisperings', 1), ('fresh', 1), ('turns', 1), ('wasted', 1), ('disguise', 1), ('SICK', 1), ('sick', 1), ('invisible', 1), ('flies', 1), ('howling', 1), ('storm', 1), ('found', 1), ('crimson', 1), ('FLY', 1), ('Fly', 1), ('brushed', 1), ('Am', 1), ('blind', 1), ('brush', 1), ('strength', 1), ('die', 1), ('ANGEL', 1), ('dreamt', 1), ('mean', 1), ('Guarded', 1), ('Witless', 1), (\"ne'er\", 1), ('wiped', 1), (\"heart's\", 1), ('blushed', 1), ('rosy', 1), ('red', 1), ('dried', 1), ('ten-thousand', 1), ('shields', 1), ('hairs', 1), ('TIGER', 1), ('forest', 1), ('Frame', 1), ('deeps', 1), ('Burnt', 1), ('seize', 1), ('shoulder', 1), ('twist', 1), ('sinews', 1), ('beat', 1), ('hammer', 1), ('brain', 1), ('anvil', 1), ('grasp', 1), ('deadly', 1), ('terrors', 1), ('clasp', 1), ('stars', 1), ('threw', 1), ('forests', 1), ('frame', 1), ('MY', 1), ('PRETTY', 1), ('offered', 1), ('May', 1), (\"I've\", 1), ('passed', 1), ('tend', 1), ('AH', 1), ('SUNFLOWER', 1), ('countest', 1), ('steps', 1), (\"traveller's\", 1), ('journey', 1), ('pined', 1), ('shrouded', 1), ('wishes', 1), ('LILY', 1), ('Rose', 1), ('puts', 1), (\"threat'ning\", 1), ('threat', 1), ('stain', 1), ('GARDEN', 1), ('LOVE', 1), ('laid', 1), ('bank', 1), ('rushes', 1), ('dank', 1), ('thistles', 1), ('waste', 1), ('Driven', 1), ('compelled', 1), ('chaste', 1), ('built', 1), ('midst', 1), ('shut', 1), ('writ', 1), ('tombstones', 1), ('priests', 1), ('gowns', 1), ('rounds', 1), ('binding', 1), ('briars', 1), ('desires', 1), ('VAGABOND', 1), ('Dear', 1), ('Alehouse', 1), ('healthy', 1), ('parsons', 1), ('bladder', 1), ('swell', 1), ('ale', 1), ('regale', 1), (\"We'd\", 1), ('stray', 1), ('Parson', 1), ('preach', 1), ('Dame', 1), ('Lurch', 1), ('always', 1), ('bandy', 1), ('fasting', 1), ('birch', 1), ('rejoicing', 1), ('quarrel', 1), ('Devil', 1), ('barrel', 1), ('apparel', 1), ('LONDON', 1), ('street', 1), ('mark', 1), ('Marks', 1), ('marks', 1), ('ban', 1), ('mind-forged', 1), ('manacles', 1), (\"chimney-sweeper's\", 1), ('blackening', 1), ('appals', 1), ('hapless', 1), (\"soldier's\", 1), ('Runs', 1), ('blood', 1), ('palace-walls', 1), ('midnight', 1), ('streets', 1), (\"harlot's\", 1), ('curse', 1), ('Blasts', 1), ('blights', 1), ('plagues', 1), ('marriage-hearse', 1), ('HUMAN', 1), ('ABSTRACT', 1), ('somebody', 1), ('mutual', 1), ('brings', 1), ('increase', 1), ('knits', 1), ('snare', 1), ('baits', 1), ('sits', 1), ('Humility', 1), ('takes', 1), ('root', 1), ('caterpillar', 1), ('Feed', 1), ('bears', 1), ('fruit', 1), ('Deceit', 1), ('Ruddy', 1), ('eat', 1), ('raven', 1), ('thickest', 1), ('gods', 1), ('sea', 1), ('Sought', 1), ('nature', 1), ('search', 1), ('grows', 1), ('Brain', 1), ('groaned', 1), ('Into', 1), ('dangerous', 1), ('world', 1), ('leapt', 1), ('Helpless', 1), ('piping', 1), ('loud', 1), ('Struggling', 1), (\"father's\", 1), ('Striving', 1), ('against', 1), ('swaddling-bands', 1), ('Bound', 1), ('best', 1), ('sulk', 1), ('POISON', 1), ('friend', 1), ('sunned', 1), ('deceitful', 1), ('wiles', 1), ('grew', 1), ('apple', 1), ('beheld', 1), ('stole', 1), ('veiled', 1), ('glad', 1), ('outstretched', 1), ('beneath', 1), ('Nought', 1), ('venerates', 1), ('possible', 1), ('greater', 1), ('than', 1), ('picks', 1), ('crumbs', 1), ('Priest', 1), ('zeal', 1), ('seized', 1), ('coat', 1), ('admired', 1), ('priestly', 1), ('standing', 1), ('altar', 1), ('Lo', 1), ('here', 1), ('One', 1), ('sets', 1), ('judge', 1), ('mystery', 1), ('shirt', 1), (\"Albion's\", 1), ('Children', 1), ('Reading', 1), ('indignant', 1), ('page', 1), ('Know', 1), ('former', 1), ('crime', 1), ('Free', 1), ('Naked', 1), ('pair', 1), ('softest', 1), ('Met', 1), ('Had', 1), ('just', 1), ('removed', 1), ('curtains', 1), ('Parents', 1), ('afar', 1), ('Strangers', 1), ('forgot', 1), ('agree', 1), ('Waves', 1), ('wanderers', 1), ('loving', 1), ('limbs', 1), ('shook', 1), ('Ona', 1), ('shakes', 1), ('hoary', 1), ('SCHOOLBOY', 1), ('singing', 1), ('huntsman', 1), ('winds', 1), ('sings', 1), ('company', 1), ('school', 1), ('drives', 1), ('cruel', 1), ('outworn', 1), ('sighing', 1), ('times', 1), ('drooping', 1), ('anxious', 1), (\"learning's\", 1), ('Worn', 1), ('dreary', 1), ('shower', 1), ('Sit', 1), ('cage', 1), ('annoy', 1), ('droop', 1), ('forget', 1), ('nipped', 1), ('plants', 1), ('springing', 1), (\"care's\", 1), ('gather', 1), ('griefs', 1), ('mellowing', 1), ('blasts', 1), ('TO', 1), ('TERZAH', 1), (\"Whate'er\", 1), ('birth', 1), ('Must', 1), ('consumed', 1), ('generation', 1), ('sprang', 1), ('shame', 1), ('pride', 1), ('Blown', 1), ('mercy', 1), ('changed', 1), ('cruelty', 1), ('didst', 1), ('mould', 1), ('false', 1), ('self-deceiving', 1), ('nostrils', 1), ('senseless', 1), ('betray', 1), ('Jesus', 1), ('VOICE', 1), ('ANCIENT', 1), ('BARD', 1), ('hither', 1), ('opening', 1), ('Image', 1), ('Truth', 1), ('Doubt', 1), ('disputes', 1), ('artful', 1), ('teazing', 1), ('Folly', 1), ('endless', 1), ('maze', 1), ('Tangled', 1), ('perplex', 1), ('stumble', 1), ('lead', 1), ('others', 1), ('APPENDIX', 1), ('Jealousy', 1), ('Terror', 1), ('Secresy', 1), ('forged', 1), ('fiery', 1), ('forge', 1), ('sealed', 1), ('hungry', 1), ('gorge', 1), ('NOTE', 1), ('written', 1), ('engraved', 1), ('included', 1), (\"Blake's\", 1), (\"THEL'S\", 1), ('Motto', 1), ('Eagle', 1), ('Mole', 1), ('Wisdom', 1), ('rod', 1), ('bowl', 1), ('Author', 1), ('Printer', 1), ('Willm', 1), ('1780', 1), ('daughters', 1), ('Mne', 1), ('Seraphim', 1), ('youngest', 1), ('paleness', 1), ('Down', 1), ('Adona', 1), ('lamentation', 1), ('falls', 1), ('lotus', 1), ('bow', 1), ('parting', 1), ('reflection', 1), ('glass', 1), ('doves', 1), ('transient', 1), ('music', 1), ('gently', 1), ('walketh', 1), ('Lilly', 1), ('breathing', 1), ('Answerd', 1), ('weed', 1), ('gilded', 1), ('butterfly', 1), ('scarce', 1), ('perches', 1), ('Yet', 1), ('visited', 1), ('Walks', 1), ('lily', 1), ('brooks', 1), ('fed', 1), ('manna', 1), ('melts', 1), ('fountains', 1), ('flourish', 1), ('mistress', 1), ('utter', 1), ('ceasd', 1), ('smild', 1), ('shrine', 1), ('peaceful', 1), ('Giving', 1), ('those', 1), ('crave', 1), ('voiceless', 1), ('nourish', 1), ('smells', 1), ('garments', 1), ('crops', 1), ('sittest', 1), ('smiling', 1), ('meekin', 1), ('mouth', 1), ('contagious', 1), ('taints', 1), ('wine', 1), ('purify', 1), ('perfume', 1), ('Which', 1), ('scatter', 1), ('blade', 1), ('Revives', 1), ('milked', 1), ('cow', 1), ('tames', 1), ('fire-breathing', 1), ('steed', 1), ('faint', 1), ('kindled', 1), ('pearly', 1), ('glitters', 1), ('scatters', 1), ('humid', 1), ('Descend', 1), ('hover', 1), ('descended', 1), ('numerous', 1), ('verdant', 1), ('II', 1), ('complainest', 1), ('ah', 1), ('shewd', 1), (\"emerg'd\", 1), ('Hovering', 1), ('glittering', 1), (\"know'st\", 1), ('steeds', 1), ('Luvah', 1), ('horses', 1), ('lookst', 1), ('fearest', 1), ('Nothing', 1), ('remains', 1), ('tenfold', 1), ('raptures', 1), ('weigh', 1), ('balmy', 1), ('court', 1), ('fair', 1), ('eyed', 1), ('kneels', 1), ('risen', 1), (\"link'd\", 1), ('band', 1), ('united', 1), ('bearing', 1), ('smell', 1), ('sweetest', 1), ('delights', 1), ('women', 1), (\"liv'd\", 1), ('reclind', 1), ('airy', 1), ('lives', 1), ('Lives', 1), ('alone', 1), ('pensive', 1), ('queen', 1), ('arose', 1), ('saild', 1), ('partner', 1), ('vale', 1), ('III', 1), (\"astonish'd\", 1), (\"view'd\", 1), ('Art', 1), ('wrapped', 1), ('answer', 1), ('Clod', 1), ('Worms', 1), (\"rais'd\", 1), ('exhald', 1), ('fondness', 1), (\"fix'd\", 1), ('ourselves', 1), ('seest', 1), ('meanest', 1), ('indeed', 1), ('pours', 1), ('binds', 1), ('nuptial', 1), ('bands', 1), ('says', 1), ('loved', 1), ('daughter', 1), (\"wip'd\", 1), ('veil', 1), ('Alas', 1), ('punish', 1), ('evil', 1), ('wilful', 1), (\"bruis'd\", 1), (\"cherish'd\", 1), ('milk', 1), ('complaind', 1), ('matron', 1), ('roof', 1), (\"call'd\", 1), ('Wilt', 1), ('house', 1), ('tis', 1), ('nothing', 1), ('IV', 1), ('terrific', 1), ('porter', 1), ('lifted', 1), ('northern', 1), ('bar', 1), (\"enter'd\", 1), ('secrets', 1), ('unknown', 1), ('couches', 1), ('fibrous', 1), ('infixes', 1), ('restless', 1), ('twists', 1), ('Dolors', 1), ('lamentations', 1), ('waiting', 1), ('oft', 1), ('silence', 1), ('plot', 1), ('breathed', 1), ('closed', 1), ('destruction', 1), ('glistening', 1), ('poison', 1), ('Eyelids', 1), ('stord', 1), ('arrows', 1), ('drawn', 1), ('thousand', 1), ('fighting', 1), ('ambush', 1), ('gifts', 1), ('graces', 1), ('showring', 1), ('coined', 1), ('Tongue', 1), (\"impress'd\", 1), ('whirlpool', 1), ('fierce', 1), ('draw', 1), ('creations', 1), ('Nostril', 1), ('wide', 1), ('inhaling', 1), ('affright', 1), ('curb', 1), ('curtain', 1), ('flesh', 1), ('Virgin', 1), ('started', 1), ('seat', 1), ('Fled', 1), ('unhinderd', 1)]\n"
          ],
          "name": "stdout"
        }
      ]
    },
    {
      "cell_type": "code",
      "metadata": {
        "id": "T_X4JI8AaIjk"
      },
      "source": [
        "def counting():\n",
        "    fp = open(\"blakepoems.txt\")\n",
        "    buffer=fp.read()\n",
        "    buffer=buffer.lower()\n",
        "    buffer=buffer.replace(\"\\n\",\"\").replace(\",\",\"\").replace(\".\",\"\").replace(\"?\",\"\")\n",
        "    buffer_list=buffer.split()\n",
        "\n",
        "    buffer_dict={}\n",
        "    for i in range(len(buffer_list)):\n",
        "        buffer_dict[buffer_list[i]]=0\n",
        "        for j in range(len(buffer_list)):\n",
        "            if buffer_list[j]==buffer_list[i]:\n",
        "                buffer_dict[buffer_list[i]]=buffer_dict[buffer_list[i]]+1\n",
        "            j=+1\n",
        "        i=+1\n",
        "    \n",
        "    for k in sorted(buffer_dict.keys()): print(\"%s: %s\" % (k, buffer_dict[k]))\n",
        "\n",
        "counting()"
      ],
      "execution_count": null,
      "outputs": []
    },
    {
      "cell_type": "markdown",
      "metadata": {
        "id": "D-iG1EgTBbzN"
      },
      "source": [
        "### Exercise 11.2"
      ]
    },
    {
      "cell_type": "markdown",
      "metadata": {
        "id": "hbhBgF0-BbzN"
      },
      "source": [
        "Do the same thing as you did for the previous exercise, but now process the text line by line. This is something that you would have to do if you had to process a very long text (as it is the case)."
      ]
    },
    {
      "cell_type": "code",
      "metadata": {
        "id": "o46o8xBuBbzN"
      },
      "source": [
        "# Counting words line by line.\n",
        "def counting():\n",
        "    fp = open(\"blakepoems.txt\")\n",
        "    buffer=fp.read()\n",
        "    buffer=buffer.lower()\n",
        "    buffer=buffer.replace(\"\\n\",\"\").replace(\",\",\"\").replace(\".\",\"\").replace(\"?\",\"\")\n",
        "    buffer_list=buffer.split()\n",
        "\n",
        "    buffer_dict={}\n",
        "    for i in range(len(buffer_list)):\n",
        "        buffer_dict[buffer_list[i]]=0\n",
        "        for j in range(len(buffer_list)):\n",
        "            if buffer_list[j]==buffer_list[i]:\n",
        "                buffer_dict[buffer_list[i]]=buffer_dict[buffer_list[i]]+1\n",
        "            j=+1\n",
        "        i=+1\n",
        "    \n",
        "    for k in sorted(buffer_dict.keys()): print(\"%s: %s\" % (k, buffer_dict[k]))\n",
        "\n",
        "counting()"
      ],
      "execution_count": null,
      "outputs": []
    },
    {
      "cell_type": "markdown",
      "metadata": {
        "id": "GroffzS0BbzO"
      },
      "source": [
        "---"
      ]
    }
  ]
}