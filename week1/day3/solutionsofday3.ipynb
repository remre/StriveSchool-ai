{
  "nbformat": 4,
  "nbformat_minor": 0,
  "metadata": {
    "colab": {
      "name": "exercisesofday3.ipynb adlı not defterinin kopyası",
      "provenance": [],
      "collapsed_sections": [],
      "toc_visible": true,
      "authorship_tag": "ABX9TyMm9e3hjQPtSt1V6TOE27FC",
      "include_colab_link": true
    },
    "kernelspec": {
      "name": "python3",
      "display_name": "Python 3"
    },
    "language_info": {
      "name": "python"
    }
  },
  "cells": [
    {
      "cell_type": "markdown",
      "metadata": {
        "id": "view-in-github",
        "colab_type": "text"
      },
      "source": [
        "<a href=\"https://colab.research.google.com/github/remre/StriveSchool-ai/blob/main/week1/day3/solutionsofday3.ipynb\" target=\"_parent\"><img src=\"https://colab.research.google.com/assets/colab-badge.svg\" alt=\"Open In Colab\"/></a>"
      ]
    },
    {
      "cell_type": "code",
      "metadata": {
        "colab": {
          "base_uri": "https://localhost:8080/"
        },
        "id": "PsaOgS5aXCgP",
        "outputId": "e2e8a74a-3ff4-4d2d-9d16-8994adeeb7fa"
      },
      "source": [
        "#Exercise 5.2\n",
        "a = [2, 4, 6, 12, 15, 99, 100]\n",
        "#The maximum value of the array\n",
        "def maxx(variable):\n",
        "  return max(variable)\n",
        "#The minimum value of the array\n",
        "def minn(variable):\n",
        "  return min(variable)\n",
        "#How many of them can divide to 3\n",
        "def dividables(a):\n",
        "  count=0\n",
        "  for i in range(len(a)):\n",
        "    if a[i]%3==0:\n",
        "       count +=1\n",
        "  return count\n",
        "\n",
        "\n",
        "print(\"max value is equals \"+ str(maxx(a)))\n",
        "print(\"min value is equals \" + str(minn(a)))\n",
        "print(\"the number of divisible with 3 in array \" + str(dividables(a)))"
      ],
      "execution_count": null,
      "outputs": [
        {
          "output_type": "stream",
          "text": [
            "max value is equals 100\n",
            "min value is equals 2\n",
            "the number of divisible with 3 in array 4\n"
          ],
          "name": "stdout"
        }
      ]
    },
    {
      "cell_type": "code",
      "metadata": {
        "colab": {
          "base_uri": "https://localhost:8080/"
        },
        "id": "93gICe3De76S",
        "outputId": "5e76be7b-6e2b-416d-fddb-cfcc752b3575"
      },
      "source": [
        "#Exercise 5.8 Medium One\n",
        "for a in range(1,9):\n",
        "  for b in range(0,9):\n",
        "    for c in range(0,9):\n",
        "      for d in range(1,9):\n",
        "        if (d*1000+c*100+b*10+a*1)==4*(a*1000+b*100+c*10+d*1):\n",
        "          print(\"The digits which provide the value of 4*ABCD = DCBA is \"  'A=',a,'B=',b,'C=',c,'D=',d)"
      ],
      "execution_count": null,
      "outputs": [
        {
          "output_type": "stream",
          "text": [
            "The digits which provide the value of 4*ABCD = DCBA is A= 2 B= 1 C= 7 D= 8\n"
          ],
          "name": "stdout"
        }
      ]
    },
    {
      "cell_type": "code",
      "metadata": {
        "id": "1JbSKSxqfG8j"
      },
      "source": [
        "#Exercise 5.6 (🌶️🌶️): A prime number is a positive integer\n",
        "def prim(n):\n",
        "  primes = []\n",
        "\n",
        "  for i in range(2, n + 1):\n",
        "\t  for j in range(2, int(i ** 0.5) + 1):\n",
        " \t\t  if i%j == 0:\n",
        " \t\t\t  break\n",
        "\t  else:\n",
        "\t\t  primes.append(i)\n",
        "  return primes"
      ],
      "execution_count": null,
      "outputs": []
    },
    {
      "cell_type": "code",
      "metadata": {
        "colab": {
          "base_uri": "https://localhost:8080/"
        },
        "id": "K6_RtwumgMqC",
        "outputId": "bb9cc614-807d-46c3-93d4-018bc6ab806f"
      },
      "source": [
        "prim(30)"
      ],
      "execution_count": null,
      "outputs": [
        {
          "output_type": "execute_result",
          "data": {
            "text/plain": [
              "[2, 3, 5, 7, 11, 13, 17, 19, 23, 29]"
            ]
          },
          "metadata": {
            "tags": []
          },
          "execution_count": 2
        }
      ]
    },
    {
      "cell_type": "code",
      "metadata": {
        "id": "v-3HvfHfgags",
        "colab": {
          "base_uri": "https://localhost:8080/"
        },
        "outputId": "f36a78d4-b1df-438c-c96f-3428ff1cf58d"
      },
      "source": [
        "!git clone https://github.com/Strive-School/ai_jun21.git"
      ],
      "execution_count": 1,
      "outputs": [
        {
          "output_type": "stream",
          "text": [
            "Cloning into 'ai_jun21'...\n",
            "remote: Enumerating objects: 34, done.\u001b[K\n",
            "remote: Counting objects: 100% (34/34), done.\u001b[K\n",
            "remote: Compressing objects: 100% (24/24), done.\u001b[K\n",
            "remote: Total 34 (delta 10), reused 31 (delta 7), pack-reused 0\u001b[K\n",
            "Unpacking objects: 100% (34/34), done.\n"
          ],
          "name": "stdout"
        }
      ]
    },
    {
      "cell_type": "code",
      "metadata": {
        "colab": {
          "base_uri": "https://localhost:8080/"
        },
        "id": "uv39rnOrptjy",
        "outputId": "96c1dbed-e899-4f32-c69b-e6278fd4d4dc"
      },
      "source": [
        "cd"
      ],
      "execution_count": 3,
      "outputs": [
        {
          "output_type": "stream",
          "text": [
            "/root\n"
          ],
          "name": "stdout"
        }
      ]
    },
    {
      "cell_type": "code",
      "metadata": {
        "id": "1-Hoetm8sCVc"
      },
      "source": [
        "cd "
      ],
      "execution_count": null,
      "outputs": []
    }
  ]
}