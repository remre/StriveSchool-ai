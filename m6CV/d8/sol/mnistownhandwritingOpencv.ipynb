{
  "nbformat": 4,
  "nbformat_minor": 0,
  "metadata": {
    "colab": {
      "name": "mnistownhandwritingOpencv.ipynb",
      "provenance": [],
      "collapsed_sections": [],
      "mount_file_id": "17mdCiG7qOHb-y075DR9R233uOmY1htUX",
      "authorship_tag": "ABX9TyO1jBKYG/MBoePvv6gVVJvk",
      "include_colab_link": true
    },
    "kernelspec": {
      "name": "python3",
      "display_name": "Python 3"
    },
    "language_info": {
      "name": "python"
    }
  },
  "cells": [
    {
      "cell_type": "markdown",
      "metadata": {
        "id": "view-in-github",
        "colab_type": "text"
      },
      "source": [
        "<a href=\"https://colab.research.google.com/github/remre/StriveSchool-ai/blob/main/m6CV/d8/sol/mnistownhandwritingOpencv.ipynb\" target=\"_parent\"><img src=\"https://colab.research.google.com/assets/colab-badge.svg\" alt=\"Open In Colab\"/></a>"
      ]
    },
    {
      "cell_type": "code",
      "metadata": {
        "id": "TPGtRjSSJRun"
      },
      "source": [
        ""
      ],
      "execution_count": null,
      "outputs": []
    },
    {
      "cell_type": "code",
      "metadata": {
        "id": "-jOcqxexOAsb"
      },
      "source": [
        "import cv2\n",
        "import matplotlib.pyplot as plt\n",
        "import numpy as np\n",
        "from google.colab.patches import cv2_imshow"
      ],
      "execution_count": null,
      "outputs": []
    },
    {
      "cell_type": "code",
      "metadata": {
        "id": "zbD2MT7e5Ujo"
      },
      "source": [
        "eight = cv2.imread('/content/drive/MyDrive/dataAI/mnisthandwritten/eight.png')\n",
        "three = cv2.imread('/content/drive/MyDrive/dataAI/mnisthandwritten/three.png')\n",
        "four = cv2.imread('/content/drive/MyDrive/dataAI/mnisthandwritten/four.png')\n",
        "five = cv2.imread('/content/drive/MyDrive/dataAI/mnisthandwritten/five.png')\n",
        "six = cv2.imread('/content/drive/MyDrive/dataAI/mnisthandwritten/six.png')\n",
        "seven = cv2.imread('/content/drive/MyDrive/dataAI/mnisthandwritten/seven.png')\n",
        "nine = cv2.imread('/content/drive/MyDrive/dataAI/mnisthandwritten/nine.png')\n",
        "one = cv2.imread('/content/drive/MyDrive/dataAI/mnisthandwritten/one.png')\n",
        "two = cv2.imread('/content/drive/MyDrive/dataAI/mnisthandwritten/two.png')\n"
      ],
      "execution_count": null,
      "outputs": []
    },
    {
      "cell_type": "code",
      "metadata": {
        "colab": {
          "base_uri": "https://localhost:8080/",
          "height": 287
        },
        "id": "5M3tujuB-MCT",
        "outputId": "5a8d2db9-961d-459f-e5b0-0e2db4f80a43"
      },
      "source": [
        "plt.imshow(five)"
      ],
      "execution_count": null,
      "outputs": [
        {
          "output_type": "execute_result",
          "data": {
            "text/plain": [
              "<matplotlib.image.AxesImage at 0x7f2911af8a90>"
            ]
          },
          "metadata": {},
          "execution_count": 3
        },
        {
          "output_type": "display_data",
          "data": {
            "image/png": "[encoded data removed]",
            "text/plain": [
              "<Figure size 432x288 with 1 Axes>"
            ]
          },
          "metadata": {
            "needs_background": "light"
          }
        }
      ]
    },
    {
      "cell_type": "code",
      "metadata": {
        "colab": {
          "base_uri": "https://localhost:8080/",
          "height": 287
        },
        "id": "SaWMN5ASQxM-",
        "outputId": "76442767-a8d3-4f37-b1b1-7bb551fbfac0"
      },
      "source": [
        "fourone = four.copy()\n",
        "kernel = np.ones((7,7))\n",
        "fourone = cv2.bitwise_not(fourone)\n",
        "fourone = cv2.cvtColor(fourone, cv2.COLOR_BGR2RGB)\n",
        "closing = cv2.morphologyEx(fourone,cv2.MORPH_DILATE,kernel,)\n",
        "plt.imshow(closing)"
      ],
      "execution_count": null,
      "outputs": [
        {
          "output_type": "execute_result",
          "data": {
            "text/plain": [
              "<matplotlib.image.AxesImage at 0x7f29115a15d0>"
            ]
          },
          "metadata": {},
          "execution_count": 4
        },
        {
          "output_type": "display_data",
          "data": {
            "image/png": "[encoded data removed]",
            "text/plain": [
              "<Figure size 432x288 with 1 Axes>"
            ]
          },
          "metadata": {
            "needs_background": "light"
          }
        }
      ]
    },
    {
      "cell_type": "code",
      "metadata": {
        "id": "2ypMxqPU5UhR"
      },
      "source": [
        "def mnist(img):\n",
        "    img1 = img.copy()\n",
        "    #_, img = cv2.threshold(img, 150, 255, cv2.THRESH_TRUNC)\n",
        "    img1 = cv2.bitwise_not(img1)\n",
        "    \n",
        "    kernel = np.ones((7,7), np.uint8)\n",
        "    img1  = cv2.cvtColor(img1,cv2.COLOR_BGR2RGB)\n",
        "    img1  = cv2.cvtColor(img1,cv2.COLOR_RGB2GRAY)\n",
        "    img1 = cv2.dilate(img1, kernel) # two thicken the hand writing\n",
        "    #closing = cv2.morphologyEx(img,cv2.MORPH_CLOSE,kernel,)\n",
        "    #_, img = cv2.threshold(img, 127, 255, cv2.THRESH_BINARY)\n",
        "    \n",
        "    #img = cv2.GaussianBlur(img, (5,5),0) # no need it i guess\n",
        "    closing = cv2.morphologyEx(img1,cv2.MORPH_CLOSE,kernel,)\n",
        "    img1 = cv2.resize(closing, (28, 28), interpolation=cv2.INTER_LINEAR) # the size of mnist is 28x28\n",
        "    \n",
        "    return img1"
      ],
      "execution_count": null,
      "outputs": []
    },
    {
      "cell_type": "code",
      "metadata": {
        "colab": {
          "base_uri": "https://localhost:8080/",
          "height": 283
        },
        "id": "PwKD_yZo-IYg",
        "outputId": "37c0b95c-26e4-4946-8cf1-53900f44c224"
      },
      "source": [
        "plt.imshow(mnist(three))"
      ],
      "execution_count": null,
      "outputs": [
        {
          "output_type": "execute_result",
          "data": {
            "text/plain": [
              "<matplotlib.image.AxesImage at 0x7f2911520310>"
            ]
          },
          "metadata": {},
          "execution_count": 6
        },
        {
          "output_type": "display_data",
          "data": {
            "image/png": "[encoded data removed]",
            "text/plain": [
              "<Figure size 432x288 with 1 Axes>"
            ]
          },
          "metadata": {
            "needs_background": "light"
          }
        }
      ]
    },
    {
      "cell_type": "code",
      "metadata": {
        "colab": {
          "base_uri": "https://localhost:8080/"
        },
        "id": "g8jXzzPYD3Mo",
        "outputId": "355cd8f8-28ee-4ca2-eeda-422ed0d90bf5"
      },
      "source": [
        "mnist(three).shape"
      ],
      "execution_count": null,
      "outputs": [
        {
          "output_type": "execute_result",
          "data": {
            "text/plain": [
              "(28, 28)"
            ]
          },
          "metadata": {},
          "execution_count": 7
        }
      ]
    },
    {
      "cell_type": "code",
      "metadata": {
        "colab": {
          "base_uri": "https://localhost:8080/",
          "height": 283
        },
        "id": "jD9qhb0lQdWw",
        "outputId": "0e5bfc29-da50-4c5c-bd6d-fafcc70b19af"
      },
      "source": [
        "threeone = three.copy()\n",
        "img = cv2.bitwise_not(threeone)\n",
        "\n",
        "#img  = cv2.cvtColor(img,cv2.COLOR_BGR2RGB)\n",
        "#img = cv2.GaussianBlur(img, (5,5),0)\n",
        "img = cv2.dilate(img, kernel)\n",
        "img = cv2.resize(img, (28, 28))\n",
        "plt.imshow(img)"
      ],
      "execution_count": null,
      "outputs": [
        {
          "output_type": "execute_result",
          "data": {
            "text/plain": [
              "<matplotlib.image.AxesImage at 0x7f29114961d0>"
            ]
          },
          "metadata": {},
          "execution_count": 8
        },
        {
          "output_type": "display_data",
          "data": {
            "image/png": "[encoded data removed]",
            "text/plain": [
              "<Figure size 432x288 with 1 Axes>"
            ]
          },
          "metadata": {
            "needs_background": "light"
          }
        }
      ]
    },
    {
      "cell_type": "code",
      "metadata": {
        "id": "s8MNQQTeAk5A"
      },
      "source": [
        "from collections import OrderedDict\n",
        "\n",
        "import numpy as np\n",
        "import matplotlib.pyplot as plt\n",
        "import time\n",
        "import pandas as pd\n",
        "\n",
        "\n",
        "import torch\n",
        "from torch import nn\n",
        "from torch.autograd import Variable\n",
        "from torch import optim\n",
        "import torch.nn.functional as F\n",
        "\n",
        "from torchvision import datasets, transforms\n",
        "from torch.utils.data import  DataLoader\n"
      ],
      "execution_count": null,
      "outputs": []
    },
    {
      "cell_type": "code",
      "metadata": {
        "id": "yMeZxs_8usVD"
      },
      "source": [
        "from torchsummary import summary"
      ],
      "execution_count": null,
      "outputs": []
    },
    {
      "cell_type": "code",
      "metadata": {
        "id": "rYktAKve03nn",
        "colab": {
          "base_uri": "https://localhost:8080/"
        },
        "outputId": "476d6103-e7b4-4aa7-d893-ef90b1c8f53a"
      },
      "source": [
        "# Define a transform to normalize the data (Preprocessing)\n",
        "transform = transforms.Compose([transforms.ToTensor(), transforms.Normalize((0.5), (0.5)) ])\n",
        "\n",
        "# Download and load the training data\n",
        "trainset    = datasets.MNIST('MNIST_data/', download=True, train=True, transform=transform)\n",
        "trainloader = torch.utils.data.DataLoader(trainset, batch_size=64, shuffle=True)\n",
        "\n",
        "# Download and load the test data\n",
        "#testset    = datasets.MNIST('MNIST_data/', download=True, train=False, transform=transform)\n",
        "#testloader = torch.utils.data.DataLoader(testset, batch_size=64, shuffle=True)"
      ],
      "execution_count": null,
      "outputs": [
        {
          "output_type": "stream",
          "name": "stderr",
          "text": [
            "/usr/local/lib/python3.7/dist-packages/torchvision/datasets/mnist.py:498: UserWarning: The given NumPy array is not writeable, and PyTorch does not support non-writeable tensors. This means you can write to the underlying (supposedly non-writeable) NumPy array using the tensor. You may want to copy the array to protect its data or make it writeable before converting it to a tensor. This type of warning will be suppressed for the rest of this program. (Triggered internally at  /pytorch/torch/csrc/utils/tensor_numpy.cpp:180.)\n",
            "  return torch.from_numpy(parsed.astype(m[2], copy=False)).view(*s)\n"
          ]
        }
      ]
    },
    {
      "cell_type": "code",
      "metadata": {
        "id": "ARfx8Rhx_ZWm"
      },
      "source": [
        "class Network(nn.Module):\n",
        "    \n",
        "    # \n",
        "    def __init__(self):\n",
        "        super().__init__()\n",
        "        self.fc1 = nn.Linear(784, 255)\n",
        "        self.fc2 = nn.Linear(255, 90)\n",
        "        self.fc3 = nn.Linear(90, 10)\n",
        "        self.drop = nn.Dropout(p = 0.25)\n",
        "        \n",
        "    # Forward pass through the network, returns the output logits\n",
        "    def forward(self, x):\n",
        "        x = self.fc1(x)\n",
        "        x = F.relu(x)\n",
        "        x = self.fc2(x)\n",
        "        x = F.relu(x)\n",
        "        x = self.fc3(x)\n",
        "        #x = self.drop(x)\n",
        "        x = F.softmax(x, dim=1)\n",
        "        return x\n",
        "\n",
        "model = Network()"
      ],
      "execution_count": null,
      "outputs": []
    },
    {
      "cell_type": "code",
      "metadata": {
        "id": "Rc9BTSwmVR63"
      },
      "source": [
        "summary(model,(1,28,28))"
      ],
      "execution_count": null,
      "outputs": []
    },
    {
      "cell_type": "code",
      "metadata": {
        "id": "qcPE27EkRM_T"
      },
      "source": [
        "summary(model1,(1,28,28))"
      ],
      "execution_count": null,
      "outputs": []
    },
    {
      "cell_type": "code",
      "metadata": {
        "colab": {
          "base_uri": "https://localhost:8080/"
        },
        "id": "b7V0CyWA8mdP",
        "outputId": "9b0fda6e-abff-46d9-f898-252c2c38b93d"
      },
      "source": [
        "los = nn.CrossEntropyLoss()\n",
        "los"
      ],
      "execution_count": null,
      "outputs": [
        {
          "output_type": "execute_result",
          "data": {
            "text/plain": [
              "CrossEntropyLoss()"
            ]
          },
          "metadata": {},
          "execution_count": 16
        }
      ]
    },
    {
      "cell_type": "code",
      "metadata": {
        "id": "ZDOzokC8AHni"
      },
      "source": [
        "optimizer = optim.Adam(model.parameters(), lr=0.001,betas =(0.8, 0.999))\n",
        "#optimizer = optim.SGD(model.parameters(),lr = 0.001,momentum=1)"
      ],
      "execution_count": null,
      "outputs": []
    },
    {
      "cell_type": "code",
      "metadata": {
        "id": "WXN3jvtfAFxK"
      },
      "source": [
        "epochs = 10\n",
        "learning_rate = 0.001\n",
        "decay_rate = learning_rate / epochs\n",
        "#optimizer = optim.Adagrad(model.parameters(),lr = learning_rate)\n",
        "print_every = 184\n",
        "\n",
        "for e in range(epochs):\n",
        "    running_loss = 0\n",
        "    print(f\"Epoch: {e+1}/{epochs}\")\n",
        "\n",
        "    for i, (images, labels) in enumerate(iter(trainloader)):\n",
        "\n",
        "        # Flatten MNIST images into a 784 long vector\n",
        "        \n",
        "        images.resize_(images.size()[0], 784)\n",
        "        optimizer.zero_grad()\n",
        "        \n",
        "        output = model.forward(images)   # 1) Forward pass\n",
        "        losss = los(output, labels) # 2) Compute loss\n",
        "        losss.backward()                  # 3) Backward pass\n",
        "        optimizer.step()                 # 4) Update model\n",
        "        \n",
        "        running_loss += losss.item()\n",
        "        \n",
        "        if i % print_every == 0:\n",
        "            print(f\"\\tIteration: {i}\\t Loss: {running_loss/len(trainloader):.3f}\")\n",
        "            running_loss = 0"
      ],
      "execution_count": null,
      "outputs": []
    },
    {
      "cell_type": "code",
      "metadata": {
        "id": "noFnNL3drLdG"
      },
      "source": [
        "def view_classify(img, ps):\n",
        "\n",
        "    ps = ps.data.numpy().squeeze()\n",
        "\n",
        "    fig, (ax1, ax2) = plt.subplots(figsize=(6,9), ncols=2)\n",
        "    ax1.imshow(img.resize_(1, 28, 28).numpy().squeeze())\n",
        "    ax1.axis('off')\n",
        "    ax2.barh(np.arange(10), ps)\n",
        "    ax2.set_aspect(0.1)\n",
        "    ax2.set_yticks(np.arange(10))\n",
        "    ax2.set_yticklabels(np.arange(10))\n",
        "    ax2.set_title('Class Probability')\n",
        "    ax2.set_xlim(0, 1.1)"
      ],
      "execution_count": null,
      "outputs": []
    },
    {
      "cell_type": "code",
      "metadata": {
        "colab": {
          "base_uri": "https://localhost:8080/",
          "height": 213
        },
        "id": "KjF3J1MMqs61",
        "outputId": "2962f628-bc0f-47f6-c309-c89a1740403b"
      },
      "source": [
        "images, labels = next(iter(trainloader))\n",
        "\n",
        "img = images[0].view(1, 784)\n",
        "# Turn off gradients to speed up this part\n",
        "with torch.no_grad():\n",
        "    logits = model.forward(img)\n",
        "\n",
        "# Output of the network are logits, need to take softmax for probabilities\n",
        "ps = F.softmax(logits, dim=1)\n",
        "view_classify(img.view(1, 28, 28), ps)"
      ],
      "execution_count": null,
      "outputs": [
        {
          "output_type": "display_data",
          "data": {
            "image/png": "[encoded data removed]",
            "text/plain": [
              "<Figure size 432x648 with 2 Axes>"
            ]
          },
          "metadata": {
            "needs_background": "light"
          }
        }
      ]
    },
    {
      "cell_type": "code",
      "metadata": {
        "id": "XeqdRfXlIxDv"
      },
      "source": [
        "#three = cv2.imread('/content/drive/MyDrive/dataAI/mnisthandwritten/three.png')\n",
        "#four = cv2.imread('/content/drive/MyDrive/dataAI/mnisthandwritten/four.png')"
      ],
      "execution_count": null,
      "outputs": []
    },
    {
      "cell_type": "code",
      "metadata": {
        "id": "o7UyaX7xDH3A"
      },
      "source": [
        "three_mnist= mnist(three)"
      ],
      "execution_count": null,
      "outputs": []
    },
    {
      "cell_type": "code",
      "metadata": {
        "colab": {
          "base_uri": "https://localhost:8080/"
        },
        "id": "sriauV0cDjlE",
        "outputId": "7e2522fc-808f-47c1-a634-14373880cfae"
      },
      "source": [
        "three_mnist.shape"
      ],
      "execution_count": null,
      "outputs": [
        {
          "output_type": "execute_result",
          "data": {
            "text/plain": [
              "(28, 28)"
            ]
          },
          "metadata": {},
          "execution_count": 23
        }
      ]
    },
    {
      "cell_type": "code",
      "metadata": {
        "id": "cbFbdLF1CmaN"
      },
      "source": [
        "def to_tensor(arr: np.ndarray):\n",
        "    tens = torch.from_numpy(arr).float()\n",
        "    tensorr = F.normalize(tens)\n",
        "    tensorr = tensorr.reshape(1,28*28)\n",
        "   \n",
        "    return tensorr"
      ],
      "execution_count": null,
      "outputs": []
    },
    {
      "cell_type": "code",
      "metadata": {
        "id": "egha4G6UCrCt"
      },
      "source": [
        "three_mnist = to_tensor(three_mnist)"
      ],
      "execution_count": null,
      "outputs": []
    },
    {
      "cell_type": "code",
      "metadata": {
        "colab": {
          "base_uri": "https://localhost:8080/"
        },
        "id": "Au78Ab6DEuNC",
        "outputId": "a64fb8e9-6695-47e0-8d8d-2a71942c0cd6"
      },
      "source": [
        "three_mnist.shape"
      ],
      "execution_count": null,
      "outputs": [
        {
          "output_type": "execute_result",
          "data": {
            "text/plain": [
              "torch.Size([1, 784])"
            ]
          },
          "metadata": {},
          "execution_count": 26
        }
      ]
    },
    {
      "cell_type": "code",
      "metadata": {
        "colab": {
          "base_uri": "https://localhost:8080/"
        },
        "id": "OZjsExuOCuu3",
        "outputId": "212b435c-06cc-454a-a360-7b5d57af8b91"
      },
      "source": [
        "#model.train()"
      ],
      "execution_count": null,
      "outputs": [
        {
          "output_type": "execute_result",
          "data": {
            "text/plain": [
              "Network(\n",
              "  (fc1): Linear(in_features=784, out_features=255, bias=True)\n",
              "  (fc2): Linear(in_features=255, out_features=90, bias=True)\n",
              "  (fc3): Linear(in_features=90, out_features=10, bias=True)\n",
              "  (drop): Dropout(p=0.25, inplace=False)\n",
              ")"
            ]
          },
          "metadata": {},
          "execution_count": 18
        }
      ]
    },
    {
      "cell_type": "code",
      "metadata": {
        "id": "MimS60zqCtjx"
      },
      "source": [
        "with torch.no_grad():\n",
        "\n",
        "    logitt = model(three_mnist)\n",
        "    \n",
        "    pred3 = torch.exp(logitt)\n",
        "    pred3 = F.softmax(pred3, dim=1)"
      ],
      "execution_count": null,
      "outputs": []
    },
    {
      "cell_type": "code",
      "metadata": {
        "colab": {
          "base_uri": "https://localhost:8080/"
        },
        "id": "tT32V_AQCmet",
        "outputId": "7e1b6709-0398-4fa1-dde3-80d72883f805"
      },
      "source": [
        "pred3\n"
      ],
      "execution_count": null,
      "outputs": [
        {
          "output_type": "execute_result",
          "data": {
            "text/plain": [
              "tensor([[0.0687, 0.3811, 0.0687, 0.0688, 0.0688, 0.0688, 0.0687, 0.0688, 0.0687,\n",
              "         0.0688]])"
            ]
          },
          "metadata": {},
          "execution_count": 31
        }
      ]
    },
    {
      "cell_type": "code",
      "metadata": {
        "colab": {
          "base_uri": "https://localhost:8080/"
        },
        "id": "BNGCmPPbCmln",
        "outputId": "e2768bec-1235-4b13-ddac-cb1ea6c15b2a"
      },
      "source": [
        "torch.argmax(pred3).item()"
      ],
      "execution_count": null,
      "outputs": [
        {
          "output_type": "execute_result",
          "data": {
            "text/plain": [
              "1"
            ]
          },
          "metadata": {},
          "execution_count": 32
        }
      ]
    },
    {
      "cell_type": "code",
      "metadata": {
        "id": "RJ07zeDzKExe"
      },
      "source": [
        ""
      ],
      "execution_count": null,
      "outputs": []
    },
    {
      "cell_type": "code",
      "metadata": {
        "id": "uuUVmVaKv95r"
      },
      "source": [
        "four_mnist= mnist(four)"
      ],
      "execution_count": null,
      "outputs": []
    },
    {
      "cell_type": "code",
      "metadata": {
        "id": "lgfwKOrxwOo4"
      },
      "source": [
        "four_mnist = to_tensor(four_mnist)"
      ],
      "execution_count": null,
      "outputs": []
    },
    {
      "cell_type": "code",
      "metadata": {
        "colab": {
          "base_uri": "https://localhost:8080/"
        },
        "id": "KjuPXi7ev95z",
        "outputId": "2ab7e96c-5ab8-4189-f8f3-1a5bd6d8ba77"
      },
      "source": [
        "four_mnist.shape"
      ],
      "execution_count": null,
      "outputs": [
        {
          "output_type": "execute_result",
          "data": {
            "text/plain": [
              "torch.Size([1, 784])"
            ]
          },
          "metadata": {},
          "execution_count": 35
        }
      ]
    },
    {
      "cell_type": "code",
      "metadata": {
        "id": "nmscJnxpGBpi"
      },
      "source": [
        "with torch.no_grad():\n",
        "    logitt = model(four_mnist)\n",
        "    \n",
        "    #pred4 = torch.exp(logitt)\n",
        "    ps = F.softmax(logitt, dim=1)\n",
        "    \n",
        "    "
      ],
      "execution_count": null,
      "outputs": []
    },
    {
      "cell_type": "code",
      "metadata": {
        "colab": {
          "base_uri": "https://localhost:8080/"
        },
        "id": "K5fJKj1VGBpi",
        "outputId": "47b12032-75b4-45f6-ce01-ed8a76304fee"
      },
      "source": [
        "ps"
      ],
      "execution_count": null,
      "outputs": [
        {
          "output_type": "execute_result",
          "data": {
            "text/plain": [
              "tensor([[0.1200, 0.0891, 0.0891, 0.0891, 0.1494, 0.0891, 0.1069, 0.0891, 0.0891,\n",
              "         0.0891]])"
            ]
          },
          "metadata": {},
          "execution_count": 37
        }
      ]
    },
    {
      "cell_type": "code",
      "metadata": {
        "colab": {
          "base_uri": "https://localhost:8080/"
        },
        "id": "hIAaNV4JGBpi",
        "outputId": "979c5aa7-7af3-4d16-86a0-b04204853b69"
      },
      "source": [
        "ps.argmax(dim=1).item()"
      ],
      "execution_count": null,
      "outputs": [
        {
          "output_type": "execute_result",
          "data": {
            "text/plain": [
              "4"
            ]
          },
          "metadata": {},
          "execution_count": 38
        }
      ]
    },
    {
      "cell_type": "code",
      "metadata": {
        "id": "3eeGU8rIcIG2"
      },
      "source": [
        "five_mnist= mnist(five)"
      ],
      "execution_count": null,
      "outputs": []
    },
    {
      "cell_type": "code",
      "metadata": {
        "id": "2qyNsj0bcIJj"
      },
      "source": [
        "five_mnist = to_tensor(five_mnist)"
      ],
      "execution_count": null,
      "outputs": []
    },
    {
      "cell_type": "code",
      "metadata": {
        "id": "2GpQm8yAcIOY"
      },
      "source": [
        "with torch.no_grad():\n",
        "    logit5 = model(five_mnist)\n",
        "    \n",
        "    ps5 = torch.exp(logit5)\n",
        "    ps5 = F.softmax(ps5, dim=1)\n",
        "    \n",
        "    "
      ],
      "execution_count": null,
      "outputs": []
    },
    {
      "cell_type": "code",
      "metadata": {
        "colab": {
          "base_uri": "https://localhost:8080/"
        },
        "id": "CMAyeg0KcIRr",
        "outputId": "1df65334-2cd8-48a3-bfcb-48bc3d4f64e8"
      },
      "source": [
        "ps5.argmax(dim=1).item()"
      ],
      "execution_count": null,
      "outputs": [
        {
          "output_type": "execute_result",
          "data": {
            "text/plain": [
              "8"
            ]
          },
          "metadata": {},
          "execution_count": 42
        }
      ]
    },
    {
      "cell_type": "code",
      "metadata": {
        "id": "89Z7XG6wclwX"
      },
      "source": [
        ""
      ],
      "execution_count": null,
      "outputs": []
    },
    {
      "cell_type": "code",
      "metadata": {
        "id": "VMBm4-_icl4b"
      },
      "source": [
        "six_mnist= mnist(six)"
      ],
      "execution_count": null,
      "outputs": []
    },
    {
      "cell_type": "code",
      "metadata": {
        "id": "-_zOYmONcl4b"
      },
      "source": [
        "six_mnist = to_tensor(six_mnist)"
      ],
      "execution_count": null,
      "outputs": []
    },
    {
      "cell_type": "code",
      "metadata": {
        "id": "r_tw3SeXcl4c"
      },
      "source": [
        "with torch.no_grad():\n",
        "    logit6 = model(six_mnist)\n",
        "    \n",
        "    ps6 = torch.exp(logit6)\n",
        "    ps6 = F.softmax(ps6, dim=1)\n",
        "    \n",
        "    "
      ],
      "execution_count": null,
      "outputs": []
    },
    {
      "cell_type": "code",
      "metadata": {
        "colab": {
          "base_uri": "https://localhost:8080/"
        },
        "id": "PWYkpxMQcl4c",
        "outputId": "2257c860-72fb-4b59-8600-9027f4dd5d66"
      },
      "source": [
        "ps6.argmax(dim=1).item()"
      ],
      "execution_count": null,
      "outputs": [
        {
          "output_type": "execute_result",
          "data": {
            "text/plain": [
              "8"
            ]
          },
          "metadata": {},
          "execution_count": 46
        }
      ]
    },
    {
      "cell_type": "code",
      "metadata": {
        "id": "1sqKAvm4cyHH"
      },
      "source": [
        ""
      ],
      "execution_count": null,
      "outputs": []
    },
    {
      "cell_type": "code",
      "metadata": {
        "id": "Xcbg_N2UcyP5"
      },
      "source": [
        "seven_mnist= mnist(seven)"
      ],
      "execution_count": null,
      "outputs": []
    },
    {
      "cell_type": "code",
      "metadata": {
        "id": "8ur2qigvcyP6"
      },
      "source": [
        "seven_mnist = to_tensor(seven_mnist)"
      ],
      "execution_count": null,
      "outputs": []
    },
    {
      "cell_type": "code",
      "metadata": {
        "id": "XSa-zoFZcyP6"
      },
      "source": [
        "with torch.no_grad():\n",
        "    logit7 = model(seven_mnist)\n",
        "    \n",
        "    ps7 = torch.exp(logit7)\n",
        "    ps7 = F.softmax(ps7, dim=1)\n",
        "    \n",
        "    "
      ],
      "execution_count": null,
      "outputs": []
    },
    {
      "cell_type": "code",
      "metadata": {
        "colab": {
          "base_uri": "https://localhost:8080/"
        },
        "id": "YeytAD6WcyP6",
        "outputId": "7f4d58d2-5d72-40e8-e97f-d66a8924e419"
      },
      "source": [
        "ps7.argmax(dim=1).item()"
      ],
      "execution_count": null,
      "outputs": [
        {
          "output_type": "execute_result",
          "data": {
            "text/plain": [
              "1"
            ]
          },
          "metadata": {},
          "execution_count": 50
        }
      ]
    },
    {
      "cell_type": "code",
      "metadata": {
        "colab": {
          "base_uri": "https://localhost:8080/"
        },
        "id": "LZ__x_ACc9c8",
        "outputId": "f8aef537-2904-46cf-c3ba-3319a6ac5e13"
      },
      "source": [
        "eight_mnist= mnist(eight)\n",
        "eight_mnist = to_tensor(eight_mnist)\n",
        "with torch.no_grad():\n",
        "    logit8 = model(eight_mnist)\n",
        "    \n",
        "    ps8 = torch.exp(logit8)\n",
        "    ps8 = F.softmax(ps8, dim=1)\n",
        "    \n",
        "ps8.argmax(dim=1).item()\n",
        "    "
      ],
      "execution_count": null,
      "outputs": [
        {
          "output_type": "execute_result",
          "data": {
            "text/plain": [
              "3"
            ]
          },
          "metadata": {},
          "execution_count": 51
        }
      ]
    },
    {
      "cell_type": "code",
      "metadata": {
        "colab": {
          "base_uri": "https://localhost:8080/"
        },
        "id": "7uIUg_v9dKcx",
        "outputId": "4bad6a00-49f7-4806-adf0-54e313b37809"
      },
      "source": [
        "nine_mnist= mnist(nine)\n",
        "nine_mnist = to_tensor(nine_mnist)\n",
        "with torch.no_grad():\n",
        "    logit9 = model(nine_mnist)\n",
        "    \n",
        "    ps9 = torch.exp(logit9)\n",
        "    ps9 = F.softmax(ps9, dim=1)\n",
        "    \n",
        "ps9.argmax(dim=1).item()\n",
        "    "
      ],
      "execution_count": null,
      "outputs": [
        {
          "output_type": "execute_result",
          "data": {
            "text/plain": [
              "3"
            ]
          },
          "metadata": {},
          "execution_count": 52
        }
      ]
    },
    {
      "cell_type": "code",
      "metadata": {
        "id": "l7apD1xGRb6m"
      },
      "source": [
        "from collections import OrderedDict\n",
        "from torch import nn, optim\n",
        "import matplotlib.pyplot as plt\n",
        "import torch\n",
        "import numpy as np\n",
        "from torchvision import datasets, transforms\n",
        "from torch.utils.data import DataLoader\n",
        "import torch.nn.functional as F\n",
        "import torch\n",
        "from torchsummary import summary"
      ],
      "execution_count": null,
      "outputs": []
    },
    {
      "cell_type": "code",
      "metadata": {
        "id": "B-pZLwtNkGl5"
      },
      "source": [
        "train_transforms = transforms.Compose([transforms.RandomHorizontalFlip(),transforms.ToTensor()])\n",
        "test_transforms = transforms.Compose([transforms.ToTensor()])\n",
        "\n",
        "train_data = datasets.MNIST(root = './datasets', train=True, download = True, transform = train_transforms)\n",
        "trainloader = DataLoader(train_data,shuffle=True, batch_size = 64)\n",
        "\n",
        "test_data = datasets.MNIST('./datasets', download = True, transform = test_transforms)\n",
        "testloader = DataLoader(test_data, batch_size = 64)\n"
      ],
      "execution_count": null,
      "outputs": []
    },
    {
      "cell_type": "code",
      "metadata": {
        "id": "vjWsUuUcUleo"
      },
      "source": [
        "batch_size_train = 64\n",
        "batch_size_test = 1000\n",
        "train_loader = torch.utils.data.DataLoader(\n",
        "  datasets.MNIST('/files/', train=True, download=True,\n",
        "                             transform=transforms.Compose([\n",
        "                               transforms.ToTensor(),\n",
        "                               transforms.Normalize(\n",
        "                                 (0.1307,), (0.3081,))\n",
        "                             ])),\n",
        "  batch_size=batch_size_train, shuffle=True)\n",
        "\n",
        "test_loader = torch.utils.data.DataLoader(\n",
        "  datasets.MNIST('/files/', train=False, download=True,\n",
        "                             transform=transforms.Compose([\n",
        "                               transforms.ToTensor(),\n",
        "                               transforms.Normalize(\n",
        "                                 (0.1307,), (0.3081,))\n",
        "                             ])),\n",
        "  batch_size=batch_size_test, shuffle=True)"
      ],
      "execution_count": null,
      "outputs": []
    },
    {
      "cell_type": "code",
      "metadata": {
        "colab": {
          "base_uri": "https://localhost:8080/"
        },
        "id": "wCoFRIOjwths",
        "outputId": "2f1dea6d-36fb-49a1-af2b-fe905e3bb8f7"
      },
      "source": [
        "print(len(train_loader))"
      ],
      "execution_count": null,
      "outputs": [
        {
          "output_type": "stream",
          "name": "stdout",
          "text": [
            "938\n"
          ]
        }
      ]
    },
    {
      "cell_type": "code",
      "metadata": {
        "id": "vAqlazlHSXR1"
      },
      "source": [
        "class Net(nn.Module):\n",
        "    def __init__(self):\n",
        "        super(Net, self).__init__()\n",
        "        self.conv1 = nn.Conv2d(1, 10, kernel_size=5)\n",
        "        self.conv2 = nn.Conv2d(10, 20, kernel_size=5)\n",
        "        self.conv2_drop = nn.Dropout2d()\n",
        "        self.fc1 = nn.Linear(320, 50)\n",
        "        self.fc2 = nn.Linear(50, 10)\n",
        "\n",
        "    def forward(self, x):\n",
        "        x = F.relu(F.max_pool2d(self.conv1(x), 2))\n",
        "        x = F.relu(F.max_pool2d(self.conv2_drop(self.conv2(x)), 2))\n",
        "        x = x.view(-1, 320)\n",
        "        x = F.relu(self.fc1(x))\n",
        "        x = F.dropout(x, training=self.training)\n",
        "        x = self.fc2(x)\n",
        "        return F.log_softmax(x)\n",
        "\n",
        "model1 = Net()\n",
        "            "
      ],
      "execution_count": null,
      "outputs": []
    },
    {
      "cell_type": "code",
      "metadata": {
        "id": "Rj1E9Bd1nH3F"
      },
      "source": [
        "image, label =  next(iter(train_data))\n",
        "img = image.numpy().transpose(2,1,0)\n",
        "plt.imshow(img, cmap = 'gray')"
      ],
      "execution_count": null,
      "outputs": []
    },
    {
      "cell_type": "code",
      "metadata": {
        "id": "raKF1DCHn928"
      },
      "source": [
        "images, labels = next(iter(train_data))\n",
        "img = images.numpy().transpose(1,2,0)\n",
        "plt.imshow(img)"
      ],
      "execution_count": null,
      "outputs": []
    },
    {
      "cell_type": "code",
      "metadata": {
        "colab": {
          "base_uri": "https://localhost:8080/"
        },
        "id": "_loc6Iicrvep",
        "outputId": "dd46f780-f1cd-45b5-e38e-221e39795b75"
      },
      "source": [
        "class Nett(nn.Module):\n",
        "    def __init__(self):\n",
        "        super(Nett, self).__init__()\n",
        "        self.conv1 = nn.Conv2d(1, 28, 5)\n",
        "        self.pool = nn.MaxPool2d(2, 2)\n",
        "        self.conv2 = nn.Conv2d(28, 16, 5)\n",
        "        self.fc1 = nn.Linear(16*4*4, 120)\n",
        "        self.fc2 = nn.Linear(120, 84)\n",
        "        self.fc3 = nn.Linear(84, 2)\n",
        "\n",
        "    def forward(self, x):\n",
        "        x = self.pool(F.relu(self.conv1(x)))\n",
        "        x = self.pool(F.relu(self.conv2(x)))\n",
        "        x = x.view(x.shape[0], -1)\n",
        "        x = F.relu(self.fc1(x))\n",
        "        x = F.relu(self.fc2(x))\n",
        "        x = self.fc3(x)\n",
        "        x = F.log_softmax(x, dim=1)\n",
        "        return x\n",
        "model2 = Nett()\n",
        "summary(model2,(1,28,28))"
      ],
      "execution_count": null,
      "outputs": [
        {
          "output_type": "stream",
          "name": "stdout",
          "text": [
            "----------------------------------------------------------------\n",
            "        Layer (type)               Output Shape         Param #\n",
            "================================================================\n",
            "            Conv2d-1           [-1, 28, 24, 24]             728\n",
            "         MaxPool2d-2           [-1, 28, 12, 12]               0\n",
            "            Conv2d-3             [-1, 16, 8, 8]          11,216\n",
            "         MaxPool2d-4             [-1, 16, 4, 4]               0\n",
            "            Linear-5                  [-1, 120]          30,840\n",
            "            Linear-6                   [-1, 84]          10,164\n",
            "            Linear-7                    [-1, 2]             170\n",
            "================================================================\n",
            "Total params: 53,118\n",
            "Trainable params: 53,118\n",
            "Non-trainable params: 0\n",
            "----------------------------------------------------------------\n",
            "Input size (MB): 0.00\n",
            "Forward/backward pass size (MB): 0.17\n",
            "Params size (MB): 0.20\n",
            "Estimated Total Size (MB): 0.37\n",
            "----------------------------------------------------------------\n"
          ]
        }
      ]
    },
    {
      "cell_type": "code",
      "metadata": {
        "id": "v3DwpeEFSutN"
      },
      "source": [
        "train_losses = []\n",
        "train_counter = []\n",
        "test_losses = []\n",
        "\n",
        "\n",
        "def train(epoch):\n",
        "  model1.train()\n",
        "  for batch_idx, (data, target) in enumerate(train_loader):\n",
        "\n",
        "    optimizer.zero_grad()\n",
        "    output = model1(data)\n",
        "    loss = F.nll_loss(output, target)\n",
        "    loss.backward()\n",
        "    optimizer.step()\n",
        "    if batch_idx % log_interval == 0:\n",
        "      print('Train Epoch: {} [{}/{} ({:.0f}%)]\\tLoss: {:.6f}'.format(\n",
        "        epoch, batch_idx * len(data), len(train_loader.dataset),\n",
        "        100. * batch_idx / len(train_loader), loss.item()))\n",
        "      train_losses.append(loss.item())"
      ],
      "execution_count": null,
      "outputs": []
    },
    {
      "cell_type": "code",
      "metadata": {
        "id": "BFbbHG7muiAe"
      },
      "source": [
        "device = torch.device(\"cuda\" if torch.cuda.is_available() else \"cpu\")\n",
        "model = SimpleConv().to(device)"
      ],
      "execution_count": null,
      "outputs": []
    },
    {
      "cell_type": "code",
      "metadata": {
        "id": "ysv_Ftx8TfL4"
      },
      "source": [
        "epochs = 5\n",
        "log_interval = 40"
      ],
      "execution_count": null,
      "outputs": []
    },
    {
      "cell_type": "code",
      "metadata": {
        "colab": {
          "base_uri": "https://localhost:8080/"
        },
        "id": "XVPsOem1TVid",
        "outputId": "4b4c3ed4-2011-4f99-91af-a69633c99b93"
      },
      "source": [
        "for epoch in range(1, epochs + 1):\n",
        "  train(epoch)"
      ],
      "execution_count": null,
      "outputs": [
        {
          "output_type": "stream",
          "name": "stderr",
          "text": [
            "/usr/local/lib/python3.7/dist-packages/ipykernel_launcher.py:17: UserWarning: Implicit dimension choice for log_softmax has been deprecated. Change the call to include dim=X as an argument.\n"
          ]
        },
        {
          "output_type": "stream",
          "name": "stdout",
          "text": [
            "Train Epoch: 1 [0/60000 (0%)]\tLoss: 2.289413\n",
            "Train Epoch: 1 [2560/60000 (4%)]\tLoss: 2.283754\n",
            "Train Epoch: 1 [5120/60000 (9%)]\tLoss: 2.332263\n",
            "Train Epoch: 1 [7680/60000 (13%)]\tLoss: 2.301275\n",
            "Train Epoch: 1 [10240/60000 (17%)]\tLoss: 2.292137\n",
            "Train Epoch: 1 [12800/60000 (21%)]\tLoss: 2.315193\n",
            "Train Epoch: 1 [15360/60000 (26%)]\tLoss: 2.323336\n",
            "Train Epoch: 1 [17920/60000 (30%)]\tLoss: 2.305922\n",
            "Train Epoch: 1 [20480/60000 (34%)]\tLoss: 2.302465\n",
            "Train Epoch: 1 [23040/60000 (38%)]\tLoss: 2.349640\n",
            "Train Epoch: 1 [25600/60000 (43%)]\tLoss: 2.348797\n",
            "Train Epoch: 1 [28160/60000 (47%)]\tLoss: 2.333071\n",
            "Train Epoch: 1 [30720/60000 (51%)]\tLoss: 2.305110\n",
            "Train Epoch: 1 [33280/60000 (55%)]\tLoss: 2.327560\n",
            "Train Epoch: 1 [35840/60000 (60%)]\tLoss: 2.306401\n",
            "Train Epoch: 1 [38400/60000 (64%)]\tLoss: 2.349560\n",
            "Train Epoch: 1 [40960/60000 (68%)]\tLoss: 2.314940\n",
            "Train Epoch: 1 [43520/60000 (72%)]\tLoss: 2.272300\n",
            "Train Epoch: 1 [46080/60000 (77%)]\tLoss: 2.266722\n",
            "Train Epoch: 1 [48640/60000 (81%)]\tLoss: 2.328950\n",
            "Train Epoch: 1 [51200/60000 (85%)]\tLoss: 2.347166\n",
            "Train Epoch: 1 [53760/60000 (90%)]\tLoss: 2.391508\n",
            "Train Epoch: 1 [56320/60000 (94%)]\tLoss: 2.344497\n",
            "Train Epoch: 1 [58880/60000 (98%)]\tLoss: 2.292136\n",
            "Train Epoch: 2 [0/60000 (0%)]\tLoss: 2.301481\n",
            "Train Epoch: 2 [2560/60000 (4%)]\tLoss: 2.361234\n",
            "Train Epoch: 2 [5120/60000 (9%)]\tLoss: 2.357100\n",
            "Train Epoch: 2 [7680/60000 (13%)]\tLoss: 2.353017\n",
            "Train Epoch: 2 [10240/60000 (17%)]\tLoss: 2.311534\n",
            "Train Epoch: 2 [12800/60000 (21%)]\tLoss: 2.305027\n",
            "Train Epoch: 2 [15360/60000 (26%)]\tLoss: 2.365017\n",
            "Train Epoch: 2 [17920/60000 (30%)]\tLoss: 2.306104\n",
            "Train Epoch: 2 [20480/60000 (34%)]\tLoss: 2.292181\n",
            "Train Epoch: 2 [23040/60000 (38%)]\tLoss: 2.298050\n",
            "Train Epoch: 2 [25600/60000 (43%)]\tLoss: 2.319397\n",
            "Train Epoch: 2 [28160/60000 (47%)]\tLoss: 2.284733\n",
            "Train Epoch: 2 [30720/60000 (51%)]\tLoss: 2.397132\n",
            "Train Epoch: 2 [33280/60000 (55%)]\tLoss: 2.367883\n",
            "Train Epoch: 2 [35840/60000 (60%)]\tLoss: 2.331070\n",
            "Train Epoch: 2 [38400/60000 (64%)]\tLoss: 2.347586\n",
            "Train Epoch: 2 [40960/60000 (68%)]\tLoss: 2.354134\n",
            "Train Epoch: 2 [43520/60000 (72%)]\tLoss: 2.303150\n",
            "Train Epoch: 2 [46080/60000 (77%)]\tLoss: 2.294466\n",
            "Train Epoch: 2 [48640/60000 (81%)]\tLoss: 2.276370\n",
            "Train Epoch: 2 [51200/60000 (85%)]\tLoss: 2.359081\n",
            "Train Epoch: 2 [53760/60000 (90%)]\tLoss: 2.325093\n",
            "Train Epoch: 2 [56320/60000 (94%)]\tLoss: 2.325572\n",
            "Train Epoch: 2 [58880/60000 (98%)]\tLoss: 2.312859\n",
            "Train Epoch: 3 [0/60000 (0%)]\tLoss: 2.314531\n",
            "Train Epoch: 3 [2560/60000 (4%)]\tLoss: 2.326753\n",
            "Train Epoch: 3 [5120/60000 (9%)]\tLoss: 2.351900\n",
            "Train Epoch: 3 [7680/60000 (13%)]\tLoss: 2.307696\n",
            "Train Epoch: 3 [10240/60000 (17%)]\tLoss: 2.367764\n",
            "Train Epoch: 3 [12800/60000 (21%)]\tLoss: 2.300739\n",
            "Train Epoch: 3 [15360/60000 (26%)]\tLoss: 2.291499\n",
            "Train Epoch: 3 [17920/60000 (30%)]\tLoss: 2.343909\n",
            "Train Epoch: 3 [20480/60000 (34%)]\tLoss: 2.366610\n",
            "Train Epoch: 3 [23040/60000 (38%)]\tLoss: 2.336913\n",
            "Train Epoch: 3 [25600/60000 (43%)]\tLoss: 2.328872\n",
            "Train Epoch: 3 [28160/60000 (47%)]\tLoss: 2.336196\n",
            "Train Epoch: 3 [30720/60000 (51%)]\tLoss: 2.363622\n",
            "Train Epoch: 3 [33280/60000 (55%)]\tLoss: 2.266484\n",
            "Train Epoch: 3 [35840/60000 (60%)]\tLoss: 2.334540\n",
            "Train Epoch: 3 [38400/60000 (64%)]\tLoss: 2.324323\n",
            "Train Epoch: 3 [40960/60000 (68%)]\tLoss: 2.297780\n",
            "Train Epoch: 3 [43520/60000 (72%)]\tLoss: 2.325550\n",
            "Train Epoch: 3 [46080/60000 (77%)]\tLoss: 2.327196\n",
            "Train Epoch: 3 [48640/60000 (81%)]\tLoss: 2.357139\n",
            "Train Epoch: 3 [51200/60000 (85%)]\tLoss: 2.340678\n",
            "Train Epoch: 3 [53760/60000 (90%)]\tLoss: 2.278903\n",
            "Train Epoch: 3 [56320/60000 (94%)]\tLoss: 2.318004\n",
            "Train Epoch: 3 [58880/60000 (98%)]\tLoss: 2.273621\n",
            "Train Epoch: 4 [0/60000 (0%)]\tLoss: 2.311307\n",
            "Train Epoch: 4 [2560/60000 (4%)]\tLoss: 2.376132\n",
            "Train Epoch: 4 [5120/60000 (9%)]\tLoss: 2.327110\n",
            "Train Epoch: 4 [7680/60000 (13%)]\tLoss: 2.389207\n",
            "Train Epoch: 4 [10240/60000 (17%)]\tLoss: 2.279078\n",
            "Train Epoch: 4 [12800/60000 (21%)]\tLoss: 2.273318\n",
            "Train Epoch: 4 [15360/60000 (26%)]\tLoss: 2.316571\n",
            "Train Epoch: 4 [17920/60000 (30%)]\tLoss: 2.338965\n",
            "Train Epoch: 4 [20480/60000 (34%)]\tLoss: 2.344913\n",
            "Train Epoch: 4 [23040/60000 (38%)]\tLoss: 2.246960\n",
            "Train Epoch: 4 [25600/60000 (43%)]\tLoss: 2.292816\n",
            "Train Epoch: 4 [28160/60000 (47%)]\tLoss: 2.350296\n",
            "Train Epoch: 4 [30720/60000 (51%)]\tLoss: 2.309947\n",
            "Train Epoch: 4 [33280/60000 (55%)]\tLoss: 2.325002\n",
            "Train Epoch: 4 [35840/60000 (60%)]\tLoss: 2.303593\n",
            "Train Epoch: 4 [38400/60000 (64%)]\tLoss: 2.312509\n",
            "Train Epoch: 4 [40960/60000 (68%)]\tLoss: 2.317152\n",
            "Train Epoch: 4 [43520/60000 (72%)]\tLoss: 2.312014\n",
            "Train Epoch: 4 [46080/60000 (77%)]\tLoss: 2.337040\n",
            "Train Epoch: 4 [48640/60000 (81%)]\tLoss: 2.307934\n",
            "Train Epoch: 4 [51200/60000 (85%)]\tLoss: 2.375141\n",
            "Train Epoch: 4 [53760/60000 (90%)]\tLoss: 2.299219\n",
            "Train Epoch: 4 [56320/60000 (94%)]\tLoss: 2.341084\n",
            "Train Epoch: 4 [58880/60000 (98%)]\tLoss: 2.318285\n",
            "Train Epoch: 5 [0/60000 (0%)]\tLoss: 2.353333\n",
            "Train Epoch: 5 [2560/60000 (4%)]\tLoss: 2.347794\n",
            "Train Epoch: 5 [5120/60000 (9%)]\tLoss: 2.385611\n",
            "Train Epoch: 5 [7680/60000 (13%)]\tLoss: 2.397788\n",
            "Train Epoch: 5 [10240/60000 (17%)]\tLoss: 2.310825\n",
            "Train Epoch: 5 [12800/60000 (21%)]\tLoss: 2.342178\n",
            "Train Epoch: 5 [15360/60000 (26%)]\tLoss: 2.319445\n",
            "Train Epoch: 5 [17920/60000 (30%)]\tLoss: 2.286510\n",
            "Train Epoch: 5 [20480/60000 (34%)]\tLoss: 2.342149\n",
            "Train Epoch: 5 [23040/60000 (38%)]\tLoss: 2.306853\n",
            "Train Epoch: 5 [25600/60000 (43%)]\tLoss: 2.301966\n",
            "Train Epoch: 5 [28160/60000 (47%)]\tLoss: 2.347271\n",
            "Train Epoch: 5 [30720/60000 (51%)]\tLoss: 2.381960\n",
            "Train Epoch: 5 [33280/60000 (55%)]\tLoss: 2.368682\n",
            "Train Epoch: 5 [35840/60000 (60%)]\tLoss: 2.345953\n",
            "Train Epoch: 5 [38400/60000 (64%)]\tLoss: 2.293612\n",
            "Train Epoch: 5 [40960/60000 (68%)]\tLoss: 2.317060\n",
            "Train Epoch: 5 [43520/60000 (72%)]\tLoss: 2.312056\n",
            "Train Epoch: 5 [46080/60000 (77%)]\tLoss: 2.310307\n",
            "Train Epoch: 5 [48640/60000 (81%)]\tLoss: 2.319346\n",
            "Train Epoch: 5 [51200/60000 (85%)]\tLoss: 2.330977\n",
            "Train Epoch: 5 [53760/60000 (90%)]\tLoss: 2.329753\n",
            "Train Epoch: 5 [56320/60000 (94%)]\tLoss: 2.343978\n",
            "Train Epoch: 5 [58880/60000 (98%)]\tLoss: 2.355484\n"
          ]
        }
      ]
    },
    {
      "cell_type": "code",
      "metadata": {
        "id": "BpeGFVMflIoW"
      },
      "source": [
        "def to_tensorr(arr: np.ndarray):\n",
        "    tens = torch.from_numpy(arr).float()\n",
        "    tensorr = F.normalize(tens)\n",
        "    tensorr = tensorr.reshape(5,-1)\n",
        "   \n",
        "    return tensorr"
      ],
      "execution_count": null,
      "outputs": []
    },
    {
      "cell_type": "code",
      "metadata": {
        "colab": {
          "base_uri": "https://localhost:8080/",
          "height": 314
        },
        "id": "FIBQuhIhlVbP",
        "outputId": "421ad57a-1cb6-4bf5-e7f8-d3d6193423f6"
      },
      "source": [
        "nine_mnist= mnist(nine)\n",
        "nine_mnist = to_tensorr(nine_mnist)"
      ],
      "execution_count": null,
      "outputs": [
        {
          "output_type": "error",
          "ename": "RuntimeError",
          "evalue": "ignored",
          "traceback": [
            "\u001b[0;31m---------------------------------------------------------------------------\u001b[0m",
            "\u001b[0;31mRuntimeError\u001b[0m                              Traceback (most recent call last)",
            "\u001b[0;32m<ipython-input-78-7bcacfed9b4b>\u001b[0m in \u001b[0;36m<module>\u001b[0;34m()\u001b[0m\n\u001b[1;32m      1\u001b[0m \u001b[0mnine_mnist\u001b[0m\u001b[0;34m=\u001b[0m \u001b[0mmnist\u001b[0m\u001b[0;34m(\u001b[0m\u001b[0mnine\u001b[0m\u001b[0;34m)\u001b[0m\u001b[0;34m\u001b[0m\u001b[0;34m\u001b[0m\u001b[0m\n\u001b[0;32m----> 2\u001b[0;31m \u001b[0mnine_mnist\u001b[0m \u001b[0;34m=\u001b[0m \u001b[0mto_tensorr\u001b[0m\u001b[0;34m(\u001b[0m\u001b[0mnine_mnist\u001b[0m\u001b[0;34m)\u001b[0m\u001b[0;34m\u001b[0m\u001b[0;34m\u001b[0m\u001b[0m\n\u001b[0m",
            "\u001b[0;32m<ipython-input-77-76497ec33073>\u001b[0m in \u001b[0;36mto_tensorr\u001b[0;34m(arr)\u001b[0m\n\u001b[1;32m      2\u001b[0m     \u001b[0mtens\u001b[0m \u001b[0;34m=\u001b[0m \u001b[0mtorch\u001b[0m\u001b[0;34m.\u001b[0m\u001b[0mfrom_numpy\u001b[0m\u001b[0;34m(\u001b[0m\u001b[0marr\u001b[0m\u001b[0;34m)\u001b[0m\u001b[0;34m.\u001b[0m\u001b[0mfloat\u001b[0m\u001b[0;34m(\u001b[0m\u001b[0;34m)\u001b[0m\u001b[0;34m\u001b[0m\u001b[0;34m\u001b[0m\u001b[0m\n\u001b[1;32m      3\u001b[0m     \u001b[0mtensorr\u001b[0m \u001b[0;34m=\u001b[0m \u001b[0mF\u001b[0m\u001b[0;34m.\u001b[0m\u001b[0mnormalize\u001b[0m\u001b[0;34m(\u001b[0m\u001b[0mtens\u001b[0m\u001b[0;34m)\u001b[0m\u001b[0;34m\u001b[0m\u001b[0;34m\u001b[0m\u001b[0m\n\u001b[0;32m----> 4\u001b[0;31m     \u001b[0mtensorr\u001b[0m \u001b[0;34m=\u001b[0m \u001b[0mtensorr\u001b[0m\u001b[0;34m.\u001b[0m\u001b[0mreshape\u001b[0m\u001b[0;34m(\u001b[0m\u001b[0;36m5\u001b[0m\u001b[0;34m,\u001b[0m\u001b[0;34m-\u001b[0m\u001b[0;36m1\u001b[0m\u001b[0;34m)\u001b[0m\u001b[0;34m\u001b[0m\u001b[0;34m\u001b[0m\u001b[0m\n\u001b[0m\u001b[1;32m      5\u001b[0m \u001b[0;34m\u001b[0m\u001b[0m\n\u001b[1;32m      6\u001b[0m     \u001b[0;32mreturn\u001b[0m \u001b[0mtensorr\u001b[0m\u001b[0;34m\u001b[0m\u001b[0;34m\u001b[0m\u001b[0m\n",
            "\u001b[0;31mRuntimeError\u001b[0m: shape '[5, -1]' is invalid for input of size 784"
          ]
        }
      ]
    },
    {
      "cell_type": "code",
      "metadata": {
        "colab": {
          "base_uri": "https://localhost:8080/",
          "height": 392
        },
        "id": "gO4wohIPcfvR",
        "outputId": "a07461d4-cb41-41ed-9da1-deba58a3c5f1"
      },
      "source": [
        "nine_mnist= mnist(nine)\n",
        "nine_mnist = to_tensor(nine_mnist)\n",
        "with torch.no_grad():\n",
        "    logit9 = model1(nine_mnist)\n",
        "    \n",
        "    ps9 = torch.exp(logit9)\n",
        "    ps9 = F.softmax(ps9, dim=1)\n",
        "    \n",
        "ps9.argmax(dim=1).item()\n",
        "    "
      ],
      "execution_count": null,
      "outputs": [
        {
          "output_type": "error",
          "ename": "RuntimeError",
          "evalue": "ignored",
          "traceback": [
            "\u001b[0;31m---------------------------------------------------------------------------\u001b[0m",
            "\u001b[0;31mRuntimeError\u001b[0m                              Traceback (most recent call last)",
            "\u001b[0;32m<ipython-input-80-8a2cfcfba483>\u001b[0m in \u001b[0;36m<module>\u001b[0;34m()\u001b[0m\n\u001b[1;32m      2\u001b[0m \u001b[0mnine_mnist\u001b[0m \u001b[0;34m=\u001b[0m \u001b[0mto_tensor\u001b[0m\u001b[0;34m(\u001b[0m\u001b[0mnine_mnist\u001b[0m\u001b[0;34m)\u001b[0m\u001b[0;34m\u001b[0m\u001b[0;34m\u001b[0m\u001b[0m\n\u001b[1;32m      3\u001b[0m \u001b[0;32mwith\u001b[0m \u001b[0mtorch\u001b[0m\u001b[0;34m.\u001b[0m\u001b[0mno_grad\u001b[0m\u001b[0;34m(\u001b[0m\u001b[0;34m)\u001b[0m\u001b[0;34m:\u001b[0m\u001b[0;34m\u001b[0m\u001b[0;34m\u001b[0m\u001b[0m\n\u001b[0;32m----> 4\u001b[0;31m     \u001b[0mlogit9\u001b[0m \u001b[0;34m=\u001b[0m \u001b[0mmodel1\u001b[0m\u001b[0;34m(\u001b[0m\u001b[0mnine_mnist\u001b[0m\u001b[0;34m)\u001b[0m\u001b[0;34m\u001b[0m\u001b[0;34m\u001b[0m\u001b[0m\n\u001b[0m\u001b[1;32m      5\u001b[0m \u001b[0;34m\u001b[0m\u001b[0m\n\u001b[1;32m      6\u001b[0m     \u001b[0mps9\u001b[0m \u001b[0;34m=\u001b[0m \u001b[0mtorch\u001b[0m\u001b[0;34m.\u001b[0m\u001b[0mexp\u001b[0m\u001b[0;34m(\u001b[0m\u001b[0mlogit9\u001b[0m\u001b[0;34m)\u001b[0m\u001b[0;34m\u001b[0m\u001b[0;34m\u001b[0m\u001b[0m\n",
            "\u001b[0;32m/usr/local/lib/python3.7/dist-packages/torch/nn/modules/module.py\u001b[0m in \u001b[0;36m_call_impl\u001b[0;34m(self, *input, **kwargs)\u001b[0m\n\u001b[1;32m   1049\u001b[0m         if not (self._backward_hooks or self._forward_hooks or self._forward_pre_hooks or _global_backward_hooks\n\u001b[1;32m   1050\u001b[0m                 or _global_forward_hooks or _global_forward_pre_hooks):\n\u001b[0;32m-> 1051\u001b[0;31m             \u001b[0;32mreturn\u001b[0m \u001b[0mforward_call\u001b[0m\u001b[0;34m(\u001b[0m\u001b[0;34m*\u001b[0m\u001b[0minput\u001b[0m\u001b[0;34m,\u001b[0m \u001b[0;34m**\u001b[0m\u001b[0mkwargs\u001b[0m\u001b[0;34m)\u001b[0m\u001b[0;34m\u001b[0m\u001b[0;34m\u001b[0m\u001b[0m\n\u001b[0m\u001b[1;32m   1052\u001b[0m         \u001b[0;31m# Do not call functions when jit is used\u001b[0m\u001b[0;34m\u001b[0m\u001b[0;34m\u001b[0m\u001b[0;34m\u001b[0m\u001b[0m\n\u001b[1;32m   1053\u001b[0m         \u001b[0mfull_backward_hooks\u001b[0m\u001b[0;34m,\u001b[0m \u001b[0mnon_full_backward_hooks\u001b[0m \u001b[0;34m=\u001b[0m \u001b[0;34m[\u001b[0m\u001b[0;34m]\u001b[0m\u001b[0;34m,\u001b[0m \u001b[0;34m[\u001b[0m\u001b[0;34m]\u001b[0m\u001b[0;34m\u001b[0m\u001b[0;34m\u001b[0m\u001b[0m\n",
            "\u001b[0;32m<ipython-input-70-786da98bfd27>\u001b[0m in \u001b[0;36mforward\u001b[0;34m(self, x)\u001b[0m\n\u001b[1;32m      9\u001b[0m \u001b[0;34m\u001b[0m\u001b[0m\n\u001b[1;32m     10\u001b[0m     \u001b[0;32mdef\u001b[0m \u001b[0mforward\u001b[0m\u001b[0;34m(\u001b[0m\u001b[0mself\u001b[0m\u001b[0;34m,\u001b[0m \u001b[0mx\u001b[0m\u001b[0;34m)\u001b[0m\u001b[0;34m:\u001b[0m\u001b[0;34m\u001b[0m\u001b[0;34m\u001b[0m\u001b[0m\n\u001b[0;32m---> 11\u001b[0;31m         \u001b[0mx\u001b[0m \u001b[0;34m=\u001b[0m \u001b[0mF\u001b[0m\u001b[0;34m.\u001b[0m\u001b[0mrelu\u001b[0m\u001b[0;34m(\u001b[0m\u001b[0mF\u001b[0m\u001b[0;34m.\u001b[0m\u001b[0mmax_pool2d\u001b[0m\u001b[0;34m(\u001b[0m\u001b[0mself\u001b[0m\u001b[0;34m.\u001b[0m\u001b[0mconv1\u001b[0m\u001b[0;34m(\u001b[0m\u001b[0mx\u001b[0m\u001b[0;34m)\u001b[0m\u001b[0;34m,\u001b[0m \u001b[0;36m2\u001b[0m\u001b[0;34m)\u001b[0m\u001b[0;34m)\u001b[0m\u001b[0;34m\u001b[0m\u001b[0;34m\u001b[0m\u001b[0m\n\u001b[0m\u001b[1;32m     12\u001b[0m         \u001b[0mx\u001b[0m \u001b[0;34m=\u001b[0m \u001b[0mF\u001b[0m\u001b[0;34m.\u001b[0m\u001b[0mrelu\u001b[0m\u001b[0;34m(\u001b[0m\u001b[0mF\u001b[0m\u001b[0;34m.\u001b[0m\u001b[0mmax_pool2d\u001b[0m\u001b[0;34m(\u001b[0m\u001b[0mself\u001b[0m\u001b[0;34m.\u001b[0m\u001b[0mconv2_drop\u001b[0m\u001b[0;34m(\u001b[0m\u001b[0mself\u001b[0m\u001b[0;34m.\u001b[0m\u001b[0mconv2\u001b[0m\u001b[0;34m(\u001b[0m\u001b[0mx\u001b[0m\u001b[0;34m)\u001b[0m\u001b[0;34m)\u001b[0m\u001b[0;34m,\u001b[0m \u001b[0;36m2\u001b[0m\u001b[0;34m)\u001b[0m\u001b[0;34m)\u001b[0m\u001b[0;34m\u001b[0m\u001b[0;34m\u001b[0m\u001b[0m\n\u001b[1;32m     13\u001b[0m         \u001b[0mx\u001b[0m \u001b[0;34m=\u001b[0m \u001b[0mx\u001b[0m\u001b[0;34m.\u001b[0m\u001b[0mview\u001b[0m\u001b[0;34m(\u001b[0m\u001b[0;34m-\u001b[0m\u001b[0;36m1\u001b[0m\u001b[0;34m,\u001b[0m \u001b[0;36m320\u001b[0m\u001b[0;34m)\u001b[0m\u001b[0;34m\u001b[0m\u001b[0;34m\u001b[0m\u001b[0m\n",
            "\u001b[0;32m/usr/local/lib/python3.7/dist-packages/torch/nn/modules/module.py\u001b[0m in \u001b[0;36m_call_impl\u001b[0;34m(self, *input, **kwargs)\u001b[0m\n\u001b[1;32m   1049\u001b[0m         if not (self._backward_hooks or self._forward_hooks or self._forward_pre_hooks or _global_backward_hooks\n\u001b[1;32m   1050\u001b[0m                 or _global_forward_hooks or _global_forward_pre_hooks):\n\u001b[0;32m-> 1051\u001b[0;31m             \u001b[0;32mreturn\u001b[0m \u001b[0mforward_call\u001b[0m\u001b[0;34m(\u001b[0m\u001b[0;34m*\u001b[0m\u001b[0minput\u001b[0m\u001b[0;34m,\u001b[0m \u001b[0;34m**\u001b[0m\u001b[0mkwargs\u001b[0m\u001b[0;34m)\u001b[0m\u001b[0;34m\u001b[0m\u001b[0;34m\u001b[0m\u001b[0m\n\u001b[0m\u001b[1;32m   1052\u001b[0m         \u001b[0;31m# Do not call functions when jit is used\u001b[0m\u001b[0;34m\u001b[0m\u001b[0;34m\u001b[0m\u001b[0;34m\u001b[0m\u001b[0m\n\u001b[1;32m   1053\u001b[0m         \u001b[0mfull_backward_hooks\u001b[0m\u001b[0;34m,\u001b[0m \u001b[0mnon_full_backward_hooks\u001b[0m \u001b[0;34m=\u001b[0m \u001b[0;34m[\u001b[0m\u001b[0;34m]\u001b[0m\u001b[0;34m,\u001b[0m \u001b[0;34m[\u001b[0m\u001b[0;34m]\u001b[0m\u001b[0;34m\u001b[0m\u001b[0;34m\u001b[0m\u001b[0m\n",
            "\u001b[0;32m/usr/local/lib/python3.7/dist-packages/torch/nn/modules/conv.py\u001b[0m in \u001b[0;36mforward\u001b[0;34m(self, input)\u001b[0m\n\u001b[1;32m    441\u001b[0m \u001b[0;34m\u001b[0m\u001b[0m\n\u001b[1;32m    442\u001b[0m     \u001b[0;32mdef\u001b[0m \u001b[0mforward\u001b[0m\u001b[0;34m(\u001b[0m\u001b[0mself\u001b[0m\u001b[0;34m,\u001b[0m \u001b[0minput\u001b[0m\u001b[0;34m:\u001b[0m \u001b[0mTensor\u001b[0m\u001b[0;34m)\u001b[0m \u001b[0;34m->\u001b[0m \u001b[0mTensor\u001b[0m\u001b[0;34m:\u001b[0m\u001b[0;34m\u001b[0m\u001b[0;34m\u001b[0m\u001b[0m\n\u001b[0;32m--> 443\u001b[0;31m         \u001b[0;32mreturn\u001b[0m \u001b[0mself\u001b[0m\u001b[0;34m.\u001b[0m\u001b[0m_conv_forward\u001b[0m\u001b[0;34m(\u001b[0m\u001b[0minput\u001b[0m\u001b[0;34m,\u001b[0m \u001b[0mself\u001b[0m\u001b[0;34m.\u001b[0m\u001b[0mweight\u001b[0m\u001b[0;34m,\u001b[0m \u001b[0mself\u001b[0m\u001b[0;34m.\u001b[0m\u001b[0mbias\u001b[0m\u001b[0;34m)\u001b[0m\u001b[0;34m\u001b[0m\u001b[0;34m\u001b[0m\u001b[0m\n\u001b[0m\u001b[1;32m    444\u001b[0m \u001b[0;34m\u001b[0m\u001b[0m\n\u001b[1;32m    445\u001b[0m \u001b[0;32mclass\u001b[0m \u001b[0mConv3d\u001b[0m\u001b[0;34m(\u001b[0m\u001b[0m_ConvNd\u001b[0m\u001b[0;34m)\u001b[0m\u001b[0;34m:\u001b[0m\u001b[0;34m\u001b[0m\u001b[0;34m\u001b[0m\u001b[0m\n",
            "\u001b[0;32m/usr/local/lib/python3.7/dist-packages/torch/nn/modules/conv.py\u001b[0m in \u001b[0;36m_conv_forward\u001b[0;34m(self, input, weight, bias)\u001b[0m\n\u001b[1;32m    438\u001b[0m                             _pair(0), self.dilation, self.groups)\n\u001b[1;32m    439\u001b[0m         return F.conv2d(input, weight, bias, self.stride,\n\u001b[0;32m--> 440\u001b[0;31m                         self.padding, self.dilation, self.groups)\n\u001b[0m\u001b[1;32m    441\u001b[0m \u001b[0;34m\u001b[0m\u001b[0m\n\u001b[1;32m    442\u001b[0m     \u001b[0;32mdef\u001b[0m \u001b[0mforward\u001b[0m\u001b[0;34m(\u001b[0m\u001b[0mself\u001b[0m\u001b[0;34m,\u001b[0m \u001b[0minput\u001b[0m\u001b[0;34m:\u001b[0m \u001b[0mTensor\u001b[0m\u001b[0;34m)\u001b[0m \u001b[0;34m->\u001b[0m \u001b[0mTensor\u001b[0m\u001b[0;34m:\u001b[0m\u001b[0;34m\u001b[0m\u001b[0;34m\u001b[0m\u001b[0m\n",
            "\u001b[0;31mRuntimeError\u001b[0m: Expected 4-dimensional input for 4-dimensional weight [10, 1, 5, 5], but got 2-dimensional input of size [1, 784] instead"
          ]
        }
      ]
    },
    {
      "cell_type": "code",
      "metadata": {
        "colab": {
          "base_uri": "https://localhost:8080/",
          "height": 278
        },
        "id": "IlKvzJ3ESViF",
        "outputId": "4dd28a10-d0dc-4ee3-e958-65673ec976bb"
      },
      "source": [
        "#"
      ],
      "execution_count": null,
      "outputs": [
        {
          "output_type": "error",
          "ename": "ValueError",
          "evalue": "ignored",
          "traceback": [
            "\u001b[0;31m---------------------------------------------------------------------------\u001b[0m",
            "\u001b[0;31mValueError\u001b[0m                                Traceback (most recent call last)",
            "\u001b[0;32m<ipython-input-36-c801338a0ea0>\u001b[0m in \u001b[0;36m<module>\u001b[0;34m()\u001b[0m\n\u001b[1;32m      1\u001b[0m \u001b[0;31m# we need to create X, y then W, b\u001b[0m\u001b[0;34m\u001b[0m\u001b[0;34m\u001b[0m\u001b[0;34m\u001b[0m\u001b[0m\n\u001b[0;32m----> 2\u001b[0;31m \u001b[0mW\u001b[0m \u001b[0;34m=\u001b[0m \u001b[0mnp\u001b[0m\u001b[0;34m.\u001b[0m\u001b[0marray\u001b[0m\u001b[0;34m(\u001b[0m\u001b[0;34m[\u001b[0m\u001b[0mnp\u001b[0m\u001b[0;34m.\u001b[0m\u001b[0mrandom\u001b[0m\u001b[0;34m.\u001b[0m\u001b[0mrandint\u001b[0m\u001b[0;34m(\u001b[0m\u001b[0;36m10\u001b[0m\u001b[0;34m,\u001b[0m\u001b[0;36m10\u001b[0m\u001b[0;34m,\u001b[0m\u001b[0;36m5\u001b[0m\u001b[0;34m)\u001b[0m\u001b[0;34m]\u001b[0m\u001b[0;34m)\u001b[0m\u001b[0;34m\u001b[0m\u001b[0;34m\u001b[0m\u001b[0m\n\u001b[0m\u001b[1;32m      3\u001b[0m \u001b[0mw\u001b[0m\u001b[0;34m.\u001b[0m\u001b[0mfrom_numpy\u001b[0m\u001b[0;34m(\u001b[0m\u001b[0mW\u001b[0m\u001b[0;34m)\u001b[0m\u001b[0;34m\u001b[0m\u001b[0;34m\u001b[0m\u001b[0m\n",
            "\u001b[0;32mmtrand.pyx\u001b[0m in \u001b[0;36mnumpy.random.mtrand.RandomState.randint\u001b[0;34m()\u001b[0m\n",
            "\u001b[0;32m_bounded_integers.pyx\u001b[0m in \u001b[0;36mnumpy.random._bounded_integers._rand_int64\u001b[0;34m()\u001b[0m\n",
            "\u001b[0;31mValueError\u001b[0m: low >= high"
          ]
        }
      ]
    }
  ]
}