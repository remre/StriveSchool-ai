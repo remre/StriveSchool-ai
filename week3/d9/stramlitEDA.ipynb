{
  "nbformat": 4,
  "nbformat_minor": 0,
  "metadata": {
    "colab": {
      "name": "stramlitEDA.ipynb",
      "provenance": [],
      "authorship_tag": "ABX9TyPhSTE/z0deAlspBwilV3Hz",
      "include_colab_link": true
    },
    "kernelspec": {
      "name": "python3",
      "display_name": "Python 3"
    },
    "language_info": {
      "name": "python"
    }
  },
  "cells": [
    {
      "cell_type": "markdown",
      "metadata": {
        "id": "view-in-github",
        "colab_type": "text"
      },
      "source": [
        "<a href=\"https://colab.research.google.com/github/remre/StriveSchool-ai/blob/main/week3/d9/stramlitEDA.ipynb\" target=\"_parent\"><img src=\"https://colab.research.google.com/assets/colab-badge.svg\" alt=\"Open In Colab\"/></a>"
      ]
    },
    {
      "cell_type": "code",
      "metadata": {
        "id": "5EN5a2JPXoOv"
      },
      "source": [
        "import pandas as pd\n",
        "import requests\n",
        "import numpy as np\n",
        "import io\n",
        "import seaborn as sns\n",
        "import matplotlib.pyplot as plt\n",
        "import scipy.stats as stats\n",
        "import category_encoders as ce"
      ],
      "execution_count": 180,
      "outputs": []
    },
    {
      "cell_type": "code",
      "metadata": {
        "id": "Ea03sFcXXHEM"
      },
      "source": [
        "df = pd.read_csv(\"beers.csv\")"
      ],
      "execution_count": 150,
      "outputs": []
    },
    {
      "cell_type": "code",
      "metadata": {
        "colab": {
          "base_uri": "https://localhost:8080/",
          "height": 141
        },
        "id": "3xWSN3VXBicU",
        "outputId": "e531c7d4-2509-4f82-9ee1-3aa6460179d7"
      },
      "source": [
        "df.nlargest(3,'brewery_id')"
      ],
      "execution_count": 151,
      "outputs": [
        {
          "output_type": "execute_result",
          "data": {
            "text/html": [
              "<div>\n",
              "<style scoped>\n",
              "    .dataframe tbody tr th:only-of-type {\n",
              "        vertical-align: middle;\n",
              "    }\n",
              "\n",
              "    .dataframe tbody tr th {\n",
              "        vertical-align: top;\n",
              "    }\n",
              "\n",
              "    .dataframe thead th {\n",
              "        text-align: right;\n",
              "    }\n",
              "</style>\n",
              "<table border=\"1\" class=\"dataframe\">\n",
              "  <thead>\n",
              "    <tr style=\"text-align: right;\">\n",
              "      <th></th>\n",
              "      <th>Unnamed: 0</th>\n",
              "      <th>abv</th>\n",
              "      <th>ibu</th>\n",
              "      <th>id</th>\n",
              "      <th>name</th>\n",
              "      <th>style</th>\n",
              "      <th>brewery_id</th>\n",
              "      <th>ounces</th>\n",
              "    </tr>\n",
              "  </thead>\n",
              "  <tbody>\n",
              "    <tr>\n",
              "      <th>1897</th>\n",
              "      <td>1897</td>\n",
              "      <td>0.049</td>\n",
              "      <td>NaN</td>\n",
              "      <td>30</td>\n",
              "      <td>Urban Wilderness Pale Ale</td>\n",
              "      <td>English Pale Ale</td>\n",
              "      <td>557</td>\n",
              "      <td>12.0</td>\n",
              "    </tr>\n",
              "    <tr>\n",
              "      <th>488</th>\n",
              "      <td>488</td>\n",
              "      <td>0.049</td>\n",
              "      <td>NaN</td>\n",
              "      <td>52</td>\n",
              "      <td>Heinnieweisse Weissebier</td>\n",
              "      <td>Hefeweizen</td>\n",
              "      <td>556</td>\n",
              "      <td>12.0</td>\n",
              "    </tr>\n",
              "    <tr>\n",
              "      <th>489</th>\n",
              "      <td>489</td>\n",
              "      <td>0.068</td>\n",
              "      <td>NaN</td>\n",
              "      <td>51</td>\n",
              "      <td>Snapperhead IPA</td>\n",
              "      <td>American IPA</td>\n",
              "      <td>556</td>\n",
              "      <td>12.0</td>\n",
              "    </tr>\n",
              "  </tbody>\n",
              "</table>\n",
              "</div>"
            ],
            "text/plain": [
              "      Unnamed: 0    abv  ibu  ...             style brewery_id ounces\n",
              "1897        1897  0.049  NaN  ...  English Pale Ale        557   12.0\n",
              "488          488  0.049  NaN  ...        Hefeweizen        556   12.0\n",
              "489          489  0.068  NaN  ...      American IPA        556   12.0\n",
              "\n",
              "[3 rows x 8 columns]"
            ]
          },
          "metadata": {
            "tags": []
          },
          "execution_count": 151
        }
      ]
    },
    {
      "cell_type": "code",
      "metadata": {
        "id": "-1zjkXZ5emfo"
      },
      "source": [
        "df[\"style\"].value_counts().sort_values(ascending= False)[:15]"
      ],
      "execution_count": null,
      "outputs": []
    },
    {
      "cell_type": "code",
      "metadata": {
        "id": "ufFeMjs8BZG_"
      },
      "source": [
        "df.loc[]"
      ],
      "execution_count": null,
      "outputs": []
    },
    {
      "cell_type": "code",
      "metadata": {
        "colab": {
          "base_uri": "https://localhost:8080/",
          "height": 414
        },
        "id": "X7snBo_MZ4fa",
        "outputId": "bbc185c0-7ead-4752-c438-30ad8c3f7ffd"
      },
      "source": [
        "df = pd.DataFrame(df)\n",
        "dff = pd.DataFrame(df)\n",
        "X = dff.iloc[:, :-1].values\n",
        "y = dff.iloc[:, -1].values\n",
        "y = y.reshape(len(y),1)\n",
        "df"
      ],
      "execution_count": 181,
      "outputs": [
        {
          "output_type": "execute_result",
          "data": {
            "text/html": [
              "<div>\n",
              "<style scoped>\n",
              "    .dataframe tbody tr th:only-of-type {\n",
              "        vertical-align: middle;\n",
              "    }\n",
              "\n",
              "    .dataframe tbody tr th {\n",
              "        vertical-align: top;\n",
              "    }\n",
              "\n",
              "    .dataframe thead th {\n",
              "        text-align: right;\n",
              "    }\n",
              "</style>\n",
              "<table border=\"1\" class=\"dataframe\">\n",
              "  <thead>\n",
              "    <tr style=\"text-align: right;\">\n",
              "      <th></th>\n",
              "      <th>Unnamed: 0</th>\n",
              "      <th>abv</th>\n",
              "      <th>ibu</th>\n",
              "      <th>id</th>\n",
              "      <th>name</th>\n",
              "      <th>style</th>\n",
              "      <th>brewery_id</th>\n",
              "      <th>ounces</th>\n",
              "    </tr>\n",
              "  </thead>\n",
              "  <tbody>\n",
              "    <tr>\n",
              "      <th>0</th>\n",
              "      <td>0</td>\n",
              "      <td>0.050</td>\n",
              "      <td>NaN</td>\n",
              "      <td>1436</td>\n",
              "      <td>Pub Beer</td>\n",
              "      <td>American Pale Lager</td>\n",
              "      <td>408</td>\n",
              "      <td>12.0</td>\n",
              "    </tr>\n",
              "    <tr>\n",
              "      <th>1</th>\n",
              "      <td>1</td>\n",
              "      <td>0.066</td>\n",
              "      <td>NaN</td>\n",
              "      <td>2265</td>\n",
              "      <td>Devil's Cup</td>\n",
              "      <td>American Pale Ale (APA)</td>\n",
              "      <td>177</td>\n",
              "      <td>12.0</td>\n",
              "    </tr>\n",
              "    <tr>\n",
              "      <th>2</th>\n",
              "      <td>2</td>\n",
              "      <td>0.071</td>\n",
              "      <td>NaN</td>\n",
              "      <td>2264</td>\n",
              "      <td>Rise of the Phoenix</td>\n",
              "      <td>American IPA</td>\n",
              "      <td>177</td>\n",
              "      <td>12.0</td>\n",
              "    </tr>\n",
              "    <tr>\n",
              "      <th>3</th>\n",
              "      <td>3</td>\n",
              "      <td>0.090</td>\n",
              "      <td>NaN</td>\n",
              "      <td>2263</td>\n",
              "      <td>Sinister</td>\n",
              "      <td>American Double / Imperial IPA</td>\n",
              "      <td>177</td>\n",
              "      <td>12.0</td>\n",
              "    </tr>\n",
              "    <tr>\n",
              "      <th>4</th>\n",
              "      <td>4</td>\n",
              "      <td>0.075</td>\n",
              "      <td>NaN</td>\n",
              "      <td>2262</td>\n",
              "      <td>Sex and Candy</td>\n",
              "      <td>American IPA</td>\n",
              "      <td>177</td>\n",
              "      <td>12.0</td>\n",
              "    </tr>\n",
              "    <tr>\n",
              "      <th>...</th>\n",
              "      <td>...</td>\n",
              "      <td>...</td>\n",
              "      <td>...</td>\n",
              "      <td>...</td>\n",
              "      <td>...</td>\n",
              "      <td>...</td>\n",
              "      <td>...</td>\n",
              "      <td>...</td>\n",
              "    </tr>\n",
              "    <tr>\n",
              "      <th>2405</th>\n",
              "      <td>2405</td>\n",
              "      <td>0.067</td>\n",
              "      <td>45.0</td>\n",
              "      <td>928</td>\n",
              "      <td>Belgorado</td>\n",
              "      <td>Belgian IPA</td>\n",
              "      <td>424</td>\n",
              "      <td>12.0</td>\n",
              "    </tr>\n",
              "    <tr>\n",
              "      <th>2406</th>\n",
              "      <td>2406</td>\n",
              "      <td>0.052</td>\n",
              "      <td>NaN</td>\n",
              "      <td>807</td>\n",
              "      <td>Rail Yard Ale</td>\n",
              "      <td>American Amber / Red Ale</td>\n",
              "      <td>424</td>\n",
              "      <td>12.0</td>\n",
              "    </tr>\n",
              "    <tr>\n",
              "      <th>2407</th>\n",
              "      <td>2407</td>\n",
              "      <td>0.055</td>\n",
              "      <td>NaN</td>\n",
              "      <td>620</td>\n",
              "      <td>B3K Black Lager</td>\n",
              "      <td>Schwarzbier</td>\n",
              "      <td>424</td>\n",
              "      <td>12.0</td>\n",
              "    </tr>\n",
              "    <tr>\n",
              "      <th>2408</th>\n",
              "      <td>2408</td>\n",
              "      <td>0.055</td>\n",
              "      <td>40.0</td>\n",
              "      <td>145</td>\n",
              "      <td>Silverback Pale Ale</td>\n",
              "      <td>American Pale Ale (APA)</td>\n",
              "      <td>424</td>\n",
              "      <td>12.0</td>\n",
              "    </tr>\n",
              "    <tr>\n",
              "      <th>2409</th>\n",
              "      <td>2409</td>\n",
              "      <td>0.052</td>\n",
              "      <td>NaN</td>\n",
              "      <td>84</td>\n",
              "      <td>Rail Yard Ale (2009)</td>\n",
              "      <td>American Amber / Red Ale</td>\n",
              "      <td>424</td>\n",
              "      <td>12.0</td>\n",
              "    </tr>\n",
              "  </tbody>\n",
              "</table>\n",
              "<p>2410 rows × 8 columns</p>\n",
              "</div>"
            ],
            "text/plain": [
              "      Unnamed: 0    abv  ...  brewery_id  ounces\n",
              "0              0  0.050  ...         408    12.0\n",
              "1              1  0.066  ...         177    12.0\n",
              "2              2  0.071  ...         177    12.0\n",
              "3              3  0.090  ...         177    12.0\n",
              "4              4  0.075  ...         177    12.0\n",
              "...          ...    ...  ...         ...     ...\n",
              "2405        2405  0.067  ...         424    12.0\n",
              "2406        2406  0.052  ...         424    12.0\n",
              "2407        2407  0.055  ...         424    12.0\n",
              "2408        2408  0.055  ...         424    12.0\n",
              "2409        2409  0.052  ...         424    12.0\n",
              "\n",
              "[2410 rows x 8 columns]"
            ]
          },
          "metadata": {
            "tags": []
          },
          "execution_count": 181
        }
      ]
    },
    {
      "cell_type": "code",
      "metadata": {
        "colab": {
          "base_uri": "https://localhost:8080/"
        },
        "id": "lPFpChsubTnD",
        "outputId": "c899603b-be31-4073-942b-6a1fde9b4241"
      },
      "source": [
        "df[\"name\"].unique()"
      ],
      "execution_count": 182,
      "outputs": [
        {
          "output_type": "execute_result",
          "data": {
            "text/plain": [
              "array(['Pub Beer', \"Devil's Cup\", 'Rise of the Phoenix', ...,\n",
              "       'B3K Black Lager', 'Silverback Pale Ale', 'Rail Yard Ale (2009)'],\n",
              "      dtype=object)"
            ]
          },
          "metadata": {
            "tags": []
          },
          "execution_count": 182
        }
      ]
    },
    {
      "cell_type": "code",
      "metadata": {
        "id": "ANXxpoFSaSbf"
      },
      "source": [
        "df.info()"
      ],
      "execution_count": null,
      "outputs": []
    },
    {
      "cell_type": "code",
      "metadata": {
        "colab": {
          "base_uri": "https://localhost:8080/"
        },
        "id": "wVQypQ56Ytvw",
        "outputId": "6bf8edfa-0710-4636-8d1c-940a8a352950"
      },
      "source": [
        "df.isna().sum()"
      ],
      "execution_count": 183,
      "outputs": [
        {
          "output_type": "execute_result",
          "data": {
            "text/plain": [
              "Unnamed: 0       0\n",
              "abv             62\n",
              "ibu           1005\n",
              "id               0\n",
              "name             0\n",
              "style            5\n",
              "brewery_id       0\n",
              "ounces           0\n",
              "dtype: int64"
            ]
          },
          "metadata": {
            "tags": []
          },
          "execution_count": 183
        }
      ]
    },
    {
      "cell_type": "code",
      "metadata": {
        "id": "2sEbwPY9ayjO"
      },
      "source": [
        "df4['ibu'].fillna((df['ibu'].mean()), inplace=True)\n",
        "df4['abv'].fillna((df['abv'].mean()), inplace=True)\n"
      ],
      "execution_count": 186,
      "outputs": []
    },
    {
      "cell_type": "code",
      "metadata": {
        "id": "JRKkdKetWkZ5"
      },
      "source": [
        "dff"
      ],
      "execution_count": null,
      "outputs": []
    },
    {
      "cell_type": "code",
      "metadata": {
        "id": "IgW1ixluZ8Vd"
      },
      "source": [
        "from sklearn.preprocessing import LabelEncoder\n",
        "objList = df.select_dtypes(include = \"object\").columns\n",
        "print (objList)\n",
        "\n",
        "le = LabelEncoder()\n",
        "\n",
        "for feat in objList:\n",
        "    df[feat] = le.fit_transform(df[feat].astype(str))\n",
        "\n",
        "print (df.info())"
      ],
      "execution_count": null,
      "outputs": []
    },
    {
      "cell_type": "code",
      "metadata": {
        "id": "nvPYe91nbvoa"
      },
      "source": [
        "dff"
      ],
      "execution_count": null,
      "outputs": []
    },
    {
      "cell_type": "code",
      "metadata": {
        "id": "FWQQvpWWbxo2"
      },
      "source": [
        "df.skew().sort_values(ascending= False)"
      ],
      "execution_count": null,
      "outputs": []
    },
    {
      "cell_type": "code",
      "metadata": {
        "colab": {
          "base_uri": "https://localhost:8080/",
          "height": 661
        },
        "id": "aapB5gbqcKLX",
        "outputId": "c7bc4a91-6e04-4fd4-dff3-b4506a955a24"
      },
      "source": [
        "corr = df4.corr()\n",
        "plt.figure(figsize=(10, 10))\n",
        "matrix = np.triu(df4.corr())\n",
        "sns.heatmap(corr,annot=True,fmt=\".2\",cmap= 'coolwarm',linewidths=2,square = True)"
      ],
      "execution_count": 176,
      "outputs": [
        {
          "output_type": "execute_result",
          "data": {
            "text/plain": [
              "<matplotlib.axes._subplots.AxesSubplot at 0x7fd7e819d850>"
            ]
          },
          "metadata": {
            "tags": []
          },
          "execution_count": 176
        },
        {
          "output_type": "display_data",
          "data": {
            "image/png": "[encoded data removed]",
            "text/plain": [
              "<Figure size 720x720 with 2 Axes>"
            ]
          },
          "metadata": {
            "tags": []
          }
        }
      ]
    },
    {
      "cell_type": "code",
      "metadata": {
        "id": "kje8ukYUca8y"
      },
      "source": [
        "num_vars = ['name',\n",
        " 'style',\n",
        " 'ibu',\n",
        " 'abv',\n",
        " 'brewery_id',]"
      ],
      "execution_count": 174,
      "outputs": []
    },
    {
      "cell_type": "code",
      "metadata": {
        "id": "QB9v9AWAceyR"
      },
      "source": [
        "for i in num_vars:\n",
        "    plt.figure(figsize=(16,1))\n",
        "    sns.boxplot(x=df4[i])"
      ],
      "execution_count": null,
      "outputs": []
    },
    {
      "cell_type": "code",
      "metadata": {
        "id": "FXqMJbU6-pJN"
      },
      "source": [
        "df4 = df[(df['ibu'].isin(['42.71','20',\"35\",\"70\",\"18\",\"25\",\"60\",\"40\",\"15\",\"45\",\"22\"]))]\n",
        "df4"
      ],
      "execution_count": null,
      "outputs": []
    },
    {
      "cell_type": "code",
      "metadata": {
        "id": "8zy_OxncBkx7"
      },
      "source": [
        "df2 = df1.iloc[[list of indices],:]"
      ],
      "execution_count": null,
      "outputs": []
    },
    {
      "cell_type": "code",
      "metadata": {
        "colab": {
          "base_uri": "https://localhost:8080/",
          "height": 447
        },
        "id": "PD1k9xF0ez9E",
        "outputId": "981c1854-aeca-41f4-f47c-f65f8c0bf5cd"
      },
      "source": [
        "df4 = df4[(df['style'].isin(['American IPA','American Pale Ale (APA)',\"American Amber / Red Ale\",\"American Blonde Ale \",\"American Double / Imperial IPA\",\"American Pale Wheat Ale\",\"American Brown Ale\",\"American Porter\"]))]\n",
        "df4"
      ],
      "execution_count": 187,
      "outputs": [
        {
          "output_type": "stream",
          "text": [
            "/usr/local/lib/python3.7/dist-packages/ipykernel_launcher.py:1: UserWarning: Boolean Series key will be reindexed to match DataFrame index.\n",
            "  \"\"\"Entry point for launching an IPython kernel.\n"
          ],
          "name": "stderr"
        },
        {
          "output_type": "execute_result",
          "data": {
            "text/html": [
              "<div>\n",
              "<style scoped>\n",
              "    .dataframe tbody tr th:only-of-type {\n",
              "        vertical-align: middle;\n",
              "    }\n",
              "\n",
              "    .dataframe tbody tr th {\n",
              "        vertical-align: top;\n",
              "    }\n",
              "\n",
              "    .dataframe thead th {\n",
              "        text-align: right;\n",
              "    }\n",
              "</style>\n",
              "<table border=\"1\" class=\"dataframe\">\n",
              "  <thead>\n",
              "    <tr style=\"text-align: right;\">\n",
              "      <th></th>\n",
              "      <th>Unnamed: 0</th>\n",
              "      <th>abv</th>\n",
              "      <th>ibu</th>\n",
              "      <th>id</th>\n",
              "      <th>name</th>\n",
              "      <th>style</th>\n",
              "      <th>brewery_id</th>\n",
              "      <th>ounces</th>\n",
              "    </tr>\n",
              "  </thead>\n",
              "  <tbody>\n",
              "    <tr>\n",
              "      <th>1</th>\n",
              "      <td>1</td>\n",
              "      <td>0.066</td>\n",
              "      <td>42.713167</td>\n",
              "      <td>2265</td>\n",
              "      <td>Devil's Cup</td>\n",
              "      <td>American Pale Ale (APA)</td>\n",
              "      <td>177</td>\n",
              "      <td>12.0</td>\n",
              "    </tr>\n",
              "    <tr>\n",
              "      <th>2</th>\n",
              "      <td>2</td>\n",
              "      <td>0.071</td>\n",
              "      <td>42.713167</td>\n",
              "      <td>2264</td>\n",
              "      <td>Rise of the Phoenix</td>\n",
              "      <td>American IPA</td>\n",
              "      <td>177</td>\n",
              "      <td>12.0</td>\n",
              "    </tr>\n",
              "    <tr>\n",
              "      <th>3</th>\n",
              "      <td>3</td>\n",
              "      <td>0.090</td>\n",
              "      <td>42.713167</td>\n",
              "      <td>2263</td>\n",
              "      <td>Sinister</td>\n",
              "      <td>American Double / Imperial IPA</td>\n",
              "      <td>177</td>\n",
              "      <td>12.0</td>\n",
              "    </tr>\n",
              "    <tr>\n",
              "      <th>4</th>\n",
              "      <td>4</td>\n",
              "      <td>0.075</td>\n",
              "      <td>42.713167</td>\n",
              "      <td>2262</td>\n",
              "      <td>Sex and Candy</td>\n",
              "      <td>American IPA</td>\n",
              "      <td>177</td>\n",
              "      <td>12.0</td>\n",
              "    </tr>\n",
              "    <tr>\n",
              "      <th>6</th>\n",
              "      <td>6</td>\n",
              "      <td>0.045</td>\n",
              "      <td>42.713167</td>\n",
              "      <td>2260</td>\n",
              "      <td>Lake Street Express</td>\n",
              "      <td>American Pale Ale (APA)</td>\n",
              "      <td>177</td>\n",
              "      <td>12.0</td>\n",
              "    </tr>\n",
              "    <tr>\n",
              "      <th>...</th>\n",
              "      <td>...</td>\n",
              "      <td>...</td>\n",
              "      <td>...</td>\n",
              "      <td>...</td>\n",
              "      <td>...</td>\n",
              "      <td>...</td>\n",
              "      <td>...</td>\n",
              "      <td>...</td>\n",
              "    </tr>\n",
              "    <tr>\n",
              "      <th>2399</th>\n",
              "      <td>2399</td>\n",
              "      <td>0.069</td>\n",
              "      <td>69.000000</td>\n",
              "      <td>1512</td>\n",
              "      <td>Worthy IPA (2013)</td>\n",
              "      <td>American IPA</td>\n",
              "      <td>199</td>\n",
              "      <td>12.0</td>\n",
              "    </tr>\n",
              "    <tr>\n",
              "      <th>2400</th>\n",
              "      <td>2400</td>\n",
              "      <td>0.060</td>\n",
              "      <td>50.000000</td>\n",
              "      <td>1511</td>\n",
              "      <td>Worthy Pale</td>\n",
              "      <td>American Pale Ale (APA)</td>\n",
              "      <td>199</td>\n",
              "      <td>12.0</td>\n",
              "    </tr>\n",
              "    <tr>\n",
              "      <th>2406</th>\n",
              "      <td>2406</td>\n",
              "      <td>0.052</td>\n",
              "      <td>42.713167</td>\n",
              "      <td>807</td>\n",
              "      <td>Rail Yard Ale</td>\n",
              "      <td>American Amber / Red Ale</td>\n",
              "      <td>424</td>\n",
              "      <td>12.0</td>\n",
              "    </tr>\n",
              "    <tr>\n",
              "      <th>2408</th>\n",
              "      <td>2408</td>\n",
              "      <td>0.055</td>\n",
              "      <td>40.000000</td>\n",
              "      <td>145</td>\n",
              "      <td>Silverback Pale Ale</td>\n",
              "      <td>American Pale Ale (APA)</td>\n",
              "      <td>424</td>\n",
              "      <td>12.0</td>\n",
              "    </tr>\n",
              "    <tr>\n",
              "      <th>2409</th>\n",
              "      <td>2409</td>\n",
              "      <td>0.052</td>\n",
              "      <td>42.713167</td>\n",
              "      <td>84</td>\n",
              "      <td>Rail Yard Ale (2009)</td>\n",
              "      <td>American Amber / Red Ale</td>\n",
              "      <td>424</td>\n",
              "      <td>12.0</td>\n",
              "    </tr>\n",
              "  </tbody>\n",
              "</table>\n",
              "<p>1142 rows × 8 columns</p>\n",
              "</div>"
            ],
            "text/plain": [
              "      Unnamed: 0    abv  ...  brewery_id  ounces\n",
              "1              1  0.066  ...         177    12.0\n",
              "2              2  0.071  ...         177    12.0\n",
              "3              3  0.090  ...         177    12.0\n",
              "4              4  0.075  ...         177    12.0\n",
              "6              6  0.045  ...         177    12.0\n",
              "...          ...    ...  ...         ...     ...\n",
              "2399        2399  0.069  ...         199    12.0\n",
              "2400        2400  0.060  ...         199    12.0\n",
              "2406        2406  0.052  ...         424    12.0\n",
              "2408        2408  0.055  ...         424    12.0\n",
              "2409        2409  0.052  ...         424    12.0\n",
              "\n",
              "[1142 rows x 8 columns]"
            ]
          },
          "metadata": {
            "tags": []
          },
          "execution_count": 187
        }
      ]
    },
    {
      "cell_type": "code",
      "metadata": {
        "colab": {
          "base_uri": "https://localhost:8080/",
          "height": 292
        },
        "id": "ugN0bnUlGFPV",
        "outputId": "fdf1c544-f3cc-4a4c-8406-6423f65e63c7"
      },
      "source": [
        "plt.scatter(df[\"ibu\"],df[\"abv\"])"
      ],
      "execution_count": 188,
      "outputs": [
        {
          "output_type": "execute_result",
          "data": {
            "text/plain": [
              "<matplotlib.collections.PathCollection at 0x7fd7e8677cd0>"
            ]
          },
          "metadata": {
            "tags": []
          },
          "execution_count": 188
        },
        {
          "output_type": "display_data",
          "data": {
            "image/png": "[encoded data removed]",
            "text/plain": [
              "<Figure size 432x288 with 1 Axes>"
            ]
          },
          "metadata": {
            "tags": []
          }
        }
      ]
    },
    {
      "cell_type": "code",
      "metadata": {
        "id": "ALainMt_ut16"
      },
      "source": [
        ""
      ],
      "execution_count": null,
      "outputs": []
    }
  ]
}