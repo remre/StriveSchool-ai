{
  "nbformat": 4,
  "nbformat_minor": 0,
  "metadata": {
    "colab": {
      "name": "Untitled10.ipynb",
      "provenance": [],
      "toc_visible": true,
      "authorship_tag": "ABX9TyNeBaMoWJxtn76ZI4RrXqJJ",
      "include_colab_link": true
    },
    "kernelspec": {
      "name": "python3",
      "display_name": "Python 3"
    },
    "language_info": {
      "name": "python"
    }
  },
  "cells": [
    {
      "cell_type": "markdown",
      "metadata": {
        "id": "view-in-github",
        "colab_type": "text"
      },
      "source": [
        "<a href=\"https://colab.research.google.com/github/remre/StriveSchool-ai/blob/main/week3/d3/Derivative_exe_sol.ipynb\" target=\"_parent\"><img src=\"https://colab.research.google.com/assets/colab-badge.svg\" alt=\"Open In Colab\"/></a>"
      ]
    },
    {
      "cell_type": "markdown",
      "metadata": {
        "id": "oKpP6s3y2Gvp"
      },
      "source": [
        "##**Calculus Exercises Strive**"
      ]
    },
    {
      "cell_type": "markdown",
      "metadata": {
        "id": "jVrkA2dA7AQA"
      },
      "source": [
        "We will use the \"SymPy\" which is a Python library for symbolic mathematics. \n",
        "\n",
        "Also \"scipy\" could be used [scipy](https://docs.scipy.org/doc/scipy/reference/generated/scipy.misc.derivative.html)  \n",
        "\n"
      ]
    },
    {
      "cell_type": "markdown",
      "metadata": {
        "id": "e8g29Hwzohoj"
      },
      "source": [
        "###Polynomial Derivatives"
      ]
    },
    {
      "cell_type": "code",
      "metadata": {
        "id": "lniR6076KNGV"
      },
      "source": [
        "#Importing libraries \n",
        "from sympy import * #why doing like that\n",
        "\n",
        "\"\"\"\n",
        "from numpy import *\n",
        "x = array([1,2,3,4,5])\n",
        "type(x) #try it u will get it\n",
        "\"\"\""
      ],
      "execution_count": null,
      "outputs": []
    },
    {
      "cell_type": "code",
      "metadata": {
        "id": "t5ZW64hPKPLv"
      },
      "source": [
        "x = Symbol(\"x\")#Define your variables as symbols bcz now work with integers."
      ],
      "execution_count": null,
      "outputs": []
    },
    {
      "cell_type": "code",
      "metadata": {
        "colab": {
          "base_uri": "https://localhost:8080/",
          "height": 38
        },
        "id": "a0lghsFZKXhc",
        "outputId": "27ed7507-3255-4f4f-d77a-00ccebfef345"
      },
      "source": [
        "y = (x**2)+2*x+1 #the equation of function f(x) = (x^2)+2*x+1\n",
        "yprime  = diff(y) # first derivative of y called \"yprime\" and execute \"diff\" function to see it!\n",
        "yprime"
      ],
      "execution_count": null,
      "outputs": [
        {
          "output_type": "execute_result",
          "data": {
            "text/latex": "$\\displaystyle 2 x + 2$",
            "text/plain": [
              "2*x + 2"
            ]
          },
          "metadata": {
            "tags": []
          },
          "execution_count": 15
        }
      ]
    },
    {
      "cell_type": "code",
      "metadata": {
        "colab": {
          "base_uri": "https://localhost:8080/",
          "height": 38
        },
        "id": "71Fa1afjKqMb",
        "outputId": "d648d3a2-14ad-4401-ab01-715d93caf2ad"
      },
      "source": [
        "y = diff(((x**2)/2)-5*x+1)\n",
        "y"
      ],
      "execution_count": null,
      "outputs": [
        {
          "output_type": "execute_result",
          "data": {
            "text/latex": "$\\displaystyle x - 5$",
            "text/plain": [
              "x - 5"
            ]
          },
          "metadata": {
            "tags": []
          },
          "execution_count": 19
        }
      ]
    },
    {
      "cell_type": "code",
      "metadata": {
        "colab": {
          "base_uri": "https://localhost:8080/",
          "height": 51
        },
        "id": "i7rgnLr3K5Ni",
        "outputId": "8763e494-4331-4861-ad35-fb8d7f0bf23f"
      },
      "source": [
        "y  = diff(x**(0.5))\n",
        "y"
      ],
      "execution_count": null,
      "outputs": [
        {
          "output_type": "execute_result",
          "data": {
            "text/latex": "$\\displaystyle \\frac{0.5}{x^{0.5}}$",
            "text/plain": [
              "0.5*x**(-0.5)"
            ]
          },
          "metadata": {
            "tags": []
          },
          "execution_count": 26
        }
      ]
    },
    {
      "cell_type": "code",
      "metadata": {
        "colab": {
          "base_uri": "https://localhost:8080/",
          "height": 54
        },
        "id": "F_hG9-VUpDa2",
        "outputId": "8c29db2f-a0ca-4fd7-fd02-e6ec9292a543"
      },
      "source": [
        "y = ((((6*(x**6))/4)*((-9*(x**5))/7))+2*x**2)\n",
        "y_prime = diff(y)\n",
        "y_prime"
      ],
      "execution_count": null,
      "outputs": [
        {
          "output_type": "execute_result",
          "data": {
            "text/latex": "$\\displaystyle - \\frac{297 x^{10}}{14} + 4 x$",
            "text/plain": [
              "-297*x**10/14 + 4*x"
            ]
          },
          "metadata": {
            "tags": []
          },
          "execution_count": 156
        }
      ]
    },
    {
      "cell_type": "code",
      "metadata": {
        "colab": {
          "base_uri": "https://localhost:8080/",
          "height": 54
        },
        "id": "P6yQIIg-r25U",
        "outputId": "72fd86ca-e67a-4fa5-dce1-de1940dc36a3"
      },
      "source": [
        "y = (((x**3)/2)-x**2+1+2*x**2)\n",
        "y = diff(y)\n",
        "y"
      ],
      "execution_count": null,
      "outputs": [
        {
          "output_type": "execute_result",
          "data": {
            "text/latex": "$\\displaystyle \\frac{3 x^{2}}{2} + 2 x$",
            "text/plain": [
              "3*x**2/2 + 2*x"
            ]
          },
          "metadata": {
            "tags": []
          },
          "execution_count": 157
        }
      ]
    },
    {
      "cell_type": "code",
      "metadata": {
        "colab": {
          "base_uri": "https://localhost:8080/",
          "height": 51
        },
        "id": "NrLZHUi0sorO",
        "outputId": "b19129ab-4a60-4490-e929-639284ea5df4"
      },
      "source": [
        "y = (x**(-1/2))/2\n",
        "y = diff(y)\n",
        "y"
      ],
      "execution_count": null,
      "outputs": [
        {
          "output_type": "execute_result",
          "data": {
            "text/latex": "$\\displaystyle - \\frac{0.25}{x^{1.5}}$",
            "text/plain": [
              "-0.25*x**(-1.5)"
            ]
          },
          "metadata": {
            "tags": []
          },
          "execution_count": 158
        }
      ]
    },
    {
      "cell_type": "code",
      "metadata": {
        "colab": {
          "base_uri": "https://localhost:8080/",
          "height": 54
        },
        "id": "vVbkNYvksvbW",
        "outputId": "388f9910-5f6e-4346-d43d-458fd6cd65b6"
      },
      "source": [
        "y = Symbol(\"y\")\n",
        "x = Symbol(\"x\")\n",
        "x = ((x**-1)/2)*y**5\n",
        "x = diff(x,y)\n",
        "x"
      ],
      "execution_count": null,
      "outputs": [
        {
          "output_type": "execute_result",
          "data": {
            "text/latex": "$\\displaystyle \\frac{5 y^{4}}{2 x}$",
            "text/plain": [
              "5*y**4/(2*x)"
            ]
          },
          "metadata": {
            "tags": []
          },
          "execution_count": 162
        }
      ]
    },
    {
      "cell_type": "markdown",
      "metadata": {
        "id": "HdHa8RXe2FLd"
      },
      "source": [
        "###Trigonometry"
      ]
    },
    {
      "cell_type": "code",
      "metadata": {
        "colab": {
          "base_uri": "https://localhost:8080/",
          "height": 38
        },
        "id": "ViEmqoig1aTF",
        "outputId": "b9267760-5237-442b-bf86-992f043fdd54"
      },
      "source": [
        "x = Symbol(\"x\")\n",
        "diff(cos(x),x)"
      ],
      "execution_count": null,
      "outputs": [
        {
          "output_type": "execute_result",
          "data": {
            "text/latex": "$\\displaystyle - \\sin{\\left(x \\right)}$",
            "text/plain": [
              "-sin(x)"
            ]
          },
          "metadata": {
            "tags": []
          },
          "execution_count": 164
        }
      ]
    },
    {
      "cell_type": "code",
      "metadata": {
        "colab": {
          "base_uri": "https://localhost:8080/",
          "height": 38
        },
        "id": "PzcPWsav3xuS",
        "outputId": "3a680e80-5c07-436b-eb3c-017926ca6708"
      },
      "source": [
        "diff(sin(x),x)"
      ],
      "execution_count": null,
      "outputs": [
        {
          "output_type": "execute_result",
          "data": {
            "text/latex": "$\\displaystyle \\cos{\\left(x \\right)}$",
            "text/plain": [
              "cos(x)"
            ]
          },
          "metadata": {
            "tags": []
          },
          "execution_count": 165
        }
      ]
    },
    {
      "cell_type": "code",
      "metadata": {
        "colab": {
          "base_uri": "https://localhost:8080/",
          "height": 38
        },
        "id": "iZvSRCB6ic16",
        "outputId": "3ff32259-494a-4d72-fc70-6838568bb56d"
      },
      "source": [
        "diff(cos(x**2),x)"
      ],
      "execution_count": null,
      "outputs": [
        {
          "output_type": "execute_result",
          "data": {
            "text/latex": "$\\displaystyle - 2 x \\sin{\\left(x^{2} \\right)}$",
            "text/plain": [
              "-2*x*sin(x**2)"
            ]
          },
          "metadata": {
            "tags": []
          },
          "execution_count": 166
        }
      ]
    },
    {
      "cell_type": "code",
      "metadata": {
        "colab": {
          "base_uri": "https://localhost:8080/",
          "height": 55
        },
        "id": "QJuoq6HN3xk0",
        "outputId": "f092b604-22ac-4f7d-e7a4-b6f2c36086ad"
      },
      "source": [
        "diff(sin(x**1/2),x)"
      ],
      "execution_count": null,
      "outputs": [
        {
          "output_type": "execute_result",
          "data": {
            "text/latex": "$\\displaystyle \\frac{\\cos{\\left(\\frac{x}{2} \\right)}}{2}$",
            "text/plain": [
              "cos(x/2)/2"
            ]
          },
          "metadata": {
            "tags": []
          },
          "execution_count": 167
        }
      ]
    },
    {
      "cell_type": "code",
      "metadata": {
        "id": "iUUOx30F3xnl"
      },
      "source": [
        ""
      ],
      "execution_count": null,
      "outputs": []
    },
    {
      "cell_type": "markdown",
      "metadata": {
        "id": "enI2NqSW4bjJ"
      },
      "source": [
        "###Logarithms"
      ]
    },
    {
      "cell_type": "markdown",
      "metadata": {
        "id": "lOtS3o1g9U6S"
      },
      "source": [
        "We should use math library to study on Logarithms too,"
      ]
    },
    {
      "cell_type": "code",
      "metadata": {
        "id": "VrN83JJQ9RdU"
      },
      "source": [
        "from math import * # this is how we called it\n",
        "import sympy as sp"
      ],
      "execution_count": null,
      "outputs": []
    },
    {
      "cell_type": "code",
      "metadata": {
        "colab": {
          "base_uri": "https://localhost:8080/",
          "height": 51
        },
        "id": "Bu2jF0Lq-e12",
        "outputId": "06ccb190-10a0-4319-be5e-dda6ada5a5ff"
      },
      "source": [
        "sp.diff(sp.log(x)) #base is \"e\" so log(x) = lnx in this situation"
      ],
      "execution_count": null,
      "outputs": [
        {
          "output_type": "execute_result",
          "data": {
            "text/latex": "$\\displaystyle \\frac{1}{x}$",
            "text/plain": [
              "1/x"
            ]
          },
          "metadata": {
            "tags": []
          },
          "execution_count": 169
        }
      ]
    },
    {
      "cell_type": "code",
      "metadata": {
        "colab": {
          "base_uri": "https://localhost:8080/",
          "height": 37
        },
        "id": "Om38hIJlFzDG",
        "outputId": "018100df-16c2-4602-b86e-8690721b6980"
      },
      "source": [
        "y =sp.log(x)-sp.log(-x)\n",
        "sp.diff(y)"
      ],
      "execution_count": null,
      "outputs": [
        {
          "output_type": "execute_result",
          "data": {
            "text/latex": "$\\displaystyle 0$",
            "text/plain": [
              "0"
            ]
          },
          "metadata": {
            "tags": []
          },
          "execution_count": 170
        }
      ]
    },
    {
      "cell_type": "code",
      "metadata": {
        "colab": {
          "base_uri": "https://localhost:8080/",
          "height": 52
        },
        "id": "AJV7T-ng-3lH",
        "outputId": "efc56968-74ff-4aff-ca8c-7a00c2b19bc2"
      },
      "source": [
        "y = sp.log(x)**2\n",
        "sp.diff(y)"
      ],
      "execution_count": null,
      "outputs": [
        {
          "output_type": "execute_result",
          "data": {
            "text/latex": "$\\displaystyle \\frac{2 \\log{\\left(x \\right)}}{x}$",
            "text/plain": [
              "2*log(x)/x"
            ]
          },
          "metadata": {
            "tags": []
          },
          "execution_count": 171
        }
      ]
    },
    {
      "cell_type": "code",
      "metadata": {
        "colab": {
          "base_uri": "https://localhost:8080/",
          "height": 52
        },
        "id": "kpwQg4VVGYoe",
        "outputId": "9ae7f2bf-0744-4727-da53-fbd6d4181dd4"
      },
      "source": [
        "y = sp.log(x**2 + 1)\n",
        "sp.diff(y)\n"
      ],
      "execution_count": null,
      "outputs": [
        {
          "output_type": "execute_result",
          "data": {
            "text/latex": "$\\displaystyle \\frac{2 x}{x^{2} + 1}$",
            "text/plain": [
              "2*x/(x**2 + 1)"
            ]
          },
          "metadata": {
            "tags": []
          },
          "execution_count": 172
        }
      ]
    }
  ]
}