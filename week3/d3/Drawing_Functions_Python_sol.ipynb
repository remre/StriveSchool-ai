{
  "nbformat": 4,
  "nbformat_minor": 5,
  "metadata": {
    "kernelspec": {
      "display_name": "Python 3",
      "language": "python",
      "name": "python3"
    },
    "language_info": {
      "codemirror_mode": {
        "name": "ipython",
        "version": 3
      },
      "file_extension": ".py",
      "mimetype": "text/x-python",
      "name": "python",
      "nbconvert_exporter": "python",
      "pygments_lexer": "ipython3",
      "version": "3.9.5"
    },
    "varInspector": {
      "cols": {
        "lenName": 16,
        "lenType": 16,
        "lenVar": 40
      },
      "kernels_config": {
        "python": {
          "delete_cmd_postfix": "",
          "delete_cmd_prefix": "del ",
          "library": "var_list.py",
          "varRefreshCmd": "print(var_dic_list())"
        },
        "r": {
          "delete_cmd_postfix": ") ",
          "delete_cmd_prefix": "rm(",
          "library": "var_list.r",
          "varRefreshCmd": "cat(var_dic_list()) "
        }
      },
      "types_to_exclude": [
        "module",
        "function",
        "builtin_function_or_method",
        "instance",
        "_Feature"
      ],
      "window_display": false
    },
    "colab": {
      "name": "Drawing_Functions_Python_sol.ipynb",
      "provenance": [],
      "include_colab_link": true
    }
  },
  "cells": [
    {
      "cell_type": "markdown",
      "metadata": {
        "id": "view-in-github",
        "colab_type": "text"
      },
      "source": [
        "<a href=\"https://colab.research.google.com/github/remre/StriveSchool-ai/blob/main/week3/d3/Drawing_Functions_Python_sol.ipynb\" target=\"_parent\"><img src=\"https://colab.research.google.com/assets/colab-badge.svg\" alt=\"Open In Colab\"/></a>"
      ]
    },
    {
      "cell_type": "markdown",
      "metadata": {
        "id": "cf93e220"
      },
      "source": [
        "## How to draw functions in Python\n",
        "\n",
        "When you start developing a Machine Learning model, it is usally convenient either to work with toy datasets (small datasets on which you can perform the desired task, but not complicated) or to generate a synthetic dataset to test your model on.\n",
        "\n",
        "So, even if it's not a \"required skill\" to become a Data Scientist, it's always good to know ho to play with mathematical objects, also because it gives you a better understanding of the problem.\n",
        "\n",
        "As usual in Python, let's start by importing the `numpy` and `matplotlib` libraries: "
      ],
      "id": "cf93e220"
    },
    {
      "cell_type": "code",
      "metadata": {
        "ExecuteTime": {
          "end_time": "2021-07-14T08:21:07.123096Z",
          "start_time": "2021-07-14T08:21:07.112007Z"
        },
        "id": "b1e652ce"
      },
      "source": [
        "import numpy as np\n",
        "import matplotlib.pyplot as plt"
      ],
      "id": "b1e652ce",
      "execution_count": 1,
      "outputs": []
    },
    {
      "cell_type": "markdown",
      "metadata": {
        "id": "1b326c14"
      },
      "source": [
        "When you define a line in Math, you usually use a formula like the following:\n",
        "\n",
        "$$ y = 2x+5$$\n",
        "\n",
        "then, to draw it, you usually assign two values to $x$ and see the corresponding value of $y$:\n",
        "\n",
        "| x | y |\n",
        "|---|---|\n",
        "| 0 | 5 |\n",
        "| 1 | 15|\n",
        "\n",
        "Now you can plot the two points on your carthesian plane and draw a line between them, maybe using dashes at the extreme of the line to give a sense of \"infinity\" somehow.\n",
        "\n",
        "We can do it in Python too, by using `plt.plot()` function:"
      ],
      "id": "1b326c14"
    },
    {
      "cell_type": "code",
      "metadata": {
        "ExecuteTime": {
          "end_time": "2021-07-14T08:23:32.580333Z",
          "start_time": "2021-07-14T08:23:32.483488Z"
        },
        "id": "3ae30fd4",
        "colab": {
          "base_uri": "https://localhost:8080/",
          "height": 283
        },
        "outputId": "c5323c61-6cf0-40f1-fcbf-b63190793dd6"
      },
      "source": [
        "plt.plot([0,1], [5,15])"
      ],
      "id": "3ae30fd4",
      "execution_count": null,
      "outputs": [
        {
          "output_type": "execute_result",
          "data": {
            "text/plain": [
              "[<matplotlib.lines.Line2D at 0x7fd30bcaf610>]"
            ]
          },
          "metadata": {
            "tags": []
          },
          "execution_count": 3
        },
        {
          "output_type": "display_data",
          "data": {
            "image/png": "[encoded data removed]",
            "text/plain": [
              "<Figure size 432x288 with 1 Axes>"
            ]
          },
          "metadata": {
            "tags": [],
            "needs_background": "light"
          }
        }
      ]
    },
    {
      "cell_type": "markdown",
      "metadata": {
        "id": "da46ec5b"
      },
      "source": [
        "But what if you want to draw a more complicate curve? It's an hard task if you do it on paper. For example: let's say that you want to draw $sin(x)$. Ok, you know how it looks like. It's like a wave. You just need to remember what is the value of $sin(0)$ (*i.e.* 0) and the rest is kinda free.\n",
        "\n",
        "How do you communicate it to a computer? It doesn't have your drawing skills (yet)!\n",
        "\n",
        "However, the previous idea is fine: assign values to the $x$ and check the value of the $y$. Let's try with some value:\n",
        "\n",
        "$$y = sin(x)$$\n",
        "\n",
        "| x  | y |\n",
        "|----|---|\n",
        "| 0  | 0 |\n",
        "| π/2| 1 |\n",
        "| π  | 0 |\n",
        "|3/2π| -1|\n",
        "| 2π | 0 |\n"
      ],
      "id": "da46ec5b"
    },
    {
      "cell_type": "code",
      "metadata": {
        "ExecuteTime": {
          "end_time": "2021-07-14T08:50:42.837590Z",
          "start_time": "2021-07-14T08:50:42.833148Z"
        },
        "id": "65e03394"
      },
      "source": [
        "x = [0, np.pi/2, np.pi, 3/2*np.pi, 2*np.pi]\n",
        "y = [0, 1, 0, -1, 0]"
      ],
      "id": "65e03394",
      "execution_count": null,
      "outputs": []
    },
    {
      "cell_type": "code",
      "metadata": {
        "id": "kT4adYO4OEiM"
      },
      "source": [
        "import numpy as np\n",
        "import matplotlib.pyplot as plt\n",
        "from sympy import *\n"
      ],
      "id": "kT4adYO4OEiM",
      "execution_count": 2,
      "outputs": []
    },
    {
      "cell_type": "code",
      "metadata": {
        "ExecuteTime": {
          "end_time": "2021-07-14T08:50:50.647419Z",
          "start_time": "2021-07-14T08:50:50.530317Z"
        },
        "id": "1117de0d",
        "colab": {
          "base_uri": "https://localhost:8080/",
          "height": 283
        },
        "outputId": "4676dc09-825d-45c5-aafb-5fbdafb9bfad"
      },
      "source": [
        "plt.plot(x,y)"
      ],
      "id": "1117de0d",
      "execution_count": null,
      "outputs": [
        {
          "output_type": "execute_result",
          "data": {
            "text/plain": [
              "[<matplotlib.lines.Line2D at 0x7fd309fb13d0>]"
            ]
          },
          "metadata": {
            "tags": []
          },
          "execution_count": 7
        },
        {
          "output_type": "display_data",
          "data": {
            "image/png": "[encoded data removed]",
            "text/plain": [
              "<Figure size 432x288 with 1 Axes>"
            ]
          },
          "metadata": {
            "tags": [],
            "needs_background": "light"
          }
        }
      ]
    },
    {
      "cell_type": "markdown",
      "metadata": {
        "id": "02af3c1e"
      },
      "source": [
        "It doesn't look like a sinusoid :(\n",
        "But I like the idea. Stick with it. Add more points.\n",
        "\n",
        "| x  | y |\n",
        "|----|---|\n",
        "| 0  | 0 |\n",
        "| π/4| √2/2 |\n",
        "| π/2| 1 |\n",
        "|3/4π | √2/2 |\n",
        "| π  | 0 |\n",
        "|5/4π | -√2/2|\n",
        "|3/2π| -1|\n",
        "|7/4π | -√2/2 |\n",
        "| 2π | 0 |\n",
        "\n"
      ],
      "id": "02af3c1e"
    },
    {
      "cell_type": "code",
      "metadata": {
        "ExecuteTime": {
          "end_time": "2021-07-14T09:13:11.135526Z",
          "start_time": "2021-07-14T09:13:11.129037Z"
        },
        "id": "95ee3fc0"
      },
      "source": [
        "x = [0, np.pi/4, np.pi/2, 3/4*np.pi, np.pi, 5/4*np.pi, 3/2*np.pi, 7/4*np.pi, 2*np.pi]\n",
        "y = [0, np.sqrt(2)/2, 1, np.sqrt(2)/2, 0, -np.sqrt(2)/2, -1, - np.sqrt(2)/2, 0]"
      ],
      "id": "95ee3fc0",
      "execution_count": null,
      "outputs": []
    },
    {
      "cell_type": "code",
      "metadata": {
        "ExecuteTime": {
          "end_time": "2021-07-14T09:13:11.739222Z",
          "start_time": "2021-07-14T09:13:11.620719Z"
        },
        "id": "50894017",
        "colab": {
          "base_uri": "https://localhost:8080/",
          "height": 283
        },
        "outputId": "3ad5217e-edc1-4304-e10b-e18cad75da7b"
      },
      "source": [
        "plt.plot(x,y)"
      ],
      "id": "50894017",
      "execution_count": null,
      "outputs": [
        {
          "output_type": "execute_result",
          "data": {
            "text/plain": [
              "[<matplotlib.lines.Line2D at 0x7fd309faa710>]"
            ]
          },
          "metadata": {
            "tags": []
          },
          "execution_count": 9
        },
        {
          "output_type": "display_data",
          "data": {
            "image/png": "[encoded data removed]",
            "text/plain": [
              "<Figure size 432x288 with 1 Axes>"
            ]
          },
          "metadata": {
            "tags": [],
            "needs_background": "light"
          }
        }
      ]
    },
    {
      "cell_type": "markdown",
      "metadata": {
        "id": "839e0e31"
      },
      "source": [
        "We are getting closer! If we could find 1000 points, maybe... it would look better...\n",
        "\n",
        "There's a way to do it! Look at this: https://numpy.org/doc/stable/reference/generated/numpy.linspace.html\n",
        "\n"
      ],
      "id": "839e0e31"
    },
    {
      "cell_type": "code",
      "metadata": {
        "ExecuteTime": {
          "end_time": "2021-07-14T09:13:54.650232Z",
          "start_time": "2021-07-14T09:13:54.621346Z"
        },
        "id": "47599123"
      },
      "source": [
        "x = np.linspace(0,2*np.pi, 1000)\n",
        "x"
      ],
      "id": "47599123",
      "execution_count": null,
      "outputs": []
    },
    {
      "cell_type": "code",
      "metadata": {
        "id": "Wpma3fpaOaLa"
      },
      "source": [
        ""
      ],
      "id": "Wpma3fpaOaLa",
      "execution_count": null,
      "outputs": []
    },
    {
      "cell_type": "markdown",
      "metadata": {
        "id": "3bec5962"
      },
      "source": [
        "So our `x` in the cell above contains 1000 points equally spaced between 0 and 2π! How do we compute the value of the $sin$ for each of them? Well:"
      ],
      "id": "3bec5962"
    },
    {
      "cell_type": "code",
      "metadata": {
        "ExecuteTime": {
          "end_time": "2021-07-14T09:14:54.223587Z",
          "start_time": "2021-07-14T09:14:54.219673Z"
        },
        "id": "bf9283b2"
      },
      "source": [
        "y = np.sin(x)"
      ],
      "id": "bf9283b2",
      "execution_count": null,
      "outputs": []
    },
    {
      "cell_type": "code",
      "metadata": {
        "ExecuteTime": {
          "end_time": "2021-07-14T09:14:55.893744Z",
          "start_time": "2021-07-14T09:14:55.866556Z"
        },
        "id": "03f2575b"
      },
      "source": [
        "y"
      ],
      "id": "03f2575b",
      "execution_count": null,
      "outputs": []
    },
    {
      "cell_type": "markdown",
      "metadata": {
        "id": "b33eae5e"
      },
      "source": [
        "Hooray! We have 1000 points now! Let's plot them:"
      ],
      "id": "b33eae5e"
    },
    {
      "cell_type": "code",
      "metadata": {
        "ExecuteTime": {
          "end_time": "2021-07-14T09:15:59.469957Z",
          "start_time": "2021-07-14T09:15:59.360299Z"
        },
        "id": "6ce8516a",
        "colab": {
          "base_uri": "https://localhost:8080/",
          "height": 283
        },
        "outputId": "79a0e57d-b9b1-4f82-a4f5-094e0ffea6de"
      },
      "source": [
        "plt.plot(x,y)"
      ],
      "id": "6ce8516a",
      "execution_count": null,
      "outputs": [
        {
          "output_type": "execute_result",
          "data": {
            "text/plain": [
              "[<matplotlib.lines.Line2D at 0x7fd30a061790>]"
            ]
          },
          "metadata": {
            "tags": []
          },
          "execution_count": 16
        },
        {
          "output_type": "display_data",
          "data": {
            "image/png": "[encoded data removed]",
            "text/plain": [
              "<Figure size 432x288 with 1 Axes>"
            ]
          },
          "metadata": {
            "tags": [],
            "needs_background": "light"
          }
        }
      ]
    },
    {
      "cell_type": "markdown",
      "metadata": {
        "id": "3961078c"
      },
      "source": [
        "Well done! Time to watch this: https://www.youtube.com/watch?v=rlM7gsUY9Gw\n",
        "\n",
        "*10 hours later...*\n",
        "\n",
        "\n",
        "Let's have fun extending the interval of x:"
      ],
      "id": "3961078c"
    },
    {
      "cell_type": "code",
      "metadata": {
        "ExecuteTime": {
          "end_time": "2021-07-14T09:18:32.219969Z",
          "start_time": "2021-07-14T09:18:32.204391Z"
        },
        "id": "0b176e8d"
      },
      "source": [
        "x = np.linspace(-10*np.pi, 10*np.pi, 1000)\n",
        "y = np.sin(x)"
      ],
      "id": "0b176e8d",
      "execution_count": null,
      "outputs": []
    },
    {
      "cell_type": "code",
      "metadata": {
        "ExecuteTime": {
          "end_time": "2021-07-14T09:18:39.545415Z",
          "start_time": "2021-07-14T09:18:39.423931Z"
        },
        "id": "23d49702",
        "outputId": "568577c7-6afc-4d74-d00b-675adca8ba10"
      },
      "source": [
        "plt.plot(x, y)"
      ],
      "id": "23d49702",
      "execution_count": null,
      "outputs": [
        {
          "output_type": "execute_result",
          "data": {
            "text/plain": [
              "[<matplotlib.lines.Line2D at 0x7fb7080b49a0>]"
            ]
          },
          "metadata": {
            "tags": []
          },
          "execution_count": 175
        },
        {
          "output_type": "display_data",
          "data": {
            "image/png": "[encoded data removed]",
            "text/plain": [
              "<Figure size 432x288 with 1 Axes>"
            ]
          },
          "metadata": {
            "tags": [],
            "needs_background": "light"
          }
        }
      ]
    },
    {
      "cell_type": "markdown",
      "metadata": {
        "id": "9d85312a"
      },
      "source": [
        "The cool thing is that you can repeat this reasoning for many functions! Let's see this for a parabola:\n",
        "\n",
        "$$y=x^{2}$$"
      ],
      "id": "9d85312a"
    },
    {
      "cell_type": "code",
      "metadata": {
        "ExecuteTime": {
          "end_time": "2021-07-14T09:22:47.423947Z",
          "start_time": "2021-07-14T09:22:47.419870Z"
        },
        "id": "23326744"
      },
      "source": [
        "x = np.linspace(-50,50, 1000)\n",
        "y = x**2"
      ],
      "id": "23326744",
      "execution_count": null,
      "outputs": []
    },
    {
      "cell_type": "code",
      "metadata": {
        "ExecuteTime": {
          "end_time": "2021-07-14T09:22:48.842917Z",
          "start_time": "2021-07-14T09:22:48.743303Z"
        },
        "id": "26e3e413",
        "outputId": "40620fae-907f-4f8b-d1aa-3704398f891b"
      },
      "source": [
        "plt.plot(x,y)"
      ],
      "id": "26e3e413",
      "execution_count": null,
      "outputs": [
        {
          "output_type": "execute_result",
          "data": {
            "text/plain": [
              "[<matplotlib.lines.Line2D at 0x7fb742848f40>]"
            ]
          },
          "metadata": {
            "tags": []
          },
          "execution_count": 181
        },
        {
          "output_type": "display_data",
          "data": {
            "image/png": "[encoded data removed]",
            "text/plain": [
              "<Figure size 432x288 with 1 Axes>"
            ]
          },
          "metadata": {
            "tags": [],
            "needs_background": "light"
          }
        }
      ]
    },
    {
      "cell_type": "markdown",
      "metadata": {
        "id": "dbfeab36"
      },
      "source": [
        "What about this?\n",
        "\n",
        "$$y = \\cos(-x^{9}) - \\log(x^{6}) + \\sin(\\pi x^{2}) + \\cos(2\\pi x)+ \\frac{\\sqrt{2}}{\\pi}$$"
      ],
      "id": "dbfeab36"
    },
    {
      "cell_type": "code",
      "metadata": {
        "ExecuteTime": {
          "end_time": "2021-07-14T11:17:12.617995Z",
          "start_time": "2021-07-14T11:17:12.607447Z"
        },
        "id": "bce33d41"
      },
      "source": [
        "x = np.linspace(-100, 100, 1000)\n",
        "y = np.cos(-x**9) -np.log(x**6) + np.sin(np.pi*x**2) - np.sin(x) + np.cos(np.pi*2*x) + np.sqrt(2)/np.pi"
      ],
      "id": "bce33d41",
      "execution_count": null,
      "outputs": []
    },
    {
      "cell_type": "code",
      "metadata": {
        "ExecuteTime": {
          "end_time": "2021-07-14T11:17:13.246476Z",
          "start_time": "2021-07-14T11:17:13.138693Z"
        },
        "id": "90b6847e",
        "outputId": "4ebf7e7a-3866-4876-8bcd-7674e2028188"
      },
      "source": [
        "plt.plot(x, y)"
      ],
      "id": "90b6847e",
      "execution_count": null,
      "outputs": [
        {
          "output_type": "execute_result",
          "data": {
            "text/plain": [
              "[<matplotlib.lines.Line2D at 0x7fb740f86820>]"
            ]
          },
          "metadata": {
            "tags": []
          },
          "execution_count": 240
        },
        {
          "output_type": "display_data",
          "data": {
            "image/png": "[encoded data removed]",
            "text/plain": [
              "<Figure size 432x288 with 1 Axes>"
            ]
          },
          "metadata": {
            "tags": [],
            "needs_background": "light"
          }
        }
      ]
    },
    {
      "cell_type": "markdown",
      "metadata": {
        "id": "367463ca"
      },
      "source": [
        "It reminds me this: ![image](https://techweez.com/wp-content/uploads/2016/11/dog.jpg)"
      ],
      "id": "367463ca"
    },
    {
      "cell_type": "markdown",
      "metadata": {
        "ExecuteTime": {
          "end_time": "2021-07-14T11:30:02.351187Z",
          "start_time": "2021-07-14T11:30:02.341824Z"
        },
        "id": "d8858217"
      },
      "source": [
        "Draw the dog:"
      ],
      "id": "d8858217"
    },
    {
      "cell_type": "code",
      "metadata": {
        "ExecuteTime": {
          "end_time": "2021-07-14T11:29:07.322480Z",
          "start_time": "2021-07-14T11:29:07.210838Z"
        },
        "id": "f2258b33",
        "outputId": "2e26d941-51ee-4e44-bf10-1a771585a9c5"
      },
      "source": [
        "plt.plot(x, y)\n",
        "plt.scatter([0], [-20], c=\"r\")"
      ],
      "id": "f2258b33",
      "execution_count": null,
      "outputs": [
        {
          "output_type": "execute_result",
          "data": {
            "text/plain": [
              "<matplotlib.collections.PathCollection at 0x7fb742cd31c0>"
            ]
          },
          "metadata": {
            "tags": []
          },
          "execution_count": 250
        },
        {
          "output_type": "display_data",
          "data": {
            "image/png": "[encoded data removed]",
            "text/plain": [
              "<Figure size 432x288 with 1 Axes>"
            ]
          },
          "metadata": {
            "tags": [],
            "needs_background": "light"
          }
        }
      ]
    },
    {
      "cell_type": "markdown",
      "metadata": {
        "ExecuteTime": {
          "end_time": "2021-07-14T08:00:36.327577Z",
          "start_time": "2021-07-14T08:00:36.322454Z"
        },
        "id": "68478f59"
      },
      "source": [
        "## Derivative"
      ],
      "id": "68478f59"
    },
    {
      "cell_type": "markdown",
      "metadata": {
        "ExecuteTime": {
          "end_time": "2021-07-14T11:33:38.595181Z",
          "start_time": "2021-07-14T11:33:38.579690Z"
        },
        "id": "bfb9765b"
      },
      "source": [
        "We can compute the derivative of functions by using `scipy`:"
      ],
      "id": "bfb9765b"
    },
    {
      "cell_type": "code",
      "metadata": {
        "ExecuteTime": {
          "end_time": "2021-07-14T11:34:06.951090Z",
          "start_time": "2021-07-14T11:33:48.198366Z"
        },
        "id": "6c12fe4c"
      },
      "source": [
        "# On your terminal\n",
        "# conda install scipy"
      ],
      "id": "6c12fe4c",
      "execution_count": null,
      "outputs": []
    },
    {
      "cell_type": "code",
      "metadata": {
        "ExecuteTime": {
          "end_time": "2021-07-14T11:34:38.101062Z",
          "start_time": "2021-07-14T11:34:38.028901Z"
        },
        "id": "63923dd2"
      },
      "source": [
        "from scipy.misc import derivative"
      ],
      "id": "63923dd2",
      "execution_count": 10,
      "outputs": []
    },
    {
      "cell_type": "markdown",
      "metadata": {
        "id": "c973c5d7"
      },
      "source": [
        "Since the derivative is computed for a function, scipy asks us to wrap the formula we defined above into a function. Let's take the $\\sin$ for example:"
      ],
      "id": "c973c5d7"
    },
    {
      "cell_type": "code",
      "metadata": {
        "ExecuteTime": {
          "end_time": "2021-07-14T11:36:14.334285Z",
          "start_time": "2021-07-14T11:36:14.318942Z"
        },
        "id": "21412e8a"
      },
      "source": [
        "def sin(x):\n",
        "    return np.sin(x)"
      ],
      "id": "21412e8a",
      "execution_count": null,
      "outputs": []
    },
    {
      "cell_type": "markdown",
      "metadata": {
        "id": "aac93f5f"
      },
      "source": [
        "Cool, now let's compute the derivative of it in the point $\\pi$ by using:"
      ],
      "id": "aac93f5f"
    },
    {
      "cell_type": "code",
      "metadata": {
        "ExecuteTime": {
          "end_time": "2021-07-14T11:37:35.842075Z",
          "start_time": "2021-07-14T11:37:35.836807Z"
        },
        "id": "432631c2",
        "outputId": "f1a2a899-e6e4-4c46-801b-ebe35c2a1d6f"
      },
      "source": [
        "derivative(sin, np.pi, dx=1e-6)"
      ],
      "id": "432631c2",
      "execution_count": null,
      "outputs": [
        {
          "output_type": "execute_result",
          "data": {
            "text/plain": [
              "-1.0000000001396114"
            ]
          },
          "metadata": {
            "tags": []
          },
          "execution_count": 259
        }
      ]
    },
    {
      "cell_type": "markdown",
      "metadata": {
        "id": "abc55b08"
      },
      "source": [
        "Since we are using a computer, we need to deal with approximation. This is why you specify dx as well and this is why you don't get -1, but -1.0000000001396114. So, how can we draw it?\n",
        "\n",
        "We know that the derivative of $sin(x)$ is $cos(x)$. As we did before, we can define the values for $x$, then we compute the derivative of the function for those values too!"
      ],
      "id": "abc55b08"
    },
    {
      "cell_type": "code",
      "metadata": {
        "ExecuteTime": {
          "end_time": "2021-07-14T11:45:38.882878Z",
          "start_time": "2021-07-14T11:45:38.771849Z"
        },
        "id": "0b37e58d",
        "outputId": "3810572a-305e-41bd-9f3b-dd49db1fdd58"
      },
      "source": [
        "x = np.linspace(0,2*np.pi, 1000)\n",
        "plt.plot(x, sin(x))"
      ],
      "id": "0b37e58d",
      "execution_count": null,
      "outputs": [
        {
          "output_type": "execute_result",
          "data": {
            "text/plain": [
              "[<matplotlib.lines.Line2D at 0x7fb74b5ec250>]"
            ]
          },
          "metadata": {
            "tags": []
          },
          "execution_count": 263
        },
        {
          "output_type": "display_data",
          "data": {
            "image/png": "[encoded data removed]",
            "text/plain": [
              "<Figure size 432x288 with 1 Axes>"
            ]
          },
          "metadata": {
            "tags": [],
            "needs_background": "light"
          }
        }
      ]
    },
    {
      "cell_type": "code",
      "metadata": {
        "ExecuteTime": {
          "end_time": "2021-07-14T11:45:57.692273Z",
          "start_time": "2021-07-14T11:45:57.687925Z"
        },
        "id": "9bb95bb9"
      },
      "source": [
        "sin_derivative = derivative(sin, x, dx=1e-6)"
      ],
      "id": "9bb95bb9",
      "execution_count": null,
      "outputs": []
    },
    {
      "cell_type": "code",
      "metadata": {
        "ExecuteTime": {
          "end_time": "2021-07-14T11:46:04.712117Z",
          "start_time": "2021-07-14T11:46:04.586024Z"
        },
        "id": "deb636aa",
        "outputId": "7653a315-3dbe-41d4-889b-5cbdd3587019"
      },
      "source": [
        "plt.plot(x, sin_derivative)"
      ],
      "id": "deb636aa",
      "execution_count": null,
      "outputs": [
        {
          "output_type": "execute_result",
          "data": {
            "text/plain": [
              "[<matplotlib.lines.Line2D at 0x7fb75d68baf0>]"
            ]
          },
          "metadata": {
            "tags": []
          },
          "execution_count": 265
        },
        {
          "output_type": "display_data",
          "data": {
            "image/png": "[encoded data removed]",
            "text/plain": [
              "<Figure size 432x288 with 1 Axes>"
            ]
          },
          "metadata": {
            "tags": [],
            "needs_background": "light"
          }
        }
      ]
    },
    {
      "cell_type": "markdown",
      "metadata": {
        "id": "5d05dda3"
      },
      "source": [
        "Is that... cosine?? 😱"
      ],
      "id": "5d05dda3"
    },
    {
      "cell_type": "code",
      "metadata": {
        "ExecuteTime": {
          "end_time": "2021-07-14T11:46:59.251887Z",
          "start_time": "2021-07-14T11:46:59.138246Z"
        },
        "id": "868b7be3",
        "outputId": "ea7a9788-1ded-46a6-ba6e-c52e663dbedd"
      },
      "source": [
        "def cos(x):\n",
        "    return np.cos(x)\n",
        "\n",
        "plt.plot(x, cos(x))"
      ],
      "id": "868b7be3",
      "execution_count": null,
      "outputs": [
        {
          "output_type": "execute_result",
          "data": {
            "text/plain": [
              "[<matplotlib.lines.Line2D at 0x7fb742dc99d0>]"
            ]
          },
          "metadata": {
            "tags": []
          },
          "execution_count": 266
        },
        {
          "output_type": "display_data",
          "data": {
            "image/png": "[encoded data removed]",
            "text/plain": [
              "<Figure size 432x288 with 1 Axes>"
            ]
          },
          "metadata": {
            "tags": [],
            "needs_background": "light"
          }
        }
      ]
    },
    {
      "cell_type": "markdown",
      "metadata": {
        "id": "4b8a5833"
      },
      "source": [
        "They looks identifcal! Mission accomplished! Let's plot $sin(x)$ and its derivative in the same plot:"
      ],
      "id": "4b8a5833"
    },
    {
      "cell_type": "code",
      "metadata": {
        "ExecuteTime": {
          "end_time": "2021-07-14T11:48:04.926838Z",
          "start_time": "2021-07-14T11:48:04.800292Z"
        },
        "id": "24b1fe62",
        "outputId": "b6e57501-d305-4564-df71-68437fb5479e"
      },
      "source": [
        "plt.plot(x, sin(x))\n",
        "plt.plot(x, sin_derivative)\n",
        "plt.legend([\"sin\", \"derivative of sin\"])"
      ],
      "id": "24b1fe62",
      "execution_count": null,
      "outputs": [
        {
          "output_type": "execute_result",
          "data": {
            "text/plain": [
              "<matplotlib.legend.Legend at 0x7fb75ecd0400>"
            ]
          },
          "metadata": {
            "tags": []
          },
          "execution_count": 269
        },
        {
          "output_type": "display_data",
          "data": {
            "image/png": "[encoded data removed]",
            "text/plain": [
              "<Figure size 432x288 with 1 Axes>"
            ]
          },
          "metadata": {
            "tags": [],
            "needs_background": "light"
          }
        }
      ]
    },
    {
      "cell_type": "markdown",
      "metadata": {
        "ExecuteTime": {
          "end_time": "2021-07-14T08:00:38.366165Z",
          "start_time": "2021-07-14T08:00:38.361811Z"
        },
        "id": "ff4ea5cd"
      },
      "source": [
        "Let's try with $\\log(x)$:"
      ],
      "id": "ff4ea5cd"
    },
    {
      "cell_type": "code",
      "metadata": {
        "ExecuteTime": {
          "end_time": "2021-07-14T11:53:09.041709Z",
          "start_time": "2021-07-14T11:53:08.942541Z"
        },
        "id": "64bbca23",
        "colab": {
          "base_uri": "https://localhost:8080/",
          "height": 283
        },
        "outputId": "9b70d53f-14ff-4af8-a3e8-1a2c22771ee8"
      },
      "source": [
        "def log(x):\n",
        "    return np.log(x)\n",
        "\n",
        "x = np.linspace(1, 100, 1000)\n",
        "plt.plot(x, log(x))"
      ],
      "id": "64bbca23",
      "execution_count": null,
      "outputs": [
        {
          "output_type": "execute_result",
          "data": {
            "text/plain": [
              "[<matplotlib.lines.Line2D at 0x7fd2fc41bf90>]"
            ]
          },
          "metadata": {
            "tags": []
          },
          "execution_count": 120
        },
        {
          "output_type": "display_data",
          "data": {
            "image/png": "[encoded data removed]",
            "text/plain": [
              "<Figure size 432x288 with 1 Axes>"
            ]
          },
          "metadata": {
            "tags": [],
            "needs_background": "light"
          }
        }
      ]
    },
    {
      "cell_type": "code",
      "metadata": {
        "ExecuteTime": {
          "end_time": "2021-07-14T11:53:31.186216Z",
          "start_time": "2021-07-14T11:53:31.182139Z"
        },
        "id": "a955587d"
      },
      "source": [
        "log_derivative = derivative(log, x, dx=1e-6)"
      ],
      "id": "a955587d",
      "execution_count": null,
      "outputs": []
    },
    {
      "cell_type": "code",
      "metadata": {
        "ExecuteTime": {
          "end_time": "2021-07-14T11:53:40.837120Z",
          "start_time": "2021-07-14T11:53:40.737583Z"
        },
        "id": "e56b06b0",
        "colab": {
          "base_uri": "https://localhost:8080/",
          "height": 283
        },
        "outputId": "6cb776f6-63bb-4897-b354-8880a8fa3f48"
      },
      "source": [
        "plt.plot(x, log_derivative)"
      ],
      "id": "e56b06b0",
      "execution_count": null,
      "outputs": [
        {
          "output_type": "execute_result",
          "data": {
            "text/plain": [
              "[<matplotlib.lines.Line2D at 0x7fd2fc383b90>]"
            ]
          },
          "metadata": {
            "tags": []
          },
          "execution_count": 122
        },
        {
          "output_type": "display_data",
          "data": {
            "image/png": "[encoded data removed]",
            "text/plain": [
              "<Figure size 432x288 with 1 Axes>"
            ]
          },
          "metadata": {
            "tags": [],
            "needs_background": "light"
          }
        }
      ]
    },
    {
      "cell_type": "markdown",
      "metadata": {
        "id": "4ea899ad"
      },
      "source": [
        "That is actually the plot of $\\frac{1}{x}$!"
      ],
      "id": "4ea899ad"
    },
    {
      "cell_type": "markdown",
      "metadata": {
        "id": "03d48df7"
      },
      "source": [
        "## Exercises\n",
        "\n",
        "1. Plot the absolute value of x and its derivative. Choose an interval to have a nice looking shape."
      ],
      "id": "03d48df7"
    },
    {
      "cell_type": "code",
      "metadata": {
        "id": "99620b7c",
        "colab": {
          "base_uri": "https://localhost:8080/",
          "height": 283
        },
        "outputId": "d3981df8-f2b3-49d9-cfef-f951571d9586"
      },
      "source": [
        "x = np.linspace(1, 100, 1000)# interval actually doesnt matter at all in absolute values\n",
        "y =np.abs(x)\n",
        "plt.plot(x,y)\n"
      ],
      "id": "99620b7c",
      "execution_count": 3,
      "outputs": [
        {
          "output_type": "execute_result",
          "data": {
            "text/plain": [
              "[<matplotlib.lines.Line2D at 0x7f872ab9e690>]"
            ]
          },
          "metadata": {
            "tags": []
          },
          "execution_count": 3
        },
        {
          "output_type": "display_data",
          "data": {
            "image/png": "[encoded data removed]",
            "text/plain": [
              "<Figure size 432x288 with 1 Axes>"
            ]
          },
          "metadata": {
            "tags": [],
            "needs_background": "light"
          }
        }
      ]
    },
    {
      "cell_type": "code",
      "metadata": {
        "id": "g-1gmkkMWsr8"
      },
      "source": [
        "x = Symbol(\"x\")\n",
        "y =abs(x)\n",
        "y_prim = diff(y)\n",
        "plot_implicit(y_prim,x)#dont run it"
      ],
      "id": "g-1gmkkMWsr8",
      "execution_count": null,
      "outputs": []
    },
    {
      "cell_type": "code",
      "metadata": {
        "id": "47ZiHZsTXH_D",
        "colab": {
          "base_uri": "https://localhost:8080/",
          "height": 315
        },
        "outputId": "a50cb0fb-6b07-4708-b08c-63ff59c717a8"
      },
      "source": [
        "x = Symbol(\"x\")\n",
        "y = (2*x**3)\n",
        "y_prim = diff(y)\n",
        "plot_implicit(y_prim,x)"
      ],
      "id": "47ZiHZsTXH_D",
      "execution_count": 6,
      "outputs": [
        {
          "output_type": "display_data",
          "data": {
            "image/png": "[encoded data removed]",
            "text/plain": [
              "<Figure size 432x288 with 1 Axes>"
            ]
          },
          "metadata": {
            "tags": [],
            "needs_background": "light"
          }
        },
        {
          "output_type": "execute_result",
          "data": {
            "text/plain": [
              "<sympy.plotting.plot.Plot at 0x7f872a3e9490>"
            ]
          },
          "metadata": {
            "tags": []
          },
          "execution_count": 6
        }
      ]
    },
    {
      "cell_type": "markdown",
      "metadata": {
        "id": "1a767759"
      },
      "source": [
        "2. Plot the function $x\\log(x)$ and its derivative."
      ],
      "id": "1a767759"
    },
    {
      "cell_type": "code",
      "metadata": {
        "id": "090e40b1",
        "colab": {
          "base_uri": "https://localhost:8080/",
          "height": 283
        },
        "outputId": "c6dad100-6a19-4907-b7f7-ab7f13ee08c7"
      },
      "source": [
        "def logg(x):\n",
        "    return x*np.log(x)\n",
        "\n",
        "x = np.linspace(1, 100, 1000)\n",
        "plt.plot(x, logg(x))\n",
        "\n"
      ],
      "id": "090e40b1",
      "execution_count": 8,
      "outputs": [
        {
          "output_type": "execute_result",
          "data": {
            "text/plain": [
              "[<matplotlib.lines.Line2D at 0x7f8728a58310>]"
            ]
          },
          "metadata": {
            "tags": []
          },
          "execution_count": 8
        },
        {
          "output_type": "display_data",
          "data": {
            "image/png": "[encoded data removed]",
            "text/plain": [
              "<Figure size 432x288 with 1 Axes>"
            ]
          },
          "metadata": {
            "tags": [],
            "needs_background": "light"
          }
        }
      ]
    },
    {
      "cell_type": "code",
      "metadata": {
        "id": "lqGemVPYa3NF",
        "colab": {
          "base_uri": "https://localhost:8080/",
          "height": 354
        },
        "outputId": "3d1c236a-5005-450b-ac42-0ff65acb08ab"
      },
      "source": [
        "ll_der = derivative(logg,x)\n",
        "plt.plot(x,ll_der)"
      ],
      "id": "lqGemVPYa3NF",
      "execution_count": 11,
      "outputs": [
        {
          "output_type": "stream",
          "text": [
            "/usr/local/lib/python3.7/dist-packages/ipykernel_launcher.py:2: RuntimeWarning: divide by zero encountered in log\n",
            "  \n",
            "/usr/local/lib/python3.7/dist-packages/ipykernel_launcher.py:2: RuntimeWarning: invalid value encountered in multiply\n",
            "  \n"
          ],
          "name": "stderr"
        },
        {
          "output_type": "execute_result",
          "data": {
            "text/plain": [
              "[<matplotlib.lines.Line2D at 0x7f87288312d0>]"
            ]
          },
          "metadata": {
            "tags": []
          },
          "execution_count": 11
        },
        {
          "output_type": "display_data",
          "data": {
            "image/png": "[encoded data removed]",
            "text/plain": [
              "<Figure size 432x288 with 1 Axes>"
            ]
          },
          "metadata": {
            "tags": [],
            "needs_background": "light"
          }
        }
      ]
    },
    {
      "cell_type": "code",
      "metadata": {
        "id": "L-LNjn9SVPVB",
        "colab": {
          "base_uri": "https://localhost:8080/",
          "height": 38
        },
        "outputId": "6e2b9624-7ea1-4b98-8231-7f8456c0f2b0"
      },
      "source": [
        "x = Symbol(\"x\")\n",
        "y = x*log(x)\n",
        "y_prim  = diff(y)\n",
        "y_prim\n"
      ],
      "id": "L-LNjn9SVPVB",
      "execution_count": 13,
      "outputs": [
        {
          "output_type": "execute_result",
          "data": {
            "text/latex": "$\\displaystyle \\log{\\left(x \\right)} + 1$",
            "text/plain": [
              "log(x) + 1"
            ]
          },
          "metadata": {
            "tags": []
          },
          "execution_count": 13
        }
      ]
    },
    {
      "cell_type": "markdown",
      "metadata": {
        "id": "b8048489"
      },
      "source": [
        "3. Plot the function $e^{x}\\log(x)+5$ and its derivative."
      ],
      "id": "b8048489"
    },
    {
      "cell_type": "code",
      "metadata": {
        "id": "htsl140JUujC"
      },
      "source": [
        ""
      ],
      "id": "htsl140JUujC",
      "execution_count": 13,
      "outputs": []
    },
    {
      "cell_type": "code",
      "metadata": {
        "id": "1762b113"
      },
      "source": [
        ""
      ],
      "id": "1762b113",
      "execution_count": null,
      "outputs": []
    },
    {
      "cell_type": "markdown",
      "metadata": {
        "id": "951f45e6"
      },
      "source": [
        "4.(Harder) Plot the function $\\sin(\\frac{1}{2}x)+2)$ in the interval \\[0, $2\\pi$\\]. Plot in the same graph both the function and the tangent line to the points in which the function has derivative = 0."
      ],
      "id": "951f45e6"
    },
    {
      "cell_type": "code",
      "metadata": {
        "id": "cc1c88fa",
        "colab": {
          "base_uri": "https://localhost:8080/",
          "height": 529
        },
        "outputId": "07703aa7-4834-4062-cdb4-cdd0ae98eaa6"
      },
      "source": [
        "def mimi(x):\n",
        "  return (sin(x/2)+2)\n",
        "\n",
        "x = np.linspace(0,2*np.pi,100)\n",
        "plt.plot(x,mimi(x))\n",
        "derv = derivative(mimi,x)\n",
        "plt.plot(x,derv)"
      ],
      "id": "cc1c88fa",
      "execution_count": 14,
      "outputs": [
        {
          "output_type": "error",
          "ename": "AttributeError",
          "evalue": "ignored",
          "traceback": [
            "\u001b[0;31m---------------------------------------------------------------------------\u001b[0m",
            "\u001b[0;31mTypeError\u001b[0m                                 Traceback (most recent call last)",
            "\u001b[0;32m/usr/local/lib/python3.7/dist-packages/sympy/core/cache.py\u001b[0m in \u001b[0;36mwrapper\u001b[0;34m(*args, **kwargs)\u001b[0m\n\u001b[1;32m     71\u001b[0m             \u001b[0;32mtry\u001b[0m\u001b[0;34m:\u001b[0m\u001b[0;34m\u001b[0m\u001b[0;34m\u001b[0m\u001b[0m\n\u001b[0;32m---> 72\u001b[0;31m                 \u001b[0mretval\u001b[0m \u001b[0;34m=\u001b[0m \u001b[0mcfunc\u001b[0m\u001b[0;34m(\u001b[0m\u001b[0;34m*\u001b[0m\u001b[0margs\u001b[0m\u001b[0;34m,\u001b[0m \u001b[0;34m**\u001b[0m\u001b[0mkwargs\u001b[0m\u001b[0;34m)\u001b[0m\u001b[0;34m\u001b[0m\u001b[0;34m\u001b[0m\u001b[0m\n\u001b[0m\u001b[1;32m     73\u001b[0m             \u001b[0;32mexcept\u001b[0m \u001b[0mTypeError\u001b[0m\u001b[0;34m:\u001b[0m\u001b[0;34m\u001b[0m\u001b[0;34m\u001b[0m\u001b[0m\n",
            "\u001b[0;31mTypeError\u001b[0m: unhashable type: 'numpy.ndarray'",
            "\nDuring handling of the above exception, another exception occurred:\n",
            "\u001b[0;31mTypeError\u001b[0m                                 Traceback (most recent call last)",
            "\u001b[0;32m/usr/local/lib/python3.7/dist-packages/sympy/core/cache.py\u001b[0m in \u001b[0;36mwrapper\u001b[0;34m(*args, **kwargs)\u001b[0m\n\u001b[1;32m     71\u001b[0m             \u001b[0;32mtry\u001b[0m\u001b[0;34m:\u001b[0m\u001b[0;34m\u001b[0m\u001b[0;34m\u001b[0m\u001b[0m\n\u001b[0;32m---> 72\u001b[0;31m                 \u001b[0mretval\u001b[0m \u001b[0;34m=\u001b[0m \u001b[0mcfunc\u001b[0m\u001b[0;34m(\u001b[0m\u001b[0;34m*\u001b[0m\u001b[0margs\u001b[0m\u001b[0;34m,\u001b[0m \u001b[0;34m**\u001b[0m\u001b[0mkwargs\u001b[0m\u001b[0;34m)\u001b[0m\u001b[0;34m\u001b[0m\u001b[0;34m\u001b[0m\u001b[0m\n\u001b[0m\u001b[1;32m     73\u001b[0m             \u001b[0;32mexcept\u001b[0m \u001b[0mTypeError\u001b[0m\u001b[0;34m:\u001b[0m\u001b[0;34m\u001b[0m\u001b[0;34m\u001b[0m\u001b[0m\n",
            "\u001b[0;31mTypeError\u001b[0m: unhashable type: 'numpy.ndarray'",
            "\nDuring handling of the above exception, another exception occurred:\n",
            "\u001b[0;31mAttributeError\u001b[0m                            Traceback (most recent call last)",
            "\u001b[0;32m<ipython-input-14-d808d7b96503>\u001b[0m in \u001b[0;36m<module>\u001b[0;34m()\u001b[0m\n\u001b[1;32m      3\u001b[0m \u001b[0;34m\u001b[0m\u001b[0m\n\u001b[1;32m      4\u001b[0m \u001b[0mx\u001b[0m \u001b[0;34m=\u001b[0m \u001b[0mnp\u001b[0m\u001b[0;34m.\u001b[0m\u001b[0mlinspace\u001b[0m\u001b[0;34m(\u001b[0m\u001b[0;36m0\u001b[0m\u001b[0;34m,\u001b[0m\u001b[0;36m2\u001b[0m\u001b[0;34m*\u001b[0m\u001b[0mnp\u001b[0m\u001b[0;34m.\u001b[0m\u001b[0mpi\u001b[0m\u001b[0;34m,\u001b[0m\u001b[0;36m100\u001b[0m\u001b[0;34m)\u001b[0m\u001b[0;34m\u001b[0m\u001b[0;34m\u001b[0m\u001b[0m\n\u001b[0;32m----> 5\u001b[0;31m \u001b[0mplt\u001b[0m\u001b[0;34m.\u001b[0m\u001b[0mplot\u001b[0m\u001b[0;34m(\u001b[0m\u001b[0mx\u001b[0m\u001b[0;34m,\u001b[0m\u001b[0mmimi\u001b[0m\u001b[0;34m(\u001b[0m\u001b[0mx\u001b[0m\u001b[0;34m)\u001b[0m\u001b[0;34m)\u001b[0m\u001b[0;34m\u001b[0m\u001b[0;34m\u001b[0m\u001b[0m\n\u001b[0m\u001b[1;32m      6\u001b[0m \u001b[0mderv\u001b[0m \u001b[0;34m=\u001b[0m \u001b[0mderivative\u001b[0m\u001b[0;34m(\u001b[0m\u001b[0mmimi\u001b[0m\u001b[0;34m,\u001b[0m\u001b[0mx\u001b[0m\u001b[0;34m)\u001b[0m\u001b[0;34m\u001b[0m\u001b[0;34m\u001b[0m\u001b[0m\n\u001b[1;32m      7\u001b[0m \u001b[0mplt\u001b[0m\u001b[0;34m.\u001b[0m\u001b[0mplot\u001b[0m\u001b[0;34m(\u001b[0m\u001b[0mx\u001b[0m\u001b[0;34m,\u001b[0m\u001b[0mderv\u001b[0m\u001b[0;34m)\u001b[0m\u001b[0;34m\u001b[0m\u001b[0;34m\u001b[0m\u001b[0m\n",
            "\u001b[0;32m<ipython-input-14-d808d7b96503>\u001b[0m in \u001b[0;36mmimi\u001b[0;34m(x)\u001b[0m\n\u001b[1;32m      1\u001b[0m \u001b[0;32mdef\u001b[0m \u001b[0mmimi\u001b[0m\u001b[0;34m(\u001b[0m\u001b[0mx\u001b[0m\u001b[0;34m)\u001b[0m\u001b[0;34m:\u001b[0m\u001b[0;34m\u001b[0m\u001b[0;34m\u001b[0m\u001b[0m\n\u001b[0;32m----> 2\u001b[0;31m   \u001b[0;32mreturn\u001b[0m \u001b[0;34m(\u001b[0m\u001b[0msin\u001b[0m\u001b[0;34m(\u001b[0m\u001b[0mx\u001b[0m\u001b[0;34m/\u001b[0m\u001b[0;36m2\u001b[0m\u001b[0;34m)\u001b[0m\u001b[0;34m+\u001b[0m\u001b[0;36m2\u001b[0m\u001b[0;34m)\u001b[0m\u001b[0;34m\u001b[0m\u001b[0;34m\u001b[0m\u001b[0m\n\u001b[0m\u001b[1;32m      3\u001b[0m \u001b[0;34m\u001b[0m\u001b[0m\n\u001b[1;32m      4\u001b[0m \u001b[0mx\u001b[0m \u001b[0;34m=\u001b[0m \u001b[0mnp\u001b[0m\u001b[0;34m.\u001b[0m\u001b[0mlinspace\u001b[0m\u001b[0;34m(\u001b[0m\u001b[0;36m0\u001b[0m\u001b[0;34m,\u001b[0m\u001b[0;36m2\u001b[0m\u001b[0;34m*\u001b[0m\u001b[0mnp\u001b[0m\u001b[0;34m.\u001b[0m\u001b[0mpi\u001b[0m\u001b[0;34m,\u001b[0m\u001b[0;36m100\u001b[0m\u001b[0;34m)\u001b[0m\u001b[0;34m\u001b[0m\u001b[0;34m\u001b[0m\u001b[0m\n\u001b[1;32m      5\u001b[0m \u001b[0mplt\u001b[0m\u001b[0;34m.\u001b[0m\u001b[0mplot\u001b[0m\u001b[0;34m(\u001b[0m\u001b[0mx\u001b[0m\u001b[0;34m,\u001b[0m\u001b[0mmimi\u001b[0m\u001b[0;34m(\u001b[0m\u001b[0mx\u001b[0m\u001b[0;34m)\u001b[0m\u001b[0;34m)\u001b[0m\u001b[0;34m\u001b[0m\u001b[0;34m\u001b[0m\u001b[0m\n",
            "\u001b[0;32m/usr/local/lib/python3.7/dist-packages/sympy/core/cache.py\u001b[0m in \u001b[0;36mwrapper\u001b[0;34m(*args, **kwargs)\u001b[0m\n\u001b[1;32m     72\u001b[0m                 \u001b[0mretval\u001b[0m \u001b[0;34m=\u001b[0m \u001b[0mcfunc\u001b[0m\u001b[0;34m(\u001b[0m\u001b[0;34m*\u001b[0m\u001b[0margs\u001b[0m\u001b[0;34m,\u001b[0m \u001b[0;34m**\u001b[0m\u001b[0mkwargs\u001b[0m\u001b[0;34m)\u001b[0m\u001b[0;34m\u001b[0m\u001b[0;34m\u001b[0m\u001b[0m\n\u001b[1;32m     73\u001b[0m             \u001b[0;32mexcept\u001b[0m \u001b[0mTypeError\u001b[0m\u001b[0;34m:\u001b[0m\u001b[0;34m\u001b[0m\u001b[0;34m\u001b[0m\u001b[0m\n\u001b[0;32m---> 74\u001b[0;31m                 \u001b[0mretval\u001b[0m \u001b[0;34m=\u001b[0m \u001b[0mfunc\u001b[0m\u001b[0;34m(\u001b[0m\u001b[0;34m*\u001b[0m\u001b[0margs\u001b[0m\u001b[0;34m,\u001b[0m \u001b[0;34m**\u001b[0m\u001b[0mkwargs\u001b[0m\u001b[0;34m)\u001b[0m\u001b[0;34m\u001b[0m\u001b[0;34m\u001b[0m\u001b[0m\n\u001b[0m\u001b[1;32m     75\u001b[0m             \u001b[0;32mreturn\u001b[0m \u001b[0mretval\u001b[0m\u001b[0;34m\u001b[0m\u001b[0;34m\u001b[0m\u001b[0m\n\u001b[1;32m     76\u001b[0m \u001b[0;34m\u001b[0m\u001b[0m\n",
            "\u001b[0;32m/usr/local/lib/python3.7/dist-packages/sympy/core/function.py\u001b[0m in \u001b[0;36m__new__\u001b[0;34m(cls, *args, **options)\u001b[0m\n\u001b[1;32m    471\u001b[0m \u001b[0;34m\u001b[0m\u001b[0m\n\u001b[1;32m    472\u001b[0m         \u001b[0mevaluate\u001b[0m \u001b[0;34m=\u001b[0m \u001b[0moptions\u001b[0m\u001b[0;34m.\u001b[0m\u001b[0mget\u001b[0m\u001b[0;34m(\u001b[0m\u001b[0;34m'evaluate'\u001b[0m\u001b[0;34m,\u001b[0m \u001b[0mglobal_parameters\u001b[0m\u001b[0;34m.\u001b[0m\u001b[0mevaluate\u001b[0m\u001b[0;34m)\u001b[0m\u001b[0;34m\u001b[0m\u001b[0;34m\u001b[0m\u001b[0m\n\u001b[0;32m--> 473\u001b[0;31m         \u001b[0mresult\u001b[0m \u001b[0;34m=\u001b[0m \u001b[0msuper\u001b[0m\u001b[0;34m(\u001b[0m\u001b[0;34m)\u001b[0m\u001b[0;34m.\u001b[0m\u001b[0m__new__\u001b[0m\u001b[0;34m(\u001b[0m\u001b[0mcls\u001b[0m\u001b[0;34m,\u001b[0m \u001b[0;34m*\u001b[0m\u001b[0margs\u001b[0m\u001b[0;34m,\u001b[0m \u001b[0;34m**\u001b[0m\u001b[0moptions\u001b[0m\u001b[0;34m)\u001b[0m\u001b[0;34m\u001b[0m\u001b[0;34m\u001b[0m\u001b[0m\n\u001b[0m\u001b[1;32m    474\u001b[0m         \u001b[0;32mif\u001b[0m \u001b[0mevaluate\u001b[0m \u001b[0;32mand\u001b[0m \u001b[0misinstance\u001b[0m\u001b[0;34m(\u001b[0m\u001b[0mresult\u001b[0m\u001b[0;34m,\u001b[0m \u001b[0mcls\u001b[0m\u001b[0;34m)\u001b[0m \u001b[0;32mand\u001b[0m \u001b[0mresult\u001b[0m\u001b[0;34m.\u001b[0m\u001b[0margs\u001b[0m\u001b[0;34m:\u001b[0m\u001b[0;34m\u001b[0m\u001b[0;34m\u001b[0m\u001b[0m\n\u001b[1;32m    475\u001b[0m             \u001b[0mpr2\u001b[0m \u001b[0;34m=\u001b[0m \u001b[0mmin\u001b[0m\u001b[0;34m(\u001b[0m\u001b[0mcls\u001b[0m\u001b[0;34m.\u001b[0m\u001b[0m_should_evalf\u001b[0m\u001b[0;34m(\u001b[0m\u001b[0ma\u001b[0m\u001b[0;34m)\u001b[0m \u001b[0;32mfor\u001b[0m \u001b[0ma\u001b[0m \u001b[0;32min\u001b[0m \u001b[0mresult\u001b[0m\u001b[0;34m.\u001b[0m\u001b[0margs\u001b[0m\u001b[0;34m)\u001b[0m\u001b[0;34m\u001b[0m\u001b[0;34m\u001b[0m\u001b[0m\n",
            "\u001b[0;32m/usr/local/lib/python3.7/dist-packages/sympy/core/cache.py\u001b[0m in \u001b[0;36mwrapper\u001b[0;34m(*args, **kwargs)\u001b[0m\n\u001b[1;32m     72\u001b[0m                 \u001b[0mretval\u001b[0m \u001b[0;34m=\u001b[0m \u001b[0mcfunc\u001b[0m\u001b[0;34m(\u001b[0m\u001b[0;34m*\u001b[0m\u001b[0margs\u001b[0m\u001b[0;34m,\u001b[0m \u001b[0;34m**\u001b[0m\u001b[0mkwargs\u001b[0m\u001b[0;34m)\u001b[0m\u001b[0;34m\u001b[0m\u001b[0;34m\u001b[0m\u001b[0m\n\u001b[1;32m     73\u001b[0m             \u001b[0;32mexcept\u001b[0m \u001b[0mTypeError\u001b[0m\u001b[0;34m:\u001b[0m\u001b[0;34m\u001b[0m\u001b[0;34m\u001b[0m\u001b[0m\n\u001b[0;32m---> 74\u001b[0;31m                 \u001b[0mretval\u001b[0m \u001b[0;34m=\u001b[0m \u001b[0mfunc\u001b[0m\u001b[0;34m(\u001b[0m\u001b[0;34m*\u001b[0m\u001b[0margs\u001b[0m\u001b[0;34m,\u001b[0m \u001b[0;34m**\u001b[0m\u001b[0mkwargs\u001b[0m\u001b[0;34m)\u001b[0m\u001b[0;34m\u001b[0m\u001b[0;34m\u001b[0m\u001b[0m\n\u001b[0m\u001b[1;32m     75\u001b[0m             \u001b[0;32mreturn\u001b[0m \u001b[0mretval\u001b[0m\u001b[0;34m\u001b[0m\u001b[0;34m\u001b[0m\u001b[0m\n\u001b[1;32m     76\u001b[0m \u001b[0;34m\u001b[0m\u001b[0m\n",
            "\u001b[0;32m/usr/local/lib/python3.7/dist-packages/sympy/core/function.py\u001b[0m in \u001b[0;36m__new__\u001b[0;34m(cls, *args, **options)\u001b[0m\n\u001b[1;32m    283\u001b[0m \u001b[0;34m\u001b[0m\u001b[0m\n\u001b[1;32m    284\u001b[0m         \u001b[0;32mif\u001b[0m \u001b[0mevaluate\u001b[0m\u001b[0;34m:\u001b[0m\u001b[0;34m\u001b[0m\u001b[0;34m\u001b[0m\u001b[0m\n\u001b[0;32m--> 285\u001b[0;31m             \u001b[0mevaluated\u001b[0m \u001b[0;34m=\u001b[0m \u001b[0mcls\u001b[0m\u001b[0;34m.\u001b[0m\u001b[0meval\u001b[0m\u001b[0;34m(\u001b[0m\u001b[0;34m*\u001b[0m\u001b[0margs\u001b[0m\u001b[0;34m)\u001b[0m\u001b[0;34m\u001b[0m\u001b[0;34m\u001b[0m\u001b[0m\n\u001b[0m\u001b[1;32m    286\u001b[0m             \u001b[0;32mif\u001b[0m \u001b[0mevaluated\u001b[0m \u001b[0;32mis\u001b[0m \u001b[0;32mnot\u001b[0m \u001b[0;32mNone\u001b[0m\u001b[0;34m:\u001b[0m\u001b[0;34m\u001b[0m\u001b[0;34m\u001b[0m\u001b[0m\n\u001b[1;32m    287\u001b[0m                 \u001b[0;32mreturn\u001b[0m \u001b[0mevaluated\u001b[0m\u001b[0;34m\u001b[0m\u001b[0;34m\u001b[0m\u001b[0m\n",
            "\u001b[0;32m/usr/local/lib/python3.7/dist-packages/sympy/functions/elementary/trigonometric.py\u001b[0m in \u001b[0;36meval\u001b[0;34m(cls, arg)\u001b[0m\n\u001b[1;32m    303\u001b[0m             \u001b[0;32mreturn\u001b[0m \u001b[0marg\u001b[0m\u001b[0;34m.\u001b[0m\u001b[0m_eval_func\u001b[0m\u001b[0;34m(\u001b[0m\u001b[0mcls\u001b[0m\u001b[0;34m)\u001b[0m\u001b[0;34m\u001b[0m\u001b[0;34m\u001b[0m\u001b[0m\n\u001b[1;32m    304\u001b[0m \u001b[0;34m\u001b[0m\u001b[0m\n\u001b[0;32m--> 305\u001b[0;31m         \u001b[0;32mif\u001b[0m \u001b[0marg\u001b[0m\u001b[0;34m.\u001b[0m\u001b[0mcould_extract_minus_sign\u001b[0m\u001b[0;34m(\u001b[0m\u001b[0;34m)\u001b[0m\u001b[0;34m:\u001b[0m\u001b[0;34m\u001b[0m\u001b[0;34m\u001b[0m\u001b[0m\n\u001b[0m\u001b[1;32m    306\u001b[0m             \u001b[0;32mreturn\u001b[0m \u001b[0;34m-\u001b[0m\u001b[0mcls\u001b[0m\u001b[0;34m(\u001b[0m\u001b[0;34m-\u001b[0m\u001b[0marg\u001b[0m\u001b[0;34m)\u001b[0m\u001b[0;34m\u001b[0m\u001b[0;34m\u001b[0m\u001b[0m\n\u001b[1;32m    307\u001b[0m \u001b[0;34m\u001b[0m\u001b[0m\n",
            "\u001b[0;31mAttributeError\u001b[0m: 'ImmutableDenseNDimArray' object has no attribute 'could_extract_minus_sign'"
          ]
        }
      ]
    },
    {
      "cell_type": "code",
      "metadata": {
        "id": "Z4-ESj07cU86"
      },
      "source": [
        "x = np.linspace(0,np.pi,2)\n",
        "sin(x)"
      ],
      "id": "Z4-ESj07cU86",
      "execution_count": null,
      "outputs": []
    },
    {
      "cell_type": "code",
      "metadata": {
        "id": "Jd-cCR6BbqT5"
      },
      "source": [
        ""
      ],
      "id": "Jd-cCR6BbqT5",
      "execution_count": null,
      "outputs": []
    }
  ]
}