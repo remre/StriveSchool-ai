{
  "nbformat": 4,
  "nbformat_minor": 0,
  "metadata": {
    "kernelspec": {
      "name": "python3",
      "display_name": "Python 3.8.8 64-bit ('NLP': conda)"
    },
    "language_info": {
      "codemirror_mode": {
        "name": "ipython",
        "version": 3
      },
      "file_extension": ".py",
      "mimetype": "text/x-python",
      "name": "python",
      "nbconvert_exporter": "python",
      "pygments_lexer": "ipython3",
      "version": "3.8.8"
    },
    "interpreter": {
      "hash": "c2ad988b83bc3032ab0bc6c9b326315d9b3145f093b7c28f6f9e14e1089dbd73"
    },
    "colab": {
      "name": "Exercise_01_Cheers_Stats_Beers_sol.ipynb",
      "provenance": [],
      "include_colab_link": true
    }
  },
  "cells": [
    {
      "cell_type": "markdown",
      "metadata": {
        "id": "view-in-github",
        "colab_type": "text"
      },
      "source": [
        "<a href=\"https://colab.research.google.com/github/remre/StriveSchool-ai/blob/main/week3/d7/sol/Exercise_01_Cheers_Stats_Beers_sol.ipynb\" target=\"_parent\"><img src=\"https://colab.research.google.com/assets/colab-badge.svg\" alt=\"Open In Colab\"/></a>"
      ]
    },
    {
      "cell_type": "markdown",
      "metadata": {
        "id": "QK6YwrbQs94j"
      },
      "source": [
        "###### Content under Creative Commons Attribution license CC-BY 4.0, code under BSD 3-Clause License © 2017 L.A. Barba, N.C. Clementi, \n",
        "\n",
        "###### Modified and adapted by Jan Carbonell and Alessia Mondolo"
      ]
    },
    {
      "cell_type": "markdown",
      "metadata": {
        "id": "vC4fljRts94m"
      },
      "source": [
        "# Cheers!  Stats with Beers\n",
        "\n",
        "This first lesson explores how we can answer questions using data combined with practical methods from statistics.\n",
        "\n",
        "We'll need some fun data to work with. We found a neat data set of canned craft beers in the US, scraped from the web and cleaned up by Jean-Nicholas Hould ([@NicholasHould](https://twitter.com/NicholasHould?lang=en) on Twitter)—who we want to thank for having a permissive license on his GitHub repository so we can reuse his [work](https://github.com/nickhould/craft-beers-dataset)!\n",
        "\n",
        "The data source ([@craftcans](https://twitter.com/craftcans) on Twitter) doesn't say that the set includes *all* the canned beers brewed in the country. So we have to asume that the data is a sample and may contain biases.\n",
        "\n",
        "We'll manipulate the data using **NumPy**—the array library for Python that we learned before in the batch. You will combine this with the knowledge you already have in **pandas**. \n",
        "\n",
        "[`pandas`](http://pandas.pydata.org/) is an open-source library providing high-performance, easy-to-use data structures and data-analysis tools.  Even though `pandas` is great for data analysis, we won't exploit all its power in this lesson. But we'll learn more about it later on!\n",
        "\n",
        "We'll use `pandas` to read the data file (in `csv` format, for comma-separated values), display it in a nice table, and extract the columns that we need—which we'll convert to `numpy` arrays to work with.\n",
        "\n",
        "Let's start by importing the two Python libraries that we need."
      ]
    },
    {
      "cell_type": "code",
      "metadata": {
        "id": "wZDV11m4s94o"
      },
      "source": [
        "import pandas as pd\n",
        "import numpy as np"
      ],
      "execution_count": null,
      "outputs": []
    },
    {
      "cell_type": "markdown",
      "metadata": {
        "id": "Y89ZXskls94o"
      },
      "source": [
        "## Step 1: Read the data file\n",
        "\n",
        "Below, we'll take a peek into the data file, `beers.csv,` using the system command `head` (which we can use with a bang, thanks to IPython).\n",
        "\n",
        "But first, we will download the data using a Python library for opening a URL on the Internet. We created a short URL for the data file in the public repository with our course materials.\n",
        "\n",
        "The cell below should download the data in your current working directory. The next cell shows you the first few lines of the data."
      ]
    },
    {
      "cell_type": "code",
      "metadata": {
        "id": "zyj3M-ZOs94p"
      },
      "source": [
        "from urllib.request import urlretrieve\n",
        "URL = 'http://go.gwu.edu/engcomp2data1'\n",
        "urlretrieve(URL, './data/beers.csv')"
      ],
      "execution_count": null,
      "outputs": []
    },
    {
      "cell_type": "code",
      "metadata": {
        "id": "E75KmviYs94r",
        "outputId": "6c4aa207-c201-4528-8c8e-906b604240a9"
      },
      "source": [
        "!head \"beers.csv\""
      ],
      "execution_count": null,
      "outputs": [
        {
          "output_type": "stream",
          "text": [
            "'head' is not recognized as an internal or external command,\n",
            "operable program or batch file.\n"
          ],
          "name": "stderr"
        }
      ]
    },
    {
      "cell_type": "markdown",
      "metadata": {
        "id": "l9AztEJYs94r"
      },
      "source": [
        "We can use `pandas` to read the data from the `csv` file, and save it into a new variable called `beers`. Let's then check the type of this new variable—rememeber that we can use the function `type()` to do this."
      ]
    },
    {
      "cell_type": "code",
      "metadata": {
        "id": "AVDwM0yAs94s"
      },
      "source": [
        "beers = pd.read_csv(\"beers.csv\")"
      ],
      "execution_count": null,
      "outputs": []
    },
    {
      "cell_type": "code",
      "metadata": {
        "id": "5_toibMVs94s",
        "colab": {
          "base_uri": "https://localhost:8080/"
        },
        "outputId": "c070dd78-1cd7-4dff-fadd-e412cec08219"
      },
      "source": [
        "type(beers)"
      ],
      "execution_count": null,
      "outputs": [
        {
          "output_type": "execute_result",
          "data": {
            "text/plain": [
              "pandas.core.frame.DataFrame"
            ]
          },
          "metadata": {
            "tags": []
          },
          "execution_count": 8
        }
      ]
    },
    {
      "cell_type": "markdown",
      "metadata": {
        "id": "jPWF7zQVs94t"
      },
      "source": [
        "This is a new data type for us: a `pandas DataFrame`. From the `pandas` documentation: \"A `DataFrame`  is a 2-dimensional labeled data structure with columns of potentially different types\" [4]. You can think of it as the contens of a spreadsheet, saved into one handy Python variable. If you print it out, you get a nicely laid-out table: "
      ]
    },
    {
      "cell_type": "code",
      "metadata": {
        "id": "pFoGaQmVs94t"
      },
      "source": [
        "beers.head()"
      ],
      "execution_count": null,
      "outputs": []
    },
    {
      "cell_type": "markdown",
      "metadata": {
        "id": "N0yqbJ_1s94u"
      },
      "source": [
        "Inspect the table above. The first column is a numbering scheme for the beers. The other columns contain the following data:\n",
        "\n",
        "- `abv`: Alcohol-by-volume of the beer.\n",
        "- `ibu`: International Bittering Units of the beer.\n",
        "- `id`: Unique identifier of the beer.\n",
        "- `name`: Name of the beer.\n",
        "- `style`: Style of the beer.\n",
        "- `brewery_id`: Unique identifier of the brewery.\n",
        "- `ounces`: Ounces of beer in the can."
      ]
    },
    {
      "cell_type": "markdown",
      "metadata": {
        "id": "FltaWGsWs94u"
      },
      "source": [
        "## Step 2: Explore the data\n",
        "\n",
        "In the field of statistics, [Exploratory Data Analysis](https://en.wikipedia.org/wiki/Exploratory_data_analysis) (EDA) has the goal of summarizing the main features of our data, and seeing what the data can tell us without formal modeling or hypothesis-testing. [2]\n",
        "\n",
        "Let's start by extracting the columns with the `abv` and `ibu` values, and converting them to NumPy arrays. One of the advantages of data frames in `pandas` is that we can access a column simply using its header, like this:\n",
        "\n",
        "```python\n",
        "data_frame['name_of_column']\n",
        "```\n",
        "\n",
        "The output of this action is a `pandas Series`. From the documentation: \"a `Series` is a 1-dimensional labeled array capable of holding any data type.\" [4]\n",
        "\n",
        "## Exercise: Check the type of a column extracted by header:"
      ]
    },
    {
      "cell_type": "code",
      "metadata": {
        "id": "G407_GdTs94v",
        "colab": {
          "base_uri": "https://localhost:8080/"
        },
        "outputId": "177f9013-1167-46f4-afe3-ef24addad5e0"
      },
      "source": [
        "type(beers[\"name\"])#just call one of column and put t in type"
      ],
      "execution_count": null,
      "outputs": [
        {
          "output_type": "execute_result",
          "data": {
            "text/plain": [
              "pandas.core.series.Series"
            ]
          },
          "metadata": {
            "tags": []
          },
          "execution_count": 10
        }
      ]
    },
    {
      "cell_type": "markdown",
      "metadata": {
        "id": "vIc0a7Yds94v"
      },
      "source": [
        "Of course, you can index and slice a data series like you know how to do with strings, lists and arrays.\n",
        "\n",
        "## Exercise: Display the first ten elements of the `abv` series:"
      ]
    },
    {
      "cell_type": "code",
      "metadata": {
        "id": "NxG2Fd8zs94v"
      },
      "source": [
        "beers[\"abv\"][:10]"
      ],
      "execution_count": null,
      "outputs": []
    },
    {
      "cell_type": "markdown",
      "metadata": {
        "id": "vpCpRIuWs94w"
      },
      "source": [
        "Inspect the data in the table again: you'll notice that there are `NaN` (not-a-number) elements in both the `abv` and `ibu` columns. Those values mean that there was no data reported for that beer. A typical task when cleaning up data is to deal with these pesky `NaN`s.\n",
        "\n",
        "### Exercise: Extract the two series corresponding to the `abv` and `ibu` columns, clean the data by removing all `NaN` values, and then access the values of each series and assign them to a NumPy array. "
      ]
    },
    {
      "cell_type": "code",
      "metadata": {
        "id": "UVEK3My4s94w"
      },
      "source": [
        "abv_series = beers['abv']"
      ],
      "execution_count": null,
      "outputs": []
    },
    {
      "cell_type": "code",
      "metadata": {
        "id": "QLrcGP99uDKp",
        "colab": {
          "base_uri": "https://localhost:8080/"
        },
        "outputId": "65ea7e2f-9db3-4a31-b6f3-2d412969346d"
      },
      "source": [
        "abvv = abv_series.dropna()\n",
        "type(abvv)"
      ],
      "execution_count": null,
      "outputs": [
        {
          "output_type": "execute_result",
          "data": {
            "text/plain": [
              "pandas.core.series.Series"
            ]
          },
          "metadata": {
            "tags": []
          },
          "execution_count": 12
        }
      ]
    },
    {
      "cell_type": "code",
      "metadata": {
        "id": "-VvCVznPuPKM"
      },
      "source": [
        "ibu_series = beers[\"ibu\"]"
      ],
      "execution_count": null,
      "outputs": []
    },
    {
      "cell_type": "code",
      "metadata": {
        "id": "Tzk4yh6AuTMz",
        "colab": {
          "base_uri": "https://localhost:8080/"
        },
        "outputId": "0241bab0-f858-489d-e0ea-d8b357415a73"
      },
      "source": [
        "k =  ibu_series.dropna()\n",
        "np.array(k)\n",
        "type(k)"
      ],
      "execution_count": null,
      "outputs": [
        {
          "output_type": "execute_result",
          "data": {
            "text/plain": [
              "pandas.core.series.Series"
            ]
          },
          "metadata": {
            "tags": []
          },
          "execution_count": 15
        }
      ]
    },
    {
      "cell_type": "markdown",
      "metadata": {
        "id": "IbZ0e1-bs94x"
      },
      "source": [
        "#### Check out the length of abv"
      ]
    },
    {
      "cell_type": "code",
      "metadata": {
        "id": "o4DrYPbzs94x",
        "colab": {
          "base_uri": "https://localhost:8080/"
        },
        "outputId": "fa9aa9ca-8a2d-4420-d2a6-bde1cd13129a"
      },
      "source": [
        "len(abv_series)"
      ],
      "execution_count": null,
      "outputs": [
        {
          "output_type": "execute_result",
          "data": {
            "text/plain": [
              "2410"
            ]
          },
          "metadata": {
            "tags": []
          },
          "execution_count": 16
        }
      ]
    },
    {
      "cell_type": "markdown",
      "metadata": {
        "id": "2zvNwZYss94x"
      },
      "source": [
        "Another advantage of `pandas` is that it has the ability to handle missing data. The  data-frame method `dropna()` returns a new data frame with only the good values of the original: all the null values are thrown out. This is super useful!"
      ]
    },
    {
      "cell_type": "code",
      "metadata": {
        "id": "Y5qJMmBBs94x",
        "colab": {
          "base_uri": "https://localhost:8080/"
        },
        "outputId": "f66f7f91-49c9-45d6-d408-da783b800fee"
      },
      "source": [
        "beers[\"ibu\"].dropna()"
      ],
      "execution_count": null,
      "outputs": [
        {
          "output_type": "execute_result",
          "data": {
            "text/plain": [
              "14      60.0\n",
              "21      92.0\n",
              "22      45.0\n",
              "24      42.0\n",
              "25      17.0\n",
              "        ... \n",
              "2398    30.0\n",
              "2399    69.0\n",
              "2400    50.0\n",
              "2405    45.0\n",
              "2408    40.0\n",
              "Name: ibu, Length: 1405, dtype: float64"
            ]
          },
          "metadata": {
            "tags": []
          },
          "execution_count": 17
        }
      ]
    },
    {
      "cell_type": "markdown",
      "metadata": {
        "id": "h2NnFpjzs94y"
      },
      "source": [
        " ####  Check out the length of the cleaned-up `abv` data; you'll see that it's shorter than the original. `NaN`s gone!"
      ]
    },
    {
      "cell_type": "code",
      "metadata": {
        "id": "Fb1pzGlms94y",
        "colab": {
          "base_uri": "https://localhost:8080/"
        },
        "outputId": "00d14522-c7b6-4465-a851-3168834373ba"
      },
      "source": [
        "len(abvv)"
      ],
      "execution_count": null,
      "outputs": [
        {
          "output_type": "execute_result",
          "data": {
            "text/plain": [
              "2348"
            ]
          },
          "metadata": {
            "tags": []
          },
          "execution_count": 38
        }
      ]
    },
    {
      "cell_type": "markdown",
      "metadata": {
        "id": "zZHoiKpKs94y"
      },
      "source": [
        "Remember that a a `pandas` _Series_ consists of a column of values, and their labels. You can extract the values via the [`series.values`](https://pandas.pydata.org/pandas-docs/stable/generated/pandas.Series.values.html) attribute, which returns a `numpy.ndarray` (multidimensional array). In the case of the `abv_clean` series, you get a one-dimensional array. We save it into the variable name `abv`. "
      ]
    },
    {
      "cell_type": "code",
      "metadata": {
        "id": "tqv6d-kAs94z"
      },
      "source": [
        "abv = abvv.values"
      ],
      "execution_count": null,
      "outputs": []
    },
    {
      "cell_type": "code",
      "metadata": {
        "id": "6XxG3LjYs94z",
        "colab": {
          "base_uri": "https://localhost:8080/"
        },
        "outputId": "7eedfdf4-b0bf-46e2-cca6-a5d55186028d"
      },
      "source": [
        "print(abv)"
      ],
      "execution_count": null,
      "outputs": [
        {
          "output_type": "stream",
          "text": [
            "[0.05  0.066 0.071 ... 0.055 0.055 0.052]\n"
          ],
          "name": "stdout"
        }
      ]
    },
    {
      "cell_type": "code",
      "metadata": {
        "id": "tv9KvQe8s94z",
        "outputId": "35f113a8-62cc-41b1-8460-d99bbd77c54e"
      },
      "source": [
        "type(abv)"
      ],
      "execution_count": null,
      "outputs": [
        {
          "output_type": "execute_result",
          "data": {
            "text/plain": [
              "numpy.ndarray"
            ]
          },
          "metadata": {
            "tags": []
          },
          "execution_count": 15
        }
      ]
    },
    {
      "cell_type": "markdown",
      "metadata": {
        "id": "oErO72wus940"
      },
      "source": [
        "## Exercise: Now, repeat the whole process for the `ibu` column: \n",
        "#### extract the column into a series, clean it up removing `NaN`s, extract the series values as an array, check how many values we lost."
      ]
    },
    {
      "cell_type": "code",
      "metadata": {
        "id": "u8yZekFus940",
        "colab": {
          "base_uri": "https://localhost:8080/"
        },
        "outputId": "70f296d8-55ae-42fb-d9cf-0393bf1ffbe0"
      },
      "source": [
        "len(beers[\"ibu\"])"
      ],
      "execution_count": null,
      "outputs": [
        {
          "output_type": "execute_result",
          "data": {
            "text/plain": [
              "2410"
            ]
          },
          "metadata": {
            "tags": []
          },
          "execution_count": 19
        }
      ]
    },
    {
      "cell_type": "code",
      "metadata": {
        "id": "zl4pnOubs940",
        "colab": {
          "base_uri": "https://localhost:8080/"
        },
        "outputId": "8e9b1255-a1aa-48f4-9be4-9ba1353cd769"
      },
      "source": [
        "ibuu"
      ],
      "execution_count": null,
      "outputs": [
        {
          "output_type": "execute_result",
          "data": {
            "text/plain": [
              "14      60.0\n",
              "21      92.0\n",
              "22      45.0\n",
              "24      42.0\n",
              "25      17.0\n",
              "        ... \n",
              "2398    30.0\n",
              "2399    69.0\n",
              "2400    50.0\n",
              "2405    45.0\n",
              "2408    40.0\n",
              "Name: ibu, Length: 1405, dtype: float64"
            ]
          },
          "metadata": {
            "tags": []
          },
          "execution_count": 48
        }
      ]
    },
    {
      "cell_type": "markdown",
      "metadata": {
        "id": "3XcxiIPSs940"
      },
      "source": [
        "##### Exercise\n",
        "\n",
        "Write a Python function that calculates the percentage of missing values for a certain data series. Use the function to calculate the percentage of missing values for the `abv` and `ibu` data sets. \n",
        "\n",
        "For the original series, before cleaning, remember that you can access the values with `series.values` (e.g., `abv_series.values`)."
      ]
    },
    {
      "cell_type": "code",
      "metadata": {
        "id": "jMjPUDEus941"
      },
      "source": [
        "ibu = ibuu.values"
      ],
      "execution_count": null,
      "outputs": []
    },
    {
      "cell_type": "code",
      "metadata": {
        "id": "oBp0BeJekwuM"
      },
      "source": [
        "beers"
      ],
      "execution_count": null,
      "outputs": []
    },
    {
      "cell_type": "markdown",
      "metadata": {
        "id": "uNGwM3D7s944"
      },
      "source": [
        "##### Important:\n",
        "\n",
        "Notice that in the case of the variable `ibu` we are missing almost 42% of the values. This is important, because it will affect our analysis. When we do descriptive statistics, we will ignore these missing values, and having 42% missing will very likely cause bias."
      ]
    },
    {
      "cell_type": "markdown",
      "metadata": {
        "id": "u2B4HSBjs945"
      },
      "source": [
        "## Step 3: Ready, stats, go!\n",
        "\n",
        "\n",
        "Now that we have NumPy arrays with clean data, let's see how we can manipulate them to get some useful information. \n",
        "\n",
        "Focusing on the numerical variables `abv` and `ibu`, we'll walk through some \"descriptive statistics,\" below. In other words, we aim to generate statistics that summarize the data concisely."
      ]
    },
    {
      "cell_type": "markdown",
      "metadata": {
        "id": "GFXV9l7os945"
      },
      "source": [
        "### Maximum and minimum \n",
        "\n",
        "The maximum and minimum values of a dataset are helpful as they tell us the _range_ of our sample: the range gives some indication of the _variability_ in the data.\n",
        "We can obtain them for our `abv` and `ibu` arrays with the `min()` and `max()` functions from NumPy."
      ]
    },
    {
      "cell_type": "markdown",
      "metadata": {
        "id": "_lWAKFdss945"
      },
      "source": [
        "**abv**"
      ]
    },
    {
      "cell_type": "code",
      "metadata": {
        "id": "b30bvxZJs946"
      },
      "source": [
        "abv_min = numpy.min(abv)\n",
        "abv_max = numpy.max(abv)"
      ],
      "execution_count": null,
      "outputs": []
    },
    {
      "cell_type": "code",
      "metadata": {
        "id": "FWtGZsEgs946",
        "colab": {
          "base_uri": "https://localhost:8080/"
        },
        "outputId": "92828a11-de91-4c50-b53b-a93c8dde5366"
      },
      "source": [
        "print('The minimum value for abv is: ', abv_min)\n",
        "print('The maximum value for abv is: ', abv_max)"
      ],
      "execution_count": null,
      "outputs": [
        {
          "output_type": "stream",
          "text": [
            "The minimum value for abv is:  0.001\n",
            "The maximum value for abv is:  0.128\n"
          ],
          "name": "stdout"
        }
      ]
    },
    {
      "cell_type": "markdown",
      "metadata": {
        "id": "LPCRhlBFs946"
      },
      "source": [
        "**ibu**"
      ]
    },
    {
      "cell_type": "code",
      "metadata": {
        "id": "xukELG0ls946"
      },
      "source": [
        "ibu_min = numpy.min(ibu)\n",
        "ibu_max = numpy.max(ibu)"
      ],
      "execution_count": null,
      "outputs": []
    },
    {
      "cell_type": "code",
      "metadata": {
        "id": "6gQ_tbINs947",
        "colab": {
          "base_uri": "https://localhost:8080/"
        },
        "outputId": "8086196b-54cf-4f9f-b4cf-94de595ed147"
      },
      "source": [
        "print('The minimum value for ibu is: ', ibu_min)\n",
        "print('The maximum value for ibu is: ', ibu_max)"
      ],
      "execution_count": null,
      "outputs": [
        {
          "output_type": "stream",
          "text": [
            "The minimum value for ibu is:  4.0\n",
            "The maximum value for ibu is:  138.0\n"
          ],
          "name": "stdout"
        }
      ]
    },
    {
      "cell_type": "markdown",
      "metadata": {
        "id": "ucxxX-QEs947"
      },
      "source": [
        "### Mean value\n",
        "\n",
        "The **mean** value is one of the main measures to describe the central tendency of the data: an indication of where's the \"center\" of the data. If we have a sample of $N$ values, $x_i$, the mean, $\\bar{x}$, is calculated by:\n",
        "\n",
        "\\begin{equation*}\n",
        "    \\bar{x} = \\frac{1}{N}\\sum_{i} x_i\n",
        "\\end{equation*}\n",
        "\n",
        "In words, that is the sum of the data values divided by the number of values, $N$. \n",
        "\n",
        "You've already learned how to write a function to compute the mean in [Module 1 Lesson 5](http://go.gwu.edu/engcomp1lesson5), but you also learned that NumPy has a built-in `mean()` function. We'll use this to get the mean of the `abv` and `ibu` values."
      ]
    },
    {
      "cell_type": "code",
      "metadata": {
        "id": "tAzSjFl7s948"
      },
      "source": [
        "abv_mean = numpy.mean(abv)\n",
        "ibu_mean = numpy.mean(ibu)"
      ],
      "execution_count": null,
      "outputs": []
    },
    {
      "cell_type": "markdown",
      "metadata": {
        "id": "FQJ3CTgHs948"
      },
      "source": [
        "Next, we'll print these two variables, but we'll use some fancy new way of printing with Python's string formatter, `string.format()`. There's a sweet site dedicated to Python's string formatter, called [PyFormat](https://pyformat.info), where you can learn lots of tricks!\n",
        "\n",
        "The basic trick is to use curly brackets `{}` as placeholder for a variable value that you want to print in the middle of a string (say, a sentence that explains what you are printing), and to pass the variable name as argument to `.format()`, preceded by the string.\n",
        "\n",
        "Let's try something out…"
      ]
    },
    {
      "cell_type": "code",
      "metadata": {
        "id": "L5r-lq6gs948",
        "colab": {
          "base_uri": "https://localhost:8080/"
        },
        "outputId": "14380c0c-0b6e-4d59-ec66-5c6f569dab69"
      },
      "source": [
        "print('The mean value for abv is {} and for ibu {}'.format(abv_mean, ibu_mean))"
      ],
      "execution_count": null,
      "outputs": [
        {
          "output_type": "stream",
          "text": [
            "The mean value for abv is 0.059773424190800686 and for ibu 42.71316725978647\n"
          ],
          "name": "stdout"
        }
      ]
    },
    {
      "cell_type": "markdown",
      "metadata": {
        "id": "xcxwOm2Hs949"
      },
      "source": [
        "Ugh! That doesn't look very good, does it? Here's where Python's string formatting gets fancy. We can print fewer decimal digits, so the sentence is more readable. For example, if we want to have four decimal digits, we specify it this way:"
      ]
    },
    {
      "cell_type": "code",
      "metadata": {
        "id": "U7OU5uwjs949",
        "colab": {
          "base_uri": "https://localhost:8080/"
        },
        "outputId": "e0ebf248-0fa4-4e74-b1fc-7c308277ecab"
      },
      "source": [
        "print('The mean value for abv is {:.4f} and for ibu {:.4f}'.format(abv_mean, ibu_mean))"
      ],
      "execution_count": null,
      "outputs": [
        {
          "output_type": "stream",
          "text": [
            "The mean value for abv is 0.0598 and for ibu 42.7132\n"
          ],
          "name": "stdout"
        }
      ]
    },
    {
      "cell_type": "markdown",
      "metadata": {
        "id": "fjF2ZErRs94-"
      },
      "source": [
        "Inside the curly brackets—the placeholders for the values we want to print—the `f` is for `float` and the `.4` is for four digits after the decimal dot. The colon here marks the beginning of the format specification (as there are options that can be passed before). There are so many tricks to Python's string formatter that you'll usually look up just what you need.\n",
        "Another useful resource for string formatting is the [Python String Format Cookbook](https://mkaz.blog/code/python-string-format-cookbook/). Check it out!"
      ]
    },
    {
      "cell_type": "markdown",
      "metadata": {
        "id": "IyDlPJ_7s94-"
      },
      "source": [
        "### Variance and standard deviation\n",
        "\n",
        "While the mean indicates where's the center of your data, the **variance** and **standard deviation** describe the *spread* or variability of the data. We already mentioned that the _range_ (difference between largest and smallest data values) is also an indication of variability. But the standard deviation is the most common measure of variability.\n",
        "\n",
        "We really like the way [Prof. Kristin Sainani](https://profiles.stanford.edu/kristin-sainani), of Stanford University, presents this in her online course on [Statistics in Medicine](https://lagunita.stanford.edu/courses/Medicine/MedStats-SP/SelfPaced/about). In her lecture \"Describing Quantitative Data: Whhat is the variability in the data?\", available [on YouTube](https://youtu.be/hlFeEQF5tDc), she asks: _What if someone were to ask you to devise a statistic that gives the avarage distance from the mean?_ Think about this a little bit.\n",
        "\n",
        "The distance from the mean, for any data value, is $x_i - \\bar{x}$. So what is the average of the distances from the mean? If we try to simply compute the average of all the values $x_i - \\bar{x}$, some of which are negative, you'll just get zero! It doesn't work.\n",
        "\n",
        "Since the problem is the negative distances from the mean, you might suggest using absolute values. But this is just mathematically inconvenient. Another way to get rid of negative values is to take the squares. And that's how we get to the expression for the _variance_: it is the average of the squares of the deviations from the mean. For a set of $N$ values,\n",
        "\n",
        "\\begin{equation*}\n",
        "     \\text{var} = \\frac{1}{N}\\sum_{i} (x_i - \\bar{x})^2\n",
        "\\end{equation*}\n",
        "\n",
        "\n",
        "The variance itself is hard to interpret. The problem with it is that the units are strange (they are the square of the original units). The **standard deviation**, the square root of the variance, is more meaningful because it has the same units as the original variable. Often, the symbol $\\sigma$ is used for it:\n",
        "\n",
        "\\begin{equation*} \n",
        "    \\sigma = \\sqrt{\\text{var}} = \\sqrt{\\frac{1}{N}\\sum_{i} (x_i - \\bar{x})^2}\n",
        "\\end{equation*}"
      ]
    },
    {
      "cell_type": "markdown",
      "metadata": {
        "id": "gtE145Qps94_"
      },
      "source": [
        "### Sample vs. population\n",
        "\n",
        "The above definitions are used when $N$ (the number of values) represents the entire population. But if we have a _sample_ of that population, the formulas have to be adjusted: instead of dividing by $N$ we divide by $N-1$. This is important, especially when we work with real data since usually we have samples of populations. \n",
        "\n",
        "The **standard deviation** of a sample is denoted by $s$, and the formula is:\n",
        "\n",
        "\\begin{equation*}     \n",
        "     s = \\sqrt{\\frac{1}{N-1}\\sum_{i} (x_i - \\bar{x})^2}\n",
        "\\end{equation*}\n",
        "\n",
        "Why? This gets a little technical, but the reason is that if you have a _sample_ of the population, you don't know the _real_ value of the mean, and $\\bar{x}$ is actually an _estimate_ of the mean. That's why you'll often find the symbol $\\mu$ used to denote the population mean, and distinguish it with the sample mean, $\\bar{x}$. Using $\\bar{x}$ to compute the standard deviation introduces a small bias: $\\bar{x}$ is computed _from the sample values_, and the data are on average (slightly) closer to $\\bar{x}$ than the population is to $\\mu$. Dividing by $N-1$ instead of $N$ corrects this bias!\n",
        "\n",
        "Prof. Sainani explains it by saying that we lost one degree of freedom when we estimated the mean using $\\bar{x}$.  For example, say we have 100 people and I give you their mean age, and the actual age for 99 people from the sample: you'll be able to calculate the age of that 100th person. Once we calculated the mean, we only have 99 degrees of freedom left because that 100th person's age is fixed. "
      ]
    },
    {
      "cell_type": "markdown",
      "metadata": {
        "id": "k0KOnDE1s95A"
      },
      "source": [
        "### Let's code!\n",
        "\n",
        "Now that we have the math sorted out, we can program functions to compute the variance and the standard deviation. In our case, we are working with samples of the population of craft beers, so we need to use the formulas with $N-1$ in the denominator. "
      ]
    },
    {
      "cell_type": "code",
      "metadata": {
        "id": "NFgAu_D4s95B",
        "colab": {
          "base_uri": "https://localhost:8080/"
        },
        "outputId": "4ea6fc55-58a6-4cce-bb20-ccf9a887ebd5"
      },
      "source": [
        "from statistics import *\n",
        "def sample_var(array):\n",
        "  array = np.array(array)\n",
        "  meanv = array.mean()\n",
        "  varr = variance(array,meanv)\n",
        "  standarddevpd = pd.Series(array).std()\n",
        "  stdnp = np.std(array)\n",
        "  print('The standard deviation for pandas array is {:f} and for numpy {:f} and variance  {:f}'.format(standarddevpd,stdnp, varr))\n",
        "  #return varr\n",
        "\n",
        "\"\"\" Calculates the variance of an array that contains values of a sample of a \n",
        "    population. \n",
        "    \n",
        "    Arguments\n",
        "    ---------\n",
        "    array : array, contains sample of values. \n",
        "    \n",
        "    Returns\n",
        "    -------\n",
        "    var   : float, variance of the array .\n",
        "\"\"\"\n",
        "    \n",
        "\n",
        "sample_var([1,2,3,4,5])"
      ],
      "execution_count": null,
      "outputs": [
        {
          "output_type": "stream",
          "text": [
            "The standard deviation for pandas array is 1.581139 and for numpy 1.414214 and variance  2.500000\n"
          ],
          "name": "stdout"
        }
      ]
    },
    {
      "cell_type": "code",
      "metadata": {
        "id": "rZMf7Zkuu2Hy",
        "colab": {
          "base_uri": "https://localhost:8080/"
        },
        "outputId": "dbe0de55-f908-4e53-faf8-1c82fe3bcc0c"
      },
      "source": [
        "def sample_o(array):\n",
        "  array = np.array(array)\n",
        "  var = np.var(array)\n",
        "  return var\n",
        "sample_o([1,2,3,4,5])"
      ],
      "execution_count": null,
      "outputs": [
        {
          "output_type": "execute_result",
          "data": {
            "text/plain": [
              "2.0"
            ]
          },
          "metadata": {
            "tags": []
          },
          "execution_count": 79
        }
      ]
    },
    {
      "cell_type": "code",
      "metadata": {
        "id": "9rj3pNvwvm64",
        "colab": {
          "base_uri": "https://localhost:8080/"
        },
        "outputId": "79875900-9e63-4fc7-f549-fd0b5755fce3"
      },
      "source": [
        ""
      ],
      "execution_count": null,
      "outputs": [
        {
          "output_type": "execute_result",
          "data": {
            "text/plain": [
              "4"
            ]
          },
          "metadata": {
            "tags": []
          },
          "execution_count": 85
        }
      ]
    },
    {
      "cell_type": "code",
      "metadata": {
        "id": "GeZeJOk0jwL4",
        "colab": {
          "base_uri": "https://localhost:8080/"
        },
        "outputId": "aa9a5491-0016-407d-afeb-fba9d7434ce0"
      },
      "source": [
        ""
      ],
      "execution_count": null,
      "outputs": [
        {
          "output_type": "stream",
          "text": [
            "2.449489742783178 0.5625\n"
          ],
          "name": "stdout"
        }
      ]
    },
    {
      "cell_type": "markdown",
      "metadata": {
        "id": "_xLpQ_FLs95B"
      },
      "source": [
        "If you have used `numpy.mean()` in the implementation: can you search on the documentation if there is a more efficient function? \n",
        "\n",
        "*Hint:* Yes!, there is.\n",
        "\n",
        "##### Exercise:\n",
        "\n",
        "Re-write the function `sample_var()` using `numpy.sum()` to replace the `for`-loop. Name the function `var_pythonic`."
      ]
    },
    {
      "cell_type": "code",
      "metadata": {
        "id": "hh2XNk04s95C",
        "colab": {
          "base_uri": "https://localhost:8080/"
        },
        "outputId": "b6266275-de26-4ce9-d103-8e4a4632331d"
      },
      "source": [
        "np.std(kk)"
      ],
      "execution_count": null,
      "outputs": [
        {
          "output_type": "execute_result",
          "data": {
            "text/plain": [
              "10.488088481701515"
            ]
          },
          "metadata": {
            "tags": []
          },
          "execution_count": 71
        }
      ]
    },
    {
      "cell_type": "code",
      "metadata": {
        "id": "U0o0v57Id55G",
        "colab": {
          "base_uri": "https://localhost:8080/"
        },
        "outputId": "dd071bf3-bc77-4a58-b3f2-6473cf7566ff"
      },
      "source": [
        "kk = [5, 5, 10, 25, 30]\n",
        "pd.Series(kk).std()"
      ],
      "execution_count": null,
      "outputs": [
        {
          "output_type": "execute_result",
          "data": {
            "text/plain": [
              "11.726039399558575"
            ]
          },
          "metadata": {
            "tags": []
          },
          "execution_count": 70
        }
      ]
    },
    {
      "cell_type": "code",
      "metadata": {
        "id": "77S4mS-Ugoe3",
        "colab": {
          "base_uri": "https://localhost:8080/"
        },
        "outputId": "bb70d566-75c4-4c20-e6f1-fecfb02a8ce8"
      },
      "source": [
        "k = [4, 17, 7, 14, 18, 12, 3, 16, 10, 4, 4, 11]\n",
        "l = pd.Series(k)\n",
        "l.median()\n",
        "l.mean()"
      ],
      "execution_count": null,
      "outputs": [
        {
          "output_type": "execute_result",
          "data": {
            "text/plain": [
              "10.0"
            ]
          },
          "metadata": {
            "tags": []
          },
          "execution_count": 76
        }
      ]
    },
    {
      "cell_type": "markdown",
      "metadata": {
        "id": "_talG83Es95C"
      },
      "source": [
        "We have the sample variance, so we take its square root to get the standard deviation. We can make it a function, even though it's just one line of Python, to make our code more readable:"
      ]
    },
    {
      "cell_type": "code",
      "metadata": {
        "id": "x4YHAhs4s95C",
        "colab": {
          "base_uri": "https://localhost:8080/"
        },
        "outputId": "06bbf4a6-05e6-43e2-a23d-48817c981eb1"
      },
      "source": [
        "def sample_std(array):\n",
        "  array = np.array(array)\n",
        "  std = np.std(array)\n",
        "  return std\n",
        "\"\"\" Computes the standard deviation of an array that contains values\n",
        "    of a sample of a population.\n",
        "    \n",
        "    Arguments\n",
        "    ---------\n",
        "    array : array, contains sample of values. \n",
        "    \n",
        "    Returns\n",
        "    -------\n",
        "    std   : float, standard deviation of the array.\n",
        "\"\"\"\n",
        "\n",
        "\n",
        "    \n",
        "    \n",
        "sample_std([2,3,4,5,6,7,8,9])  "
      ],
      "execution_count": null,
      "outputs": [
        {
          "output_type": "execute_result",
          "data": {
            "text/plain": [
              "2.29128784747792"
            ]
          },
          "metadata": {
            "tags": []
          },
          "execution_count": 96
        }
      ]
    },
    {
      "cell_type": "markdown",
      "metadata": {
        "id": "4DYduk9Ys95D"
      },
      "source": [
        "Let's call our brand new functions and assign the output values to new variables:"
      ]
    },
    {
      "cell_type": "code",
      "metadata": {
        "id": "t4veGpEts95D"
      },
      "source": [
        "abv_std = sample_std(abv)\n",
        "ibu_std = sample_std(ibu)"
      ],
      "execution_count": null,
      "outputs": []
    },
    {
      "cell_type": "markdown",
      "metadata": {
        "id": "qej8FMm9s95D"
      },
      "source": [
        "If we print these values using the string formatter, only printing 4 decimal digits, we can display our descriptive statistics in a pleasant, human-readable way."
      ]
    },
    {
      "cell_type": "code",
      "metadata": {
        "id": "cSLgTZkXs95D",
        "outputId": "62b5e92e-176e-4d80-9b2c-4fa4106d3134"
      },
      "source": [
        "print('The standard deviation for abv is {:.4f} and for ibu {:.4f}'.format(abv_std, ibu_std))"
      ],
      "execution_count": null,
      "outputs": [
        {
          "output_type": "stream",
          "text": [
            "The standard deviation for abv is 0.0135 and for ibu 25.9541\n"
          ],
          "name": "stdout"
        }
      ]
    },
    {
      "cell_type": "markdown",
      "metadata": {
        "id": "LYKyCDm-s95E"
      },
      "source": [
        "These numbers tell us that the `abv` values are quite concentrated around the mean value, while the `ibu` values are quite spread out from their mean. How could we check these descriptions of the data? A good way of doing so is using graphics: various types of plots can tell us things about the data. \n",
        "\n",
        "We'll learn about _histograms_ in this lesson, and in the following lesson we'll explore _box plots_. "
      ]
    },
    {
      "cell_type": "markdown",
      "metadata": {
        "collapsed": true,
        "id": "fqg1LQENs95E"
      },
      "source": [
        "## Step 4: Distribution plots \n",
        "\n",
        "Every time that we work with data, visualizing it is very useful. Visualizations give us a better idea of how our data behaves. One way of visualizing data is with a frequency-distribution plot known as **histogram**: a graphical representation of how the data is distributed. To make a histogram, first we need to \"bin\" the range of values (divide the range into intervals) and then we count how many data values fall into each interval. The intervals are usually consecutive (not always), of equal size and non-overlapping. \n",
        "\n",
        "Thanks to Python and Matplotlib, making histograms is easy. We recommend that you always read the documentation, in this case about [histograms](https://matplotlib.org/devdocs/api/_as_gen/matplotlib.pyplot.hist.html). We'll show you here an example using the `hist()` function from `pyplot`, but this is just a starting point. \n",
        "\n",
        "Let's import the libraries that we need for plotting, as you learned in [Module 1 Lesson 5](http://go.gwu.edu/engcomp1lesson5), then study the plotting commands used below. Try changing some of the plot options and seeing the effect."
      ]
    },
    {
      "cell_type": "code",
      "metadata": {
        "id": "keV7sGpEs95F"
      },
      "source": [
        "from matplotlib import pyplot\n",
        "%matplotlib inline\n",
        "\n",
        "#Import rcParams to set font styles\n",
        "from matplotlib import rcParams\n",
        "\n",
        "#Set font style and size \n",
        "rcParams['font.family'] = 'serif'\n",
        "rcParams['font.size'] = 16"
      ],
      "execution_count": null,
      "outputs": []
    },
    {
      "cell_type": "code",
      "metadata": {
        "id": "5g3Tpa1vs95F",
        "colab": {
          "base_uri": "https://localhost:8080/",
          "height": 388
        },
        "outputId": "abb2a983-1e80-42e0-c4de-5394b0a5d1a7"
      },
      "source": [
        "#You can set the size of the figure by doing:\n",
        "pyplot.figure(figsize=(10,5))\n",
        "\n",
        "#Plotting\n",
        "pyplot.hist(abv, bins=20, color='#3498db', histtype='bar', edgecolor='white') \n",
        "#The \\n is to leave a blank line between the title and the plot\n",
        "pyplot.title('abv \\n')\n",
        "pyplot.xlabel('Alcohol by Volume (abv) ')\n",
        "pyplot.ylabel('Frequency');"
      ],
      "execution_count": null,
      "outputs": [
        {
          "output_type": "display_data",
          "data": {
            "image/png": "[encoded data removed]",
            "text/plain": [
              "<Figure size 720x360 with 1 Axes>"
            ]
          },
          "metadata": {
            "tags": [],
            "needs_background": "light"
          }
        }
      ]
    },
    {
      "cell_type": "code",
      "metadata": {
        "id": "zHFTd4_js95F",
        "colab": {
          "base_uri": "https://localhost:8080/",
          "height": 388
        },
        "outputId": "11a13742-26db-446c-c0c9-62d1150711c1"
      },
      "source": [
        "#You can set the size of the figure by doing:\n",
        "pyplot.figure(figsize=(10,5))\n",
        "\n",
        "#Plotting\n",
        "pyplot.hist(ibu, bins=20, color='#e67e22', histtype='bar', edgecolor='white') \n",
        "#The \\n is to leave a blanck line between the title and the plot\n",
        "pyplot.title('ibu \\n')\n",
        "pyplot.xlabel('International Bittering Units (ibu)')\n",
        "pyplot.ylabel('Frequency');"
      ],
      "execution_count": null,
      "outputs": [
        {
          "output_type": "display_data",
          "data": {
            "image/png": "[encoded data removed]",
            "text/plain": [
              "<Figure size 720x360 with 1 Axes>"
            ]
          },
          "metadata": {
            "tags": [],
            "needs_background": "light"
          }
        }
      ]
    },
    {
      "cell_type": "markdown",
      "metadata": {
        "id": "9XW4USLFs95G"
      },
      "source": [
        "##### Exploratory exercise:\n",
        "\n",
        "Play around with the plots, change the values of the bins, colors, etc."
      ]
    },
    {
      "cell_type": "markdown",
      "metadata": {
        "id": "P-iRTCObs95G"
      },
      "source": [
        "### Comparing with a normal distribution\n",
        "\n",
        "A **normal** (or Gaussian) distribution is a special type of distrubution that behaves as shown in the figure: 68% of the values are within one standard deviation $\\sigma$ from the mean; 95% lie within $2\\sigma$; and at a distance of $\\pm3\\sigma$ from the mean, we cover 99.7% of the values. This fact is known as the $3$-$\\sigma$ rule, or 68-95-99.7 (empirical) rule.\n",
        "\n",
        "<img src=\"https://github.com/Strive-School/ai_jun21/blob/main/M2-Maths%20and%20Stats/images/std_bell_curve.png?raw=1\" style=\"width: 800px;\"/> \n",
        "####  Standard deviation and coverage in a normal distribution. Modified figure based on original from [Wikimedia Commons](https://commons.wikimedia.org/wiki/File:Standard_deviation_diagram.svg), the free media repository.\n",
        "\n",
        "\n",
        "Notice that our histograms don't follow the shape of a normal distribution, known as *Bell Curve*. Our histograms are not centered in the mean value, and they are not symetric with respect to it. They are what we call **skewed** to the right (yes, to the _right_). A right (or positive) skewed distribution  looks like it's been pushed to the left: the right tail is longer and most of the values are concentrated on the left of the figure. Imagine that \"right-skewed\" means that a force from the right pushes on the curve."
      ]
    },
    {
      "cell_type": "markdown",
      "metadata": {
        "id": "XlorhrOqs95G"
      },
      "source": [
        "##### Discuss with your pair programming partner\n",
        "\n",
        "* How do you think that skewness will affect the percentages of coverage by standard deviation compared to the Bell Curve?\n",
        "\n",
        "* Can we calculate those percentages? \n",
        "\n",
        "##### Spoiler alert! (and Exercise)\n",
        "\n",
        "Yes we can, and guess what: we can do it in a few lines of Python. But before doing that, we want you to explain in your own words how the following piece of code works. \n",
        "\n",
        "*Hints:* \n",
        "\n",
        "1. Check what the logical operation `numpy.logical_and(1<x, x<4)` returns.\n",
        "2. Check what happens if you sum booleans. For example, `True + True`, `True + False` and so on.\n"
      ]
    },
    {
      "cell_type": "code",
      "metadata": {
        "id": "bfOZmmocs95H",
        "outputId": "03d3c9d2-a094-42b4-a69c-297672865a4c"
      },
      "source": [
        "x = numpy.array([1,2,3,4])\n",
        "num_ele = numpy.logical_and(1<x, x<4).sum()\n",
        "print(num_ele)"
      ],
      "execution_count": null,
      "outputs": [
        {
          "output_type": "stream",
          "text": [
            "2\n"
          ],
          "name": "stdout"
        }
      ]
    },
    {
      "cell_type": "markdown",
      "metadata": {
        "id": "urqR4Txrs95H"
      },
      "source": [
        "Now, using the same idea, we will calculate the number of elements in each interval of width $(1\\sigma, 2\\sigma, 3\\sigma)$, and get the corresponding percentage. \n",
        "\n",
        "Since we want to compute this for both of our variables, `abv` and `ibu`, we'll write a function to do so. Study carefully the code below. Better yet, explain it to your neighbor."
      ]
    },
    {
      "cell_type": "code",
      "metadata": {
        "id": "KUMoJbNos95I"
      },
      "source": [
        "def std_percentages(x, x_mean, x_std):\n",
        "    \"\"\" Computes the percentage of coverage at 1std, 2std and 3std from the\n",
        "    mean value of a certain variable x.\n",
        "    \n",
        "    Arguments\n",
        "    ---------\n",
        "    x      : array, data we want to compute on. \n",
        "    x_mean : float, mean value of x array.\n",
        "    x_std  : float, standard deviation of x array.\n",
        "    \n",
        "    Returns\n",
        "    -------\n",
        "    \n",
        "    per_std_1 : float, percentage of values within 1 standard deviation.\n",
        "    per_std_2 : float, percentage of values within 2 standard deviations.\n",
        "    per_std_3 : float, percentage of values within 3 standard deviations.    \n",
        "    \"\"\"\n",
        "    \n",
        "    std_1 = x_std\n",
        "    std_2 = 2 * x_std\n",
        "    std_3 = 3 * x_std\n",
        "    \n",
        "    elem_std_1 = numpy.logical_and((x_mean - std_1) < x, x < (x_mean + std_1)).sum()\n",
        "    per_std_1 = elem_std_1 * 100 / len(x) \n",
        "    \n",
        "    elem_std_2 = numpy.logical_and((x_mean - std_2) < x, x < (x_mean + std_2)).sum()\n",
        "    per_std_2 = elem_std_2 * 100 / len(x) \n",
        "    \n",
        "    elem_std_3 = numpy.logical_and((x_mean - std_3) < x, x < (x_mean + std_3)).sum()\n",
        "    per_std_3 = elem_std_3 * 100 / len(x) \n",
        "    \n",
        "    return per_std_1, per_std_2, per_std_3\n",
        "    "
      ],
      "execution_count": null,
      "outputs": []
    },
    {
      "cell_type": "markdown",
      "metadata": {
        "id": "x97Q4Aeqs95I"
      },
      "source": [
        "Let's compute the percentages next. Notice that the function above returns three values. If we want to assign each value to a different variable, we need to follow a specific syntax. In our example this would be:"
      ]
    },
    {
      "cell_type": "markdown",
      "metadata": {
        "id": "A8TmJgwLs95I"
      },
      "source": [
        "**abv**"
      ]
    },
    {
      "cell_type": "code",
      "metadata": {
        "id": "DTiYaVD8s95J"
      },
      "source": [
        "abv_std1_per, abv_std2_per, abv_std3_per = std_percentages(abv, abv_mean, abv_std)"
      ],
      "execution_count": null,
      "outputs": []
    },
    {
      "cell_type": "markdown",
      "metadata": {
        "id": "HYKPvmsBs95J"
      },
      "source": [
        "Let's pretty-print the values of our variables so we can inspect them:"
      ]
    },
    {
      "cell_type": "code",
      "metadata": {
        "id": "liFm812Vs95J",
        "outputId": "f83417ac-69c2-4f2a-de1a-902d9dd84cf8"
      },
      "source": [
        "print('The percentage of coverage at 1 std of the abv_mean is : {:.2f} %'.format(abv_std1_per))\n",
        "print('The percentage of coverage at 2 std of the abv_mean is : {:.2f} %'.format(abv_std2_per))\n",
        "print('The percentage of coverage at 3 std of the abv_mean is : {:.2f} %'.format(abv_std3_per))"
      ],
      "execution_count": null,
      "outputs": [
        {
          "output_type": "stream",
          "text": [
            "The percentage of coverage at 1 std of the abv_mean is : 74.06 %\n",
            "The percentage of coverage at 2 std of the abv_mean is : 94.34 %\n",
            "The percentage of coverage at 3 std of the abv_mean is : 99.79 %\n"
          ],
          "name": "stdout"
        }
      ]
    },
    {
      "cell_type": "markdown",
      "metadata": {
        "id": "xZMyLEVNs95J"
      },
      "source": [
        "**ibu**"
      ]
    },
    {
      "cell_type": "code",
      "metadata": {
        "id": "_ZfgyOFNs95K"
      },
      "source": [
        "ibu_std1_per, ibu_std2_per, ibu_std3_per = std_percentages(ibu, ibu_mean, ibu_std)"
      ],
      "execution_count": null,
      "outputs": []
    },
    {
      "cell_type": "code",
      "metadata": {
        "id": "kK4GYlZGs95K",
        "outputId": "f107b8ba-454e-44c0-f743-d48433cdce9a"
      },
      "source": [
        "print('The percentage of coverage at 1 std of the ibu_mean is : {:.2f} %'.format(ibu_std1_per))\n",
        "print('The percentage of coverage at 2 std of the ibu_mean is : {:.2f} %'.format(ibu_std2_per))\n",
        "print('The percentage of coverage at 3 std of the ibu_mean is : {:.2f} %'.format(ibu_std3_per))"
      ],
      "execution_count": null,
      "outputs": [
        {
          "output_type": "stream",
          "text": [
            "The percentage of coverage at 1 std of the ibu_mean is : 68.11 %\n",
            "The percentage of coverage at 2 std of the ibu_mean is : 95.66 %\n",
            "The percentage of coverage at 3 std of the ibu_mean is : 99.72 %\n"
          ],
          "name": "stdout"
        }
      ]
    },
    {
      "cell_type": "markdown",
      "metadata": {
        "id": "zx7gloQws95K"
      },
      "source": [
        "Notice that in both cases the percentages are not that far from the values for normal distribution (68%, 95%, 99.7%), especially for $2\\sigma$ and $3\\sigma$. So usually you can use these values as a rule of thumb. "
      ]
    },
    {
      "cell_type": "markdown",
      "metadata": {
        "id": "-V-PxAQrs95L"
      },
      "source": [
        "## What we've learned\n",
        "\n",
        "* Read data from a `csv` file using `pandas`.\n",
        "* The concepts of Data Frame and Series in `pandas`.\n",
        "* Clean null (NaN) values from a Series using `pandas`.\n",
        "* Convert a `panda`s Series into a `numpy` array.\n",
        "* Compute maximum and minimum, and range.\n",
        "* Revise concept of mean value.\n",
        "* Compute the variance and standard deviation.\n",
        "* Use the mean and standard deviation to understand how the data is distributed.\n",
        "* Plot frequency distribution diagrams (histograms).\n",
        "* Normal distribution and 3-sigma rule.\n"
      ]
    },
    {
      "cell_type": "markdown",
      "metadata": {
        "id": "zXVg69NSs95L"
      },
      "source": [
        "## References\n",
        "\n",
        "1. [Craft beer datatset](https://github.com/nickhould/craft-beers-dataset) by Jean-Nicholas Hould.\n",
        "2. [Exploratory Data Analysis](https://en.wikipedia.org/wiki/Exploratory_data_analysis), Wikipedia article.\n",
        "3. _Think Python: How to Think Like a Computer Scientist_ (2012). Allen Downey. Green Tea Press.  [PDF available](http://greenteapress.com/thinkpython/thinkpython.pdf)\n",
        "4. [Intro to data Structures](https://pandas.pydata.org/pandas-docs/stable/dsintro.html), `pandas` documentation.\n",
        "5. _Think Stats: Probability and Statistics for Programmers_ version 1.6.0 (2011). Allen Downey. Green Tea Press.  [PDF available](http://greenteapress.com/thinkstats/thinkstats.pdf)\n",
        "\n",
        "### Recommended viewing\n",
        "\n",
        "From [\"Statistics in Medicine,\"](https://lagunita.stanford.edu/courses/Medicine/MedStats-SP/SelfPaced/about), a free course in Stanford Online by Prof. Kristin Sainani, we highly recommend that you watch these three lectures: \n",
        "* [Describing Quantitative Data: Where is the center?](https://youtu.be/tQ5slNYRcC4)\n",
        "* [Describing Quantitative Data: What is the variability in the data?](https://youtu.be/hlFeEQF5tDc)\n",
        "* [Variability in the data, continued: examples, bell curve](https://youtu.be/qeG0uNI3DBQ)"
      ]
    },
    {
      "cell_type": "code",
      "metadata": {
        "id": "FDraFajns95L",
        "outputId": "6bc47d1b-9df9-48d2-b3bd-aae24f15dddc"
      },
      "source": [
        "# Execute this cell to load the notebook's style sheet, then ignore it\n",
        "from IPython.core.display import HTML\n",
        "css_file = '../style/custom.css'\n",
        "HTML(open(css_file, \"r\").read())"
      ],
      "execution_count": null,
      "outputs": [
        {
          "output_type": "execute_result",
          "data": {
            "text/html": [
              "<link href=\"https://fonts.googleapis.com/css?family=Merriweather:300,300i,400,400i,700,700i,900,900i\" rel='stylesheet' >\n",
              "<link href=\"https://fonts.googleapis.com/css?family=Source+Sans+Pro:300,300i,400,400i,700,700i\" rel='stylesheet' >\n",
              "<link href='http://fonts.googleapis.com/css?family=Source+Code+Pro:300,400' rel='stylesheet' >\n",
              "<style>\n",
              "\n",
              "@font-face {\n",
              "    font-family: \"Computer Modern\";\n",
              "    src: url('http://mirrors.ctan.org/fonts/cm-unicode/fonts/otf/cmunss.otf');\n",
              "}\n",
              "\n",
              "\n",
              "#notebook_panel { /* main background */\n",
              "    background: rgb(245,245,245);\n",
              "}\n",
              "\n",
              "div.cell { /* set cell width */\n",
              "    width: 800px;\n",
              "}\n",
              "\n",
              "div #notebook { /* centre the content */\n",
              "    background: #fff; /* white background for content */\n",
              "    width: 1000px;\n",
              "    margin: auto;\n",
              "    padding-left: 0em;\n",
              "}\n",
              "\n",
              "#notebook li { /* More space between bullet points */\n",
              "margin-top:0.5em;\n",
              "}\n",
              "\n",
              "/* draw border around running cells */\n",
              "div.cell.border-box-sizing.code_cell.running { \n",
              "    border: 1px solid #111;\n",
              "}\n",
              "\n",
              "/* Put a solid color box around each cell and its output, visually linking them*/\n",
              "div.cell.code_cell {\n",
              "    background-color: rgb(256,256,256); \n",
              "    border-radius: 0px; \n",
              "    padding: 0.5em;\n",
              "    margin-left:1em;\n",
              "    margin-top: 1em;\n",
              "}\n",
              "\n",
              "\n",
              "div.text_cell_render{\n",
              "    font-family: 'Source Sans Pro', sans-serif;\n",
              "    line-height: 140%;\n",
              "    font-size: 110%;\n",
              "    width:680px;\n",
              "    margin-left:auto;\n",
              "    margin-right:auto;\n",
              "}\n",
              "\n",
              "/* Formatting for header cells */\n",
              ".text_cell_render h1 {\n",
              "    font-family: 'Merriweather', serif;\n",
              "    font-style:regular;\n",
              "    font-weight: bold;    \n",
              "    font-size: 250%;\n",
              "    line-height: 100%;\n",
              "    color: #004065;\n",
              "    margin-bottom: 1em;\n",
              "    margin-top: 0.5em;\n",
              "    display: block;\n",
              "}\t\n",
              ".text_cell_render h2 {\n",
              "    font-family: 'Merriweather', serif;\n",
              "    font-weight: bold; \n",
              "    font-size: 180%;\n",
              "    line-height: 100%;\n",
              "    color: #0096d6;\n",
              "    margin-bottom: 0.5em;\n",
              "    margin-top: 0.5em;\n",
              "    display: block;\n",
              "}\t\n",
              "\n",
              ".text_cell_render h3 {\n",
              "    font-family: 'Merriweather', serif;\n",
              "\tfont-size: 150%;\n",
              "    margin-top:12px;\n",
              "    margin-bottom: 3px;\n",
              "    font-style: regular;\n",
              "    color: #008367;\n",
              "}\n",
              "\n",
              ".text_cell_render h4 {    /*Use this for captions*/\n",
              "    font-family: 'Merriweather', serif;\n",
              "    font-weight: 300; \n",
              "    font-size: 100%;\n",
              "    line-height: 120%;\n",
              "    text-align: left;\n",
              "    width:500px;\n",
              "    margin-top: 1em;\n",
              "    margin-bottom: 2em;\n",
              "    margin-left: 80pt;\n",
              "    font-style: regular;\n",
              "}\n",
              "\n",
              ".text_cell_render h5 {  /*Use this for small titles*/\n",
              "    font-family: 'Source Sans Pro', sans-serif;\n",
              "    font-weight: regular;\n",
              "    font-size: 130%;\n",
              "    color: #e31937;\n",
              "    font-style: italic;\n",
              "    margin-bottom: .5em;\n",
              "    margin-top: 1em;\n",
              "    display: block;\n",
              "}\n",
              "\n",
              ".text_cell_render h6 { /*use this for copyright note*/\n",
              "    font-family: 'Source Code Pro', sans-serif;\n",
              "    font-weight: 300;\n",
              "    font-size: 9pt;\n",
              "    line-height: 100%;\n",
              "    color: grey;\n",
              "    margin-bottom: 1px;\n",
              "    margin-top: 1px;\n",
              "}\n",
              "\n",
              "    .CodeMirror{\n",
              "            font-family: \"Source Code Pro\";\n",
              "\t\t\tfont-size: 90%;\n",
              "    }\n",
              "/*    .prompt{\n",
              "        display: None;\n",
              "    }*/\n",
              "\t\n",
              "    \n",
              "    .warning{\n",
              "        color: rgb( 240, 20, 20 )\n",
              "        }  \n",
              "</style>\n",
              "<script>\n",
              "    MathJax.Hub.Config({\n",
              "                        TeX: {\n",
              "                           extensions: [\"AMSmath.js\"], \n",
              "                           equationNumbers: { autoNumber: \"AMS\", useLabelIds: true}\n",
              "                           },\n",
              "                tex2jax: {\n",
              "                    inlineMath: [ ['$','$'], [\"\\\\(\",\"\\\\)\"] ],\n",
              "                    displayMath: [ ['$$','$$'], [\"\\\\[\",\"\\\\]\"] ]\n",
              "                },\n",
              "                displayAlign: 'center', // Change this to 'center' to center equations.\n",
              "                \"HTML-CSS\": {\n",
              "                    styles: {'.MathJax_Display': {\"margin\": 4}}\n",
              "                }\n",
              "        });\n",
              "</script>\n"
            ],
            "text/plain": [
              "<IPython.core.display.HTML object>"
            ]
          },
          "metadata": {
            "tags": []
          },
          "execution_count": 38
        }
      ]
    }
  ]
}