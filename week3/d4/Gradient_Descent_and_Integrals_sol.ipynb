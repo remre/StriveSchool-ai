{
  "nbformat": 4,
  "nbformat_minor": 5,
  "metadata": {
    "kernelspec": {
      "display_name": "Python 3",
      "language": "python",
      "name": "python3"
    },
    "language_info": {
      "codemirror_mode": {
        "name": "ipython",
        "version": 3
      },
      "file_extension": ".py",
      "mimetype": "text/x-python",
      "name": "python",
      "nbconvert_exporter": "python",
      "pygments_lexer": "ipython3",
      "version": "3.9.5"
    },
    "varInspector": {
      "cols": {
        "lenName": 16,
        "lenType": 16,
        "lenVar": 40
      },
      "kernels_config": {
        "python": {
          "delete_cmd_postfix": "",
          "delete_cmd_prefix": "del ",
          "library": "var_list.py",
          "varRefreshCmd": "print(var_dic_list())"
        },
        "r": {
          "delete_cmd_postfix": ") ",
          "delete_cmd_prefix": "rm(",
          "library": "var_list.r",
          "varRefreshCmd": "cat(var_dic_list()) "
        }
      },
      "types_to_exclude": [
        "module",
        "function",
        "builtin_function_or_method",
        "instance",
        "_Feature"
      ],
      "window_display": false
    },
    "colab": {
      "name": "Gradient Descent and Integrals.ipynb adlı not defterinin kopyası",
      "provenance": [],
      "collapsed_sections": [],
      "include_colab_link": true
    }
  },
  "cells": [
    {
      "cell_type": "markdown",
      "metadata": {
        "id": "view-in-github",
        "colab_type": "text"
      },
      "source": [
        "<a href=\"https://colab.research.google.com/github/remre/StriveSchool-ai/blob/main/week3/d4/Gradient_Descent_and_Integrals_sol.ipynb\" target=\"_parent\"><img src=\"https://colab.research.google.com/assets/colab-badge.svg\" alt=\"Open In Colab\"/></a>"
      ]
    },
    {
      "cell_type": "code",
      "metadata": {
        "ExecuteTime": {
          "end_time": "2021-07-14T22:17:29.865436Z",
          "start_time": "2021-07-14T22:17:29.857499Z"
        },
        "id": "77013c6d"
      },
      "source": [
        "import numpy as np\n",
        "import matplotlib.pyplot as plt\n"
      ],
      "id": "77013c6d",
      "execution_count": 3,
      "outputs": []
    },
    {
      "cell_type": "code",
      "metadata": {
        "ExecuteTime": {
          "end_time": "2021-07-14T22:18:04.821952Z",
          "start_time": "2021-07-14T22:18:04.814361Z"
        },
        "id": "d176a7a0"
      },
      "source": [
        "from scipy.misc import derivative"
      ],
      "id": "d176a7a0",
      "execution_count": 4,
      "outputs": []
    },
    {
      "cell_type": "code",
      "metadata": {
        "ExecuteTime": {
          "end_time": "2021-07-15T05:06:03.302850Z",
          "start_time": "2021-07-15T05:06:03.297640Z"
        },
        "id": "fe1eb755"
      },
      "source": [
        "def function(x):\n",
        "    return 10*np.sin(x) - np.sin(1/x) + 5*np.cos(2*x) + 1/2*np.sin(np.exp(x)) + x"
      ],
      "id": "fe1eb755",
      "execution_count": 5,
      "outputs": []
    },
    {
      "cell_type": "code",
      "metadata": {
        "ExecuteTime": {
          "end_time": "2021-07-15T05:06:03.913501Z",
          "start_time": "2021-07-15T05:06:03.907662Z"
        },
        "id": "0ae33dca"
      },
      "source": [
        "x = np.linspace(-7,5,10000)\n",
        "X, Y = x, function(x)"
      ],
      "id": "0ae33dca",
      "execution_count": 6,
      "outputs": []
    },
    {
      "cell_type": "code",
      "metadata": {
        "ExecuteTime": {
          "end_time": "2021-07-15T05:06:04.168845Z",
          "start_time": "2021-07-15T05:06:04.062639Z"
        },
        "id": "801c63ed",
        "colab": {
          "base_uri": "https://localhost:8080/",
          "height": 282
        },
        "outputId": "3a7dc950-0fa5-4025-b9ee-dee8700353dc"
      },
      "source": [
        "plt.plot(X, Y)"
      ],
      "id": "801c63ed",
      "execution_count": 7,
      "outputs": [
        {
          "output_type": "execute_result",
          "data": {
            "text/plain": [
              "[<matplotlib.lines.Line2D at 0x7ff4902bac90>]"
            ]
          },
          "metadata": {
            "tags": []
          },
          "execution_count": 7
        },
        {
          "output_type": "display_data",
          "data": {
            "image/png": "[encoded data removed]",
            "text/plain": [
              "<Figure size 432x288 with 1 Axes>"
            ]
          },
          "metadata": {
            "tags": [],
            "needs_background": "light"
          }
        }
      ]
    },
    {
      "cell_type": "markdown",
      "metadata": {
        "id": "3009ab9e"
      },
      "source": [
        "The following algorithm is supposed to iteratively find the minimum of a function. \n",
        "\n",
        "What problem does it have?"
      ],
      "id": "3009ab9e"
    },
    {
      "cell_type": "code",
      "metadata": {
        "ExecuteTime": {
          "end_time": "2021-07-15T05:06:08.932205Z",
          "start_time": "2021-07-15T05:06:08.786842Z"
        },
        "id": "62f8d49c",
        "colab": {
          "base_uri": "https://localhost:8080/",
          "height": 297
        },
        "outputId": "53428c47-d32e-4f3c-dbb1-d50c44f4af5a"
      },
      "source": [
        "import matplotlib.cm as cm\n",
        "x = X\n",
        "index = np.random.randint(0, len(x)) # randomly select an index to sample a point\n",
        "point = x[index] # sample a point to start\n",
        "derivative_in_point = derivative(function, point)\n",
        "it = 0 # current iteration\n",
        "max_it = 100 # set the max number of iterations to avoid infinite loops\n",
        "points = [] # list of the points we have inspected\n",
        "threshold = 0.01 # instead for waiting till we reach the 0 of the derivative, put a threshold\n",
        "while np.abs(derivative_in_point)> 0.01 and it<max_it: \n",
        "    if derivative_in_point < 0: # the slope is negative\n",
        "        x = x[index:] # since the slope is negative, the local minimum should be on the right\n",
        "        index = np.random.randint(0, len(x)) # randomly select an index\n",
        "        point = x[index] # sample the next point in the new interval\n",
        "        points.append(point) # store for later\n",
        "        derivative_in_point = derivative(function, point) # compute the derivative in the new point\n",
        "    else:\n",
        "        x = x[0:index+1] # the slope is positive, so the minimum should be on the left\n",
        "        index = np.random.randint(0, len(x))\n",
        "        point = x[index]\n",
        "        points.append(point)\n",
        "        derivative_in_point = derivative(function, point)\n",
        "    it +=1\n",
        "plt.figure()\n",
        "plt.plot(X,Y)\n",
        "plt.scatter(np.array(points), function(np.array(points)), c=range(len(points)), cmap=cm.jet)\n",
        "plt.title(str(it))\n",
        "plt.colorbar()\n"
      ],
      "id": "62f8d49c",
      "execution_count": 25,
      "outputs": [
        {
          "output_type": "execute_result",
          "data": {
            "text/plain": [
              "<matplotlib.colorbar.Colorbar at 0x7ff4837f0210>"
            ]
          },
          "metadata": {
            "tags": []
          },
          "execution_count": 25
        },
        {
          "output_type": "display_data",
          "data": {
            "image/png": "[encoded data removed]",
            "text/plain": [
              "<Figure size 432x288 with 2 Axes>"
            ]
          },
          "metadata": {
            "tags": [],
            "needs_background": "light"
          }
        }
      ]
    },
    {
      "cell_type": "markdown",
      "metadata": {
        "ExecuteTime": {
          "end_time": "2021-07-15T04:59:21.373210Z",
          "start_time": "2021-07-15T04:59:21.369706Z"
        },
        "id": "1f4cc810"
      },
      "source": [
        "## Exercise\n",
        "\n",
        "1. Can you make the algorithm above to be implemented into a fuction `gradient_descent(function, X, max_it)`?\n",
        "\n",
        "2. Run the experiment multiple times: do you notice any important difference at each iteration?"
      ],
      "id": "1f4cc810"
    },
    {
      "cell_type": "code",
      "metadata": {
        "id": "FMbPWKsjWu0M"
      },
      "source": [
        "def gradient_descent(function, X, max_it):\n",
        "  return print(amax(function))"
      ],
      "id": "FMbPWKsjWu0M",
      "execution_count": 27,
      "outputs": []
    },
    {
      "cell_type": "code",
      "metadata": {
        "id": "kulaPC4fZI4Q"
      },
      "source": [
        "import matplotlib.cm as cm\n",
        "def gradient_descent(function,X,max_it):\n",
        "  \n",
        "x = X\n",
        "index = np.random.randint(0, len(x)) # randomly select an index to sample a point\n",
        "point = x[index] # sample a point to start\n",
        "derivative_in_point = derivative(function, point)\n",
        "it = 0 # current iteration\n",
        "max_it = 100 # set the max number of iterations to avoid infinite loops\n",
        "points = [] # list of the points we have inspected\n",
        "threshold = 0.01 # instead for waiting till we reach the 0 of the derivative, put a threshold\n",
        "while np.abs(derivative_in_point)> 0.01 and it<max_it: \n",
        "    if derivative_in_point < 0: # the slope is negative\n",
        "        x = x[index:] # since the slope is negative, the local minimum should be on the right\n",
        "        index = np.random.randint(0, len(x)) # randomly select an index\n",
        "        point = x[index] # sample the next point in the new interval\n",
        "        points.append(point) # store for later\n",
        "        derivative_in_point = derivative(function, point) # compute the derivative in the new point\n",
        "    else:\n",
        "        x = x[0:index+1] # the slope is positive, so the minimum should be on the left\n",
        "        index = np.random.randint(0, len(x))\n",
        "        point = x[index]\n",
        "        points.append(point)\n",
        "        derivative_in_point = derivative(function, point)\n",
        "    it +=1\n",
        "plt.figure()\n",
        "plt.plot(X,Y)\n",
        "plt.scatter(np.array(points), function(np.array(points)), c=range(len(points)), cmap=cm.jet)\n",
        "plt.title(str(it))\n",
        "plt.colorbar()\n"
      ],
      "id": "kulaPC4fZI4Q",
      "execution_count": null,
      "outputs": []
    },
    {
      "cell_type": "markdown",
      "metadata": {
        "id": "14952b46"
      },
      "source": [
        "## Integral\n",
        "\n",
        "Scipy library also offers the possibility to compute the integral of a function.\n",
        "\n",
        "In addition, the method `plt.fill_between(section, function(section)` colors the area under the curve of a generic function. \n",
        "\n",
        "Search the documentation of both and compute the area under the curve of the functions in the given intervals of the following exercises and plot them.\n",
        "\n"
      ],
      "id": "14952b46"
    },
    {
      "cell_type": "code",
      "metadata": {
        "id": "72456a02"
      },
      "source": [
        ""
      ],
      "id": "72456a02",
      "execution_count": null,
      "outputs": []
    },
    {
      "cell_type": "markdown",
      "metadata": {
        "id": "309995f2"
      },
      "source": [
        "### Example\n",
        "\n",
        "interval = \\[2,5\\]\n",
        "\n",
        "Function f(x) = x\n"
      ],
      "id": "309995f2"
    },
    {
      "cell_type": "code",
      "metadata": {
        "ExecuteTime": {
          "end_time": "2021-07-15T05:24:41.460236Z",
          "start_time": "2021-07-15T05:24:41.452053Z"
        },
        "id": "eb913413",
        "colab": {
          "base_uri": "https://localhost:8080/"
        },
        "outputId": "685d4722-4b07-4d5b-c6f8-b1704f8b0c9b"
      },
      "source": [
        "from scipy import integrate\n",
        "a, b = [2, 5]\n",
        "def f(x):\n",
        "    return x\n",
        "\n",
        "result = integrate.quad(f, a, b)\n",
        "result"
      ],
      "id": "eb913413",
      "execution_count": 22,
      "outputs": [
        {
          "output_type": "execute_result",
          "data": {
            "text/plain": [
              "(10.5, 1.1657341758564144e-13)"
            ]
          },
          "metadata": {
            "tags": []
          },
          "execution_count": 22
        }
      ]
    },
    {
      "cell_type": "markdown",
      "metadata": {
        "id": "930d9b53"
      },
      "source": [
        "The return value is a tuple, with the first element holding the estimated value of the integral and the second element holding an upper bound on the error.\n",
        "\n",
        "More in https://docs.scipy.org/doc/scipy/reference/tutorial/integrate.html ."
      ],
      "id": "930d9b53"
    },
    {
      "cell_type": "code",
      "metadata": {
        "ExecuteTime": {
          "end_time": "2021-07-15T05:24:41.798133Z",
          "start_time": "2021-07-15T05:24:41.793367Z"
        },
        "id": "2db71d3a",
        "colab": {
          "base_uri": "https://localhost:8080/"
        },
        "outputId": "94aaf411-6561-41da-e21c-201c27f654b5"
      },
      "source": [
        "area_under_the_curve = result[0]\n",
        "result[0]"
      ],
      "id": "2db71d3a",
      "execution_count": null,
      "outputs": [
        {
          "output_type": "execute_result",
          "data": {
            "text/plain": [
              "10.5"
            ]
          },
          "metadata": {
            "tags": []
          },
          "execution_count": 26
        }
      ]
    },
    {
      "cell_type": "code",
      "metadata": {
        "ExecuteTime": {
          "end_time": "2021-07-15T05:24:42.072114Z",
          "start_time": "2021-07-15T05:24:41.968014Z"
        },
        "id": "fc720614",
        "outputId": "630ac1a1-4d91-4d59-f505-103e78df4f26"
      },
      "source": [
        "x = np.linspace(1,10, 100)\n",
        "section = np.arange(2, 5, 1/20)\n",
        "plt.plot(x, f(x))\n",
        "plt.fill_between(section,f(section))\n"
      ],
      "id": "fc720614",
      "execution_count": null,
      "outputs": [
        {
          "output_type": "execute_result",
          "data": {
            "text/plain": [
              "<matplotlib.collections.PolyCollection at 0x7f8479b9e130>"
            ]
          },
          "metadata": {
            "tags": []
          },
          "execution_count": 223
        },
        {
          "output_type": "display_data",
          "data": {
            "image/png": "[encoded data removed]",
            "text/plain": [
              "<Figure size 432x288 with 1 Axes>"
            ]
          },
          "metadata": {
            "tags": [],
            "needs_background": "light"
          }
        }
      ]
    },
    {
      "cell_type": "code",
      "metadata": {
        "id": "f5594592"
      },
      "source": [
        ""
      ],
      "id": "f5594592",
      "execution_count": null,
      "outputs": []
    },
    {
      "cell_type": "markdown",
      "metadata": {
        "id": "63b7cacc"
      },
      "source": [
        "1. interval = \\[2,5\\]\n",
        "\n",
        "Function f(x) = 5\n",
        "\n",
        "Compare the result computing the area by hand. Does it make sense?\n",
        "\n",
        "Be careful: defining a constant function, you may end up with a single number instead of an array of the same size of the input. For this, I recommend to put in your function `constant_value*np.ones_like(x)`."
      ],
      "id": "63b7cacc"
    },
    {
      "cell_type": "code",
      "metadata": {
        "id": "d512ca42",
        "colab": {
          "base_uri": "https://localhost:8080/"
        },
        "outputId": "424f3b7a-a67e-43d6-ad0b-cc150c67aee3"
      },
      "source": [
        "a, b = [2, 5]\n",
        "def f1(x):\n",
        "    return 5\n",
        "\n",
        "result = integrate.quad(f, a, b)\n",
        "result"
      ],
      "id": "d512ca42",
      "execution_count": 59,
      "outputs": [
        {
          "output_type": "execute_result",
          "data": {
            "text/plain": [
              "(15.0, 1.6653345369377348e-13)"
            ]
          },
          "metadata": {
            "tags": []
          },
          "execution_count": 59
        }
      ]
    },
    {
      "cell_type": "code",
      "metadata": {
        "colab": {
          "base_uri": "https://localhost:8080/",
          "height": 282
        },
        "id": "mepyEJ2EYhrz",
        "outputId": "4d09f2b1-a829-4da6-d878-c7ef64614f9a"
      },
      "source": [
        "\n",
        "x = np.linspace(1,10, 100)\n",
        "section = np.arange(2, 5, 1/20)\n",
        "plt.plot(5, f1(x))\n",
        "plt.fill_between(section,f1(section))"
      ],
      "id": "mepyEJ2EYhrz",
      "execution_count": 70,
      "outputs": [
        {
          "output_type": "execute_result",
          "data": {
            "text/plain": [
              "<matplotlib.collections.PolyCollection at 0x7ff47ebe8b50>"
            ]
          },
          "metadata": {
            "tags": []
          },
          "execution_count": 70
        },
        {
          "output_type": "display_data",
          "data": {
            "image/png": "[encoded data removed]",
            "text/plain": [
              "<Figure size 432x288 with 1 Axes>"
            ]
          },
          "metadata": {
            "tags": [],
            "needs_background": "light"
          }
        }
      ]
    },
    {
      "cell_type": "markdown",
      "metadata": {
        "id": "055f51bf"
      },
      "source": [
        "2. interval = \\[-1,1\\]\n",
        "\n",
        "Function f(x) = 1/x"
      ],
      "id": "055f51bf"
    },
    {
      "cell_type": "code",
      "metadata": {
        "id": "441e6cf1"
      },
      "source": [
        "a, b = [-1, -0.000001]\n",
        "c,d = [0.0000001,1]\n",
        "def f2(x):\n",
        "    return 1/x\n",
        "\n",
        "result = integrate.nquad(f2, [[c, d],[a, b]])\n",
        "result\n"
      ],
      "id": "441e6cf1",
      "execution_count": null,
      "outputs": []
    },
    {
      "cell_type": "markdown",
      "metadata": {
        "id": "1a875aac"
      },
      "source": [
        "2. interval = \\[-pi,pi\\]\n",
        "\n",
        "Function f(x) = sin(x)"
      ],
      "id": "1a875aac"
    },
    {
      "cell_type": "code",
      "metadata": {
        "id": "2da53c67",
        "colab": {
          "base_uri": "https://localhost:8080/"
        },
        "outputId": "e39aea07-2132-4530-ff54-5806d1f90477"
      },
      "source": [
        "import numpy as np\n",
        "a, b = [-np.pi,np.pi ]\n",
        "def fp(x):\n",
        "    return np.sin(x)\n",
        "\n",
        "result = integrate.quad(fp, a, b)\n",
        "result[0]"
      ],
      "id": "2da53c67",
      "execution_count": 44,
      "outputs": [
        {
          "output_type": "execute_result",
          "data": {
            "text/plain": [
              "0.0"
            ]
          },
          "metadata": {
            "tags": []
          },
          "execution_count": 44
        }
      ]
    },
    {
      "cell_type": "code",
      "metadata": {
        "colab": {
          "base_uri": "https://localhost:8080/",
          "height": 282
        },
        "id": "cTjF-TRLY0Gg",
        "outputId": "8dae2f5d-b699-4e56-a1a8-9cb08c1c1021"
      },
      "source": [
        "x = np.linspace(-5,5, 100)\n",
        "section = np.arange(-np.pi, np.pi, 1/20)\n",
        "plt.plot(x, fp(x))\n",
        "plt.fill_between(section,fp(section))"
      ],
      "id": "cTjF-TRLY0Gg",
      "execution_count": 57,
      "outputs": [
        {
          "output_type": "execute_result",
          "data": {
            "text/plain": [
              "<matplotlib.collections.PolyCollection at 0x7ff47edeb9d0>"
            ]
          },
          "metadata": {
            "tags": []
          },
          "execution_count": 57
        },
        {
          "output_type": "display_data",
          "data": {
            "image/png": "[encoded data removed]",
            "text/plain": [
              "<Figure size 432x288 with 1 Axes>"
            ]
          },
          "metadata": {
            "tags": [],
            "needs_background": "light"
          }
        }
      ]
    },
    {
      "cell_type": "markdown",
      "metadata": {
        "id": "4ebf3b17"
      },
      "source": [
        "3. interval = \\[-pi,pi\\]\n",
        "\n",
        "Function f(x) = cos(x)\n"
      ],
      "id": "4ebf3b17"
    },
    {
      "cell_type": "code",
      "metadata": {
        "id": "c189dc72",
        "colab": {
          "base_uri": "https://localhost:8080/"
        },
        "outputId": "d9664641-4d64-49a1-dd86-e87790380fe9"
      },
      "source": [
        "a, b = [-np.pi,np.pi ]\n",
        "def fpp(x):\n",
        "    return np.cos(x)\n",
        "\n",
        "result = integrate.quad(fp, a, b)\n",
        "result[0]"
      ],
      "id": "c189dc72",
      "execution_count": 64,
      "outputs": [
        {
          "output_type": "execute_result",
          "data": {
            "text/plain": [
              "0.0"
            ]
          },
          "metadata": {
            "tags": []
          },
          "execution_count": 64
        }
      ]
    },
    {
      "cell_type": "code",
      "metadata": {
        "colab": {
          "base_uri": "https://localhost:8080/",
          "height": 282
        },
        "id": "aPkiJJ6WbsRM",
        "outputId": "e74f93fa-5575-417a-aad2-520c0023b56f"
      },
      "source": [
        "x = np.linspace(-5,5, 100)\n",
        "section = np.arange(-np.pi, np.pi, 1/20)\n",
        "plt.plot(x, fpp(x))\n",
        "plt.fill_between(section,fpp(section))"
      ],
      "id": "aPkiJJ6WbsRM",
      "execution_count": 65,
      "outputs": [
        {
          "output_type": "execute_result",
          "data": {
            "text/plain": [
              "<matplotlib.collections.PolyCollection at 0x7ff47ebd4150>"
            ]
          },
          "metadata": {
            "tags": []
          },
          "execution_count": 65
        },
        {
          "output_type": "display_data",
          "data": {
            "image/png": "[encoded data removed]",
            "text/plain": [
              "<Figure size 432x288 with 1 Axes>"
            ]
          },
          "metadata": {
            "tags": [],
            "needs_background": "light"
          }
        }
      ]
    },
    {
      "cell_type": "markdown",
      "metadata": {
        "id": "17ef84dc"
      },
      "source": [
        "2. interval = \\[-pi,pi\\]\n",
        "\n",
        "Function f(x) = sin(x) - cos(2x)"
      ],
      "id": "17ef84dc"
    },
    {
      "cell_type": "code",
      "metadata": {
        "id": "49ab80c2",
        "colab": {
          "base_uri": "https://localhost:8080/"
        },
        "outputId": "d3434a9e-f0fc-4b12-8a9e-7a30bd56c929"
      },
      "source": [
        "a, b = [-np.pi,np.pi ]\n",
        "def f2pp(x):\n",
        "    return np.sin(x)-np.cos(2*x)\n",
        "\n",
        "result = integrate.quad(fp, a, b)\n",
        "result[0]"
      ],
      "id": "49ab80c2",
      "execution_count": 67,
      "outputs": [
        {
          "output_type": "execute_result",
          "data": {
            "text/plain": [
              "0.0"
            ]
          },
          "metadata": {
            "tags": []
          },
          "execution_count": 67
        }
      ]
    },
    {
      "cell_type": "code",
      "metadata": {
        "colab": {
          "base_uri": "https://localhost:8080/",
          "height": 282
        },
        "id": "dOiRSkhZb7ak",
        "outputId": "ca518a8c-df81-45b5-e071-583310193cd7"
      },
      "source": [
        "x = np.linspace(-5,5, 100)\n",
        "section = np.arange(-np.pi, np.pi, 1/20)\n",
        "plt.plot(x, f2pp(x))\n",
        "plt.fill_between(section,f2pp(section))"
      ],
      "id": "dOiRSkhZb7ak",
      "execution_count": 68,
      "outputs": [
        {
          "output_type": "execute_result",
          "data": {
            "text/plain": [
              "<matplotlib.collections.PolyCollection at 0x7ff47eb78050>"
            ]
          },
          "metadata": {
            "tags": []
          },
          "execution_count": 68
        },
        {
          "output_type": "display_data",
          "data": {
            "image/png": "[encoded data removed]",
            "text/plain": [
              "<Figure size 432x288 with 1 Axes>"
            ]
          },
          "metadata": {
            "tags": [],
            "needs_background": "light"
          }
        }
      ]
    },
    {
      "cell_type": "code",
      "metadata": {
        "id": "OUIvCUqxcGtN"
      },
      "source": [
        ""
      ],
      "id": "OUIvCUqxcGtN",
      "execution_count": null,
      "outputs": []
    }
  ]
}