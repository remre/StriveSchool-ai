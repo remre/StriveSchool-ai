{
  "nbformat": 4,
  "nbformat_minor": 5,
  "metadata": {
    "kernelspec": {
      "display_name": "Python 3",
      "language": "python",
      "name": "python3"
    },
    "language_info": {
      "codemirror_mode": {
        "name": "ipython",
        "version": 3
      },
      "file_extension": ".py",
      "mimetype": "text/x-python",
      "name": "python",
      "nbconvert_exporter": "python",
      "pygments_lexer": "ipython3",
      "version": "3.9.5"
    },
    "varInspector": {
      "cols": {
        "lenName": 16,
        "lenType": 16,
        "lenVar": 40
      },
      "kernels_config": {
        "python": {
          "delete_cmd_postfix": "",
          "delete_cmd_prefix": "del ",
          "library": "var_list.py",
          "varRefreshCmd": "print(var_dic_list())"
        },
        "r": {
          "delete_cmd_postfix": ") ",
          "delete_cmd_prefix": "rm(",
          "library": "var_list.r",
          "varRefreshCmd": "cat(var_dic_list()) "
        }
      },
      "types_to_exclude": [
        "module",
        "function",
        "builtin_function_or_method",
        "instance",
        "_Feature"
      ],
      "window_display": false
    },
    "colab": {
      "name": "zip and lambda.ipynb",
      "provenance": [],
      "toc_visible": true
    }
  },
  "cells": [
    {
      "cell_type": "markdown",
      "metadata": {
        "id": "f4cd5bed"
      },
      "source": [
        "## The zip method"
      ],
      "id": "f4cd5bed"
    },
    {
      "cell_type": "markdown",
      "metadata": {
        "id": "1e778283"
      },
      "source": [
        "The `zip` method is very useful for Machine Learning or Data Science problem, because it comes handy when you need to iterate over features and labels at the same time.\n",
        "\n",
        "I think it's easier to see it with an example: let's say you have some coordinates, `X`and `y`. If you have only one point, you can think to have something like:"
      ],
      "id": "1e778283"
    },
    {
      "cell_type": "code",
      "metadata": {
        "ExecuteTime": {
          "end_time": "2021-07-15T20:11:34.149447Z",
          "start_time": "2021-07-15T20:11:34.143783Z"
        },
        "id": "c51a0ac7"
      },
      "source": [
        "X = 5\n",
        "y = 1"
      ],
      "id": "c51a0ac7",
      "execution_count": 2,
      "outputs": []
    },
    {
      "cell_type": "markdown",
      "metadata": {
        "id": "2506bd75"
      },
      "source": [
        "and then to plot it you could do:"
      ],
      "id": "2506bd75"
    },
    {
      "cell_type": "code",
      "metadata": {
        "ExecuteTime": {
          "end_time": "2021-07-15T20:11:59.928584Z",
          "start_time": "2021-07-15T20:11:59.788993Z"
        },
        "id": "e69dfe7a",
        "outputId": "2d0edd5a-01d5-4828-f5ad-d60987d3404b",
        "colab": {
          "base_uri": "https://localhost:8080/",
          "height": 282
        }
      },
      "source": [
        "import matplotlib.pyplot as plt\n",
        "\n",
        "plt.scatter(X,y)"
      ],
      "id": "e69dfe7a",
      "execution_count": 3,
      "outputs": [
        {
          "output_type": "execute_result",
          "data": {
            "text/plain": [
              "<matplotlib.collections.PathCollection at 0x7f55347eba10>"
            ]
          },
          "metadata": {
            "tags": []
          },
          "execution_count": 3
        },
        {
          "output_type": "display_data",
          "data": {
            "image/png": "[encoded data removed]",
            "text/plain": [
              "<Figure size 432x288 with 1 Axes>"
            ]
          },
          "metadata": {
            "tags": [],
            "needs_background": "light"
          }
        }
      ]
    },
    {
      "cell_type": "markdown",
      "metadata": {
        "id": "80219de3"
      },
      "source": [
        "and you get your point. If you have multiple points, they are usually given with all the values of `X` in one list, and the value of the corresponding `y`s in another list, for example:"
      ],
      "id": "80219de3"
    },
    {
      "cell_type": "code",
      "metadata": {
        "ExecuteTime": {
          "end_time": "2021-07-15T20:15:30.599274Z",
          "start_time": "2021-07-15T20:15:30.488076Z"
        },
        "id": "da985583",
        "outputId": "8aea6d96-064b-44c9-a493-4b0fff28a082",
        "colab": {
          "base_uri": "https://localhost:8080/",
          "height": 282
        }
      },
      "source": [
        "X = [0,5,3,2,1,0]\n",
        "y = [1,1,0,2,1,0]\n",
        "\n",
        "plt.scatter(X,y)"
      ],
      "id": "da985583",
      "execution_count": 4,
      "outputs": [
        {
          "output_type": "execute_result",
          "data": {
            "text/plain": [
              "<matplotlib.collections.PathCollection at 0x7f552e49ac90>"
            ]
          },
          "metadata": {
            "tags": []
          },
          "execution_count": 4
        },
        {
          "output_type": "display_data",
          "data": {
            "image/png": "[encoded data removed]",
            "text/plain": [
              "<Figure size 432x288 with 1 Axes>"
            ]
          },
          "metadata": {
            "tags": [],
            "needs_background": "light"
          }
        }
      ]
    },
    {
      "cell_type": "markdown",
      "metadata": {
        "id": "5a681d7c"
      },
      "source": [
        "To plot a single point, you need to select the $i$-th term of `X` and the $i$-th term of `y`, for example doing something like this to plot the third (index 2, since Python starts from 0) point of the two lists:"
      ],
      "id": "5a681d7c"
    },
    {
      "cell_type": "code",
      "metadata": {
        "ExecuteTime": {
          "end_time": "2021-07-15T20:17:52.963953Z",
          "start_time": "2021-07-15T20:17:52.851904Z"
        },
        "id": "c7a9c453",
        "outputId": "55ec754a-831c-4a7f-8389-676834b5130d",
        "colab": {
          "base_uri": "https://localhost:8080/",
          "height": 282
        }
      },
      "source": [
        "plt.scatter(X[2], y[2])"
      ],
      "id": "c7a9c453",
      "execution_count": 5,
      "outputs": [
        {
          "output_type": "execute_result",
          "data": {
            "text/plain": [
              "<matplotlib.collections.PathCollection at 0x7f552deecad0>"
            ]
          },
          "metadata": {
            "tags": []
          },
          "execution_count": 5
        },
        {
          "output_type": "display_data",
          "data": {
            "image/png": "[encoded data removed]",
            "text/plain": [
              "<Figure size 432x288 with 1 Axes>"
            ]
          },
          "metadata": {
            "tags": [],
            "needs_background": "light"
          }
        }
      ]
    },
    {
      "cell_type": "markdown",
      "metadata": {
        "id": "450d46ad"
      },
      "source": [
        "Now, what if you want to get the coordinates iteratively? \n",
        "For example in case you want to plot all the points one after the other, by using a for loop. How can you iterate over two lists at the same time?\n",
        "\n",
        "This is where `zip`comes handy:"
      ],
      "id": "450d46ad"
    },
    {
      "cell_type": "code",
      "metadata": {
        "ExecuteTime": {
          "end_time": "2021-07-15T20:19:16.217606Z",
          "start_time": "2021-07-15T20:19:16.213363Z"
        },
        "id": "1b31dcee",
        "outputId": "e9a280d0-54b2-432c-8e17-4fc9203458a3",
        "colab": {
          "base_uri": "https://localhost:8080/"
        }
      },
      "source": [
        "for i, j in zip(X, y):\n",
        "    print(i, j)"
      ],
      "id": "1b31dcee",
      "execution_count": 6,
      "outputs": [
        {
          "output_type": "stream",
          "text": [
            "0 1\n",
            "5 1\n",
            "3 0\n",
            "2 2\n",
            "1 1\n",
            "0 0\n"
          ],
          "name": "stdout"
        }
      ]
    },
    {
      "cell_type": "markdown",
      "metadata": {
        "id": "c260aa22"
      },
      "source": [
        "If you want to inspect what it does:"
      ],
      "id": "c260aa22"
    },
    {
      "cell_type": "code",
      "metadata": {
        "ExecuteTime": {
          "end_time": "2021-07-15T20:19:35.882705Z",
          "start_time": "2021-07-15T20:19:35.875404Z"
        },
        "id": "6a1de127",
        "outputId": "e19866c9-4050-42e1-b5b3-e0a19621e7bd",
        "colab": {
          "base_uri": "https://localhost:8080/"
        }
      },
      "source": [
        "list(zip(X,y))"
      ],
      "id": "6a1de127",
      "execution_count": 7,
      "outputs": [
        {
          "output_type": "execute_result",
          "data": {
            "text/plain": [
              "[(0, 1), (5, 1), (3, 0), (2, 2), (1, 1), (0, 0)]"
            ]
          },
          "metadata": {
            "tags": []
          },
          "execution_count": 7
        }
      ]
    },
    {
      "cell_type": "markdown",
      "metadata": {
        "id": "3d19e8a8"
      },
      "source": [
        "It's basically creating a list with tuples containing the $i$-th value of `X` with the $i$-th value of `y`!"
      ],
      "id": "3d19e8a8"
    },
    {
      "cell_type": "markdown",
      "metadata": {
        "ExecuteTime": {
          "end_time": "2021-07-15T20:20:35.823233Z",
          "start_time": "2021-07-15T20:20:35.818442Z"
        },
        "id": "f5cfcb3a"
      },
      "source": [
        "You can use zip with multiple lists too:\n",
        "    "
      ],
      "id": "f5cfcb3a"
    },
    {
      "cell_type": "code",
      "metadata": {
        "ExecuteTime": {
          "end_time": "2021-07-15T20:21:09.626851Z",
          "start_time": "2021-07-15T20:21:09.622142Z"
        },
        "id": "3d5adbf2"
      },
      "source": [
        "a = [1,2,3,4,5]\n",
        "b = [\"a\", \"b\", \"c\", \"d\", \"e\"]\n",
        "c = [10, 9, 8, 7, 6]"
      ],
      "id": "3d5adbf2",
      "execution_count": 8,
      "outputs": []
    },
    {
      "cell_type": "code",
      "metadata": {
        "ExecuteTime": {
          "end_time": "2021-07-15T20:21:37.625713Z",
          "start_time": "2021-07-15T20:21:37.620994Z"
        },
        "id": "ac6a3837",
        "outputId": "c548a747-c6ea-4d0f-9fb8-8df4292eb376",
        "colab": {
          "base_uri": "https://localhost:8080/"
        }
      },
      "source": [
        "for i, j, k in zip(a, b, c):\n",
        "    print(i, j, k)"
      ],
      "id": "ac6a3837",
      "execution_count": 9,
      "outputs": [
        {
          "output_type": "stream",
          "text": [
            "1 a 10\n",
            "2 b 9\n",
            "3 c 8\n",
            "4 d 7\n",
            "5 e 6\n"
          ],
          "name": "stdout"
        }
      ]
    },
    {
      "cell_type": "code",
      "metadata": {
        "ExecuteTime": {
          "end_time": "2021-07-15T20:21:54.738196Z",
          "start_time": "2021-07-15T20:21:54.731940Z"
        },
        "id": "913f1b81",
        "outputId": "b353e0c5-b7c3-4973-cb1b-f3efa9a96e55",
        "colab": {
          "base_uri": "https://localhost:8080/"
        }
      },
      "source": [
        "list(zip(a, b, c))"
      ],
      "id": "913f1b81",
      "execution_count": 10,
      "outputs": [
        {
          "output_type": "execute_result",
          "data": {
            "text/plain": [
              "[(1, 'a', 10), (2, 'b', 9), (3, 'c', 8), (4, 'd', 7), (5, 'e', 6)]"
            ]
          },
          "metadata": {
            "tags": []
          },
          "execution_count": 10
        }
      ]
    },
    {
      "cell_type": "markdown",
      "metadata": {
        "id": "11625e22"
      },
      "source": [
        "What if the lists have different lengths? Let's try out:"
      ],
      "id": "11625e22"
    },
    {
      "cell_type": "code",
      "metadata": {
        "ExecuteTime": {
          "end_time": "2021-07-15T20:22:26.485684Z",
          "start_time": "2021-07-15T20:22:26.482034Z"
        },
        "id": "db0936b4"
      },
      "source": [
        "a = [1,2,3]\n",
        "b = [\"a\", \"b\", \"c\", \"d\"]\n",
        "c = [10, 9, 8, 7, 6]"
      ],
      "id": "db0936b4",
      "execution_count": 11,
      "outputs": []
    },
    {
      "cell_type": "code",
      "metadata": {
        "ExecuteTime": {
          "end_time": "2021-07-15T20:22:44.348631Z",
          "start_time": "2021-07-15T20:22:44.344215Z"
        },
        "id": "86264345",
        "outputId": "2949103c-99f0-48dd-cc9b-13c5751ceb71",
        "colab": {
          "base_uri": "https://localhost:8080/"
        }
      },
      "source": [
        "for i, j, k in zip(a, b, c):\n",
        "    print(i, j, k)"
      ],
      "id": "86264345",
      "execution_count": 12,
      "outputs": [
        {
          "output_type": "stream",
          "text": [
            "1 a 10\n",
            "2 b 9\n",
            "3 c 8\n"
          ],
          "name": "stdout"
        }
      ]
    },
    {
      "cell_type": "markdown",
      "metadata": {
        "id": "9275f7e9"
      },
      "source": [
        "It will stop at the length of the shortest one!"
      ],
      "id": "9275f7e9"
    },
    {
      "cell_type": "markdown",
      "metadata": {
        "id": "81308d82"
      },
      "source": [
        "### Exercise\n",
        "\n",
        "Given the following X and y, can you get an output like the one given as output\n",
        "```\n",
        "(1, 2) 1\n",
        "(1, 3) 1\n",
        "(3, 4) 1\n",
        "(4, 5) 0\n",
        "```\n",
        "?"
      ],
      "id": "81308d82"
    },
    {
      "cell_type": "code",
      "metadata": {
        "ExecuteTime": {
          "end_time": "2021-07-15T20:25:16.726895Z",
          "start_time": "2021-07-15T20:25:16.722721Z"
        },
        "id": "33c87b1a"
      },
      "source": [
        "X = [(1,2), (1,3), (3,4), (4,5)]\n",
        "y = [1, 1, 1, 0]"
      ],
      "id": "33c87b1a",
      "execution_count": 13,
      "outputs": []
    },
    {
      "cell_type": "code",
      "metadata": {
        "ExecuteTime": {
          "end_time": "2021-07-15T20:25:35.737304Z",
          "start_time": "2021-07-15T20:25:35.733450Z"
        },
        "id": "ee48e180",
        "outputId": "74ae48b5-ef99-4525-b1e1-499c45694be1",
        "colab": {
          "base_uri": "https://localhost:8080/"
        }
      },
      "source": [
        "#zipped them than print them as an output like as\n",
        "for i, j in  zip(X,y):\n",
        "  print (i, j)"
      ],
      "id": "ee48e180",
      "execution_count": 14,
      "outputs": [
        {
          "output_type": "stream",
          "text": [
            "(1, 2) 1\n",
            "(1, 3) 1\n",
            "(3, 4) 1\n",
            "(4, 5) 0\n"
          ],
          "name": "stdout"
        }
      ]
    },
    {
      "cell_type": "code",
      "metadata": {
        "id": "sG-0E0YPMWVO",
        "outputId": "d4238e96-ec3e-4b38-e283-5100d9fe81a7",
        "colab": {
          "base_uri": "https://localhost:8080/"
        }
      },
      "source": [
        "def zipp(X,y):\n",
        "  for i, j in zip(X,y):\n",
        "    return print(i, j)\n",
        "zipp(X,y)"
      ],
      "id": "sG-0E0YPMWVO",
      "execution_count": 15,
      "outputs": [
        {
          "output_type": "stream",
          "text": [
            "(1, 2) 1\n"
          ],
          "name": "stdout"
        }
      ]
    },
    {
      "cell_type": "markdown",
      "metadata": {
        "id": "72320350"
      },
      "source": [
        "## Lambda functions\n",
        "\n",
        "To define functions, usually you use a syntax like this:"
      ],
      "id": "72320350"
    },
    {
      "cell_type": "code",
      "metadata": {
        "ExecuteTime": {
          "end_time": "2021-07-15T20:35:27.857427Z",
          "start_time": "2021-07-15T20:35:27.851381Z"
        },
        "id": "34d7a142"
      },
      "source": [
        "def add_one(x):\n",
        "    return x + 1"
      ],
      "id": "34d7a142",
      "execution_count": 16,
      "outputs": []
    },
    {
      "cell_type": "markdown",
      "metadata": {
        "id": "749e3d1b"
      },
      "source": [
        "What this function is doing is to take an input `x`\n",
        " and return `x + 1`."
      ],
      "id": "749e3d1b"
    },
    {
      "cell_type": "code",
      "metadata": {
        "ExecuteTime": {
          "end_time": "2021-07-15T20:35:35.381441Z",
          "start_time": "2021-07-15T20:35:35.375380Z"
        },
        "id": "d0f07154",
        "outputId": "4c55adc8-cabf-4d99-ef05-b1c46a92a01a",
        "colab": {
          "base_uri": "https://localhost:8080/"
        }
      },
      "source": [
        "add_one(5)"
      ],
      "id": "d0f07154",
      "execution_count": 17,
      "outputs": [
        {
          "output_type": "execute_result",
          "data": {
            "text/plain": [
              "6"
            ]
          },
          "metadata": {
            "tags": []
          },
          "execution_count": 17
        }
      ]
    },
    {
      "cell_type": "markdown",
      "metadata": {
        "id": "cdbcfced"
      },
      "source": [
        "You can define that function also by using a lambda expression:"
      ],
      "id": "cdbcfced"
    },
    {
      "cell_type": "code",
      "metadata": {
        "ExecuteTime": {
          "end_time": "2021-07-15T20:36:17.415864Z",
          "start_time": "2021-07-15T20:36:17.412264Z"
        },
        "id": "101ebe3f"
      },
      "source": [
        "add_one_lambda = lambda x: x + 1"
      ],
      "id": "101ebe3f",
      "execution_count": 18,
      "outputs": []
    },
    {
      "cell_type": "markdown",
      "metadata": {
        "ExecuteTime": {
          "end_time": "2021-07-15T20:33:30.753777Z",
          "start_time": "2021-07-15T20:33:30.747008Z"
        },
        "id": "5e0c3850"
      },
      "source": [
        "In the example above, the expression is composed of:\n",
        "\n",
        "The keyword: `lambda`\n",
        "\n",
        "A bound variable: `x`\n",
        "\n",
        "A body: `x + 1`\n",
        "\n",
        "and the result is exactly the same as before:\n"
      ],
      "id": "5e0c3850"
    },
    {
      "cell_type": "code",
      "metadata": {
        "ExecuteTime": {
          "end_time": "2021-07-15T20:36:52.905173Z",
          "start_time": "2021-07-15T20:36:52.899545Z"
        },
        "id": "7c72b918",
        "outputId": "e6864402-e8f9-48f5-df7d-a87ec6b32b1a",
        "colab": {
          "base_uri": "https://localhost:8080/"
        }
      },
      "source": [
        "add_one_lambda(5)"
      ],
      "id": "7c72b918",
      "execution_count": 19,
      "outputs": [
        {
          "output_type": "execute_result",
          "data": {
            "text/plain": [
              "6"
            ]
          },
          "metadata": {
            "tags": []
          },
          "execution_count": 19
        }
      ]
    },
    {
      "cell_type": "markdown",
      "metadata": {
        "id": "6831a081"
      },
      "source": [
        "So the bound variable is the argument of your function, the body is what your function returns.\n",
        "\n",
        "A cool features is that you can define and use the function in the same command:"
      ],
      "id": "6831a081"
    },
    {
      "cell_type": "code",
      "metadata": {
        "ExecuteTime": {
          "end_time": "2021-07-15T20:38:09.941246Z",
          "start_time": "2021-07-15T20:38:09.936019Z"
        },
        "id": "903006c4",
        "outputId": "a367b49f-a208-4d08-fc41-f97adebf74b3",
        "colab": {
          "base_uri": "https://localhost:8080/"
        }
      },
      "source": [
        "(lambda x: x+1)(5)"
      ],
      "id": "903006c4",
      "execution_count": 20,
      "outputs": [
        {
          "output_type": "execute_result",
          "data": {
            "text/plain": [
              "6"
            ]
          },
          "metadata": {
            "tags": []
          },
          "execution_count": 20
        }
      ]
    },
    {
      "cell_type": "markdown",
      "metadata": {
        "ExecuteTime": {
          "end_time": "2021-07-15T20:38:42.343367Z",
          "start_time": "2021-07-15T20:38:42.336886Z"
        },
        "id": "e9572dd0"
      },
      "source": [
        "without even have to give a name to that function! This can be useful when you need to define functions that you use only once, and maybe inside another function, for example, transforming a number into zero if it's negative:"
      ],
      "id": "e9572dd0"
    },
    {
      "cell_type": "code",
      "metadata": {
        "ExecuteTime": {
          "end_time": "2021-07-15T20:54:51.770535Z",
          "start_time": "2021-07-15T20:54:51.767033Z"
        },
        "id": "efbd4d79"
      },
      "source": [
        "def function(y):\n",
        "    return y + (lambda x: x if x>=0 else 0)(y)"
      ],
      "id": "efbd4d79",
      "execution_count": 21,
      "outputs": []
    },
    {
      "cell_type": "code",
      "metadata": {
        "ExecuteTime": {
          "end_time": "2021-07-15T20:56:45.416352Z",
          "start_time": "2021-07-15T20:56:45.409373Z"
        },
        "id": "fc114222",
        "outputId": "754ea9eb-b6bd-486b-9006-eea66c07d145",
        "colab": {
          "base_uri": "https://localhost:8080/"
        }
      },
      "source": [
        "function(1), function(-5), function(6)"
      ],
      "id": "fc114222",
      "execution_count": 22,
      "outputs": [
        {
          "output_type": "execute_result",
          "data": {
            "text/plain": [
              "(2, -5, 12)"
            ]
          },
          "metadata": {
            "tags": []
          },
          "execution_count": 22
        }
      ]
    },
    {
      "cell_type": "markdown",
      "metadata": {
        "ExecuteTime": {
          "end_time": "2021-07-15T20:57:26.614462Z",
          "start_time": "2021-07-15T20:57:26.609622Z"
        },
        "id": "ceed2b70"
      },
      "source": [
        "A common use is for applying a transformation to all the elements of a pandas Series or DataFrame:"
      ],
      "id": "ceed2b70"
    },
    {
      "cell_type": "code",
      "metadata": {
        "ExecuteTime": {
          "end_time": "2021-07-15T20:59:00.539745Z",
          "start_time": "2021-07-15T20:59:00.016961Z"
        },
        "id": "6a9d5678"
      },
      "source": [
        "import pandas as pd"
      ],
      "id": "6a9d5678",
      "execution_count": 23,
      "outputs": []
    },
    {
      "cell_type": "code",
      "metadata": {
        "ExecuteTime": {
          "end_time": "2021-07-15T20:59:45.374129Z",
          "start_time": "2021-07-15T20:59:45.362291Z"
        },
        "id": "8c1e423d"
      },
      "source": [
        "df = pd.DataFrame({\"column1\":[1,-1,-5], \"column2\":[2,\"0\",1]})"
      ],
      "id": "8c1e423d",
      "execution_count": 24,
      "outputs": []
    },
    {
      "cell_type": "code",
      "metadata": {
        "ExecuteTime": {
          "end_time": "2021-07-15T20:59:46.556411Z",
          "start_time": "2021-07-15T20:59:46.540562Z"
        },
        "id": "a1a6806f",
        "outputId": "76cd9bf5-bad2-4020-e895-ba03284975ff",
        "colab": {
          "base_uri": "https://localhost:8080/",
          "height": 141
        }
      },
      "source": [
        "df"
      ],
      "id": "a1a6806f",
      "execution_count": 25,
      "outputs": [
        {
          "output_type": "execute_result",
          "data": {
            "text/html": [
              "<div>\n",
              "<style scoped>\n",
              "    .dataframe tbody tr th:only-of-type {\n",
              "        vertical-align: middle;\n",
              "    }\n",
              "\n",
              "    .dataframe tbody tr th {\n",
              "        vertical-align: top;\n",
              "    }\n",
              "\n",
              "    .dataframe thead th {\n",
              "        text-align: right;\n",
              "    }\n",
              "</style>\n",
              "<table border=\"1\" class=\"dataframe\">\n",
              "  <thead>\n",
              "    <tr style=\"text-align: right;\">\n",
              "      <th></th>\n",
              "      <th>column1</th>\n",
              "      <th>column2</th>\n",
              "    </tr>\n",
              "  </thead>\n",
              "  <tbody>\n",
              "    <tr>\n",
              "      <th>0</th>\n",
              "      <td>1</td>\n",
              "      <td>2</td>\n",
              "    </tr>\n",
              "    <tr>\n",
              "      <th>1</th>\n",
              "      <td>-1</td>\n",
              "      <td>0</td>\n",
              "    </tr>\n",
              "    <tr>\n",
              "      <th>2</th>\n",
              "      <td>-5</td>\n",
              "      <td>1</td>\n",
              "    </tr>\n",
              "  </tbody>\n",
              "</table>\n",
              "</div>"
            ],
            "text/plain": [
              "   column1 column2\n",
              "0        1       2\n",
              "1       -1       0\n",
              "2       -5       1"
            ]
          },
          "metadata": {
            "tags": []
          },
          "execution_count": 25
        }
      ]
    },
    {
      "cell_type": "code",
      "metadata": {
        "ExecuteTime": {
          "end_time": "2021-07-15T21:00:31.554217Z",
          "start_time": "2021-07-15T21:00:31.544023Z"
        },
        "id": "e349ba76"
      },
      "source": [
        "df[\"column1\"] = df[\"column1\"].apply(lambda x: 0 if x<0 else x)"
      ],
      "id": "e349ba76",
      "execution_count": 26,
      "outputs": []
    },
    {
      "cell_type": "code",
      "metadata": {
        "ExecuteTime": {
          "end_time": "2021-07-15T21:00:33.668812Z",
          "start_time": "2021-07-15T21:00:33.658224Z"
        },
        "id": "0a848309",
        "outputId": "ec593382-2b02-40a9-8dcc-c9166de02a1a",
        "colab": {
          "base_uri": "https://localhost:8080/",
          "height": 141
        }
      },
      "source": [
        "df"
      ],
      "id": "0a848309",
      "execution_count": 27,
      "outputs": [
        {
          "output_type": "execute_result",
          "data": {
            "text/html": [
              "<div>\n",
              "<style scoped>\n",
              "    .dataframe tbody tr th:only-of-type {\n",
              "        vertical-align: middle;\n",
              "    }\n",
              "\n",
              "    .dataframe tbody tr th {\n",
              "        vertical-align: top;\n",
              "    }\n",
              "\n",
              "    .dataframe thead th {\n",
              "        text-align: right;\n",
              "    }\n",
              "</style>\n",
              "<table border=\"1\" class=\"dataframe\">\n",
              "  <thead>\n",
              "    <tr style=\"text-align: right;\">\n",
              "      <th></th>\n",
              "      <th>column1</th>\n",
              "      <th>column2</th>\n",
              "    </tr>\n",
              "  </thead>\n",
              "  <tbody>\n",
              "    <tr>\n",
              "      <th>0</th>\n",
              "      <td>1</td>\n",
              "      <td>2</td>\n",
              "    </tr>\n",
              "    <tr>\n",
              "      <th>1</th>\n",
              "      <td>0</td>\n",
              "      <td>0</td>\n",
              "    </tr>\n",
              "    <tr>\n",
              "      <th>2</th>\n",
              "      <td>0</td>\n",
              "      <td>1</td>\n",
              "    </tr>\n",
              "  </tbody>\n",
              "</table>\n",
              "</div>"
            ],
            "text/plain": [
              "   column1 column2\n",
              "0        1       2\n",
              "1        0       0\n",
              "2        0       1"
            ]
          },
          "metadata": {
            "tags": []
          },
          "execution_count": 27
        }
      ]
    },
    {
      "cell_type": "markdown",
      "metadata": {
        "id": "e4c38df4"
      },
      "source": [
        "where you see that all the negative elements of the columns have been transformed into 0."
      ],
      "id": "e4c38df4"
    },
    {
      "cell_type": "markdown",
      "metadata": {
        "id": "612e1caa"
      },
      "source": [
        "## Exercises\n",
        "\n",
        "1. Convert the following functions in lambda functions:"
      ],
      "id": "612e1caa"
    },
    {
      "cell_type": "code",
      "metadata": {
        "ExecuteTime": {
          "end_time": "2021-07-15T21:08:03.267669Z",
          "start_time": "2021-07-15T21:08:03.257068Z"
        },
        "id": "37efeff3"
      },
      "source": [
        "def function1(x, y):\n",
        "    # Oh no! Multiple inputs! That's new!\n",
        "    return x + y\n",
        "\n",
        "def function2(j):\n",
        "    if j > 0:\n",
        "        return \"positive\"\n",
        "    else:\n",
        "        return \"negative\""
      ],
      "id": "37efeff3",
      "execution_count": 28,
      "outputs": []
    },
    {
      "cell_type": "code",
      "metadata": {
        "id": "d842b50a"
      },
      "source": [
        "#ex1\n",
        "fun1 = lambda x,y:x+y "
      ],
      "id": "d842b50a",
      "execution_count": 29,
      "outputs": []
    },
    {
      "cell_type": "code",
      "metadata": {
        "id": "EqVpL8AzTG68"
      },
      "source": [
        "#ex2\n",
        "fun2 = lambda j :\"positive\" if j>2     else \"negative\""
      ],
      "id": "EqVpL8AzTG68",
      "execution_count": 30,
      "outputs": []
    },
    {
      "cell_type": "code",
      "metadata": {
        "id": "XBsssqmNTxZj",
        "outputId": "de0b44df-f107-47e5-fac5-7596432659e7",
        "colab": {
          "base_uri": "https://localhost:8080/",
          "height": 35
        }
      },
      "source": [
        "fun2(3)"
      ],
      "id": "XBsssqmNTxZj",
      "execution_count": 31,
      "outputs": [
        {
          "output_type": "execute_result",
          "data": {
            "application/vnd.google.colaboratory.intrinsic+json": {
              "type": "string"
            },
            "text/plain": [
              "'positive'"
            ]
          },
          "metadata": {
            "tags": []
          },
          "execution_count": 31
        }
      ]
    },
    {
      "cell_type": "code",
      "metadata": {
        "id": "5d8207cc",
        "outputId": "a4f10e7e-cfe7-4a8e-bf62-a3aece2190ca",
        "colab": {
          "base_uri": "https://localhost:8080/",
          "height": 162
        }
      },
      "source": [
        "fun(5,6)"
      ],
      "id": "5d8207cc",
      "execution_count": 32,
      "outputs": [
        {
          "output_type": "error",
          "ename": "NameError",
          "evalue": "ignored",
          "traceback": [
            "\u001b[0;31m---------------------------------------------------------------------------\u001b[0m",
            "\u001b[0;31mNameError\u001b[0m                                 Traceback (most recent call last)",
            "\u001b[0;32m<ipython-input-32-2ec2563f1cb7>\u001b[0m in \u001b[0;36m<module>\u001b[0;34m()\u001b[0m\n\u001b[0;32m----> 1\u001b[0;31m \u001b[0mfun\u001b[0m\u001b[0;34m(\u001b[0m\u001b[0;36m5\u001b[0m\u001b[0;34m,\u001b[0m\u001b[0;36m6\u001b[0m\u001b[0;34m)\u001b[0m\u001b[0;34m\u001b[0m\u001b[0;34m\u001b[0m\u001b[0m\n\u001b[0m",
            "\u001b[0;31mNameError\u001b[0m: name 'fun' is not defined"
          ]
        }
      ]
    },
    {
      "cell_type": "code",
      "metadata": {
        "ExecuteTime": {
          "end_time": "2021-07-15T21:08:49.450133Z",
          "start_time": "2021-07-15T21:08:49.445444Z"
        },
        "id": "2960d4c7"
      },
      "source": [
        "function1(1,2)"
      ],
      "id": "2960d4c7",
      "execution_count": null,
      "outputs": []
    },
    {
      "cell_type": "code",
      "metadata": {
        "ExecuteTime": {
          "end_time": "2021-07-15T21:08:58.477225Z",
          "start_time": "2021-07-15T21:08:58.472809Z"
        },
        "id": "3124f76d"
      },
      "source": [
        "function2(5)"
      ],
      "id": "3124f76d",
      "execution_count": null,
      "outputs": []
    },
    {
      "cell_type": "code",
      "metadata": {
        "ExecuteTime": {
          "end_time": "2021-07-15T21:09:02.565936Z",
          "start_time": "2021-07-15T21:09:02.561148Z"
        },
        "id": "7201954a"
      },
      "source": [
        "function2(-1)"
      ],
      "id": "7201954a",
      "execution_count": null,
      "outputs": []
    },
    {
      "cell_type": "markdown",
      "metadata": {
        "id": "580e9ecf"
      },
      "source": [
        "Transform all the negative elements of the columns \"hi\", \"hey\", and \"hello\" of the dataframe `df` into the string \"hello\".\n",
        "\n",
        "> Girintili blok\n",
        "\n"
      ],
      "id": "580e9ecf"
    },
    {
      "cell_type": "code",
      "metadata": {
        "ExecuteTime": {
          "end_time": "2021-07-15T21:25:55.001594Z",
          "start_time": "2021-07-15T21:25:54.995424Z"
        },
        "id": "6489f2c4"
      },
      "source": [
        "import pandas as pd\n",
        "xx = {\"first\":[1,-1,1.0,0.0],\n",
        "                   \"hi\":[0.1,0.0,1,-1],\n",
        "                  \"hey\":[1,-1,0,0.0],\n",
        "                  \"fourth\":[1,-1,2,0.0],\n",
        "                  \"hello\":[1,-1.9,0,2.0]}\n",
        "df = pd.DataFrame(xx)"
      ],
      "id": "6489f2c4",
      "execution_count": 62,
      "outputs": []
    },
    {
      "cell_type": "code",
      "metadata": {
        "ExecuteTime": {
          "end_time": "2021-07-15T21:25:55.243758Z",
          "start_time": "2021-07-15T21:25:55.222380Z"
        },
        "id": "085e0aec",
        "outputId": "66a4aca0-18c7-4353-d904-e16416a3bd51",
        "colab": {
          "base_uri": "https://localhost:8080/",
          "height": 171
        }
      },
      "source": [
        "df"
      ],
      "id": "085e0aec",
      "execution_count": 63,
      "outputs": [
        {
          "output_type": "execute_result",
          "data": {
            "text/html": [
              "<div>\n",
              "<style scoped>\n",
              "    .dataframe tbody tr th:only-of-type {\n",
              "        vertical-align: middle;\n",
              "    }\n",
              "\n",
              "    .dataframe tbody tr th {\n",
              "        vertical-align: top;\n",
              "    }\n",
              "\n",
              "    .dataframe thead th {\n",
              "        text-align: right;\n",
              "    }\n",
              "</style>\n",
              "<table border=\"1\" class=\"dataframe\">\n",
              "  <thead>\n",
              "    <tr style=\"text-align: right;\">\n",
              "      <th></th>\n",
              "      <th>first</th>\n",
              "      <th>hi</th>\n",
              "      <th>hey</th>\n",
              "      <th>fourth</th>\n",
              "      <th>hello</th>\n",
              "    </tr>\n",
              "  </thead>\n",
              "  <tbody>\n",
              "    <tr>\n",
              "      <th>0</th>\n",
              "      <td>1.0</td>\n",
              "      <td>0.1</td>\n",
              "      <td>1.0</td>\n",
              "      <td>1.0</td>\n",
              "      <td>1.0</td>\n",
              "    </tr>\n",
              "    <tr>\n",
              "      <th>1</th>\n",
              "      <td>-1.0</td>\n",
              "      <td>0.0</td>\n",
              "      <td>-1.0</td>\n",
              "      <td>-1.0</td>\n",
              "      <td>-1.9</td>\n",
              "    </tr>\n",
              "    <tr>\n",
              "      <th>2</th>\n",
              "      <td>1.0</td>\n",
              "      <td>1.0</td>\n",
              "      <td>0.0</td>\n",
              "      <td>2.0</td>\n",
              "      <td>0.0</td>\n",
              "    </tr>\n",
              "    <tr>\n",
              "      <th>3</th>\n",
              "      <td>0.0</td>\n",
              "      <td>-1.0</td>\n",
              "      <td>0.0</td>\n",
              "      <td>0.0</td>\n",
              "      <td>2.0</td>\n",
              "    </tr>\n",
              "  </tbody>\n",
              "</table>\n",
              "</div>"
            ],
            "text/plain": [
              "   first   hi  hey  fourth  hello\n",
              "0    1.0  0.1  1.0     1.0    1.0\n",
              "1   -1.0  0.0 -1.0    -1.0   -1.9\n",
              "2    1.0  1.0  0.0     2.0    0.0\n",
              "3    0.0 -1.0  0.0     0.0    2.0"
            ]
          },
          "metadata": {
            "tags": []
          },
          "execution_count": 63
        }
      ]
    },
    {
      "cell_type": "code",
      "metadata": {
        "id": "44d678a4",
        "outputId": "04e0485a-a32e-4990-a479-d3505d4c3302",
        "colab": {
          "base_uri": "https://localhost:8080/"
        }
      },
      "source": [
        "df.hi.apply(lambda x: \"hello\" if x < 0 else x )"
      ],
      "id": "44d678a4",
      "execution_count": 64,
      "outputs": [
        {
          "output_type": "execute_result",
          "data": {
            "text/plain": [
              "0      0.1\n",
              "1        0\n",
              "2        1\n",
              "3    hello\n",
              "Name: hi, dtype: object"
            ]
          },
          "metadata": {
            "tags": []
          },
          "execution_count": 64
        }
      ]
    },
    {
      "cell_type": "code",
      "metadata": {
        "id": "yA6dpBF_vdCa"
      },
      "source": [
        "xx = [\"first\",\"hi\",\"hey\",\"fourth\",\"hello\"]\n",
        "for i in xx:\n",
        "    dk = df.loc[df[i] != False ].apply(lambda x: np.nan if x == \"Test\" else x)\n",
        "    print(dk)"
      ],
      "id": "yA6dpBF_vdCa",
      "execution_count": null,
      "outputs": []
    },
    {
      "cell_type": "code",
      "metadata": {
        "id": "4K8XqgrKwt5e"
      },
      "source": [
        ""
      ],
      "id": "4K8XqgrKwt5e",
      "execution_count": null,
      "outputs": []
    }
  ]
}