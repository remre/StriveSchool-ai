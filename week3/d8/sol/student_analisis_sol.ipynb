{
  "nbformat": 4,
  "nbformat_minor": 0,
  "metadata": {
    "interpreter": {
      "hash": "c2ad988b83bc3032ab0bc6c9b326315d9b3145f093b7c28f6f9e14e1089dbd73"
    },
    "kernelspec": {
      "display_name": "Python 3",
      "language": "python",
      "name": "python3"
    },
    "language_info": {
      "codemirror_mode": {
        "name": "ipython",
        "version": 3
      },
      "file_extension": ".py",
      "mimetype": "text/x-python",
      "name": "python",
      "nbconvert_exporter": "python",
      "pygments_lexer": "ipython3",
      "version": "3.9.1"
    },
    "varInspector": {
      "cols": {
        "lenName": 16,
        "lenType": 16,
        "lenVar": 40
      },
      "kernels_config": {
        "python": {
          "delete_cmd_postfix": "",
          "delete_cmd_prefix": "del ",
          "library": "var_list.py",
          "varRefreshCmd": "print(var_dic_list())"
        },
        "r": {
          "delete_cmd_postfix": ") ",
          "delete_cmd_prefix": "rm(",
          "library": "var_list.r",
          "varRefreshCmd": "cat(var_dic_list()) "
        }
      },
      "types_to_exclude": [
        "module",
        "function",
        "builtin_function_or_method",
        "instance",
        "_Feature"
      ],
      "window_display": false
    },
    "colab": {
      "name": "student_analisis_sol.ipynb",
      "provenance": [],
      "include_colab_link": true
    }
  },
  "cells": [
    {
      "cell_type": "markdown",
      "metadata": {
        "id": "view-in-github",
        "colab_type": "text"
      },
      "source": [
        "<a href=\"https://colab.research.google.com/github/remre/StriveSchool-ai/blob/main/week3/d8/sol/student_analisis_sol.ipynb\" target=\"_parent\"><img src=\"https://colab.research.google.com/assets/colab-badge.svg\" alt=\"Open In Colab\"/></a>"
      ]
    },
    {
      "cell_type": "markdown",
      "metadata": {
        "id": "8woHvoaD5AGW"
      },
      "source": [
        "# Student Analsis\n",
        "\n",
        "\n",
        "In this notebook I present to you data taken out of a real highschool. In this dataset we have a total of 16 variables and a single class. Most of the data is categorical, this means it is divided into a certain ammount of pre-defined categories. There also a few columns that have numerical data in the form of integers. In this notebook we will try to extract some key features in order to better understand the dataset and as part of the field of 'Data Analysis'."
      ]
    },
    {
      "cell_type": "markdown",
      "metadata": {
        "id": "pVdi9lKE5AGZ"
      },
      "source": [
        "## Step 0: \n",
        "### Load the data into a pandas dataframe\n",
        "\n",
        "How do you intend to do data analysis without loading the data????\n",
        "# ?"
      ]
    },
    {
      "cell_type": "code",
      "metadata": {
        "id": "w-FTBTms5Sek"
      },
      "source": [
        "import pandas as pd\n",
        "import numpy as np"
      ],
      "execution_count": 401,
      "outputs": []
    },
    {
      "cell_type": "code",
      "metadata": {
        "id": "O5tM2XA95AGa"
      },
      "source": [
        "df = pd.read_csv(\"xAPI-Edu-Data.csv\")"
      ],
      "execution_count": 402,
      "outputs": []
    },
    {
      "cell_type": "code",
      "metadata": {
        "colab": {
          "base_uri": "https://localhost:8080/"
        },
        "id": "QakXo-4yVHFI",
        "outputId": "b4d60cbd-38ae-4a98-e62f-818a19e23d43"
      },
      "source": [
        "df[\"Class\"]"
      ],
      "execution_count": 262,
      "outputs": [
        {
          "output_type": "execute_result",
          "data": {
            "text/plain": [
              "0      M\n",
              "1      M\n",
              "2      L\n",
              "3      L\n",
              "4      M\n",
              "      ..\n",
              "475    L\n",
              "476    M\n",
              "477    M\n",
              "478    L\n",
              "479    L\n",
              "Name: Class, Length: 480, dtype: object"
            ]
          },
          "metadata": {
            "tags": []
          },
          "execution_count": 262
        }
      ]
    },
    {
      "cell_type": "markdown",
      "metadata": {
        "id": "KjWurnBn5AGb"
      },
      "source": [
        "## Step 1: \n",
        "### Print some elements from the dataset in order to take a quick look at the dataset\n",
        "\n",
        "Understanding the data you are working with is very important"
      ]
    },
    {
      "cell_type": "code",
      "metadata": {
        "id": "jtzLMOhQ5AGc",
        "colab": {
          "base_uri": "https://localhost:8080/"
        },
        "outputId": "1700d0c0-c4c8-44e3-cc6d-a40ac60e2a45"
      },
      "source": [
        "##ls data"
      ],
      "execution_count": null,
      "outputs": [
        {
          "output_type": "stream",
          "text": [
            "ls: cannot access 'data': No such file or directory\n"
          ],
          "name": "stdout"
        }
      ]
    },
    {
      "cell_type": "code",
      "metadata": {
        "colab": {
          "base_uri": "https://localhost:8080/"
        },
        "id": "-8TE8QT48Ju-",
        "outputId": "d5c7b499-918d-41a5-a8f0-c550a5e23f92"
      },
      "source": [
        "df.dtypes#show columns and dtypes"
      ],
      "execution_count": 368,
      "outputs": [
        {
          "output_type": "execute_result",
          "data": {
            "text/plain": [
              "gender                      int64\n",
              "NationalITy                 int64\n",
              "PlaceofBirth                int64\n",
              "StageID                     int64\n",
              "GradeID                     int64\n",
              "SectionID                   int64\n",
              "Topic                       int64\n",
              "Semester                    int64\n",
              "Relation                    int64\n",
              "raisedhands                 int64\n",
              "VisITedResources            int64\n",
              "AnnouncementsView           int64\n",
              "Discussion                  int64\n",
              "ParentAnsweringSurvey       int64\n",
              "ParentschoolSatisfaction    int64\n",
              "StudentAbsenceDays          int64\n",
              "Class                       int64\n",
              "dtype: object"
            ]
          },
          "metadata": {
            "tags": []
          },
          "execution_count": 368
        }
      ]
    },
    {
      "cell_type": "code",
      "metadata": {
        "colab": {
          "base_uri": "https://localhost:8080/",
          "height": 314
        },
        "id": "3pocZkZG8elS",
        "outputId": "fa14dced-d214-416b-cffc-581b5e552e01"
      },
      "source": [
        "#check out the types with object bcz it becomes confusing later\n",
        "df.describe()\n",
        "#type(df[\"gender\"][0])"
      ],
      "execution_count": 369,
      "outputs": [
        {
          "output_type": "execute_result",
          "data": {
            "text/html": [
              "<div>\n",
              "<style scoped>\n",
              "    .dataframe tbody tr th:only-of-type {\n",
              "        vertical-align: middle;\n",
              "    }\n",
              "\n",
              "    .dataframe tbody tr th {\n",
              "        vertical-align: top;\n",
              "    }\n",
              "\n",
              "    .dataframe thead th {\n",
              "        text-align: right;\n",
              "    }\n",
              "</style>\n",
              "<table border=\"1\" class=\"dataframe\">\n",
              "  <thead>\n",
              "    <tr style=\"text-align: right;\">\n",
              "      <th></th>\n",
              "      <th>gender</th>\n",
              "      <th>NationalITy</th>\n",
              "      <th>PlaceofBirth</th>\n",
              "      <th>StageID</th>\n",
              "      <th>GradeID</th>\n",
              "      <th>SectionID</th>\n",
              "      <th>Topic</th>\n",
              "      <th>Semester</th>\n",
              "      <th>Relation</th>\n",
              "      <th>raisedhands</th>\n",
              "      <th>VisITedResources</th>\n",
              "      <th>AnnouncementsView</th>\n",
              "      <th>Discussion</th>\n",
              "      <th>ParentAnsweringSurvey</th>\n",
              "      <th>ParentschoolSatisfaction</th>\n",
              "      <th>StudentAbsenceDays</th>\n",
              "      <th>Class</th>\n",
              "    </tr>\n",
              "  </thead>\n",
              "  <tbody>\n",
              "    <tr>\n",
              "      <th>count</th>\n",
              "      <td>480.000000</td>\n",
              "      <td>480.000000</td>\n",
              "      <td>480.000000</td>\n",
              "      <td>480.000000</td>\n",
              "      <td>480.000000</td>\n",
              "      <td>480.000000</td>\n",
              "      <td>480.000000</td>\n",
              "      <td>480.000000</td>\n",
              "      <td>480.000000</td>\n",
              "      <td>480.000000</td>\n",
              "      <td>480.000000</td>\n",
              "      <td>480.000000</td>\n",
              "      <td>480.000000</td>\n",
              "      <td>480.000000</td>\n",
              "      <td>480.000000</td>\n",
              "      <td>480.000000</td>\n",
              "      <td>480.000000</td>\n",
              "    </tr>\n",
              "    <tr>\n",
              "      <th>mean</th>\n",
              "      <td>0.635417</td>\n",
              "      <td>4.345833</td>\n",
              "      <td>4.397917</td>\n",
              "      <td>1.345833</td>\n",
              "      <td>2.906250</td>\n",
              "      <td>0.472917</td>\n",
              "      <td>5.256250</td>\n",
              "      <td>0.489583</td>\n",
              "      <td>0.410417</td>\n",
              "      <td>46.775000</td>\n",
              "      <td>54.797917</td>\n",
              "      <td>37.918750</td>\n",
              "      <td>43.283333</td>\n",
              "      <td>0.562500</td>\n",
              "      <td>0.608333</td>\n",
              "      <td>0.602083</td>\n",
              "      <td>1.143750</td>\n",
              "    </tr>\n",
              "    <tr>\n",
              "      <th>std</th>\n",
              "      <td>0.481815</td>\n",
              "      <td>2.469265</td>\n",
              "      <td>2.628334</td>\n",
              "      <td>0.603732</td>\n",
              "      <td>2.464267</td>\n",
              "      <td>0.612411</td>\n",
              "      <td>3.388388</td>\n",
              "      <td>0.500413</td>\n",
              "      <td>0.492423</td>\n",
              "      <td>30.779223</td>\n",
              "      <td>33.080007</td>\n",
              "      <td>26.611244</td>\n",
              "      <td>27.637735</td>\n",
              "      <td>0.496596</td>\n",
              "      <td>0.488632</td>\n",
              "      <td>0.489979</td>\n",
              "      <td>0.846312</td>\n",
              "    </tr>\n",
              "    <tr>\n",
              "      <th>min</th>\n",
              "      <td>0.000000</td>\n",
              "      <td>0.000000</td>\n",
              "      <td>0.000000</td>\n",
              "      <td>0.000000</td>\n",
              "      <td>0.000000</td>\n",
              "      <td>0.000000</td>\n",
              "      <td>0.000000</td>\n",
              "      <td>0.000000</td>\n",
              "      <td>0.000000</td>\n",
              "      <td>0.000000</td>\n",
              "      <td>0.000000</td>\n",
              "      <td>0.000000</td>\n",
              "      <td>1.000000</td>\n",
              "      <td>0.000000</td>\n",
              "      <td>0.000000</td>\n",
              "      <td>0.000000</td>\n",
              "      <td>0.000000</td>\n",
              "    </tr>\n",
              "    <tr>\n",
              "      <th>25%</th>\n",
              "      <td>0.000000</td>\n",
              "      <td>3.000000</td>\n",
              "      <td>3.000000</td>\n",
              "      <td>1.000000</td>\n",
              "      <td>0.000000</td>\n",
              "      <td>0.000000</td>\n",
              "      <td>3.000000</td>\n",
              "      <td>0.000000</td>\n",
              "      <td>0.000000</td>\n",
              "      <td>15.750000</td>\n",
              "      <td>20.000000</td>\n",
              "      <td>14.000000</td>\n",
              "      <td>20.000000</td>\n",
              "      <td>0.000000</td>\n",
              "      <td>0.000000</td>\n",
              "      <td>0.000000</td>\n",
              "      <td>0.000000</td>\n",
              "    </tr>\n",
              "    <tr>\n",
              "      <th>50%</th>\n",
              "      <td>1.000000</td>\n",
              "      <td>4.000000</td>\n",
              "      <td>4.000000</td>\n",
              "      <td>1.000000</td>\n",
              "      <td>4.000000</td>\n",
              "      <td>0.000000</td>\n",
              "      <td>5.000000</td>\n",
              "      <td>0.000000</td>\n",
              "      <td>0.000000</td>\n",
              "      <td>50.000000</td>\n",
              "      <td>65.000000</td>\n",
              "      <td>33.000000</td>\n",
              "      <td>39.000000</td>\n",
              "      <td>1.000000</td>\n",
              "      <td>1.000000</td>\n",
              "      <td>1.000000</td>\n",
              "      <td>1.000000</td>\n",
              "    </tr>\n",
              "    <tr>\n",
              "      <th>75%</th>\n",
              "      <td>1.000000</td>\n",
              "      <td>4.000000</td>\n",
              "      <td>4.000000</td>\n",
              "      <td>2.000000</td>\n",
              "      <td>5.000000</td>\n",
              "      <td>1.000000</td>\n",
              "      <td>7.000000</td>\n",
              "      <td>1.000000</td>\n",
              "      <td>1.000000</td>\n",
              "      <td>75.000000</td>\n",
              "      <td>84.000000</td>\n",
              "      <td>58.000000</td>\n",
              "      <td>70.000000</td>\n",
              "      <td>1.000000</td>\n",
              "      <td>1.000000</td>\n",
              "      <td>1.000000</td>\n",
              "      <td>2.000000</td>\n",
              "    </tr>\n",
              "    <tr>\n",
              "      <th>max</th>\n",
              "      <td>1.000000</td>\n",
              "      <td>13.000000</td>\n",
              "      <td>13.000000</td>\n",
              "      <td>2.000000</td>\n",
              "      <td>9.000000</td>\n",
              "      <td>2.000000</td>\n",
              "      <td>11.000000</td>\n",
              "      <td>1.000000</td>\n",
              "      <td>1.000000</td>\n",
              "      <td>100.000000</td>\n",
              "      <td>99.000000</td>\n",
              "      <td>98.000000</td>\n",
              "      <td>99.000000</td>\n",
              "      <td>1.000000</td>\n",
              "      <td>1.000000</td>\n",
              "      <td>1.000000</td>\n",
              "      <td>2.000000</td>\n",
              "    </tr>\n",
              "  </tbody>\n",
              "</table>\n",
              "</div>"
            ],
            "text/plain": [
              "           gender  NationalITy  ...  StudentAbsenceDays       Class\n",
              "count  480.000000   480.000000  ...          480.000000  480.000000\n",
              "mean     0.635417     4.345833  ...            0.602083    1.143750\n",
              "std      0.481815     2.469265  ...            0.489979    0.846312\n",
              "min      0.000000     0.000000  ...            0.000000    0.000000\n",
              "25%      0.000000     3.000000  ...            0.000000    0.000000\n",
              "50%      1.000000     4.000000  ...            1.000000    1.000000\n",
              "75%      1.000000     4.000000  ...            1.000000    2.000000\n",
              "max      1.000000    13.000000  ...            1.000000    2.000000\n",
              "\n",
              "[8 rows x 17 columns]"
            ]
          },
          "metadata": {
            "tags": []
          },
          "execution_count": 369
        }
      ]
    },
    {
      "cell_type": "code",
      "metadata": {
        "colab": {
          "base_uri": "https://localhost:8080/"
        },
        "id": "_IbmXYdChvc-",
        "outputId": "f00d5d59-d618-4479-997d-8a21a96c038e"
      },
      "source": [
        "df.info()"
      ],
      "execution_count": 370,
      "outputs": [
        {
          "output_type": "stream",
          "text": [
            "<class 'pandas.core.frame.DataFrame'>\n",
            "RangeIndex: 480 entries, 0 to 479\n",
            "Data columns (total 17 columns):\n",
            " #   Column                    Non-Null Count  Dtype\n",
            "---  ------                    --------------  -----\n",
            " 0   gender                    480 non-null    int64\n",
            " 1   NationalITy               480 non-null    int64\n",
            " 2   PlaceofBirth              480 non-null    int64\n",
            " 3   StageID                   480 non-null    int64\n",
            " 4   GradeID                   480 non-null    int64\n",
            " 5   SectionID                 480 non-null    int64\n",
            " 6   Topic                     480 non-null    int64\n",
            " 7   Semester                  480 non-null    int64\n",
            " 8   Relation                  480 non-null    int64\n",
            " 9   raisedhands               480 non-null    int64\n",
            " 10  VisITedResources          480 non-null    int64\n",
            " 11  AnnouncementsView         480 non-null    int64\n",
            " 12  Discussion                480 non-null    int64\n",
            " 13  ParentAnsweringSurvey     480 non-null    int64\n",
            " 14  ParentschoolSatisfaction  480 non-null    int64\n",
            " 15  StudentAbsenceDays        480 non-null    int64\n",
            " 16  Class                     480 non-null    int64\n",
            "dtypes: int64(17)\n",
            "memory usage: 63.9 KB\n"
          ],
          "name": "stdout"
        }
      ]
    },
    {
      "cell_type": "markdown",
      "metadata": {
        "id": "YTYkHkrq5AGc"
      },
      "source": [
        "## Step 2:\n",
        "### Check for missing or null values\n",
        "\n",
        "We should always check for missing values as part of getting familiarized with our data.\n"
      ]
    },
    {
      "cell_type": "code",
      "metadata": {
        "id": "pWSpMs6d5AGc",
        "colab": {
          "base_uri": "https://localhost:8080/"
        },
        "outputId": "7673734d-e0fe-4c90-fce6-74ff4f0a2ff2"
      },
      "source": [
        "# check for null values\n",
        "df.isna().sum()"
      ],
      "execution_count": 407,
      "outputs": [
        {
          "output_type": "execute_result",
          "data": {
            "text/plain": [
              "gender                      0\n",
              "NationalITy                 0\n",
              "PlaceofBirth                0\n",
              "StageID                     0\n",
              "GradeID                     0\n",
              "SectionID                   0\n",
              "Topic                       0\n",
              "Semester                    0\n",
              "Relation                    0\n",
              "raisedhands                 0\n",
              "VisITedResources            0\n",
              "AnnouncementsView           0\n",
              "Discussion                  0\n",
              "ParentAnsweringSurvey       0\n",
              "ParentschoolSatisfaction    0\n",
              "StudentAbsenceDays          0\n",
              "Class                       0\n",
              "dtype: int64"
            ]
          },
          "metadata": {
            "tags": []
          },
          "execution_count": 407
        }
      ]
    },
    {
      "cell_type": "code",
      "metadata": {
        "id": "5PBKOzEsB4H8"
      },
      "source": [
        "#another way to make it label encoder with multiple columns is df_col=list(df.columns)\n",
        "\n",
        "#for i in range(len(df_col)):\n",
        "#df[df_col[i] inclue == object] = LabelEncoder().fit_transform(df[df_col[i]])"
      ],
      "execution_count": null,
      "outputs": []
    },
    {
      "cell_type": "markdown",
      "metadata": {
        "id": "XBGq7wFT5AGd"
      },
      "source": [
        "## Step 3:\n",
        "### which is the column with the highest ammount of VARIABILITY?\n",
        "\n",
        "Time to start extracting info.\n"
      ]
    },
    {
      "cell_type": "code",
      "metadata": {
        "colab": {
          "base_uri": "https://localhost:8080/",
          "height": 222
        },
        "id": "NMS2muQY6CO4",
        "outputId": "c64d3e9b-b855-4f5f-9b68-3ff7fe4ea471"
      },
      "source": [
        "from sklearn import preprocessing\n",
        "# Encode labels of multiple columns at once\n",
        "cols = ['gender',\"NationalITy\" ,'PlaceofBirth', 'StageID', 'GradeID',\"SectionID\",\"Topic\",\"Semester\",\"Relation\",\"ParentAnsweringSurvey\",\"ParentschoolSatisfaction\",\"StudentAbsenceDays\",\"Class\"]\n",
        "df[cols] = df[cols].apply(LabelEncoder().fit_transform)\n",
        "#\n",
        "# Print head\n",
        "#\n",
        "df.head()"
      ],
      "execution_count": 420,
      "outputs": [
        {
          "output_type": "execute_result",
          "data": {
            "text/html": [
              "<div>\n",
              "<style scoped>\n",
              "    .dataframe tbody tr th:only-of-type {\n",
              "        vertical-align: middle;\n",
              "    }\n",
              "\n",
              "    .dataframe tbody tr th {\n",
              "        vertical-align: top;\n",
              "    }\n",
              "\n",
              "    .dataframe thead th {\n",
              "        text-align: right;\n",
              "    }\n",
              "</style>\n",
              "<table border=\"1\" class=\"dataframe\">\n",
              "  <thead>\n",
              "    <tr style=\"text-align: right;\">\n",
              "      <th></th>\n",
              "      <th>gender</th>\n",
              "      <th>NationalITy</th>\n",
              "      <th>PlaceofBirth</th>\n",
              "      <th>StageID</th>\n",
              "      <th>GradeID</th>\n",
              "      <th>SectionID</th>\n",
              "      <th>Topic</th>\n",
              "      <th>Semester</th>\n",
              "      <th>Relation</th>\n",
              "      <th>raisedhands</th>\n",
              "      <th>VisITedResources</th>\n",
              "      <th>AnnouncementsView</th>\n",
              "      <th>Discussion</th>\n",
              "      <th>ParentAnsweringSurvey</th>\n",
              "      <th>ParentschoolSatisfaction</th>\n",
              "      <th>StudentAbsenceDays</th>\n",
              "      <th>Class</th>\n",
              "    </tr>\n",
              "  </thead>\n",
              "  <tbody>\n",
              "    <tr>\n",
              "      <th>0</th>\n",
              "      <td>1</td>\n",
              "      <td>4</td>\n",
              "      <td>4</td>\n",
              "      <td>2</td>\n",
              "      <td>1</td>\n",
              "      <td>0</td>\n",
              "      <td>7</td>\n",
              "      <td>0</td>\n",
              "      <td>0</td>\n",
              "      <td>15</td>\n",
              "      <td>16</td>\n",
              "      <td>2</td>\n",
              "      <td>20</td>\n",
              "      <td>1</td>\n",
              "      <td>1</td>\n",
              "      <td>1</td>\n",
              "      <td>2</td>\n",
              "    </tr>\n",
              "    <tr>\n",
              "      <th>1</th>\n",
              "      <td>1</td>\n",
              "      <td>4</td>\n",
              "      <td>4</td>\n",
              "      <td>2</td>\n",
              "      <td>1</td>\n",
              "      <td>0</td>\n",
              "      <td>7</td>\n",
              "      <td>0</td>\n",
              "      <td>0</td>\n",
              "      <td>20</td>\n",
              "      <td>20</td>\n",
              "      <td>3</td>\n",
              "      <td>25</td>\n",
              "      <td>1</td>\n",
              "      <td>1</td>\n",
              "      <td>1</td>\n",
              "      <td>2</td>\n",
              "    </tr>\n",
              "    <tr>\n",
              "      <th>2</th>\n",
              "      <td>1</td>\n",
              "      <td>4</td>\n",
              "      <td>4</td>\n",
              "      <td>2</td>\n",
              "      <td>1</td>\n",
              "      <td>0</td>\n",
              "      <td>7</td>\n",
              "      <td>0</td>\n",
              "      <td>0</td>\n",
              "      <td>10</td>\n",
              "      <td>7</td>\n",
              "      <td>0</td>\n",
              "      <td>30</td>\n",
              "      <td>0</td>\n",
              "      <td>0</td>\n",
              "      <td>0</td>\n",
              "      <td>1</td>\n",
              "    </tr>\n",
              "    <tr>\n",
              "      <th>3</th>\n",
              "      <td>1</td>\n",
              "      <td>4</td>\n",
              "      <td>4</td>\n",
              "      <td>2</td>\n",
              "      <td>1</td>\n",
              "      <td>0</td>\n",
              "      <td>7</td>\n",
              "      <td>0</td>\n",
              "      <td>0</td>\n",
              "      <td>30</td>\n",
              "      <td>25</td>\n",
              "      <td>5</td>\n",
              "      <td>35</td>\n",
              "      <td>0</td>\n",
              "      <td>0</td>\n",
              "      <td>0</td>\n",
              "      <td>1</td>\n",
              "    </tr>\n",
              "    <tr>\n",
              "      <th>4</th>\n",
              "      <td>1</td>\n",
              "      <td>4</td>\n",
              "      <td>4</td>\n",
              "      <td>2</td>\n",
              "      <td>1</td>\n",
              "      <td>0</td>\n",
              "      <td>7</td>\n",
              "      <td>0</td>\n",
              "      <td>0</td>\n",
              "      <td>40</td>\n",
              "      <td>50</td>\n",
              "      <td>12</td>\n",
              "      <td>50</td>\n",
              "      <td>0</td>\n",
              "      <td>0</td>\n",
              "      <td>0</td>\n",
              "      <td>2</td>\n",
              "    </tr>\n",
              "  </tbody>\n",
              "</table>\n",
              "</div>"
            ],
            "text/plain": [
              "   gender  NationalITy  ...  StudentAbsenceDays  Class\n",
              "0       1            4  ...                   1      2\n",
              "1       1            4  ...                   1      2\n",
              "2       1            4  ...                   0      1\n",
              "3       1            4  ...                   0      1\n",
              "4       1            4  ...                   0      2\n",
              "\n",
              "[5 rows x 17 columns]"
            ]
          },
          "metadata": {
            "tags": []
          },
          "execution_count": 420
        }
      ]
    },
    {
      "cell_type": "code",
      "metadata": {
        "id": "6jB0yXNq5AGe",
        "colab": {
          "base_uri": "https://localhost:8080/"
        },
        "outputId": "4e0ccae9-656b-46ac-ecfd-6bddf5ae3f9d"
      },
      "source": [
        "# Check every column EXCEPT the one for the class and find out which one has the highest variability\n",
        "df.var(axis=0).max()"
      ],
      "execution_count": 387,
      "outputs": [
        {
          "output_type": "execute_result",
          "data": {
            "text/plain": [
              "1094.2868432498262"
            ]
          },
          "metadata": {
            "tags": []
          },
          "execution_count": 387
        }
      ]
    },
    {
      "cell_type": "code",
      "metadata": {
        "colab": {
          "base_uri": "https://localhost:8080/"
        },
        "id": "R7V1C61I40dh",
        "outputId": "3479999a-cee7-4df7-b2b1-3b10fbf35212"
      },
      "source": [
        "df.iloc[:,:-1].var(axis=0)"
      ],
      "execution_count": 386,
      "outputs": [
        {
          "output_type": "execute_result",
          "data": {
            "text/plain": [
              "gender                         0.232146\n",
              "NationalITy                    6.097269\n",
              "PlaceofBirth                   6.908138\n",
              "StageID                        0.364492\n",
              "GradeID                        6.072612\n",
              "SectionID                      0.375048\n",
              "Topic                         11.481172\n",
              "Semester                       0.250413\n",
              "Relation                       0.242480\n",
              "raisedhands                  947.360543\n",
              "VisITedResources            1094.286843\n",
              "AnnouncementsView            708.158312\n",
              "Discussion                   763.844398\n",
              "ParentAnsweringSurvey          0.246608\n",
              "ParentschoolSatisfaction       0.238761\n",
              "StudentAbsenceDays             0.240079\n",
              "dtype: float64"
            ]
          },
          "metadata": {
            "tags": []
          },
          "execution_count": 386
        }
      ]
    },
    {
      "cell_type": "code",
      "metadata": {
        "colab": {
          "base_uri": "https://localhost:8080/",
          "height": 282
        },
        "id": "R-zq7YSuoddP",
        "outputId": "2cb7eb50-b8ca-418b-e274-91cc58dddc99"
      },
      "source": [
        "from statistics import *\n",
        "plt.hist(df[\"VisITedResources\"],bins = 50)\n",
        "df[\"VisITedResources\"].mean()"
      ],
      "execution_count": 416,
      "outputs": [
        {
          "output_type": "execute_result",
          "data": {
            "text/plain": [
              "54.797916666666666"
            ]
          },
          "metadata": {
            "tags": []
          },
          "execution_count": 416
        },
        {
          "output_type": "display_data",
          "data": {
            "image/png": "[encoded data removed]",
            "text/plain": [
              "<Figure size 432x288 with 1 Axes>"
            ]
          },
          "metadata": {
            "tags": [],
            "needs_background": "light"
          }
        }
      ]
    },
    {
      "cell_type": "code",
      "metadata": {
        "id": "ay4ghnKVtkfB"
      },
      "source": [
        "''''from sklearn.compose import ColumnTransformer\n",
        "from sklearn.preprocessing import OneHotEncoder\n",
        "ct = ColumnTransformer(transformers=[('encoder', OneHotEncoder(), [0])], remainder='passthrough')\n",
        "X = np.array(ct.fit_transform(X))\n",
        "X[:10]''''"
      ],
      "execution_count": null,
      "outputs": []
    },
    {
      "cell_type": "markdown",
      "metadata": {
        "id": "7OsbvvW95AGe"
      },
      "source": [
        "## Step 4:\n",
        "### Find out for each variable their skewness and plot 5 of them.\n",
        "\n",
        "Understanding the biases of data can always give us some key information\n"
      ]
    },
    {
      "cell_type": "code",
      "metadata": {
        "colab": {
          "base_uri": "https://localhost:8080/"
        },
        "id": "_psccAU_Dzht",
        "outputId": "a4098d05-a254-42b1-f8cf-cb2307583031"
      },
      "source": [
        "df.skew().sort_values(ascending= False)"
      ],
      "execution_count": 268,
      "outputs": [
        {
          "output_type": "execute_result",
          "data": {
            "text/plain": [
              "PlaceofBirth                1.720447\n",
              "NationalITy                 1.715484\n",
              "SectionID                   0.925118\n",
              "AnnouncementsView           0.399243\n",
              "Relation                    0.365370\n",
              "Discussion                  0.362594\n",
              "GradeID                     0.263863\n",
              "Semester                    0.041806\n",
              "raisedhands                 0.026962\n",
              "Topic                      -0.004031\n",
              "ParentAnsweringSurvey      -0.252767\n",
              "Class                      -0.277991\n",
              "StageID                    -0.333366\n",
              "VisITedResources           -0.342441\n",
              "StudentAbsenceDays         -0.418428\n",
              "ParentschoolSatisfaction   -0.445270\n",
              "gender                     -0.564462\n",
              "dtype: float64"
            ]
          },
          "metadata": {
            "tags": []
          },
          "execution_count": 268
        }
      ]
    },
    {
      "cell_type": "code",
      "metadata": {
        "colab": {
          "base_uri": "https://localhost:8080/",
          "height": 282
        },
        "id": "JsRI5E86DAy6",
        "outputId": "9d62294b-fa10-4123-9d3b-717ffe440343"
      },
      "source": [
        "import seaborn as sns\n",
        "df.VisITedResources.hist(bins=50)"
      ],
      "execution_count": 218,
      "outputs": [
        {
          "output_type": "execute_result",
          "data": {
            "text/plain": [
              "<matplotlib.axes._subplots.AxesSubplot at 0x7f6516c08fd0>"
            ]
          },
          "metadata": {
            "tags": []
          },
          "execution_count": 218
        },
        {
          "output_type": "display_data",
          "data": {
            "image/png": "[encoded data removed]",
            "text/plain": [
              "<Figure size 432x288 with 1 Axes>"
            ]
          },
          "metadata": {
            "tags": [],
            "needs_background": "light"
          }
        }
      ]
    },
    {
      "cell_type": "code",
      "metadata": {
        "colab": {
          "base_uri": "https://localhost:8080/",
          "height": 282
        },
        "id": "9Pk2LmzyLesY",
        "outputId": "7a6d92f5-1f4c-41f8-ed9a-803c36b310c3"
      },
      "source": [
        "df.NationalITy.hist()"
      ],
      "execution_count": 388,
      "outputs": [
        {
          "output_type": "execute_result",
          "data": {
            "text/plain": [
              "<matplotlib.axes._subplots.AxesSubplot at 0x7f65134f74d0>"
            ]
          },
          "metadata": {
            "tags": []
          },
          "execution_count": 388
        },
        {
          "output_type": "display_data",
          "data": {
            "image/png": "[encoded data removed]",
            "text/plain": [
              "<Figure size 432x288 with 1 Axes>"
            ]
          },
          "metadata": {
            "tags": [],
            "needs_background": "light"
          }
        }
      ]
    },
    {
      "cell_type": "code",
      "metadata": {
        "id": "CSn05Hdf5AGf",
        "colab": {
          "base_uri": "https://localhost:8080/",
          "height": 295
        },
        "outputId": "bfbccfdb-cfd0-46e4-ebb0-f362fcd13762"
      },
      "source": [
        "# Select 5 columns and find out their bias \n",
        "df_pow = df.apply(np.sqrt)\n",
        "df_pow.plot.hist(alpha=0.5, bins=15, grid=True, legend=None)\n",
        "plt.xlabel(\"Feature value\")\n",
        "plt.title(\"Histogram\")\n",
        "plt.show()"
      ],
      "execution_count": 394,
      "outputs": [
        {
          "output_type": "display_data",
          "data": {
            "image/png": "[encoded data removed]",
            "text/plain": [
              "<Figure size 432x288 with 1 Axes>"
            ]
          },
          "metadata": {
            "tags": [],
            "needs_background": "light"
          }
        }
      ]
    },
    {
      "cell_type": "code",
      "metadata": {
        "colab": {
          "base_uri": "https://localhost:8080/",
          "height": 282
        },
        "id": "yqq7BLrCkrr1",
        "outputId": "ff647d59-f889-4544-f125-6ffd1c4ab223"
      },
      "source": [
        "import scipy.stats as stats \n",
        "param = stats.norm.fit(df_pow)\n",
        "x = np.linspace(0, 20, 480)      # Linear spacing of 100 elements between 0 and 20.\n",
        "pdf_fitted = stats.norm.pdf(df.NationalITy, *param)\n",
        "plt.plot(x, pdf_fitted, color='r')"
      ],
      "execution_count": 398,
      "outputs": [
        {
          "output_type": "execute_result",
          "data": {
            "text/plain": [
              "[<matplotlib.lines.Line2D at 0x7f6512c56ad0>]"
            ]
          },
          "metadata": {
            "tags": []
          },
          "execution_count": 398
        },
        {
          "output_type": "display_data",
          "data": {
            "image/png": "[encoded data removed]",
            "text/plain": [
              "<Figure size 432x288 with 1 Axes>"
            ]
          },
          "metadata": {
            "tags": [],
            "needs_background": "light"
          }
        }
      ]
    },
    {
      "cell_type": "markdown",
      "metadata": {
        "id": "ZmaksB535AGf"
      },
      "source": [
        "## Step 5:\n",
        "### Find out for all the variables which is their correlation with the class\n",
        "\n",
        "Sometimes we need to reduce the ammount of features we feed the model in order to make it more lighweight, so we either select the best ones or take out the most useless ones."
      ]
    },
    {
      "cell_type": "code",
      "metadata": {
        "id": "iIitR9-qGH2k"
      },
      "source": [
        "import matplotlib.pyplot as plt"
      ],
      "execution_count": 399,
      "outputs": []
    },
    {
      "cell_type": "code",
      "metadata": {
        "colab": {
          "base_uri": "https://localhost:8080/",
          "height": 923
        },
        "id": "nU9nkcXLJN89",
        "outputId": "533846f5-1238-412d-8b6a-6cc852fe2dfe"
      },
      "source": [
        "corr = df.corr().sort_values(ascending = False, by = \"Class\")\n",
        "plt.figure(figsize=(15, 15))\n",
        "matrix = np.triu(df.corr())\n",
        "sns.heatmap(corr,annot=True,fmt=\".2\",cmap= 'coolwarm',linewidths=2,square = True)"
      ],
      "execution_count": 421,
      "outputs": [
        {
          "output_type": "execute_result",
          "data": {
            "text/plain": [
              "<matplotlib.axes._subplots.AxesSubplot at 0x7f65121ed450>"
            ]
          },
          "metadata": {
            "tags": []
          },
          "execution_count": 421
        },
        {
          "output_type": "display_data",
          "data": {
            "image/png": "[encoded data removed]",
            "text/plain": [
              "<Figure size 1080x1080 with 2 Axes>"
            ]
          },
          "metadata": {
            "tags": [],
            "needs_background": "light"
          }
        }
      ]
    },
    {
      "cell_type": "code",
      "metadata": {
        "id": "hGEXB-aB5AGf",
        "colab": {
          "base_uri": "https://localhost:8080/",
          "height": 414
        },
        "outputId": "288e28eb-38aa-4bfc-e6a3-8cd5352ce8a6"
      },
      "source": [
        "# Select the top 4 most correlated and put them in a different dataset\n",
        "\n",
        "df2 = df.filter([\"Relation\",\"raisedhands\",\"gender\", \"Topic\"], axis=1)#take two most positive corr and most negative corr with class \n",
        "# Select the top 4 least correlated and create a new dataset without them\n",
        "df3 = df.drop([\"SectionID\",\"StageID\",\"GradeID\",\"Semester\"],axis =1) #drop 4 neasres value closest t osero\n",
        "df2"
      ],
      "execution_count": 423,
      "outputs": [
        {
          "output_type": "execute_result",
          "data": {
            "text/html": [
              "<div>\n",
              "<style scoped>\n",
              "    .dataframe tbody tr th:only-of-type {\n",
              "        vertical-align: middle;\n",
              "    }\n",
              "\n",
              "    .dataframe tbody tr th {\n",
              "        vertical-align: top;\n",
              "    }\n",
              "\n",
              "    .dataframe thead th {\n",
              "        text-align: right;\n",
              "    }\n",
              "</style>\n",
              "<table border=\"1\" class=\"dataframe\">\n",
              "  <thead>\n",
              "    <tr style=\"text-align: right;\">\n",
              "      <th></th>\n",
              "      <th>Relation</th>\n",
              "      <th>raisedhands</th>\n",
              "      <th>gender</th>\n",
              "      <th>Topic</th>\n",
              "    </tr>\n",
              "  </thead>\n",
              "  <tbody>\n",
              "    <tr>\n",
              "      <th>0</th>\n",
              "      <td>0</td>\n",
              "      <td>15</td>\n",
              "      <td>1</td>\n",
              "      <td>7</td>\n",
              "    </tr>\n",
              "    <tr>\n",
              "      <th>1</th>\n",
              "      <td>0</td>\n",
              "      <td>20</td>\n",
              "      <td>1</td>\n",
              "      <td>7</td>\n",
              "    </tr>\n",
              "    <tr>\n",
              "      <th>2</th>\n",
              "      <td>0</td>\n",
              "      <td>10</td>\n",
              "      <td>1</td>\n",
              "      <td>7</td>\n",
              "    </tr>\n",
              "    <tr>\n",
              "      <th>3</th>\n",
              "      <td>0</td>\n",
              "      <td>30</td>\n",
              "      <td>1</td>\n",
              "      <td>7</td>\n",
              "    </tr>\n",
              "    <tr>\n",
              "      <th>4</th>\n",
              "      <td>0</td>\n",
              "      <td>40</td>\n",
              "      <td>1</td>\n",
              "      <td>7</td>\n",
              "    </tr>\n",
              "    <tr>\n",
              "      <th>...</th>\n",
              "      <td>...</td>\n",
              "      <td>...</td>\n",
              "      <td>...</td>\n",
              "      <td>...</td>\n",
              "    </tr>\n",
              "    <tr>\n",
              "      <th>475</th>\n",
              "      <td>0</td>\n",
              "      <td>5</td>\n",
              "      <td>0</td>\n",
              "      <td>2</td>\n",
              "    </tr>\n",
              "    <tr>\n",
              "      <th>476</th>\n",
              "      <td>0</td>\n",
              "      <td>50</td>\n",
              "      <td>0</td>\n",
              "      <td>5</td>\n",
              "    </tr>\n",
              "    <tr>\n",
              "      <th>477</th>\n",
              "      <td>0</td>\n",
              "      <td>55</td>\n",
              "      <td>0</td>\n",
              "      <td>5</td>\n",
              "    </tr>\n",
              "    <tr>\n",
              "      <th>478</th>\n",
              "      <td>0</td>\n",
              "      <td>30</td>\n",
              "      <td>0</td>\n",
              "      <td>6</td>\n",
              "    </tr>\n",
              "    <tr>\n",
              "      <th>479</th>\n",
              "      <td>0</td>\n",
              "      <td>35</td>\n",
              "      <td>0</td>\n",
              "      <td>6</td>\n",
              "    </tr>\n",
              "  </tbody>\n",
              "</table>\n",
              "<p>480 rows × 4 columns</p>\n",
              "</div>"
            ],
            "text/plain": [
              "     Relation  raisedhands  gender  Topic\n",
              "0           0           15       1      7\n",
              "1           0           20       1      7\n",
              "2           0           10       1      7\n",
              "3           0           30       1      7\n",
              "4           0           40       1      7\n",
              "..        ...          ...     ...    ...\n",
              "475         0            5       0      2\n",
              "476         0           50       0      5\n",
              "477         0           55       0      5\n",
              "478         0           30       0      6\n",
              "479         0           35       0      6\n",
              "\n",
              "[480 rows x 4 columns]"
            ]
          },
          "metadata": {
            "tags": []
          },
          "execution_count": 423
        }
      ]
    },
    {
      "cell_type": "code",
      "metadata": {
        "id": "iEAe8b455AGg"
      },
      "source": [
        "\n"
      ],
      "execution_count": null,
      "outputs": []
    },
    {
      "cell_type": "markdown",
      "metadata": {
        "id": "87cGISzT5AGg"
      },
      "source": [
        "## Step 6:\n",
        "### Visualize the correlation between the previously selected 4 most correlated variables with the class\n",
        "\n",
        "Lets see if those are correlated too.\n"
      ]
    },
    {
      "cell_type": "code",
      "metadata": {
        "id": "nW8oRrMK5AGh",
        "colab": {
          "base_uri": "https://localhost:8080/",
          "height": 286
        },
        "outputId": "f76fa712-76ad-43c2-a79e-8cceae9b68d9"
      },
      "source": [
        "# Plot the correlation among themself for the previous 4 variables.\n",
        "sns.heatmap(df2.corr(),annot= True)"
      ],
      "execution_count": 254,
      "outputs": [
        {
          "output_type": "execute_result",
          "data": {
            "text/plain": [
              "<matplotlib.axes._subplots.AxesSubplot at 0x7f651591e750>"
            ]
          },
          "metadata": {
            "tags": []
          },
          "execution_count": 254
        },
        {
          "output_type": "display_data",
          "data": {
            "image/png": "[encoded data removed]",
            "text/plain": [
              "<Figure size 432x288 with 2 Axes>"
            ]
          },
          "metadata": {
            "tags": [],
            "needs_background": "light"
          }
        }
      ]
    },
    {
      "cell_type": "markdown",
      "metadata": {
        "id": "DAJqLUmm5AGh"
      },
      "source": [
        "## Step 7:\n",
        "### For the previoys 4 variables plot them AGAINST the class\n"
      ]
    },
    {
      "cell_type": "code",
      "metadata": {
        "id": "Z7PGVjAC5AGh",
        "colab": {
          "base_uri": "https://localhost:8080/",
          "height": 282
        },
        "outputId": "152ae63a-de09-498d-cbea-6789fbffc217"
      },
      "source": [
        "# make 4 plot where you plot each of the variables with the class\n",
        "#plt.scatter(df[\"Class\"],df2[\"raisedhands\"])\n",
        "plt.scatter(df[\"VisITedResources\"],df[\"raisedhands\"])"
      ],
      "execution_count": 428,
      "outputs": [
        {
          "output_type": "execute_result",
          "data": {
            "text/plain": [
              "<matplotlib.collections.PathCollection at 0x7f6511de6e90>"
            ]
          },
          "metadata": {
            "tags": []
          },
          "execution_count": 428
        },
        {
          "output_type": "display_data",
          "data": {
            "image/png": "[encoded data removed]",
            "text/plain": [
              "<Figure size 432x288 with 1 Axes>"
            ]
          },
          "metadata": {
            "tags": [],
            "needs_background": "light"
          }
        }
      ]
    },
    {
      "cell_type": "code",
      "metadata": {
        "colab": {
          "base_uri": "https://localhost:8080/"
        },
        "id": "FLVDGpP9a9HW",
        "outputId": "9111f76f-9efa-49da-c49f-9184bf0c4e16"
      },
      "source": [
        "k  = df.loc[df[\"StudentAbsenceDays\"] == 1 ]\n",
        "k.loc[k[\"Class\"] == 1].size"
      ],
      "execution_count": 335,
      "outputs": [
        {
          "output_type": "execute_result",
          "data": {
            "text/plain": [
              "187"
            ]
          },
          "metadata": {
            "tags": []
          },
          "execution_count": 335
        }
      ]
    },
    {
      "cell_type": "markdown",
      "metadata": {
        "id": "bG5mo3fJ5AGi"
      },
      "source": [
        "## Step 8:\n",
        "### Probability time, if I know a student had less than 7 absent days what is the probability of him being classified as L"
      ]
    },
    {
      "cell_type": "code",
      "metadata": {
        "colab": {
          "base_uri": "https://localhost:8080/"
        },
        "id": "Z8oDz0mcdSPq",
        "outputId": "203a2689-c4f9-4c23-aa77-322a775aceda"
      },
      "source": [
        "import collections\n",
        "hey = np.logical_and((df[\"StudentAbsenceDays\"] == 1).values , (df[\"Class\"] == 1).values)\n",
        "collections.Counter(hey)"
      ],
      "execution_count": 341,
      "outputs": [
        {
          "output_type": "execute_result",
          "data": {
            "text/plain": [
              "Counter({False: 469, True: 11})"
            ]
          },
          "metadata": {
            "tags": []
          },
          "execution_count": 341
        }
      ]
    },
    {
      "cell_type": "code",
      "metadata": {
        "colab": {
          "base_uri": "https://localhost:8080/"
        },
        "id": "bhn4GFItWP7u",
        "outputId": "98b99579-444e-4b69-e310-95de8e5db5e7"
      },
      "source": [
        "#df.loc[df[\"StudentAbsenceDays\"] == 1 & df[\"Class\"] == 1] ??????\n",
        "#probablity of absent less than 7 is  u7 days = 1 a7days = 0 class h = 0 m = 2 l = 1\n",
        "df[\"StudentAbsenceDays\"].value_counts()"
      ],
      "execution_count": 429,
      "outputs": [
        {
          "output_type": "execute_result",
          "data": {
            "text/plain": [
              "1    289\n",
              "0    191\n",
              "Name: StudentAbsenceDays, dtype: int64"
            ]
          },
          "metadata": {
            "tags": []
          },
          "execution_count": 429
        }
      ]
    },
    {
      "cell_type": "code",
      "metadata": {
        "colab": {
          "base_uri": "https://localhost:8080/"
        },
        "id": "OqgiUvdfWC6_",
        "outputId": "66b1864c-8322-4c58-9ac7-80eace0a07e2"
      },
      "source": [
        "df[\"Class\"].value_counts()#127/480"
      ],
      "execution_count": 319,
      "outputs": [
        {
          "output_type": "execute_result",
          "data": {
            "text/plain": [
              "2    211\n",
              "0    142\n",
              "1    127\n",
              "Name: Class, dtype: int64"
            ]
          },
          "metadata": {
            "tags": []
          },
          "execution_count": 319
        }
      ]
    },
    {
      "cell_type": "code",
      "metadata": {
        "colab": {
          "base_uri": "https://localhost:8080/"
        },
        "id": "38OCdyLGaINJ",
        "outputId": "c1e82c18-a627-4b74-8ce6-a1a264af87dd"
      },
      "source": [
        "u7l = (127/480)*(289/480)\n",
        "u7l"
      ],
      "execution_count": 343,
      "outputs": [
        {
          "output_type": "execute_result",
          "data": {
            "text/plain": [
              "0.15930121527777777"
            ]
          },
          "metadata": {
            "tags": []
          },
          "execution_count": 343
        }
      ]
    },
    {
      "cell_type": "markdown",
      "metadata": {
        "id": "eSEHMKIT5AGi"
      },
      "source": [
        "## Step 8:\n",
        "### Probability time, if I know a student had less than 7 absent days what is the probability of him being classified as m or higher, using the previous calculation"
      ]
    },
    {
      "cell_type": "code",
      "metadata": {
        "id": "T7f1EtTf5AGj",
        "colab": {
          "base_uri": "https://localhost:8080/"
        },
        "outputId": "d0492fb2-1d51-45c3-fb08-1e7e9e3b2d56"
      },
      "source": [
        "# Looking at step seven extrapolate from it the probability of a student being classified as M or H\n",
        "u7mh = 1-u7l\n",
        "u7mh\n"
      ],
      "execution_count": 432,
      "outputs": [
        {
          "output_type": "execute_result",
          "data": {
            "text/plain": [
              "0.8406987847222223"
            ]
          },
          "metadata": {
            "tags": []
          },
          "execution_count": 432
        }
      ]
    },
    {
      "cell_type": "markdown",
      "metadata": {
        "id": "zPLWDfhY5AGj"
      },
      "source": [
        "## Step 9:\n",
        "### Probability time, knowing a student was classified as H, what is the probability of him having raised the hand more than 10 times"
      ]
    },
    {
      "cell_type": "code",
      "metadata": {
        "colab": {
          "base_uri": "https://localhost:8080/"
        },
        "id": "5jpwqcrqg3mY",
        "outputId": "b83de7ae-b14c-442d-a80d-09781f5390cc"
      },
      "source": [
        "df.loc[df[\"Class\"]== 0].count()"
      ],
      "execution_count": 367,
      "outputs": [
        {
          "output_type": "execute_result",
          "data": {
            "text/plain": [
              "gender                      142\n",
              "NationalITy                 142\n",
              "PlaceofBirth                142\n",
              "StageID                     142\n",
              "GradeID                     142\n",
              "SectionID                   142\n",
              "Topic                       142\n",
              "Semester                    142\n",
              "Relation                    142\n",
              "raisedhands                 142\n",
              "VisITedResources            142\n",
              "AnnouncementsView           142\n",
              "Discussion                  142\n",
              "ParentAnsweringSurvey       142\n",
              "ParentschoolSatisfaction    142\n",
              "StudentAbsenceDays          142\n",
              "Class                       142\n",
              "dtype: int64"
            ]
          },
          "metadata": {
            "tags": []
          },
          "execution_count": 367
        }
      ]
    },
    {
      "cell_type": "code",
      "metadata": {
        "id": "Le59a5fJ5AGk",
        "colab": {
          "base_uri": "https://localhost:8080/"
        },
        "outputId": "84668fa7-e2eb-42f6-bc41-b9c2824d9164"
      },
      "source": [
        "# number of H 142\n",
        "\n",
        "heyy = np.logical_and((df[\"raisedhands\"] > 10).values , (df[\"Class\"] == 0).values)\n",
        "collections.Counter(heyy)\n",
        "141/480"
      ],
      "execution_count": 434,
      "outputs": [
        {
          "output_type": "execute_result",
          "data": {
            "text/plain": [
              "0.29375"
            ]
          },
          "metadata": {
            "tags": []
          },
          "execution_count": 434
        }
      ]
    },
    {
      "cell_type": "markdown",
      "metadata": {
        "id": "x9VU_8H95AGk"
      },
      "source": [
        "## Step 10:\n",
        "### Free time, if I was the principal of the school what plots and probabilities would you show me to help me accept only M and H students."
      ]
    }
  ]
}