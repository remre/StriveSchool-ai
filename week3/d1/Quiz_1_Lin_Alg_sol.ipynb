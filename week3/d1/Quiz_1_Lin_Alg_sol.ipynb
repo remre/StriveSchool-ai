{
  "nbformat": 4,
  "nbformat_minor": 0,
  "metadata": {
    "kernelspec": {
      "display_name": "Python 3",
      "language": "python",
      "name": "python3"
    },
    "language_info": {
      "codemirror_mode": {
        "name": "ipython",
        "version": 3
      },
      "file_extension": ".py",
      "mimetype": "text/x-python",
      "name": "python",
      "nbconvert_exporter": "python",
      "pygments_lexer": "ipython3",
      "version": "3.9.1"
    },
    "varInspector": {
      "cols": {
        "lenName": 16,
        "lenType": 16,
        "lenVar": 40
      },
      "kernels_config": {
        "python": {
          "delete_cmd_postfix": "",
          "delete_cmd_prefix": "del ",
          "library": "var_list.py",
          "varRefreshCmd": "print(var_dic_list())"
        },
        "r": {
          "delete_cmd_postfix": ") ",
          "delete_cmd_prefix": "rm(",
          "library": "var_list.r",
          "varRefreshCmd": "cat(var_dic_list()) "
        }
      },
      "types_to_exclude": [
        "module",
        "function",
        "builtin_function_or_method",
        "instance",
        "_Feature"
      ],
      "window_display": false
    },
    "colab": {
      "name": "Quiz_1_Lin_Alg_sol.ipynb adlı not defterinin kopyası",
      "provenance": [],
      "collapsed_sections": [],
      "include_colab_link": true
    }
  },
  "cells": [
    {
      "cell_type": "markdown",
      "metadata": {
        "id": "view-in-github",
        "colab_type": "text"
      },
      "source": [
        "<a href=\"https://colab.research.google.com/github/remre/StriveSchool-ai/blob/main/week3/d1/Quiz_1_Lin_Alg_sol.ipynb\" target=\"_parent\"><img src=\"https://colab.research.google.com/assets/colab-badge.svg\" alt=\"Open In Colab\"/></a>"
      ]
    },
    {
      "cell_type": "markdown",
      "metadata": {
        "id": "qHcljq6rfoeC"
      },
      "source": [
        "## Linear Algebra Quiz #1\n",
        "\n",
        "![title](https://github.com/Strive-School/ai_jun21/blob/main/M2-Maths%20and%20Stats/D1/exercises/img/1_0.jpeg?raw=1)\n",
        "\n",
        "We strongly suggest working with numpy :)"
      ]
    },
    {
      "cell_type": "code",
      "metadata": {
        "id": "zrCpZP1ufoeH"
      },
      "source": [
        "#Do your imports here\n",
        "import numpy as np"
      ],
      "execution_count": 2,
      "outputs": []
    },
    {
      "cell_type": "markdown",
      "metadata": {
        "id": "LsEde6mlfoeI"
      },
      "source": [
        "![title](https://github.com/Strive-School/ai_jun21/blob/main/M2-Maths%20and%20Stats/D1/exercises/img/1_1.png?raw=1)"
      ]
    },
    {
      "cell_type": "code",
      "metadata": {
        "id": "eOgWl1UDfoeI"
      },
      "source": [
        "# type a function that given a 3_dimensional vector it is able to calculate its magnitude\n",
        "\n",
        "def magnitude_3(a,b,c):\n",
        "  return np.linalg.norm(a+b+c)\n",
        "\n",
        "\n",
        "# type a function that given a n_dimensional vector it is able to calculate its magnitude\n",
        "# if you want to try this from python (not jupyter notebook) https://docs.python.org/3/library/argparse.html would be a good addition\n",
        "# if you are doing this from a jupyter notebook only, you can try to prompt the user for an input  \n",
        "\n",
        "def magnitude_complete(*args):\n",
        "\n",
        "    pass"
      ],
      "execution_count": null,
      "outputs": []
    },
    {
      "cell_type": "code",
      "metadata": {
        "colab": {
          "base_uri": "https://localhost:8080/"
        },
        "id": "JdSn8zAJrtee",
        "outputId": "d3beb1aa-4b14-43f2-9a10-3a6a582b6c86"
      },
      "source": [
        "#please condiser here to solution of question above\n",
        "import math\n",
        "def magnitude_complete(*args):\n",
        "  for v in args:\n",
        "    v = np.array(v)\n",
        "    return math.sqrt(sum(pow(element, 2) for element in v))\n",
        "magnitude_complete([1,2])"
      ],
      "execution_count": 50,
      "outputs": [
        {
          "output_type": "execute_result",
          "data": {
            "text/plain": [
              "2.23606797749979"
            ]
          },
          "metadata": {
            "tags": []
          },
          "execution_count": 50
        }
      ]
    },
    {
      "cell_type": "markdown",
      "metadata": {
        "id": "6YbNvphRfoeJ"
      },
      "source": [
        "uncomment the following line when you are ready to test"
      ]
    },
    {
      "cell_type": "code",
      "metadata": {
        "id": "BbcWmsU-foeJ"
      },
      "source": [
        "assert magnitude_complete([1]) == 1.0\n",
        "assert magnitude_complete([1,2]) >= 2.236\n",
        "assert magnitude_complete([1,2,3]) >= 3.741\n",
        "assert magnitude_complete([1,2,3,4,5]) >= 5.477\n",
        "assert magnitude_complete([1,2,3,4,5]) >= 7.416"
      ],
      "execution_count": 51,
      "outputs": []
    },
    {
      "cell_type": "markdown",
      "metadata": {
        "id": "yvKLWnWPfoeK"
      },
      "source": [
        "![title](https://github.com/Strive-School/ai_jun21/blob/main/M2-Maths%20and%20Stats/D1/exercises/img/1_2.png?raw=1)"
      ]
    },
    {
      "cell_type": "code",
      "metadata": {
        "id": "32o4cGhWfoeK",
        "colab": {
          "base_uri": "https://localhost:8080/"
        },
        "outputId": "08dfd0da-d537-48ec-920f-03a1e44592e3"
      },
      "source": [
        "x=np.array([8,1])\n",
        "y=np.array([-4,-1])\n",
        "def magnitude_vectors(u, v):\n",
        "    #checks that size is equal\n",
        "    if v.size == u.size:\n",
        "      m = v+u\n",
        "      #returns the magnitude\n",
        "      return np.linalg.norm(m)\n",
        "    pass\n",
        "magnitude_vectors(x,y)"
      ],
      "execution_count": 68,
      "outputs": [
        {
          "output_type": "execute_result",
          "data": {
            "text/plain": [
              "4.0"
            ]
          },
          "metadata": {
            "tags": []
          },
          "execution_count": 68
        }
      ]
    },
    {
      "cell_type": "markdown",
      "metadata": {
        "id": "gw4Ida6jfoeL"
      },
      "source": [
        "![title](https://github.com/Strive-School/ai_jun21/blob/main/M2-Maths%20and%20Stats/D1/exercises/img/1_3.png?raw=1)"
      ]
    },
    {
      "cell_type": "code",
      "metadata": {
        "id": "6jKB1gTofoeL",
        "colab": {
          "base_uri": "https://localhost:8080/",
          "height": 128
        },
        "outputId": "7e5b43fa-9c25-4762-890c-bfd658c3efaa"
      },
      "source": [
        "def direction_vectors(a, b):\n",
        "    #checks that size is equal\n",
        "    \n",
        "    #returns the angle. Hint: use the arctan\n",
        "    \n",
        "# or if you want to do it all in one batch:\n",
        "#checks that size is equal\n",
        "def magdir_vectors(a, b):\n",
        "    #returns the magnitude and direction\n",
        "    return \n",
        "    # as alternative, print them in a nicely printed format like:\n",
        "    print(\"The magnitude of a + b is: \"+ k + \"and the direction is: \" +  direc)\n",
        "    #\"The magnitude of a + b is X and the direction is Y\"\n",
        "magdir_vectors([1,2],[3,4])"
      ],
      "execution_count": 67,
      "outputs": [
        {
          "output_type": "error",
          "ename": "IndentationError",
          "evalue": "ignored",
          "traceback": [
            "\u001b[0;36m  File \u001b[0;32m\"<ipython-input-67-e81b7699e92f>\"\u001b[0;36m, line \u001b[0;32m8\u001b[0m\n\u001b[0;31m    def magdir_vectors(a, b):\u001b[0m\n\u001b[0m      ^\u001b[0m\n\u001b[0;31mIndentationError\u001b[0m\u001b[0;31m:\u001b[0m expected an indented block\n"
          ]
        }
      ]
    },
    {
      "cell_type": "code",
      "metadata": {
        "colab": {
          "base_uri": "https://localhost:8080/"
        },
        "id": "zC_BOgwTHYe2",
        "outputId": "86ab79ab-f79a-4943-840b-7c71a9c73dd5"
      },
      "source": [
        "def magdir_vectors(a, b):\n",
        "  if a.size == b.size:\n",
        "     z = a+b\n",
        "     k = np.linalg.norm(z)\n",
        "     direc = [[a/k],[b/k]]\n",
        "     return  k,direc\n",
        "    \n",
        "    \n",
        "     \n",
        "    #returns the magnitude and direction\n",
        "    # as alternative, print them in a nicely printed format like:\n",
        "\n",
        "    #print(\"The magnitude of a + b is:{0} and the direction is:{1}\".format(\"k,\"direc\"))\n",
        "    #\"The magnitude of a + b is X and the direction is Y\"\n",
        "    \n",
        "\n",
        "x=np.array([5,1])\n",
        "y=np.array([-4,-1])\n",
        "magdir_vectors(x,y)"
      ],
      "execution_count": 100,
      "outputs": [
        {
          "output_type": "execute_result",
          "data": {
            "text/plain": [
              "(1.0, [[array([5., 1.])], [array([-4., -1.])]])"
            ]
          },
          "metadata": {
            "tags": []
          },
          "execution_count": 100
        }
      ]
    },
    {
      "cell_type": "markdown",
      "metadata": {
        "id": "_mifSU8xfoeM"
      },
      "source": [
        "![title](https://github.com/Strive-School/ai_jun21/blob/main/M2-Maths%20and%20Stats/D1/exercises/img/1_4.png?raw=1)\n",
        "- What is the magnitude of αx⃗? \n",
        "- If α>0, will the direction of the resulting vector change?\n",
        "- If α<0, will the direction of the resulting vector change?\n",
        "- If −1<α<1, will ∥αx⃗∥  increase, decrease or stay the same?"
      ]
    },
    {
      "cell_type": "code",
      "metadata": {
        "id": "HcX2Jr0VfoeN"
      },
      "source": [
        "def alpha_magnitude(alpha, b):\n",
        "    \n",
        "    #returns the resulting magnitude,\n",
        "    # as alternative, just print it\n"
      ],
      "execution_count": null,
      "outputs": []
    },
    {
      "cell_type": "markdown",
      "metadata": {
        "id": "QL7Jnm2yfoeO"
      },
      "source": [
        "For the above exercise, write down in markdown or in a comment if the direction has changed and what has happened to the vector."
      ]
    },
    {
      "cell_type": "code",
      "metadata": {
        "id": "8Vs5L1-lfoeP"
      },
      "source": [
        ""
      ],
      "execution_count": null,
      "outputs": []
    }
  ]
}