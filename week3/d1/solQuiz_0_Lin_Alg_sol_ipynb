{
  "nbformat": 4,
  "nbformat_minor": 0,
  "metadata": {
    "kernelspec": {
      "display_name": "Python 3",
      "language": "python",
      "name": "python3"
    },
    "language_info": {
      "codemirror_mode": {
        "name": "ipython",
        "version": 3
      },
      "file_extension": ".py",
      "mimetype": "text/x-python",
      "name": "python",
      "nbconvert_exporter": "python",
      "pygments_lexer": "ipython3",
      "version": "3.9.1"
    },
    "varInspector": {
      "cols": {
        "lenName": 16,
        "lenType": 16,
        "lenVar": 40
      },
      "kernels_config": {
        "python": {
          "delete_cmd_postfix": "",
          "delete_cmd_prefix": "del ",
          "library": "var_list.py",
          "varRefreshCmd": "print(var_dic_list())"
        },
        "r": {
          "delete_cmd_postfix": ") ",
          "delete_cmd_prefix": "rm(",
          "library": "var_list.r",
          "varRefreshCmd": "cat(var_dic_list()) "
        }
      },
      "types_to_exclude": [
        "module",
        "function",
        "builtin_function_or_method",
        "instance",
        "_Feature"
      ],
      "window_display": false
    },
    "colab": {
      "name": "Quiz_0_Lin_Alg_sol.ipynb adlı not defterinin kopyası",
      "provenance": [],
      "collapsed_sections": [],
      "include_colab_link": true
    }
  },
  "cells": [
    {
      "cell_type": "markdown",
      "metadata": {
        "id": "view-in-github",
        "colab_type": "text"
      },
      "source": [
        "<a href=\"https://colab.research.google.com/github/remre/StriveSchool-ai/blob/main/week3/d1/solQuiz_0_Lin_Alg_sol_ipynb\" target=\"_parent\"><img src=\"https://colab.research.google.com/assets/colab-badge.svg\" alt=\"Open In Colab\"/></a>"
      ]
    },
    {
      "cell_type": "markdown",
      "metadata": {
        "id": "LJ5KGCLheRUU"
      },
      "source": [
        "# Vectors and Matrices\n",
        "Time to work! Do it with numpy first and then if you have time, manually by hand :)"
      ]
    },
    {
      "cell_type": "markdown",
      "metadata": {
        "id": "L8iC8JQheRUY"
      },
      "source": [
        "## Vectors"
      ]
    },
    {
      "cell_type": "markdown",
      "metadata": {
        "id": "Pv5rtkfZeRUY"
      },
      "source": [
        "Lists can be used to represent mathematical vectors. In this exercise and several that follow you will write functions to perform standard operations on vectors. Create a file named vectors.py or use the Jupyter notebook provided\n",
        "\n",
        "Write a function add_vectors(u, v) that takes two lists of numbers of the same length, and returns a new list containing the sums of the corresponding elements of each.\n",
        "\n",
        "**Note that the text in \"\"\" \"\"\" is provided for you to accurately verify that your function works :)**"
      ]
    },
    {
      "cell_type": "code",
      "metadata": {
        "ExecuteTime": {
          "end_time": "2021-06-07T12:55:04.065651Z",
          "start_time": "2021-06-07T12:55:04.052145Z"
        },
        "id": "AZSZSLPzeRUZ",
        "colab": {
          "base_uri": "https://localhost:8080/"
        },
        "outputId": "573d498f-5992-426a-88e2-9035be52c376"
      },
      "source": [
        "import numpy as np\n",
        "def add_vectors(u, v):\n",
        "  u = np.array([[u,u],[u,u]])#little bit show\n",
        "  v= np.array([[v,v],[v,v]])#it is too much\n",
        "  return u+v\n",
        "\n",
        "'''      >>> add_vectors([1, 0], [1, 1])\n",
        "      [2, 1]\n",
        "      >>> add_vectors([1, 2], [1, 4])\n",
        "      [2, 6]\n",
        "      >>> add_vectors([1, 2, 1], [1, 4, 3])\n",
        "      [2, 6, 4]\n",
        "      >>> add_vectors([11, 0, -4, 5], [2, -4, 17, 0])\n",
        "      [13, -4, 13, 5]\n",
        "      >>> a = [1, 2, 3]\n",
        "      >>> b = [1, 1, 1]\n",
        "      >>> add_vectors(a, b)\n",
        "      [2, 3, 4]\n",
        "      >>> a\n",
        "      [1, 2, 3]\n",
        "      >>> b\n",
        "      [1, 1, 1]\n",
        "'''\n",
        "pass\n",
        "add_vectors(5,4)\n"
      ],
      "execution_count": 47,
      "outputs": [
        {
          "output_type": "execute_result",
          "data": {
            "text/plain": [
              "array([[9, 9],\n",
              "       [9, 9]])"
            ]
          },
          "metadata": {
            "tags": []
          },
          "execution_count": 47
        }
      ]
    },
    {
      "cell_type": "markdown",
      "metadata": {
        "id": "NJePUtlPeRUa"
      },
      "source": [
        "Write a function scalar_mult(s, v) that takes a number, s, and a list, v and returns the [scalar multiple](https://en.wikipedia.org/wiki/Scalar_multiplication) of v by s."
      ]
    },
    {
      "cell_type": "code",
      "metadata": {
        "ExecuteTime": {
          "end_time": "2021-06-07T12:55:19.258850Z",
          "start_time": "2021-06-07T12:55:19.249823Z"
        },
        "id": "ran4exy8eRUb",
        "colab": {
          "base_uri": "https://localhost:8080/"
        },
        "outputId": "777f116e-2891-496c-b09e-f983b5ddabb6"
      },
      "source": [
        "def scalar_mult(s, v):\n",
        "  v = np.array(v)\n",
        "  return s*v\n",
        "\n",
        "\"\"\"\n",
        "      >>> scalar_mult(5, [1, 2])\n",
        "      [5, 10]\n",
        "      >>> scalar_mult(3, [1, 0, -1])\n",
        "      [3, 0, -3]\n",
        "      >>> scalar_mult(7, [3, 0, 5, 11, 2])\n",
        "      [21, 0, 35, 77, 14]\n",
        "      >>> a = [1, 2, 3]\n",
        "      >>> scalar_mult(4, a)\n",
        "      [4, 8, 12]\n",
        "      >>> a\n",
        "      [1, 2, 3]\n",
        "\"\"\"\n",
        "\n",
        "scalar_mult(5,(6,7,8))"
      ],
      "execution_count": 89,
      "outputs": [
        {
          "output_type": "execute_result",
          "data": {
            "text/plain": [
              "array([30, 35, 40])"
            ]
          },
          "metadata": {
            "tags": []
          },
          "execution_count": 89
        }
      ]
    },
    {
      "cell_type": "markdown",
      "metadata": {
        "id": "B88xWFnUeRUc"
      },
      "source": [
        "Write a function dot_product(u, v) that takes two lists of numbers of the same length, and returns the sum of the products of the corresponding elements of each (the [dot_product](https://en.wikipedia.org/wiki/Dot_product)."
      ]
    },
    {
      "cell_type": "code",
      "metadata": {
        "ExecuteTime": {
          "end_time": "2021-06-07T12:55:22.647998Z",
          "start_time": "2021-06-07T12:55:22.642607Z"
        },
        "id": "tEyP0k7teRUd",
        "colab": {
          "base_uri": "https://localhost:8080/"
        },
        "outputId": "8d5e3fdc-fd29-481e-80bb-89870a7d30ef"
      },
      "source": [
        "def dot_product(u, v):\n",
        "  u = np.array(u)\n",
        "  v = np.array(v)\n",
        "  return np.dot(u,v)\n",
        "\"\"\"\n",
        "      >>> dot_product([1, 1], [1, 1])\n",
        "      2\n",
        "      >>> dot_product([1, 2], [1, 4])\n",
        "      9\n",
        "      >>> dot_product([1, 2, 1], [1, 4, 3])\n",
        "      12\n",
        "      >>> dot_product([2, 0, -1, 1], [1, 5, 2, 0])\n",
        "      0\n",
        "\"\"\"\n",
        "pass\n",
        "dot_product(([6,7]), ([5,6]))"
      ],
      "execution_count": 48,
      "outputs": [
        {
          "output_type": "execute_result",
          "data": {
            "text/plain": [
              "72"
            ]
          },
          "metadata": {
            "tags": []
          },
          "execution_count": 48
        }
      ]
    },
    {
      "cell_type": "markdown",
      "metadata": {
        "id": "MSEZDIcceRUd"
      },
      "source": [
        "## Matrices"
      ]
    },
    {
      "cell_type": "markdown",
      "metadata": {
        "id": "wFs87TPleRUe"
      },
      "source": [
        "Create a new module named matrices.py or *use the Jupyter notebook provided* and add the following function, which returns a copy of nested lists of numbers such that the lists are not aliases:"
      ]
    },
    {
      "cell_type": "code",
      "metadata": {
        "ExecuteTime": {
          "end_time": "2021-06-07T12:55:25.891991Z",
          "start_time": "2021-06-07T12:55:25.888466Z"
        },
        "id": "bWLCOSbheRUe",
        "colab": {
          "base_uri": "https://localhost:8080/"
        },
        "outputId": "02179d5c-cd36-49a1-b2e7-e0f678a31ac1"
      },
      "source": [
        "def copy_matrix(matrix):\n",
        "    \"\"\"\n",
        "      >>> copy_matrix([[1, 2], [3, 4]])\n",
        "      [[1, 2], [3, 4]]\n",
        "      >>> copy_matrix([[1, 2, 3], [4, 5, 6]])\n",
        "      [[1, 2, 3], [4, 5, 6]]\n",
        "      >>> copy_matrix([[1, 2], [3, 4], [5, 6], [7, 8]])\n",
        "      [[1, 2], [3, 4], [5, 6], [7, 8]]\n",
        "      >>> m = [[1, 0, 0], [0, 2, 0], [0, 0, 3]]\n",
        "      >>> copyofm = copy_matrix(m)\n",
        "      >>> copyofm\n",
        "      [[1, 0, 0], [0, 2, 0], [0, 0, 3]]\n",
        "      >>> for row_num, row in enumerate(copyofm):\n",
        "      ...     for col_num, col_val in enumerate(row):\n",
        "      ...         copyofm[row_num][col_num] = 42\n",
        "      ...\n",
        "      >>> copyofm\n",
        "      [[42, 42, 42], [42, 42, 42], [42, 42, 42]]\n",
        "      >>> m\n",
        "      [[1, 0, 0], [0, 2, 0], [0, 0, 3]]\n",
        "    \"\"\"\n",
        "    pass\n",
        "\n",
        "    return np.array(matrik)\n",
        "#didnt get the point\n",
        "matrik=[[1, 2], [3, 4]]\n",
        "copyofm = copy_matrix(matrik)\n",
        "copyofm"
      ],
      "execution_count": 66,
      "outputs": [
        {
          "output_type": "execute_result",
          "data": {
            "text/plain": [
              "array([[1, 2],\n",
              "       [3, 4]])"
            ]
          },
          "metadata": {
            "tags": []
          },
          "execution_count": 66
        }
      ]
    },
    {
      "cell_type": "code",
      "metadata": {
        "ExecuteTime": {
          "end_time": "2021-06-07T12:55:28.752996Z",
          "start_time": "2021-06-07T12:55:28.749066Z"
        },
        "id": "oCmy-t7HeRUf",
        "colab": {
          "base_uri": "https://localhost:8080/"
        },
        "outputId": "a2df52e0-9c85-4940-8373-d2da290250ea"
      },
      "source": [
        "def add_row(matrix,r):\n",
        "  m = np.matrix(matrix)\n",
        "  m = np.vstack([m, r])\n",
        "  return m\n",
        "\"\"\"\n",
        "      >>> m = [[0, 0], [0, 0]]\n",
        "      >>> add_row(m)\n",
        "      [[0, 0], [0, 0], [0, 0]]\n",
        "      >>> n = [[3, 2, 5], [1, 4, 7]]\n",
        "      >>> add_row(n)\n",
        "      [[3, 2, 5], [1, 4, 7], [0, 0, 0]]\n",
        "      >>> n\n",
        "      [[3, 2, 5], [1, 4, 7]]\n",
        "\"\"\"\n",
        "\n",
        "pass\n",
        "add_row([[1, 2], [3, 4]],([3,5],[3,4]))"
      ],
      "execution_count": 92,
      "outputs": [
        {
          "output_type": "execute_result",
          "data": {
            "text/plain": [
              "matrix([[1, 2],\n",
              "        [3, 4],\n",
              "        [3, 5],\n",
              "        [3, 4]])"
            ]
          },
          "metadata": {
            "tags": []
          },
          "execution_count": 92
        }
      ]
    },
    {
      "cell_type": "code",
      "metadata": {
        "ExecuteTime": {
          "end_time": "2021-06-07T12:55:31.190111Z",
          "start_time": "2021-06-07T12:55:31.186840Z"
        },
        "id": "mhWy3xyteRUf",
        "colab": {
          "base_uri": "https://localhost:8080/"
        },
        "outputId": "797c1e98-b690-4986-9548-10ad6267a1ba"
      },
      "source": [
        "def add_column(matrix,r):\n",
        "  m = np.matrix(matrix)\n",
        "  m = np.column_stack([m,r])\n",
        "  return m\n",
        "\"\"\"\n",
        "      >>> m = [[0, 0], [0, 0]]\n",
        "      >>> add_column(m)\n",
        "      [[0, 0, 0], [0, 0, 0]]\n",
        "      >>> n = [[3, 2], [5, 1], [4, 7]]\n",
        "      >>> add_column(n)\n",
        "      [[3, 2, 0], [5, 1, 0], [4, 7, 0]]\n",
        "      >>> n\n",
        "      [[3, 2], [5, 1], [4, 7]]\n",
        "\"\"\"\n",
        "pass\n",
        "\n",
        "add_column([[1, 2], [3, 4]],([3,5],[3,4]))"
      ],
      "execution_count": 97,
      "outputs": [
        {
          "output_type": "execute_result",
          "data": {
            "text/plain": [
              "matrix([[1, 2, 3, 5],\n",
              "        [3, 4, 3, 4]])"
            ]
          },
          "metadata": {
            "tags": []
          },
          "execution_count": 97
        }
      ]
    },
    {
      "cell_type": "markdown",
      "metadata": {
        "id": "WNa77SgReRUg"
      },
      "source": [
        "Write a function add_matrices(m1, m2) that adds m1 and m2 and returns a new matrix containing their sum. You can assume that m1 and m2 are the same size. You add two matrices by adding their corresponding values."
      ]
    },
    {
      "cell_type": "code",
      "metadata": {
        "ExecuteTime": {
          "end_time": "2021-06-07T12:55:42.884497Z",
          "start_time": "2021-06-07T12:55:42.864759Z"
        },
        "id": "vcskgiQkeRUg",
        "colab": {
          "base_uri": "https://localhost:8080/"
        },
        "outputId": "dccf8aeb-5313-4150-ed83-d74061052787"
      },
      "source": [
        "def add_matrices(m1, m2):\n",
        "\n",
        "  m1 = np.array(m1)\n",
        "  m2 = np.array(m2)\n",
        "  return m1+m2\n",
        "\"\"\"\n",
        "      >>> a = [[1, 2], [3, 4]]\n",
        "      >>> b = [[2, 2], [2, 2]]\n",
        "      >>> add_matrices(a, b)\n",
        "      [[3, 4], [5, 6]]\n",
        "      >>> c = [[8, 2], [3, 4], [5, 7]]\n",
        "      >>> d = [[3, 2], [9, 2], [10, 12]]\n",
        "      >>> add_matrices(c, d)\n",
        "      [[11, 4], [12, 6], [15, 19]]\n",
        "      >>> c\n",
        "      [[8, 2], [3, 4], [5, 7]]\n",
        "      >>> d\n",
        "      [[3, 2], [9, 2], [10, 12]]\n",
        "\"\"\"\n",
        "pass\n",
        "add_matrices([2,3],[3,4])"
      ],
      "execution_count": 76,
      "outputs": [
        {
          "output_type": "execute_result",
          "data": {
            "text/plain": [
              "array([5, 7])"
            ]
          },
          "metadata": {
            "tags": []
          },
          "execution_count": 76
        }
      ]
    },
    {
      "cell_type": "markdown",
      "metadata": {
        "id": "0B3_dUYfeRUh"
      },
      "source": [
        "Write a function scalar_mult(s, m) that multiplies a matrix, m, by a scalar, s."
      ]
    },
    {
      "cell_type": "code",
      "metadata": {
        "ExecuteTime": {
          "end_time": "2021-06-07T12:55:47.182931Z",
          "start_time": "2021-06-07T12:55:47.178180Z"
        },
        "id": "1I4WKtFDeRUh",
        "colab": {
          "base_uri": "https://localhost:8080/"
        },
        "outputId": "c6fb1598-3541-401f-a6e7-e24e3eb2a01a"
      },
      "source": [
        "def scalar_mult(s, m):\n",
        "  m  =np.matrix(m)\n",
        "  s = int(s)\n",
        "  return s*m\n",
        "\"\"\"\n",
        "      >>> a = [[1, 2], [3, 4]]\n",
        "      >>> scalar_mult(3, a)\n",
        "      [[3, 6], [9, 12]]\n",
        "      >>> b = [[3, 5, 7], [1, 1, 1], [0, 2, 0], [2, 2, 3]]\n",
        "      >>> scalar_mult(10, b)\n",
        "      [[30, 50, 70], [10, 10, 10], [0, 20, 0], [20, 20, 30]]\n",
        "      >>> b\n",
        "      [[3, 5, 7], [1, 1, 1], [0, 2, 0], [2, 2, 3]]\n",
        "\"\"\"\n",
        "pass\n",
        "scalar_mult(3,[[2,3],[3,4]])"
      ],
      "execution_count": 127,
      "outputs": [
        {
          "output_type": "execute_result",
          "data": {
            "text/plain": [
              "matrix([[ 6,  9],\n",
              "        [ 9, 12]])"
            ]
          },
          "metadata": {
            "tags": []
          },
          "execution_count": 127
        }
      ]
    },
    {
      "cell_type": "markdown",
      "metadata": {
        "id": "sx3azELLeRUi"
      },
      "source": [
        "Write functions row_times_column and matrix_mult:"
      ]
    },
    {
      "cell_type": "code",
      "metadata": {
        "ExecuteTime": {
          "end_time": "2021-06-07T12:55:52.098971Z",
          "start_time": "2021-06-07T12:55:52.095060Z"
        },
        "id": "6yuckxOIeRUi"
      },
      "source": [
        "def row_times_column(m1, row, m2, column):\n",
        "    \"\"\"\n",
        "      >>> row_times_column([[1, 2], [3, 4]], 0, [[5, 6], [7, 8]], 0)\n",
        "      19\n",
        "      >>> row_times_column([[1, 2], [3, 4]], 0, [[5, 6], [7, 8]], 1)\n",
        "      22\n",
        "      >>> row_times_column([[1, 2], [3, 4]], 1, [[5, 6], [7, 8]], 0)\n",
        "      43\n",
        "      >>> row_times_column([[1, 2], [3, 4]], 1, [[5, 6], [7, 8]], 1)\n",
        "      50\n",
        "    \"\"\"\n",
        "    pass"
      ],
      "execution_count": null,
      "outputs": []
    },
    {
      "cell_type": "code",
      "metadata": {
        "ExecuteTime": {
          "end_time": "2021-06-07T12:56:10.904256Z",
          "start_time": "2021-06-07T12:56:10.900955Z"
        },
        "id": "K8jMbqWpeRUj",
        "colab": {
          "base_uri": "https://localhost:8080/"
        },
        "outputId": "f498c1e2-42a2-4bb5-dcd5-5c4df8e4d97d"
      },
      "source": [
        "def matrix_mult(m1, m2):\n",
        "  m1=np.array(m1)\n",
        "  m2=np.array(m2)\n",
        "  return np.matmul(m1,m2)\n",
        "\"\"\"\n",
        "      >>> matrix_mult([[1, 2], [3,  4]], [[5, 6], [7, 8]])\n",
        "      [[19, 22], [43, 50]]\n",
        "      >>> matrix_mult([[1, 2, 3], [4,  5, 6]], [[7, 8], [9, 1], [2, 3]])\n",
        "      [[31, 19], [85, 55]]\n",
        "      >>> matrix_mult([[7, 8], [9, 1], [2, 3]], [[1, 2, 3], [4, 5, 6]])\n",
        "      [[39, 54, 69], [13, 23, 33], [14, 19, 24]]\n",
        "\"\"\"\n",
        "pass\n",
        "m1 = [3,4]\n",
        "m2 = [3,6]\n",
        "matrix_mult(m1,m2)"
      ],
      "execution_count": 123,
      "outputs": [
        {
          "output_type": "execute_result",
          "data": {
            "text/plain": [
              "33"
            ]
          },
          "metadata": {
            "tags": []
          },
          "execution_count": 123
        }
      ]
    },
    {
      "cell_type": "markdown",
      "metadata": {
        "id": "L8uvegBjeRUk"
      },
      "source": [
        "Write a function transpose that takes a matrix as an argument and returns is transpose:"
      ]
    },
    {
      "cell_type": "code",
      "metadata": {
        "ExecuteTime": {
          "end_time": "2021-06-07T12:56:20.280054Z",
          "start_time": "2021-06-07T12:56:20.276651Z"
        },
        "id": "KUBVvtjAeRUk",
        "colab": {
          "base_uri": "https://localhost:8080/"
        },
        "outputId": "f3048981-d8d4-4b92-b5d7-42a51b616816"
      },
      "source": [
        "def transpose(m):\n",
        "\n",
        "  return np.transpose(m)  \n",
        "\"\"\"\n",
        "     >>> m = [[3, 4, 6]]\n",
        "     >>> transpose(m)\n",
        "     [[3], [4], [6]]\n",
        "     >>> m\n",
        "     [3, 4, 6]\n",
        "     >>> m = [[3, 4, 6], [1, 5, 9]]\n",
        "     >>> transpose(m)\n",
        "     [[3, 1], [4, 5], [6, 9]]\n",
        "\"\"\"\n",
        "pass\n",
        "m = [[4,5],[6,7]]\n",
        "transpose(m)"
      ],
      "execution_count": 121,
      "outputs": [
        {
          "output_type": "execute_result",
          "data": {
            "text/plain": [
              "array([[4, 6],\n",
              "       [5, 7]])"
            ]
          },
          "metadata": {
            "tags": []
          },
          "execution_count": 121
        }
      ]
    },
    {
      "cell_type": "code",
      "metadata": {
        "id": "f_XBcXz4Blvb"
      },
      "source": [
        ""
      ],
      "execution_count": null,
      "outputs": []
    }
  ]
}