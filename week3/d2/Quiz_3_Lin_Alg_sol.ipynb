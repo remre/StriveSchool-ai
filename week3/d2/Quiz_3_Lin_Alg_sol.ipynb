{
  "nbformat": 4,
  "nbformat_minor": 0,
  "metadata": {
    "kernelspec": {
      "display_name": "Python 3",
      "language": "python",
      "name": "python3"
    },
    "language_info": {
      "codemirror_mode": {
        "name": "ipython",
        "version": 3
      },
      "file_extension": ".py",
      "mimetype": "text/x-python",
      "name": "python",
      "nbconvert_exporter": "python",
      "pygments_lexer": "ipython3",
      "version": "3.9.1"
    },
    "varInspector": {
      "cols": {
        "lenName": 16,
        "lenType": 16,
        "lenVar": 40
      },
      "kernels_config": {
        "python": {
          "delete_cmd_postfix": "",
          "delete_cmd_prefix": "del ",
          "library": "var_list.py",
          "varRefreshCmd": "print(var_dic_list())"
        },
        "r": {
          "delete_cmd_postfix": ") ",
          "delete_cmd_prefix": "rm(",
          "library": "var_list.r",
          "varRefreshCmd": "cat(var_dic_list()) "
        }
      },
      "types_to_exclude": [
        "module",
        "function",
        "builtin_function_or_method",
        "instance",
        "_Feature"
      ],
      "window_display": false
    },
    "colab": {
      "name": "Quiz_3_Lin_Alg.ipynb",
      "provenance": []
    }
  },
  "cells": [
    {
      "cell_type": "markdown",
      "metadata": {
        "id": "17LsctH8MwG5"
      },
      "source": [
        "## Linear Algebra Quiz #3\n",
        "\n",
        "![title](https://github.com/Strive-School/ai_jun21/blob/main/M2-Maths%20and%20Stats/D2/img/3_0.jpeg?raw=1)\n",
        "\n",
        "We strongly suggest working with numpy :)"
      ]
    },
    {
      "cell_type": "code",
      "metadata": {
        "id": "EQshTRvkMwG9"
      },
      "source": [
        "#Do your imports here\n",
        "import numpy as np"
      ],
      "execution_count": 2,
      "outputs": []
    },
    {
      "cell_type": "markdown",
      "metadata": {
        "id": "7SEux6z_MwG-"
      },
      "source": [
        "![title](https://github.com/Strive-School/ai_jun21/blob/main/M2-Maths%20and%20Stats/D2/img/3_2.png?raw=1)\n",
        "![title](https://github.com/Strive-School/ai_jun21/blob/main/M2-Maths%20and%20Stats/D2/img/3_3.png?raw=1)\n",
        "Create a program that can output\n",
        "\n",
        "- What is the value of element c23​ of Matrix C where C=A x B ?\n",
        "- What is the value of element c23​ of Matrix C where C=B x A ?"
      ]
    },
    {
      "cell_type": "code",
      "metadata": {
        "id": "hQnnIy2eMwHA",
        "outputId": "b95bc6e7-4eb1-4958-b98c-d62f4a664877",
        "colab": {
          "base_uri": "https://localhost:8080/"
        }
      },
      "source": [
        "# okay numpy is great but... how would you inverse a matrix by hand?\n",
        "A=np.array([[3,1,2], [-5,4,1], [0,3,-8]])\n",
        "B=np.array([[0,5,-1],[3,2,-1],[10,0.5,4]])\n",
        "#A = np.array([0.6,-15, 2, 5, 98])\n",
        "#B = np.array([[2,2, -4],[9, -14, 0],[13, -0.5, 44],[1, 9, 4],[0, 0, 5]])\n",
        "C = np.matmul(A,B)\n",
        "print(C[1][2])\n",
        "C = np.matmul(B,A)\n",
        "print(C[1][2])\n",
        "def inverse_matrix(A):\n",
        "  \n",
        "  return \"\"\n",
        "\n"
      ],
      "execution_count": 24,
      "outputs": [
        {
          "output_type": "stream",
          "text": [
            "5.0\n",
            "16.0\n"
          ],
          "name": "stdout"
        }
      ]
    },
    {
      "cell_type": "code",
      "metadata": {
        "id": "DLbAW80DTvw7"
      },
      "source": [
        "def remove_line(index,arr):\n",
        "    yy=[]\n",
        "    for i in range(len(arr)):\n",
        "        hh=[]\n",
        "        for j in range(len(arr)):\n",
        "            if(i==index[0] or j==index[1]):\n",
        "                pass\n",
        "            else:\n",
        "                hh.append(arr[i][j])\n",
        "        if(hh!=[]):\n",
        "            yy.append(hh)\n",
        "    # yy.remove([])\n",
        "    return yy\n",
        " \n",
        " \n",
        "dd=[[0,4,3,5],[2,3,2,6],[3,4,5,7],[3,4,5,7]]\n",
        " \n",
        "for i in range(len(dd)):\n",
        "    for j in range(len(dd)):\n",
        "        tm_list=remove_line(tuple([i,j]),dd)\n",
        "print((i,j),tm_list)"
      ],
      "execution_count": null,
      "outputs": []
    },
    {
      "cell_type": "markdown",
      "metadata": {
        "id": "4HzbtsdWMwHA"
      },
      "source": [
        "![title](https://github.com/Strive-School/ai_jun21/blob/main/M2-Maths%20and%20Stats/D2/img/3_1.png?raw=1)\n",
        "Create a program that can output\n",
        "\n",
        "- What is the value of the ijth element if i = 2 and j=3?\n",
        "- What is the value of the ijth element if i = 3 and j=1?"
      ]
    },
    {
      "cell_type": "code",
      "metadata": {
        "id": "ZVd46uQrMwHB",
        "outputId": "8c304579-cc77-4402-c001-229d79acced5",
        "colab": {
          "base_uri": "https://localhost:8080/"
        }
      },
      "source": [
        "# Just answer using code --> easy stuff!\n",
        "A = np.array([[3, 0.6, 4, -3],[-1.3,4,0,8.6],[7,0,-8,0.006]])\n",
        "B = np.array([[3, -5.76, 45, 0],[2, -2, 1.3 , 9],[-9, 0,0,0]])\n",
        "C = np.array([[0,1009, -66.7849, 90],[0,5,4,-0.07],[-7.7,0,0,0]])\n",
        "D = A + B - C\n",
        "print(D[1][2])\n",
        "print(D[2][0])\n",
        "# Harder\n",
        "# Can you build a matrix solver that can do output the result given n matrices and a sequence of operations such as [add subtract multiply transpose?]\n",
        "#Some ideas on valid operations: Multiplication Addition Subtraction Inverstion Transposed. "
      ],
      "execution_count": 3,
      "outputs": [
        {
          "output_type": "stream",
          "text": [
            "-2.7\n",
            "5.7\n"
          ],
          "name": "stdout"
        }
      ]
    },
    {
      "cell_type": "markdown",
      "metadata": {
        "id": "fZlrDE5FMwHC"
      },
      "source": [
        "![title](https://github.com/Strive-School/ai_jun21/blob/main/M2-Maths%20and%20Stats/D2/img/3_3.png?raw=1)\n",
        "Create a program that can output\n",
        "- How many rows will C have?\n",
        "- How many columns will C have?\n",
        "- What will be the value of c13​?"
      ]
    },
    {
      "cell_type": "code",
      "metadata": {
        "id": "EONdkI8oMwHD",
        "outputId": "3bc32558-caa3-4680-b64d-3a2282afeaa0",
        "colab": {
          "base_uri": "https://localhost:8080/"
        }
      },
      "source": [
        "A = np.array([0.6,-15,2,5,98])\n",
        "B = np.array([[2,2,-4],[9,-14,0],[13,-0.5,44],[1,9,4],[0,0,5]])\n",
        "C=np.dot(A.T,B)\n",
        "print(C.shape)\n",
        "print(C[2])"
      ],
      "execution_count": 27,
      "outputs": [
        {
          "output_type": "stream",
          "text": [
            "(3,)\n",
            "595.6\n"
          ],
          "name": "stdout"
        }
      ]
    },
    {
      "cell_type": "code",
      "metadata": {
        "id": "kBkPTDQTVdYE"
      },
      "source": [
        ""
      ],
      "execution_count": null,
      "outputs": []
    }
  ]
}