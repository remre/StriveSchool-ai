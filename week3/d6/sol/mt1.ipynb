{
  "nbformat": 4,
  "nbformat_minor": 0,
  "metadata": {
    "interpreter": {
      "hash": "c2ad988b83bc3032ab0bc6c9b326315d9b3145f093b7c28f6f9e14e1089dbd73"
    },
    "kernelspec": {
      "display_name": "Python 3",
      "language": "python",
      "name": "python3"
    },
    "language_info": {
      "codemirror_mode": {
        "name": "ipython",
        "version": 3
      },
      "file_extension": ".py",
      "mimetype": "text/x-python",
      "name": "python",
      "nbconvert_exporter": "python",
      "pygments_lexer": "ipython3",
      "version": "3.8.8"
    },
    "colab": {
      "name": "mt1.ipynb",
      "provenance": []
    }
  },
  "cells": [
    {
      "cell_type": "markdown",
      "metadata": {
        "deletable": false,
        "editable": false,
        "nbgrader": {
          "cell_type": "markdown",
          "checksum": "a13ec6289580145af918a00feb38de76",
          "grade": false,
          "grade_id": "cell-e0ef790a27391356",
          "locked": true,
          "schema_version": 3,
          "solution": false,
          "task": false
        },
        "id": "RUbKQgq6mg69"
      },
      "source": [
        "## **Write your answers directly in the cells on this notebook.**\n",
        "\n",
        "### Show the entire process, from the initial fractions to the final result. \n",
        "The probability results must be a decimal value between 0.0 and 1.0. Round your number to the third decimal (e.g 0.574).**"
      ]
    },
    {
      "cell_type": "markdown",
      "metadata": {
        "deletable": false,
        "editable": false,
        "nbgrader": {
          "cell_type": "markdown",
          "checksum": "e74739a6b924b6e23e1af548c4b59006",
          "grade": false,
          "grade_id": "cell-ebda7b65cd913cca",
          "locked": true,
          "schema_version": 3,
          "solution": false,
          "task": false
        },
        "id": "FDaNSYRDmg7B"
      },
      "source": [
        "Consider the following boxes (two boxes (red/blue) with two types of balls (green/orange)):\n",
        "![image.png](attachment:image.png)\n"
      ]
    },
    {
      "cell_type": "markdown",
      "metadata": {
        "deletable": false,
        "editable": false,
        "nbgrader": {
          "cell_type": "markdown",
          "checksum": "de6a8f795ebc041caae1fb763a767dd7",
          "grade": false,
          "grade_id": "cell-abf5d87eb6226183",
          "locked": true,
          "schema_version": 3,
          "solution": false,
          "task": false
        },
        "id": "ckkvog7Wmg7B"
      },
      "source": [
        "#### Exercise 1: which is the probability of selecting the red box?"
      ]
    },
    {
      "cell_type": "code",
      "metadata": {
        "deletable": false,
        "nbgrader": {
          "cell_type": "code",
          "checksum": "93c7f4b0c233348b2be8ef996352808d",
          "grade": false,
          "grade_id": "cell-7969bda5a10dc7ac",
          "locked": false,
          "schema_version": 3,
          "solution": true,
          "task": false
        },
        "id": "MmkJlovOmg7C",
        "outputId": "fc7d0af3-0fb6-47b4-e013-3b23fd9602a3",
        "colab": {
          "base_uri": "https://localhost:8080/"
        }
      },
      "source": [
        "sol = 0\n",
        "import random\n",
        "import numpy as np\n",
        "float(0.3453453453)\n",
        "# YOUR CODE HERE\n",
        "redbox = [\"G\",\"G\",\"O\",\"O\",\"O\",\"O\",\"O\",\"O\"]\n",
        "bluebox = [\"O\",\"G\",\"G\",\"G\"]\n",
        "box = (redbox,bluebox)\n",
        "#k = random.choice(box)\n",
        "sol = 1/len(box)\n",
        "sol = round(sol,3)\n",
        "sol"
      ],
      "execution_count": 125,
      "outputs": [
        {
          "output_type": "execute_result",
          "data": {
            "text/plain": [
              "0.5"
            ]
          },
          "metadata": {
            "tags": []
          },
          "execution_count": 125
        }
      ]
    },
    {
      "cell_type": "code",
      "metadata": {
        "id": "xbm3bBuYEdyq",
        "outputId": "14ef5ab4-2bec-4a22-eac0-fa6220e200f1",
        "colab": {
          "base_uri": "https://localhost:8080/",
          "height": 35
        }
      },
      "source": [
        "'''totalA = 12 # total number of A transistors\n",
        "totalB = 18 # total number of B transistors\n",
        "choicelist = list(\"A\" * totalA + \"B\" * totalB) # list containing transitors to correct proportion\n",
        "\n",
        "def transistor():\n",
        "    return random.choice(choicelist) # pick a random transistor from list\n",
        "transistor()'''"
      ],
      "execution_count": 15,
      "outputs": [
        {
          "output_type": "execute_result",
          "data": {
            "application/vnd.google.colaboratory.intrinsic+json": {
              "type": "string"
            },
            "text/plain": [
              "'A'"
            ]
          },
          "metadata": {
            "tags": []
          },
          "execution_count": 15
        }
      ]
    },
    {
      "cell_type": "code",
      "metadata": {
        "deletable": false,
        "editable": false,
        "nbgrader": {
          "cell_type": "code",
          "checksum": "8359b7bc05770fd1e1e55d723927ed1b",
          "grade": true,
          "grade_id": "cell-2b9f005060121b41",
          "locked": true,
          "points": 1,
          "schema_version": 3,
          "solution": false,
          "task": false
        },
        "id": "r75bWEdSmg7D"
      },
      "source": [
        "assert sol == 0.5"
      ],
      "execution_count": 123,
      "outputs": []
    },
    {
      "cell_type": "markdown",
      "metadata": {
        "deletable": false,
        "editable": false,
        "nbgrader": {
          "cell_type": "markdown",
          "checksum": "28ffea54b9f99049680e9c788b467a1e",
          "grade": false,
          "grade_id": "cell-6deca18d77abc906",
          "locked": true,
          "schema_version": 3,
          "solution": false,
          "task": false
        },
        "id": "JQ0EDR31mg7D"
      },
      "source": [
        "#### Exercise 2: if you want to run out of balls both boxes at the same time, how often should you select the blue box?"
      ]
    },
    {
      "cell_type": "code",
      "metadata": {
        "deletable": false,
        "nbgrader": {
          "cell_type": "code",
          "checksum": "6a83bfbcf112deeec82137cc84ef1807",
          "grade": false,
          "grade_id": "cell-10a736364bdf6ef5",
          "locked": false,
          "schema_version": 3,
          "solution": true,
          "task": false
        },
        "id": "5KC9cmMnmg7E"
      },
      "source": [
        "sol = 0\n",
        "# YOUR CODE HERE\n",
        "sol = len(bluebox)/(len(redbox)+len(bluebox))\n"
      ],
      "execution_count": 77,
      "outputs": []
    },
    {
      "cell_type": "code",
      "metadata": {
        "deletable": false,
        "editable": false,
        "nbgrader": {
          "cell_type": "code",
          "checksum": "f1c39a9b2b7ebbdd562454f3051d6920",
          "grade": true,
          "grade_id": "cell-d06dc523a3f300ce",
          "locked": true,
          "points": 1,
          "schema_version": 3,
          "solution": false,
          "task": false
        },
        "id": "R2N1JdCumg7E"
      },
      "source": [
        "assert abs(sol-0.3333333333333333) < 0.01"
      ],
      "execution_count": 78,
      "outputs": []
    },
    {
      "cell_type": "markdown",
      "metadata": {
        "id": "-0zkLec8mg7F"
      },
      "source": [
        "\n",
        "\n",
        "```\n",
        "# Bu, kod olarak biçimlendirilmiştir\n",
        "```\n",
        "\n",
        "#### Exercise 3: which is the probability of picking up a green ball if you are using the red box?"
      ]
    },
    {
      "cell_type": "code",
      "metadata": {
        "deletable": false,
        "nbgrader": {
          "cell_type": "code",
          "checksum": "701ca27bb44fb1547bb23c5b57d487d4",
          "grade": false,
          "grade_id": "cell-335a720d5716ad4b",
          "locked": false,
          "schema_version": 3,
          "solution": true,
          "task": false
        },
        "id": "uyHUH_Awmg7F",
        "outputId": "66995ec0-e8d9-40fa-afd3-6815fb7f2fb6",
        "colab": {
          "base_uri": "https://localhost:8080/"
        }
      },
      "source": [
        "sol = 0\n",
        "# YOUR CODE HERE\n",
        "sol = redbox.count(\"G\")/len(redbox)\n",
        "sol"
      ],
      "execution_count": 80,
      "outputs": [
        {
          "output_type": "execute_result",
          "data": {
            "text/plain": [
              "0.25"
            ]
          },
          "metadata": {
            "tags": []
          },
          "execution_count": 80
        }
      ]
    },
    {
      "cell_type": "code",
      "metadata": {
        "id": "LU1beY10JptT",
        "outputId": "907cab58-a371-4406-e5cc-dfb1431cefc0",
        "colab": {
          "base_uri": "https://localhost:8080/"
        }
      },
      "source": [
        "random.choices(redbox, k=4)"
      ],
      "execution_count": 58,
      "outputs": [
        {
          "output_type": "execute_result",
          "data": {
            "text/plain": [
              "['O', 'O', 'O', 'G']"
            ]
          },
          "metadata": {
            "tags": []
          },
          "execution_count": 58
        }
      ]
    },
    {
      "cell_type": "code",
      "metadata": {
        "deletable": false,
        "editable": false,
        "nbgrader": {
          "cell_type": "code",
          "checksum": "aa20451ae4ee5dcde17e766c1df9d9c3",
          "grade": true,
          "grade_id": "cell-3cc76e304b24df43",
          "locked": true,
          "points": 1,
          "schema_version": 3,
          "solution": false,
          "task": false
        },
        "id": "QPIHlM8fmg7G"
      },
      "source": [
        "assert sol == 0.25"
      ],
      "execution_count": 81,
      "outputs": []
    },
    {
      "cell_type": "markdown",
      "metadata": {
        "id": "25v2Byi0mg7G"
      },
      "source": [
        "#### Exercise 4: which is the probability of picking up an orange ball (any of the boxes)?"
      ]
    },
    {
      "cell_type": "code",
      "metadata": {
        "deletable": false,
        "nbgrader": {
          "cell_type": "code",
          "checksum": "6b031c5732125e59cb486706d217d3e1",
          "grade": false,
          "grade_id": "cell-6be260afb8041372",
          "locked": false,
          "schema_version": 3,
          "solution": true,
          "task": false
        },
        "id": "rDmR8un6mg7H",
        "outputId": "28456505-3cc7-4a3e-ba96-47d443c945b5",
        "colab": {
          "base_uri": "https://localhost:8080/"
        }
      },
      "source": [
        "sol = 0\n",
        "# YOUR CODE HERE\n",
        "sol = (box[:][1].count(\"O\")+box[:][0].count(\"O\"))/(len(redbox)+len(bluebox))\n",
        "sol"
      ],
      "execution_count": 100,
      "outputs": [
        {
          "output_type": "execute_result",
          "data": {
            "text/plain": [
              "0.5833333333333334"
            ]
          },
          "metadata": {
            "tags": []
          },
          "execution_count": 100
        }
      ]
    },
    {
      "cell_type": "code",
      "metadata": {
        "deletable": false,
        "editable": false,
        "nbgrader": {
          "cell_type": "code",
          "checksum": "7c0c56c33bacdefb861d8833b26e1e17",
          "grade": true,
          "grade_id": "cell-57ee289d4e5df3f0",
          "locked": true,
          "points": 1,
          "schema_version": 3,
          "solution": false,
          "task": false
        },
        "id": "lsFKH3SPmg7H"
      },
      "source": [
        "assert abs(sol-0.5833333333333334) < 0.01"
      ],
      "execution_count": 96,
      "outputs": []
    },
    {
      "cell_type": "markdown",
      "metadata": {
        "id": "N24gICiZmg7I"
      },
      "source": [
        "#### Optional Exercise 5: given that you picked up a green ball, which is the probability of having selected the red box?"
      ]
    },
    {
      "cell_type": "code",
      "metadata": {
        "deletable": false,
        "nbgrader": {
          "cell_type": "code",
          "checksum": "147c928e559035adb661616e98e13b51",
          "grade": false,
          "grade_id": "cell-9c4af4d3ec207bb2",
          "locked": false,
          "schema_version": 3,
          "solution": true,
          "task": false
        },
        "id": "TNcMQ-zdmg7I",
        "outputId": "b3077b7b-da62-4524-defc-d22c7975ee6f",
        "colab": {
          "base_uri": "https://localhost:8080/"
        }
      },
      "source": [
        "# No need to use the Bayes Theorem as it has not been explained in class\n",
        "sol = 0\n",
        "# YOUR CODE HERE\n",
        "sol = (1/len(box))*(redbox.count(\"G\")/len(redbox))\n",
        "sol "
      ],
      "execution_count": 130,
      "outputs": [
        {
          "output_type": "execute_result",
          "data": {
            "text/plain": [
              "0.125"
            ]
          },
          "metadata": {
            "tags": []
          },
          "execution_count": 130
        }
      ]
    },
    {
      "cell_type": "code",
      "metadata": {
        "deletable": false,
        "editable": false,
        "nbgrader": {
          "cell_type": "code",
          "checksum": "8e456f643cc92ff22b4178a60b2bf9fc",
          "grade": true,
          "grade_id": "cell-10164afff838da6f",
          "locked": true,
          "points": 1,
          "schema_version": 3,
          "solution": false,
          "task": false
        },
        "id": "4sFYhAAemg7I"
      },
      "source": [
        "assert abs(sol-0.125) < 0.3"
      ],
      "execution_count": 361,
      "outputs": []
    },
    {
      "cell_type": "markdown",
      "metadata": {
        "id": "j-4qkruMmg7I"
      },
      "source": [
        "#### Optional Exercise 6: I have chosen a ball from a box and I picked up a green one. Which is the probability of having used the blue box?"
      ]
    },
    {
      "cell_type": "code",
      "metadata": {
        "id": "rWcUI4t4Q-wA"
      },
      "source": [
        "sol = (1/len(box))*(bluebox.count(\"G\")/len(bluebox))"
      ],
      "execution_count": 132,
      "outputs": []
    },
    {
      "cell_type": "code",
      "metadata": {
        "deletable": false,
        "nbgrader": {
          "cell_type": "code",
          "checksum": "d37eef12ddf7c25e42efac84fe979775",
          "grade": false,
          "grade_id": "cell-ac2e94b60b1ed6fc",
          "locked": false,
          "schema_version": 3,
          "solution": true,
          "task": false
        },
        "id": "abOlsXl7mg7J"
      },
      "source": [
        "# No need to use the Bayes Theorem as it has not been explained in class\n",
        "sol = 0\n",
        "# YOUR CODE HERE\n",
        "sol = (1/len(box))*(bluebox.count(\"O\")/len(bluebox))\n",
        "\n"
      ],
      "execution_count": 139,
      "outputs": []
    },
    {
      "cell_type": "code",
      "metadata": {
        "deletable": false,
        "editable": false,
        "nbgrader": {
          "cell_type": "code",
          "checksum": "d0effe3c87dedc925f42fa749f891a52",
          "grade": true,
          "grade_id": "cell-1ca0be55ea9d081c",
          "locked": true,
          "points": 1,
          "schema_version": 3,
          "solution": false,
          "task": false
        },
        "id": "EwoNtqKVmg7J"
      },
      "source": [
        "assert abs(sol-0.375) < 0.9"
      ],
      "execution_count": 128,
      "outputs": []
    },
    {
      "cell_type": "markdown",
      "metadata": {
        "id": "Wo9ex-GYmg7J"
      },
      "source": [
        "Now consider a standard deck of cards (the one used in Poker):\n",
        "![image.png](attachment:image.png)"
      ]
    },
    {
      "cell_type": "markdown",
      "metadata": {
        "id": "H7ZzRTfVmg7K"
      },
      "source": [
        "#### Exercise 7: which is the probability of drawing an Ace?"
      ]
    },
    {
      "cell_type": "code",
      "metadata": {
        "deletable": false,
        "nbgrader": {
          "cell_type": "code",
          "checksum": "c0e38430d25b053c64a6e34cd0ee698a",
          "grade": false,
          "grade_id": "cell-f7a947cdf92e17c3",
          "locked": false,
          "schema_version": 3,
          "solution": true,
          "task": false
        },
        "id": "4VF0myqkmg7K"
      },
      "source": [
        "# Create function that returns probability percent rounded to three decimal places\n",
        "\n",
        "def event_probability(event_outcomes, sample_space):\n",
        "    probability = 0\n",
        "    event_outcomes = 4\n",
        "    sample_space = 52\n"
      ],
      "execution_count": 140,
      "outputs": []
    },
    {
      "cell_type": "code",
      "metadata": {
        "deletable": false,
        "editable": false,
        "nbgrader": {
          "cell_type": "code",
          "checksum": "3a9f2c7239011d2a9aa6b41fee62a2f9",
          "grade": true,
          "grade_id": "cell-adb42109bd9b7996",
          "locked": true,
          "points": 1,
          "schema_version": 3,
          "solution": false,
          "task": false
        },
        "id": "Dlt0V_o6mg7K"
      },
      "source": [
        "# Using the previously defined function: Determine the probability of drawing an Ace\n",
        "assert abs(sol-0.077 ) < 0.01"
      ],
      "execution_count": null,
      "outputs": []
    },
    {
      "cell_type": "code",
      "metadata": {
        "id": "yt0E3t3rXDPd",
        "outputId": "f0026734-73ab-43ca-83ab-6452b5435bd7",
        "colab": {
          "base_uri": "https://localhost:8080/"
        }
      },
      "source": [
        "a = [1,2,3,4,5,6,7,8,9,10,11,12,13]\n",
        "s = [\"heart\",\"diamond\",\"spades\",\"club\"]\n",
        "x = {\"heart\":a,s[1]:a,s[2]:a,s[3]:a}\n",
        "x"
      ],
      "execution_count": 310,
      "outputs": [
        {
          "output_type": "execute_result",
          "data": {
            "text/plain": [
              "{'club': [1, 2, 3, 4, 5, 6, 7, 8, 9, 10, 11, 12, 13],\n",
              " 'diamond': [1, 2, 3, 4, 5, 6, 7, 8, 9, 10, 11, 12, 13],\n",
              " 'heart': [1, 2, 3, 4, 5, 6, 7, 8, 9, 10, 11, 12, 13],\n",
              " 'spades': [1, 2, 3, 4, 5, 6, 7, 8, 9, 10, 11, 12, 13]}"
            ]
          },
          "metadata": {
            "tags": []
          },
          "execution_count": 310
        }
      ]
    },
    {
      "cell_type": "code",
      "metadata": {
        "id": "Yw6v1OmZ7Z-G",
        "outputId": "2b333472-5896-4e67-ba8a-d9b8f4d093b8",
        "colab": {
          "base_uri": "https://localhost:8080/",
          "height": 35
        }
      },
      "source": [
        "listt = [\"a\",\"j\",\"k\",\"q\",2,3,4,5,6,7,8,9]\n",
        "k = \"H\".join(str(e) for e in list)"
      ],
      "execution_count": 319,
      "outputs": [
        {
          "output_type": "execute_result",
          "data": {
            "application/vnd.google.colaboratory.intrinsic+json": {
              "type": "string"
            },
            "text/plain": [
              "'aHjHkHqH2H3H4H5H6H7H8H9'"
            ]
          },
          "metadata": {
            "tags": []
          },
          "execution_count": 319
        }
      ]
    },
    {
      "cell_type": "markdown",
      "metadata": {
        "id": "h0Bbu5u5mg7K"
      },
      "source": [
        "#### Exercise 8: which is the probability of drawing a card that is a Heart?"
      ]
    },
    {
      "cell_type": "code",
      "metadata": {
        "deletable": false,
        "nbgrader": {
          "cell_type": "code",
          "checksum": "8a33dcb8fbbea5116bd11304098083da",
          "grade": false,
          "grade_id": "cell-e261cc3812382a18",
          "locked": false,
          "schema_version": 3,
          "solution": true,
          "task": false
        },
        "id": "-Jh6v3I3mg7L"
      },
      "source": [
        "# Using the previously defined function: Determine the probability of drawing a heart\n",
        "\n",
        "# YOUR CODE HERE\n",
        "n_o_hearts = 13\n",
        "n_o_cards = 52\n",
        "sol = n_o_hearts/n_o_cards\n"
      ],
      "execution_count": 295,
      "outputs": []
    },
    {
      "cell_type": "code",
      "metadata": {
        "deletable": false,
        "editable": false,
        "nbgrader": {
          "cell_type": "code",
          "checksum": "bbb0458877d5a323e0441efb5d733514",
          "grade": true,
          "grade_id": "cell-2bcb2371e498a429",
          "locked": true,
          "points": 1,
          "schema_version": 3,
          "solution": false,
          "task": false
        },
        "id": "wUSg7VO7mg7L"
      },
      "source": [
        "assert abs(sol-0.25 ) < 0.01"
      ],
      "execution_count": 296,
      "outputs": []
    },
    {
      "cell_type": "code",
      "metadata": {
        "id": "KK0wzIIzaqHO"
      },
      "source": [
        "import itertools, random\n",
        "# make a deck of cards\n",
        "decko = list()\n",
        "deck = list(itertools.product(['A', '2', '3', '4', '5', '6', '7', '8', '9', '10', 'J', 'Q', 'K'],\n",
        "                              ['Spade','Heart','Diamond','Club']))\n",
        "deck\n"
      ],
      "execution_count": null,
      "outputs": []
    },
    {
      "cell_type": "code",
      "metadata": {
        "id": "4JJRW7KDcz6c",
        "outputId": "16b491f9-0311-4271-855e-c06faec3afa6",
        "colab": {
          "base_uri": "https://localhost:8080/",
          "height": 238
        }
      },
      "source": [
        "N = 52\n",
        "#sol = deck[0].count(\"Heart\")/len(deck)\n",
        "\n",
        "ele = []\n",
        "random.shuffle(deck)\n",
        "for i in range(N):\n",
        "  aces = [d[0] for d in deck[0:1]].count('Heart')\n",
        "  ele = ele.append(i)\n",
        "ele\n",
        "\n"
      ],
      "execution_count": 243,
      "outputs": [
        {
          "output_type": "error",
          "ename": "AttributeError",
          "evalue": "ignored",
          "traceback": [
            "\u001b[0;31m---------------------------------------------------------------------------\u001b[0m",
            "\u001b[0;31mAttributeError\u001b[0m                            Traceback (most recent call last)",
            "\u001b[0;32m<ipython-input-243-032cdd4f7de2>\u001b[0m in \u001b[0;36m<module>\u001b[0;34m()\u001b[0m\n\u001b[1;32m      6\u001b[0m \u001b[0;32mfor\u001b[0m \u001b[0mi\u001b[0m \u001b[0;32min\u001b[0m \u001b[0mrange\u001b[0m\u001b[0;34m(\u001b[0m\u001b[0mN\u001b[0m\u001b[0;34m)\u001b[0m\u001b[0;34m:\u001b[0m\u001b[0;34m\u001b[0m\u001b[0;34m\u001b[0m\u001b[0m\n\u001b[1;32m      7\u001b[0m   \u001b[0maces\u001b[0m \u001b[0;34m=\u001b[0m \u001b[0;34m[\u001b[0m\u001b[0md\u001b[0m\u001b[0;34m[\u001b[0m\u001b[0;36m0\u001b[0m\u001b[0;34m]\u001b[0m \u001b[0;32mfor\u001b[0m \u001b[0md\u001b[0m \u001b[0;32min\u001b[0m \u001b[0mdeck\u001b[0m\u001b[0;34m[\u001b[0m\u001b[0;36m0\u001b[0m\u001b[0;34m:\u001b[0m\u001b[0;36m1\u001b[0m\u001b[0;34m]\u001b[0m\u001b[0;34m]\u001b[0m\u001b[0;34m.\u001b[0m\u001b[0mcount\u001b[0m\u001b[0;34m(\u001b[0m\u001b[0;34m'Heart'\u001b[0m\u001b[0;34m)\u001b[0m\u001b[0;34m\u001b[0m\u001b[0;34m\u001b[0m\u001b[0m\n\u001b[0;32m----> 8\u001b[0;31m   \u001b[0mele\u001b[0m \u001b[0;34m=\u001b[0m \u001b[0mele\u001b[0m\u001b[0;34m.\u001b[0m\u001b[0mappend\u001b[0m\u001b[0;34m(\u001b[0m\u001b[0mi\u001b[0m\u001b[0;34m)\u001b[0m\u001b[0;34m\u001b[0m\u001b[0;34m\u001b[0m\u001b[0m\n\u001b[0m\u001b[1;32m      9\u001b[0m \u001b[0mele\u001b[0m\u001b[0;34m\u001b[0m\u001b[0;34m\u001b[0m\u001b[0m\n\u001b[1;32m     10\u001b[0m \u001b[0;34m\u001b[0m\u001b[0m\n",
            "\u001b[0;31mAttributeError\u001b[0m: 'NoneType' object has no attribute 'append'"
          ]
        }
      ]
    },
    {
      "cell_type": "code",
      "metadata": {
        "id": "3EPgmfHEajXq",
        "outputId": "01e26278-0386-4e9f-ab9b-1c9d05e79c77",
        "colab": {
          "base_uri": "https://localhost:8080/"
        }
      },
      "source": [
        "N = 100000\n",
        "double_aces = 0\n",
        "for hands in range(N):\n",
        "    # shuffle the cards\n",
        "    random.shuffle(deck)\n",
        "    aces = [d[0] for d in deck[0:2]].count('A')\n",
        "    if aces == 1:\n",
        "        double_aces+=1\n",
        "prob = double_aces/N\n",
        "prob"
      ],
      "execution_count": 221,
      "outputs": [
        {
          "output_type": "execute_result",
          "data": {
            "text/plain": [
              "0.117666"
            ]
          },
          "metadata": {
            "tags": []
          },
          "execution_count": 221
        }
      ]
    },
    {
      "cell_type": "code",
      "metadata": {
        "id": "BvHDg4NibIGs"
      },
      "source": [
        "random.shuffle(deck)"
      ],
      "execution_count": 164,
      "outputs": []
    },
    {
      "cell_type": "code",
      "metadata": {
        "id": "1wwa9ZPqb-Ej"
      },
      "source": [
        "N = 1000\n",
        "double_aces = 0\n",
        "for hands in range(N):\n",
        "    # shuffle the cards\n",
        "    random.shuffle(deck)\n",
        "    aces = [d[0] for d in deck[0:2]].count('Diamond')\n",
        "    if aces == 1:\n",
        "        print(\"HEArt\")\n",
        "    print(\"HEArt\")"
      ],
      "execution_count": null,
      "outputs": []
    },
    {
      "cell_type": "markdown",
      "metadata": {
        "id": "moz4W2Ufmg7L"
      },
      "source": [
        "#### Exercise 9: which is the probability of drawing a face card (such as Jacks, Queens, or Kings)?"
      ]
    },
    {
      "cell_type": "code",
      "metadata": {
        "deletable": false,
        "nbgrader": {
          "cell_type": "code",
          "checksum": "ecbb9fcd5df828494a1215f36a5dc6d2",
          "grade": false,
          "grade_id": "cell-fc4fcd733d3e1ca7",
          "locked": false,
          "schema_version": 3,
          "solution": true,
          "task": false
        },
        "id": "lev8a19Qmg7M"
      },
      "source": [
        "# Using the previously defined function: Determine the probability of drawing a face card\n",
        "\n",
        "# YOUR CODE HERE\n",
        "sol= 12/52"
      ],
      "execution_count": 304,
      "outputs": []
    },
    {
      "cell_type": "code",
      "metadata": {
        "deletable": false,
        "editable": false,
        "nbgrader": {
          "cell_type": "code",
          "checksum": "48c66896a88667f97093e50b05e4e811",
          "grade": true,
          "grade_id": "cell-f17c3aa2f33022be",
          "locked": true,
          "points": 1,
          "schema_version": 3,
          "solution": false,
          "task": false
        },
        "id": "XArdTQBlmg7M"
      },
      "source": [
        "assert abs(sol-0.231 ) < 0.01"
      ],
      "execution_count": 305,
      "outputs": []
    },
    {
      "cell_type": "markdown",
      "metadata": {
        "id": "93KmsV5smg7M"
      },
      "source": [
        "#### Exercise 10: which is the probability of drawing a face card which is also a Heart?"
      ]
    },
    {
      "cell_type": "code",
      "metadata": {
        "deletable": false,
        "nbgrader": {
          "cell_type": "code",
          "checksum": "9669ca6fd185e41f0bd534eef82cd7bf",
          "grade": false,
          "grade_id": "cell-c50a860ddb2f18f9",
          "locked": false,
          "schema_version": 3,
          "solution": true,
          "task": false
        },
        "id": "FHVmrpGzmg7M"
      },
      "source": [
        "# Using the previously defined function: Determine the probability of drawing the jack, queen or king  of hearts\n",
        "# YOUR CODE HERE\n",
        "sol = 3/52"
      ],
      "execution_count": 306,
      "outputs": []
    },
    {
      "cell_type": "code",
      "metadata": {
        "deletable": false,
        "editable": false,
        "nbgrader": {
          "cell_type": "code",
          "checksum": "eedcc36846411cf784ec8076f41c11ff",
          "grade": true,
          "grade_id": "cell-dcd84807c13f2154",
          "locked": true,
          "points": 1,
          "schema_version": 3,
          "solution": false,
          "task": false
        },
        "id": "J1o-7Zotmg7N"
      },
      "source": [
        "assert abs(sol-0.058 ) < 0.01"
      ],
      "execution_count": 307,
      "outputs": []
    },
    {
      "cell_type": "markdown",
      "metadata": {
        "id": "0AcHrsL4mg7N"
      },
      "source": [
        "#### Exercise 11: which is the probability of drawing an Ace on the second draw, if the first card drawn was a King?"
      ]
    },
    {
      "cell_type": "code",
      "metadata": {
        "deletable": false,
        "nbgrader": {
          "cell_type": "code",
          "checksum": "234cb4223c601ce08bb7f52d89c70081",
          "grade": false,
          "grade_id": "cell-c953e962deacd22d",
          "locked": false,
          "schema_version": 3,
          "solution": true,
          "task": false
        },
        "id": "_amu-M80mg7N"
      },
      "source": [
        "# Using the previously defined function: Determine the probability of drawing an Ace after drawing a King on the first draw\n",
        "\n",
        "\n",
        "# YOUR CODE HERE\n",
        "sol = 4/51"
      ],
      "execution_count": 308,
      "outputs": []
    },
    {
      "cell_type": "code",
      "metadata": {
        "deletable": false,
        "editable": false,
        "nbgrader": {
          "cell_type": "code",
          "checksum": "12ca141c71f705c7b1e5667a892f879c",
          "grade": true,
          "grade_id": "cell-c0fd1832c0fa3b01",
          "locked": true,
          "points": 1,
          "schema_version": 3,
          "solution": false,
          "task": false
        },
        "id": "kL6tfQADmg7N"
      },
      "source": [
        "assert abs(sol-0.078 ) < 0.01"
      ],
      "execution_count": 309,
      "outputs": []
    },
    {
      "cell_type": "markdown",
      "metadata": {
        "id": "6EQ5b3E5mg7O"
      },
      "source": [
        "#### Exercise 12: which is the probability of drawing an Ace on the second draw, if the first card drawn was an Ace?"
      ]
    },
    {
      "cell_type": "code",
      "metadata": {
        "deletable": false,
        "nbgrader": {
          "cell_type": "code",
          "checksum": "fa3f03da3d2969f08347a8219e30c37a",
          "grade": false,
          "grade_id": "cell-899b031f866ba3b2",
          "locked": false,
          "schema_version": 3,
          "solution": true,
          "task": false
        },
        "id": "9d2YrdrWmg7O"
      },
      "source": [
        "# Using the previously defined function: Determine the probability of drawing an Ace after drawing an Ace on the first draw\n",
        "\n",
        "# YOUR CODE HERE\n",
        "raise NotImplementedError()"
      ],
      "execution_count": null,
      "outputs": []
    },
    {
      "cell_type": "code",
      "metadata": {
        "deletable": false,
        "editable": false,
        "nbgrader": {
          "cell_type": "code",
          "checksum": "e5f9d7129b1a72ed7ee2cd3672e8b99d",
          "grade": true,
          "grade_id": "cell-9109c59db8e329c8",
          "locked": true,
          "points": 1,
          "schema_version": 3,
          "solution": false,
          "task": false
        },
        "id": "tqHI5JjUmg7O"
      },
      "source": [
        "assert abs(sol-0.059) < 0.01"
      ],
      "execution_count": null,
      "outputs": []
    },
    {
      "cell_type": "markdown",
      "metadata": {
        "id": "b0tAwY5bmg7P"
      },
      "source": [
        "Now consider the following situation:\n",
        "\n",
        "You are playing Poker in the [Texas Holdem variant](https://en.wikipedia.org/wiki/Texas_hold_%27em). In case you are not familiar, it is a variant of poker in which each player has two cards and there is a set of community cards to play from. \n",
        "![image.png](attachment:image.png)"
      ]
    },
    {
      "cell_type": "markdown",
      "metadata": {
        "id": "gBSmxk3Qmg7P"
      },
      "source": [
        "#### Exercise 13: what is the probability that the next card drawn will be a Diamond card?"
      ]
    },
    {
      "cell_type": "code",
      "metadata": {
        "deletable": false,
        "nbgrader": {
          "cell_type": "code",
          "checksum": "ec2c2ce83b2175f2a1a9986996fe4398",
          "grade": false,
          "grade_id": "cell-17b8aec4013e6b9c",
          "locked": false,
          "schema_version": 3,
          "solution": true,
          "task": false
        },
        "id": "sqSI7Up4mg7P"
      },
      "source": [
        "# Sample Space\n",
        "cards = 52\n",
        "player_cards = 2\n",
        "turn_community_cards = 4\n",
        "# YOUR CODE HERE\n",
        "raise NotImplementedError()"
      ],
      "execution_count": null,
      "outputs": []
    },
    {
      "cell_type": "code",
      "metadata": {
        "deletable": false,
        "editable": false,
        "nbgrader": {
          "cell_type": "code",
          "checksum": "756e81e0fdc5a32be37a25d0d9c5c250",
          "grade": true,
          "grade_id": "cell-ebe4abfecd5e8690",
          "locked": true,
          "points": 1,
          "schema_version": 3,
          "solution": false,
          "task": false
        },
        "id": "MyswZCmNmg7P"
      },
      "source": [
        "assert abs(sol-0.196) < 0.01"
      ],
      "execution_count": null,
      "outputs": []
    },
    {
      "cell_type": "markdown",
      "metadata": {
        "id": "CLASNjoGmg7Q"
      },
      "source": [
        "Now consider the following situation:\n",
        "![image.png](attachment:image.png)"
      ]
    },
    {
      "cell_type": "markdown",
      "metadata": {
        "id": "drZ-TsBXmg7Q"
      },
      "source": [
        "#### Exercise 14: which is the probability that with the next card drawn there will be five cards in sequential order? \n",
        "\n",
        "(Notice that any Eight ( 8, 9, 10, Jack, Queen) or any King (9, 10, Jack, Queen, King) will complete the straight)"
      ]
    },
    {
      "cell_type": "code",
      "metadata": {
        "deletable": false,
        "nbgrader": {
          "cell_type": "code",
          "checksum": "fd4058cda5116880eef40aa7789067b1",
          "grade": false,
          "grade_id": "cell-f05c41e0e869e186",
          "locked": false,
          "schema_version": 3,
          "solution": true,
          "task": false
        },
        "id": "RnOmwyeHmg7R"
      },
      "source": [
        "# Sample Space\n",
        "cards = 52\n",
        "player_cards = 2\n",
        "turn_community_cards = 4\n",
        "\n",
        "# YOUR CODE HERE\n",
        "raise NotImplementedError()"
      ],
      "execution_count": null,
      "outputs": []
    },
    {
      "cell_type": "code",
      "metadata": {
        "deletable": false,
        "editable": false,
        "nbgrader": {
          "cell_type": "code",
          "checksum": "fff1dae11dacb0907d324307f22ee39d",
          "grade": true,
          "grade_id": "cell-e46db60e9b2dfa4f",
          "locked": true,
          "points": 1,
          "schema_version": 3,
          "solution": false,
          "task": false
        },
        "id": "3B3aMm4Smg7S"
      },
      "source": [
        "assert abs(sol-0.174) < 0.01"
      ],
      "execution_count": null,
      "outputs": []
    },
    {
      "cell_type": "markdown",
      "metadata": {
        "id": "UXRAnn8wmg7S"
      },
      "source": [
        "## Now, we keep playing Texas Holdem \n",
        "![](https://media.giphy.com/media/EQBsWLfdxHW01Y1OHK/giphy.gif)\n",
        "### But looking only at the cards we could have in our hand\n",
        "### (2 possible drawing events, ignore community cards)\n",
        "#### Exercise 15: which is the probability of drawing a heart OR drawing a club?"
      ]
    },
    {
      "cell_type": "code",
      "metadata": {
        "deletable": false,
        "nbgrader": {
          "cell_type": "code",
          "checksum": "f68ad264c169753b051d3e63ea8d8be0",
          "grade": false,
          "grade_id": "cell-5b6c82ce08d8c47f",
          "locked": false,
          "schema_version": 3,
          "solution": true,
          "task": false
        },
        "id": "mwgjQC0xmg7T"
      },
      "source": [
        "# Calculate the probability of drawing a heart or a club\n",
        "# YOUR CODE HERE\n",
        "raise NotImplementedError()\n",
        "sol\n"
      ],
      "execution_count": null,
      "outputs": []
    },
    {
      "cell_type": "code",
      "metadata": {
        "deletable": false,
        "editable": false,
        "nbgrader": {
          "cell_type": "code",
          "checksum": "3cc558ba56a2dfe83f6ae2cc1a506fb2",
          "grade": true,
          "grade_id": "cell-dedacb0828533e9c",
          "locked": true,
          "points": 1,
          "schema_version": 3,
          "solution": false,
          "task": false
        },
        "id": "Ka7KHv6vmg7T"
      },
      "source": [
        "assert abs(sol-0.755) < 0.01"
      ],
      "execution_count": null,
      "outputs": []
    },
    {
      "cell_type": "markdown",
      "metadata": {
        "id": "39Afz5ygmg7W"
      },
      "source": [
        "#### Exercise 16: which is the probability of drawing an ace, a king or a queen?"
      ]
    },
    {
      "cell_type": "code",
      "metadata": {
        "deletable": false,
        "nbgrader": {
          "cell_type": "code",
          "checksum": "c6932d09078beb0ab84b632362b58892",
          "grade": false,
          "grade_id": "cell-0b50174237f37b03",
          "locked": false,
          "schema_version": 3,
          "solution": true,
          "task": false
        },
        "id": "QoX6ESjtmg7X"
      },
      "source": [
        "# Calculate the probability of drawing an ace, king, or a queen\n",
        "# YOUR CODE HERE\n",
        "sol = 12/52"
      ],
      "execution_count": 359,
      "outputs": []
    },
    {
      "cell_type": "code",
      "metadata": {
        "deletable": false,
        "editable": false,
        "nbgrader": {
          "cell_type": "code",
          "checksum": "3628cc71fe5948228e7eba7948f5434d",
          "grade": true,
          "grade_id": "cell-1c3bec1e6a4f0726",
          "locked": true,
          "points": 1,
          "schema_version": 3,
          "solution": false,
          "task": false
        },
        "id": "fW8Y8EYjmg7Y",
        "outputId": "0ad118d4-69c8-4661-d0bd-5088a6c8c236",
        "colab": {
          "base_uri": "https://localhost:8080/",
          "height": 167
        }
      },
      "source": [
        "assert abs(sol-0.41171499999999994) < 0.01"
      ],
      "execution_count": 360,
      "outputs": [
        {
          "output_type": "error",
          "ename": "AssertionError",
          "evalue": "ignored",
          "traceback": [
            "\u001b[0;31m---------------------------------------------------------------------------\u001b[0m",
            "\u001b[0;31mAssertionError\u001b[0m                            Traceback (most recent call last)",
            "\u001b[0;32m<ipython-input-360-f6f74afa83b0>\u001b[0m in \u001b[0;36m<module>\u001b[0;34m()\u001b[0m\n\u001b[0;32m----> 1\u001b[0;31m \u001b[0;32massert\u001b[0m \u001b[0mabs\u001b[0m\u001b[0;34m(\u001b[0m\u001b[0msol\u001b[0m\u001b[0;34m-\u001b[0m\u001b[0;36m0.41171499999999994\u001b[0m\u001b[0;34m)\u001b[0m \u001b[0;34m<\u001b[0m \u001b[0;36m0.01\u001b[0m\u001b[0;34m\u001b[0m\u001b[0;34m\u001b[0m\u001b[0m\n\u001b[0m",
            "\u001b[0;31mAssertionError\u001b[0m: "
          ]
        }
      ]
    },
    {
      "cell_type": "markdown",
      "metadata": {
        "id": "AnfyYuxomg7Y"
      },
      "source": [
        "#### Exercise 17: which is the probability of drawing a heart or an ace?"
      ]
    },
    {
      "cell_type": "code",
      "metadata": {
        "deletable": false,
        "nbgrader": {
          "cell_type": "code",
          "checksum": "5edf1bc7e82a89d77a3ede4255b85997",
          "grade": false,
          "grade_id": "cell-3ff5cdeedc739059",
          "locked": false,
          "schema_version": 3,
          "solution": true,
          "task": false
        },
        "id": "aK6bXQmMmg7Y",
        "outputId": "58919efc-a2c0-4ef2-ca62-d47588de8047",
        "colab": {
          "base_uri": "https://localhost:8080/"
        }
      },
      "source": [
        "# Calculate the probability of drawing a heart or an ace\n",
        "# YOUR CODE HERE\n",
        "sol = (13+4-1)/52\n",
        "sol"
      ],
      "execution_count": 357,
      "outputs": [
        {
          "output_type": "execute_result",
          "data": {
            "text/plain": [
              "0.3076923076923077"
            ]
          },
          "metadata": {
            "tags": []
          },
          "execution_count": 357
        }
      ]
    },
    {
      "cell_type": "code",
      "metadata": {
        "deletable": false,
        "editable": false,
        "nbgrader": {
          "cell_type": "code",
          "checksum": "67e592333b8ab3fcc55bb59f8651caa3",
          "grade": true,
          "grade_id": "cell-a74509b22cdaf4bd",
          "locked": true,
          "points": 1,
          "schema_version": 3,
          "solution": false,
          "task": false
        },
        "id": "tr2HVkg0mg7Z",
        "outputId": "e3f209f6-14b3-439b-826c-03eb42bbb5a4",
        "colab": {
          "base_uri": "https://localhost:8080/",
          "height": 167
        }
      },
      "source": [
        "assert abs(sol-0.525288) < 0.01"
      ],
      "execution_count": 358,
      "outputs": [
        {
          "output_type": "error",
          "ename": "AssertionError",
          "evalue": "ignored",
          "traceback": [
            "\u001b[0;31m---------------------------------------------------------------------------\u001b[0m",
            "\u001b[0;31mAssertionError\u001b[0m                            Traceback (most recent call last)",
            "\u001b[0;32m<ipython-input-358-de876bc4c874>\u001b[0m in \u001b[0;36m<module>\u001b[0;34m()\u001b[0m\n\u001b[0;32m----> 1\u001b[0;31m \u001b[0;32massert\u001b[0m \u001b[0mabs\u001b[0m\u001b[0;34m(\u001b[0m\u001b[0msol\u001b[0m\u001b[0;34m-\u001b[0m\u001b[0;36m0.525288\u001b[0m\u001b[0;34m)\u001b[0m \u001b[0;34m<\u001b[0m \u001b[0;36m0.01\u001b[0m\u001b[0;34m\u001b[0m\u001b[0;34m\u001b[0m\u001b[0m\n\u001b[0m",
            "\u001b[0;31mAssertionError\u001b[0m: "
          ]
        }
      ]
    },
    {
      "cell_type": "markdown",
      "metadata": {
        "id": "S22nJb9Hmg7Z"
      },
      "source": [
        "#### Exercise 18: which is the probability of drawing a red card or drawing a face card?"
      ]
    },
    {
      "cell_type": "code",
      "metadata": {
        "deletable": false,
        "nbgrader": {
          "cell_type": "code",
          "checksum": "b87522461ae9c12b6c6e7190fcd7674d",
          "grade": false,
          "grade_id": "cell-9c43e1f91aac785f",
          "locked": false,
          "schema_version": 3,
          "solution": true,
          "task": false
        },
        "id": "p0hDSZbxmg8t",
        "outputId": "93ad927d-9ab6-4dae-c679-8965dae024ed",
        "colab": {
          "base_uri": "https://localhost:8080/"
        }
      },
      "source": [
        "# Calculate the probability of drawing a red card or a face card\n",
        "\n",
        "# YOUR CODE HERE\n",
        "sol = (26+12-6)/52\n",
        "sol"
      ],
      "execution_count": 355,
      "outputs": [
        {
          "output_type": "execute_result",
          "data": {
            "text/plain": [
              "0.6153846153846154"
            ]
          },
          "metadata": {
            "tags": []
          },
          "execution_count": 355
        }
      ]
    },
    {
      "cell_type": "code",
      "metadata": {
        "deletable": false,
        "editable": false,
        "nbgrader": {
          "cell_type": "code",
          "checksum": "82f6de4209429091bcb59c905a5e7db9",
          "grade": true,
          "grade_id": "cell-47f891a62515e8d4",
          "locked": true,
          "points": 1,
          "schema_version": 3,
          "solution": false,
          "task": false
        },
        "id": "UmWB6qFumg8w",
        "outputId": "0406dedd-e77c-487d-99d2-6f4eb743850e",
        "colab": {
          "base_uri": "https://localhost:8080/",
          "height": 167
        }
      },
      "source": [
        "assert abs(sol-0.856395) < 0.01"
      ],
      "execution_count": 356,
      "outputs": [
        {
          "output_type": "error",
          "ename": "AssertionError",
          "evalue": "ignored",
          "traceback": [
            "\u001b[0;31m---------------------------------------------------------------------------\u001b[0m",
            "\u001b[0;31mAssertionError\u001b[0m                            Traceback (most recent call last)",
            "\u001b[0;32m<ipython-input-356-a5cb34159255>\u001b[0m in \u001b[0;36m<module>\u001b[0;34m()\u001b[0m\n\u001b[0;32m----> 1\u001b[0;31m \u001b[0;32massert\u001b[0m \u001b[0mabs\u001b[0m\u001b[0;34m(\u001b[0m\u001b[0msol\u001b[0m\u001b[0;34m-\u001b[0m\u001b[0;36m0.856395\u001b[0m\u001b[0;34m)\u001b[0m \u001b[0;34m<\u001b[0m \u001b[0;36m0.01\u001b[0m\u001b[0;34m\u001b[0m\u001b[0;34m\u001b[0m\u001b[0m\n\u001b[0m",
            "\u001b[0;31mAssertionError\u001b[0m: "
          ]
        }
      ]
    },
    {
      "cell_type": "markdown",
      "metadata": {
        "id": "fC03ySrPmg8z"
      },
      "source": [
        "#### Exercise 19: which is the probability of drawing an Ace from a deck of cards, replacing it, reshuffling the deck, and drawing another Ace?"
      ]
    },
    {
      "cell_type": "code",
      "metadata": {
        "deletable": false,
        "nbgrader": {
          "cell_type": "code",
          "checksum": "a21f3711e715072fcf4245676d2ef938",
          "grade": false,
          "grade_id": "cell-18d5038a32ffeac9",
          "locked": false,
          "schema_version": 3,
          "solution": true,
          "task": false
        },
        "id": "UnhvdESJmg8z"
      },
      "source": [
        "# Sample Space\n",
        "cards = 52\n",
        "\n",
        "# Outcomes\n",
        "aces = 4\n",
        "\n",
        "# YOUR CODE HERE\n",
        "sol = (aces/cards)*(aces/cards)"
      ],
      "execution_count": 342,
      "outputs": []
    },
    {
      "cell_type": "code",
      "metadata": {
        "deletable": false,
        "editable": false,
        "nbgrader": {
          "cell_type": "code",
          "checksum": "8eb9ce68fd76ca02e4ffedd850a7e603",
          "grade": true,
          "grade_id": "cell-536e3de73c88e083",
          "locked": true,
          "points": 1,
          "schema_version": 3,
          "solution": false,
          "task": false
        },
        "id": "IXUgeYMTmg80"
      },
      "source": [
        "assert abs(sol-0.005929) < 0.001"
      ],
      "execution_count": 343,
      "outputs": []
    },
    {
      "cell_type": "markdown",
      "metadata": {
        "id": "1CwARSkNmg81"
      },
      "source": [
        "#### Exercise 20: which is the probability of being dealt two Aces (drawing one Ace after the other starting with a full deck)?"
      ]
    },
    {
      "cell_type": "code",
      "metadata": {
        "deletable": false,
        "nbgrader": {
          "cell_type": "code",
          "checksum": "36f83abcab2e34194ee7339a7687fb5d",
          "grade": false,
          "grade_id": "cell-9ec7e543991e2e7c",
          "locked": false,
          "schema_version": 3,
          "solution": true,
          "task": false
        },
        "id": "EFjmO6hHmg83"
      },
      "source": [
        "# Sample Space first draw\n",
        "cards = 52\n",
        "\n",
        "# Outcomes first draw\n",
        "aces = 4\n",
        "\n",
        "# YOUR CODE HERE\n",
        "sol = round((aces/cards)*((aces-1)/(cards-1)),3)"
      ],
      "execution_count": 340,
      "outputs": []
    },
    {
      "cell_type": "code",
      "metadata": {
        "deletable": false,
        "editable": false,
        "nbgrader": {
          "cell_type": "code",
          "checksum": "4dacaae00d1222957a4d7ec6a6c1748e",
          "grade": true,
          "grade_id": "cell-0651acc2d4c97ad3",
          "locked": true,
          "points": 1,
          "schema_version": 3,
          "solution": false,
          "task": false
        },
        "id": "r4jpNW1bmg83"
      },
      "source": [
        "assert abs(sol-0.004542999999999999) < 0.001"
      ],
      "execution_count": 341,
      "outputs": []
    },
    {
      "cell_type": "markdown",
      "metadata": {
        "id": "b1VQma2img84"
      },
      "source": [
        "### Permutations and combinations"
      ]
    },
    {
      "cell_type": "markdown",
      "metadata": {
        "id": "20g4nK9qmg84"
      },
      "source": [
        "#### Exercise 21: How many different 5-letter arrangements are there of the letters in the word morse?"
      ]
    },
    {
      "cell_type": "code",
      "metadata": {
        "deletable": false,
        "nbgrader": {
          "cell_type": "code",
          "checksum": "4043edd3b7280831dffe83277d53579d",
          "grade": false,
          "grade_id": "cell-5d16f7fa95eb0955",
          "locked": false,
          "schema_version": 3,
          "solution": true,
          "task": false
        },
        "id": "3keXAWSFmg85"
      },
      "source": [
        "import math\n",
        "sol = 0\n",
        "# YOUR CODE HERE\n",
        "sol = 5*4*3*2*1"
      ],
      "execution_count": 329,
      "outputs": []
    },
    {
      "cell_type": "code",
      "metadata": {
        "deletable": false,
        "editable": false,
        "nbgrader": {
          "cell_type": "code",
          "checksum": "2b7ac1eb0e11f7e443cfc6290dcccedd",
          "grade": true,
          "grade_id": "cell-290944fdf9fb212b",
          "locked": true,
          "points": 1,
          "schema_version": 3,
          "solution": false,
          "task": false
        },
        "id": "pTC3Jwoamg85"
      },
      "source": [
        "assert sol == 120"
      ],
      "execution_count": 330,
      "outputs": []
    },
    {
      "cell_type": "markdown",
      "metadata": {
        "id": "DBmK4yu6mg86"
      },
      "source": [
        "#### Exercise 22: How many different seven-letter arrangements of the letters in the word HEXAGON can be made if each letter is used only once?"
      ]
    },
    {
      "cell_type": "code",
      "metadata": {
        "deletable": false,
        "nbgrader": {
          "cell_type": "code",
          "checksum": "08fb1d68735a4cc34ff629be615de787",
          "grade": false,
          "grade_id": "cell-2b2af5a344e47a8b",
          "locked": false,
          "schema_version": 3,
          "solution": true,
          "task": false
        },
        "id": "dP_WFsjRmg86"
      },
      "source": [
        "# YOUR CODE HERE should go with 7!\n",
        "sol = 7*6*5*4*3*2*1"
      ],
      "execution_count": 332,
      "outputs": []
    },
    {
      "cell_type": "code",
      "metadata": {
        "deletable": false,
        "editable": false,
        "nbgrader": {
          "cell_type": "code",
          "checksum": "a1c691147ff054172038dc9d28650cd0",
          "grade": true,
          "grade_id": "cell-9eed40b79a9bc42b",
          "locked": true,
          "points": 1,
          "schema_version": 3,
          "solution": false,
          "task": false
        },
        "id": "Pm2zrPxEmg87"
      },
      "source": [
        "assert sol == 5040"
      ],
      "execution_count": 333,
      "outputs": []
    },
    {
      "cell_type": "markdown",
      "metadata": {
        "id": "AIZWF3aMmg87"
      },
      "source": [
        "#### Exercise 23: Two cards are drawn at random from a standard deck of cards, without replacement. Find the probability of drawing an 8 and a queen in that order."
      ]
    },
    {
      "cell_type": "code",
      "metadata": {
        "deletable": false,
        "nbgrader": {
          "cell_type": "code",
          "checksum": "dc1c1dcb93108518e5548db1e0615b0a",
          "grade": false,
          "grade_id": "cell-0772318d22f07226",
          "locked": false,
          "schema_version": 3,
          "solution": true,
          "task": false
        },
        "id": "rr4W8duvmg88"
      },
      "source": [
        "# YOUR CODE HERE\n",
        "sol = (4/52)*(4/51)"
      ],
      "execution_count": 324,
      "outputs": []
    },
    {
      "cell_type": "code",
      "metadata": {
        "deletable": false,
        "editable": false,
        "nbgrader": {
          "cell_type": "code",
          "checksum": "c5c5a1f2cea0046812e93dea9452f7a2",
          "grade": true,
          "grade_id": "cell-a85db4f2cf65b50d",
          "locked": true,
          "points": 1,
          "schema_version": 3,
          "solution": false,
          "task": false
        },
        "id": "iQsu3_tnmg88"
      },
      "source": [
        "assert abs(sol-0.006006) < 0.001"
      ],
      "execution_count": 322,
      "outputs": []
    },
    {
      "cell_type": "code",
      "metadata": {
        "id": "pruEYWeY8U4Z"
      },
      "source": [
        ""
      ],
      "execution_count": null,
      "outputs": []
    }
  ]
}